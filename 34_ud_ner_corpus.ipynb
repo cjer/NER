{
 "cells": [
  {
   "cell_type": "code",
   "execution_count": 6,
   "metadata": {},
   "outputs": [],
   "source": [
    "%load_ext autoreload\n",
    "%autoreload 2"
   ]
  },
  {
   "cell_type": "code",
   "execution_count": 7,
   "metadata": {
    "ExecuteTime": {
     "end_time": "2019-03-13T07:20:24.034028Z",
     "start_time": "2019-03-13T07:20:22.687626Z"
    }
   },
   "outputs": [],
   "source": [
    "%matplotlib inline"
   ]
  },
  {
   "cell_type": "code",
   "execution_count": 8,
   "metadata": {
    "ExecuteTime": {
     "end_time": "2019-03-13T07:20:24.382406Z",
     "start_time": "2019-03-13T07:20:24.037019Z"
    }
   },
   "outputs": [],
   "source": [
    "import pandas as pd\n",
    "import numpy as np"
   ]
  },
  {
   "cell_type": "code",
   "execution_count": 9,
   "metadata": {},
   "outputs": [],
   "source": [
    "import bclm"
   ]
  },
  {
   "cell_type": "code",
   "execution_count": 10,
   "metadata": {},
   "outputs": [],
   "source": [
    "dropped = [5438, 5444, 5445, 5446, 5448, 5449, 5450, 5451, 5453, 5459]\n",
    "spdf = bclm.read_dataframe('spmrl')"
   ]
  },
  {
   "cell_type": "code",
   "execution_count": null,
   "metadata": {},
   "outputs": [],
   "source": []
  },
  {
   "cell_type": "code",
   "execution_count": 11,
   "metadata": {},
   "outputs": [
    {
     "data": {
      "text/plain": [
       "[5438, 5444, 5445, 5446, 5448, 5449, 5450, 5451, 5453, 5459]"
      ]
     },
     "execution_count": 11,
     "metadata": {},
     "output_type": "execute_result"
    }
   ],
   "source": [
    "global_dropped = [spdf[spdf.sent_id==d].global_sent_id.iat[0] for d in dropped]\n",
    "global_dropped"
   ]
  },
  {
   "cell_type": "code",
   "execution_count": 35,
   "metadata": {},
   "outputs": [
    {
     "data": {
      "text/html": [
       "<div>\n",
       "<style scoped>\n",
       "    .dataframe tbody tr th:only-of-type {\n",
       "        vertical-align: middle;\n",
       "    }\n",
       "\n",
       "    .dataframe tbody tr th {\n",
       "        vertical-align: top;\n",
       "    }\n",
       "\n",
       "    .dataframe thead th {\n",
       "        text-align: right;\n",
       "    }\n",
       "</style>\n",
       "<table border=\"1\" class=\"dataframe\">\n",
       "  <thead>\n",
       "    <tr style=\"text-align: right;\">\n",
       "      <th></th>\n",
       "      <th>0</th>\n",
       "      <th>1</th>\n",
       "      <th>2</th>\n",
       "      <th>3</th>\n",
       "      <th>4</th>\n",
       "    </tr>\n",
       "  </thead>\n",
       "  <tbody>\n",
       "    <tr>\n",
       "      <td>id</td>\n",
       "      <td>1</td>\n",
       "      <td>2</td>\n",
       "      <td>3</td>\n",
       "      <td>4</td>\n",
       "      <td>5</td>\n",
       "    </tr>\n",
       "    <tr>\n",
       "      <td>form</td>\n",
       "      <td>עשרות</td>\n",
       "      <td>אנשים</td>\n",
       "      <td>מגיעים</td>\n",
       "      <td>מ</td>\n",
       "      <td>תאילנד</td>\n",
       "    </tr>\n",
       "    <tr>\n",
       "      <td>lemma</td>\n",
       "      <td>עשר</td>\n",
       "      <td>איש</td>\n",
       "      <td>הגיע</td>\n",
       "      <td>מ</td>\n",
       "      <td>תאילנד</td>\n",
       "    </tr>\n",
       "    <tr>\n",
       "      <td>upostag</td>\n",
       "      <td>CDT</td>\n",
       "      <td>NN</td>\n",
       "      <td>BN</td>\n",
       "      <td>PREPOSITION</td>\n",
       "      <td>NNP</td>\n",
       "    </tr>\n",
       "    <tr>\n",
       "      <td>xpostag</td>\n",
       "      <td>CDT</td>\n",
       "      <td>NN</td>\n",
       "      <td>BN</td>\n",
       "      <td>PREPOSITION</td>\n",
       "      <td>NNP</td>\n",
       "    </tr>\n",
       "    <tr>\n",
       "      <td>feats</td>\n",
       "      <td>gen=F|num=P</td>\n",
       "      <td>gen=M|num=P</td>\n",
       "      <td>gen=M|num=P|per=A|HebBinyan=HIFIL</td>\n",
       "      <td>_</td>\n",
       "      <td>_</td>\n",
       "    </tr>\n",
       "    <tr>\n",
       "      <td>token_id</td>\n",
       "      <td>1</td>\n",
       "      <td>2</td>\n",
       "      <td>3</td>\n",
       "      <td>4</td>\n",
       "      <td>4</td>\n",
       "    </tr>\n",
       "    <tr>\n",
       "      <td>sent_id</td>\n",
       "      <td>1</td>\n",
       "      <td>1</td>\n",
       "      <td>1</td>\n",
       "      <td>1</td>\n",
       "      <td>1</td>\n",
       "    </tr>\n",
       "    <tr>\n",
       "      <td>token_str</td>\n",
       "      <td>עשרות</td>\n",
       "      <td>אנשים</td>\n",
       "      <td>מגיעים</td>\n",
       "      <td>מתאילנד</td>\n",
       "      <td>מתאילנד</td>\n",
       "    </tr>\n",
       "    <tr>\n",
       "      <td>global_sent_id</td>\n",
       "      <td>1</td>\n",
       "      <td>1</td>\n",
       "      <td>1</td>\n",
       "      <td>1</td>\n",
       "      <td>1</td>\n",
       "    </tr>\n",
       "    <tr>\n",
       "      <td>token_morph_id</td>\n",
       "      <td>0</td>\n",
       "      <td>0</td>\n",
       "      <td>0</td>\n",
       "      <td>0</td>\n",
       "      <td>1</td>\n",
       "    </tr>\n",
       "    <tr>\n",
       "      <td>binyan</td>\n",
       "      <td>---</td>\n",
       "      <td>---</td>\n",
       "      <td>HIFIL</td>\n",
       "      <td>---</td>\n",
       "      <td>---</td>\n",
       "    </tr>\n",
       "    <tr>\n",
       "      <td>biose</td>\n",
       "      <td>O</td>\n",
       "      <td>O</td>\n",
       "      <td>O</td>\n",
       "      <td>O</td>\n",
       "      <td>S-GPE</td>\n",
       "    </tr>\n",
       "    <tr>\n",
       "      <td>ner_layers</td>\n",
       "      <td>0</td>\n",
       "      <td>0</td>\n",
       "      <td>0</td>\n",
       "      <td>0</td>\n",
       "      <td>1</td>\n",
       "    </tr>\n",
       "    <tr>\n",
       "      <td>ner</td>\n",
       "      <td>_</td>\n",
       "      <td>_</td>\n",
       "      <td>_</td>\n",
       "      <td>_</td>\n",
       "      <td>GPE</td>\n",
       "    </tr>\n",
       "    <tr>\n",
       "      <td>head</td>\n",
       "      <td>2</td>\n",
       "      <td>3</td>\n",
       "      <td>0</td>\n",
       "      <td>3</td>\n",
       "      <td>4</td>\n",
       "    </tr>\n",
       "    <tr>\n",
       "      <td>deprel</td>\n",
       "      <td>num</td>\n",
       "      <td>subj</td>\n",
       "      <td>ROOT</td>\n",
       "      <td>prepmod</td>\n",
       "      <td>pobj</td>\n",
       "    </tr>\n",
       "    <tr>\n",
       "      <td>deps</td>\n",
       "      <td>_</td>\n",
       "      <td>_</td>\n",
       "      <td>_</td>\n",
       "      <td>_</td>\n",
       "      <td>_</td>\n",
       "    </tr>\n",
       "    <tr>\n",
       "      <td>misc</td>\n",
       "      <td>_</td>\n",
       "      <td>_</td>\n",
       "      <td>_</td>\n",
       "      <td>_</td>\n",
       "      <td>_</td>\n",
       "    </tr>\n",
       "    <tr>\n",
       "      <td>ner_escaped</td>\n",
       "      <td>_</td>\n",
       "      <td>_</td>\n",
       "      <td>_</td>\n",
       "      <td>_</td>\n",
       "      <td>GPE</td>\n",
       "    </tr>\n",
       "    <tr>\n",
       "      <td>set</td>\n",
       "      <td>dev</td>\n",
       "      <td>dev</td>\n",
       "      <td>dev</td>\n",
       "      <td>dev</td>\n",
       "      <td>dev</td>\n",
       "    </tr>\n",
       "    <tr>\n",
       "      <td>duplicate_sent_id</td>\n",
       "      <td>NaN</td>\n",
       "      <td>NaN</td>\n",
       "      <td>NaN</td>\n",
       "      <td>NaN</td>\n",
       "      <td>NaN</td>\n",
       "    </tr>\n",
       "    <tr>\n",
       "      <td>very_similar_sent_id</td>\n",
       "      <td>NaN</td>\n",
       "      <td>NaN</td>\n",
       "      <td>NaN</td>\n",
       "      <td>NaN</td>\n",
       "      <td>NaN</td>\n",
       "    </tr>\n",
       "    <tr>\n",
       "      <td>biose_layer0</td>\n",
       "      <td>O</td>\n",
       "      <td>O</td>\n",
       "      <td>O</td>\n",
       "      <td>O</td>\n",
       "      <td>S-GPE</td>\n",
       "    </tr>\n",
       "    <tr>\n",
       "      <td>biose_layer1</td>\n",
       "      <td>O</td>\n",
       "      <td>O</td>\n",
       "      <td>O</td>\n",
       "      <td>O</td>\n",
       "      <td>O</td>\n",
       "    </tr>\n",
       "    <tr>\n",
       "      <td>biose_layer2</td>\n",
       "      <td>O</td>\n",
       "      <td>O</td>\n",
       "      <td>O</td>\n",
       "      <td>O</td>\n",
       "      <td>O</td>\n",
       "    </tr>\n",
       "    <tr>\n",
       "      <td>biose_layer3</td>\n",
       "      <td>O</td>\n",
       "      <td>O</td>\n",
       "      <td>O</td>\n",
       "      <td>O</td>\n",
       "      <td>O</td>\n",
       "    </tr>\n",
       "  </tbody>\n",
       "</table>\n",
       "</div>"
      ],
      "text/plain": [
       "                                0            1  \\\n",
       "id                              1            2   \n",
       "form                        עשרות        אנשים   \n",
       "lemma                         עשר          איש   \n",
       "upostag                       CDT           NN   \n",
       "xpostag                       CDT           NN   \n",
       "feats                 gen=F|num=P  gen=M|num=P   \n",
       "token_id                        1            2   \n",
       "sent_id                         1            1   \n",
       "token_str                   עשרות        אנשים   \n",
       "global_sent_id                  1            1   \n",
       "token_morph_id                  0            0   \n",
       "binyan                        ---          ---   \n",
       "biose                           O            O   \n",
       "ner_layers                      0            0   \n",
       "ner                             _            _   \n",
       "head                            2            3   \n",
       "deprel                        num         subj   \n",
       "deps                            _            _   \n",
       "misc                            _            _   \n",
       "ner_escaped                     _            _   \n",
       "set                           dev          dev   \n",
       "duplicate_sent_id             NaN          NaN   \n",
       "very_similar_sent_id          NaN          NaN   \n",
       "biose_layer0                    O            O   \n",
       "biose_layer1                    O            O   \n",
       "biose_layer2                    O            O   \n",
       "biose_layer3                    O            O   \n",
       "\n",
       "                                                      2            3        4  \n",
       "id                                                    3            4        5  \n",
       "form                                             מגיעים            מ   תאילנד  \n",
       "lemma                                              הגיע            מ   תאילנד  \n",
       "upostag                                              BN  PREPOSITION      NNP  \n",
       "xpostag                                              BN  PREPOSITION      NNP  \n",
       "feats                 gen=M|num=P|per=A|HebBinyan=HIFIL            _        _  \n",
       "token_id                                              3            4        4  \n",
       "sent_id                                               1            1        1  \n",
       "token_str                                        מגיעים      מתאילנד  מתאילנד  \n",
       "global_sent_id                                        1            1        1  \n",
       "token_morph_id                                        0            0        1  \n",
       "binyan                                            HIFIL          ---      ---  \n",
       "biose                                                 O            O    S-GPE  \n",
       "ner_layers                                            0            0        1  \n",
       "ner                                                   _            _      GPE  \n",
       "head                                                  0            3        4  \n",
       "deprel                                             ROOT      prepmod     pobj  \n",
       "deps                                                  _            _        _  \n",
       "misc                                                  _            _        _  \n",
       "ner_escaped                                           _            _      GPE  \n",
       "set                                                 dev          dev      dev  \n",
       "duplicate_sent_id                                   NaN          NaN      NaN  \n",
       "very_similar_sent_id                                NaN          NaN      NaN  \n",
       "biose_layer0                                          O            O    S-GPE  \n",
       "biose_layer1                                          O            O        O  \n",
       "biose_layer2                                          O            O        O  \n",
       "biose_layer3                                          O            O        O  "
      ]
     },
     "execution_count": 35,
     "metadata": {},
     "output_type": "execute_result"
    }
   ],
   "source": [
    "spdf.head().T"
   ]
  },
  {
   "cell_type": "code",
   "execution_count": 12,
   "metadata": {},
   "outputs": [],
   "source": [
    "uddf = bclm.read_dataframe('ud')"
   ]
  },
  {
   "cell_type": "code",
   "execution_count": 13,
   "metadata": {},
   "outputs": [],
   "source": [
    "uddf = uddf[(~uddf.global_sent_id.isin(global_dropped))]"
   ]
  },
  {
   "cell_type": "code",
   "execution_count": 14,
   "metadata": {},
   "outputs": [],
   "source": [
    "from collections import OrderedDict"
   ]
  },
  {
   "cell_type": "code",
   "execution_count": 15,
   "metadata": {},
   "outputs": [
    {
     "data": {
      "text/html": [
       "<div>\n",
       "<style scoped>\n",
       "    .dataframe tbody tr th:only-of-type {\n",
       "        vertical-align: middle;\n",
       "    }\n",
       "\n",
       "    .dataframe tbody tr th {\n",
       "        vertical-align: top;\n",
       "    }\n",
       "\n",
       "    .dataframe thead th {\n",
       "        text-align: right;\n",
       "    }\n",
       "</style>\n",
       "<table border=\"1\" class=\"dataframe\">\n",
       "  <thead>\n",
       "    <tr style=\"text-align: right;\">\n",
       "      <th></th>\n",
       "      <th>0</th>\n",
       "      <th>1</th>\n",
       "      <th>2</th>\n",
       "      <th>3</th>\n",
       "      <th>4</th>\n",
       "    </tr>\n",
       "  </thead>\n",
       "  <tbody>\n",
       "    <tr>\n",
       "      <td>sent_id</td>\n",
       "      <td>1</td>\n",
       "      <td>1</td>\n",
       "      <td>1</td>\n",
       "      <td>1</td>\n",
       "      <td>1</td>\n",
       "    </tr>\n",
       "    <tr>\n",
       "      <td>id</td>\n",
       "      <td>1</td>\n",
       "      <td>2</td>\n",
       "      <td>3</td>\n",
       "      <td>4</td>\n",
       "      <td>5</td>\n",
       "    </tr>\n",
       "    <tr>\n",
       "      <td>form</td>\n",
       "      <td>עשרות</td>\n",
       "      <td>אנשים</td>\n",
       "      <td>מגיעים</td>\n",
       "      <td>מ</td>\n",
       "      <td>תאילנד</td>\n",
       "    </tr>\n",
       "    <tr>\n",
       "      <td>lemma</td>\n",
       "      <td>עשרות</td>\n",
       "      <td>איש</td>\n",
       "      <td>הגיע</td>\n",
       "      <td>מ</td>\n",
       "      <td>תאילנד</td>\n",
       "    </tr>\n",
       "    <tr>\n",
       "      <td>upostag</td>\n",
       "      <td>NUM</td>\n",
       "      <td>NOUN</td>\n",
       "      <td>VERB</td>\n",
       "      <td>ADP</td>\n",
       "      <td>PROPN</td>\n",
       "    </tr>\n",
       "    <tr>\n",
       "      <td>xpostag</td>\n",
       "      <td>NUM</td>\n",
       "      <td>NOUN</td>\n",
       "      <td>VERB</td>\n",
       "      <td>ADP</td>\n",
       "      <td>PROPN</td>\n",
       "    </tr>\n",
       "    <tr>\n",
       "      <td>feats</td>\n",
       "      <td>OrderedDict([('Definite', 'Cons'), ('Gender', ...</td>\n",
       "      <td>OrderedDict([('Gender', 'Masc'), ('Number', 'P...</td>\n",
       "      <td>OrderedDict([('Gender', 'Masc'), ('HebBinyan',...</td>\n",
       "      <td>NaN</td>\n",
       "      <td>NaN</td>\n",
       "    </tr>\n",
       "    <tr>\n",
       "      <td>head</td>\n",
       "      <td>2</td>\n",
       "      <td>3</td>\n",
       "      <td>0</td>\n",
       "      <td>5</td>\n",
       "      <td>3</td>\n",
       "    </tr>\n",
       "    <tr>\n",
       "      <td>deprel</td>\n",
       "      <td>nummod</td>\n",
       "      <td>nsubj</td>\n",
       "      <td>root</td>\n",
       "      <td>case</td>\n",
       "      <td>obl</td>\n",
       "    </tr>\n",
       "    <tr>\n",
       "      <td>deps</td>\n",
       "      <td>NaN</td>\n",
       "      <td>NaN</td>\n",
       "      <td>NaN</td>\n",
       "      <td>NaN</td>\n",
       "      <td>NaN</td>\n",
       "    </tr>\n",
       "    <tr>\n",
       "      <td>misc</td>\n",
       "      <td>NaN</td>\n",
       "      <td>NaN</td>\n",
       "      <td>NaN</td>\n",
       "      <td>NaN</td>\n",
       "      <td>NaN</td>\n",
       "    </tr>\n",
       "    <tr>\n",
       "      <td>global_sent_id</td>\n",
       "      <td>1</td>\n",
       "      <td>1</td>\n",
       "      <td>1</td>\n",
       "      <td>1</td>\n",
       "      <td>1</td>\n",
       "    </tr>\n",
       "    <tr>\n",
       "      <td>token_id</td>\n",
       "      <td>1</td>\n",
       "      <td>2</td>\n",
       "      <td>3</td>\n",
       "      <td>4</td>\n",
       "      <td>4</td>\n",
       "    </tr>\n",
       "    <tr>\n",
       "      <td>token_str</td>\n",
       "      <td>עשרות</td>\n",
       "      <td>אנשים</td>\n",
       "      <td>מגיעים</td>\n",
       "      <td>מתאילנד</td>\n",
       "      <td>מתאילנד</td>\n",
       "    </tr>\n",
       "    <tr>\n",
       "      <td>token_morph_id</td>\n",
       "      <td>0</td>\n",
       "      <td>0</td>\n",
       "      <td>0</td>\n",
       "      <td>0</td>\n",
       "      <td>1</td>\n",
       "    </tr>\n",
       "    <tr>\n",
       "      <td>binyan</td>\n",
       "      <td>---</td>\n",
       "      <td>---</td>\n",
       "      <td>HIFIL</td>\n",
       "      <td>---</td>\n",
       "      <td>---</td>\n",
       "    </tr>\n",
       "    <tr>\n",
       "      <td>biose</td>\n",
       "      <td>O</td>\n",
       "      <td>O</td>\n",
       "      <td>O</td>\n",
       "      <td>O</td>\n",
       "      <td>S-GPE</td>\n",
       "    </tr>\n",
       "    <tr>\n",
       "      <td>ner</td>\n",
       "      <td>_</td>\n",
       "      <td>_</td>\n",
       "      <td>_</td>\n",
       "      <td>_</td>\n",
       "      <td>GPE</td>\n",
       "    </tr>\n",
       "    <tr>\n",
       "      <td>ner_layers</td>\n",
       "      <td>0</td>\n",
       "      <td>0</td>\n",
       "      <td>0</td>\n",
       "      <td>0</td>\n",
       "      <td>1</td>\n",
       "    </tr>\n",
       "    <tr>\n",
       "      <td>ner_escaped</td>\n",
       "      <td>_</td>\n",
       "      <td>_</td>\n",
       "      <td>_</td>\n",
       "      <td>_</td>\n",
       "      <td>GPE</td>\n",
       "    </tr>\n",
       "    <tr>\n",
       "      <td>duplicate_sent_id</td>\n",
       "      <td>NaN</td>\n",
       "      <td>NaN</td>\n",
       "      <td>NaN</td>\n",
       "      <td>NaN</td>\n",
       "      <td>NaN</td>\n",
       "    </tr>\n",
       "    <tr>\n",
       "      <td>very_similar_sent_id</td>\n",
       "      <td>NaN</td>\n",
       "      <td>NaN</td>\n",
       "      <td>NaN</td>\n",
       "      <td>NaN</td>\n",
       "      <td>NaN</td>\n",
       "    </tr>\n",
       "    <tr>\n",
       "      <td>biose_layer0</td>\n",
       "      <td>O</td>\n",
       "      <td>O</td>\n",
       "      <td>O</td>\n",
       "      <td>O</td>\n",
       "      <td>S-GPE</td>\n",
       "    </tr>\n",
       "    <tr>\n",
       "      <td>biose_layer1</td>\n",
       "      <td>O</td>\n",
       "      <td>O</td>\n",
       "      <td>O</td>\n",
       "      <td>O</td>\n",
       "      <td>O</td>\n",
       "    </tr>\n",
       "    <tr>\n",
       "      <td>biose_layer2</td>\n",
       "      <td>O</td>\n",
       "      <td>O</td>\n",
       "      <td>O</td>\n",
       "      <td>O</td>\n",
       "      <td>O</td>\n",
       "    </tr>\n",
       "    <tr>\n",
       "      <td>biose_layer3</td>\n",
       "      <td>O</td>\n",
       "      <td>O</td>\n",
       "      <td>O</td>\n",
       "      <td>O</td>\n",
       "      <td>O</td>\n",
       "    </tr>\n",
       "    <tr>\n",
       "      <td>set</td>\n",
       "      <td>dev</td>\n",
       "      <td>dev</td>\n",
       "      <td>dev</td>\n",
       "      <td>dev</td>\n",
       "      <td>dev</td>\n",
       "    </tr>\n",
       "  </tbody>\n",
       "</table>\n",
       "</div>"
      ],
      "text/plain": [
       "                                                                      0  \\\n",
       "sent_id                                                               1   \n",
       "id                                                                    1   \n",
       "form                                                              עשרות   \n",
       "lemma                                                             עשרות   \n",
       "upostag                                                             NUM   \n",
       "xpostag                                                             NUM   \n",
       "feats                 OrderedDict([('Definite', 'Cons'), ('Gender', ...   \n",
       "head                                                                  2   \n",
       "deprel                                                           nummod   \n",
       "deps                                                                NaN   \n",
       "misc                                                                NaN   \n",
       "global_sent_id                                                        1   \n",
       "token_id                                                              1   \n",
       "token_str                                                         עשרות   \n",
       "token_morph_id                                                        0   \n",
       "binyan                                                              ---   \n",
       "biose                                                                 O   \n",
       "ner                                                                   _   \n",
       "ner_layers                                                            0   \n",
       "ner_escaped                                                           _   \n",
       "duplicate_sent_id                                                   NaN   \n",
       "very_similar_sent_id                                                NaN   \n",
       "biose_layer0                                                          O   \n",
       "biose_layer1                                                          O   \n",
       "biose_layer2                                                          O   \n",
       "biose_layer3                                                          O   \n",
       "set                                                                 dev   \n",
       "\n",
       "                                                                      1  \\\n",
       "sent_id                                                               1   \n",
       "id                                                                    2   \n",
       "form                                                              אנשים   \n",
       "lemma                                                               איש   \n",
       "upostag                                                            NOUN   \n",
       "xpostag                                                            NOUN   \n",
       "feats                 OrderedDict([('Gender', 'Masc'), ('Number', 'P...   \n",
       "head                                                                  3   \n",
       "deprel                                                            nsubj   \n",
       "deps                                                                NaN   \n",
       "misc                                                                NaN   \n",
       "global_sent_id                                                        1   \n",
       "token_id                                                              2   \n",
       "token_str                                                         אנשים   \n",
       "token_morph_id                                                        0   \n",
       "binyan                                                              ---   \n",
       "biose                                                                 O   \n",
       "ner                                                                   _   \n",
       "ner_layers                                                            0   \n",
       "ner_escaped                                                           _   \n",
       "duplicate_sent_id                                                   NaN   \n",
       "very_similar_sent_id                                                NaN   \n",
       "biose_layer0                                                          O   \n",
       "biose_layer1                                                          O   \n",
       "biose_layer2                                                          O   \n",
       "biose_layer3                                                          O   \n",
       "set                                                                 dev   \n",
       "\n",
       "                                                                      2  \\\n",
       "sent_id                                                               1   \n",
       "id                                                                    3   \n",
       "form                                                             מגיעים   \n",
       "lemma                                                              הגיע   \n",
       "upostag                                                            VERB   \n",
       "xpostag                                                            VERB   \n",
       "feats                 OrderedDict([('Gender', 'Masc'), ('HebBinyan',...   \n",
       "head                                                                  0   \n",
       "deprel                                                             root   \n",
       "deps                                                                NaN   \n",
       "misc                                                                NaN   \n",
       "global_sent_id                                                        1   \n",
       "token_id                                                              3   \n",
       "token_str                                                        מגיעים   \n",
       "token_morph_id                                                        0   \n",
       "binyan                                                            HIFIL   \n",
       "biose                                                                 O   \n",
       "ner                                                                   _   \n",
       "ner_layers                                                            0   \n",
       "ner_escaped                                                           _   \n",
       "duplicate_sent_id                                                   NaN   \n",
       "very_similar_sent_id                                                NaN   \n",
       "biose_layer0                                                          O   \n",
       "biose_layer1                                                          O   \n",
       "biose_layer2                                                          O   \n",
       "biose_layer3                                                          O   \n",
       "set                                                                 dev   \n",
       "\n",
       "                            3        4  \n",
       "sent_id                     1        1  \n",
       "id                          4        5  \n",
       "form                        מ   תאילנד  \n",
       "lemma                       מ   תאילנד  \n",
       "upostag                   ADP    PROPN  \n",
       "xpostag                   ADP    PROPN  \n",
       "feats                     NaN      NaN  \n",
       "head                        5        3  \n",
       "deprel                   case      obl  \n",
       "deps                      NaN      NaN  \n",
       "misc                      NaN      NaN  \n",
       "global_sent_id              1        1  \n",
       "token_id                    4        4  \n",
       "token_str             מתאילנד  מתאילנד  \n",
       "token_morph_id              0        1  \n",
       "binyan                    ---      ---  \n",
       "biose                       O    S-GPE  \n",
       "ner                         _      GPE  \n",
       "ner_layers                  0        1  \n",
       "ner_escaped                 _      GPE  \n",
       "duplicate_sent_id         NaN      NaN  \n",
       "very_similar_sent_id      NaN      NaN  \n",
       "biose_layer0                O    S-GPE  \n",
       "biose_layer1                O        O  \n",
       "biose_layer2                O        O  \n",
       "biose_layer3                O        O  \n",
       "set                       dev      dev  "
      ]
     },
     "execution_count": 15,
     "metadata": {},
     "output_type": "execute_result"
    }
   ],
   "source": [
    "uddf.head().T"
   ]
  },
  {
   "cell_type": "code",
   "execution_count": 16,
   "metadata": {},
   "outputs": [],
   "source": [
    "ud_sents = list(uddf.sent_id.unique())"
   ]
  },
  {
   "cell_type": "markdown",
   "metadata": {},
   "source": [
    "## Matching sents (dev, train , test)"
   ]
  },
  {
   "cell_type": "code",
   "execution_count": 17,
   "metadata": {},
   "outputs": [],
   "source": [
    "import re \n",
    "sent_id_re = re.compile('# sent_id = (\\d+)')\n",
    "\n",
    "import bz2\n",
    "def get_sent_ids_lat(path):\n",
    "    sent_ids = []\n",
    "    with bz2.open(path, 'rt', encoding='utf-8') as f:\n",
    "        for line in f:\n",
    "            if line[0]=='#':\n",
    "                sid = sent_id_re.match(line)\n",
    "                if sid:\n",
    "                    sent_id =  int(sid.group(1))\n",
    "                sent_ids.append(sent_id)\n",
    "    return sent_ids\n",
    "\n",
    "dev_sent_ids = get_sent_ids_lat('../UL_Hebrew-HTB/he_htb-ud-dev.heblex.conllul.bz2')\n",
    "train_sent_ids = get_sent_ids_lat('../UL_Hebrew-HTB/he_htb-ud-train.heblex.conllul.bz2')\n",
    "test_sent_ids = get_sent_ids_lat('../UL_Hebrew-HTB/he_htb-ud-test.heblex.conllul.bz2')\n",
    "\n",
    "            "
   ]
  },
  {
   "cell_type": "code",
   "execution_count": 18,
   "metadata": {},
   "outputs": [
    {
     "name": "stdout",
     "output_type": "stream",
     "text": [
      "dev: 1-484\n",
      "train: 485-5725\n",
      "test: 5726-6216\n"
     ]
    }
   ],
   "source": [
    "print(f'dev: {min(dev_sent_ids)}-{max(dev_sent_ids)}')\n",
    "print(f'train: {min(train_sent_ids)}-{max(train_sent_ids)}')\n",
    "print(f'test: {min(test_sent_ids)}-{max(test_sent_ids)}')"
   ]
  },
  {
   "cell_type": "code",
   "execution_count": 19,
   "metadata": {},
   "outputs": [
    {
     "data": {
      "text/html": [
       "<div>\n",
       "<style scoped>\n",
       "    .dataframe tbody tr th:only-of-type {\n",
       "        vertical-align: middle;\n",
       "    }\n",
       "\n",
       "    .dataframe tbody tr th {\n",
       "        vertical-align: top;\n",
       "    }\n",
       "\n",
       "    .dataframe thead th {\n",
       "        text-align: right;\n",
       "    }\n",
       "</style>\n",
       "<table border=\"1\" class=\"dataframe\">\n",
       "  <thead>\n",
       "    <tr style=\"text-align: right;\">\n",
       "      <th></th>\n",
       "      <th>min</th>\n",
       "      <th>max</th>\n",
       "    </tr>\n",
       "    <tr>\n",
       "      <th>set</th>\n",
       "      <th></th>\n",
       "      <th></th>\n",
       "    </tr>\n",
       "  </thead>\n",
       "  <tbody>\n",
       "    <tr>\n",
       "      <td>dev</td>\n",
       "      <td>1</td>\n",
       "      <td>500</td>\n",
       "    </tr>\n",
       "    <tr>\n",
       "      <td>test</td>\n",
       "      <td>5502</td>\n",
       "      <td>6216</td>\n",
       "    </tr>\n",
       "    <tr>\n",
       "      <td>train</td>\n",
       "      <td>501</td>\n",
       "      <td>5500</td>\n",
       "    </tr>\n",
       "  </tbody>\n",
       "</table>\n",
       "</div>"
      ],
      "text/plain": [
       "        min   max\n",
       "set              \n",
       "dev       1   500\n",
       "test   5502  6216\n",
       "train   501  5500"
      ]
     },
     "execution_count": 19,
     "metadata": {},
     "output_type": "execute_result"
    }
   ],
   "source": [
    "uddf.groupby(['set']).sent_id.agg(['min', 'max'])"
   ]
  },
  {
   "cell_type": "code",
   "execution_count": 20,
   "metadata": {},
   "outputs": [
    {
     "data": {
      "text/html": [
       "<div>\n",
       "<style scoped>\n",
       "    .dataframe tbody tr th:only-of-type {\n",
       "        vertical-align: middle;\n",
       "    }\n",
       "\n",
       "    .dataframe tbody tr th {\n",
       "        vertical-align: top;\n",
       "    }\n",
       "\n",
       "    .dataframe thead th {\n",
       "        text-align: right;\n",
       "    }\n",
       "</style>\n",
       "<table border=\"1\" class=\"dataframe\">\n",
       "  <thead>\n",
       "    <tr style=\"text-align: right;\">\n",
       "      <th></th>\n",
       "      <th>min</th>\n",
       "      <th>max</th>\n",
       "    </tr>\n",
       "    <tr>\n",
       "      <th>ud_set</th>\n",
       "      <th></th>\n",
       "      <th></th>\n",
       "    </tr>\n",
       "  </thead>\n",
       "  <tbody>\n",
       "    <tr>\n",
       "      <td>dev</td>\n",
       "      <td>1</td>\n",
       "      <td>484</td>\n",
       "    </tr>\n",
       "    <tr>\n",
       "      <td>test</td>\n",
       "      <td>5726</td>\n",
       "      <td>6216</td>\n",
       "    </tr>\n",
       "    <tr>\n",
       "      <td>train</td>\n",
       "      <td>485</td>\n",
       "      <td>5725</td>\n",
       "    </tr>\n",
       "  </tbody>\n",
       "</table>\n",
       "</div>"
      ],
      "text/plain": [
       "         min   max\n",
       "ud_set            \n",
       "dev        1   484\n",
       "test    5726  6216\n",
       "train    485  5725"
      ]
     },
     "execution_count": 20,
     "metadata": {},
     "output_type": "execute_result"
    }
   ],
   "source": [
    "def get_set_from_sent_id(gsi):\n",
    "    if gsi>=min(dev_sent_ids) and gsi<=max(dev_sent_ids):\n",
    "        return 'dev'\n",
    "    elif gsi>=min(train_sent_ids) and gsi<=max(train_sent_ids):\n",
    "        return 'train'\n",
    "    elif gsi>=min(test_sent_ids) and gsi<=max(test_sent_ids):\n",
    "        return 'test'\n",
    "    \n",
    "uddf['ud_set'] = uddf.sent_id.apply(get_set_from_sent_id)\n",
    "\n",
    "uddf.groupby(['ud_set']).sent_id.agg(['min', 'max'])"
   ]
  },
  {
   "cell_type": "code",
   "execution_count": 21,
   "metadata": {},
   "outputs": [],
   "source": [
    "ud_dev = uddf[uddf.ud_set=='dev']\n",
    "ud_train = uddf[uddf.ud_set=='train']\n",
    "ud_test = uddf[uddf.ud_set=='test']"
   ]
  },
  {
   "cell_type": "markdown",
   "metadata": {},
   "source": [
    "## Morpheme NER\n"
   ]
  },
  {
   "cell_type": "code",
   "execution_count": 56,
   "metadata": {},
   "outputs": [],
   "source": [
    "import os\n",
    "out_folder = 'data/ud_ner/'\n",
    "\n",
    "def write_ncrf_file(sents, file_name, keep_pos=False, bioul=False, dummy_o=False):\n",
    "    if keep_pos:\n",
    "        file_name += '_pos'\n",
    "    if dummy_o:\n",
    "        file_name += '_dummy_o'\n",
    "    if bioul:\n",
    "        suffix = '.bioul'\n",
    "    else:\n",
    "        suffix = '.bmes'\n",
    "    with open(os.path.join(out_folder, file_name+suffix), 'w', encoding='utf8') as of:\n",
    "        for sent in sents:\n",
    "            for fields in sent: \n",
    "                new_pos = '[POS]'+fields[1]\n",
    "                line = fields[0]\n",
    "                if keep_pos:\n",
    "                    line += ' ' + new_pos\n",
    "                if len(fields)==3:\n",
    "                    tag = fields[2]\n",
    "                    if bioul:\n",
    "                        tag = tag.replace('E-', 'L-').replace('S-', 'U-')\n",
    "                    if dummy_o:\n",
    "                        tag = 'O'\n",
    "                    line += ' ' + tag\n",
    "                of.write(line+'\\n')\n",
    "            of.write('\\n')\n",
    "                    \n",
    "        "
   ]
  },
  {
   "cell_type": "code",
   "execution_count": 63,
   "metadata": {},
   "outputs": [
    {
     "data": {
      "text/plain": [
       "sent_id\n",
       "5726    [[הולקומב, PROPN, S-PER], [לא, ADV, O], [הזכיר...\n",
       "5727    [[ב, ADP, O], [ה_, DET, O], [דקה, NOUN, O], [ה...\n",
       "5728    [[יציאה_, NOUN, O], [_של_, ADP, O], [_הוא, PRO...\n",
       "5729    [[אולם, CCONJ, O], [קמבל, PROPN, S-PER], [ו, C...\n",
       "5730    [[מלכתחילה, ADV, O], [היה, AUX, O], [ברור, VER...\n",
       "dtype: object"
      ]
     },
     "execution_count": 63,
     "metadata": {},
     "output_type": "execute_result"
    }
   ],
   "source": [
    "fields = ['form', 'upostag', 'biose_layer0']\n",
    "gold_dev_sents = bclm.get_sentences_list(ud_dev, fields=fields)\n",
    "gold_train_sents = bclm.get_sentences_list(ud_train, fields=fields)\n",
    "gold_test_sents =  bclm.get_sentences_list(ud_test, fields=fields)\n",
    "gold_test_sents.head()"
   ]
  },
  {
   "cell_type": "code",
   "execution_count": 64,
   "metadata": {},
   "outputs": [],
   "source": [
    "write_ncrf_file(gold_dev_sents,   'morph_gold_dev')\n",
    "write_ncrf_file(gold_train_sents, 'morph_gold_train')\n",
    "write_ncrf_file(gold_test_sents, 'morph_gold_test')"
   ]
  },
  {
   "cell_type": "code",
   "execution_count": 65,
   "metadata": {},
   "outputs": [],
   "source": [
    "write_ncrf_file(gold_dev_sents,   'morph_gold_dev', bioul=True)\n",
    "write_ncrf_file(gold_train_sents, 'morph_gold_train', bioul=True)\n",
    "write_ncrf_file(gold_test_sents, 'morph_gold_test', bioul=True)"
   ]
  },
  {
   "cell_type": "code",
   "execution_count": 66,
   "metadata": {},
   "outputs": [],
   "source": [
    "write_ncrf_file(gold_dev_sents,   'morph_gold_dev', dummy_o=True)\n",
    "write_ncrf_file(gold_train_sents, 'morph_gold_train', dummy_o=True)\n",
    "write_ncrf_file(gold_test_sents, 'morph_gold_test', dummy_o=True)"
   ]
  },
  {
   "cell_type": "code",
   "execution_count": 67,
   "metadata": {},
   "outputs": [],
   "source": [
    "write_ncrf_file(gold_dev_sents,   'morph_gold_dev', dummy_o=True, bioul=True)\n",
    "write_ncrf_file(gold_train_sents, 'morph_gold_train', dummy_o=True, bioul=True)\n",
    "write_ncrf_file(gold_test_sents, 'morph_gold_test', dummy_o=True, bioul=True)"
   ]
  },
  {
   "cell_type": "markdown",
   "metadata": {},
   "source": [
    "## Concat BIOSE Sentences"
   ]
  },
  {
   "cell_type": "code",
   "execution_count": 29,
   "metadata": {},
   "outputs": [
    {
     "data": {
      "text/html": [
       "<div>\n",
       "<style scoped>\n",
       "    .dataframe tbody tr th:only-of-type {\n",
       "        vertical-align: middle;\n",
       "    }\n",
       "\n",
       "    .dataframe tbody tr th {\n",
       "        vertical-align: top;\n",
       "    }\n",
       "\n",
       "    .dataframe thead th {\n",
       "        text-align: right;\n",
       "    }\n",
       "</style>\n",
       "<table border=\"1\" class=\"dataframe\">\n",
       "  <thead>\n",
       "    <tr style=\"text-align: right;\">\n",
       "      <th></th>\n",
       "      <th>sent_id</th>\n",
       "      <th>token_id</th>\n",
       "      <th>token_str</th>\n",
       "      <th>biose_layer0</th>\n",
       "      <th>upostag</th>\n",
       "      <th>set</th>\n",
       "    </tr>\n",
       "  </thead>\n",
       "  <tbody>\n",
       "    <tr>\n",
       "      <td>0</td>\n",
       "      <td>1</td>\n",
       "      <td>1</td>\n",
       "      <td>עשרות</td>\n",
       "      <td>O</td>\n",
       "      <td>NUM</td>\n",
       "      <td>dev</td>\n",
       "    </tr>\n",
       "    <tr>\n",
       "      <td>1</td>\n",
       "      <td>1</td>\n",
       "      <td>2</td>\n",
       "      <td>אנשים</td>\n",
       "      <td>O</td>\n",
       "      <td>NOUN</td>\n",
       "      <td>dev</td>\n",
       "    </tr>\n",
       "    <tr>\n",
       "      <td>2</td>\n",
       "      <td>1</td>\n",
       "      <td>3</td>\n",
       "      <td>מגיעים</td>\n",
       "      <td>O</td>\n",
       "      <td>VERB</td>\n",
       "      <td>dev</td>\n",
       "    </tr>\n",
       "    <tr>\n",
       "      <td>3</td>\n",
       "      <td>1</td>\n",
       "      <td>4</td>\n",
       "      <td>מתאילנד</td>\n",
       "      <td>O^S-GPE</td>\n",
       "      <td>ADP^PROPN</td>\n",
       "      <td>dev</td>\n",
       "    </tr>\n",
       "    <tr>\n",
       "      <td>4</td>\n",
       "      <td>1</td>\n",
       "      <td>5</td>\n",
       "      <td>לישראל</td>\n",
       "      <td>O^S-GPE</td>\n",
       "      <td>ADP^PROPN</td>\n",
       "      <td>dev</td>\n",
       "    </tr>\n",
       "  </tbody>\n",
       "</table>\n",
       "</div>"
      ],
      "text/plain": [
       "   sent_id  token_id token_str biose_layer0    upostag  set\n",
       "0        1         1     עשרות            O        NUM  dev\n",
       "1        1         2     אנשים            O       NOUN  dev\n",
       "2        1         3    מגיעים            O       VERB  dev\n",
       "3        1         4   מתאילנד      O^S-GPE  ADP^PROPN  dev\n",
       "4        1         5    לישראל      O^S-GPE  ADP^PROPN  dev"
      ]
     },
     "execution_count": 29,
     "metadata": {},
     "output_type": "execute_result"
    }
   ],
   "source": [
    "uddf['set'] = uddf['ud_set']\n",
    "biose_concat = bclm.get_token_df(uddf, fields = ['biose_layer0', 'upostag'])\n",
    "biose_concat.head()"
   ]
  },
  {
   "cell_type": "code",
   "execution_count": 31,
   "metadata": {},
   "outputs": [],
   "source": [
    "token_gold_dev_concat  = biose_concat[biose_concat.set=='dev']\n",
    "token_gold_train_concat = biose_concat[biose_concat.set=='train']\n",
    "token_gold_test_concat = biose_concat[biose_concat.set=='test']"
   ]
  },
  {
   "cell_type": "code",
   "execution_count": 32,
   "metadata": {},
   "outputs": [
    {
     "data": {
      "text/plain": [
       "sent_id\n",
       "5726    [[הולקומב, PROPN, S-PER], [לא, ADV, O], [הזכיר...\n",
       "5727    [[בדקה, ADP^DET^NOUN, O^O^O], [ה, DET, O], [-,...\n",
       "5728    [[יציאתו, NOUN^ADP^PRON, O^O^O], [של, ADP, O],...\n",
       "5729    [[אולם, CCONJ, O], [קמבל, PROPN, S-PER], [וגור...\n",
       "5730    [[מלכתחילה, ADV, O], [היה, AUX, O], [ברור, VER...\n",
       "dtype: object"
      ]
     },
     "execution_count": 32,
     "metadata": {},
     "output_type": "execute_result"
    }
   ],
   "source": [
    "token_gold_dev_concat_sents    = bclm.get_sentences_list(token_gold_dev_concat  , fields=['token_str', 'upostag', 'biose_layer0'])\n",
    "token_gold_train_concat_sents  = bclm.get_sentences_list(token_gold_train_concat, fields=['token_str', 'upostag', 'biose_layer0'])\n",
    "token_gold_test_concat_sents   = bclm.get_sentences_list(token_gold_test_concat , fields=['token_str', 'upostag', 'biose_layer0'])\n",
    "token_gold_test_concat_sents.head()"
   ]
  },
  {
   "cell_type": "code",
   "execution_count": 33,
   "metadata": {},
   "outputs": [],
   "source": [
    "write_ncrf_file(token_gold_dev_concat_sents, 'token_gold_dev_concat')\n",
    "write_ncrf_file(token_gold_train_concat_sents, 'token_gold_train_concat')\n",
    "write_ncrf_file(token_gold_test_concat_sents, 'token_gold_test_concat')"
   ]
  },
  {
   "cell_type": "code",
   "execution_count": 39,
   "metadata": {},
   "outputs": [],
   "source": [
    "write_ncrf_file(token_gold_dev_concat_sents, 'token_gold_dev_concat', bioul=True)\n",
    "write_ncrf_file(token_gold_train_concat_sents, 'token_gold_train_concat', bioul=True)\n",
    "write_ncrf_file(token_gold_test_concat_sents, 'token_gold_test_concat', bioul=True)"
   ]
  },
  {
   "cell_type": "code",
   "execution_count": 59,
   "metadata": {},
   "outputs": [],
   "source": [
    "write_ncrf_file(token_gold_dev_concat_sents, 'token_gold_dev_concat', dummy_o=True)\n",
    "write_ncrf_file(token_gold_train_concat_sents, 'token_gold_train_concat', dummy_o=True)\n",
    "write_ncrf_file(token_gold_test_concat_sents, 'token_gold_test_concat', dummy_o=True)"
   ]
  },
  {
   "cell_type": "code",
   "execution_count": 60,
   "metadata": {},
   "outputs": [],
   "source": [
    "write_ncrf_file(token_gold_dev_concat_sents, 'token_gold_dev_concat', dummy_o=True, bioul=True)\n",
    "write_ncrf_file(token_gold_train_concat_sents, 'token_gold_train_concat', dummy_o=True, bioul=True)\n",
    "write_ncrf_file(token_gold_test_concat_sents, 'token_gold_test_concat', dummy_o=True, bioul=True)"
   ]
  },
  {
   "cell_type": "markdown",
   "metadata": {},
   "source": [
    "## Fix BIOSE Sentences"
   ]
  },
  {
   "cell_type": "code",
   "execution_count": 34,
   "metadata": {},
   "outputs": [
    {
     "data": {
      "text/html": [
       "<div>\n",
       "<style scoped>\n",
       "    .dataframe tbody tr th:only-of-type {\n",
       "        vertical-align: middle;\n",
       "    }\n",
       "\n",
       "    .dataframe tbody tr th {\n",
       "        vertical-align: top;\n",
       "    }\n",
       "\n",
       "    .dataframe thead th {\n",
       "        text-align: right;\n",
       "    }\n",
       "</style>\n",
       "<table border=\"1\" class=\"dataframe\">\n",
       "  <thead>\n",
       "    <tr style=\"text-align: right;\">\n",
       "      <th></th>\n",
       "      <th>sent_id</th>\n",
       "      <th>token_id</th>\n",
       "      <th>token_str</th>\n",
       "      <th>biose_layer0</th>\n",
       "      <th>upostag</th>\n",
       "      <th>set</th>\n",
       "    </tr>\n",
       "  </thead>\n",
       "  <tbody>\n",
       "    <tr>\n",
       "      <td>0</td>\n",
       "      <td>1</td>\n",
       "      <td>1</td>\n",
       "      <td>עשרות</td>\n",
       "      <td>O</td>\n",
       "      <td>NUM</td>\n",
       "      <td>dev</td>\n",
       "    </tr>\n",
       "    <tr>\n",
       "      <td>1</td>\n",
       "      <td>1</td>\n",
       "      <td>2</td>\n",
       "      <td>אנשים</td>\n",
       "      <td>O</td>\n",
       "      <td>NOUN</td>\n",
       "      <td>dev</td>\n",
       "    </tr>\n",
       "    <tr>\n",
       "      <td>2</td>\n",
       "      <td>1</td>\n",
       "      <td>3</td>\n",
       "      <td>מגיעים</td>\n",
       "      <td>O</td>\n",
       "      <td>VERB</td>\n",
       "      <td>dev</td>\n",
       "    </tr>\n",
       "    <tr>\n",
       "      <td>3</td>\n",
       "      <td>1</td>\n",
       "      <td>4</td>\n",
       "      <td>מתאילנד</td>\n",
       "      <td>S-GPE</td>\n",
       "      <td>ADP^PROPN</td>\n",
       "      <td>dev</td>\n",
       "    </tr>\n",
       "    <tr>\n",
       "      <td>4</td>\n",
       "      <td>1</td>\n",
       "      <td>5</td>\n",
       "      <td>לישראל</td>\n",
       "      <td>S-GPE</td>\n",
       "      <td>ADP^PROPN</td>\n",
       "      <td>dev</td>\n",
       "    </tr>\n",
       "  </tbody>\n",
       "</table>\n",
       "</div>"
      ],
      "text/plain": [
       "   sent_id  token_id token_str biose_layer0    upostag  set\n",
       "0        1         1     עשרות            O        NUM  dev\n",
       "1        1         2     אנשים            O       NOUN  dev\n",
       "2        1         3    מגיעים            O       VERB  dev\n",
       "3        1         4   מתאילנד        S-GPE  ADP^PROPN  dev\n",
       "4        1         5    לישראל        S-GPE  ADP^PROPN  dev"
      ]
     },
     "execution_count": 34,
     "metadata": {},
     "output_type": "execute_result"
    }
   ],
   "source": [
    "biose_fix = bclm.get_token_df(uddf, fields = ['upostag'], biose=['biose_layer0'])\n",
    "biose_fix.head()"
   ]
  },
  {
   "cell_type": "code",
   "execution_count": 35,
   "metadata": {},
   "outputs": [],
   "source": [
    "token_gold_dev_fix  =     biose_fix[biose_fix.set=='dev']\n",
    "token_gold_train_fix = biose_fix[biose_fix.set=='train']\n",
    "token_gold_test_fix =  biose_fix[biose_fix.set=='test']"
   ]
  },
  {
   "cell_type": "code",
   "execution_count": 36,
   "metadata": {},
   "outputs": [
    {
     "data": {
      "text/plain": [
       "sent_id\n",
       "5726    [[הולקומב, PROPN, S-PER], [לא, ADV, O], [הזכיר...\n",
       "5727    [[בדקה, ADP^DET^NOUN, O], [ה, DET, O], [-, PUN...\n",
       "5728    [[יציאתו, NOUN^ADP^PRON, O], [של, ADP, O], [לי...\n",
       "5729    [[אולם, CCONJ, O], [קמבל, PROPN, S-PER], [וגור...\n",
       "5730    [[מלכתחילה, ADV, O], [היה, AUX, O], [ברור, VER...\n",
       "dtype: object"
      ]
     },
     "execution_count": 36,
     "metadata": {},
     "output_type": "execute_result"
    }
   ],
   "source": [
    "token_gold_dev_fix_sents    = bclm.get_sentences_list(token_gold_dev_fix  , fields=['token_str', 'upostag', 'biose_layer0'])\n",
    "token_gold_train_fix_sents  = bclm.get_sentences_list(token_gold_train_fix, fields=['token_str', 'upostag', 'biose_layer0'])\n",
    "token_gold_test_fix_sents   = bclm.get_sentences_list(token_gold_test_fix , fields=['token_str', 'upostag', 'biose_layer0'])\n",
    "token_gold_test_fix_sents.head()"
   ]
  },
  {
   "cell_type": "code",
   "execution_count": 37,
   "metadata": {},
   "outputs": [],
   "source": [
    "write_ncrf_file(token_gold_dev_fix_sents, 'token_gold_dev_fix')\n",
    "write_ncrf_file(token_gold_train_fix_sents, 'token_gold_train_fix')\n",
    "write_ncrf_file(token_gold_test_fix_sents, 'token_gold_test_fix')"
   ]
  },
  {
   "cell_type": "code",
   "execution_count": 42,
   "metadata": {},
   "outputs": [],
   "source": [
    "write_ncrf_file(token_gold_dev_fix_sents, 'token_gold_dev_fix', bioul=True)\n",
    "write_ncrf_file(token_gold_train_fix_sents, 'token_gold_train_fix', bioul=True)\n",
    "write_ncrf_file(token_gold_test_fix_sents, 'token_gold_test_fix', bioul=True)"
   ]
  },
  {
   "cell_type": "code",
   "execution_count": 61,
   "metadata": {},
   "outputs": [],
   "source": [
    "write_ncrf_file(token_gold_dev_fix_sents, 'token_gold_dev_fix', dummy_o=True)\n",
    "write_ncrf_file(token_gold_train_fix_sents, 'token_gold_train_fix', dummy_o=True)\n",
    "write_ncrf_file(token_gold_test_fix_sents, 'token_gold_test_fix', dummy_o=True)"
   ]
  },
  {
   "cell_type": "code",
   "execution_count": 62,
   "metadata": {},
   "outputs": [],
   "source": [
    "write_ncrf_file(token_gold_dev_fix_sents, 'token_gold_dev_fix', dummy_o=True, bioul=True)\n",
    "write_ncrf_file(token_gold_train_fix_sents, 'token_gold_train_fix', dummy_o=True, bioul=True)\n",
    "write_ncrf_file(token_gold_test_fix_sents, 'token_gold_test_fix', dummy_o=True, bioul=True)"
   ]
  },
  {
   "cell_type": "markdown",
   "metadata": {},
   "source": [
    "## TODO\n",
    "1. package\n",
    "1. other layers files"
   ]
  },
  {
   "cell_type": "code",
   "execution_count": 22,
   "metadata": {},
   "outputs": [],
   "source": [
    "import os\n",
    "out_folder = 'data/ud_ner/nested'\n",
    "\n",
    "def write_nested_file(sents, file_name):\n",
    "    suffix = '.bmes'\n",
    "    with open(os.path.join(out_folder, file_name+suffix), 'w', encoding='utf8') as of:\n",
    "        for sent in sents:\n",
    "            for fields in sent: \n",
    "                line = ' '.join(fields)\n",
    "                of.write(line+'\\n')\n",
    "            of.write('\\n')\n",
    "                    \n",
    "        "
   ]
  },
  {
   "cell_type": "code",
   "execution_count": 24,
   "metadata": {},
   "outputs": [
    {
     "data": {
      "text/plain": [
       "sent_id\n",
       "5726    [[הולקומב, S-PER, O, O, O], [לא, O, O, O, O], ...\n",
       "5727    [[ב, O, O, O, O], [ה_, O, O, O, O], [דקה, O, O...\n",
       "5728    [[יציאה_, O, O, O, O], [_של_, O, O, O, O], [_ה...\n",
       "5729    [[אולם, O, O, O, O], [קמבל, S-PER, O, O, O], [...\n",
       "5730    [[מלכתחילה, O, O, O, O], [היה, O, O, O, O], [ב...\n",
       "dtype: object"
      ]
     },
     "execution_count": 24,
     "metadata": {},
     "output_type": "execute_result"
    }
   ],
   "source": [
    "fields = ['form', 'biose_layer0', 'biose_layer1', 'biose_layer2', 'biose_layer3']\n",
    "a_gold_dev_sents =   bclm.get_sentences_list(ud_dev, fields=fields)\n",
    "a_gold_train_sents = bclm.get_sentences_list(ud_train, fields=fields)\n",
    "a_gold_test_sents =  bclm.get_sentences_list(ud_test, fields=fields)\n",
    "a_gold_test_sents.head()"
   ]
  },
  {
   "cell_type": "code",
   "execution_count": 25,
   "metadata": {},
   "outputs": [],
   "source": [
    "write_nested_file(a_gold_dev_sents,   'morph_gold_dev')\n",
    "write_nested_file(a_gold_train_sents, 'morph_gold_train')\n",
    "write_nested_file(a_gold_test_sents,  'morph_gold_test')"
   ]
  },
  {
   "cell_type": "markdown",
   "metadata": {},
   "source": [
    "## Concat BIOSE Sentences"
   ]
  },
  {
   "cell_type": "code",
   "execution_count": 26,
   "metadata": {},
   "outputs": [],
   "source": [
    "a_biose_concat = bclm.get_token_df(uddf, fields = ['biose_layer0', 'biose_layer1', 'biose_layer2', 'biose_layer3'])"
   ]
  },
  {
   "cell_type": "code",
   "execution_count": 27,
   "metadata": {},
   "outputs": [],
   "source": [
    "a_token_gold_dev_concat  =  a_biose_concat[a_biose_concat.set=='dev']\n",
    "a_token_gold_train_concat = a_biose_concat[a_biose_concat.set=='train']\n",
    "a_token_gold_test_concat =  a_biose_concat[a_biose_concat.set=='test']"
   ]
  },
  {
   "cell_type": "code",
   "execution_count": 28,
   "metadata": {},
   "outputs": [
    {
     "data": {
      "text/plain": [
       "sent_id\n",
       "5502    [[הכל, O, O, O, O], [נושאים, O, O, O, O], [עמם...\n",
       "5503    [[אומר, O, O, O, O], [מזכיר, O, O, O, O], [התק...\n",
       "5504    [[לא, O, O, O, O], [ייתכן, O, O, O, O], [שעולה...\n",
       "5505    [[לא, O, O, O, O], [ייתכן, O, O, O, O], [שהוא,...\n",
       "5506    [[לכן, O, O, O, O], [קבענו, O, O, O, O], [עיקר...\n",
       "dtype: object"
      ]
     },
     "execution_count": 28,
     "metadata": {},
     "output_type": "execute_result"
    }
   ],
   "source": [
    "fields = ['token_str', 'biose_layer0', 'biose_layer1', 'biose_layer2', 'biose_layer3']\n",
    "a_token_gold_dev_concat_sents    = bclm.get_sentences_list(a_token_gold_dev_concat  , fields=fields)\n",
    "a_token_gold_train_concat_sents  = bclm.get_sentences_list(a_token_gold_train_concat, fields=fields)\n",
    "a_token_gold_test_concat_sents   = bclm.get_sentences_list(a_token_gold_test_concat , fields=fields)\n",
    "a_token_gold_test_concat_sents.head()"
   ]
  },
  {
   "cell_type": "code",
   "execution_count": 29,
   "metadata": {},
   "outputs": [],
   "source": [
    "write_nested_file(a_token_gold_dev_concat_sents,   'token-multi_gold_dev')\n",
    "write_nested_file(a_token_gold_train_concat_sents, 'token-multi_gold_train')\n",
    "write_nested_file(a_token_gold_test_concat_sents,  'token-multi_gold_test')"
   ]
  },
  {
   "cell_type": "markdown",
   "metadata": {},
   "source": [
    "## Fix BIOSE Sentences"
   ]
  },
  {
   "cell_type": "code",
   "execution_count": 30,
   "metadata": {},
   "outputs": [],
   "source": [
    "a_biose_fix = bclm.get_token_df(uddf, fields = ['upostag'], biose=['biose_layer0', 'biose_layer1', 'biose_layer2', 'biose_layer3'])"
   ]
  },
  {
   "cell_type": "code",
   "execution_count": 31,
   "metadata": {},
   "outputs": [
    {
     "data": {
      "text/html": [
       "<div>\n",
       "<style scoped>\n",
       "    .dataframe tbody tr th:only-of-type {\n",
       "        vertical-align: middle;\n",
       "    }\n",
       "\n",
       "    .dataframe tbody tr th {\n",
       "        vertical-align: top;\n",
       "    }\n",
       "\n",
       "    .dataframe thead th {\n",
       "        text-align: right;\n",
       "    }\n",
       "</style>\n",
       "<table border=\"1\" class=\"dataframe\">\n",
       "  <thead>\n",
       "    <tr style=\"text-align: right;\">\n",
       "      <th></th>\n",
       "      <th>sent_id</th>\n",
       "      <th>token_id</th>\n",
       "      <th>token_str</th>\n",
       "      <th>biose_layer0</th>\n",
       "      <th>biose_layer1</th>\n",
       "      <th>biose_layer2</th>\n",
       "      <th>biose_layer3</th>\n",
       "      <th>upostag</th>\n",
       "      <th>set</th>\n",
       "    </tr>\n",
       "  </thead>\n",
       "  <tbody>\n",
       "    <tr>\n",
       "      <td>0</td>\n",
       "      <td>1</td>\n",
       "      <td>1</td>\n",
       "      <td>עשרות</td>\n",
       "      <td>O</td>\n",
       "      <td>O</td>\n",
       "      <td>O</td>\n",
       "      <td>O</td>\n",
       "      <td>NUM</td>\n",
       "      <td>dev</td>\n",
       "    </tr>\n",
       "    <tr>\n",
       "      <td>1</td>\n",
       "      <td>1</td>\n",
       "      <td>2</td>\n",
       "      <td>אנשים</td>\n",
       "      <td>O</td>\n",
       "      <td>O</td>\n",
       "      <td>O</td>\n",
       "      <td>O</td>\n",
       "      <td>NOUN</td>\n",
       "      <td>dev</td>\n",
       "    </tr>\n",
       "    <tr>\n",
       "      <td>2</td>\n",
       "      <td>1</td>\n",
       "      <td>3</td>\n",
       "      <td>מגיעים</td>\n",
       "      <td>O</td>\n",
       "      <td>O</td>\n",
       "      <td>O</td>\n",
       "      <td>O</td>\n",
       "      <td>VERB</td>\n",
       "      <td>dev</td>\n",
       "    </tr>\n",
       "    <tr>\n",
       "      <td>3</td>\n",
       "      <td>1</td>\n",
       "      <td>4</td>\n",
       "      <td>מתאילנד</td>\n",
       "      <td>S-GPE</td>\n",
       "      <td>O</td>\n",
       "      <td>O</td>\n",
       "      <td>O</td>\n",
       "      <td>ADP^PROPN</td>\n",
       "      <td>dev</td>\n",
       "    </tr>\n",
       "    <tr>\n",
       "      <td>4</td>\n",
       "      <td>1</td>\n",
       "      <td>5</td>\n",
       "      <td>לישראל</td>\n",
       "      <td>S-GPE</td>\n",
       "      <td>O</td>\n",
       "      <td>O</td>\n",
       "      <td>O</td>\n",
       "      <td>ADP^PROPN</td>\n",
       "      <td>dev</td>\n",
       "    </tr>\n",
       "  </tbody>\n",
       "</table>\n",
       "</div>"
      ],
      "text/plain": [
       "   sent_id  token_id token_str biose_layer0 biose_layer1 biose_layer2  \\\n",
       "0        1         1     עשרות            O            O            O   \n",
       "1        1         2     אנשים            O            O            O   \n",
       "2        1         3    מגיעים            O            O            O   \n",
       "3        1         4   מתאילנד        S-GPE            O            O   \n",
       "4        1         5    לישראל        S-GPE            O            O   \n",
       "\n",
       "  biose_layer3    upostag  set  \n",
       "0            O        NUM  dev  \n",
       "1            O       NOUN  dev  \n",
       "2            O       VERB  dev  \n",
       "3            O  ADP^PROPN  dev  \n",
       "4            O  ADP^PROPN  dev  "
      ]
     },
     "execution_count": 31,
     "metadata": {},
     "output_type": "execute_result"
    }
   ],
   "source": [
    "a_biose_fix.head()"
   ]
  },
  {
   "cell_type": "code",
   "execution_count": 32,
   "metadata": {},
   "outputs": [],
   "source": [
    "a_token_gold_dev_fix  =  a_biose_fix[a_biose_fix.set=='dev']\n",
    "a_token_gold_train_fix = a_biose_fix[a_biose_fix.set=='train']\n",
    "a_token_gold_test_fix =  a_biose_fix[a_biose_fix.set=='test']"
   ]
  },
  {
   "cell_type": "code",
   "execution_count": 33,
   "metadata": {},
   "outputs": [
    {
     "data": {
      "text/plain": [
       "sent_id\n",
       "5502    [[הכל, O, O, O, O], [נושאים, O, O, O, O], [עמם...\n",
       "5503    [[אומר, O, O, O, O], [מזכיר, O, O, O, O], [התק...\n",
       "5504    [[לא, O, O, O, O], [ייתכן, O, O, O, O], [שעולה...\n",
       "5505    [[לא, O, O, O, O], [ייתכן, O, O, O, O], [שהוא,...\n",
       "5506    [[לכן, O, O, O, O], [קבענו, O, O, O, O], [עיקר...\n",
       "dtype: object"
      ]
     },
     "execution_count": 33,
     "metadata": {},
     "output_type": "execute_result"
    }
   ],
   "source": [
    "fields = ['token_str', 'biose_layer0', 'biose_layer1', 'biose_layer2', 'biose_layer3']\n",
    "a_token_gold_dev_fix_sents    = bclm.get_sentences_list(a_token_gold_dev_fix  , fields=fields)\n",
    "a_token_gold_train_fix_sents  = bclm.get_sentences_list(a_token_gold_train_fix, fields=fields)\n",
    "a_token_gold_test_fix_sents   = bclm.get_sentences_list(a_token_gold_test_fix , fields=fields)\n",
    "a_token_gold_test_fix_sents.head()"
   ]
  },
  {
   "cell_type": "code",
   "execution_count": 34,
   "metadata": {},
   "outputs": [],
   "source": [
    "write_nested_file(a_token_gold_dev_fix_sents,   'token-single_gold_dev')\n",
    "write_nested_file(a_token_gold_train_fix_sents, 'token-single_gold_train')\n",
    "write_nested_file(a_token_gold_test_fix_sents,  'token-single_gold_test')"
   ]
  },
  {
   "cell_type": "code",
   "execution_count": null,
   "metadata": {},
   "outputs": [],
   "source": []
  },
  {
   "cell_type": "code",
   "execution_count": null,
   "metadata": {},
   "outputs": [],
   "source": []
  },
  {
   "cell_type": "code",
   "execution_count": null,
   "metadata": {},
   "outputs": [],
   "source": []
  },
  {
   "cell_type": "code",
   "execution_count": null,
   "metadata": {},
   "outputs": [],
   "source": []
  },
  {
   "cell_type": "code",
   "execution_count": null,
   "metadata": {},
   "outputs": [],
   "source": []
  },
  {
   "cell_type": "code",
   "execution_count": null,
   "metadata": {},
   "outputs": [],
   "source": []
  },
  {
   "cell_type": "code",
   "execution_count": null,
   "metadata": {},
   "outputs": [],
   "source": []
  },
  {
   "cell_type": "code",
   "execution_count": null,
   "metadata": {},
   "outputs": [],
   "source": []
  },
  {
   "cell_type": "code",
   "execution_count": null,
   "metadata": {},
   "outputs": [],
   "source": []
  },
  {
   "cell_type": "code",
   "execution_count": null,
   "metadata": {},
   "outputs": [],
   "source": []
  },
  {
   "cell_type": "code",
   "execution_count": null,
   "metadata": {},
   "outputs": [],
   "source": []
  },
  {
   "cell_type": "code",
   "execution_count": null,
   "metadata": {},
   "outputs": [],
   "source": []
  },
  {
   "cell_type": "code",
   "execution_count": null,
   "metadata": {},
   "outputs": [],
   "source": []
  },
  {
   "cell_type": "code",
   "execution_count": null,
   "metadata": {},
   "outputs": [],
   "source": []
  },
  {
   "cell_type": "code",
   "execution_count": null,
   "metadata": {},
   "outputs": [],
   "source": []
  },
  {
   "cell_type": "code",
   "execution_count": null,
   "metadata": {},
   "outputs": [],
   "source": []
  },
  {
   "cell_type": "code",
   "execution_count": null,
   "metadata": {},
   "outputs": [],
   "source": []
  },
  {
   "cell_type": "code",
   "execution_count": null,
   "metadata": {},
   "outputs": [],
   "source": []
  },
  {
   "cell_type": "code",
   "execution_count": null,
   "metadata": {},
   "outputs": [],
   "source": []
  },
  {
   "cell_type": "code",
   "execution_count": null,
   "metadata": {},
   "outputs": [],
   "source": []
  },
  {
   "cell_type": "code",
   "execution_count": null,
   "metadata": {},
   "outputs": [],
   "source": []
  },
  {
   "cell_type": "code",
   "execution_count": null,
   "metadata": {},
   "outputs": [],
   "source": []
  },
  {
   "cell_type": "code",
   "execution_count": null,
   "metadata": {},
   "outputs": [],
   "source": []
  },
  {
   "cell_type": "code",
   "execution_count": null,
   "metadata": {},
   "outputs": [],
   "source": []
  },
  {
   "cell_type": "code",
   "execution_count": null,
   "metadata": {},
   "outputs": [],
   "source": []
  },
  {
   "cell_type": "code",
   "execution_count": null,
   "metadata": {},
   "outputs": [],
   "source": []
  }
 ],
 "metadata": {
  "kernelspec": {
   "display_name": "Python 3",
   "language": "python",
   "name": "python3"
  },
  "language_info": {
   "codemirror_mode": {
    "name": "ipython",
    "version": 3
   },
   "file_extension": ".py",
   "mimetype": "text/x-python",
   "name": "python",
   "nbconvert_exporter": "python",
   "pygments_lexer": "ipython3",
   "version": "3.7.4"
  }
 },
 "nbformat": 4,
 "nbformat_minor": 4
}
