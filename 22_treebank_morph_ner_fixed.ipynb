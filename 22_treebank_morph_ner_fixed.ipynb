{
 "cells": [
  {
   "cell_type": "markdown",
   "metadata": {},
   "source": [
    "# Treebank NER with Bi-LSTM-CRF on morphemes"
   ]
  },
  {
   "cell_type": "code",
   "execution_count": 1,
   "metadata": {},
   "outputs": [],
   "source": [
    "import os\n",
    "os.environ[\"CUDA_DEVICE_ORDER\"]=\"PCI_BUS_ID\";\n",
    " \n",
    "# The GPU id to use, usually either \"0\" or \"1\";\n",
    "os.environ[\"CUDA_VISIBLE_DEVICES\"]=\"1\";  "
   ]
  },
  {
   "cell_type": "code",
   "execution_count": 2,
   "metadata": {},
   "outputs": [],
   "source": [
    "%load_ext autoreload\n",
    "%autoreload 2"
   ]
  },
  {
   "cell_type": "code",
   "execution_count": 3,
   "metadata": {
    "ExecuteTime": {
     "end_time": "2019-03-13T07:20:24.034028Z",
     "start_time": "2019-03-13T07:20:22.687626Z"
    }
   },
   "outputs": [],
   "source": [
    "%matplotlib inline"
   ]
  },
  {
   "cell_type": "code",
   "execution_count": 4,
   "metadata": {
    "ExecuteTime": {
     "end_time": "2019-03-13T07:20:24.382406Z",
     "start_time": "2019-03-13T07:20:24.037019Z"
    }
   },
   "outputs": [],
   "source": [
    "import pandas as pd\n",
    "import numpy as np"
   ]
  },
  {
   "cell_type": "code",
   "execution_count": 5,
   "metadata": {
    "ExecuteTime": {
     "end_time": "2019-03-13T07:20:27.996727Z",
     "start_time": "2019-03-13T07:20:24.385088Z"
    }
   },
   "outputs": [],
   "source": [
    "import matplotlib.pyplot as plt\n",
    "import seaborn as sns\n",
    "sns.set_context('paper')\n",
    "sns.set_style('white')"
   ]
  },
  {
   "cell_type": "code",
   "execution_count": 6,
   "metadata": {
    "ExecuteTime": {
     "end_time": "2019-03-13T07:20:28.016424Z",
     "start_time": "2019-03-13T07:20:27.999427Z"
    }
   },
   "outputs": [],
   "source": [
    "from conlleval import evaluate"
   ]
  },
  {
   "cell_type": "code",
   "execution_count": 7,
   "metadata": {},
   "outputs": [
    {
     "name": "stderr",
     "output_type": "stream",
     "text": [
      "Using TensorFlow backend.\n"
     ]
    }
   ],
   "source": [
    "from ner_utils import *"
   ]
  },
  {
   "cell_type": "markdown",
   "metadata": {},
   "source": [
    "## Get morpheme data"
   ]
  },
  {
   "cell_type": "code",
   "execution_count": 8,
   "metadata": {},
   "outputs": [],
   "source": [
    "yap_dev = pd.read_csv('new_yap_outputs/yap_dev.csv.gz', compression='gzip')\n",
    "yap_test = pd.read_csv('new_yap_outputs/yap_test.csv.gz', compression='gzip')"
   ]
  },
  {
   "cell_type": "code",
   "execution_count": 9,
   "metadata": {},
   "outputs": [],
   "source": [
    "dropped = [5438, 5444, 5445, 5446, 5448, 5449, 5450, 5451, 5453, 5459]"
   ]
  },
  {
   "cell_type": "code",
   "execution_count": 10,
   "metadata": {},
   "outputs": [],
   "source": [
    "spdf = pd.read_csv('align/spdf_fixed.csv.gz', compression='gzip')\n",
    "spdf = spdf[(~spdf.sent_id.isin(dropped))]"
   ]
  },
  {
   "cell_type": "code",
   "execution_count": 11,
   "metadata": {},
   "outputs": [
    {
     "data": {
      "text/html": [
       "<div>\n",
       "<style scoped>\n",
       "    .dataframe tbody tr th:only-of-type {\n",
       "        vertical-align: middle;\n",
       "    }\n",
       "\n",
       "    .dataframe tbody tr th {\n",
       "        vertical-align: top;\n",
       "    }\n",
       "\n",
       "    .dataframe thead th {\n",
       "        text-align: right;\n",
       "    }\n",
       "</style>\n",
       "<table border=\"1\" class=\"dataframe\">\n",
       "  <thead>\n",
       "    <tr style=\"text-align: right;\">\n",
       "      <th></th>\n",
       "      <th>id</th>\n",
       "      <th>form</th>\n",
       "      <th>lemma</th>\n",
       "      <th>upostag</th>\n",
       "      <th>xpostag</th>\n",
       "      <th>feats</th>\n",
       "      <th>token_id</th>\n",
       "      <th>sent_id</th>\n",
       "      <th>token_str</th>\n",
       "      <th>global_sent_id</th>\n",
       "      <th>...</th>\n",
       "      <th>binyan</th>\n",
       "      <th>biose</th>\n",
       "      <th>ner_layers</th>\n",
       "      <th>ner</th>\n",
       "      <th>head</th>\n",
       "      <th>deprel</th>\n",
       "      <th>deps</th>\n",
       "      <th>misc</th>\n",
       "      <th>ner_escaped</th>\n",
       "      <th>set</th>\n",
       "    </tr>\n",
       "  </thead>\n",
       "  <tbody>\n",
       "    <tr>\n",
       "      <th>0</th>\n",
       "      <td>1</td>\n",
       "      <td>עשרות</td>\n",
       "      <td>עשר</td>\n",
       "      <td>CDT</td>\n",
       "      <td>CDT</td>\n",
       "      <td>gen=F|num=P</td>\n",
       "      <td>1</td>\n",
       "      <td>1</td>\n",
       "      <td>עשרות</td>\n",
       "      <td>1</td>\n",
       "      <td>...</td>\n",
       "      <td>---</td>\n",
       "      <td>O</td>\n",
       "      <td>0</td>\n",
       "      <td>_</td>\n",
       "      <td>2</td>\n",
       "      <td>num</td>\n",
       "      <td>_</td>\n",
       "      <td>_</td>\n",
       "      <td>_</td>\n",
       "      <td>dev</td>\n",
       "    </tr>\n",
       "    <tr>\n",
       "      <th>1</th>\n",
       "      <td>2</td>\n",
       "      <td>אנשים</td>\n",
       "      <td>איש</td>\n",
       "      <td>NN</td>\n",
       "      <td>NN</td>\n",
       "      <td>gen=M|num=P</td>\n",
       "      <td>2</td>\n",
       "      <td>1</td>\n",
       "      <td>אנשים</td>\n",
       "      <td>1</td>\n",
       "      <td>...</td>\n",
       "      <td>---</td>\n",
       "      <td>O</td>\n",
       "      <td>0</td>\n",
       "      <td>_</td>\n",
       "      <td>3</td>\n",
       "      <td>subj</td>\n",
       "      <td>_</td>\n",
       "      <td>_</td>\n",
       "      <td>_</td>\n",
       "      <td>dev</td>\n",
       "    </tr>\n",
       "    <tr>\n",
       "      <th>2</th>\n",
       "      <td>3</td>\n",
       "      <td>מגיעים</td>\n",
       "      <td>הגיע</td>\n",
       "      <td>BN</td>\n",
       "      <td>BN</td>\n",
       "      <td>gen=M|num=P|per=A|HebBinyan=HIFIL</td>\n",
       "      <td>3</td>\n",
       "      <td>1</td>\n",
       "      <td>מגיעים</td>\n",
       "      <td>1</td>\n",
       "      <td>...</td>\n",
       "      <td>HIFIL</td>\n",
       "      <td>O</td>\n",
       "      <td>0</td>\n",
       "      <td>_</td>\n",
       "      <td>0</td>\n",
       "      <td>ROOT</td>\n",
       "      <td>_</td>\n",
       "      <td>_</td>\n",
       "      <td>_</td>\n",
       "      <td>dev</td>\n",
       "    </tr>\n",
       "    <tr>\n",
       "      <th>3</th>\n",
       "      <td>4</td>\n",
       "      <td>מ</td>\n",
       "      <td>מ</td>\n",
       "      <td>PREPOSITION</td>\n",
       "      <td>PREPOSITION</td>\n",
       "      <td>_</td>\n",
       "      <td>4</td>\n",
       "      <td>1</td>\n",
       "      <td>מתאילנד</td>\n",
       "      <td>1</td>\n",
       "      <td>...</td>\n",
       "      <td>---</td>\n",
       "      <td>O</td>\n",
       "      <td>0</td>\n",
       "      <td>_</td>\n",
       "      <td>3</td>\n",
       "      <td>prepmod</td>\n",
       "      <td>_</td>\n",
       "      <td>_</td>\n",
       "      <td>_</td>\n",
       "      <td>dev</td>\n",
       "    </tr>\n",
       "    <tr>\n",
       "      <th>4</th>\n",
       "      <td>5</td>\n",
       "      <td>תאילנד</td>\n",
       "      <td>תאילנד</td>\n",
       "      <td>NNP</td>\n",
       "      <td>NNP</td>\n",
       "      <td>_</td>\n",
       "      <td>4</td>\n",
       "      <td>1</td>\n",
       "      <td>מתאילנד</td>\n",
       "      <td>1</td>\n",
       "      <td>...</td>\n",
       "      <td>---</td>\n",
       "      <td>S-GPE</td>\n",
       "      <td>1</td>\n",
       "      <td>GPE</td>\n",
       "      <td>4</td>\n",
       "      <td>pobj</td>\n",
       "      <td>_</td>\n",
       "      <td>_</td>\n",
       "      <td>GPE</td>\n",
       "      <td>dev</td>\n",
       "    </tr>\n",
       "  </tbody>\n",
       "</table>\n",
       "<p>5 rows × 21 columns</p>\n",
       "</div>"
      ],
      "text/plain": [
       "   id    form   lemma      upostag      xpostag  \\\n",
       "0   1   עשרות     עשר          CDT          CDT   \n",
       "1   2   אנשים     איש           NN           NN   \n",
       "2   3  מגיעים    הגיע           BN           BN   \n",
       "3   4       מ       מ  PREPOSITION  PREPOSITION   \n",
       "4   5  תאילנד  תאילנד          NNP          NNP   \n",
       "\n",
       "                               feats  token_id  sent_id token_str  \\\n",
       "0                        gen=F|num=P         1        1     עשרות   \n",
       "1                        gen=M|num=P         2        1     אנשים   \n",
       "2  gen=M|num=P|per=A|HebBinyan=HIFIL         3        1    מגיעים   \n",
       "3                                  _         4        1   מתאילנד   \n",
       "4                                  _         4        1   מתאילנד   \n",
       "\n",
       "   global_sent_id  ...  binyan  biose ner_layers  ner head   deprel deps misc  \\\n",
       "0               1  ...     ---      O          0    _    2      num    _    _   \n",
       "1               1  ...     ---      O          0    _    3     subj    _    _   \n",
       "2               1  ...   HIFIL      O          0    _    0     ROOT    _    _   \n",
       "3               1  ...     ---      O          0    _    3  prepmod    _    _   \n",
       "4               1  ...     ---  S-GPE          1  GPE    4     pobj    _    _   \n",
       "\n",
       "  ner_escaped  set  \n",
       "0           _  dev  \n",
       "1           _  dev  \n",
       "2           _  dev  \n",
       "3           _  dev  \n",
       "4         GPE  dev  \n",
       "\n",
       "[5 rows x 21 columns]"
      ]
     },
     "execution_count": 11,
     "metadata": {},
     "output_type": "execute_result"
    }
   ],
   "source": [
    "spdf.head()"
   ]
  },
  {
   "cell_type": "code",
   "execution_count": 12,
   "metadata": {},
   "outputs": [
    {
     "data": {
      "text/html": [
       "<div>\n",
       "<style scoped>\n",
       "    .dataframe tbody tr th:only-of-type {\n",
       "        vertical-align: middle;\n",
       "    }\n",
       "\n",
       "    .dataframe tbody tr th {\n",
       "        vertical-align: top;\n",
       "    }\n",
       "\n",
       "    .dataframe thead th {\n",
       "        text-align: right;\n",
       "    }\n",
       "</style>\n",
       "<table border=\"1\" class=\"dataframe\">\n",
       "  <thead>\n",
       "    <tr style=\"text-align: right;\">\n",
       "      <th></th>\n",
       "      <th>id</th>\n",
       "      <th>form</th>\n",
       "      <th>lemma</th>\n",
       "      <th>upostag</th>\n",
       "      <th>xpostag</th>\n",
       "      <th>head</th>\n",
       "      <th>deprel</th>\n",
       "      <th>deps</th>\n",
       "      <th>misc</th>\n",
       "      <th>sent</th>\n",
       "      <th>misc_token_id</th>\n",
       "      <th>misc_token_str</th>\n",
       "      <th>feats_gen</th>\n",
       "      <th>feats_num</th>\n",
       "      <th>feats_per</th>\n",
       "      <th>feats_tense</th>\n",
       "      <th>feats_suf_gen</th>\n",
       "      <th>feats_suf_num</th>\n",
       "      <th>feats_suf_per</th>\n",
       "      <th>sent_id</th>\n",
       "    </tr>\n",
       "  </thead>\n",
       "  <tbody>\n",
       "    <tr>\n",
       "      <th>0</th>\n",
       "      <td>1</td>\n",
       "      <td>עשרות</td>\n",
       "      <td>עשר</td>\n",
       "      <td>CDT</td>\n",
       "      <td>CDT</td>\n",
       "      <td>2</td>\n",
       "      <td>num</td>\n",
       "      <td>_</td>\n",
       "      <td>_</td>\n",
       "      <td>1</td>\n",
       "      <td>1</td>\n",
       "      <td>עשרות</td>\n",
       "      <td>F</td>\n",
       "      <td>P</td>\n",
       "      <td>NaN</td>\n",
       "      <td>NaN</td>\n",
       "      <td>NaN</td>\n",
       "      <td>NaN</td>\n",
       "      <td>NaN</td>\n",
       "      <td>1</td>\n",
       "    </tr>\n",
       "    <tr>\n",
       "      <th>1</th>\n",
       "      <td>2</td>\n",
       "      <td>אנשים</td>\n",
       "      <td>איש</td>\n",
       "      <td>NN</td>\n",
       "      <td>NN</td>\n",
       "      <td>3</td>\n",
       "      <td>subj</td>\n",
       "      <td>_</td>\n",
       "      <td>_</td>\n",
       "      <td>1</td>\n",
       "      <td>2</td>\n",
       "      <td>אנשים</td>\n",
       "      <td>M</td>\n",
       "      <td>P</td>\n",
       "      <td>NaN</td>\n",
       "      <td>NaN</td>\n",
       "      <td>NaN</td>\n",
       "      <td>NaN</td>\n",
       "      <td>NaN</td>\n",
       "      <td>1</td>\n",
       "    </tr>\n",
       "    <tr>\n",
       "      <th>2</th>\n",
       "      <td>3</td>\n",
       "      <td>מגיעים</td>\n",
       "      <td>הגיע</td>\n",
       "      <td>BN</td>\n",
       "      <td>BN</td>\n",
       "      <td>14</td>\n",
       "      <td>conj</td>\n",
       "      <td>_</td>\n",
       "      <td>_</td>\n",
       "      <td>1</td>\n",
       "      <td>3</td>\n",
       "      <td>מגיעים</td>\n",
       "      <td>M</td>\n",
       "      <td>P</td>\n",
       "      <td>A</td>\n",
       "      <td>NaN</td>\n",
       "      <td>NaN</td>\n",
       "      <td>NaN</td>\n",
       "      <td>NaN</td>\n",
       "      <td>1</td>\n",
       "    </tr>\n",
       "    <tr>\n",
       "      <th>3</th>\n",
       "      <td>4</td>\n",
       "      <td>מ</td>\n",
       "      <td>מ</td>\n",
       "      <td>PREPOSITION</td>\n",
       "      <td>PREPOSITION</td>\n",
       "      <td>3</td>\n",
       "      <td>comp</td>\n",
       "      <td>_</td>\n",
       "      <td>_</td>\n",
       "      <td>1</td>\n",
       "      <td>4</td>\n",
       "      <td>מתאילנד</td>\n",
       "      <td>NaN</td>\n",
       "      <td>NaN</td>\n",
       "      <td>NaN</td>\n",
       "      <td>NaN</td>\n",
       "      <td>NaN</td>\n",
       "      <td>NaN</td>\n",
       "      <td>NaN</td>\n",
       "      <td>1</td>\n",
       "    </tr>\n",
       "    <tr>\n",
       "      <th>4</th>\n",
       "      <td>5</td>\n",
       "      <td>תאילנד</td>\n",
       "      <td>תאילנד</td>\n",
       "      <td>NNP</td>\n",
       "      <td>NNP</td>\n",
       "      <td>4</td>\n",
       "      <td>pobj</td>\n",
       "      <td>_</td>\n",
       "      <td>_</td>\n",
       "      <td>1</td>\n",
       "      <td>4</td>\n",
       "      <td>מתאילנד</td>\n",
       "      <td>F</td>\n",
       "      <td>S</td>\n",
       "      <td>NaN</td>\n",
       "      <td>NaN</td>\n",
       "      <td>NaN</td>\n",
       "      <td>NaN</td>\n",
       "      <td>NaN</td>\n",
       "      <td>1</td>\n",
       "    </tr>\n",
       "  </tbody>\n",
       "</table>\n",
       "</div>"
      ],
      "text/plain": [
       "   id    form   lemma      upostag      xpostag  head deprel deps misc  sent  \\\n",
       "0   1   עשרות     עשר          CDT          CDT     2    num    _    _     1   \n",
       "1   2   אנשים     איש           NN           NN     3   subj    _    _     1   \n",
       "2   3  מגיעים    הגיע           BN           BN    14   conj    _    _     1   \n",
       "3   4       מ       מ  PREPOSITION  PREPOSITION     3   comp    _    _     1   \n",
       "4   5  תאילנד  תאילנד          NNP          NNP     4   pobj    _    _     1   \n",
       "\n",
       "   misc_token_id misc_token_str feats_gen feats_num feats_per feats_tense  \\\n",
       "0              1          עשרות         F         P       NaN         NaN   \n",
       "1              2          אנשים         M         P       NaN         NaN   \n",
       "2              3         מגיעים         M         P         A         NaN   \n",
       "3              4        מתאילנד       NaN       NaN       NaN         NaN   \n",
       "4              4        מתאילנד         F         S       NaN         NaN   \n",
       "\n",
       "  feats_suf_gen feats_suf_num  feats_suf_per  sent_id  \n",
       "0           NaN           NaN            NaN        1  \n",
       "1           NaN           NaN            NaN        1  \n",
       "2           NaN           NaN            NaN        1  \n",
       "3           NaN           NaN            NaN        1  \n",
       "4           NaN           NaN            NaN        1  "
      ]
     },
     "execution_count": 12,
     "metadata": {},
     "output_type": "execute_result"
    }
   ],
   "source": [
    "yap_dev.head()"
   ]
  },
  {
   "cell_type": "code",
   "execution_count": 13,
   "metadata": {},
   "outputs": [
    {
     "data": {
      "text/plain": [
       "sent_id\n",
       "1    [[עשרות, CDT], [אנשים, NN], [מגיעים, BN], [מ, ...\n",
       "2    [[תופעה, NN], [זו, PRP], [התבררה, VB], [אתמול,...\n",
       "3    [[יו\"ר, NNT], [ה, DEF], [וועדה, NN], [,, yyCM]...\n",
       "4    [[מ, PREPOSITION], [צד, NN], [אחד, CD], [רוצה,...\n",
       "5    [[נמיר, NNP], [הודיעה, VB], [כי, CC], [תפנה, V...\n",
       "dtype: object"
      ]
     },
     "execution_count": 13,
     "metadata": {},
     "output_type": "execute_result"
    }
   ],
   "source": [
    "yap_dev_sents =  yap_dev.groupby('sent_id')[['form', 'upostag']].apply(lambda x: x.values.tolist())\n",
    "yap_dev_sents.head()"
   ]
  },
  {
   "cell_type": "code",
   "execution_count": 14,
   "metadata": {},
   "outputs": [
    {
     "data": {
      "text/plain": [
       "sent_id\n",
       "5439    [[ה, DEF], [כל, DTT], [נושאים, NN], [עמם, VB],...\n",
       "5440    [[אומר, NNT], [מזכיר, NNT], [ה, DEF], [תק\"ם, N...\n",
       "5441    [[לא, RB], [ייתכן, MD], [ש, REL], [עולה, NN], ...\n",
       "5442    [[לא, RB], [ייתכן, MD], [ש, REL], [הוא, PRP], ...\n",
       "5443    [[לכן, CC], [קבענו, VB], [עיקרון, NN], [ש, REL...\n",
       "dtype: object"
      ]
     },
     "execution_count": 14,
     "metadata": {},
     "output_type": "execute_result"
    }
   ],
   "source": [
    "yap_test_sents =  yap_test.groupby('sent_id')[['form', 'upostag']].apply(lambda x: x.values.tolist())\n",
    "yap_test_sents.head()"
   ]
  },
  {
   "cell_type": "code",
   "execution_count": 15,
   "metadata": {},
   "outputs": [],
   "source": [
    "gold_dev  = spdf[spdf.set=='dev']\n",
    "gold_train = spdf[spdf.set=='train']\n",
    "gold_test = spdf[spdf.set=='test']"
   ]
  },
  {
   "cell_type": "code",
   "execution_count": 16,
   "metadata": {},
   "outputs": [
    {
     "data": {
      "text/plain": [
       "sent_id\n",
       "5439    [[הכל, NN, O], [נושאים, BN, O], [עמ, IN, O], [...\n",
       "5440    [[אומר, BN, O], [מזכיר, NNT, O], [התק\"ם, NNP, ...\n",
       "5441    [[לא, RB, O], [ייתכן, MD, O], [ש, REL, O], [עו...\n",
       "5442    [[לא, RB, O], [ייתכן, MD, O], [ש, REL, O], [הו...\n",
       "5443    [[לכן, CC, O], [קבענו, VB, O], [עיקרון, NN, O]...\n",
       "dtype: object"
      ]
     },
     "execution_count": 16,
     "metadata": {},
     "output_type": "execute_result"
    }
   ],
   "source": [
    "gold_dev_sents = gold_dev.groupby('sent_id')[['form', 'upostag', 'biose']].apply(lambda x: x.values.tolist())\n",
    "gold_train_sents = gold_train.groupby('sent_id')[['form', 'upostag', 'biose']].apply(lambda x: x.values.tolist())\n",
    "gold_test_sents = gold_test.groupby('sent_id')[['form', 'upostag', 'biose']].apply(lambda x: x.values.tolist())\n",
    "gold_test_sents.head()"
   ]
  },
  {
   "cell_type": "code",
   "execution_count": 17,
   "metadata": {},
   "outputs": [
    {
     "data": {
      "text/plain": [
       "18465"
      ]
     },
     "execution_count": 17,
     "metadata": {},
     "output_type": "execute_result"
    }
   ],
   "source": [
    "words = list(set(spdf.form.values)|set(yap_dev.form.values)|set(yap_test.form.values))\n",
    "n_words = len(words); n_words"
   ]
  },
  {
   "cell_type": "code",
   "execution_count": 18,
   "metadata": {},
   "outputs": [
    {
     "data": {
      "text/plain": [
       "37"
      ]
     },
     "execution_count": 18,
     "metadata": {},
     "output_type": "execute_result"
    }
   ],
   "source": [
    "tags = list(set(spdf.biose.values))\n",
    "n_tags = len(tags); n_tags"
   ]
  },
  {
   "cell_type": "code",
   "execution_count": 19,
   "metadata": {},
   "outputs": [
    {
     "data": {
      "text/plain": [
       "<matplotlib.axes._subplots.AxesSubplot at 0x7faa42869b00>"
      ]
     },
     "execution_count": 19,
     "metadata": {},
     "output_type": "execute_result"
    },
    {
     "data": {
      "image/png": "[encoded data removed]",
      "text/plain": [
       "<Figure size 432x288 with 1 Axes>"
      ]
     },
     "metadata": {},
     "output_type": "display_data"
    }
   ],
   "source": [
    "gold_train.groupby('sent_id').size().hist(bins=50)"
   ]
  },
  {
   "cell_type": "code",
   "execution_count": 20,
   "metadata": {},
   "outputs": [
    {
     "data": {
      "text/plain": [
       "<matplotlib.axes._subplots.AxesSubplot at 0x7faa4064bf28>"
      ]
     },
     "execution_count": 20,
     "metadata": {},
     "output_type": "execute_result"
    },
    {
     "data": {
      "image/png": "[encoded data removed]",
      "text/plain": [
       "<Figure size 432x288 with 1 Axes>"
      ]
     },
     "metadata": {},
     "output_type": "display_data"
    }
   ],
   "source": [
    "yap_dev.groupby('sent_id').size().hist(bins=50)"
   ]
  },
  {
   "cell_type": "code",
   "execution_count": 21,
   "metadata": {},
   "outputs": [],
   "source": [
    "max_len = 80\n",
    "word2idx = {w: i + 2 for i, w in enumerate(words)}\n",
    "word2idx[\"UNK\"] = 1\n",
    "word2idx[\"PAD\"] = 0\n",
    "idx2word = {i: w for w, i in word2idx.items()}\n",
    "tag2idx = {t: i + 1 for i, t in enumerate(tags)}\n",
    "tag2idx[\"PAD\"] = 0\n",
    "idx2tag = {i: w for w, i in tag2idx.items()}"
   ]
  },
  {
   "cell_type": "code",
   "execution_count": 22,
   "metadata": {},
   "outputs": [],
   "source": [
    "from keras.preprocessing.sequence import pad_sequences\n",
    "X_gold_train = [[word2idx[w[0]] for w in s] for s in gold_train_sents]\n",
    "X_gold_dev   = [[word2idx[w[0]] for w in s] for s in gold_dev_sents]\n",
    "X_gold_test  = [[word2idx[w[0]] for w in s] for s in gold_test_sents]\n",
    "X_yap_dev    = [[word2idx[w[0]] for w in s] for s in yap_dev_sents]\n",
    "X_yap_test   = [[word2idx[w[0]] for w in s] for s in yap_test_sents]"
   ]
  },
  {
   "cell_type": "code",
   "execution_count": 23,
   "metadata": {},
   "outputs": [
    {
     "data": {
      "text/plain": [
       "array([10396,  2560, 14612,  6504, 12194,  1511,     0,     0,     0,\n",
       "           0,     0,     0,     0,     0,     0,     0,     0,     0,\n",
       "           0,     0,     0,     0,     0,     0,     0,     0,     0,\n",
       "           0,     0,     0,     0,     0,     0,     0,     0,     0,\n",
       "           0,     0,     0,     0,     0,     0,     0,     0,     0,\n",
       "           0,     0,     0,     0,     0,     0,     0,     0,     0,\n",
       "           0,     0,     0,     0,     0,     0,     0,     0,     0,\n",
       "           0,     0,     0,     0,     0,     0,     0,     0,     0,\n",
       "           0,     0,     0,     0,     0,     0,     0,     0],\n",
       "      dtype=int32)"
      ]
     },
     "execution_count": 23,
     "metadata": {},
     "output_type": "execute_result"
    }
   ],
   "source": [
    "X_gold_train = pad_sequences(maxlen=max_len, sequences=X_gold_train, value=word2idx[\"PAD\"], padding='post', truncating='post')\n",
    "X_gold_dev   = pad_sequences(maxlen=max_len, sequences=X_gold_dev  , value=word2idx[\"PAD\"], padding='post', truncating='post')\n",
    "X_gold_test  = pad_sequences(maxlen=max_len, sequences=X_gold_test , value=word2idx[\"PAD\"], padding='post', truncating='post')\n",
    "X_yap_dev    = pad_sequences(maxlen=max_len, sequences=X_yap_dev   , value=word2idx[\"PAD\"], padding='post', truncating='post')\n",
    "X_yap_test   = pad_sequences(maxlen=max_len, sequences=X_yap_test  , value=word2idx[\"PAD\"], padding='post', truncating='post')\n",
    "X_gold_train[0]"
   ]
  },
  {
   "cell_type": "code",
   "execution_count": 24,
   "metadata": {},
   "outputs": [
    {
     "data": {
      "text/plain": [
       "52"
      ]
     },
     "execution_count": 24,
     "metadata": {},
     "output_type": "execute_result"
    }
   ],
   "source": [
    "pos = list(set(spdf.upostag.values)|set(yap_dev.upostag.values)|set(yap_test.upostag.values))\n",
    "n_pos = len(pos); n_pos"
   ]
  },
  {
   "cell_type": "code",
   "execution_count": 25,
   "metadata": {
    "ExecuteTime": {
     "end_time": "2019-03-13T07:20:48.137589Z",
     "start_time": "2019-03-13T07:20:48.048826Z"
    }
   },
   "outputs": [],
   "source": [
    "pos2idx = {w: i+1 for i, w in enumerate(pos)}\n",
    "pos2idx[\"PAD\"] = 0"
   ]
  },
  {
   "cell_type": "code",
   "execution_count": 26,
   "metadata": {},
   "outputs": [],
   "source": [
    "from keras.preprocessing.sequence import pad_sequences\n",
    "X_pos_gold_train = [[pos2idx[w[1]] for w in s] for s in gold_train_sents]\n",
    "X_pos_gold_dev   = [[pos2idx[w[1]] for w in s] for s in gold_dev_sents]\n",
    "X_pos_gold_test  = [[pos2idx[w[1]] for w in s] for s in gold_test_sents]\n",
    "X_pos_yap_dev    = [[pos2idx[w[1]] for w in s] for s in yap_dev_sents]\n",
    "X_pos_yap_test   = [[pos2idx[w[1]] for w in s] for s in yap_test_sents]"
   ]
  },
  {
   "cell_type": "code",
   "execution_count": 27,
   "metadata": {},
   "outputs": [
    {
     "data": {
      "text/plain": [
       "array([42, 24,  9, 32, 41, 27,  0,  0,  0,  0,  0,  0,  0,  0,  0,  0,  0,\n",
       "        0,  0,  0,  0,  0,  0,  0,  0,  0,  0,  0,  0,  0,  0,  0,  0,  0,\n",
       "        0,  0,  0,  0,  0,  0,  0,  0,  0,  0,  0,  0,  0,  0,  0,  0,  0,\n",
       "        0,  0,  0,  0,  0,  0,  0,  0,  0,  0,  0,  0,  0,  0,  0,  0,  0,\n",
       "        0,  0,  0,  0,  0,  0,  0,  0,  0,  0,  0,  0], dtype=int32)"
      ]
     },
     "execution_count": 27,
     "metadata": {},
     "output_type": "execute_result"
    }
   ],
   "source": [
    "X_pos_gold_train = pad_sequences(maxlen=max_len, sequences=X_pos_gold_train, value=pos2idx[\"PAD\"], padding='post', truncating='post')\n",
    "X_pos_gold_dev   = pad_sequences(maxlen=max_len, sequences=X_pos_gold_dev  , value=pos2idx[\"PAD\"], padding='post', truncating='post')\n",
    "X_pos_gold_test  = pad_sequences(maxlen=max_len, sequences=X_pos_gold_test , value=pos2idx[\"PAD\"], padding='post', truncating='post')\n",
    "X_pos_yap_dev    = pad_sequences(maxlen=max_len, sequences=X_pos_yap_dev   , value=pos2idx[\"PAD\"], padding='post', truncating='post')\n",
    "X_pos_yap_test   = pad_sequences(maxlen=max_len, sequences=X_pos_yap_test  , value=pos2idx[\"PAD\"], padding='post', truncating='post')\n",
    "X_pos_gold_train[0]"
   ]
  },
  {
   "cell_type": "code",
   "execution_count": 28,
   "metadata": {},
   "outputs": [],
   "source": [
    "from keras.preprocessing.sequence import pad_sequences\n",
    "y_gold_train = [[tag2idx[w[2]] for w in s] for s in gold_train_sents]\n",
    "y_gold_dev   = [[tag2idx[w[2]] for w in s] for s in gold_dev_sents]\n",
    "y_gold_test  = [[tag2idx[w[2]] for w in s] for s in gold_test_sents]"
   ]
  },
  {
   "cell_type": "code",
   "execution_count": 29,
   "metadata": {},
   "outputs": [
    {
     "data": {
      "text/plain": [
       "array([37, 37, 37, 37, 37, 37,  0,  0,  0,  0,  0,  0,  0,  0,  0,  0,  0,\n",
       "        0,  0,  0,  0,  0,  0,  0,  0,  0,  0,  0,  0,  0,  0,  0,  0,  0,\n",
       "        0,  0,  0,  0,  0,  0,  0,  0,  0,  0,  0,  0,  0,  0,  0,  0,  0,\n",
       "        0,  0,  0,  0,  0,  0,  0,  0,  0,  0,  0,  0,  0,  0,  0,  0,  0,\n",
       "        0,  0,  0,  0,  0,  0,  0,  0,  0,  0,  0,  0], dtype=int32)"
      ]
     },
     "execution_count": 29,
     "metadata": {},
     "output_type": "execute_result"
    }
   ],
   "source": [
    "y_numer_gold_train = pad_sequences(maxlen=max_len, sequences=y_gold_train, value=pos2idx[\"PAD\"], padding='post', truncating='post')\n",
    "y_numer_gold_dev   = pad_sequences(maxlen=max_len, sequences=y_gold_dev  , value=pos2idx[\"PAD\"], padding='post', truncating='post')\n",
    "y_numer_gold_test  = pad_sequences(maxlen=max_len, sequences=y_gold_test , value=pos2idx[\"PAD\"], padding='post', truncating='post')\n",
    "y_numer_gold_train[0]"
   ]
  },
  {
   "cell_type": "code",
   "execution_count": 30,
   "metadata": {
    "ExecuteTime": {
     "end_time": "2019-03-13T07:20:48.330074Z",
     "start_time": "2019-03-13T07:20:48.226353Z"
    }
   },
   "outputs": [
    {
     "data": {
      "text/plain": [
       "(80, 38)"
      ]
     },
     "execution_count": 30,
     "metadata": {},
     "output_type": "execute_result"
    }
   ],
   "source": [
    "from keras.utils import to_categorical\n",
    "y_gold_train = [to_categorical(i, num_classes=n_tags+1) for i in y_numer_gold_train]\n",
    "y_gold_dev   = [to_categorical(i, num_classes=n_tags+1) for i in y_numer_gold_dev  ]\n",
    "y_gold_test  = [to_categorical(i, num_classes=n_tags+1) for i in y_numer_gold_test ]\n",
    "\n",
    "y_gold_train[0].shape"
   ]
  },
  {
   "cell_type": "code",
   "execution_count": 31,
   "metadata": {},
   "outputs": [
    {
     "data": {
      "text/plain": [
       "0.09196247930844216"
      ]
     },
     "execution_count": 31,
     "metadata": {},
     "output_type": "execute_result"
    }
   ],
   "source": [
    "validation_split = len(X_gold_dev) / (len(X_gold_train)+len(X_gold_dev))\n",
    "validation_split"
   ]
  },
  {
   "cell_type": "code",
   "execution_count": 32,
   "metadata": {},
   "outputs": [],
   "source": [
    "splits = [[X_gold_train, X_gold_dev,\n",
    "           y_gold_train, y_gold_dev,\n",
    "           X_pos_gold_train, X_pos_gold_dev ]]"
   ]
  },
  {
   "cell_type": "markdown",
   "metadata": {},
   "source": [
    "### Prep char input"
   ]
  },
  {
   "cell_type": "code",
   "execution_count": 33,
   "metadata": {
    "ExecuteTime": {
     "end_time": "2019-01-31T13:58:31.324599Z",
     "start_time": "2019-01-31T13:58:31.077207Z"
    }
   },
   "outputs": [
    {
     "data": {
      "text/plain": [
       "<matplotlib.axes._subplots.AxesSubplot at 0x7faa404899b0>"
      ]
     },
     "execution_count": 33,
     "metadata": {},
     "output_type": "execute_result"
    },
    {
     "data": {
      "image/png": "[encoded data removed]",
      "text/plain": [
       "<Figure size 432x288 with 1 Axes>"
      ]
     },
     "metadata": {},
     "output_type": "display_data"
    }
   ],
   "source": [
    "spdf.form.apply(len).hist(bins=18)"
   ]
  },
  {
   "cell_type": "code",
   "execution_count": 34,
   "metadata": {
    "ExecuteTime": {
     "end_time": "2019-01-31T13:58:31.340217Z",
     "start_time": "2019-01-31T13:58:31.324599Z"
    }
   },
   "outputs": [],
   "source": [
    "max_len_char = 12"
   ]
  },
  {
   "cell_type": "code",
   "execution_count": 35,
   "metadata": {
    "ExecuteTime": {
     "end_time": "2019-01-31T13:58:32.660554Z",
     "start_time": "2019-01-31T13:58:32.613692Z"
    }
   },
   "outputs": [
    {
     "name": "stdout",
     "output_type": "stream",
     "text": [
      "50\n"
     ]
    }
   ],
   "source": [
    "chars = set([w_i for w in words for w_i in w])\n",
    "n_chars = len(chars)\n",
    "print(n_chars)"
   ]
  },
  {
   "cell_type": "code",
   "execution_count": 36,
   "metadata": {
    "ExecuteTime": {
     "end_time": "2019-01-31T13:58:33.732950Z",
     "start_time": "2019-01-31T13:58:33.717366Z"
    }
   },
   "outputs": [],
   "source": [
    "char2idx = {c: i + 2 for i, c in enumerate(chars)}\n",
    "char2idx[\"UNK\"] = 1\n",
    "char2idx[\"PAD\"] = 0"
   ]
  },
  {
   "cell_type": "code",
   "execution_count": 37,
   "metadata": {
    "ExecuteTime": {
     "end_time": "2019-01-31T13:58:36.324286Z",
     "start_time": "2019-01-31T13:58:34.303392Z"
    }
   },
   "outputs": [],
   "source": [
    "\n",
    "def get_X_char(sents):\n",
    "    X_char = []\n",
    "    for sentence in sents:\n",
    "        sent_seq = []\n",
    "        for i in range(max_len):\n",
    "            word_seq = []\n",
    "            for j in range(max_len_char):\n",
    "                try:\n",
    "                    word_seq.append(char2idx.get(sentence[i][0][j]))\n",
    "                except:\n",
    "                    word_seq.append(char2idx.get(\"PAD\"))\n",
    "            sent_seq.append(word_seq)\n",
    "        X_char.append(np.array(sent_seq))\n",
    "    return X_char"
   ]
  },
  {
   "cell_type": "code",
   "execution_count": 38,
   "metadata": {},
   "outputs": [],
   "source": [
    "X_char_gold_dev   = get_X_char(gold_dev_sents  )\n",
    "X_char_gold_train = get_X_char(gold_train_sents)\n",
    "X_char_gold_test  = get_X_char(gold_test_sents )\n",
    "X_char_yap_dev    = get_X_char(yap_dev_sents   )\n",
    "X_char_yap_test   = get_X_char(yap_test_sents  )\n",
    "\n",
    "\n",
    "\n",
    "splits_char = [[X_char_gold_train, X_char_gold_dev,\n",
    "                y_gold_train, y_gold_dev]]"
   ]
  },
  {
   "cell_type": "markdown",
   "metadata": {},
   "source": [
    "## Embeddings"
   ]
  },
  {
   "cell_type": "code",
   "execution_count": 39,
   "metadata": {},
   "outputs": [
    {
     "data": {
      "text/plain": [
       "{'yap_w2v_sg': '../wordembedding-hebrew/wikipedia.yap_form.word2vec_skipgram.txt',\n",
       " 'yap_w2v_cbow': '../wordembedding-hebrew/wikipedia.yap_form.word2vec_cbow.txt',\n",
       " 'yap_glove': '../wordembedding-hebrew/glove/wikipedia.yap_form.glove.txt.txt',\n",
       " 'yap_ft_sg': '../wordembedding-hebrew/wikipedia.yap_form.fasttext_skipgram.model.vec',\n",
       " 'yap_ft_cbow': '../wordembedding-hebrew/wikipedia.yap_form.fasttext_cbow.model.vec',\n",
       " 'token_w2v_sg': '../wordembedding-hebrew/wikipedia.tokenized.word2vec_skipgram.txt',\n",
       " 'token_w2v_cbow': '../wordembedding-hebrew/wikipedia.tokenized.word2vec_cbow.txt',\n",
       " 'token_glove': '../wordembedding-hebrew/glove/wikipedia.tokenized.glove.txt',\n",
       " 'token_ft_sg': '../wordembedding-hebrew/wikipedia.tokenized.fasttext_skipgram.model.vec',\n",
       " 'token_ft_cbow': '../wordembedding-hebrew/wikipedia.tokenized.fasttext_cbow.model.vec',\n",
       " 'pretrained_token_ft': '../fasttext/wiki.he.vec'}"
      ]
     },
     "execution_count": 39,
     "metadata": {},
     "output_type": "execute_result"
    }
   ],
   "source": [
    "embedding_paths"
   ]
  },
  {
   "cell_type": "code",
   "execution_count": 40,
   "metadata": {},
   "outputs": [],
   "source": [
    "exclude = ['cbow', 'word2vec', 'tokenized', 'glove']"
   ]
  },
  {
   "cell_type": "code",
   "execution_count": 41,
   "metadata": {},
   "outputs": [
    {
     "name": "stdout",
     "output_type": "stream",
     "text": [
      "loading word embeddings: ../wordembedding-hebrew/wikipedia.yap_form.fasttext_skipgram.model.vec\n",
      "found 256508 word vectors\n",
      "preparing embedding matrix...\n",
      "number of null word embeddings: 1457\n",
      "sample words not found:  ['אידיאלית' 'רידן' 'תוקטן' 'סוקריסטוב' 'לאנשי' 'שוצפת' 'תריסולים' '42.02'\n",
      " 'ליוורפול' 'בברכו']\n",
      "loading word embeddings: ../fasttext/wiki.he.vec\n",
      "found 488194 word vectors\n",
      "preparing embedding matrix...\n",
      "number of null word embeddings: 1704\n",
      "sample words not found:  ['בקיאיה' '150,000' 'אקספרסיווי' 'ריכליס' 'בטחונם' 'בראדלו' 'פרצופנו'\n",
      " 'דאלדה' '1986' 'ע\"ף']\n"
     ]
    }
   ],
   "source": [
    "embedding_mats = {}\n",
    "for emb_name, emb_path in embedding_paths.items():\n",
    "    skip=False\n",
    "    for exc in exclude:\n",
    "        if exc in emb_path:\n",
    "            skip=True\n",
    "    if skip:\n",
    "        continue\n",
    "    embedding_mats[emb_name] = get_embedding_matrix(emb_path, word2idx)"
   ]
  },
  {
   "cell_type": "markdown",
   "metadata": {},
   "source": [
    "## Model building"
   ]
  },
  {
   "cell_type": "code",
   "execution_count": 55,
   "metadata": {},
   "outputs": [
    {
     "data": {
      "text/plain": [
       "[{'add_random_embedding': True,\n",
       "  'use_char': True,\n",
       "  'crf': True,\n",
       "  'use_pos': False,\n",
       "  'embedding_matrix': 'all',\n",
       "  'trainable': False,\n",
       "  'embed_dim': 100},\n",
       " {'add_random_embedding': True,\n",
       "  'use_char': True,\n",
       "  'crf': True,\n",
       "  'use_pos': True,\n",
       "  'embedding_matrix': 'all',\n",
       "  'trainable': False,\n",
       "  'embed_dim': 100}]"
      ]
     },
     "execution_count": 55,
     "metadata": {},
     "output_type": "execute_result"
    }
   ],
   "source": [
    "from ner_utils import *\n",
    "base_configs_fixed"
   ]
  },
  {
   "cell_type": "code",
   "execution_count": 56,
   "metadata": {},
   "outputs": [
    {
     "data": {
      "text/plain": [
       "[{'add_random_embedding': True,\n",
       "  'use_char': True,\n",
       "  'crf': True,\n",
       "  'use_pos': False,\n",
       "  'embedding_matrix': 'yap_ft_sg',\n",
       "  'trainable': False,\n",
       "  'embed_dim': 100},\n",
       " {'add_random_embedding': True,\n",
       "  'use_char': True,\n",
       "  'crf': True,\n",
       "  'use_pos': False,\n",
       "  'embedding_matrix': 'pretrained_token_ft',\n",
       "  'trainable': False,\n",
       "  'embed_dim': 100},\n",
       " {'add_random_embedding': True,\n",
       "  'use_char': True,\n",
       "  'crf': True,\n",
       "  'use_pos': True,\n",
       "  'embedding_matrix': 'yap_ft_sg',\n",
       "  'trainable': False,\n",
       "  'embed_dim': 100},\n",
       " {'add_random_embedding': True,\n",
       "  'use_char': True,\n",
       "  'crf': True,\n",
       "  'use_pos': True,\n",
       "  'embedding_matrix': 'pretrained_token_ft',\n",
       "  'trainable': False,\n",
       "  'embed_dim': 100}]"
      ]
     },
     "execution_count": 56,
     "metadata": {},
     "output_type": "execute_result"
    }
   ],
   "source": [
    "configs = build_configs(base_configs_fixed, embedding_mats)\n",
    "configs     "
   ]
  },
  {
   "cell_type": "code",
   "execution_count": 57,
   "metadata": {},
   "outputs": [],
   "source": [
    "for conf in configs:\n",
    "    conf['patience'] = 10"
   ]
  },
  {
   "cell_type": "code",
   "execution_count": 58,
   "metadata": {},
   "outputs": [],
   "source": [
    "out_folder = 'results/new_outputs_fixed'\n",
    "if not os.path.exists(out_folder):\n",
    "    os.mkdir(out_folder)"
   ]
  },
  {
   "cell_type": "code",
   "execution_count": 59,
   "metadata": {},
   "outputs": [],
   "source": [
    "extra_preds = [(X_gold_test, X_pos_gold_test, X_char_gold_test), \n",
    "               (X_yap_dev, X_pos_yap_dev, X_char_yap_dev),\n",
    "               (X_yap_test, X_pos_yap_test, X_char_yap_test)]"
   ]
  },
  {
   "cell_type": "code",
   "execution_count": 60,
   "metadata": {},
   "outputs": [],
   "source": [
    "from ner_utils import *"
   ]
  },
  {
   "cell_type": "code",
   "execution_count": 61,
   "metadata": {
    "ExecuteTime": {
     "end_time": "2019-03-13T11:31:02.793857Z",
     "start_time": "2019-03-13T11:16:17.267695Z"
    },
    "scrolled": true
   },
   "outputs": [
    {
     "name": "stdout",
     "output_type": "stream",
     "text": [
      "Train on 4482 samples, validate on 455 samples\n",
      "Epoch 1/100\n",
      " - 64s - loss: 0.2616 - crf_accuracy: 0.9529 - val_loss: 0.1592 - val_crf_accuracy: 0.9638\n",
      "Epoch 2/100\n",
      " - 59s - loss: 0.0905 - crf_accuracy: 0.9783 - val_loss: 0.0910 - val_crf_accuracy: 0.9749\n",
      "Epoch 3/100\n",
      " - 60s - loss: 0.0588 - crf_accuracy: 0.9840 - val_loss: 0.0692 - val_crf_accuracy: 0.9777\n",
      "Epoch 4/100\n",
      " - 58s - loss: 0.0406 - crf_accuracy: 0.9872 - val_loss: 0.0737 - val_crf_accuracy: 0.9771\n",
      "Epoch 5/100\n",
      " - 61s - loss: 0.0291 - crf_accuracy: 0.9892 - val_loss: 0.0486 - val_crf_accuracy: 0.9822\n",
      "Epoch 6/100\n",
      " - 59s - loss: 0.0203 - crf_accuracy: 0.9911 - val_loss: 0.0484 - val_crf_accuracy: 0.9811\n",
      "Epoch 7/100\n",
      " - 58s - loss: 0.0132 - crf_accuracy: 0.9923 - val_loss: 0.0603 - val_crf_accuracy: 0.9802\n",
      "Epoch 8/100\n",
      " - 61s - loss: 0.0070 - crf_accuracy: 0.9936 - val_loss: 0.0398 - val_crf_accuracy: 0.9825\n",
      "Epoch 9/100\n",
      " - 59s - loss: 0.0020 - crf_accuracy: 0.9945 - val_loss: 0.0309 - val_crf_accuracy: 0.9847\n",
      "Epoch 10/100\n",
      " - 60s - loss: -2.2784e-03 - crf_accuracy: 0.9956 - val_loss: 0.0345 - val_crf_accuracy: 0.9819\n",
      "Epoch 11/100\n",
      " - 59s - loss: -6.1420e-03 - crf_accuracy: 0.9962 - val_loss: 0.0297 - val_crf_accuracy: 0.9842\n",
      "Epoch 12/100\n",
      " - 60s - loss: -9.7346e-03 - crf_accuracy: 0.9967 - val_loss: 0.0560 - val_crf_accuracy: 0.9677\n",
      "Epoch 13/100\n",
      " - 60s - loss: -1.2816e-02 - crf_accuracy: 0.9972 - val_loss: 0.0292 - val_crf_accuracy: 0.9802\n",
      "Epoch 14/100\n",
      " - 60s - loss: -1.5905e-02 - crf_accuracy: 0.9977 - val_loss: 0.0318 - val_crf_accuracy: 0.9831\n",
      "Epoch 15/100\n",
      " - 60s - loss: -1.8466e-02 - crf_accuracy: 0.9981 - val_loss: 0.0341 - val_crf_accuracy: 0.9834\n",
      "Epoch 16/100\n",
      " - 60s - loss: -2.1453e-02 - crf_accuracy: 0.9986 - val_loss: 0.0262 - val_crf_accuracy: 0.9822\n",
      "Epoch 17/100\n",
      " - 61s - loss: -2.3678e-02 - crf_accuracy: 0.9988 - val_loss: 0.0311 - val_crf_accuracy: 0.9829\n",
      "Epoch 18/100\n",
      " - 61s - loss: -2.5898e-02 - crf_accuracy: 0.9989 - val_loss: 0.0265 - val_crf_accuracy: 0.9818\n",
      "Epoch 19/100\n",
      " - 61s - loss: -2.8177e-02 - crf_accuracy: 0.9992 - val_loss: 0.0301 - val_crf_accuracy: 0.9823\n",
      "Restoring model weights from the end of the best epoch\n",
      "Epoch 00019: early stopping\n"
     ]
    },
    {
     "data": {
      "image/png": "[encoded data removed]",
      "text/plain": [
       "<Figure size 432x288 with 1 Axes>"
      ]
     },
     "metadata": {},
     "output_type": "display_data"
    },
    {
     "name": "stdout",
     "output_type": "stream",
     "text": [
      "processed 11278 tokens with 498 phrases; found: 485 phrases; correct: 347.\n",
      "accuracy:  63.12%; (non-O)\n",
      "accuracy:  95.80%; precision:  71.55%; recall:  69.68%; FB1:  70.60\n",
      "              ANG: precision: 100.00%; recall: 100.00%; FB1: 100.00  3\n",
      "              DUC: precision:   0.00%; recall:   0.00%; FB1:   0.00  0\n",
      "              EVE: precision: 100.00%; recall:  16.67%; FB1:  28.57  2\n",
      "              FAC: precision:   0.00%; recall:   0.00%; FB1:   0.00  2\n",
      "              GPE: precision:  89.19%; recall:  82.50%; FB1:  85.71  111\n",
      "              LOC: precision:  53.33%; recall:  57.14%; FB1:  55.17  30\n",
      "              ORG: precision:  57.69%; recall:  50.42%; FB1:  53.81  104\n",
      "              PER: precision:  71.98%; recall:  86.53%; FB1:  78.59  232\n",
      "              WOA: precision:   0.00%; recall:   0.00%; FB1:   0.00  1\n",
      "Train on 4482 samples, validate on 455 samples\n",
      "Epoch 1/100\n",
      " - 66s - loss: 0.2511 - crf_accuracy: 0.9527 - val_loss: 0.1423 - val_crf_accuracy: 0.9681\n",
      "Epoch 2/100\n",
      " - 59s - loss: 0.0828 - crf_accuracy: 0.9793 - val_loss: 0.0820 - val_crf_accuracy: 0.9763\n",
      "Epoch 3/100\n",
      " - 60s - loss: 0.0518 - crf_accuracy: 0.9848 - val_loss: 0.0621 - val_crf_accuracy: 0.9787\n",
      "Epoch 4/100\n",
      " - 59s - loss: 0.0360 - crf_accuracy: 0.9875 - val_loss: 0.0508 - val_crf_accuracy: 0.9812\n",
      "Epoch 5/100\n",
      " - 60s - loss: 0.0253 - crf_accuracy: 0.9896 - val_loss: 0.0465 - val_crf_accuracy: 0.9815\n",
      "Epoch 6/100\n",
      " - 60s - loss: 0.0167 - crf_accuracy: 0.9913 - val_loss: 0.0392 - val_crf_accuracy: 0.9832\n",
      "Epoch 7/100\n",
      " - 60s - loss: 0.0102 - crf_accuracy: 0.9926 - val_loss: 0.0343 - val_crf_accuracy: 0.9840\n",
      "Epoch 8/100\n",
      " - 60s - loss: 0.0045 - crf_accuracy: 0.9941 - val_loss: 0.0310 - val_crf_accuracy: 0.9830\n",
      "Epoch 9/100\n",
      " - 60s - loss: -4.3941e-04 - crf_accuracy: 0.9947 - val_loss: 0.0317 - val_crf_accuracy: 0.9828\n",
      "Epoch 10/100\n",
      " - 60s - loss: -4.3848e-03 - crf_accuracy: 0.9956 - val_loss: 0.0309 - val_crf_accuracy: 0.9819\n",
      "Epoch 11/100\n",
      " - 60s - loss: -8.3288e-03 - crf_accuracy: 0.9962 - val_loss: 0.0336 - val_crf_accuracy: 0.9816\n",
      "Epoch 12/100\n",
      " - 60s - loss: -1.1996e-02 - crf_accuracy: 0.9970 - val_loss: 0.0276 - val_crf_accuracy: 0.9833\n",
      "Epoch 13/100\n",
      " - 60s - loss: -1.5292e-02 - crf_accuracy: 0.9975 - val_loss: 0.0246 - val_crf_accuracy: 0.9835\n",
      "Epoch 14/100\n",
      " - 60s - loss: -1.8157e-02 - crf_accuracy: 0.9979 - val_loss: 0.0302 - val_crf_accuracy: 0.9788\n",
      "Epoch 15/100\n",
      " - 60s - loss: -2.0843e-02 - crf_accuracy: 0.9984 - val_loss: 0.0228 - val_crf_accuracy: 0.9833\n",
      "Epoch 16/100\n",
      " - 60s - loss: -2.3226e-02 - crf_accuracy: 0.9986 - val_loss: 0.0200 - val_crf_accuracy: 0.9841\n",
      "Epoch 17/100\n",
      " - 59s - loss: -2.5544e-02 - crf_accuracy: 0.9988 - val_loss: 0.0219 - val_crf_accuracy: 0.9841\n",
      "Restoring model weights from the end of the best epoch\n",
      "Epoch 00017: early stopping\n"
     ]
    },
    {
     "data": {
      "image/png": "[encoded data removed]",
      "text/plain": [
       "<Figure size 432x288 with 1 Axes>"
      ]
     },
     "metadata": {},
     "output_type": "display_data"
    },
    {
     "name": "stdout",
     "output_type": "stream",
     "text": [
      "processed 11278 tokens with 498 phrases; found: 481 phrases; correct: 350.\n",
      "accuracy:  64.71%; (non-O)\n",
      "accuracy:  95.85%; precision:  72.77%; recall:  70.28%; FB1:  71.50\n",
      "              ANG: precision: 100.00%; recall:  33.33%; FB1:  50.00  1\n",
      "              DUC: precision:   0.00%; recall:   0.00%; FB1:   0.00  0\n",
      "              EVE: precision:   0.00%; recall:   0.00%; FB1:   0.00  0\n",
      "              FAC: precision:   0.00%; recall:   0.00%; FB1:   0.00  1\n",
      "              GPE: precision:  89.19%; recall:  82.50%; FB1:  85.71  111\n",
      "              LOC: precision:  44.12%; recall:  53.57%; FB1:  48.39  34\n",
      "              ORG: precision:  57.39%; recall:  55.46%; FB1:  56.41  115\n",
      "              PER: precision:  77.52%; recall:  87.56%; FB1:  82.24  218\n",
      "              WOA: precision:   0.00%; recall:   0.00%; FB1:   0.00  1\n",
      "Train on 4482 samples, validate on 455 samples\n",
      "Epoch 1/100\n",
      " - 68s - loss: 0.2544 - crf_accuracy: 0.9535 - val_loss: 0.1313 - val_crf_accuracy: 0.9672\n",
      "Epoch 2/100\n",
      " - 60s - loss: 0.0764 - crf_accuracy: 0.9807 - val_loss: 0.0741 - val_crf_accuracy: 0.9774\n",
      "Epoch 3/100\n",
      " - 60s - loss: 0.0463 - crf_accuracy: 0.9863 - val_loss: 0.0613 - val_crf_accuracy: 0.9798\n",
      "Epoch 4/100\n",
      " - 61s - loss: 0.0316 - crf_accuracy: 0.9890 - val_loss: 0.0428 - val_crf_accuracy: 0.9841\n",
      "Epoch 5/100\n",
      " - 60s - loss: 0.0217 - crf_accuracy: 0.9908 - val_loss: 0.0442 - val_crf_accuracy: 0.9835\n",
      "Epoch 6/100\n",
      " - 57s - loss: 0.0145 - crf_accuracy: 0.9922 - val_loss: 0.0417 - val_crf_accuracy: 0.9833\n",
      "Epoch 7/100\n",
      " - 53s - loss: 0.0083 - crf_accuracy: 0.9933 - val_loss: 0.0310 - val_crf_accuracy: 0.9853\n",
      "Epoch 8/100\n",
      " - 54s - loss: 0.0028 - crf_accuracy: 0.9944 - val_loss: 0.0415 - val_crf_accuracy: 0.9801\n",
      "Epoch 9/100\n",
      " - 55s - loss: -1.3334e-03 - crf_accuracy: 0.9953 - val_loss: 0.0279 - val_crf_accuracy: 0.9843\n",
      "Epoch 10/100\n",
      " - 52s - loss: -5.6156e-03 - crf_accuracy: 0.9962 - val_loss: 0.0298 - val_crf_accuracy: 0.9838\n",
      "Epoch 11/100\n",
      " - 52s - loss: -9.0700e-03 - crf_accuracy: 0.9968 - val_loss: 0.0227 - val_crf_accuracy: 0.9849\n",
      "Epoch 12/100\n",
      " - 52s - loss: -1.2422e-02 - crf_accuracy: 0.9973 - val_loss: 0.0254 - val_crf_accuracy: 0.9848\n",
      "Epoch 13/100\n",
      " - 57s - loss: -1.5388e-02 - crf_accuracy: 0.9978 - val_loss: 0.0207 - val_crf_accuracy: 0.9854\n",
      "Epoch 14/100\n",
      " - 64s - loss: -1.8040e-02 - crf_accuracy: 0.9982 - val_loss: 0.0288 - val_crf_accuracy: 0.9848\n",
      "Epoch 15/100\n",
      " - 66s - loss: -2.0797e-02 - crf_accuracy: 0.9986 - val_loss: 0.0259 - val_crf_accuracy: 0.9845\n",
      "Epoch 16/100\n",
      " - 62s - loss: -2.3011e-02 - crf_accuracy: 0.9988 - val_loss: 0.0224 - val_crf_accuracy: 0.9832\n",
      "Epoch 17/100\n",
      " - 60s - loss: -2.5349e-02 - crf_accuracy: 0.9990 - val_loss: 0.0200 - val_crf_accuracy: 0.9833\n",
      "Restoring model weights from the end of the best epoch\n",
      "Epoch 00017: early stopping\n"
     ]
    },
    {
     "data": {
      "image/png": "[encoded data removed]",
      "text/plain": [
       "<Figure size 432x288 with 1 Axes>"
      ]
     },
     "metadata": {},
     "output_type": "display_data"
    },
    {
     "name": "stdout",
     "output_type": "stream",
     "text": [
      "processed 11278 tokens with 498 phrases; found: 476 phrases; correct: 369.\n",
      "accuracy:  66.50%; (non-O)\n",
      "accuracy:  96.52%; precision:  77.52%; recall:  74.10%; FB1:  75.77\n",
      "              ANG: precision: 100.00%; recall:  66.67%; FB1:  80.00  2\n",
      "              DUC: precision:   0.00%; recall:   0.00%; FB1:   0.00  0\n",
      "              EVE: precision:   0.00%; recall:   0.00%; FB1:   0.00  0\n",
      "              FAC: precision:   0.00%; recall:   0.00%; FB1:   0.00  0\n",
      "              GPE: precision:  77.70%; recall:  90.00%; FB1:  83.40  139\n",
      "              LOC: precision:  51.72%; recall:  53.57%; FB1:  52.63  29\n",
      "              ORG: precision:  69.89%; recall:  54.62%; FB1:  61.32  93\n",
      "              PER: precision:  85.99%; recall:  92.23%; FB1:  89.00  207\n",
      "              WOA: precision:  16.67%; recall:  11.11%; FB1:  13.33  6\n",
      "Train on 4482 samples, validate on 455 samples\n",
      "Epoch 1/100\n",
      " - 73s - loss: 0.2891 - crf_accuracy: 0.9421 - val_loss: 0.1285 - val_crf_accuracy: 0.9713\n",
      "Epoch 2/100\n",
      " - 62s - loss: 0.0744 - crf_accuracy: 0.9804 - val_loss: 0.0720 - val_crf_accuracy: 0.9777\n",
      "Epoch 3/100\n",
      " - 58s - loss: 0.0436 - crf_accuracy: 0.9858 - val_loss: 0.0630 - val_crf_accuracy: 0.9763\n",
      "Epoch 4/100\n",
      " - 59s - loss: 0.0271 - crf_accuracy: 0.9886 - val_loss: 0.0469 - val_crf_accuracy: 0.9809\n",
      "Epoch 5/100\n",
      " - 56s - loss: 0.0171 - crf_accuracy: 0.9907 - val_loss: 0.0343 - val_crf_accuracy: 0.9846\n",
      "Epoch 6/100\n",
      " - 65s - loss: 0.0092 - crf_accuracy: 0.9923 - val_loss: 0.0303 - val_crf_accuracy: 0.9842\n",
      "Epoch 7/100\n",
      " - 62s - loss: 0.0029 - crf_accuracy: 0.9937 - val_loss: 0.0291 - val_crf_accuracy: 0.9844\n",
      "Epoch 8/100\n",
      " - 60s - loss: -2.5208e-03 - crf_accuracy: 0.9948 - val_loss: 0.0244 - val_crf_accuracy: 0.9849\n",
      "Epoch 9/100\n",
      " - 61s - loss: -6.7821e-03 - crf_accuracy: 0.9954 - val_loss: 0.0244 - val_crf_accuracy: 0.9837\n",
      "Epoch 10/100\n",
      " - 61s - loss: -1.0990e-02 - crf_accuracy: 0.9964 - val_loss: 0.0191 - val_crf_accuracy: 0.9854\n",
      "Epoch 11/100\n",
      " - 61s - loss: -1.4268e-02 - crf_accuracy: 0.9970 - val_loss: 0.0179 - val_crf_accuracy: 0.9843\n",
      "Epoch 12/100\n",
      " - 60s - loss: -1.7396e-02 - crf_accuracy: 0.9974 - val_loss: 0.0161 - val_crf_accuracy: 0.9854\n",
      "Epoch 13/100\n",
      " - 59s - loss: -2.0565e-02 - crf_accuracy: 0.9979 - val_loss: 0.0143 - val_crf_accuracy: 0.9847\n",
      "Epoch 14/100\n",
      " - 60s - loss: -2.3303e-02 - crf_accuracy: 0.9983 - val_loss: 0.0336 - val_crf_accuracy: 0.9778\n",
      "Epoch 15/100\n",
      " - 61s - loss: -2.5708e-02 - crf_accuracy: 0.9986 - val_loss: 0.0121 - val_crf_accuracy: 0.9842\n",
      "Epoch 16/100\n",
      " - 60s - loss: -2.8082e-02 - crf_accuracy: 0.9989 - val_loss: 0.0147 - val_crf_accuracy: 0.9846\n",
      "Epoch 17/100\n",
      " - 60s - loss: -3.0484e-02 - crf_accuracy: 0.9991 - val_loss: 0.0144 - val_crf_accuracy: 0.9843\n",
      "Epoch 18/100\n",
      " - 60s - loss: -3.2752e-02 - crf_accuracy: 0.9993 - val_loss: 0.0128 - val_crf_accuracy: 0.9838\n",
      "Epoch 19/100\n",
      " - 60s - loss: -3.4640e-02 - crf_accuracy: 0.9993 - val_loss: 0.0164 - val_crf_accuracy: 0.9830\n",
      "Epoch 20/100\n",
      " - 61s - loss: -3.6651e-02 - crf_accuracy: 0.9993 - val_loss: 0.0103 - val_crf_accuracy: 0.9843\n",
      "Restoring model weights from the end of the best epoch\n",
      "Epoch 00020: early stopping\n"
     ]
    },
    {
     "data": {
      "image/png": "[encoded data removed]",
      "text/plain": [
       "<Figure size 432x288 with 1 Axes>"
      ]
     },
     "metadata": {},
     "output_type": "display_data"
    },
    {
     "name": "stdout",
     "output_type": "stream",
     "text": [
      "processed 11278 tokens with 498 phrases; found: 455 phrases; correct: 359.\n",
      "accuracy:  64.61%; (non-O)\n",
      "accuracy:  96.51%; precision:  78.90%; recall:  72.09%; FB1:  75.34\n",
      "              ANG: precision: 100.00%; recall: 100.00%; FB1: 100.00  3\n",
      "              DUC: precision:   0.00%; recall:   0.00%; FB1:   0.00  0\n",
      "              EVE: precision:   0.00%; recall:   0.00%; FB1:   0.00  1\n",
      "              FAC: precision:   0.00%; recall:   0.00%; FB1:   0.00  2\n",
      "              GPE: precision:  91.59%; recall:  81.67%; FB1:  86.34  107\n",
      "              LOC: precision:  55.17%; recall:  57.14%; FB1:  56.14  29\n",
      "              ORG: precision:  59.17%; recall:  59.66%; FB1:  59.41  120\n",
      "              PER: precision:  90.96%; recall:  88.60%; FB1:  89.76  188\n",
      "              WOA: precision:   0.00%; recall:   0.00%; FB1:   0.00  5\n"
     ]
    }
   ],
   "source": [
    "configs, results, preds, histories = run_models(configs, splits, splits_char, embedding_mats, \n",
    "                                                words, max_len, n_words, idx2word, idx2tag,\n",
    "                                                n_tags, max_len_char, n_pos, n_chars,\n",
    "                                                run_name='treebank_morphemes_fixed_rand_word', out_folder=out_folder,\n",
    "                                                skip_if_model_exists=True,\n",
    "                                                validation_split=validation_split,\n",
    "                                                extra_predictions=extra_preds,\n",
    "                                                )"
   ]
  },
  {
   "cell_type": "code",
   "execution_count": null,
   "metadata": {},
   "outputs": [],
   "source": []
  },
  {
   "cell_type": "code",
   "execution_count": null,
   "metadata": {},
   "outputs": [],
   "source": []
  },
  {
   "cell_type": "code",
   "execution_count": null,
   "metadata": {},
   "outputs": [],
   "source": []
  },
  {
   "cell_type": "code",
   "execution_count": null,
   "metadata": {},
   "outputs": [],
   "source": []
  },
  {
   "cell_type": "code",
   "execution_count": null,
   "metadata": {},
   "outputs": [],
   "source": []
  },
  {
   "cell_type": "code",
   "execution_count": null,
   "metadata": {},
   "outputs": [],
   "source": []
  },
  {
   "cell_type": "code",
   "execution_count": null,
   "metadata": {},
   "outputs": [],
   "source": []
  },
  {
   "cell_type": "code",
   "execution_count": null,
   "metadata": {},
   "outputs": [],
   "source": []
  },
  {
   "cell_type": "code",
   "execution_count": null,
   "metadata": {},
   "outputs": [],
   "source": []
  },
  {
   "cell_type": "code",
   "execution_count": null,
   "metadata": {},
   "outputs": [],
   "source": []
  }
 ],
 "metadata": {
  "kernelspec": {
   "display_name": "Python 3",
   "language": "python",
   "name": "python3"
  },
  "language_info": {
   "codemirror_mode": {
    "name": "ipython",
    "version": 3
   },
   "file_extension": ".py",
   "mimetype": "text/x-python",
   "name": "python",
   "nbconvert_exporter": "python",
   "pygments_lexer": "ipython3",
   "version": "3.6.8"
  }
 },
 "nbformat": 4,
 "nbformat_minor": 4
}
