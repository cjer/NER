{
 "cells": [
  {
   "cell_type": "markdown",
   "metadata": {},
   "source": [
    "# Treebank POS on Tokens with Bi-LSTM-CRF "
   ]
  },
  {
   "cell_type": "code",
   "execution_count": 1,
   "metadata": {},
   "outputs": [],
   "source": [
    "import os\n",
    "os.environ[\"CUDA_DEVICE_ORDER\"]=\"PCI_BUS_ID\";\n",
    " \n",
    "# The GPU id to use, usually either \"0\" or \"1\";\n",
    "os.environ[\"CUDA_VISIBLE_DEVICES\"]=\"2\";  "
   ]
  },
  {
   "cell_type": "code",
   "execution_count": 2,
   "metadata": {},
   "outputs": [],
   "source": [
    "%load_ext autoreload\n",
    "%autoreload 2"
   ]
  },
  {
   "cell_type": "code",
   "execution_count": 3,
   "metadata": {
    "ExecuteTime": {
     "end_time": "2019-03-13T07:20:24.034028Z",
     "start_time": "2019-03-13T07:20:22.687626Z"
    }
   },
   "outputs": [],
   "source": [
    "%matplotlib inline"
   ]
  },
  {
   "cell_type": "code",
   "execution_count": 4,
   "metadata": {
    "ExecuteTime": {
     "end_time": "2019-03-13T07:20:24.382406Z",
     "start_time": "2019-03-13T07:20:24.037019Z"
    }
   },
   "outputs": [],
   "source": [
    "import pandas as pd\n",
    "import numpy as np"
   ]
  },
  {
   "cell_type": "code",
   "execution_count": 5,
   "metadata": {
    "ExecuteTime": {
     "end_time": "2019-03-13T07:20:27.996727Z",
     "start_time": "2019-03-13T07:20:24.385088Z"
    }
   },
   "outputs": [],
   "source": [
    "import matplotlib.pyplot as plt\n",
    "import seaborn as sns\n",
    "sns.set_context('paper')\n",
    "sns.set_style('white')"
   ]
  },
  {
   "cell_type": "code",
   "execution_count": 6,
   "metadata": {
    "ExecuteTime": {
     "end_time": "2019-03-13T07:20:28.016424Z",
     "start_time": "2019-03-13T07:20:27.999427Z"
    }
   },
   "outputs": [],
   "source": [
    "from conlleval import evaluate"
   ]
  },
  {
   "cell_type": "code",
   "execution_count": 7,
   "metadata": {},
   "outputs": [
    {
     "name": "stderr",
     "output_type": "stream",
     "text": [
      "Using TensorFlow backend.\n"
     ]
    }
   ],
   "source": [
    "from ner_utils import *"
   ]
  },
  {
   "cell_type": "markdown",
   "metadata": {},
   "source": [
    "## Get token data"
   ]
  },
  {
   "cell_type": "code",
   "execution_count": 8,
   "metadata": {},
   "outputs": [],
   "source": [
    "#yap_dev = pd.read_csv('new_yap_outputs/yap_dev.csv.gz', compression='gzip')\n",
    "#yap_test = pd.read_csv('new_yap_outputs/yap_test.csv.gz', compression='gzip')\n",
    "yap_dev_tok = pd.read_csv('new_yap_outputs/yap_dev_tokens.csv.gz', compression='gzip').reset_index()\n",
    "yap_test_tok = pd.read_csv('new_yap_outputs/yap_test_tokens.csv.gz', compression='gzip').reset_index()"
   ]
  },
  {
   "cell_type": "code",
   "execution_count": 9,
   "metadata": {},
   "outputs": [
    {
     "data": {
      "text/html": [
       "<div>\n",
       "<style scoped>\n",
       "    .dataframe tbody tr th:only-of-type {\n",
       "        vertical-align: middle;\n",
       "    }\n",
       "\n",
       "    .dataframe tbody tr th {\n",
       "        vertical-align: top;\n",
       "    }\n",
       "\n",
       "    .dataframe thead th {\n",
       "        text-align: right;\n",
       "    }\n",
       "</style>\n",
       "<table border=\"1\" class=\"dataframe\">\n",
       "  <thead>\n",
       "    <tr style=\"text-align: right;\">\n",
       "      <th></th>\n",
       "      <th>index</th>\n",
       "      <th>sent</th>\n",
       "      <th>misc_token_id</th>\n",
       "      <th>misc_token_str</th>\n",
       "      <th>upostag</th>\n",
       "      <th>form</th>\n",
       "      <th>lemma</th>\n",
       "      <th>deprel</th>\n",
       "      <th>feats_gen</th>\n",
       "      <th>feats_num</th>\n",
       "      <th>feats_per</th>\n",
       "      <th>feats_tense</th>\n",
       "      <th>feats_suf_gen</th>\n",
       "      <th>feats_suf_num</th>\n",
       "      <th>feats_suf_per</th>\n",
       "      <th>sent_id</th>\n",
       "    </tr>\n",
       "  </thead>\n",
       "  <tbody>\n",
       "    <tr>\n",
       "      <th>0</th>\n",
       "      <td>0</td>\n",
       "      <td>1</td>\n",
       "      <td>1</td>\n",
       "      <td>הכל</td>\n",
       "      <td>DEF^DTT</td>\n",
       "      <td>ה^כל</td>\n",
       "      <td>ה^כול</td>\n",
       "      <td>def^det</td>\n",
       "      <td>,</td>\n",
       "      <td>,</td>\n",
       "      <td>,</td>\n",
       "      <td>,</td>\n",
       "      <td>,</td>\n",
       "      <td>,</td>\n",
       "      <td>,</td>\n",
       "      <td>5439</td>\n",
       "    </tr>\n",
       "    <tr>\n",
       "      <th>1</th>\n",
       "      <td>1</td>\n",
       "      <td>1</td>\n",
       "      <td>2</td>\n",
       "      <td>נושאים</td>\n",
       "      <td>NN</td>\n",
       "      <td>נושאים</td>\n",
       "      <td>נושא</td>\n",
       "      <td>subj</td>\n",
       "      <td>M</td>\n",
       "      <td>P</td>\n",
       "      <td>NaN</td>\n",
       "      <td>NaN</td>\n",
       "      <td>NaN</td>\n",
       "      <td>NaN</td>\n",
       "      <td>NaN</td>\n",
       "      <td>5439</td>\n",
       "    </tr>\n",
       "    <tr>\n",
       "      <th>2</th>\n",
       "      <td>2</td>\n",
       "      <td>1</td>\n",
       "      <td>3</td>\n",
       "      <td>עמם</td>\n",
       "      <td>VB</td>\n",
       "      <td>עמם</td>\n",
       "      <td>עימם</td>\n",
       "      <td>conj</td>\n",
       "      <td>M</td>\n",
       "      <td>S</td>\n",
       "      <td>3</td>\n",
       "      <td>PAST</td>\n",
       "      <td>NaN</td>\n",
       "      <td>NaN</td>\n",
       "      <td>NaN</td>\n",
       "      <td>5439</td>\n",
       "    </tr>\n",
       "    <tr>\n",
       "      <th>3</th>\n",
       "      <td>3</td>\n",
       "      <td>1</td>\n",
       "      <td>4</td>\n",
       "      <td>את</td>\n",
       "      <td>AT</td>\n",
       "      <td>את</td>\n",
       "      <td>את</td>\n",
       "      <td>obj</td>\n",
       "      <td>NaN</td>\n",
       "      <td>NaN</td>\n",
       "      <td>NaN</td>\n",
       "      <td>NaN</td>\n",
       "      <td>NaN</td>\n",
       "      <td>NaN</td>\n",
       "      <td>NaN</td>\n",
       "      <td>5439</td>\n",
       "    </tr>\n",
       "    <tr>\n",
       "      <th>4</th>\n",
       "      <td>4</td>\n",
       "      <td>1</td>\n",
       "      <td>5</td>\n",
       "      <td>כישלונות</td>\n",
       "      <td>NNT</td>\n",
       "      <td>כישלונות</td>\n",
       "      <td>כישלון</td>\n",
       "      <td>hd</td>\n",
       "      <td>M</td>\n",
       "      <td>P</td>\n",
       "      <td>NaN</td>\n",
       "      <td>NaN</td>\n",
       "      <td>NaN</td>\n",
       "      <td>NaN</td>\n",
       "      <td>NaN</td>\n",
       "      <td>5439</td>\n",
       "    </tr>\n",
       "  </tbody>\n",
       "</table>\n",
       "</div>"
      ],
      "text/plain": [
       "   index  sent  misc_token_id misc_token_str  upostag      form   lemma  \\\n",
       "0      0     1              1            הכל  DEF^DTT      ה^כל   ה^כול   \n",
       "1      1     1              2         נושאים       NN    נושאים    נושא   \n",
       "2      2     1              3            עמם       VB       עמם    עימם   \n",
       "3      3     1              4             את       AT        את      את   \n",
       "4      4     1              5       כישלונות      NNT  כישלונות  כישלון   \n",
       "\n",
       "    deprel feats_gen feats_num feats_per feats_tense feats_suf_gen  \\\n",
       "0  def^det         ,         ,         ,           ,             ,   \n",
       "1     subj         M         P       NaN         NaN           NaN   \n",
       "2     conj         M         S         3        PAST           NaN   \n",
       "3      obj       NaN       NaN       NaN         NaN           NaN   \n",
       "4       hd         M         P       NaN         NaN           NaN   \n",
       "\n",
       "  feats_suf_num feats_suf_per  sent_id  \n",
       "0             ,             ,     5439  \n",
       "1           NaN           NaN     5439  \n",
       "2           NaN           NaN     5439  \n",
       "3           NaN           NaN     5439  \n",
       "4           NaN           NaN     5439  "
      ]
     },
     "execution_count": 9,
     "metadata": {},
     "output_type": "execute_result"
    }
   ],
   "source": [
    "yap_test_tok.head()"
   ]
  },
  {
   "cell_type": "code",
   "execution_count": 10,
   "metadata": {},
   "outputs": [],
   "source": [
    "tokens_ner_with_upos_feats = pd.read_csv('align/spmrl_tokens_df.csv.gz', compression='gzip').reset_index()"
   ]
  },
  {
   "cell_type": "code",
   "execution_count": 11,
   "metadata": {},
   "outputs": [
    {
     "data": {
      "text/html": [
       "<div>\n",
       "<style scoped>\n",
       "    .dataframe tbody tr th:only-of-type {\n",
       "        vertical-align: middle;\n",
       "    }\n",
       "\n",
       "    .dataframe tbody tr th {\n",
       "        vertical-align: top;\n",
       "    }\n",
       "\n",
       "    .dataframe thead th {\n",
       "        text-align: right;\n",
       "    }\n",
       "</style>\n",
       "<table border=\"1\" class=\"dataframe\">\n",
       "  <thead>\n",
       "    <tr style=\"text-align: right;\">\n",
       "      <th></th>\n",
       "      <th>index</th>\n",
       "      <th>sent</th>\n",
       "      <th>misc_token_id</th>\n",
       "      <th>misc_token_str</th>\n",
       "      <th>upostag</th>\n",
       "      <th>form</th>\n",
       "      <th>lemma</th>\n",
       "      <th>deprel</th>\n",
       "      <th>feats_gen</th>\n",
       "      <th>feats_num</th>\n",
       "      <th>feats_per</th>\n",
       "      <th>feats_tense</th>\n",
       "      <th>feats_suf_gen</th>\n",
       "      <th>feats_suf_num</th>\n",
       "      <th>feats_suf_per</th>\n",
       "      <th>sent_id</th>\n",
       "    </tr>\n",
       "  </thead>\n",
       "  <tbody>\n",
       "    <tr>\n",
       "      <th>0</th>\n",
       "      <td>0</td>\n",
       "      <td>1</td>\n",
       "      <td>1</td>\n",
       "      <td>עשרות</td>\n",
       "      <td>CDT</td>\n",
       "      <td>עשרות</td>\n",
       "      <td>עשר</td>\n",
       "      <td>num</td>\n",
       "      <td>F</td>\n",
       "      <td>P</td>\n",
       "      <td>NaN</td>\n",
       "      <td>NaN</td>\n",
       "      <td>NaN</td>\n",
       "      <td>NaN</td>\n",
       "      <td>NaN</td>\n",
       "      <td>1</td>\n",
       "    </tr>\n",
       "    <tr>\n",
       "      <th>1</th>\n",
       "      <td>1</td>\n",
       "      <td>1</td>\n",
       "      <td>2</td>\n",
       "      <td>אנשים</td>\n",
       "      <td>NN</td>\n",
       "      <td>אנשים</td>\n",
       "      <td>איש</td>\n",
       "      <td>subj</td>\n",
       "      <td>M</td>\n",
       "      <td>P</td>\n",
       "      <td>NaN</td>\n",
       "      <td>NaN</td>\n",
       "      <td>NaN</td>\n",
       "      <td>NaN</td>\n",
       "      <td>NaN</td>\n",
       "      <td>1</td>\n",
       "    </tr>\n",
       "    <tr>\n",
       "      <th>2</th>\n",
       "      <td>2</td>\n",
       "      <td>1</td>\n",
       "      <td>3</td>\n",
       "      <td>מגיעים</td>\n",
       "      <td>BN</td>\n",
       "      <td>מגיעים</td>\n",
       "      <td>הגיע</td>\n",
       "      <td>conj</td>\n",
       "      <td>M</td>\n",
       "      <td>P</td>\n",
       "      <td>A</td>\n",
       "      <td>NaN</td>\n",
       "      <td>NaN</td>\n",
       "      <td>NaN</td>\n",
       "      <td>NaN</td>\n",
       "      <td>1</td>\n",
       "    </tr>\n",
       "    <tr>\n",
       "      <th>3</th>\n",
       "      <td>3</td>\n",
       "      <td>1</td>\n",
       "      <td>4</td>\n",
       "      <td>מתאילנד</td>\n",
       "      <td>PREPOSITION^NNP</td>\n",
       "      <td>מ^תאילנד</td>\n",
       "      <td>מ^תאילנד</td>\n",
       "      <td>comp^pobj</td>\n",
       "      <td>^F</td>\n",
       "      <td>^S</td>\n",
       "      <td>^</td>\n",
       "      <td>^</td>\n",
       "      <td>^</td>\n",
       "      <td>^</td>\n",
       "      <td>^</td>\n",
       "      <td>1</td>\n",
       "    </tr>\n",
       "    <tr>\n",
       "      <th>4</th>\n",
       "      <td>4</td>\n",
       "      <td>1</td>\n",
       "      <td>5</td>\n",
       "      <td>לישראל</td>\n",
       "      <td>NNP</td>\n",
       "      <td>לישראל</td>\n",
       "      <td>לישראל</td>\n",
       "      <td>nn</td>\n",
       "      <td>F,M</td>\n",
       "      <td>S</td>\n",
       "      <td>NaN</td>\n",
       "      <td>NaN</td>\n",
       "      <td>NaN</td>\n",
       "      <td>NaN</td>\n",
       "      <td>NaN</td>\n",
       "      <td>1</td>\n",
       "    </tr>\n",
       "  </tbody>\n",
       "</table>\n",
       "</div>"
      ],
      "text/plain": [
       "   index  sent  misc_token_id misc_token_str          upostag      form  \\\n",
       "0      0     1              1          עשרות              CDT     עשרות   \n",
       "1      1     1              2          אנשים               NN     אנשים   \n",
       "2      2     1              3         מגיעים               BN    מגיעים   \n",
       "3      3     1              4        מתאילנד  PREPOSITION^NNP  מ^תאילנד   \n",
       "4      4     1              5         לישראל              NNP    לישראל   \n",
       "\n",
       "      lemma     deprel feats_gen feats_num feats_per feats_tense  \\\n",
       "0       עשר        num         F         P       NaN         NaN   \n",
       "1       איש       subj         M         P       NaN         NaN   \n",
       "2      הגיע       conj         M         P         A         NaN   \n",
       "3  מ^תאילנד  comp^pobj        ^F        ^S         ^           ^   \n",
       "4    לישראל         nn       F,M         S       NaN         NaN   \n",
       "\n",
       "  feats_suf_gen feats_suf_num feats_suf_per  sent_id  \n",
       "0           NaN           NaN           NaN        1  \n",
       "1           NaN           NaN           NaN        1  \n",
       "2           NaN           NaN           NaN        1  \n",
       "3             ^             ^             ^        1  \n",
       "4           NaN           NaN           NaN        1  "
      ]
     },
     "execution_count": 11,
     "metadata": {},
     "output_type": "execute_result"
    }
   ],
   "source": [
    "yap_dev_tok.head()"
   ]
  },
  {
   "cell_type": "code",
   "execution_count": 12,
   "metadata": {},
   "outputs": [
    {
     "data": {
      "text/plain": [
       "sent_id\n",
       "1    [[עשרות, CDT], [אנשים, NN], [מגיעים, BN], [מתא...\n",
       "2    [[תופעה, NN], [זו, PRP], [התבררה, VB], [אתמול,...\n",
       "3    [[יו\"ר, NNT], [הוועדה, DEF^NN], [,, yyCM], [ח\"...\n",
       "4    [[מצד, PREPOSITION^NN], [אחד, CD], [רוצה, BN],...\n",
       "5    [[נמיר, NNP], [הודיעה, VB], [כי, CC], [תפנה, V...\n",
       "dtype: object"
      ]
     },
     "execution_count": 12,
     "metadata": {},
     "output_type": "execute_result"
    }
   ],
   "source": [
    "yap_dev_tok_sents =  yap_dev_tok.groupby('sent_id')[['misc_token_str', 'upostag']].apply(lambda x: x.values.tolist())\n",
    "yap_dev_tok_sents.head()"
   ]
  },
  {
   "cell_type": "code",
   "execution_count": 13,
   "metadata": {},
   "outputs": [
    {
     "data": {
      "text/plain": [
       "sent_id\n",
       "5439    [[הכל, DEF^DTT], [נושאים, NN], [עמם, VB], [את,...\n",
       "5440    [[אומר, NNT], [מזכיר, NNT], [התק\"ם, DEF^NNP], ...\n",
       "5441    [[לא, RB], [ייתכן, MD], [שעולה, REL^NN], [יבוא...\n",
       "5442    [[לא, RB], [ייתכן, MD], [שהוא, REL^PRP], [יירד...\n",
       "5443    [[לכן, CC], [קבענו, VB], [עיקרון, NN], [שצריכה...\n",
       "dtype: object"
      ]
     },
     "execution_count": 13,
     "metadata": {},
     "output_type": "execute_result"
    }
   ],
   "source": [
    "yap_test_tok_sents =  yap_test_tok.groupby('sent_id')[['misc_token_str', 'upostag']].apply(lambda x: x.values.tolist())\n",
    "yap_test_tok_sents.head()"
   ]
  },
  {
   "cell_type": "code",
   "execution_count": 14,
   "metadata": {},
   "outputs": [],
   "source": [
    "gold_dev  = tokens_ner_with_upos_feats[tokens_ner_with_upos_feats.set=='dev']\n",
    "gold_train = tokens_ner_with_upos_feats[tokens_ner_with_upos_feats.set=='train']\n",
    "gold_test = tokens_ner_with_upos_feats[tokens_ner_with_upos_feats.set=='test']"
   ]
  },
  {
   "cell_type": "code",
   "execution_count": 15,
   "metadata": {},
   "outputs": [
    {
     "data": {
      "text/plain": [
       "sent_id\n",
       "5439    [[הכל, NN, O], [נושאים, BN, O], [עמם, IN^S_PRN...\n",
       "5440    [[אומר, BN, O], [מזכיר, NNT, O], [התק\"ם, NNP, ...\n",
       "5441    [[לא, RB, O], [ייתכן, MD, O], [שעולה, REL^NN, ...\n",
       "5442    [[לא, RB, O], [ייתכן, MD, O], [שהוא, REL^PRP, ...\n",
       "5443    [[לכן, CC, O], [קבענו, VB, O], [עיקרון, NN, O]...\n",
       "dtype: object"
      ]
     },
     "execution_count": 15,
     "metadata": {},
     "output_type": "execute_result"
    }
   ],
   "source": [
    "gold_dev_sents = gold_dev.groupby('sent_id')[['misc_token_str', 'upostag', 'biose']].apply(lambda x: x.values.tolist())\n",
    "gold_train_sents = gold_train.groupby('sent_id')[['misc_token_str', 'upostag', 'biose']].apply(lambda x: x.values.tolist())\n",
    "gold_test_sents = gold_test.groupby('sent_id')[['misc_token_str', 'upostag', 'biose']].apply(lambda x: x.values.tolist())\n",
    "gold_test_sents.head()"
   ]
  },
  {
   "cell_type": "code",
   "execution_count": 16,
   "metadata": {},
   "outputs": [
    {
     "data": {
      "text/plain": [
       "sent_id\n",
       "1    [[עשרות, CDT, O], [אנשים, NN, O], [מגיעים, BN,...\n",
       "2    [[תופעה, NN, O], [זו, PRP, O], [התבררה, VB, O]...\n",
       "3    [[יו\"ר, NNT, O], [הוועדה, DEF^NN, O], [,, yyCM...\n",
       "4    [[מצד, PREPOSITION^NN, O], [אחד, CD, O], [רוצה...\n",
       "5    [[נמיר, NNP, S-PER], [הודיעה, VB, O], [כי, CC,...\n",
       "dtype: object"
      ]
     },
     "execution_count": 16,
     "metadata": {},
     "output_type": "execute_result"
    }
   ],
   "source": [
    "gold_dev_sents.head()"
   ]
  },
  {
   "cell_type": "code",
   "execution_count": 17,
   "metadata": {},
   "outputs": [
    {
     "data": {
      "text/plain": [
       "28714"
      ]
     },
     "execution_count": 17,
     "metadata": {},
     "output_type": "execute_result"
    }
   ],
   "source": [
    "words = list(set(tokens_ner_with_upos_feats.misc_token_str.values)|set(yap_dev_tok.misc_token_str.values)|set(yap_test_tok.misc_token_str.values))\n",
    "n_words = len(words); n_words"
   ]
  },
  {
   "cell_type": "code",
   "execution_count": 18,
   "metadata": {},
   "outputs": [
    {
     "data": {
      "text/plain": [
       "36"
      ]
     },
     "execution_count": 18,
     "metadata": {},
     "output_type": "execute_result"
    }
   ],
   "source": [
    "tags = list(set(tokens_ner_with_upos_feats.biose.values))\n",
    "n_tags = len(tags); n_tags"
   ]
  },
  {
   "cell_type": "code",
   "execution_count": 19,
   "metadata": {},
   "outputs": [
    {
     "data": {
      "text/plain": [
       "<matplotlib.axes._subplots.AxesSubplot at 0x7fd633d11128>"
      ]
     },
     "execution_count": 19,
     "metadata": {},
     "output_type": "execute_result"
    },
    {
     "data": {
      "image/png": "[encoded data removed]",
      "text/plain": [
       "<Figure size 432x288 with 1 Axes>"
      ]
     },
     "metadata": {},
     "output_type": "display_data"
    }
   ],
   "source": [
    "gold_train.groupby('sent_id').size().hist(bins=50)"
   ]
  },
  {
   "cell_type": "code",
   "execution_count": 20,
   "metadata": {},
   "outputs": [
    {
     "data": {
      "text/plain": [
       "<matplotlib.axes._subplots.AxesSubplot at 0x7fd633ce92e8>"
      ]
     },
     "execution_count": 20,
     "metadata": {},
     "output_type": "execute_result"
    },
    {
     "data": {
      "image/png": "[encoded data removed]",
      "text/plain": [
       "<Figure size 432x288 with 1 Axes>"
      ]
     },
     "metadata": {},
     "output_type": "display_data"
    }
   ],
   "source": [
    "yap_dev_tok.groupby('sent_id').size().hist(bins=50)"
   ]
  },
  {
   "cell_type": "code",
   "execution_count": 21,
   "metadata": {},
   "outputs": [],
   "source": [
    "max_len = 80\n",
    "word2idx = {w: i + 2 for i, w in enumerate(words)}\n",
    "word2idx[\"UNK\"] = 1\n",
    "word2idx[\"PAD\"] = 0\n",
    "idx2word = {i: w for w, i in word2idx.items()}\n",
    "tag2idx = {t: i + 1 for i, t in enumerate(tags)}\n",
    "tag2idx[\"PAD\"] = 0\n",
    "idx2tag = {i: w for w, i in tag2idx.items()}"
   ]
  },
  {
   "cell_type": "code",
   "execution_count": 22,
   "metadata": {},
   "outputs": [],
   "source": [
    "from keras.preprocessing.sequence import pad_sequences\n",
    "X_gold_train = [[word2idx[w[0]] for w in s] for s in gold_train_sents]\n",
    "X_gold_dev   = [[word2idx[w[0]] for w in s] for s in gold_dev_sents]\n",
    "X_gold_test  = [[word2idx[w[0]] for w in s] for s in gold_test_sents]\n",
    "X_yap_dev    = [[word2idx[w[0]] for w in s] for s in yap_dev_tok_sents]\n",
    "X_yap_test   = [[word2idx[w[0]] for w in s] for s in yap_test_tok_sents]"
   ]
  },
  {
   "cell_type": "code",
   "execution_count": 23,
   "metadata": {},
   "outputs": [
    {
     "data": {
      "text/plain": [
       "array([10177,  8451, 12161, 15486, 24846,     0,     0,     0,     0,\n",
       "           0,     0,     0,     0,     0,     0,     0,     0,     0,\n",
       "           0,     0,     0,     0,     0,     0,     0,     0,     0,\n",
       "           0,     0,     0,     0,     0,     0,     0,     0,     0,\n",
       "           0,     0,     0,     0,     0,     0,     0,     0,     0,\n",
       "           0,     0,     0,     0,     0,     0,     0,     0,     0,\n",
       "           0,     0,     0,     0,     0,     0,     0,     0,     0,\n",
       "           0,     0,     0,     0,     0,     0,     0,     0,     0,\n",
       "           0,     0,     0,     0,     0,     0,     0,     0],\n",
       "      dtype=int32)"
      ]
     },
     "execution_count": 23,
     "metadata": {},
     "output_type": "execute_result"
    }
   ],
   "source": [
    "X_gold_train = pad_sequences(maxlen=max_len, sequences=X_gold_train, value=word2idx[\"PAD\"], padding='post', truncating='post')\n",
    "X_gold_dev   = pad_sequences(maxlen=max_len, sequences=X_gold_dev  , value=word2idx[\"PAD\"], padding='post', truncating='post')\n",
    "X_gold_test  = pad_sequences(maxlen=max_len, sequences=X_gold_test , value=word2idx[\"PAD\"], padding='post', truncating='post')\n",
    "X_yap_dev    = pad_sequences(maxlen=max_len, sequences=X_yap_dev   , value=word2idx[\"PAD\"], padding='post', truncating='post')\n",
    "X_yap_test   = pad_sequences(maxlen=max_len, sequences=X_yap_test  , value=word2idx[\"PAD\"], padding='post', truncating='post')\n",
    "X_gold_train[0]"
   ]
  },
  {
   "cell_type": "code",
   "execution_count": 24,
   "metadata": {},
   "outputs": [
    {
     "data": {
      "text/plain": [
       "352"
      ]
     },
     "execution_count": 24,
     "metadata": {},
     "output_type": "execute_result"
    }
   ],
   "source": [
    "pos = list(set(tokens_ner_with_upos_feats.upostag.values)|set(yap_dev_tok.upostag.values)|set(yap_test_tok.upostag.values))\n",
    "n_pos = len(pos); n_pos"
   ]
  },
  {
   "cell_type": "code",
   "execution_count": 25,
   "metadata": {
    "ExecuteTime": {
     "end_time": "2019-03-13T07:20:48.137589Z",
     "start_time": "2019-03-13T07:20:48.048826Z"
    }
   },
   "outputs": [],
   "source": [
    "pos2idx = {w: i+1 for i, w in enumerate(pos)}\n",
    "pos2idx[\"PAD\"] = 0\n"
   ]
  },
  {
   "cell_type": "code",
   "execution_count": 26,
   "metadata": {},
   "outputs": [],
   "source": [
    "idx2pos = {i: w for w, i in pos2idx.items()}"
   ]
  },
  {
   "cell_type": "code",
   "execution_count": 27,
   "metadata": {},
   "outputs": [],
   "source": [
    "from keras.preprocessing.sequence import pad_sequences\n",
    "X_pos_gold_train = [[pos2idx[w[1]] for w in s] for s in gold_train_sents]\n",
    "X_pos_gold_dev   = [[pos2idx[w[1]] for w in s] for s in gold_dev_sents]\n",
    "X_pos_gold_test  = [[pos2idx[w[1]] for w in s] for s in gold_test_sents]\n",
    "X_pos_yap_dev    = [[pos2idx[w[1]] for w in s] for s in yap_dev_tok_sents]\n",
    "X_pos_yap_test   = [[pos2idx[w[1]] for w in s] for s in yap_test_tok_sents]"
   ]
  },
  {
   "cell_type": "code",
   "execution_count": 28,
   "metadata": {},
   "outputs": [
    {
     "data": {
      "text/plain": [
       "array([ 21, 336, 331, 238,  93,   0,   0,   0,   0,   0,   0,   0,   0,\n",
       "         0,   0,   0,   0,   0,   0,   0,   0,   0,   0,   0,   0,   0,\n",
       "         0,   0,   0,   0,   0,   0,   0,   0,   0,   0,   0,   0,   0,\n",
       "         0,   0,   0,   0,   0,   0,   0,   0,   0,   0,   0,   0,   0,\n",
       "         0,   0,   0,   0,   0,   0,   0,   0,   0,   0,   0,   0,   0,\n",
       "         0,   0,   0,   0,   0,   0,   0,   0,   0,   0,   0,   0,   0,\n",
       "         0,   0], dtype=int32)"
      ]
     },
     "execution_count": 28,
     "metadata": {},
     "output_type": "execute_result"
    }
   ],
   "source": [
    "X_pos_gold_train = pad_sequences(maxlen=max_len, sequences=X_pos_gold_train, value=pos2idx[\"PAD\"], padding='post', truncating='post')\n",
    "X_pos_gold_dev   = pad_sequences(maxlen=max_len, sequences=X_pos_gold_dev  , value=pos2idx[\"PAD\"], padding='post', truncating='post')\n",
    "X_pos_gold_test  = pad_sequences(maxlen=max_len, sequences=X_pos_gold_test , value=pos2idx[\"PAD\"], padding='post', truncating='post')\n",
    "X_pos_yap_dev    = pad_sequences(maxlen=max_len, sequences=X_pos_yap_dev   , value=pos2idx[\"PAD\"], padding='post', truncating='post')\n",
    "X_pos_yap_test   = pad_sequences(maxlen=max_len, sequences=X_pos_yap_test  , value=pos2idx[\"PAD\"], padding='post', truncating='post')\n",
    "X_pos_gold_train[0]"
   ]
  },
  {
   "cell_type": "code",
   "execution_count": 29,
   "metadata": {},
   "outputs": [],
   "source": [
    "from keras.preprocessing.sequence import pad_sequences\n",
    "y_gold_train = [[tag2idx[w[2]] for w in s] for s in gold_train_sents]\n",
    "y_gold_dev   = [[tag2idx[w[2]] for w in s] for s in gold_dev_sents]\n",
    "y_gold_test  = [[tag2idx[w[2]] for w in s] for s in gold_test_sents]"
   ]
  },
  {
   "cell_type": "code",
   "execution_count": 30,
   "metadata": {},
   "outputs": [
    {
     "data": {
      "text/plain": [
       "array([21, 21, 21, 21, 21,  0,  0,  0,  0,  0,  0,  0,  0,  0,  0,  0,  0,\n",
       "        0,  0,  0,  0,  0,  0,  0,  0,  0,  0,  0,  0,  0,  0,  0,  0,  0,\n",
       "        0,  0,  0,  0,  0,  0,  0,  0,  0,  0,  0,  0,  0,  0,  0,  0,  0,\n",
       "        0,  0,  0,  0,  0,  0,  0,  0,  0,  0,  0,  0,  0,  0,  0,  0,  0,\n",
       "        0,  0,  0,  0,  0,  0,  0,  0,  0,  0,  0,  0], dtype=int32)"
      ]
     },
     "execution_count": 30,
     "metadata": {},
     "output_type": "execute_result"
    }
   ],
   "source": [
    "y_numer_gold_train = pad_sequences(maxlen=max_len, sequences=y_gold_train, value=pos2idx[\"PAD\"], padding='post', truncating='post')\n",
    "y_numer_gold_dev   = pad_sequences(maxlen=max_len, sequences=y_gold_dev  , value=pos2idx[\"PAD\"], padding='post', truncating='post')\n",
    "y_numer_gold_test  = pad_sequences(maxlen=max_len, sequences=y_gold_test , value=pos2idx[\"PAD\"], padding='post', truncating='post')\n",
    "y_numer_gold_train[0]"
   ]
  },
  {
   "cell_type": "code",
   "execution_count": 31,
   "metadata": {
    "ExecuteTime": {
     "end_time": "2019-03-13T07:20:48.330074Z",
     "start_time": "2019-03-13T07:20:48.226353Z"
    }
   },
   "outputs": [
    {
     "data": {
      "text/plain": [
       "(80, 37)"
      ]
     },
     "execution_count": 31,
     "metadata": {},
     "output_type": "execute_result"
    }
   ],
   "source": [
    "from keras.utils import to_categorical\n",
    "y_gold_train = [to_categorical(i, num_classes=n_tags+1) for i in y_numer_gold_train]\n",
    "y_gold_dev   = [to_categorical(i, num_classes=n_tags+1) for i in y_numer_gold_dev  ]\n",
    "y_gold_test  = [to_categorical(i, num_classes=n_tags+1) for i in y_numer_gold_test ]\n",
    "\n",
    "y_gold_train[0].shape"
   ]
  },
  {
   "cell_type": "code",
   "execution_count": 32,
   "metadata": {},
   "outputs": [
    {
     "data": {
      "text/plain": [
       "(80, 353)"
      ]
     },
     "execution_count": 32,
     "metadata": {},
     "output_type": "execute_result"
    }
   ],
   "source": [
    "X_pos_gold_train = [to_categorical(i, num_classes=n_pos+1) for i in X_pos_gold_train]\n",
    "X_pos_gold_dev   = [to_categorical(i, num_classes=n_pos+1) for i in X_pos_gold_dev  ]\n",
    "X_pos_gold_test  = [to_categorical(i, num_classes=n_pos+1) for i in X_pos_gold_test ]\n",
    "\n",
    "X_pos_gold_train[0].shape"
   ]
  },
  {
   "cell_type": "code",
   "execution_count": 33,
   "metadata": {},
   "outputs": [
    {
     "data": {
      "text/plain": [
       "0.09196247930844216"
      ]
     },
     "execution_count": 33,
     "metadata": {},
     "output_type": "execute_result"
    }
   ],
   "source": [
    "validation_split = len(X_gold_dev) / (len(X_gold_train)+len(X_gold_dev))\n",
    "validation_split"
   ]
  },
  {
   "cell_type": "code",
   "execution_count": 34,
   "metadata": {},
   "outputs": [],
   "source": [
    "splits = [[X_gold_train, X_gold_dev,\n",
    "           X_pos_gold_train, X_pos_gold_dev,\n",
    "           X_pos_gold_train, X_pos_gold_dev ]]"
   ]
  },
  {
   "cell_type": "markdown",
   "metadata": {},
   "source": [
    "### Prep char input"
   ]
  },
  {
   "cell_type": "code",
   "execution_count": 35,
   "metadata": {
    "ExecuteTime": {
     "end_time": "2019-01-31T13:58:31.324599Z",
     "start_time": "2019-01-31T13:58:31.077207Z"
    }
   },
   "outputs": [
    {
     "data": {
      "text/plain": [
       "<matplotlib.axes._subplots.AxesSubplot at 0x7fd633b53710>"
      ]
     },
     "execution_count": 35,
     "metadata": {},
     "output_type": "execute_result"
    },
    {
     "data": {
      "image/png": "[encoded data removed]",
      "text/plain": [
       "<Figure size 432x288 with 1 Axes>"
      ]
     },
     "metadata": {},
     "output_type": "display_data"
    }
   ],
   "source": [
    "tokens_ner_with_upos_feats.misc_token_str.apply(len).hist(bins=18)"
   ]
  },
  {
   "cell_type": "code",
   "execution_count": 36,
   "metadata": {
    "ExecuteTime": {
     "end_time": "2019-01-31T13:58:31.340217Z",
     "start_time": "2019-01-31T13:58:31.324599Z"
    }
   },
   "outputs": [],
   "source": [
    "max_len_char = 12"
   ]
  },
  {
   "cell_type": "code",
   "execution_count": 37,
   "metadata": {
    "ExecuteTime": {
     "end_time": "2019-01-31T13:58:32.660554Z",
     "start_time": "2019-01-31T13:58:32.613692Z"
    }
   },
   "outputs": [
    {
     "name": "stdout",
     "output_type": "stream",
     "text": [
      "50\n"
     ]
    }
   ],
   "source": [
    "chars = set([w_i for w in words for w_i in w])\n",
    "n_chars = len(chars)\n",
    "print(n_chars)"
   ]
  },
  {
   "cell_type": "code",
   "execution_count": 38,
   "metadata": {
    "ExecuteTime": {
     "end_time": "2019-01-31T13:58:33.732950Z",
     "start_time": "2019-01-31T13:58:33.717366Z"
    }
   },
   "outputs": [],
   "source": [
    "char2idx = {c: i + 2 for i, c in enumerate(chars)}\n",
    "char2idx[\"UNK\"] = 1\n",
    "char2idx[\"PAD\"] = 0"
   ]
  },
  {
   "cell_type": "code",
   "execution_count": 39,
   "metadata": {
    "ExecuteTime": {
     "end_time": "2019-01-31T13:58:36.324286Z",
     "start_time": "2019-01-31T13:58:34.303392Z"
    }
   },
   "outputs": [],
   "source": [
    "\n",
    "def get_X_char(sents):\n",
    "    X_char = []\n",
    "    for sentence in sents:\n",
    "        sent_seq = []\n",
    "        for i in range(max_len):\n",
    "            word_seq = []\n",
    "            for j in range(max_len_char):\n",
    "                try:\n",
    "                    word_seq.append(char2idx.get(sentence[i][0][j]))\n",
    "                except:\n",
    "                    word_seq.append(char2idx.get(\"PAD\"))\n",
    "            sent_seq.append(word_seq)\n",
    "        X_char.append(np.array(sent_seq))\n",
    "    return X_char"
   ]
  },
  {
   "cell_type": "code",
   "execution_count": 40,
   "metadata": {},
   "outputs": [],
   "source": [
    "X_char_gold_dev   = get_X_char(gold_dev_sents  )\n",
    "X_char_gold_train = get_X_char(gold_train_sents)\n",
    "X_char_gold_test  = get_X_char(gold_test_sents )\n",
    "X_char_yap_dev    = get_X_char(yap_dev_tok_sents   )\n",
    "X_char_yap_test   = get_X_char(yap_test_tok_sents  )\n",
    "\n",
    "\n",
    "\n",
    "splits_char = [[X_char_gold_train, X_char_gold_dev,\n",
    "                X_pos_gold_train, X_pos_gold_dev]]"
   ]
  },
  {
   "cell_type": "markdown",
   "metadata": {},
   "source": [
    "## Embeddings"
   ]
  },
  {
   "cell_type": "code",
   "execution_count": 41,
   "metadata": {},
   "outputs": [
    {
     "data": {
      "text/plain": [
       "{'yap_w2v_sg': '../wordembedding-hebrew/vectors_orig_tok/wikipedia.yap_form.word2vec_skipgram.txt',\n",
       " 'yap_w2v_cbow': '../wordembedding-hebrew/vectors_orig_tok/wikipedia.yap_form.word2vec_cbow.txt',\n",
       " 'yap_glove': '../wordembedding-hebrew/vectors_orig_tok/wikipedia.yap_form.glove.txt',\n",
       " 'yap_ft_sg': '../wordembedding-hebrew/vectors_orig_tok/wikipedia.yap_form.fasttext_skipgram.model.vec',\n",
       " 'yap_ft_cbow': '../wordembedding-hebrew/vectors_orig_tok/wikipedia.yap_form.fasttext_cbow.model.vec',\n",
       " 'token_w2v_sg': '../wordembedding-hebrew/vectors_orig_tok/wikipedia.tokenized.word2vec_skipgram.txt',\n",
       " 'token_w2v_cbow': '../wordembedding-hebrew/vectors_orig_tok/wikipedia.tokenized.word2vec_cbow.txt',\n",
       " 'token_glove': '../wordembedding-hebrew/vectors_orig_tok/wikipedia.tokenized.glove.txt',\n",
       " 'token_ft_sg': '../wordembedding-hebrew/vectors_orig_tok/wikipedia.tokenized.fasttext_skipgram.model.vec',\n",
       " 'token_ft_cbow': '../wordembedding-hebrew/vectors_orig_tok/wikipedia.tokenized.fasttext_cbow.model.vec',\n",
       " 'pretrained_token_ft': '../fasttext/wiki.he.vec',\n",
       " 'pretrained_token_ft_cc': '../fasttext/cc.he.300.vec',\n",
       " 'alt_tok_yap_w2v_sg': '../wordembedding-hebrew/vectors_alt_tok/wikipedia.alt_tok.yap_form.word2vec_skipgram.txt',\n",
       " 'alt_tok_yap_w2v_cbow': '../wordembedding-hebrew/vectors_alt_tok/wikipedia.alt_tok.yap_form.word2vec_cbow.txt',\n",
       " 'alt_tok_yap_glove': '../wordembedding-hebrew/vectors_alt_tok/wikipedia.alt_tok.yap_form.glove.txt',\n",
       " 'alt_tok_yap_ft_sg': '../wordembedding-hebrew/vectors_alt_tok/wikipedia.alt_tok.yap_form.fasttext_skipgram.model.vec',\n",
       " 'alt_tok_yap_ft_cbow': '../wordembedding-hebrew/vectors_alt_tok/wikipedia.alt_tok.yap_form.fasttext_cbow.model.vec',\n",
       " 'alt_tok_token_w2v_sg': '../wordembedding-hebrew/vectors_alt_tok/wikipedia.alt_tok.tokenized.word2vec_skipgram.txt',\n",
       " 'alt_tok_token_w2v_cbow': '../wordembedding-hebrew/vectors_alt_tok/wikipedia.alt_tok.tokenized.word2vec_cbow.txt',\n",
       " 'alt_tok_token_glove': '../wordembedding-hebrew/vectors_alt_tok/wikipedia.alt_tok.tokenized.glove.txt',\n",
       " 'alt_tok_token_ft_sg': '../wordembedding-hebrew/vectors_alt_tok/wikipedia.alt_tok.tokenized.fasttext_skipgram.model.vec',\n",
       " 'alt_tok_token_ft_cbow': '../wordembedding-hebrew/vectors_alt_tok/wikipedia.alt_tok.tokenized.fasttext_cbow.model.vec',\n",
       " 'alt_tok_tuned_yap_ft_sg': '../wordembedding-hebrew/vectors_alt_tok/wikipedia.alt_tok.yap_form.fasttext_skipgram.tuned.model.vec',\n",
       " 'alt_tok_tuned_yap_ft_cbow': '../wordembedding-hebrew/vectors_alt_tok/wikipedia.alt_tok.yap_form.fasttext_cbow.tuned.model.vec',\n",
       " 'alt_tok_tuned_yap_w2v_sg': '../wordembedding-hebrew/vectors_alt_tok/wikipedia.alt_tok.yap_form.word2vec_skipgram.tuned.txt',\n",
       " 'alt_tok_tuned_yap_w2v_cbow': '../wordembedding-hebrew/vectors_alt_tok/wikipedia.alt_tok.yap_form.word2vec_cbow.tuned.txt',\n",
       " 'alt_tok_tuned_yap_glove': '../wordembedding-hebrew/vectors_alt_tok/wikipedia.alt_tok.yap_form.glove.tuned.txt'}"
      ]
     },
     "execution_count": 41,
     "metadata": {},
     "output_type": "execute_result"
    }
   ],
   "source": [
    "embedding_paths"
   ]
  },
  {
   "cell_type": "code",
   "execution_count": 42,
   "metadata": {},
   "outputs": [],
   "source": [
    "exclude = ['tuned', 'cbow', 'token', 'pretrained']\n",
    "include = 'alt_tok_yap_ft'"
   ]
  },
  {
   "cell_type": "code",
   "execution_count": 43,
   "metadata": {},
   "outputs": [
    {
     "name": "stdout",
     "output_type": "stream",
     "text": [
      "loading word embeddings: ../wordembedding-hebrew/vectors_alt_tok/wikipedia.alt_tok.yap_form.fasttext_skipgram.model.vec\n",
      "found 245642 word vectors\n",
      "preparing embedding matrix...\n",
      "number of null word embeddings: 12629\n",
      "sample words not found:  ['ותמורת' 'הרקטור' 'במולדת' 'הגנבות' 'קפידבינמשמעות' 'כבנק' 'ותחושה'\n",
      " 'השפע' 'בידיהם' 'הרשליקוביץ']\n"
     ]
    }
   ],
   "source": [
    "embedding_mats = {}\n",
    "for emb_name, emb_path in embedding_paths.items():\n",
    "    skip=False\n",
    "    if include not in emb_name:\n",
    "        continue\n",
    "        \n",
    "    for exc in exclude:\n",
    "        if exc in emb_path:\n",
    "            skip=True\n",
    "    if skip:\n",
    "        continue\n",
    "    embedding_mats[emb_name] = get_embedding_matrix(emb_path, word2idx)"
   ]
  },
  {
   "cell_type": "markdown",
   "metadata": {},
   "source": [
    "## Model building"
   ]
  },
  {
   "cell_type": "code",
   "execution_count": 44,
   "metadata": {},
   "outputs": [],
   "source": [
    "from ner_utils import *"
   ]
  },
  {
   "cell_type": "code",
   "execution_count": 45,
   "metadata": {},
   "outputs": [
    {
     "data": {
      "text/plain": [
       "[{'optimizer': 'adam',\n",
       "  'output_dropout': True,\n",
       "  'add_random_embedding': False,\n",
       "  'use_char': True,\n",
       "  'crf': True,\n",
       "  'use_pos': False,\n",
       "  'embedding_matrix': 'alt_tok_yap_ft_sg',\n",
       "  'trainable': False,\n",
       "  'stack_lstm': 2},\n",
       " {'optimizer': 'adam',\n",
       "  'output_dropout': True,\n",
       "  'add_random_embedding': False,\n",
       "  'use_char': False,\n",
       "  'crf': True,\n",
       "  'use_pos': False,\n",
       "  'embedding_matrix': 'alt_tok_yap_ft_sg',\n",
       "  'trainable': False,\n",
       "  'stack_lstm': 2}]"
      ]
     },
     "execution_count": 45,
     "metadata": {},
     "output_type": "execute_result"
    }
   ],
   "source": [
    "configs = build_configs(predict_pos_with_emb, embedding_mats)\n",
    "configs     "
   ]
  },
  {
   "cell_type": "code",
   "execution_count": 46,
   "metadata": {},
   "outputs": [],
   "source": [
    "for conf in configs:\n",
    "    conf['patience'] = 10"
   ]
  },
  {
   "cell_type": "code",
   "execution_count": 47,
   "metadata": {},
   "outputs": [],
   "source": [
    "out_folder = 'results/predict_pos'\n",
    "if not os.path.exists(out_folder):\n",
    "    os.mkdir(out_folder)"
   ]
  },
  {
   "cell_type": "code",
   "execution_count": 48,
   "metadata": {},
   "outputs": [],
   "source": [
    "extra_preds = [(X_gold_test, X_pos_gold_test, X_char_gold_test), \n",
    "               (X_yap_dev, X_pos_yap_dev, X_char_yap_dev),\n",
    "               (X_yap_test, X_pos_yap_test, X_char_yap_test)]"
   ]
  },
  {
   "cell_type": "code",
   "execution_count": 49,
   "metadata": {},
   "outputs": [],
   "source": [
    "from ner_utils import *"
   ]
  },
  {
   "cell_type": "code",
   "execution_count": 50,
   "metadata": {
    "ExecuteTime": {
     "end_time": "2019-03-13T11:31:02.793857Z",
     "start_time": "2019-03-13T11:16:17.267695Z"
    },
    "scrolled": true
   },
   "outputs": [
    {
     "name": "stdout",
     "output_type": "stream",
     "text": [
      "__________________________________________________________________________________________________\n",
      "Layer (type)                    Output Shape         Param #     Connected to                     \n",
      "==================================================================================================\n",
      "input_2 (InputLayer)            (None, 80, 12)       0                                            \n",
      "__________________________________________________________________________________________________\n",
      "input_1 (InputLayer)            (None, 80)           0                                            \n",
      "__________________________________________________________________________________________________\n",
      "time_distributed_1 (TimeDistrib (None, 80, 12, 20)   1040        input_2[0][0]                    \n",
      "__________________________________________________________________________________________________\n",
      "embedding_1 (Embedding)         (None, 80, 300)      8614800     input_1[0][0]                    \n",
      "__________________________________________________________________________________________________\n",
      "time_distributed_2 (TimeDistrib (None, 80, 20)       2480        time_distributed_1[0][0]         \n",
      "__________________________________________________________________________________________________\n",
      "concatenate_1 (Concatenate)     (None, 80, 320)      0           embedding_1[0][0]                \n",
      "                                                                 time_distributed_2[0][0]         \n",
      "__________________________________________________________________________________________________\n",
      "spatial_dropout1d_1 (SpatialDro (None, 80, 320)      0           concatenate_1[0][0]              \n",
      "__________________________________________________________________________________________________\n",
      "bidirectional_2 (Bidirectional) (None, 80, 200)      336800      spatial_dropout1d_1[0][0]        \n",
      "__________________________________________________________________________________________________\n",
      "bidirectional_3 (Bidirectional) (None, 80, 200)      240800      bidirectional_2[0][0]            \n",
      "__________________________________________________________________________________________________\n",
      "dropout_1 (Dropout)             (None, 80, 200)      0           bidirectional_3[0][0]            \n",
      "__________________________________________________________________________________________________\n",
      "time_distributed_3 (TimeDistrib (None, 80, 50)       10050       dropout_1[0][0]                  \n",
      "__________________________________________________________________________________________________\n",
      "crf_1 (CRF)                     (None, 80, 353)      143318      time_distributed_3[0][0]         \n",
      "==================================================================================================\n",
      "Total params: 9,349,288\n",
      "Trainable params: 734,488\n",
      "Non-trainable params: 8,614,800\n",
      "__________________________________________________________________________________________________\n",
      "None\n",
      "Train on 4482 samples, validate on 455 samples\n",
      "Epoch 1/100\n",
      " - 102s - loss: 1.3405 - crf_accuracy: 0.7530 - val_loss: 0.7807 - val_crf_accuracy: 0.8059\n",
      "Epoch 2/100\n",
      " - 94s - loss: 0.7286 - crf_accuracy: 0.8180 - val_loss: 0.6113 - val_crf_accuracy: 0.8383\n",
      "Epoch 3/100\n",
      " - 92s - loss: 0.5261 - crf_accuracy: 0.8654 - val_loss: 0.4029 - val_crf_accuracy: 0.9023\n",
      "Epoch 4/100\n",
      " - 91s - loss: 0.3785 - crf_accuracy: 0.9024 - val_loss: 0.2944 - val_crf_accuracy: 0.9258\n",
      "Epoch 5/100\n",
      " - 91s - loss: 0.3032 - crf_accuracy: 0.9206 - val_loss: 0.2465 - val_crf_accuracy: 0.9359\n",
      "Epoch 6/100\n",
      " - 93s - loss: 0.2567 - crf_accuracy: 0.9311 - val_loss: 0.2089 - val_crf_accuracy: 0.9452\n",
      "Epoch 7/100\n",
      " - 93s - loss: 0.2226 - crf_accuracy: 0.9387 - val_loss: 0.1816 - val_crf_accuracy: 0.9513\n",
      "Epoch 8/100\n",
      " - 93s - loss: 0.1968 - crf_accuracy: 0.9445 - val_loss: 0.1620 - val_crf_accuracy: 0.9554\n",
      "Epoch 9/100\n",
      " - 93s - loss: 0.1776 - crf_accuracy: 0.9486 - val_loss: 0.1473 - val_crf_accuracy: 0.9582\n",
      "Epoch 10/100\n",
      " - 93s - loss: 0.1617 - crf_accuracy: 0.9524 - val_loss: 0.1371 - val_crf_accuracy: 0.9613\n",
      "Epoch 11/100\n",
      " - 93s - loss: 0.1504 - crf_accuracy: 0.9551 - val_loss: 0.1313 - val_crf_accuracy: 0.9619\n",
      "Epoch 12/100\n",
      " - 93s - loss: 0.1407 - crf_accuracy: 0.9569 - val_loss: 0.1248 - val_crf_accuracy: 0.9637\n",
      "Epoch 13/100\n",
      " - 92s - loss: 0.1310 - crf_accuracy: 0.9594 - val_loss: 0.1177 - val_crf_accuracy: 0.9666\n",
      "Epoch 14/100\n",
      " - 92s - loss: 0.1240 - crf_accuracy: 0.9611 - val_loss: 0.1146 - val_crf_accuracy: 0.9660\n",
      "Epoch 15/100\n",
      " - 92s - loss: 0.1179 - crf_accuracy: 0.9623 - val_loss: 0.1090 - val_crf_accuracy: 0.9677\n",
      "Epoch 16/100\n",
      " - 93s - loss: 0.1122 - crf_accuracy: 0.9635 - val_loss: 0.1057 - val_crf_accuracy: 0.9687\n",
      "Epoch 17/100\n",
      " - 94s - loss: 0.1056 - crf_accuracy: 0.9653 - val_loss: 0.1036 - val_crf_accuracy: 0.9685\n",
      "Epoch 18/100\n",
      " - 93s - loss: 0.1005 - crf_accuracy: 0.9667 - val_loss: 0.1013 - val_crf_accuracy: 0.9687\n",
      "Epoch 19/100\n",
      " - 94s - loss: 0.0965 - crf_accuracy: 0.9672 - val_loss: 0.0980 - val_crf_accuracy: 0.9694\n",
      "Epoch 20/100\n",
      " - 93s - loss: 0.0908 - crf_accuracy: 0.9686 - val_loss: 0.0956 - val_crf_accuracy: 0.9702\n",
      "Epoch 21/100\n",
      " - 94s - loss: 0.0868 - crf_accuracy: 0.9694 - val_loss: 0.0929 - val_crf_accuracy: 0.9702\n",
      "Epoch 22/100\n",
      " - 93s - loss: 0.0823 - crf_accuracy: 0.9704 - val_loss: 0.0908 - val_crf_accuracy: 0.9709\n",
      "Epoch 23/100\n",
      " - 93s - loss: 0.0790 - crf_accuracy: 0.9712 - val_loss: 0.0875 - val_crf_accuracy: 0.9714\n",
      "Epoch 24/100\n",
      " - 93s - loss: 0.0750 - crf_accuracy: 0.9719 - val_loss: 0.0868 - val_crf_accuracy: 0.9713\n",
      "Epoch 25/100\n",
      " - 93s - loss: 0.0714 - crf_accuracy: 0.9726 - val_loss: 0.0861 - val_crf_accuracy: 0.9712\n",
      "Epoch 26/100\n",
      " - 92s - loss: 0.0684 - crf_accuracy: 0.9730 - val_loss: 0.0819 - val_crf_accuracy: 0.9725\n",
      "Epoch 27/100\n",
      " - 93s - loss: 0.0629 - crf_accuracy: 0.9745 - val_loss: 0.0818 - val_crf_accuracy: 0.9722\n",
      "Epoch 28/100\n",
      " - 93s - loss: 0.0603 - crf_accuracy: 0.9750 - val_loss: 0.0799 - val_crf_accuracy: 0.9729\n",
      "Epoch 29/100\n",
      " - 92s - loss: 0.0572 - crf_accuracy: 0.9754 - val_loss: 0.0780 - val_crf_accuracy: 0.9734\n",
      "Epoch 30/100\n",
      " - 92s - loss: 0.0532 - crf_accuracy: 0.9763 - val_loss: 0.0747 - val_crf_accuracy: 0.9737\n",
      "Epoch 31/100\n",
      " - 92s - loss: 0.0494 - crf_accuracy: 0.9769 - val_loss: 0.0732 - val_crf_accuracy: 0.9741\n",
      "Epoch 32/100\n",
      " - 92s - loss: 0.0473 - crf_accuracy: 0.9773 - val_loss: 0.0708 - val_crf_accuracy: 0.9745\n",
      "Epoch 33/100\n",
      " - 93s - loss: 0.0441 - crf_accuracy: 0.9775 - val_loss: 0.0716 - val_crf_accuracy: 0.9744\n",
      "Epoch 34/100\n",
      " - 94s - loss: 0.0404 - crf_accuracy: 0.9785 - val_loss: 0.0700 - val_crf_accuracy: 0.9740\n",
      "Epoch 35/100\n",
      " - 93s - loss: 0.0370 - crf_accuracy: 0.9791 - val_loss: 0.0696 - val_crf_accuracy: 0.9738\n",
      "Epoch 36/100\n",
      " - 93s - loss: 0.0329 - crf_accuracy: 0.9798 - val_loss: 0.0653 - val_crf_accuracy: 0.9748\n",
      "Epoch 37/100\n",
      " - 93s - loss: 0.0309 - crf_accuracy: 0.9800 - val_loss: 0.0644 - val_crf_accuracy: 0.9756\n",
      "Epoch 38/100\n",
      " - 93s - loss: 0.0274 - crf_accuracy: 0.9809 - val_loss: 0.0608 - val_crf_accuracy: 0.9756\n",
      "Epoch 39/100\n",
      " - 93s - loss: 0.0250 - crf_accuracy: 0.9810 - val_loss: 0.0605 - val_crf_accuracy: 0.9755\n",
      "Epoch 40/100\n",
      " - 94s - loss: 0.0210 - crf_accuracy: 0.9818 - val_loss: 0.0596 - val_crf_accuracy: 0.9751\n",
      "Epoch 41/100\n",
      " - 93s - loss: 0.0186 - crf_accuracy: 0.9818 - val_loss: 0.0583 - val_crf_accuracy: 0.9759\n",
      "Epoch 42/100\n",
      " - 93s - loss: 0.0151 - crf_accuracy: 0.9825 - val_loss: 0.0588 - val_crf_accuracy: 0.9749\n",
      "Epoch 43/100\n",
      " - 92s - loss: 0.0118 - crf_accuracy: 0.9830 - val_loss: 0.0560 - val_crf_accuracy: 0.9757\n",
      "Epoch 44/100\n",
      " - 93s - loss: 0.0086 - crf_accuracy: 0.9837 - val_loss: 0.0532 - val_crf_accuracy: 0.9754\n",
      "Epoch 45/100\n",
      " - 93s - loss: 0.0070 - crf_accuracy: 0.9834 - val_loss: 0.0526 - val_crf_accuracy: 0.9760\n",
      "Epoch 46/100\n",
      " - 94s - loss: 0.0029 - crf_accuracy: 0.9843 - val_loss: 0.0530 - val_crf_accuracy: 0.9760\n",
      "Epoch 47/100\n",
      " - 92s - loss: 5.8487e-04 - crf_accuracy: 0.9844 - val_loss: 0.0510 - val_crf_accuracy: 0.9759\n",
      "Epoch 48/100\n",
      " - 94s - loss: -9.9813e-04 - crf_accuracy: 0.9846 - val_loss: 0.0501 - val_crf_accuracy: 0.9758\n",
      "Epoch 49/100\n",
      " - 93s - loss: -4.7699e-03 - crf_accuracy: 0.9851 - val_loss: 0.0498 - val_crf_accuracy: 0.9753\n",
      "Epoch 50/100\n",
      " - 94s - loss: -8.5320e-03 - crf_accuracy: 0.9860 - val_loss: 0.0468 - val_crf_accuracy: 0.9762\n",
      "Epoch 51/100\n",
      " - 94s - loss: -1.0804e-02 - crf_accuracy: 0.9860 - val_loss: 0.0462 - val_crf_accuracy: 0.9762\n",
      "Epoch 52/100\n",
      " - 94s - loss: -1.3371e-02 - crf_accuracy: 0.9860 - val_loss: 0.0462 - val_crf_accuracy: 0.9760\n",
      "Epoch 53/100\n",
      " - 94s - loss: -1.6950e-02 - crf_accuracy: 0.9870 - val_loss: 0.0445 - val_crf_accuracy: 0.9760\n",
      "Epoch 54/100\n",
      " - 94s - loss: -1.8846e-02 - crf_accuracy: 0.9869 - val_loss: 0.0419 - val_crf_accuracy: 0.9767\n",
      "Epoch 55/100\n",
      " - 93s - loss: -2.0318e-02 - crf_accuracy: 0.9870 - val_loss: 0.0416 - val_crf_accuracy: 0.9760\n",
      "Epoch 56/100\n",
      " - 93s - loss: -2.4797e-02 - crf_accuracy: 0.9879 - val_loss: 0.0412 - val_crf_accuracy: 0.9757\n",
      "Epoch 57/100\n",
      " - 93s - loss: -2.7121e-02 - crf_accuracy: 0.9877 - val_loss: 0.0382 - val_crf_accuracy: 0.9757\n",
      "Epoch 58/100\n",
      " - 91s - loss: -2.9832e-02 - crf_accuracy: 0.9883 - val_loss: 0.0376 - val_crf_accuracy: 0.9767\n",
      "Epoch 59/100\n",
      " - 91s - loss: -3.0711e-02 - crf_accuracy: 0.9878 - val_loss: 0.0370 - val_crf_accuracy: 0.9759\n",
      "Epoch 60/100\n",
      " - 89s - loss: -3.4381e-02 - crf_accuracy: 0.9888 - val_loss: 0.0333 - val_crf_accuracy: 0.9765\n",
      "Epoch 61/100\n",
      " - 89s - loss: -3.6288e-02 - crf_accuracy: 0.9888 - val_loss: 0.0311 - val_crf_accuracy: 0.9773\n",
      "Epoch 62/100\n",
      " - 88s - loss: -3.8411e-02 - crf_accuracy: 0.9888 - val_loss: 0.0319 - val_crf_accuracy: 0.9766\n",
      "Epoch 63/100\n",
      " - 88s - loss: -4.2078e-02 - crf_accuracy: 0.9895 - val_loss: 0.0303 - val_crf_accuracy: 0.9770\n",
      "Epoch 64/100\n",
      " - 88s - loss: -4.4586e-02 - crf_accuracy: 0.9898 - val_loss: 0.0316 - val_crf_accuracy: 0.9766\n",
      "Epoch 65/100\n",
      " - 88s - loss: -4.6836e-02 - crf_accuracy: 0.9898 - val_loss: 0.0303 - val_crf_accuracy: 0.9763\n",
      "Epoch 66/100\n",
      " - 88s - loss: -4.9574e-02 - crf_accuracy: 0.9905 - val_loss: 0.0294 - val_crf_accuracy: 0.9764\n",
      "Epoch 67/100\n",
      " - 88s - loss: -5.1642e-02 - crf_accuracy: 0.9903 - val_loss: 0.0273 - val_crf_accuracy: 0.9765\n",
      "Epoch 68/100\n",
      " - 88s - loss: -5.4599e-02 - crf_accuracy: 0.9910 - val_loss: 0.0253 - val_crf_accuracy: 0.9765\n",
      "Epoch 69/100\n",
      " - 88s - loss: -5.6768e-02 - crf_accuracy: 0.9909 - val_loss: 0.0227 - val_crf_accuracy: 0.9771\n",
      "Epoch 70/100\n",
      " - 88s - loss: -5.8276e-02 - crf_accuracy: 0.9907 - val_loss: 0.0244 - val_crf_accuracy: 0.9766\n",
      "Epoch 71/100\n",
      " - 89s - loss: -6.1353e-02 - crf_accuracy: 0.9913 - val_loss: 0.0221 - val_crf_accuracy: 0.9770\n",
      "Restoring model weights from the end of the best epoch\n",
      "Epoch 00071: early stopping\n"
     ]
    },
    {
     "data": {
      "image/png": "[encoded data removed]",
      "text/plain": [
       "<Figure size 432x288 with 1 Axes>"
      ]
     },
     "metadata": {},
     "output_type": "display_data"
    },
    {
     "name": "stdout",
     "output_type": "stream",
     "text": [
      "_________________________________________________________________\n",
      "Layer (type)                 Output Shape              Param #   \n",
      "=================================================================\n",
      "input_3 (InputLayer)         (None, 80)                0         \n",
      "_________________________________________________________________\n",
      "embedding_3 (Embedding)      (None, 80, 300)           8614800   \n",
      "_________________________________________________________________\n",
      "bidirectional_4 (Bidirection (None, 80, 200)           320800    \n",
      "_________________________________________________________________\n",
      "bidirectional_5 (Bidirection (None, 80, 200)           240800    \n",
      "_________________________________________________________________\n",
      "dropout_2 (Dropout)          (None, 80, 200)           0         \n",
      "_________________________________________________________________\n",
      "time_distributed_4 (TimeDist (None, 80, 50)            10050     \n",
      "_________________________________________________________________\n",
      "crf_2 (CRF)                  (None, 80, 353)           143318    \n",
      "=================================================================\n",
      "Total params: 9,329,768\n",
      "Trainable params: 714,968\n",
      "Non-trainable params: 8,614,800\n",
      "_________________________________________________________________\n",
      "None\n",
      "Train on 4482 samples, validate on 455 samples\n",
      "Epoch 1/100\n",
      " - 88s - loss: 1.4004 - crf_accuracy: 0.7447 - val_loss: 0.7864 - val_crf_accuracy: 0.7964\n",
      "Epoch 2/100\n",
      " - 86s - loss: 0.7559 - crf_accuracy: 0.8076 - val_loss: 0.6799 - val_crf_accuracy: 0.8251\n",
      "Epoch 3/100\n",
      " - 85s - loss: 0.6110 - crf_accuracy: 0.8433 - val_loss: 0.5014 - val_crf_accuracy: 0.8695\n",
      "Epoch 4/100\n",
      " - 82s - loss: 0.4571 - crf_accuracy: 0.8796 - val_loss: 0.3912 - val_crf_accuracy: 0.8984\n",
      "Epoch 5/100\n",
      " - 82s - loss: 0.3719 - crf_accuracy: 0.9021 - val_loss: 0.3332 - val_crf_accuracy: 0.9122\n",
      "Epoch 6/100\n",
      " - 85s - loss: 0.3231 - crf_accuracy: 0.9152 - val_loss: 0.2952 - val_crf_accuracy: 0.9230\n",
      "Epoch 7/100\n",
      " - 87s - loss: 0.2906 - crf_accuracy: 0.9231 - val_loss: 0.2754 - val_crf_accuracy: 0.9269\n",
      "Epoch 8/100\n",
      " - 87s - loss: 0.2637 - crf_accuracy: 0.9296 - val_loss: 0.2515 - val_crf_accuracy: 0.9345\n",
      "Epoch 9/100\n",
      " - 87s - loss: 0.2430 - crf_accuracy: 0.9349 - val_loss: 0.2498 - val_crf_accuracy: 0.9336\n",
      "Epoch 10/100\n",
      " - 84s - loss: 0.2279 - crf_accuracy: 0.9382 - val_loss: 0.2256 - val_crf_accuracy: 0.9393\n",
      "Epoch 11/100\n",
      " - 81s - loss: 0.2122 - crf_accuracy: 0.9418 - val_loss: 0.2151 - val_crf_accuracy: 0.9434\n",
      "Epoch 12/100\n",
      " - 82s - loss: 0.1998 - crf_accuracy: 0.9449 - val_loss: 0.2095 - val_crf_accuracy: 0.9443\n",
      "Epoch 13/100\n",
      " - 82s - loss: 0.1890 - crf_accuracy: 0.9471 - val_loss: 0.2042 - val_crf_accuracy: 0.9451\n",
      "Epoch 14/100\n",
      " - 82s - loss: 0.1793 - crf_accuracy: 0.9496 - val_loss: 0.1959 - val_crf_accuracy: 0.9468\n",
      "Epoch 15/100\n",
      " - 82s - loss: 0.1707 - crf_accuracy: 0.9513 - val_loss: 0.1892 - val_crf_accuracy: 0.9480\n",
      "Epoch 16/100\n",
      " - 82s - loss: 0.1621 - crf_accuracy: 0.9532 - val_loss: 0.1840 - val_crf_accuracy: 0.9490\n",
      "Epoch 17/100\n",
      " - 81s - loss: 0.1554 - crf_accuracy: 0.9547 - val_loss: 0.1816 - val_crf_accuracy: 0.9487\n",
      "Epoch 18/100\n",
      " - 81s - loss: 0.1478 - crf_accuracy: 0.9563 - val_loss: 0.1779 - val_crf_accuracy: 0.9495\n",
      "Epoch 19/100\n",
      " - 86s - loss: 0.1414 - crf_accuracy: 0.9581 - val_loss: 0.1737 - val_crf_accuracy: 0.9518\n",
      "Epoch 20/100\n",
      " - 86s - loss: 0.1346 - crf_accuracy: 0.9593 - val_loss: 0.1734 - val_crf_accuracy: 0.9526\n",
      "Epoch 21/100\n",
      " - 87s - loss: 0.1288 - crf_accuracy: 0.9607 - val_loss: 0.1707 - val_crf_accuracy: 0.9527\n",
      "Epoch 22/100\n",
      " - 86s - loss: 0.1228 - crf_accuracy: 0.9620 - val_loss: 0.1690 - val_crf_accuracy: 0.9531\n",
      "Epoch 23/100\n",
      " - 87s - loss: 0.1177 - crf_accuracy: 0.9630 - val_loss: 0.1687 - val_crf_accuracy: 0.9537\n",
      "Epoch 24/100\n",
      " - 87s - loss: 0.1116 - crf_accuracy: 0.9644 - val_loss: 0.1687 - val_crf_accuracy: 0.9534\n",
      "Epoch 25/100\n",
      " - 87s - loss: 0.1073 - crf_accuracy: 0.9655 - val_loss: 0.1660 - val_crf_accuracy: 0.9537\n",
      "Epoch 26/100\n",
      " - 86s - loss: 0.1004 - crf_accuracy: 0.9668 - val_loss: 0.1635 - val_crf_accuracy: 0.9543\n",
      "Epoch 27/100\n",
      " - 87s - loss: 0.0953 - crf_accuracy: 0.9677 - val_loss: 0.1638 - val_crf_accuracy: 0.9540\n",
      "Epoch 28/100\n",
      " - 87s - loss: 0.0907 - crf_accuracy: 0.9688 - val_loss: 0.1635 - val_crf_accuracy: 0.9550\n",
      "Epoch 29/100\n",
      " - 88s - loss: 0.0852 - crf_accuracy: 0.9703 - val_loss: 0.1653 - val_crf_accuracy: 0.9543\n",
      "Epoch 30/100\n",
      " - 87s - loss: 0.0804 - crf_accuracy: 0.9708 - val_loss: 0.1704 - val_crf_accuracy: 0.9538\n",
      "Epoch 31/100\n",
      " - 87s - loss: 0.0752 - crf_accuracy: 0.9721 - val_loss: 0.1670 - val_crf_accuracy: 0.9539\n",
      "Epoch 32/100\n",
      " - 86s - loss: 0.0701 - crf_accuracy: 0.9733 - val_loss: 0.1704 - val_crf_accuracy: 0.9543\n",
      "Epoch 33/100\n",
      " - 86s - loss: 0.0656 - crf_accuracy: 0.9740 - val_loss: 0.1681 - val_crf_accuracy: 0.9541\n",
      "Epoch 34/100\n",
      " - 86s - loss: 0.0598 - crf_accuracy: 0.9752 - val_loss: 0.1711 - val_crf_accuracy: 0.9547\n",
      "Epoch 35/100\n",
      " - 86s - loss: 0.0554 - crf_accuracy: 0.9758 - val_loss: 0.1771 - val_crf_accuracy: 0.9524\n",
      "Epoch 36/100\n",
      " - 86s - loss: 0.0507 - crf_accuracy: 0.9770 - val_loss: 0.1735 - val_crf_accuracy: 0.9544\n",
      "Epoch 37/100\n",
      " - 87s - loss: 0.0464 - crf_accuracy: 0.9780 - val_loss: 0.1794 - val_crf_accuracy: 0.9535\n",
      "Epoch 38/100\n",
      " - 86s - loss: 0.0415 - crf_accuracy: 0.9786 - val_loss: 0.1821 - val_crf_accuracy: 0.9534\n",
      "Restoring model weights from the end of the best epoch\n",
      "Epoch 00038: early stopping\n"
     ]
    },
    {
     "data": {
      "image/png": "[encoded data removed]",
      "text/plain": [
       "<Figure size 432x288 with 1 Axes>"
      ]
     },
     "metadata": {},
     "output_type": "display_data"
    }
   ],
   "source": [
    "configs, results, preds, histories = run_models_pos(configs, splits, splits_char, embedding_mats, \n",
    "                                                words, max_len, n_words, idx2word, idx2pos,\n",
    "                                                n_pos, max_len_char, n_pos, n_chars,\n",
    "                                                run_name='treebank_tokens_predict_pos2', out_folder=out_folder,\n",
    "                                                skip_if_model_exists=True,\n",
    "                                                validation_split=validation_split,\n",
    "                                                extra_predictions=extra_preds,\n",
    "                                                #epochs=1,\n",
    "                                                )"
   ]
  },
  {
   "cell_type": "code",
   "execution_count": 53,
   "metadata": {},
   "outputs": [],
   "source": [
    "from keras import backend as K\n",
    "K.clear_session()"
   ]
  },
  {
   "cell_type": "code",
   "execution_count": null,
   "metadata": {},
   "outputs": [],
   "source": []
  },
  {
   "cell_type": "code",
   "execution_count": null,
   "metadata": {},
   "outputs": [],
   "source": []
  },
  {
   "cell_type": "code",
   "execution_count": null,
   "metadata": {},
   "outputs": [],
   "source": []
  },
  {
   "cell_type": "code",
   "execution_count": null,
   "metadata": {},
   "outputs": [],
   "source": []
  },
  {
   "cell_type": "code",
   "execution_count": null,
   "metadata": {},
   "outputs": [],
   "source": []
  },
  {
   "cell_type": "code",
   "execution_count": null,
   "metadata": {},
   "outputs": [],
   "source": []
  },
  {
   "cell_type": "code",
   "execution_count": null,
   "metadata": {},
   "outputs": [],
   "source": []
  },
  {
   "cell_type": "code",
   "execution_count": null,
   "metadata": {},
   "outputs": [],
   "source": []
  }
 ],
 "metadata": {
  "kernelspec": {
   "display_name": "Python 3",
   "language": "python",
   "name": "python3"
  },
  "language_info": {
   "codemirror_mode": {
    "name": "ipython",
    "version": 3
   },
   "file_extension": ".py",
   "mimetype": "text/x-python",
   "name": "python",
   "nbconvert_exporter": "python",
   "pygments_lexer": "ipython3",
   "version": "3.7.4"
  }
 },
 "nbformat": 4,
 "nbformat_minor": 4
}
