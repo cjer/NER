{
 "cells": [
  {
   "cell_type": "markdown",
   "metadata": {},
   "source": [
    "# Treebank NER with Bi-LSTM-CRF on morphemes"
   ]
  },
  {
   "cell_type": "code",
   "execution_count": 1,
   "metadata": {},
   "outputs": [],
   "source": [
    "import os\n",
    "os.environ[\"CUDA_DEVICE_ORDER\"]=\"PCI_BUS_ID\";\n",
    " \n",
    "# The GPU id to use, usually either \"0\" or \"1\";\n",
    "os.environ[\"CUDA_VISIBLE_DEVICES\"]=\"1\";  "
   ]
  },
  {
   "cell_type": "code",
   "execution_count": 2,
   "metadata": {},
   "outputs": [],
   "source": [
    "%load_ext autoreload\n",
    "%autoreload 2"
   ]
  },
  {
   "cell_type": "code",
   "execution_count": 3,
   "metadata": {
    "ExecuteTime": {
     "end_time": "2019-03-13T07:20:24.034028Z",
     "start_time": "2019-03-13T07:20:22.687626Z"
    }
   },
   "outputs": [],
   "source": [
    "%matplotlib inline"
   ]
  },
  {
   "cell_type": "code",
   "execution_count": 4,
   "metadata": {
    "ExecuteTime": {
     "end_time": "2019-03-13T07:20:24.382406Z",
     "start_time": "2019-03-13T07:20:24.037019Z"
    }
   },
   "outputs": [],
   "source": [
    "import pandas as pd\n",
    "import numpy as np"
   ]
  },
  {
   "cell_type": "code",
   "execution_count": 5,
   "metadata": {
    "ExecuteTime": {
     "end_time": "2019-03-13T07:20:27.996727Z",
     "start_time": "2019-03-13T07:20:24.385088Z"
    }
   },
   "outputs": [],
   "source": [
    "import matplotlib.pyplot as plt\n",
    "import seaborn as sns\n",
    "sns.set_context('paper')\n",
    "sns.set_style('white')"
   ]
  },
  {
   "cell_type": "code",
   "execution_count": 6,
   "metadata": {
    "ExecuteTime": {
     "end_time": "2019-03-13T07:20:28.016424Z",
     "start_time": "2019-03-13T07:20:27.999427Z"
    }
   },
   "outputs": [],
   "source": [
    "from conlleval import evaluate"
   ]
  },
  {
   "cell_type": "code",
   "execution_count": 7,
   "metadata": {},
   "outputs": [
    {
     "name": "stderr",
     "output_type": "stream",
     "text": [
      "Using TensorFlow backend.\n"
     ]
    }
   ],
   "source": [
    "from ner_utils import *"
   ]
  },
  {
   "cell_type": "markdown",
   "metadata": {},
   "source": [
    "## Get morpheme data"
   ]
  },
  {
   "cell_type": "code",
   "execution_count": 8,
   "metadata": {},
   "outputs": [],
   "source": [
    "yap_dev = pd.read_csv('new_yap_outputs/yap_dev.csv.gz', compression='gzip')\n",
    "yap_test = pd.read_csv('new_yap_outputs/yap_test.csv.gz', compression='gzip')"
   ]
  },
  {
   "cell_type": "code",
   "execution_count": 9,
   "metadata": {},
   "outputs": [],
   "source": [
    "dropped = [5438, 5444, 5445, 5446, 5448, 5449, 5450, 5451, 5453, 5459]"
   ]
  },
  {
   "cell_type": "code",
   "execution_count": 10,
   "metadata": {},
   "outputs": [],
   "source": [
    "spdf = pd.read_csv('align/spdf_fixed.csv.gz', compression='gzip')\n",
    "spdf = spdf[(~spdf.sent_id.isin(dropped))]"
   ]
  },
  {
   "cell_type": "code",
   "execution_count": 11,
   "metadata": {},
   "outputs": [
    {
     "data": {
      "text/html": [
       "<div>\n",
       "<style scoped>\n",
       "    .dataframe tbody tr th:only-of-type {\n",
       "        vertical-align: middle;\n",
       "    }\n",
       "\n",
       "    .dataframe tbody tr th {\n",
       "        vertical-align: top;\n",
       "    }\n",
       "\n",
       "    .dataframe thead th {\n",
       "        text-align: right;\n",
       "    }\n",
       "</style>\n",
       "<table border=\"1\" class=\"dataframe\">\n",
       "  <thead>\n",
       "    <tr style=\"text-align: right;\">\n",
       "      <th></th>\n",
       "      <th>id</th>\n",
       "      <th>form</th>\n",
       "      <th>lemma</th>\n",
       "      <th>upostag</th>\n",
       "      <th>xpostag</th>\n",
       "      <th>feats</th>\n",
       "      <th>token_id</th>\n",
       "      <th>sent_id</th>\n",
       "      <th>token_str</th>\n",
       "      <th>global_sent_id</th>\n",
       "      <th>...</th>\n",
       "      <th>binyan</th>\n",
       "      <th>biose</th>\n",
       "      <th>ner_layers</th>\n",
       "      <th>ner</th>\n",
       "      <th>head</th>\n",
       "      <th>deprel</th>\n",
       "      <th>deps</th>\n",
       "      <th>misc</th>\n",
       "      <th>ner_escaped</th>\n",
       "      <th>set</th>\n",
       "    </tr>\n",
       "  </thead>\n",
       "  <tbody>\n",
       "    <tr>\n",
       "      <th>0</th>\n",
       "      <td>1</td>\n",
       "      <td>עשרות</td>\n",
       "      <td>עשר</td>\n",
       "      <td>CDT</td>\n",
       "      <td>CDT</td>\n",
       "      <td>gen=F|num=P</td>\n",
       "      <td>1</td>\n",
       "      <td>1</td>\n",
       "      <td>עשרות</td>\n",
       "      <td>1</td>\n",
       "      <td>...</td>\n",
       "      <td>---</td>\n",
       "      <td>O</td>\n",
       "      <td>0</td>\n",
       "      <td>_</td>\n",
       "      <td>2</td>\n",
       "      <td>num</td>\n",
       "      <td>_</td>\n",
       "      <td>_</td>\n",
       "      <td>_</td>\n",
       "      <td>dev</td>\n",
       "    </tr>\n",
       "    <tr>\n",
       "      <th>1</th>\n",
       "      <td>2</td>\n",
       "      <td>אנשים</td>\n",
       "      <td>איש</td>\n",
       "      <td>NN</td>\n",
       "      <td>NN</td>\n",
       "      <td>gen=M|num=P</td>\n",
       "      <td>2</td>\n",
       "      <td>1</td>\n",
       "      <td>אנשים</td>\n",
       "      <td>1</td>\n",
       "      <td>...</td>\n",
       "      <td>---</td>\n",
       "      <td>O</td>\n",
       "      <td>0</td>\n",
       "      <td>_</td>\n",
       "      <td>3</td>\n",
       "      <td>subj</td>\n",
       "      <td>_</td>\n",
       "      <td>_</td>\n",
       "      <td>_</td>\n",
       "      <td>dev</td>\n",
       "    </tr>\n",
       "    <tr>\n",
       "      <th>2</th>\n",
       "      <td>3</td>\n",
       "      <td>מגיעים</td>\n",
       "      <td>הגיע</td>\n",
       "      <td>BN</td>\n",
       "      <td>BN</td>\n",
       "      <td>gen=M|num=P|per=A|HebBinyan=HIFIL</td>\n",
       "      <td>3</td>\n",
       "      <td>1</td>\n",
       "      <td>מגיעים</td>\n",
       "      <td>1</td>\n",
       "      <td>...</td>\n",
       "      <td>HIFIL</td>\n",
       "      <td>O</td>\n",
       "      <td>0</td>\n",
       "      <td>_</td>\n",
       "      <td>0</td>\n",
       "      <td>ROOT</td>\n",
       "      <td>_</td>\n",
       "      <td>_</td>\n",
       "      <td>_</td>\n",
       "      <td>dev</td>\n",
       "    </tr>\n",
       "    <tr>\n",
       "      <th>3</th>\n",
       "      <td>4</td>\n",
       "      <td>מ</td>\n",
       "      <td>מ</td>\n",
       "      <td>PREPOSITION</td>\n",
       "      <td>PREPOSITION</td>\n",
       "      <td>_</td>\n",
       "      <td>4</td>\n",
       "      <td>1</td>\n",
       "      <td>מתאילנד</td>\n",
       "      <td>1</td>\n",
       "      <td>...</td>\n",
       "      <td>---</td>\n",
       "      <td>O</td>\n",
       "      <td>0</td>\n",
       "      <td>_</td>\n",
       "      <td>3</td>\n",
       "      <td>prepmod</td>\n",
       "      <td>_</td>\n",
       "      <td>_</td>\n",
       "      <td>_</td>\n",
       "      <td>dev</td>\n",
       "    </tr>\n",
       "    <tr>\n",
       "      <th>4</th>\n",
       "      <td>5</td>\n",
       "      <td>תאילנד</td>\n",
       "      <td>תאילנד</td>\n",
       "      <td>NNP</td>\n",
       "      <td>NNP</td>\n",
       "      <td>_</td>\n",
       "      <td>4</td>\n",
       "      <td>1</td>\n",
       "      <td>מתאילנד</td>\n",
       "      <td>1</td>\n",
       "      <td>...</td>\n",
       "      <td>---</td>\n",
       "      <td>S-GPE</td>\n",
       "      <td>1</td>\n",
       "      <td>GPE</td>\n",
       "      <td>4</td>\n",
       "      <td>pobj</td>\n",
       "      <td>_</td>\n",
       "      <td>_</td>\n",
       "      <td>GPE</td>\n",
       "      <td>dev</td>\n",
       "    </tr>\n",
       "  </tbody>\n",
       "</table>\n",
       "<p>5 rows × 21 columns</p>\n",
       "</div>"
      ],
      "text/plain": [
       "   id    form   lemma      upostag      xpostag  \\\n",
       "0   1   עשרות     עשר          CDT          CDT   \n",
       "1   2   אנשים     איש           NN           NN   \n",
       "2   3  מגיעים    הגיע           BN           BN   \n",
       "3   4       מ       מ  PREPOSITION  PREPOSITION   \n",
       "4   5  תאילנד  תאילנד          NNP          NNP   \n",
       "\n",
       "                               feats  token_id  sent_id token_str  \\\n",
       "0                        gen=F|num=P         1        1     עשרות   \n",
       "1                        gen=M|num=P         2        1     אנשים   \n",
       "2  gen=M|num=P|per=A|HebBinyan=HIFIL         3        1    מגיעים   \n",
       "3                                  _         4        1   מתאילנד   \n",
       "4                                  _         4        1   מתאילנד   \n",
       "\n",
       "   global_sent_id  ...  binyan  biose ner_layers  ner head   deprel deps misc  \\\n",
       "0               1  ...     ---      O          0    _    2      num    _    _   \n",
       "1               1  ...     ---      O          0    _    3     subj    _    _   \n",
       "2               1  ...   HIFIL      O          0    _    0     ROOT    _    _   \n",
       "3               1  ...     ---      O          0    _    3  prepmod    _    _   \n",
       "4               1  ...     ---  S-GPE          1  GPE    4     pobj    _    _   \n",
       "\n",
       "  ner_escaped  set  \n",
       "0           _  dev  \n",
       "1           _  dev  \n",
       "2           _  dev  \n",
       "3           _  dev  \n",
       "4         GPE  dev  \n",
       "\n",
       "[5 rows x 21 columns]"
      ]
     },
     "execution_count": 11,
     "metadata": {},
     "output_type": "execute_result"
    }
   ],
   "source": [
    "spdf.head()"
   ]
  },
  {
   "cell_type": "code",
   "execution_count": 12,
   "metadata": {},
   "outputs": [
    {
     "data": {
      "text/html": [
       "<div>\n",
       "<style scoped>\n",
       "    .dataframe tbody tr th:only-of-type {\n",
       "        vertical-align: middle;\n",
       "    }\n",
       "\n",
       "    .dataframe tbody tr th {\n",
       "        vertical-align: top;\n",
       "    }\n",
       "\n",
       "    .dataframe thead th {\n",
       "        text-align: right;\n",
       "    }\n",
       "</style>\n",
       "<table border=\"1\" class=\"dataframe\">\n",
       "  <thead>\n",
       "    <tr style=\"text-align: right;\">\n",
       "      <th></th>\n",
       "      <th>id</th>\n",
       "      <th>form</th>\n",
       "      <th>lemma</th>\n",
       "      <th>upostag</th>\n",
       "      <th>xpostag</th>\n",
       "      <th>head</th>\n",
       "      <th>deprel</th>\n",
       "      <th>deps</th>\n",
       "      <th>misc</th>\n",
       "      <th>sent</th>\n",
       "      <th>misc_token_id</th>\n",
       "      <th>misc_token_str</th>\n",
       "      <th>feats_gen</th>\n",
       "      <th>feats_num</th>\n",
       "      <th>feats_per</th>\n",
       "      <th>feats_tense</th>\n",
       "      <th>feats_suf_gen</th>\n",
       "      <th>feats_suf_num</th>\n",
       "      <th>feats_suf_per</th>\n",
       "      <th>sent_id</th>\n",
       "    </tr>\n",
       "  </thead>\n",
       "  <tbody>\n",
       "    <tr>\n",
       "      <th>0</th>\n",
       "      <td>1</td>\n",
       "      <td>עשרות</td>\n",
       "      <td>עשר</td>\n",
       "      <td>CDT</td>\n",
       "      <td>CDT</td>\n",
       "      <td>2</td>\n",
       "      <td>num</td>\n",
       "      <td>_</td>\n",
       "      <td>_</td>\n",
       "      <td>1</td>\n",
       "      <td>1</td>\n",
       "      <td>עשרות</td>\n",
       "      <td>F</td>\n",
       "      <td>P</td>\n",
       "      <td>NaN</td>\n",
       "      <td>NaN</td>\n",
       "      <td>NaN</td>\n",
       "      <td>NaN</td>\n",
       "      <td>NaN</td>\n",
       "      <td>1</td>\n",
       "    </tr>\n",
       "    <tr>\n",
       "      <th>1</th>\n",
       "      <td>2</td>\n",
       "      <td>אנשים</td>\n",
       "      <td>איש</td>\n",
       "      <td>NN</td>\n",
       "      <td>NN</td>\n",
       "      <td>3</td>\n",
       "      <td>subj</td>\n",
       "      <td>_</td>\n",
       "      <td>_</td>\n",
       "      <td>1</td>\n",
       "      <td>2</td>\n",
       "      <td>אנשים</td>\n",
       "      <td>M</td>\n",
       "      <td>P</td>\n",
       "      <td>NaN</td>\n",
       "      <td>NaN</td>\n",
       "      <td>NaN</td>\n",
       "      <td>NaN</td>\n",
       "      <td>NaN</td>\n",
       "      <td>1</td>\n",
       "    </tr>\n",
       "    <tr>\n",
       "      <th>2</th>\n",
       "      <td>3</td>\n",
       "      <td>מגיעים</td>\n",
       "      <td>הגיע</td>\n",
       "      <td>BN</td>\n",
       "      <td>BN</td>\n",
       "      <td>14</td>\n",
       "      <td>conj</td>\n",
       "      <td>_</td>\n",
       "      <td>_</td>\n",
       "      <td>1</td>\n",
       "      <td>3</td>\n",
       "      <td>מגיעים</td>\n",
       "      <td>M</td>\n",
       "      <td>P</td>\n",
       "      <td>A</td>\n",
       "      <td>NaN</td>\n",
       "      <td>NaN</td>\n",
       "      <td>NaN</td>\n",
       "      <td>NaN</td>\n",
       "      <td>1</td>\n",
       "    </tr>\n",
       "    <tr>\n",
       "      <th>3</th>\n",
       "      <td>4</td>\n",
       "      <td>מ</td>\n",
       "      <td>מ</td>\n",
       "      <td>PREPOSITION</td>\n",
       "      <td>PREPOSITION</td>\n",
       "      <td>3</td>\n",
       "      <td>comp</td>\n",
       "      <td>_</td>\n",
       "      <td>_</td>\n",
       "      <td>1</td>\n",
       "      <td>4</td>\n",
       "      <td>מתאילנד</td>\n",
       "      <td>NaN</td>\n",
       "      <td>NaN</td>\n",
       "      <td>NaN</td>\n",
       "      <td>NaN</td>\n",
       "      <td>NaN</td>\n",
       "      <td>NaN</td>\n",
       "      <td>NaN</td>\n",
       "      <td>1</td>\n",
       "    </tr>\n",
       "    <tr>\n",
       "      <th>4</th>\n",
       "      <td>5</td>\n",
       "      <td>תאילנד</td>\n",
       "      <td>תאילנד</td>\n",
       "      <td>NNP</td>\n",
       "      <td>NNP</td>\n",
       "      <td>4</td>\n",
       "      <td>pobj</td>\n",
       "      <td>_</td>\n",
       "      <td>_</td>\n",
       "      <td>1</td>\n",
       "      <td>4</td>\n",
       "      <td>מתאילנד</td>\n",
       "      <td>F</td>\n",
       "      <td>S</td>\n",
       "      <td>NaN</td>\n",
       "      <td>NaN</td>\n",
       "      <td>NaN</td>\n",
       "      <td>NaN</td>\n",
       "      <td>NaN</td>\n",
       "      <td>1</td>\n",
       "    </tr>\n",
       "  </tbody>\n",
       "</table>\n",
       "</div>"
      ],
      "text/plain": [
       "   id    form   lemma      upostag      xpostag  head deprel deps misc  sent  \\\n",
       "0   1   עשרות     עשר          CDT          CDT     2    num    _    _     1   \n",
       "1   2   אנשים     איש           NN           NN     3   subj    _    _     1   \n",
       "2   3  מגיעים    הגיע           BN           BN    14   conj    _    _     1   \n",
       "3   4       מ       מ  PREPOSITION  PREPOSITION     3   comp    _    _     1   \n",
       "4   5  תאילנד  תאילנד          NNP          NNP     4   pobj    _    _     1   \n",
       "\n",
       "   misc_token_id misc_token_str feats_gen feats_num feats_per feats_tense  \\\n",
       "0              1          עשרות         F         P       NaN         NaN   \n",
       "1              2          אנשים         M         P       NaN         NaN   \n",
       "2              3         מגיעים         M         P         A         NaN   \n",
       "3              4        מתאילנד       NaN       NaN       NaN         NaN   \n",
       "4              4        מתאילנד         F         S       NaN         NaN   \n",
       "\n",
       "  feats_suf_gen feats_suf_num  feats_suf_per  sent_id  \n",
       "0           NaN           NaN            NaN        1  \n",
       "1           NaN           NaN            NaN        1  \n",
       "2           NaN           NaN            NaN        1  \n",
       "3           NaN           NaN            NaN        1  \n",
       "4           NaN           NaN            NaN        1  "
      ]
     },
     "execution_count": 12,
     "metadata": {},
     "output_type": "execute_result"
    }
   ],
   "source": [
    "yap_dev.head()"
   ]
  },
  {
   "cell_type": "code",
   "execution_count": 13,
   "metadata": {},
   "outputs": [
    {
     "data": {
      "text/plain": [
       "sent_id\n",
       "1    [[עשרות, CDT], [אנשים, NN], [מגיעים, BN], [מ, ...\n",
       "2    [[תופעה, NN], [זו, PRP], [התבררה, VB], [אתמול,...\n",
       "3    [[יו\"ר, NNT], [ה, DEF], [וועדה, NN], [,, yyCM]...\n",
       "4    [[מ, PREPOSITION], [צד, NN], [אחד, CD], [רוצה,...\n",
       "5    [[נמיר, NNP], [הודיעה, VB], [כי, CC], [תפנה, V...\n",
       "dtype: object"
      ]
     },
     "execution_count": 13,
     "metadata": {},
     "output_type": "execute_result"
    }
   ],
   "source": [
    "yap_dev_sents =  yap_dev.groupby('sent_id')[['form', 'upostag']].apply(lambda x: x.values.tolist())\n",
    "yap_dev_sents.head()"
   ]
  },
  {
   "cell_type": "code",
   "execution_count": 14,
   "metadata": {},
   "outputs": [
    {
     "data": {
      "text/plain": [
       "sent_id\n",
       "5439    [[ה, DEF], [כל, DTT], [נושאים, NN], [עמם, VB],...\n",
       "5440    [[אומר, NNT], [מזכיר, NNT], [ה, DEF], [תק\"ם, N...\n",
       "5441    [[לא, RB], [ייתכן, MD], [ש, REL], [עולה, NN], ...\n",
       "5442    [[לא, RB], [ייתכן, MD], [ש, REL], [הוא, PRP], ...\n",
       "5443    [[לכן, CC], [קבענו, VB], [עיקרון, NN], [ש, REL...\n",
       "dtype: object"
      ]
     },
     "execution_count": 14,
     "metadata": {},
     "output_type": "execute_result"
    }
   ],
   "source": [
    "yap_test_sents =  yap_test.groupby('sent_id')[['form', 'upostag']].apply(lambda x: x.values.tolist())\n",
    "yap_test_sents.head()"
   ]
  },
  {
   "cell_type": "code",
   "execution_count": 15,
   "metadata": {},
   "outputs": [],
   "source": [
    "gold_dev  = spdf[spdf.set=='dev']\n",
    "gold_train = spdf[spdf.set=='train']\n",
    "gold_test = spdf[spdf.set=='test']"
   ]
  },
  {
   "cell_type": "code",
   "execution_count": 16,
   "metadata": {},
   "outputs": [
    {
     "data": {
      "text/plain": [
       "sent_id\n",
       "5439    [[הכל, NN, O], [נושאים, BN, O], [עמ, IN, O], [...\n",
       "5440    [[אומר, BN, O], [מזכיר, NNT, O], [התק\"ם, NNP, ...\n",
       "5441    [[לא, RB, O], [ייתכן, MD, O], [ש, REL, O], [עו...\n",
       "5442    [[לא, RB, O], [ייתכן, MD, O], [ש, REL, O], [הו...\n",
       "5443    [[לכן, CC, O], [קבענו, VB, O], [עיקרון, NN, O]...\n",
       "dtype: object"
      ]
     },
     "execution_count": 16,
     "metadata": {},
     "output_type": "execute_result"
    }
   ],
   "source": [
    "gold_dev_sents = gold_dev.groupby('sent_id')[['form', 'upostag', 'biose']].apply(lambda x: x.values.tolist())\n",
    "gold_train_sents = gold_train.groupby('sent_id')[['form', 'upostag', 'biose']].apply(lambda x: x.values.tolist())\n",
    "gold_test_sents = gold_test.groupby('sent_id')[['form', 'upostag', 'biose']].apply(lambda x: x.values.tolist())\n",
    "gold_test_sents.head()"
   ]
  },
  {
   "cell_type": "code",
   "execution_count": 17,
   "metadata": {},
   "outputs": [],
   "source": [
    "def write_conll_output(sents, output_path):\n",
    "    with open(output_path, 'w', encoding='utf-8') as f:\n",
    "        for s in sents:\n",
    "            for m, p, n in s:\n",
    "                f.write(m +' [POS]' + p + ' ' + n + '\\n')\n",
    "            f.write('\\n')\n",
    "            \n",
    "write_conll_output(gold_dev_sents, 'data/ner/morph_dev_pos_biose.bmes')\n",
    "write_conll_output(gold_train_sents, 'data/ner/morph_train_pos_biose.bmes')\n",
    "write_conll_output(gold_test_sents, 'data/ner/morph_test_pos_biose.bmes')"
   ]
  },
  {
   "cell_type": "code",
   "execution_count": 18,
   "metadata": {},
   "outputs": [
    {
     "data": {
      "text/plain": [
       "18465"
      ]
     },
     "execution_count": 18,
     "metadata": {},
     "output_type": "execute_result"
    }
   ],
   "source": [
    "words = list(set(spdf.form.values)|set(yap_dev.form.values)|set(yap_test.form.values))\n",
    "n_words = len(words); n_words"
   ]
  },
  {
   "cell_type": "code",
   "execution_count": 19,
   "metadata": {},
   "outputs": [
    {
     "data": {
      "text/plain": [
       "37"
      ]
     },
     "execution_count": 19,
     "metadata": {},
     "output_type": "execute_result"
    }
   ],
   "source": [
    "tags = list(set(spdf.biose.values))\n",
    "n_tags = len(tags); n_tags"
   ]
  },
  {
   "cell_type": "code",
   "execution_count": 20,
   "metadata": {},
   "outputs": [
    {
     "data": {
      "text/plain": [
       "<matplotlib.axes._subplots.AxesSubplot at 0x7faabb49a0f0>"
      ]
     },
     "execution_count": 20,
     "metadata": {},
     "output_type": "execute_result"
    },
    {
     "data": {
      "image/png": "[encoded data removed]",
      "text/plain": [
       "<Figure size 432x288 with 1 Axes>"
      ]
     },
     "metadata": {},
     "output_type": "display_data"
    }
   ],
   "source": [
    "gold_train.groupby('sent_id').size().hist(bins=50)"
   ]
  },
  {
   "cell_type": "code",
   "execution_count": 21,
   "metadata": {},
   "outputs": [
    {
     "data": {
      "text/plain": [
       "<matplotlib.axes._subplots.AxesSubplot at 0x7faabb3dd978>"
      ]
     },
     "execution_count": 21,
     "metadata": {},
     "output_type": "execute_result"
    },
    {
     "data": {
      "image/png": "[encoded data removed]",
      "text/plain": [
       "<Figure size 432x288 with 1 Axes>"
      ]
     },
     "metadata": {},
     "output_type": "display_data"
    }
   ],
   "source": [
    "yap_dev.groupby('sent_id').size().hist(bins=50)"
   ]
  },
  {
   "cell_type": "code",
   "execution_count": 22,
   "metadata": {},
   "outputs": [],
   "source": [
    "max_len = 80\n",
    "word2idx = {w: i + 2 for i, w in enumerate(words)}\n",
    "word2idx[\"UNK\"] = 1\n",
    "word2idx[\"PAD\"] = 0\n",
    "idx2word = {i: w for w, i in word2idx.items()}\n",
    "tag2idx = {t: i + 1 for i, t in enumerate(tags)}\n",
    "tag2idx[\"PAD\"] = 0\n",
    "idx2tag = {i: w for w, i in tag2idx.items()}"
   ]
  },
  {
   "cell_type": "code",
   "execution_count": 23,
   "metadata": {},
   "outputs": [],
   "source": [
    "from keras.preprocessing.sequence import pad_sequences\n",
    "X_gold_train = [[word2idx[w[0]] for w in s] for s in gold_train_sents]\n",
    "X_gold_dev   = [[word2idx[w[0]] for w in s] for s in gold_dev_sents]\n",
    "X_gold_test  = [[word2idx[w[0]] for w in s] for s in gold_test_sents]\n",
    "X_yap_dev    = [[word2idx[w[0]] for w in s] for s in yap_dev_sents]\n",
    "X_yap_test   = [[word2idx[w[0]] for w in s] for s in yap_test_sents]"
   ]
  },
  {
   "cell_type": "code",
   "execution_count": 24,
   "metadata": {},
   "outputs": [
    {
     "data": {
      "text/plain": [
       "array([16562, 10170,  1307,  9936,  4402, 17883,     0,     0,     0,\n",
       "           0,     0,     0,     0,     0,     0,     0,     0,     0,\n",
       "           0,     0,     0,     0,     0,     0,     0,     0,     0,\n",
       "           0,     0,     0,     0,     0,     0,     0,     0,     0,\n",
       "           0,     0,     0,     0,     0,     0,     0,     0,     0,\n",
       "           0,     0,     0,     0,     0,     0,     0,     0,     0,\n",
       "           0,     0,     0,     0,     0,     0,     0,     0,     0,\n",
       "           0,     0,     0,     0,     0,     0,     0,     0,     0,\n",
       "           0,     0,     0,     0,     0,     0,     0,     0],\n",
       "      dtype=int32)"
      ]
     },
     "execution_count": 24,
     "metadata": {},
     "output_type": "execute_result"
    }
   ],
   "source": [
    "X_gold_train = pad_sequences(maxlen=max_len, sequences=X_gold_train, value=word2idx[\"PAD\"], padding='post', truncating='post')\n",
    "X_gold_dev   = pad_sequences(maxlen=max_len, sequences=X_gold_dev  , value=word2idx[\"PAD\"], padding='post', truncating='post')\n",
    "X_gold_test  = pad_sequences(maxlen=max_len, sequences=X_gold_test , value=word2idx[\"PAD\"], padding='post', truncating='post')\n",
    "X_yap_dev    = pad_sequences(maxlen=max_len, sequences=X_yap_dev   , value=word2idx[\"PAD\"], padding='post', truncating='post')\n",
    "X_yap_test   = pad_sequences(maxlen=max_len, sequences=X_yap_test  , value=word2idx[\"PAD\"], padding='post', truncating='post')\n",
    "X_gold_train[0]"
   ]
  },
  {
   "cell_type": "code",
   "execution_count": 25,
   "metadata": {},
   "outputs": [
    {
     "data": {
      "text/plain": [
       "52"
      ]
     },
     "execution_count": 25,
     "metadata": {},
     "output_type": "execute_result"
    }
   ],
   "source": [
    "pos = list(set(spdf.upostag.values)|set(yap_dev.upostag.values)|set(yap_test.upostag.values))\n",
    "n_pos = len(pos); n_pos"
   ]
  },
  {
   "cell_type": "code",
   "execution_count": 26,
   "metadata": {
    "ExecuteTime": {
     "end_time": "2019-03-13T07:20:48.137589Z",
     "start_time": "2019-03-13T07:20:48.048826Z"
    }
   },
   "outputs": [],
   "source": [
    "pos2idx = {w: i+1 for i, w in enumerate(pos)}\n",
    "pos2idx[\"PAD\"] = 0"
   ]
  },
  {
   "cell_type": "code",
   "execution_count": 27,
   "metadata": {},
   "outputs": [],
   "source": [
    "from keras.preprocessing.sequence import pad_sequences\n",
    "X_pos_gold_train = [[pos2idx[w[1]] for w in s] for s in gold_train_sents]\n",
    "X_pos_gold_dev   = [[pos2idx[w[1]] for w in s] for s in gold_dev_sents]\n",
    "X_pos_gold_test  = [[pos2idx[w[1]] for w in s] for s in gold_test_sents]\n",
    "X_pos_yap_dev    = [[pos2idx[w[1]] for w in s] for s in yap_dev_sents]\n",
    "X_pos_yap_test   = [[pos2idx[w[1]] for w in s] for s in yap_test_sents]"
   ]
  },
  {
   "cell_type": "code",
   "execution_count": 28,
   "metadata": {},
   "outputs": [
    {
     "data": {
      "text/plain": [
       "array([23, 34, 31, 38, 44, 37,  0,  0,  0,  0,  0,  0,  0,  0,  0,  0,  0,\n",
       "        0,  0,  0,  0,  0,  0,  0,  0,  0,  0,  0,  0,  0,  0,  0,  0,  0,\n",
       "        0,  0,  0,  0,  0,  0,  0,  0,  0,  0,  0,  0,  0,  0,  0,  0,  0,\n",
       "        0,  0,  0,  0,  0,  0,  0,  0,  0,  0,  0,  0,  0,  0,  0,  0,  0,\n",
       "        0,  0,  0,  0,  0,  0,  0,  0,  0,  0,  0,  0], dtype=int32)"
      ]
     },
     "execution_count": 28,
     "metadata": {},
     "output_type": "execute_result"
    }
   ],
   "source": [
    "X_pos_gold_train = pad_sequences(maxlen=max_len, sequences=X_pos_gold_train, value=pos2idx[\"PAD\"], padding='post', truncating='post')\n",
    "X_pos_gold_dev   = pad_sequences(maxlen=max_len, sequences=X_pos_gold_dev  , value=pos2idx[\"PAD\"], padding='post', truncating='post')\n",
    "X_pos_gold_test  = pad_sequences(maxlen=max_len, sequences=X_pos_gold_test , value=pos2idx[\"PAD\"], padding='post', truncating='post')\n",
    "X_pos_yap_dev    = pad_sequences(maxlen=max_len, sequences=X_pos_yap_dev   , value=pos2idx[\"PAD\"], padding='post', truncating='post')\n",
    "X_pos_yap_test   = pad_sequences(maxlen=max_len, sequences=X_pos_yap_test  , value=pos2idx[\"PAD\"], padding='post', truncating='post')\n",
    "X_pos_gold_train[0]"
   ]
  },
  {
   "cell_type": "code",
   "execution_count": 29,
   "metadata": {},
   "outputs": [],
   "source": [
    "from keras.preprocessing.sequence import pad_sequences\n",
    "y_gold_train = [[tag2idx[w[2]] for w in s] for s in gold_train_sents]\n",
    "y_gold_dev   = [[tag2idx[w[2]] for w in s] for s in gold_dev_sents]\n",
    "y_gold_test  = [[tag2idx[w[2]] for w in s] for s in gold_test_sents]"
   ]
  },
  {
   "cell_type": "code",
   "execution_count": 30,
   "metadata": {},
   "outputs": [
    {
     "data": {
      "text/plain": [
       "array([31, 31, 31, 31, 31, 31,  0,  0,  0,  0,  0,  0,  0,  0,  0,  0,  0,\n",
       "        0,  0,  0,  0,  0,  0,  0,  0,  0,  0,  0,  0,  0,  0,  0,  0,  0,\n",
       "        0,  0,  0,  0,  0,  0,  0,  0,  0,  0,  0,  0,  0,  0,  0,  0,  0,\n",
       "        0,  0,  0,  0,  0,  0,  0,  0,  0,  0,  0,  0,  0,  0,  0,  0,  0,\n",
       "        0,  0,  0,  0,  0,  0,  0,  0,  0,  0,  0,  0], dtype=int32)"
      ]
     },
     "execution_count": 30,
     "metadata": {},
     "output_type": "execute_result"
    }
   ],
   "source": [
    "y_numer_gold_train = pad_sequences(maxlen=max_len, sequences=y_gold_train, value=pos2idx[\"PAD\"], padding='post', truncating='post')\n",
    "y_numer_gold_dev   = pad_sequences(maxlen=max_len, sequences=y_gold_dev  , value=pos2idx[\"PAD\"], padding='post', truncating='post')\n",
    "y_numer_gold_test  = pad_sequences(maxlen=max_len, sequences=y_gold_test , value=pos2idx[\"PAD\"], padding='post', truncating='post')\n",
    "y_numer_gold_train[0]"
   ]
  },
  {
   "cell_type": "code",
   "execution_count": 31,
   "metadata": {
    "ExecuteTime": {
     "end_time": "2019-03-13T07:20:48.330074Z",
     "start_time": "2019-03-13T07:20:48.226353Z"
    }
   },
   "outputs": [
    {
     "data": {
      "text/plain": [
       "(80, 38)"
      ]
     },
     "execution_count": 31,
     "metadata": {},
     "output_type": "execute_result"
    }
   ],
   "source": [
    "from keras.utils import to_categorical\n",
    "y_gold_train = [to_categorical(i, num_classes=n_tags+1) for i in y_numer_gold_train]\n",
    "y_gold_dev   = [to_categorical(i, num_classes=n_tags+1) for i in y_numer_gold_dev  ]\n",
    "y_gold_test  = [to_categorical(i, num_classes=n_tags+1) for i in y_numer_gold_test ]\n",
    "\n",
    "y_gold_train[0].shape"
   ]
  },
  {
   "cell_type": "code",
   "execution_count": 32,
   "metadata": {},
   "outputs": [
    {
     "data": {
      "text/plain": [
       "0.09196247930844216"
      ]
     },
     "execution_count": 32,
     "metadata": {},
     "output_type": "execute_result"
    }
   ],
   "source": [
    "validation_split = len(X_gold_dev) / (len(X_gold_train)+len(X_gold_dev))\n",
    "validation_split"
   ]
  },
  {
   "cell_type": "code",
   "execution_count": 33,
   "metadata": {},
   "outputs": [],
   "source": [
    "splits = [[X_gold_train, X_gold_dev,\n",
    "           y_gold_train, y_gold_dev,\n",
    "           X_pos_gold_train, X_pos_gold_dev ]]"
   ]
  },
  {
   "cell_type": "markdown",
   "metadata": {},
   "source": [
    "### Prep char input"
   ]
  },
  {
   "cell_type": "code",
   "execution_count": 34,
   "metadata": {
    "ExecuteTime": {
     "end_time": "2019-01-31T13:58:31.324599Z",
     "start_time": "2019-01-31T13:58:31.077207Z"
    }
   },
   "outputs": [
    {
     "data": {
      "text/plain": [
       "<matplotlib.axes._subplots.AxesSubplot at 0x7faabb2fb080>"
      ]
     },
     "execution_count": 34,
     "metadata": {},
     "output_type": "execute_result"
    },
    {
     "data": {
      "image/png": "[encoded data removed]",
      "text/plain": [
       "<Figure size 432x288 with 1 Axes>"
      ]
     },
     "metadata": {},
     "output_type": "display_data"
    }
   ],
   "source": [
    "spdf.form.apply(len).hist(bins=18)"
   ]
  },
  {
   "cell_type": "code",
   "execution_count": 35,
   "metadata": {
    "ExecuteTime": {
     "end_time": "2019-01-31T13:58:31.340217Z",
     "start_time": "2019-01-31T13:58:31.324599Z"
    }
   },
   "outputs": [],
   "source": [
    "max_len_char = 12"
   ]
  },
  {
   "cell_type": "code",
   "execution_count": 36,
   "metadata": {
    "ExecuteTime": {
     "end_time": "2019-01-31T13:58:32.660554Z",
     "start_time": "2019-01-31T13:58:32.613692Z"
    }
   },
   "outputs": [
    {
     "name": "stdout",
     "output_type": "stream",
     "text": [
      "50\n"
     ]
    }
   ],
   "source": [
    "chars = set([w_i for w in words for w_i in w])\n",
    "n_chars = len(chars)\n",
    "print(n_chars)"
   ]
  },
  {
   "cell_type": "code",
   "execution_count": 37,
   "metadata": {
    "ExecuteTime": {
     "end_time": "2019-01-31T13:58:33.732950Z",
     "start_time": "2019-01-31T13:58:33.717366Z"
    }
   },
   "outputs": [],
   "source": [
    "char2idx = {c: i + 2 for i, c in enumerate(chars)}\n",
    "char2idx[\"UNK\"] = 1\n",
    "char2idx[\"PAD\"] = 0"
   ]
  },
  {
   "cell_type": "code",
   "execution_count": 38,
   "metadata": {
    "ExecuteTime": {
     "end_time": "2019-01-31T13:58:36.324286Z",
     "start_time": "2019-01-31T13:58:34.303392Z"
    }
   },
   "outputs": [],
   "source": [
    "\n",
    "def get_X_char(sents):\n",
    "    X_char = []\n",
    "    for sentence in sents:\n",
    "        sent_seq = []\n",
    "        for i in range(max_len):\n",
    "            word_seq = []\n",
    "            for j in range(max_len_char):\n",
    "                try:\n",
    "                    word_seq.append(char2idx.get(sentence[i][0][j]))\n",
    "                except:\n",
    "                    word_seq.append(char2idx.get(\"PAD\"))\n",
    "            sent_seq.append(word_seq)\n",
    "        X_char.append(np.array(sent_seq))\n",
    "    return X_char"
   ]
  },
  {
   "cell_type": "code",
   "execution_count": 39,
   "metadata": {},
   "outputs": [],
   "source": [
    "X_char_gold_dev   = get_X_char(gold_dev_sents  )\n",
    "X_char_gold_train = get_X_char(gold_train_sents)\n",
    "X_char_gold_test  = get_X_char(gold_test_sents )\n",
    "X_char_yap_dev    = get_X_char(yap_dev_sents   )\n",
    "X_char_yap_test   = get_X_char(yap_test_sents  )\n",
    "\n",
    "\n",
    "\n",
    "splits_char = [[X_char_gold_train, X_char_gold_dev,\n",
    "                y_gold_train, y_gold_dev]]"
   ]
  },
  {
   "cell_type": "markdown",
   "metadata": {},
   "source": [
    "## Embeddings"
   ]
  },
  {
   "cell_type": "code",
   "execution_count": 40,
   "metadata": {},
   "outputs": [
    {
     "data": {
      "text/plain": [
       "{'yap_w2v_sg': '../wordembedding-hebrew/wikipedia.yap_form.word2vec_skipgram.txt',\n",
       " 'yap_w2v_cbow': '../wordembedding-hebrew/wikipedia.yap_form.word2vec_cbow.txt',\n",
       " 'yap_glove': '../wordembedding-hebrew/glove/wikipedia.yap_form.glove.txt.txt',\n",
       " 'yap_ft_sg': '../wordembedding-hebrew/wikipedia.yap_form.fasttext_skipgram.model.vec',\n",
       " 'yap_ft_cbow': '../wordembedding-hebrew/wikipedia.yap_form.fasttext_cbow.model.vec',\n",
       " 'token_w2v_sg': '../wordembedding-hebrew/wikipedia.tokenized.word2vec_skipgram.txt',\n",
       " 'token_w2v_cbow': '../wordembedding-hebrew/wikipedia.tokenized.word2vec_cbow.txt',\n",
       " 'token_glove': '../wordembedding-hebrew/glove/wikipedia.tokenized.glove.txt',\n",
       " 'token_ft_sg': '../wordembedding-hebrew/wikipedia.tokenized.fasttext_skipgram.model.vec',\n",
       " 'token_ft_cbow': '../wordembedding-hebrew/wikipedia.tokenized.fasttext_cbow.model.vec',\n",
       " 'pretrained_token_ft': '../fasttext/wiki.he.vec',\n",
       " 'alt_tok_yap_w2v_sg': '../wordembedding-hebrew/wikipedia.alt_tok.yap_form.word2vec_skipgram.txt',\n",
       " 'alt_tok_yap_w2v_cbow': '../wordembedding-hebrew/wikipedia.alt_tok.yap_form.word2vec_cbow.txt',\n",
       " 'alt_tok_yap_glove': '../wordembedding-hebrew/glove/wikipedia.alt_tok.yap_form.glove.txt',\n",
       " 'alt_tok_yap_ft_sg': '../wordembedding-hebrew/wikipedia.alt_tok.yap_form.fasttext_skipgram.model.vec',\n",
       " 'alt_tok_yap_ft_cbow': '../wordembedding-hebrew/wikipedia.alt_tok.yap_form.fasttext_cbow.model.vec',\n",
       " 'alt_tok_token_w2v_sg': '../wordembedding-hebrew/wikipedia.alt_tok.tokenized.word2vec_skipgram.txt',\n",
       " 'alt_tok_token_w2v_cbow': '../wordembedding-hebrew/wikipedia.alt_tok.tokenized.word2vec_cbow.txt',\n",
       " 'alt_tok_token_glove': '../wordembedding-hebrew/glove/wikipedia.alt_tok.tokenized.glove.txt',\n",
       " 'alt_tok_token_ft_sg': '../wordembedding-hebrew/wikipedia.alt_tok.tokenized.fasttext_skipgram.model.vec',\n",
       " 'alt_tok_token_ft_cbow': '../wordembedding-hebrew/wikipedia.alt_tok.tokenized.fasttext_cbow.model.vec'}"
      ]
     },
     "execution_count": 40,
     "metadata": {},
     "output_type": "execute_result"
    }
   ],
   "source": [
    "embedding_paths"
   ]
  },
  {
   "cell_type": "code",
   "execution_count": 56,
   "metadata": {},
   "outputs": [],
   "source": [
    "exclude = ['cbow', 'pretrained', 'tokenized', 'word2vec', 'glove']\n",
    "include = 'alt_tok'"
   ]
  },
  {
   "cell_type": "code",
   "execution_count": 57,
   "metadata": {},
   "outputs": [
    {
     "name": "stdout",
     "output_type": "stream",
     "text": [
      "loading word embeddings: ../wordembedding-hebrew/wikipedia.alt_tok.yap_form.fasttext_skipgram.model.vec\n",
      "found 245642 word vectors\n",
      "preparing embedding matrix...\n",
      "number of null word embeddings: 1448\n",
      "sample words not found:  ['פאשב' 'טעמתי' 'מקסיקאיים' 'הבריקה' 'שקרוקה' 'קורדרוי' 'מקבול' 'וורגם'\n",
      " 'טרווליאן' 'אתניאקוס']\n"
     ]
    }
   ],
   "source": [
    "embedding_mats = {}\n",
    "for emb_name, emb_path in embedding_paths.items():\n",
    "    skip=False\n",
    "    if include not in emb_name:\n",
    "        continue\n",
    "        \n",
    "    for exc in exclude:\n",
    "        if exc in emb_path:\n",
    "            skip=True\n",
    "    if skip:\n",
    "        continue\n",
    "    embedding_mats[emb_name] = get_embedding_matrix(emb_path, word2idx)"
   ]
  },
  {
   "cell_type": "markdown",
   "metadata": {},
   "source": [
    "## Model building"
   ]
  },
  {
   "cell_type": "code",
   "execution_count": 58,
   "metadata": {},
   "outputs": [],
   "source": [
    "from ner_utils import *"
   ]
  },
  {
   "cell_type": "code",
   "execution_count": 65,
   "metadata": {
    "collapsed": true,
    "jupyter": {
     "outputs_hidden": true
    }
   },
   "outputs": [
    {
     "data": {
      "text/plain": [
       "[{'optimizer': 'adam',\n",
       "  'output_dropout': True,\n",
       "  'add_random_embedding': False,\n",
       "  'use_char': True,\n",
       "  'crf': True,\n",
       "  'use_pos': False,\n",
       "  'embedding_matrix': 'alt_tok_yap_ft_sg',\n",
       "  'trainable': False,\n",
       "  'stack_lstm': 2},\n",
       " {'optimizer': 'adam',\n",
       "  'output_dropout': True,\n",
       "  'add_random_embedding': False,\n",
       "  'use_char': True,\n",
       "  'crf': True,\n",
       "  'use_pos': True,\n",
       "  'embedding_matrix': 'alt_tok_yap_ft_sg',\n",
       "  'trainable': False,\n",
       "  'stack_lstm': 2}]"
      ]
     },
     "execution_count": 65,
     "metadata": {},
     "output_type": "execute_result"
    }
   ],
   "source": [
    "configs = build_configs(base_configs_stack_freeze, embedding_mats)\n",
    "configs     "
   ]
  },
  {
   "cell_type": "code",
   "execution_count": 66,
   "metadata": {},
   "outputs": [],
   "source": [
    "for conf in configs:\n",
    "    conf['patience'] = 10"
   ]
  },
  {
   "cell_type": "code",
   "execution_count": 67,
   "metadata": {},
   "outputs": [],
   "source": [
    "out_folder = 'results/new_outputs_stack'\n",
    "if not os.path.exists(out_folder):\n",
    "    os.mkdir(out_folder)"
   ]
  },
  {
   "cell_type": "code",
   "execution_count": 68,
   "metadata": {},
   "outputs": [],
   "source": [
    "extra_preds = [(X_gold_test, X_pos_gold_test, X_char_gold_test), \n",
    "               (X_yap_dev, X_pos_yap_dev, X_char_yap_dev),\n",
    "               (X_yap_test, X_pos_yap_test, X_char_yap_test)]"
   ]
  },
  {
   "cell_type": "code",
   "execution_count": 69,
   "metadata": {},
   "outputs": [],
   "source": [
    "from ner_utils import *"
   ]
  },
  {
   "cell_type": "code",
   "execution_count": 70,
   "metadata": {
    "ExecuteTime": {
     "end_time": "2019-03-13T11:31:02.793857Z",
     "start_time": "2019-03-13T11:16:17.267695Z"
    },
    "scrolled": true
   },
   "outputs": [
    {
     "name": "stdout",
     "output_type": "stream",
     "text": [
      "Train on 4482 samples, validate on 455 samples\n",
      "Epoch 1/100\n",
      " - 103s - loss: 0.4634 - crf_accuracy: 0.9070 - val_loss: 0.2094 - val_crf_accuracy: 0.9621\n",
      "Epoch 2/100\n",
      " - 93s - loss: 0.1454 - crf_accuracy: 0.9706 - val_loss: 0.1511 - val_crf_accuracy: 0.9629\n",
      "Epoch 3/100\n",
      " - 93s - loss: 0.1171 - crf_accuracy: 0.9721 - val_loss: 0.1237 - val_crf_accuracy: 0.9693\n",
      "Epoch 4/100\n",
      " - 95s - loss: 0.0944 - crf_accuracy: 0.9762 - val_loss: 0.1007 - val_crf_accuracy: 0.9730\n",
      "Epoch 5/100\n",
      " - 94s - loss: 0.0777 - crf_accuracy: 0.9788 - val_loss: 0.0830 - val_crf_accuracy: 0.9746\n",
      "Epoch 6/100\n",
      " - 93s - loss: 0.0670 - crf_accuracy: 0.9808 - val_loss: 0.0721 - val_crf_accuracy: 0.9760\n",
      "Epoch 7/100\n",
      " - 94s - loss: 0.0587 - crf_accuracy: 0.9821 - val_loss: 0.0623 - val_crf_accuracy: 0.9781\n",
      "Epoch 8/100\n",
      " - 94s - loss: 0.0511 - crf_accuracy: 0.9836 - val_loss: 0.0568 - val_crf_accuracy: 0.9787\n",
      "Epoch 9/100\n",
      " - 94s - loss: 0.0455 - crf_accuracy: 0.9844 - val_loss: 0.0538 - val_crf_accuracy: 0.9786\n",
      "Epoch 10/100\n",
      " - 94s - loss: 0.0419 - crf_accuracy: 0.9849 - val_loss: 0.0497 - val_crf_accuracy: 0.9795\n",
      "Epoch 11/100\n",
      " - 94s - loss: 0.0368 - crf_accuracy: 0.9863 - val_loss: 0.0458 - val_crf_accuracy: 0.9799\n",
      "Epoch 12/100\n",
      " - 94s - loss: 0.0332 - crf_accuracy: 0.9867 - val_loss: 0.0456 - val_crf_accuracy: 0.9811\n",
      "Epoch 13/100\n",
      " - 94s - loss: 0.0307 - crf_accuracy: 0.9873 - val_loss: 0.0400 - val_crf_accuracy: 0.9808\n",
      "Epoch 14/100\n",
      " - 93s - loss: 0.0268 - crf_accuracy: 0.9886 - val_loss: 0.0386 - val_crf_accuracy: 0.9816\n",
      "Epoch 15/100\n",
      " - 94s - loss: 0.0240 - crf_accuracy: 0.9890 - val_loss: 0.0347 - val_crf_accuracy: 0.9833\n",
      "Epoch 16/100\n",
      " - 93s - loss: 0.0213 - crf_accuracy: 0.9893 - val_loss: 0.0359 - val_crf_accuracy: 0.9804\n",
      "Epoch 17/100\n",
      " - 94s - loss: 0.0186 - crf_accuracy: 0.9899 - val_loss: 0.0321 - val_crf_accuracy: 0.9823\n",
      "Epoch 18/100\n",
      " - 94s - loss: 0.0155 - crf_accuracy: 0.9907 - val_loss: 0.0344 - val_crf_accuracy: 0.9835\n",
      "Epoch 19/100\n",
      " - 94s - loss: 0.0133 - crf_accuracy: 0.9910 - val_loss: 0.0320 - val_crf_accuracy: 0.9837\n",
      "Epoch 20/100\n",
      " - 94s - loss: 0.0116 - crf_accuracy: 0.9912 - val_loss: 0.0293 - val_crf_accuracy: 0.9831\n",
      "Epoch 21/100\n",
      " - 93s - loss: 0.0086 - crf_accuracy: 0.9921 - val_loss: 0.0309 - val_crf_accuracy: 0.9833\n",
      "Epoch 22/100\n",
      " - 93s - loss: 0.0067 - crf_accuracy: 0.9923 - val_loss: 0.0245 - val_crf_accuracy: 0.9846\n",
      "Epoch 23/100\n",
      " - 93s - loss: 0.0039 - crf_accuracy: 0.9930 - val_loss: 0.0285 - val_crf_accuracy: 0.9830\n",
      "Epoch 24/100\n",
      " - 94s - loss: 0.0020 - crf_accuracy: 0.9932 - val_loss: 0.0231 - val_crf_accuracy: 0.9840\n",
      "Epoch 25/100\n",
      " - 94s - loss: -2.4904e-04 - crf_accuracy: 0.9938 - val_loss: 0.0210 - val_crf_accuracy: 0.9844\n",
      "Epoch 26/100\n",
      " - 94s - loss: -2.2781e-03 - crf_accuracy: 0.9941 - val_loss: 0.0206 - val_crf_accuracy: 0.9827\n",
      "Epoch 27/100\n",
      " - 93s - loss: -4.4766e-03 - crf_accuracy: 0.9944 - val_loss: 0.0184 - val_crf_accuracy: 0.9839\n",
      "Epoch 28/100\n",
      " - 94s - loss: -6.7641e-03 - crf_accuracy: 0.9947 - val_loss: 0.0166 - val_crf_accuracy: 0.9841\n",
      "Epoch 29/100\n",
      " - 93s - loss: -9.2128e-03 - crf_accuracy: 0.9954 - val_loss: 0.0166 - val_crf_accuracy: 0.9851\n",
      "Epoch 30/100\n",
      " - 93s - loss: -1.0678e-02 - crf_accuracy: 0.9954 - val_loss: 0.0141 - val_crf_accuracy: 0.9839\n",
      "Epoch 31/100\n",
      " - 94s - loss: -1.2831e-02 - crf_accuracy: 0.9955 - val_loss: 0.0147 - val_crf_accuracy: 0.9850\n",
      "Epoch 32/100\n",
      " - 93s - loss: -1.3726e-02 - crf_accuracy: 0.9957 - val_loss: 0.0148 - val_crf_accuracy: 0.9850\n",
      "Epoch 33/100\n",
      " - 94s - loss: -1.6893e-02 - crf_accuracy: 0.9961 - val_loss: 0.0118 - val_crf_accuracy: 0.9844\n",
      "Epoch 34/100\n",
      " - 93s - loss: -1.9055e-02 - crf_accuracy: 0.9963 - val_loss: 0.0137 - val_crf_accuracy: 0.9847\n",
      "Epoch 35/100\n",
      " - 93s - loss: -2.0917e-02 - crf_accuracy: 0.9966 - val_loss: 0.0109 - val_crf_accuracy: 0.9856\n",
      "Epoch 36/100\n",
      " - 94s - loss: -2.2348e-02 - crf_accuracy: 0.9966 - val_loss: 0.0092 - val_crf_accuracy: 0.9852\n",
      "Epoch 37/100\n",
      " - 93s - loss: -2.5098e-02 - crf_accuracy: 0.9970 - val_loss: 0.0058 - val_crf_accuracy: 0.9848\n",
      "Epoch 38/100\n",
      " - 94s - loss: -2.6505e-02 - crf_accuracy: 0.9969 - val_loss: 0.0048 - val_crf_accuracy: 0.9839\n",
      "Epoch 39/100\n",
      " - 92s - loss: -2.8981e-02 - crf_accuracy: 0.9975 - val_loss: 0.0094 - val_crf_accuracy: 0.9841\n",
      "Epoch 40/100\n",
      " - 94s - loss: -3.0808e-02 - crf_accuracy: 0.9974 - val_loss: 0.0055 - val_crf_accuracy: 0.9845\n",
      "Epoch 41/100\n",
      " - 93s - loss: -3.2458e-02 - crf_accuracy: 0.9975 - val_loss: 0.0011 - val_crf_accuracy: 0.9838\n",
      "Epoch 42/100\n",
      " - 94s - loss: -3.4768e-02 - crf_accuracy: 0.9978 - val_loss: 0.0016 - val_crf_accuracy: 0.9843\n",
      "Epoch 43/100\n",
      " - 93s - loss: -3.6333e-02 - crf_accuracy: 0.9977 - val_loss: -5.1826e-04 - val_crf_accuracy: 0.9848\n",
      "Epoch 44/100\n",
      " - 94s - loss: -3.8425e-02 - crf_accuracy: 0.9979 - val_loss: -5.0371e-04 - val_crf_accuracy: 0.9842\n",
      "Epoch 45/100\n",
      " - 95s - loss: -4.0442e-02 - crf_accuracy: 0.9981 - val_loss: -3.8890e-03 - val_crf_accuracy: 0.9853\n",
      "Restoring model weights from the end of the best epoch\n",
      "Epoch 00045: early stopping\n"
     ]
    },
    {
     "data": {
      "image/png": "[encoded data removed]",
      "text/plain": [
       "<Figure size 432x288 with 1 Axes>"
      ]
     },
     "metadata": {},
     "output_type": "display_data"
    },
    {
     "name": "stdout",
     "output_type": "stream",
     "text": [
      "processed 11278 tokens with 498 phrases; found: 443 phrases; correct: 359.\n",
      "accuracy:  66.30%; (non-O)\n",
      "accuracy:  96.62%; precision:  81.04%; recall:  72.09%; FB1:  76.30\n",
      "              ANG: precision: 100.00%; recall: 100.00%; FB1: 100.00  3\n",
      "              DUC: precision:   0.00%; recall:   0.00%; FB1:   0.00  0\n",
      "              EVE: precision:  66.67%; recall:  16.67%; FB1:  26.67  3\n",
      "              FAC: precision:   0.00%; recall:   0.00%; FB1:   0.00  2\n",
      "              GPE: precision:  89.19%; recall:  82.50%; FB1:  85.71  111\n",
      "              LOC: precision:  50.00%; recall:  60.71%; FB1:  54.84  34\n",
      "              ORG: precision:  83.95%; recall:  57.14%; FB1:  68.00  81\n",
      "              PER: precision:  81.86%; recall:  86.53%; FB1:  84.13  204\n",
      "              WOA: precision:  60.00%; recall:  33.33%; FB1:  42.86  5\n",
      "Train on 4482 samples, validate on 455 samples\n",
      "Epoch 1/100\n",
      " - 103s - loss: 0.4662 - crf_accuracy: 0.8995 - val_loss: 0.1987 - val_crf_accuracy: 0.9622\n",
      "Epoch 2/100\n",
      " - 93s - loss: 0.1307 - crf_accuracy: 0.9710 - val_loss: 0.1312 - val_crf_accuracy: 0.9656\n",
      "Epoch 3/100\n",
      " - 94s - loss: 0.0971 - crf_accuracy: 0.9759 - val_loss: 0.1050 - val_crf_accuracy: 0.9731\n",
      "Epoch 4/100\n",
      " - 94s - loss: 0.0768 - crf_accuracy: 0.9798 - val_loss: 0.0828 - val_crf_accuracy: 0.9759\n",
      "Epoch 5/100\n",
      " - 93s - loss: 0.0605 - crf_accuracy: 0.9821 - val_loss: 0.0668 - val_crf_accuracy: 0.9784\n",
      "Epoch 6/100\n",
      " - 92s - loss: 0.0507 - crf_accuracy: 0.9835 - val_loss: 0.0552 - val_crf_accuracy: 0.9805\n",
      "Epoch 7/100\n",
      " - 94s - loss: 0.0425 - crf_accuracy: 0.9852 - val_loss: 0.0520 - val_crf_accuracy: 0.9796\n",
      "Epoch 8/100\n",
      " - 95s - loss: 0.0375 - crf_accuracy: 0.9860 - val_loss: 0.0452 - val_crf_accuracy: 0.9810\n",
      "Epoch 9/100\n",
      " - 95s - loss: 0.0331 - crf_accuracy: 0.9868 - val_loss: 0.0432 - val_crf_accuracy: 0.9815\n",
      "Epoch 10/100\n",
      " - 95s - loss: 0.0309 - crf_accuracy: 0.9872 - val_loss: 0.0401 - val_crf_accuracy: 0.9832\n",
      "Epoch 11/100\n",
      " - 95s - loss: 0.0274 - crf_accuracy: 0.9876 - val_loss: 0.0385 - val_crf_accuracy: 0.9835\n",
      "Epoch 12/100\n",
      " - 94s - loss: 0.0238 - crf_accuracy: 0.9888 - val_loss: 0.0342 - val_crf_accuracy: 0.9838\n",
      "Epoch 13/100\n",
      " - 94s - loss: 0.0208 - crf_accuracy: 0.9895 - val_loss: 0.0340 - val_crf_accuracy: 0.9834\n",
      "Epoch 14/100\n",
      " - 94s - loss: 0.0179 - crf_accuracy: 0.9903 - val_loss: 0.0292 - val_crf_accuracy: 0.9840\n",
      "Epoch 15/100\n",
      " - 94s - loss: 0.0160 - crf_accuracy: 0.9902 - val_loss: 0.0289 - val_crf_accuracy: 0.9841\n",
      "Epoch 16/100\n",
      " - 94s - loss: 0.0132 - crf_accuracy: 0.9911 - val_loss: 0.0267 - val_crf_accuracy: 0.9847\n",
      "Epoch 17/100\n",
      " - 94s - loss: 0.0108 - crf_accuracy: 0.9917 - val_loss: 0.0265 - val_crf_accuracy: 0.9848\n",
      "Epoch 18/100\n",
      " - 94s - loss: 0.0087 - crf_accuracy: 0.9923 - val_loss: 0.0237 - val_crf_accuracy: 0.9859\n",
      "Epoch 19/100\n",
      " - 93s - loss: 0.0063 - crf_accuracy: 0.9924 - val_loss: 0.0224 - val_crf_accuracy: 0.9851\n",
      "Epoch 20/100\n",
      " - 93s - loss: 0.0040 - crf_accuracy: 0.9930 - val_loss: 0.0221 - val_crf_accuracy: 0.9848\n",
      "Epoch 21/100\n",
      " - 94s - loss: 0.0021 - crf_accuracy: 0.9934 - val_loss: 0.0217 - val_crf_accuracy: 0.9853\n",
      "Epoch 22/100\n",
      " - 94s - loss: -4.0141e-04 - crf_accuracy: 0.9940 - val_loss: 0.0210 - val_crf_accuracy: 0.9842\n",
      "Epoch 23/100\n",
      " - 94s - loss: -1.6160e-03 - crf_accuracy: 0.9941 - val_loss: 0.0211 - val_crf_accuracy: 0.9857\n",
      "Epoch 24/100\n",
      " - 94s - loss: -3.9689e-03 - crf_accuracy: 0.9947 - val_loss: 0.0198 - val_crf_accuracy: 0.9852\n",
      "Epoch 25/100\n",
      " - 94s - loss: -5.5936e-03 - crf_accuracy: 0.9946 - val_loss: 0.0156 - val_crf_accuracy: 0.9862\n",
      "Epoch 26/100\n",
      " - 94s - loss: -8.1962e-03 - crf_accuracy: 0.9952 - val_loss: 0.0147 - val_crf_accuracy: 0.9853\n",
      "Epoch 27/100\n",
      " - 95s - loss: -1.0050e-02 - crf_accuracy: 0.9958 - val_loss: 0.0136 - val_crf_accuracy: 0.9860\n",
      "Epoch 28/100\n",
      " - 94s - loss: -1.2481e-02 - crf_accuracy: 0.9963 - val_loss: 0.0158 - val_crf_accuracy: 0.9855\n",
      "Epoch 29/100\n",
      " - 94s - loss: -1.4318e-02 - crf_accuracy: 0.9964 - val_loss: 0.0114 - val_crf_accuracy: 0.9862\n",
      "Epoch 30/100\n",
      " - 95s - loss: -1.5834e-02 - crf_accuracy: 0.9965 - val_loss: 0.0094 - val_crf_accuracy: 0.9866\n",
      "Epoch 31/100\n",
      " - 94s - loss: -1.7945e-02 - crf_accuracy: 0.9967 - val_loss: 0.0104 - val_crf_accuracy: 0.9874\n",
      "Epoch 32/100\n",
      " - 95s - loss: -1.9291e-02 - crf_accuracy: 0.9967 - val_loss: 0.0090 - val_crf_accuracy: 0.9866\n",
      "Epoch 33/100\n",
      " - 94s - loss: -2.1272e-02 - crf_accuracy: 0.9971 - val_loss: 0.0064 - val_crf_accuracy: 0.9859\n",
      "Epoch 34/100\n",
      " - 94s - loss: -2.3460e-02 - crf_accuracy: 0.9975 - val_loss: 0.0089 - val_crf_accuracy: 0.9862\n",
      "Epoch 35/100\n",
      " - 93s - loss: -2.5806e-02 - crf_accuracy: 0.9980 - val_loss: 0.0074 - val_crf_accuracy: 0.9854\n",
      "Epoch 36/100\n",
      " - 94s - loss: -2.7303e-02 - crf_accuracy: 0.9978 - val_loss: 0.0071 - val_crf_accuracy: 0.9864\n",
      "Epoch 37/100\n",
      " - 95s - loss: -2.8612e-02 - crf_accuracy: 0.9976 - val_loss: 0.0033 - val_crf_accuracy: 0.9865\n",
      "Epoch 38/100\n",
      " - 96s - loss: -3.1206e-02 - crf_accuracy: 0.9982 - val_loss: 0.0014 - val_crf_accuracy: 0.9866\n",
      "Epoch 39/100\n",
      " - 93s - loss: -3.3195e-02 - crf_accuracy: 0.9985 - val_loss: 0.0028 - val_crf_accuracy: 0.9860\n",
      "Epoch 40/100\n",
      " - 94s - loss: -3.4824e-02 - crf_accuracy: 0.9983 - val_loss: -1.7468e-03 - val_crf_accuracy: 0.9870\n",
      "Epoch 41/100\n",
      " - 95s - loss: -3.6716e-02 - crf_accuracy: 0.9986 - val_loss: 8.5344e-04 - val_crf_accuracy: 0.9863\n",
      "Restoring model weights from the end of the best epoch\n",
      "Epoch 00041: early stopping\n"
     ]
    },
    {
     "data": {
      "image/png": "[encoded data removed]",
      "text/plain": [
       "<Figure size 432x288 with 1 Axes>"
      ]
     },
     "metadata": {},
     "output_type": "display_data"
    },
    {
     "name": "stdout",
     "output_type": "stream",
     "text": [
      "processed 11278 tokens with 498 phrases; found: 459 phrases; correct: 382.\n",
      "accuracy:  68.99%; (non-O)\n",
      "accuracy:  96.96%; precision:  83.22%; recall:  76.71%; FB1:  79.83\n",
      "              ANG: precision: 100.00%; recall: 100.00%; FB1: 100.00  3\n",
      "              DUC: precision:   0.00%; recall:   0.00%; FB1:   0.00  0\n",
      "              EVE: precision: 100.00%; recall:   8.33%; FB1:  15.38  1\n",
      "              FAC: precision:  42.86%; recall:  25.00%; FB1:  31.58  7\n",
      "              GPE: precision:  90.52%; recall:  87.50%; FB1:  88.98  116\n",
      "              LOC: precision:  64.52%; recall:  71.43%; FB1:  67.80  31\n",
      "              ORG: precision:  71.58%; recall:  57.14%; FB1:  63.55  95\n",
      "              PER: precision:  89.66%; recall:  94.30%; FB1:  91.92  203\n",
      "              WOA: precision:   0.00%; recall:   0.00%; FB1:   0.00  3\n"
     ]
    }
   ],
   "source": [
    "configs, results, preds, histories = run_models(configs, splits, splits_char, embedding_mats, \n",
    "                                                words, max_len, n_words, idx2word, idx2tag,\n",
    "                                                n_tags, max_len_char, n_pos, n_chars,\n",
    "                                                run_name='treebank_morphemes_alt_tok1', out_folder=out_folder,\n",
    "                                                skip_if_model_exists=True,\n",
    "                                                validation_split=validation_split,\n",
    "                                                extra_predictions=extra_preds,\n",
    "                                                )"
   ]
  },
  {
   "cell_type": "code",
   "execution_count": 71,
   "metadata": {},
   "outputs": [],
   "source": [
    "from keras import backend as K\n",
    "K.clear_session()"
   ]
  },
  {
   "cell_type": "code",
   "execution_count": null,
   "metadata": {},
   "outputs": [],
   "source": [
    "1"
   ]
  },
  {
   "cell_type": "code",
   "execution_count": null,
   "metadata": {},
   "outputs": [],
   "source": []
  },
  {
   "cell_type": "code",
   "execution_count": null,
   "metadata": {},
   "outputs": [],
   "source": []
  },
  {
   "cell_type": "markdown",
   "metadata": {},
   "source": [
    "###### "
   ]
  },
  {
   "cell_type": "code",
   "execution_count": null,
   "metadata": {},
   "outputs": [],
   "source": []
  },
  {
   "cell_type": "code",
   "execution_count": null,
   "metadata": {},
   "outputs": [],
   "source": []
  },
  {
   "cell_type": "code",
   "execution_count": null,
   "metadata": {},
   "outputs": [],
   "source": []
  },
  {
   "cell_type": "code",
   "execution_count": null,
   "metadata": {},
   "outputs": [],
   "source": []
  },
  {
   "cell_type": "code",
   "execution_count": null,
   "metadata": {},
   "outputs": [],
   "source": []
  },
  {
   "cell_type": "code",
   "execution_count": null,
   "metadata": {},
   "outputs": [],
   "source": []
  }
 ],
 "metadata": {
  "kernelspec": {
   "display_name": "Python 3",
   "language": "python",
   "name": "python3"
  },
  "language_info": {
   "codemirror_mode": {
    "name": "ipython",
    "version": 3
   },
   "file_extension": ".py",
   "mimetype": "text/x-python",
   "name": "python",
   "nbconvert_exporter": "python",
   "pygments_lexer": "ipython3",
   "version": "3.6.8"
  }
 },
 "nbformat": 4,
 "nbformat_minor": 4
}
