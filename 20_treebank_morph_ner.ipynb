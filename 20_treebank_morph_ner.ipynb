{
 "cells": [
  {
   "cell_type": "markdown",
   "metadata": {},
   "source": [
    "# Treebank NER with Bi-LSTM-CRF on morphemes"
   ]
  },
  {
   "cell_type": "code",
   "execution_count": 1,
   "metadata": {},
   "outputs": [],
   "source": [
    "import os\n",
    "os.environ[\"CUDA_DEVICE_ORDER\"]=\"PCI_BUS_ID\";\n",
    " \n",
    "# The GPU id to use, usually either \"0\" or \"1\";\n",
    "os.environ[\"CUDA_VISIBLE_DEVICES\"]=\"1\";  "
   ]
  },
  {
   "cell_type": "code",
   "execution_count": 2,
   "metadata": {},
   "outputs": [],
   "source": [
    "%load_ext autoreload\n",
    "%autoreload 2"
   ]
  },
  {
   "cell_type": "code",
   "execution_count": 3,
   "metadata": {
    "ExecuteTime": {
     "end_time": "2019-03-13T07:20:24.034028Z",
     "start_time": "2019-03-13T07:20:22.687626Z"
    }
   },
   "outputs": [],
   "source": [
    "%matplotlib inline"
   ]
  },
  {
   "cell_type": "code",
   "execution_count": 4,
   "metadata": {
    "ExecuteTime": {
     "end_time": "2019-03-13T07:20:24.382406Z",
     "start_time": "2019-03-13T07:20:24.037019Z"
    }
   },
   "outputs": [],
   "source": [
    "import pandas as pd\n",
    "import numpy as np"
   ]
  },
  {
   "cell_type": "code",
   "execution_count": 5,
   "metadata": {
    "ExecuteTime": {
     "end_time": "2019-03-13T07:20:27.996727Z",
     "start_time": "2019-03-13T07:20:24.385088Z"
    }
   },
   "outputs": [],
   "source": [
    "import matplotlib.pyplot as plt\n",
    "import seaborn as sns\n",
    "sns.set_context('paper')\n",
    "sns.set_style('white')"
   ]
  },
  {
   "cell_type": "code",
   "execution_count": 6,
   "metadata": {
    "ExecuteTime": {
     "end_time": "2019-03-13T07:20:28.016424Z",
     "start_time": "2019-03-13T07:20:27.999427Z"
    }
   },
   "outputs": [],
   "source": [
    "from conlleval import evaluate"
   ]
  },
  {
   "cell_type": "code",
   "execution_count": 7,
   "metadata": {},
   "outputs": [
    {
     "name": "stderr",
     "output_type": "stream",
     "text": [
      "Using TensorFlow backend.\n"
     ]
    }
   ],
   "source": [
    "from ner_utils import *"
   ]
  },
  {
   "cell_type": "markdown",
   "metadata": {},
   "source": [
    "## Get morpheme data"
   ]
  },
  {
   "cell_type": "code",
   "execution_count": 8,
   "metadata": {},
   "outputs": [],
   "source": [
    "yap_dev = pd.read_csv('new_yap_outputs/yap_dev.csv.gz', compression='gzip')\n",
    "yap_test = pd.read_csv('new_yap_outputs/yap_test.csv.gz', compression='gzip')"
   ]
  },
  {
   "cell_type": "code",
   "execution_count": 9,
   "metadata": {},
   "outputs": [],
   "source": [
    "dropped = [5438, 5444, 5445, 5446, 5448, 5449, 5450, 5451, 5453, 5459]"
   ]
  },
  {
   "cell_type": "code",
   "execution_count": 10,
   "metadata": {},
   "outputs": [
    {
     "name": "stderr",
     "output_type": "stream",
     "text": [
      "/home/dan/anaconda3/envs/tf/lib/python3.6/site-packages/IPython/core/interactiveshell.py:3049: DtypeWarning: Columns (21) have mixed types. Specify dtype option on import or set low_memory=False.\n",
      "  interactivity=interactivity, compiler=compiler, result=result)\n"
     ]
    }
   ],
   "source": [
    "spdf = pd.read_csv('align/spdf_fixed.csv.gz', compression='gzip')\n",
    "spdf = spdf[(~spdf.sent_id.isin(dropped))]"
   ]
  },
  {
   "cell_type": "code",
   "execution_count": 11,
   "metadata": {},
   "outputs": [
    {
     "data": {
      "text/html": [
       "<div>\n",
       "<style scoped>\n",
       "    .dataframe tbody tr th:only-of-type {\n",
       "        vertical-align: middle;\n",
       "    }\n",
       "\n",
       "    .dataframe tbody tr th {\n",
       "        vertical-align: top;\n",
       "    }\n",
       "\n",
       "    .dataframe thead th {\n",
       "        text-align: right;\n",
       "    }\n",
       "</style>\n",
       "<table border=\"1\" class=\"dataframe\">\n",
       "  <thead>\n",
       "    <tr style=\"text-align: right;\">\n",
       "      <th></th>\n",
       "      <th>id</th>\n",
       "      <th>form</th>\n",
       "      <th>lemma</th>\n",
       "      <th>upostag</th>\n",
       "      <th>xpostag</th>\n",
       "      <th>feats</th>\n",
       "      <th>token_id</th>\n",
       "      <th>sent_id</th>\n",
       "      <th>token_str</th>\n",
       "      <th>global_sent_id</th>\n",
       "      <th>...</th>\n",
       "      <th>deps</th>\n",
       "      <th>misc</th>\n",
       "      <th>ner_escaped</th>\n",
       "      <th>set</th>\n",
       "      <th>duplicate_sent_id</th>\n",
       "      <th>very_similar_sent_id</th>\n",
       "      <th>biose_layer0</th>\n",
       "      <th>biose_layer1</th>\n",
       "      <th>biose_layer2</th>\n",
       "      <th>biose_layer3</th>\n",
       "    </tr>\n",
       "  </thead>\n",
       "  <tbody>\n",
       "    <tr>\n",
       "      <th>0</th>\n",
       "      <td>1</td>\n",
       "      <td>עשרות</td>\n",
       "      <td>עשר</td>\n",
       "      <td>CDT</td>\n",
       "      <td>CDT</td>\n",
       "      <td>gen=F|num=P</td>\n",
       "      <td>1</td>\n",
       "      <td>1</td>\n",
       "      <td>עשרות</td>\n",
       "      <td>1</td>\n",
       "      <td>...</td>\n",
       "      <td>_</td>\n",
       "      <td>_</td>\n",
       "      <td>_</td>\n",
       "      <td>dev</td>\n",
       "      <td>NaN</td>\n",
       "      <td>NaN</td>\n",
       "      <td>O</td>\n",
       "      <td>O</td>\n",
       "      <td>O</td>\n",
       "      <td>O</td>\n",
       "    </tr>\n",
       "    <tr>\n",
       "      <th>1</th>\n",
       "      <td>2</td>\n",
       "      <td>אנשים</td>\n",
       "      <td>איש</td>\n",
       "      <td>NN</td>\n",
       "      <td>NN</td>\n",
       "      <td>gen=M|num=P</td>\n",
       "      <td>2</td>\n",
       "      <td>1</td>\n",
       "      <td>אנשים</td>\n",
       "      <td>1</td>\n",
       "      <td>...</td>\n",
       "      <td>_</td>\n",
       "      <td>_</td>\n",
       "      <td>_</td>\n",
       "      <td>dev</td>\n",
       "      <td>NaN</td>\n",
       "      <td>NaN</td>\n",
       "      <td>O</td>\n",
       "      <td>O</td>\n",
       "      <td>O</td>\n",
       "      <td>O</td>\n",
       "    </tr>\n",
       "    <tr>\n",
       "      <th>2</th>\n",
       "      <td>3</td>\n",
       "      <td>מגיעים</td>\n",
       "      <td>הגיע</td>\n",
       "      <td>BN</td>\n",
       "      <td>BN</td>\n",
       "      <td>gen=M|num=P|per=A|HebBinyan=HIFIL</td>\n",
       "      <td>3</td>\n",
       "      <td>1</td>\n",
       "      <td>מגיעים</td>\n",
       "      <td>1</td>\n",
       "      <td>...</td>\n",
       "      <td>_</td>\n",
       "      <td>_</td>\n",
       "      <td>_</td>\n",
       "      <td>dev</td>\n",
       "      <td>NaN</td>\n",
       "      <td>NaN</td>\n",
       "      <td>O</td>\n",
       "      <td>O</td>\n",
       "      <td>O</td>\n",
       "      <td>O</td>\n",
       "    </tr>\n",
       "    <tr>\n",
       "      <th>3</th>\n",
       "      <td>4</td>\n",
       "      <td>מ</td>\n",
       "      <td>מ</td>\n",
       "      <td>PREPOSITION</td>\n",
       "      <td>PREPOSITION</td>\n",
       "      <td>_</td>\n",
       "      <td>4</td>\n",
       "      <td>1</td>\n",
       "      <td>מתאילנד</td>\n",
       "      <td>1</td>\n",
       "      <td>...</td>\n",
       "      <td>_</td>\n",
       "      <td>_</td>\n",
       "      <td>_</td>\n",
       "      <td>dev</td>\n",
       "      <td>NaN</td>\n",
       "      <td>NaN</td>\n",
       "      <td>O</td>\n",
       "      <td>O</td>\n",
       "      <td>O</td>\n",
       "      <td>O</td>\n",
       "    </tr>\n",
       "    <tr>\n",
       "      <th>4</th>\n",
       "      <td>5</td>\n",
       "      <td>תאילנד</td>\n",
       "      <td>תאילנד</td>\n",
       "      <td>NNP</td>\n",
       "      <td>NNP</td>\n",
       "      <td>_</td>\n",
       "      <td>4</td>\n",
       "      <td>1</td>\n",
       "      <td>מתאילנד</td>\n",
       "      <td>1</td>\n",
       "      <td>...</td>\n",
       "      <td>_</td>\n",
       "      <td>_</td>\n",
       "      <td>GPE</td>\n",
       "      <td>dev</td>\n",
       "      <td>NaN</td>\n",
       "      <td>NaN</td>\n",
       "      <td>S-GPE</td>\n",
       "      <td>O</td>\n",
       "      <td>O</td>\n",
       "      <td>O</td>\n",
       "    </tr>\n",
       "  </tbody>\n",
       "</table>\n",
       "<p>5 rows × 27 columns</p>\n",
       "</div>"
      ],
      "text/plain": [
       "   id    form   lemma      upostag      xpostag  \\\n",
       "0   1   עשרות     עשר          CDT          CDT   \n",
       "1   2   אנשים     איש           NN           NN   \n",
       "2   3  מגיעים    הגיע           BN           BN   \n",
       "3   4       מ       מ  PREPOSITION  PREPOSITION   \n",
       "4   5  תאילנד  תאילנד          NNP          NNP   \n",
       "\n",
       "                               feats  token_id  sent_id token_str  \\\n",
       "0                        gen=F|num=P         1        1     עשרות   \n",
       "1                        gen=M|num=P         2        1     אנשים   \n",
       "2  gen=M|num=P|per=A|HebBinyan=HIFIL         3        1    מגיעים   \n",
       "3                                  _         4        1   מתאילנד   \n",
       "4                                  _         4        1   מתאילנד   \n",
       "\n",
       "   global_sent_id  ...  deps misc ner_escaped  set duplicate_sent_id  \\\n",
       "0               1  ...     _    _           _  dev               NaN   \n",
       "1               1  ...     _    _           _  dev               NaN   \n",
       "2               1  ...     _    _           _  dev               NaN   \n",
       "3               1  ...     _    _           _  dev               NaN   \n",
       "4               1  ...     _    _         GPE  dev               NaN   \n",
       "\n",
       "   very_similar_sent_id biose_layer0 biose_layer1 biose_layer2 biose_layer3  \n",
       "0                   NaN            O            O            O            O  \n",
       "1                   NaN            O            O            O            O  \n",
       "2                   NaN            O            O            O            O  \n",
       "3                   NaN            O            O            O            O  \n",
       "4                   NaN        S-GPE            O            O            O  \n",
       "\n",
       "[5 rows x 27 columns]"
      ]
     },
     "execution_count": 11,
     "metadata": {},
     "output_type": "execute_result"
    }
   ],
   "source": [
    "spdf.head()"
   ]
  },
  {
   "cell_type": "code",
   "execution_count": 12,
   "metadata": {},
   "outputs": [
    {
     "data": {
      "text/html": [
       "<div>\n",
       "<style scoped>\n",
       "    .dataframe tbody tr th:only-of-type {\n",
       "        vertical-align: middle;\n",
       "    }\n",
       "\n",
       "    .dataframe tbody tr th {\n",
       "        vertical-align: top;\n",
       "    }\n",
       "\n",
       "    .dataframe thead th {\n",
       "        text-align: right;\n",
       "    }\n",
       "</style>\n",
       "<table border=\"1\" class=\"dataframe\">\n",
       "  <thead>\n",
       "    <tr style=\"text-align: right;\">\n",
       "      <th></th>\n",
       "      <th>id</th>\n",
       "      <th>form</th>\n",
       "      <th>lemma</th>\n",
       "      <th>upostag</th>\n",
       "      <th>xpostag</th>\n",
       "      <th>head</th>\n",
       "      <th>deprel</th>\n",
       "      <th>deps</th>\n",
       "      <th>misc</th>\n",
       "      <th>sent</th>\n",
       "      <th>misc_token_id</th>\n",
       "      <th>misc_token_str</th>\n",
       "      <th>feats_gen</th>\n",
       "      <th>feats_num</th>\n",
       "      <th>feats_per</th>\n",
       "      <th>feats_tense</th>\n",
       "      <th>feats_suf_gen</th>\n",
       "      <th>feats_suf_num</th>\n",
       "      <th>feats_suf_per</th>\n",
       "      <th>sent_id</th>\n",
       "    </tr>\n",
       "  </thead>\n",
       "  <tbody>\n",
       "    <tr>\n",
       "      <th>0</th>\n",
       "      <td>1</td>\n",
       "      <td>עשרות</td>\n",
       "      <td>עשר</td>\n",
       "      <td>CDT</td>\n",
       "      <td>CDT</td>\n",
       "      <td>2</td>\n",
       "      <td>num</td>\n",
       "      <td>_</td>\n",
       "      <td>_</td>\n",
       "      <td>1</td>\n",
       "      <td>1</td>\n",
       "      <td>עשרות</td>\n",
       "      <td>F</td>\n",
       "      <td>P</td>\n",
       "      <td>NaN</td>\n",
       "      <td>NaN</td>\n",
       "      <td>NaN</td>\n",
       "      <td>NaN</td>\n",
       "      <td>NaN</td>\n",
       "      <td>1</td>\n",
       "    </tr>\n",
       "    <tr>\n",
       "      <th>1</th>\n",
       "      <td>2</td>\n",
       "      <td>אנשים</td>\n",
       "      <td>איש</td>\n",
       "      <td>NN</td>\n",
       "      <td>NN</td>\n",
       "      <td>3</td>\n",
       "      <td>subj</td>\n",
       "      <td>_</td>\n",
       "      <td>_</td>\n",
       "      <td>1</td>\n",
       "      <td>2</td>\n",
       "      <td>אנשים</td>\n",
       "      <td>M</td>\n",
       "      <td>P</td>\n",
       "      <td>NaN</td>\n",
       "      <td>NaN</td>\n",
       "      <td>NaN</td>\n",
       "      <td>NaN</td>\n",
       "      <td>NaN</td>\n",
       "      <td>1</td>\n",
       "    </tr>\n",
       "    <tr>\n",
       "      <th>2</th>\n",
       "      <td>3</td>\n",
       "      <td>מגיעים</td>\n",
       "      <td>הגיע</td>\n",
       "      <td>BN</td>\n",
       "      <td>BN</td>\n",
       "      <td>14</td>\n",
       "      <td>conj</td>\n",
       "      <td>_</td>\n",
       "      <td>_</td>\n",
       "      <td>1</td>\n",
       "      <td>3</td>\n",
       "      <td>מגיעים</td>\n",
       "      <td>M</td>\n",
       "      <td>P</td>\n",
       "      <td>A</td>\n",
       "      <td>NaN</td>\n",
       "      <td>NaN</td>\n",
       "      <td>NaN</td>\n",
       "      <td>NaN</td>\n",
       "      <td>1</td>\n",
       "    </tr>\n",
       "    <tr>\n",
       "      <th>3</th>\n",
       "      <td>4</td>\n",
       "      <td>מ</td>\n",
       "      <td>מ</td>\n",
       "      <td>PREPOSITION</td>\n",
       "      <td>PREPOSITION</td>\n",
       "      <td>3</td>\n",
       "      <td>comp</td>\n",
       "      <td>_</td>\n",
       "      <td>_</td>\n",
       "      <td>1</td>\n",
       "      <td>4</td>\n",
       "      <td>מתאילנד</td>\n",
       "      <td>NaN</td>\n",
       "      <td>NaN</td>\n",
       "      <td>NaN</td>\n",
       "      <td>NaN</td>\n",
       "      <td>NaN</td>\n",
       "      <td>NaN</td>\n",
       "      <td>NaN</td>\n",
       "      <td>1</td>\n",
       "    </tr>\n",
       "    <tr>\n",
       "      <th>4</th>\n",
       "      <td>5</td>\n",
       "      <td>תאילנד</td>\n",
       "      <td>תאילנד</td>\n",
       "      <td>NNP</td>\n",
       "      <td>NNP</td>\n",
       "      <td>4</td>\n",
       "      <td>pobj</td>\n",
       "      <td>_</td>\n",
       "      <td>_</td>\n",
       "      <td>1</td>\n",
       "      <td>4</td>\n",
       "      <td>מתאילנד</td>\n",
       "      <td>F</td>\n",
       "      <td>S</td>\n",
       "      <td>NaN</td>\n",
       "      <td>NaN</td>\n",
       "      <td>NaN</td>\n",
       "      <td>NaN</td>\n",
       "      <td>NaN</td>\n",
       "      <td>1</td>\n",
       "    </tr>\n",
       "  </tbody>\n",
       "</table>\n",
       "</div>"
      ],
      "text/plain": [
       "   id    form   lemma      upostag      xpostag  head deprel deps misc  sent  \\\n",
       "0   1   עשרות     עשר          CDT          CDT     2    num    _    _     1   \n",
       "1   2   אנשים     איש           NN           NN     3   subj    _    _     1   \n",
       "2   3  מגיעים    הגיע           BN           BN    14   conj    _    _     1   \n",
       "3   4       מ       מ  PREPOSITION  PREPOSITION     3   comp    _    _     1   \n",
       "4   5  תאילנד  תאילנד          NNP          NNP     4   pobj    _    _     1   \n",
       "\n",
       "   misc_token_id misc_token_str feats_gen feats_num feats_per feats_tense  \\\n",
       "0              1          עשרות         F         P       NaN         NaN   \n",
       "1              2          אנשים         M         P       NaN         NaN   \n",
       "2              3         מגיעים         M         P         A         NaN   \n",
       "3              4        מתאילנד       NaN       NaN       NaN         NaN   \n",
       "4              4        מתאילנד         F         S       NaN         NaN   \n",
       "\n",
       "  feats_suf_gen feats_suf_num  feats_suf_per  sent_id  \n",
       "0           NaN           NaN            NaN        1  \n",
       "1           NaN           NaN            NaN        1  \n",
       "2           NaN           NaN            NaN        1  \n",
       "3           NaN           NaN            NaN        1  \n",
       "4           NaN           NaN            NaN        1  "
      ]
     },
     "execution_count": 12,
     "metadata": {},
     "output_type": "execute_result"
    }
   ],
   "source": [
    "yap_dev.head()"
   ]
  },
  {
   "cell_type": "code",
   "execution_count": 13,
   "metadata": {},
   "outputs": [
    {
     "data": {
      "text/plain": [
       "sent_id\n",
       "1    [[עשרות, CDT], [אנשים, NN], [מגיעים, BN], [מ, ...\n",
       "2    [[תופעה, NN], [זו, PRP], [התבררה, VB], [אתמול,...\n",
       "3    [[יו\"ר, NNT], [ה, DEF], [וועדה, NN], [,, yyCM]...\n",
       "4    [[מ, PREPOSITION], [צד, NN], [אחד, CD], [רוצה,...\n",
       "5    [[נמיר, NNP], [הודיעה, VB], [כי, CC], [תפנה, V...\n",
       "dtype: object"
      ]
     },
     "execution_count": 13,
     "metadata": {},
     "output_type": "execute_result"
    }
   ],
   "source": [
    "yap_dev_sents =  yap_dev.groupby('sent_id')[['form', 'upostag']].apply(lambda x: x.values.tolist())\n",
    "yap_dev_sents.head()"
   ]
  },
  {
   "cell_type": "code",
   "execution_count": 14,
   "metadata": {},
   "outputs": [
    {
     "data": {
      "text/plain": [
       "sent_id\n",
       "5439    [[ה, DEF], [כל, DTT], [נושאים, NN], [עמם, VB],...\n",
       "5440    [[אומר, NNT], [מזכיר, NNT], [ה, DEF], [תק\"ם, N...\n",
       "5441    [[לא, RB], [ייתכן, MD], [ש, REL], [עולה, NN], ...\n",
       "5442    [[לא, RB], [ייתכן, MD], [ש, REL], [הוא, PRP], ...\n",
       "5443    [[לכן, CC], [קבענו, VB], [עיקרון, NN], [ש, REL...\n",
       "dtype: object"
      ]
     },
     "execution_count": 14,
     "metadata": {},
     "output_type": "execute_result"
    }
   ],
   "source": [
    "yap_test_sents =  yap_test.groupby('sent_id')[['form', 'upostag']].apply(lambda x: x.values.tolist())\n",
    "yap_test_sents.head()"
   ]
  },
  {
   "cell_type": "code",
   "execution_count": 15,
   "metadata": {},
   "outputs": [],
   "source": [
    "gold_dev  = spdf[spdf.set=='dev']\n",
    "gold_train = spdf[spdf.set=='train']\n",
    "gold_test = spdf[spdf.set=='test']"
   ]
  },
  {
   "cell_type": "code",
   "execution_count": 16,
   "metadata": {},
   "outputs": [
    {
     "data": {
      "text/plain": [
       "sent_id\n",
       "5439    [[הכל, NN, O], [נושאים, BN, O], [עמ, IN, O], [...\n",
       "5440    [[אומר, BN, O], [מזכיר, NNT, O], [התק\"ם, NNP, ...\n",
       "5441    [[לא, RB, O], [ייתכן, MD, O], [ש, REL, O], [עו...\n",
       "5442    [[לא, RB, O], [ייתכן, MD, O], [ש, REL, O], [הו...\n",
       "5443    [[לכן, CC, O], [קבענו, VB, O], [עיקרון, NN, O]...\n",
       "dtype: object"
      ]
     },
     "execution_count": 16,
     "metadata": {},
     "output_type": "execute_result"
    }
   ],
   "source": [
    "gold_dev_sents = gold_dev.groupby('sent_id')[['form', 'upostag', 'biose']].apply(lambda x: x.values.tolist())\n",
    "gold_train_sents = gold_train.groupby('sent_id')[['form', 'upostag', 'biose']].apply(lambda x: x.values.tolist())\n",
    "gold_test_sents = gold_test.groupby('sent_id')[['form', 'upostag', 'biose']].apply(lambda x: x.values.tolist())\n",
    "gold_test_sents.head()"
   ]
  },
  {
   "cell_type": "code",
   "execution_count": 17,
   "metadata": {},
   "outputs": [],
   "source": [
    "def write_conll_output(sents, output_path):\n",
    "    with open(output_path, 'w', encoding='utf-8') as f:\n",
    "        for s in sents:\n",
    "            for m, p, n in s:\n",
    "                f.write(m +' [POS]' + p + ' ' + n + '\\n')\n",
    "            f.write('\\n')\n",
    "            \n",
    "write_conll_output(gold_dev_sents, 'data/ner/morph_dev_pos_biose.bmes')\n",
    "write_conll_output(gold_train_sents, 'data/ner/morph_train_pos_biose.bmes')\n",
    "write_conll_output(gold_test_sents, 'data/ner/morph_test_pos_biose.bmes')"
   ]
  },
  {
   "cell_type": "code",
   "execution_count": 18,
   "metadata": {},
   "outputs": [
    {
     "data": {
      "text/plain": [
       "18465"
      ]
     },
     "execution_count": 18,
     "metadata": {},
     "output_type": "execute_result"
    }
   ],
   "source": [
    "words = list(set(spdf.form.values)|set(yap_dev.form.values)|set(yap_test.form.values))\n",
    "n_words = len(words); n_words"
   ]
  },
  {
   "cell_type": "code",
   "execution_count": 19,
   "metadata": {},
   "outputs": [
    {
     "data": {
      "text/plain": [
       "37"
      ]
     },
     "execution_count": 19,
     "metadata": {},
     "output_type": "execute_result"
    }
   ],
   "source": [
    "tags = list(set(spdf.biose.values))\n",
    "n_tags = len(tags); n_tags"
   ]
  },
  {
   "cell_type": "code",
   "execution_count": 20,
   "metadata": {},
   "outputs": [
    {
     "data": {
      "text/plain": [
       "<matplotlib.axes._subplots.AxesSubplot at 0x7f1f5855d940>"
      ]
     },
     "execution_count": 20,
     "metadata": {},
     "output_type": "execute_result"
    },
    {
     "data": {
      "image/png": "[encoded data removed]",
      "text/plain": [
       "<Figure size 432x288 with 1 Axes>"
      ]
     },
     "metadata": {},
     "output_type": "display_data"
    }
   ],
   "source": [
    "gold_train.groupby('sent_id').size().hist(bins=50)"
   ]
  },
  {
   "cell_type": "code",
   "execution_count": 21,
   "metadata": {},
   "outputs": [
    {
     "data": {
      "text/plain": [
       "<matplotlib.axes._subplots.AxesSubplot at 0x7f1f592fed30>"
      ]
     },
     "execution_count": 21,
     "metadata": {},
     "output_type": "execute_result"
    },
    {
     "data": {
      "image/png": "[encoded data removed]",
      "text/plain": [
       "<Figure size 432x288 with 1 Axes>"
      ]
     },
     "metadata": {},
     "output_type": "display_data"
    }
   ],
   "source": [
    "yap_dev.groupby('sent_id').size().hist(bins=50)"
   ]
  },
  {
   "cell_type": "code",
   "execution_count": 22,
   "metadata": {},
   "outputs": [],
   "source": [
    "max_len = 80\n",
    "word2idx = {w: i + 2 for i, w in enumerate(words)}\n",
    "word2idx[\"UNK\"] = 1\n",
    "word2idx[\"PAD\"] = 0\n",
    "idx2word = {i: w for w, i in word2idx.items()}\n",
    "tag2idx = {t: i + 1 for i, t in enumerate(tags)}\n",
    "tag2idx[\"PAD\"] = 0\n",
    "idx2tag = {i: w for w, i in tag2idx.items()}"
   ]
  },
  {
   "cell_type": "code",
   "execution_count": 23,
   "metadata": {},
   "outputs": [],
   "source": [
    "from keras.preprocessing.sequence import pad_sequences\n",
    "X_gold_train = [[word2idx[w[0]] for w in s] for s in gold_train_sents]\n",
    "X_gold_dev   = [[word2idx[w[0]] for w in s] for s in gold_dev_sents]\n",
    "X_gold_test  = [[word2idx[w[0]] for w in s] for s in gold_test_sents]\n",
    "X_yap_dev    = [[word2idx[w[0]] for w in s] for s in yap_dev_sents]\n",
    "X_yap_test   = [[word2idx[w[0]] for w in s] for s in yap_test_sents]"
   ]
  },
  {
   "cell_type": "code",
   "execution_count": 24,
   "metadata": {},
   "outputs": [
    {
     "data": {
      "text/plain": [
       "array([ 5379,  8962, 16515, 10119,  2599, 18298,     0,     0,     0,\n",
       "           0,     0,     0,     0,     0,     0,     0,     0,     0,\n",
       "           0,     0,     0,     0,     0,     0,     0,     0,     0,\n",
       "           0,     0,     0,     0,     0,     0,     0,     0,     0,\n",
       "           0,     0,     0,     0,     0,     0,     0,     0,     0,\n",
       "           0,     0,     0,     0,     0,     0,     0,     0,     0,\n",
       "           0,     0,     0,     0,     0,     0,     0,     0,     0,\n",
       "           0,     0,     0,     0,     0,     0,     0,     0,     0,\n",
       "           0,     0,     0,     0,     0,     0,     0,     0],\n",
       "      dtype=int32)"
      ]
     },
     "execution_count": 24,
     "metadata": {},
     "output_type": "execute_result"
    }
   ],
   "source": [
    "X_gold_train = pad_sequences(maxlen=max_len, sequences=X_gold_train, value=word2idx[\"PAD\"], padding='post', truncating='post')\n",
    "X_gold_dev   = pad_sequences(maxlen=max_len, sequences=X_gold_dev  , value=word2idx[\"PAD\"], padding='post', truncating='post')\n",
    "X_gold_test  = pad_sequences(maxlen=max_len, sequences=X_gold_test , value=word2idx[\"PAD\"], padding='post', truncating='post')\n",
    "X_yap_dev    = pad_sequences(maxlen=max_len, sequences=X_yap_dev   , value=word2idx[\"PAD\"], padding='post', truncating='post')\n",
    "X_yap_test   = pad_sequences(maxlen=max_len, sequences=X_yap_test  , value=word2idx[\"PAD\"], padding='post', truncating='post')\n",
    "X_gold_train[0]"
   ]
  },
  {
   "cell_type": "code",
   "execution_count": 25,
   "metadata": {},
   "outputs": [
    {
     "data": {
      "text/plain": [
       "52"
      ]
     },
     "execution_count": 25,
     "metadata": {},
     "output_type": "execute_result"
    }
   ],
   "source": [
    "pos = list(set(spdf.upostag.values)|set(yap_dev.upostag.values)|set(yap_test.upostag.values))\n",
    "n_pos = len(pos); n_pos"
   ]
  },
  {
   "cell_type": "code",
   "execution_count": 26,
   "metadata": {
    "ExecuteTime": {
     "end_time": "2019-03-13T07:20:48.137589Z",
     "start_time": "2019-03-13T07:20:48.048826Z"
    }
   },
   "outputs": [],
   "source": [
    "pos2idx = {w: i+1 for i, w in enumerate(pos)}\n",
    "pos2idx[\"PAD\"] = 0"
   ]
  },
  {
   "cell_type": "code",
   "execution_count": 27,
   "metadata": {},
   "outputs": [],
   "source": [
    "from keras.preprocessing.sequence import pad_sequences\n",
    "X_pos_gold_train = [[pos2idx[w[1]] for w in s] for s in gold_train_sents]\n",
    "X_pos_gold_dev   = [[pos2idx[w[1]] for w in s] for s in gold_dev_sents]\n",
    "X_pos_gold_test  = [[pos2idx[w[1]] for w in s] for s in gold_test_sents]\n",
    "X_pos_yap_dev    = [[pos2idx[w[1]] for w in s] for s in yap_dev_sents]\n",
    "X_pos_yap_test   = [[pos2idx[w[1]] for w in s] for s in yap_test_sents]"
   ]
  },
  {
   "cell_type": "code",
   "execution_count": 28,
   "metadata": {},
   "outputs": [
    {
     "data": {
      "text/plain": [
       "array([35, 52, 26, 27, 46, 15,  0,  0,  0,  0,  0,  0,  0,  0,  0,  0,  0,\n",
       "        0,  0,  0,  0,  0,  0,  0,  0,  0,  0,  0,  0,  0,  0,  0,  0,  0,\n",
       "        0,  0,  0,  0,  0,  0,  0,  0,  0,  0,  0,  0,  0,  0,  0,  0,  0,\n",
       "        0,  0,  0,  0,  0,  0,  0,  0,  0,  0,  0,  0,  0,  0,  0,  0,  0,\n",
       "        0,  0,  0,  0,  0,  0,  0,  0,  0,  0,  0,  0], dtype=int32)"
      ]
     },
     "execution_count": 28,
     "metadata": {},
     "output_type": "execute_result"
    }
   ],
   "source": [
    "X_pos_gold_train = pad_sequences(maxlen=max_len, sequences=X_pos_gold_train, value=pos2idx[\"PAD\"], padding='post', truncating='post')\n",
    "X_pos_gold_dev   = pad_sequences(maxlen=max_len, sequences=X_pos_gold_dev  , value=pos2idx[\"PAD\"], padding='post', truncating='post')\n",
    "X_pos_gold_test  = pad_sequences(maxlen=max_len, sequences=X_pos_gold_test , value=pos2idx[\"PAD\"], padding='post', truncating='post')\n",
    "X_pos_yap_dev    = pad_sequences(maxlen=max_len, sequences=X_pos_yap_dev   , value=pos2idx[\"PAD\"], padding='post', truncating='post')\n",
    "X_pos_yap_test   = pad_sequences(maxlen=max_len, sequences=X_pos_yap_test  , value=pos2idx[\"PAD\"], padding='post', truncating='post')\n",
    "X_pos_gold_train[0]"
   ]
  },
  {
   "cell_type": "code",
   "execution_count": 29,
   "metadata": {},
   "outputs": [],
   "source": [
    "from keras.preprocessing.sequence import pad_sequences\n",
    "y_gold_train = [[tag2idx[w[2]] for w in s] for s in gold_train_sents]\n",
    "y_gold_dev   = [[tag2idx[w[2]] for w in s] for s in gold_dev_sents]\n",
    "y_gold_test  = [[tag2idx[w[2]] for w in s] for s in gold_test_sents]"
   ]
  },
  {
   "cell_type": "code",
   "execution_count": 30,
   "metadata": {},
   "outputs": [
    {
     "data": {
      "text/plain": [
       "array([19, 19, 19, 19, 19, 19,  0,  0,  0,  0,  0,  0,  0,  0,  0,  0,  0,\n",
       "        0,  0,  0,  0,  0,  0,  0,  0,  0,  0,  0,  0,  0,  0,  0,  0,  0,\n",
       "        0,  0,  0,  0,  0,  0,  0,  0,  0,  0,  0,  0,  0,  0,  0,  0,  0,\n",
       "        0,  0,  0,  0,  0,  0,  0,  0,  0,  0,  0,  0,  0,  0,  0,  0,  0,\n",
       "        0,  0,  0,  0,  0,  0,  0,  0,  0,  0,  0,  0], dtype=int32)"
      ]
     },
     "execution_count": 30,
     "metadata": {},
     "output_type": "execute_result"
    }
   ],
   "source": [
    "y_numer_gold_train = pad_sequences(maxlen=max_len, sequences=y_gold_train, value=pos2idx[\"PAD\"], padding='post', truncating='post')\n",
    "y_numer_gold_dev   = pad_sequences(maxlen=max_len, sequences=y_gold_dev  , value=pos2idx[\"PAD\"], padding='post', truncating='post')\n",
    "y_numer_gold_test  = pad_sequences(maxlen=max_len, sequences=y_gold_test , value=pos2idx[\"PAD\"], padding='post', truncating='post')\n",
    "y_numer_gold_train[0]"
   ]
  },
  {
   "cell_type": "code",
   "execution_count": 31,
   "metadata": {
    "ExecuteTime": {
     "end_time": "2019-03-13T07:20:48.330074Z",
     "start_time": "2019-03-13T07:20:48.226353Z"
    }
   },
   "outputs": [
    {
     "data": {
      "text/plain": [
       "(80, 38)"
      ]
     },
     "execution_count": 31,
     "metadata": {},
     "output_type": "execute_result"
    }
   ],
   "source": [
    "from keras.utils import to_categorical\n",
    "y_gold_train = [to_categorical(i, num_classes=n_tags+1) for i in y_numer_gold_train]\n",
    "y_gold_dev   = [to_categorical(i, num_classes=n_tags+1) for i in y_numer_gold_dev  ]\n",
    "y_gold_test  = [to_categorical(i, num_classes=n_tags+1) for i in y_numer_gold_test ]\n",
    "\n",
    "y_gold_train[0].shape"
   ]
  },
  {
   "cell_type": "code",
   "execution_count": 32,
   "metadata": {},
   "outputs": [
    {
     "data": {
      "text/plain": [
       "0.09196247930844216"
      ]
     },
     "execution_count": 32,
     "metadata": {},
     "output_type": "execute_result"
    }
   ],
   "source": [
    "validation_split = len(X_gold_dev) / (len(X_gold_train)+len(X_gold_dev))\n",
    "validation_split"
   ]
  },
  {
   "cell_type": "code",
   "execution_count": 33,
   "metadata": {},
   "outputs": [],
   "source": [
    "splits = [[X_gold_train, X_gold_dev,\n",
    "           y_gold_train, y_gold_dev,\n",
    "           X_pos_gold_train, X_pos_gold_dev ]]"
   ]
  },
  {
   "cell_type": "markdown",
   "metadata": {},
   "source": [
    "### Prep char input"
   ]
  },
  {
   "cell_type": "code",
   "execution_count": 34,
   "metadata": {
    "ExecuteTime": {
     "end_time": "2019-01-31T13:58:31.324599Z",
     "start_time": "2019-01-31T13:58:31.077207Z"
    }
   },
   "outputs": [
    {
     "data": {
      "text/plain": [
       "<matplotlib.axes._subplots.AxesSubplot at 0x7f1f5786ba90>"
      ]
     },
     "execution_count": 34,
     "metadata": {},
     "output_type": "execute_result"
    },
    {
     "data": {
      "image/png": "[encoded data removed]",
      "text/plain": [
       "<Figure size 432x288 with 1 Axes>"
      ]
     },
     "metadata": {},
     "output_type": "display_data"
    }
   ],
   "source": [
    "spdf.form.apply(len).hist(bins=18)"
   ]
  },
  {
   "cell_type": "code",
   "execution_count": 35,
   "metadata": {
    "ExecuteTime": {
     "end_time": "2019-01-31T13:58:31.340217Z",
     "start_time": "2019-01-31T13:58:31.324599Z"
    }
   },
   "outputs": [],
   "source": [
    "max_len_char = 12"
   ]
  },
  {
   "cell_type": "code",
   "execution_count": 36,
   "metadata": {
    "ExecuteTime": {
     "end_time": "2019-01-31T13:58:32.660554Z",
     "start_time": "2019-01-31T13:58:32.613692Z"
    }
   },
   "outputs": [
    {
     "name": "stdout",
     "output_type": "stream",
     "text": [
      "50\n"
     ]
    }
   ],
   "source": [
    "chars = set([w_i for w in words for w_i in w])\n",
    "n_chars = len(chars)\n",
    "print(n_chars)"
   ]
  },
  {
   "cell_type": "code",
   "execution_count": 37,
   "metadata": {
    "ExecuteTime": {
     "end_time": "2019-01-31T13:58:33.732950Z",
     "start_time": "2019-01-31T13:58:33.717366Z"
    }
   },
   "outputs": [],
   "source": [
    "char2idx = {c: i + 2 for i, c in enumerate(chars)}\n",
    "char2idx[\"UNK\"] = 1\n",
    "char2idx[\"PAD\"] = 0"
   ]
  },
  {
   "cell_type": "code",
   "execution_count": 38,
   "metadata": {
    "ExecuteTime": {
     "end_time": "2019-01-31T13:58:36.324286Z",
     "start_time": "2019-01-31T13:58:34.303392Z"
    }
   },
   "outputs": [],
   "source": [
    "def get_X_char(sents):\n",
    "    X_char = []\n",
    "    for sentence in sents:\n",
    "        sent_seq = []\n",
    "        for i in range(max_len):\n",
    "            word_seq = []\n",
    "            for j in range(max_len_char):\n",
    "                try:\n",
    "                    word_seq.append(char2idx.get(sentence[i][0][j]))\n",
    "                except:\n",
    "                    word_seq.append(char2idx.get(\"PAD\"))\n",
    "            sent_seq.append(word_seq)\n",
    "        X_char.append(np.array(sent_seq))\n",
    "    return X_char"
   ]
  },
  {
   "cell_type": "code",
   "execution_count": 39,
   "metadata": {},
   "outputs": [],
   "source": [
    "X_char_gold_dev   = get_X_char(gold_dev_sents  )\n",
    "X_char_gold_train = get_X_char(gold_train_sents)\n",
    "X_char_gold_test  = get_X_char(gold_test_sents )\n",
    "X_char_yap_dev    = get_X_char(yap_dev_sents   )\n",
    "X_char_yap_test   = get_X_char(yap_test_sents  )\n",
    "\n",
    "\n",
    "\n",
    "splits_char = [[X_char_gold_train, X_char_gold_dev,\n",
    "                y_gold_train, y_gold_dev]]"
   ]
  },
  {
   "cell_type": "markdown",
   "metadata": {},
   "source": [
    "## Embeddings"
   ]
  },
  {
   "cell_type": "code",
   "execution_count": 40,
   "metadata": {},
   "outputs": [
    {
     "data": {
      "text/plain": [
       "{'yap_w2v_sg': '../wordembedding-hebrew/vectors_orig_tok/wikipedia.yap_form.word2vec_skipgram.txt',\n",
       " 'yap_w2v_cbow': '../wordembedding-hebrew/vectors_orig_tok/wikipedia.yap_form.word2vec_cbow.txt',\n",
       " 'yap_glove': '../wordembedding-hebrew/vectors_orig_tok/wikipedia.yap_form.glove.txt',\n",
       " 'yap_ft_sg': '../wordembedding-hebrew/vectors_orig_tok/wikipedia.yap_form.fasttext_skipgram.model.vec',\n",
       " 'yap_ft_cbow': '../wordembedding-hebrew/vectors_orig_tok/wikipedia.yap_form.fasttext_cbow.model.vec',\n",
       " 'token_w2v_sg': '../wordembedding-hebrew/vectors_orig_tok/wikipedia.tokenized.word2vec_skipgram.txt',\n",
       " 'token_w2v_cbow': '../wordembedding-hebrew/vectors_orig_tok/wikipedia.tokenized.word2vec_cbow.txt',\n",
       " 'token_glove': '../wordembedding-hebrew/vectors_orig_tok/wikipedia.tokenized.glove.txt',\n",
       " 'token_ft_sg': '../wordembedding-hebrew/vectors_orig_tok/wikipedia.tokenized.fasttext_skipgram.model.vec',\n",
       " 'token_ft_cbow': '../wordembedding-hebrew/vectors_orig_tok/wikipedia.tokenized.fasttext_cbow.model.vec',\n",
       " 'pretrained_token_ft': '../fasttext/wiki.he.vec',\n",
       " 'pretrained_token_ft_cc': '../fasttext/cc.he.300.vec',\n",
       " 'alt_tok_yap_w2v_sg': '../wordembedding-hebrew/vectors_alt_tok/wikipedia.alt_tok.yap_form.word2vec_skipgram.txt',\n",
       " 'alt_tok_yap_w2v_cbow': '../wordembedding-hebrew/vectors_alt_tok/wikipedia.alt_tok.yap_form.word2vec_cbow.txt',\n",
       " 'alt_tok_yap_glove': '../wordembedding-hebrew/vectors_alt_tok/wikipedia.alt_tok.yap_form.glove.txt',\n",
       " 'alt_tok_yap_ft_sg': '../wordembedding-hebrew/vectors_alt_tok/wikipedia.alt_tok.yap_form.fasttext_skipgram.model.vec',\n",
       " 'alt_tok_yap_ft_cbow': '../wordembedding-hebrew/vectors_alt_tok/wikipedia.alt_tok.yap_form.fasttext_cbow.model.vec',\n",
       " 'alt_tok_token_w2v_sg': '../wordembedding-hebrew/vectors_alt_tok/wikipedia.alt_tok.tokenized.word2vec_skipgram.txt',\n",
       " 'alt_tok_token_w2v_cbow': '../wordembedding-hebrew/vectors_alt_tok/wikipedia.alt_tok.tokenized.word2vec_cbow.txt',\n",
       " 'alt_tok_token_glove': '../wordembedding-hebrew/vectors_alt_tok/wikipedia.alt_tok.tokenized.glove.txt',\n",
       " 'alt_tok_token_ft_sg': '../wordembedding-hebrew/vectors_alt_tok/wikipedia.alt_tok.tokenized.fasttext_skipgram.model.vec',\n",
       " 'alt_tok_token_ft_cbow': '../wordembedding-hebrew/vectors_alt_tok/wikipedia.alt_tok.tokenized.fasttext_cbow.model.vec',\n",
       " 'alt_tok_tuned_yap_ft_sg': '../wordembedding-hebrew/vectors_alt_tok/wikipedia.alt_tok.yap_form.fasttext_skipgram.tuned.model.vec',\n",
       " 'alt_tok_tuned_yap_ft_cbow': '../wordembedding-hebrew/vectors_alt_tok/wikipedia.alt_tok.yap_form.fasttext_cbow.tuned.model.vec',\n",
       " 'alt_tok_tuned_yap_w2v_sg': '../wordembedding-hebrew/vectors_alt_tok/wikipedia.alt_tok.yap_form.word2vec_skipgram.tuned.txt',\n",
       " 'alt_tok_tuned_yap_w2v_cbow': '../wordembedding-hebrew/vectors_alt_tok/wikipedia.alt_tok.yap_form.word2vec_cbow.tuned.txt',\n",
       " 'alt_tok_tuned_yap_glove': '../wordembedding-hebrew/vectors_alt_tok/wikipedia.alt_tok.yap_form.glove.tuned.txt'}"
      ]
     },
     "execution_count": 40,
     "metadata": {},
     "output_type": "execute_result"
    }
   ],
   "source": [
    "embedding_paths"
   ]
  },
  {
   "cell_type": "code",
   "execution_count": 41,
   "metadata": {},
   "outputs": [],
   "source": [
    "exclude = ['tuned', 'cbow', 'token']\n",
    "include = 'NONE'"
   ]
  },
  {
   "cell_type": "code",
   "execution_count": 42,
   "metadata": {},
   "outputs": [],
   "source": [
    "embedding_mats = {}\n",
    "for emb_name, emb_path in embedding_paths.items():\n",
    "    skip=False\n",
    "    if include not in emb_name:\n",
    "        continue\n",
    "        \n",
    "    for exc in exclude:\n",
    "        if exc in emb_path:\n",
    "            skip=True\n",
    "    if skip:\n",
    "        continue\n",
    "    embedding_mats[emb_name] = get_embedding_matrix(emb_path, word2idx)"
   ]
  },
  {
   "cell_type": "markdown",
   "metadata": {},
   "source": [
    "## Model building"
   ]
  },
  {
   "cell_type": "code",
   "execution_count": 52,
   "metadata": {},
   "outputs": [],
   "source": [
    "from ner_utils import *"
   ]
  },
  {
   "cell_type": "code",
   "execution_count": 53,
   "metadata": {},
   "outputs": [
    {
     "data": {
      "text/plain": [
       "[{'optimizer': 'adam',\n",
       "  'output_dropout': True,\n",
       "  'add_random_embedding': True,\n",
       "  'use_char': True,\n",
       "  'crf': True,\n",
       "  'use_pos': False,\n",
       "  'trainable': True,\n",
       "  'stack_lstm': 2},\n",
       " {'optimizer': 'adam',\n",
       "  'output_dropout': True,\n",
       "  'add_random_embedding': True,\n",
       "  'use_char': True,\n",
       "  'crf': True,\n",
       "  'use_pos': True,\n",
       "  'trainable': True,\n",
       "  'stack_lstm': 2}]"
      ]
     },
     "execution_count": 53,
     "metadata": {},
     "output_type": "execute_result"
    }
   ],
   "source": [
    "configs = build_configs(base_configs_stack_no_emb, embedding_mats)\n",
    "configs     "
   ]
  },
  {
   "cell_type": "code",
   "execution_count": 54,
   "metadata": {},
   "outputs": [],
   "source": [
    "for conf in configs:\n",
    "    conf['patience'] = 10"
   ]
  },
  {
   "cell_type": "code",
   "execution_count": 55,
   "metadata": {},
   "outputs": [],
   "source": [
    "out_folder = 'results/new_outputs_stack'\n",
    "if not os.path.exists(out_folder):\n",
    "    os.mkdir(out_folder)"
   ]
  },
  {
   "cell_type": "code",
   "execution_count": 56,
   "metadata": {},
   "outputs": [],
   "source": [
    "extra_preds = [(X_gold_test, X_pos_gold_test, X_char_gold_test), \n",
    "               (X_yap_dev, X_pos_yap_dev, X_char_yap_dev),\n",
    "               (X_yap_test, X_pos_yap_test, X_char_yap_test)]"
   ]
  },
  {
   "cell_type": "code",
   "execution_count": 57,
   "metadata": {},
   "outputs": [],
   "source": [
    "from ner_utils import *"
   ]
  },
  {
   "cell_type": "code",
   "execution_count": 58,
   "metadata": {
    "ExecuteTime": {
     "end_time": "2019-03-13T11:31:02.793857Z",
     "start_time": "2019-03-13T11:16:17.267695Z"
    },
    "scrolled": true
   },
   "outputs": [
    {
     "name": "stdout",
     "output_type": "stream",
     "text": [
      "__________________________________________________________________________________________________\n",
      "Layer (type)                    Output Shape         Param #     Connected to                     \n",
      "==================================================================================================\n",
      "input_2 (InputLayer)            (None, 80, 12)       0                                            \n",
      "__________________________________________________________________________________________________\n",
      "input_1 (InputLayer)            (None, 80)           0                                            \n",
      "__________________________________________________________________________________________________\n",
      "time_distributed_1 (TimeDistrib (None, 80, 12, 20)   1040        input_2[0][0]                    \n",
      "__________________________________________________________________________________________________\n",
      "embedding_1 (Embedding)         (None, 80, 70)       1292690     input_1[0][0]                    \n",
      "__________________________________________________________________________________________________\n",
      "time_distributed_2 (TimeDistrib (None, 80, 20)       2480        time_distributed_1[0][0]         \n",
      "__________________________________________________________________________________________________\n",
      "concatenate_1 (Concatenate)     (None, 80, 90)       0           embedding_1[0][0]                \n",
      "                                                                 time_distributed_2[0][0]         \n",
      "__________________________________________________________________________________________________\n",
      "spatial_dropout1d_1 (SpatialDro (None, 80, 90)       0           concatenate_1[0][0]              \n",
      "__________________________________________________________________________________________________\n",
      "bidirectional_2 (Bidirectional) (None, 80, 200)      152800      spatial_dropout1d_1[0][0]        \n",
      "__________________________________________________________________________________________________\n",
      "bidirectional_3 (Bidirectional) (None, 80, 200)      240800      bidirectional_2[0][0]            \n",
      "__________________________________________________________________________________________________\n",
      "dropout_1 (Dropout)             (None, 80, 200)      0           bidirectional_3[0][0]            \n",
      "__________________________________________________________________________________________________\n",
      "time_distributed_3 (TimeDistrib (None, 80, 50)       10050       dropout_1[0][0]                  \n",
      "__________________________________________________________________________________________________\n",
      "crf_1 (CRF)                     (None, 80, 38)       3458        time_distributed_3[0][0]         \n",
      "==================================================================================================\n",
      "Total params: 1,703,318\n",
      "Trainable params: 1,703,318\n",
      "Non-trainable params: 0\n",
      "__________________________________________________________________________________________________\n",
      "None\n",
      "Train on 4482 samples, validate on 455 samples\n",
      "Epoch 1/100\n",
      " - 94s - loss: 0.4907 - crf_accuracy: 0.9066 - val_loss: 0.2219 - val_crf_accuracy: 0.9611\n",
      "Epoch 2/100\n",
      " - 85s - loss: 0.1697 - crf_accuracy: 0.9690 - val_loss: 0.1913 - val_crf_accuracy: 0.9620\n",
      "Epoch 3/100\n",
      " - 86s - loss: 0.1391 - crf_accuracy: 0.9703 - val_loss: 0.1658 - val_crf_accuracy: 0.9624\n",
      "Epoch 4/100\n",
      " - 83s - loss: 0.1093 - crf_accuracy: 0.9722 - val_loss: 0.1445 - val_crf_accuracy: 0.9642\n",
      "Epoch 5/100\n",
      " - 84s - loss: 0.0818 - crf_accuracy: 0.9769 - val_loss: 0.1311 - val_crf_accuracy: 0.9695\n",
      "Epoch 6/100\n",
      " - 84s - loss: 0.0611 - crf_accuracy: 0.9825 - val_loss: 0.1290 - val_crf_accuracy: 0.9711\n",
      "Epoch 7/100\n",
      " - 85s - loss: 0.0458 - crf_accuracy: 0.9864 - val_loss: 0.1217 - val_crf_accuracy: 0.9726\n",
      "Epoch 8/100\n",
      " - 84s - loss: 0.0366 - crf_accuracy: 0.9885 - val_loss: 0.1333 - val_crf_accuracy: 0.9729\n",
      "Epoch 9/100\n",
      " - 83s - loss: 0.0290 - crf_accuracy: 0.9906 - val_loss: 0.1236 - val_crf_accuracy: 0.9716\n",
      "Epoch 10/100\n",
      " - 84s - loss: 0.0254 - crf_accuracy: 0.9913 - val_loss: 0.1378 - val_crf_accuracy: 0.9738\n",
      "Epoch 11/100\n",
      " - 83s - loss: 0.0197 - crf_accuracy: 0.9927 - val_loss: 0.1495 - val_crf_accuracy: 0.9747\n",
      "Epoch 12/100\n",
      " - 84s - loss: 0.0155 - crf_accuracy: 0.9936 - val_loss: 0.1416 - val_crf_accuracy: 0.9732\n",
      "Epoch 13/100\n",
      " - 84s - loss: 0.0131 - crf_accuracy: 0.9943 - val_loss: 0.1590 - val_crf_accuracy: 0.9728\n",
      "Epoch 14/100\n",
      " - 84s - loss: 0.0118 - crf_accuracy: 0.9943 - val_loss: 0.1517 - val_crf_accuracy: 0.9745\n",
      "Epoch 15/100\n",
      " - 84s - loss: 0.0086 - crf_accuracy: 0.9951 - val_loss: 0.1701 - val_crf_accuracy: 0.9744\n",
      "Epoch 16/100\n",
      " - 84s - loss: 0.0056 - crf_accuracy: 0.9961 - val_loss: 0.1720 - val_crf_accuracy: 0.9740\n",
      "Epoch 17/100\n",
      " - 84s - loss: 0.0035 - crf_accuracy: 0.9965 - val_loss: 0.1732 - val_crf_accuracy: 0.9738\n",
      "Epoch 18/100\n",
      " - 84s - loss: 0.0017 - crf_accuracy: 0.9968 - val_loss: 0.1724 - val_crf_accuracy: 0.9739\n",
      "Epoch 19/100\n",
      " - 85s - loss: -4.6926e-04 - crf_accuracy: 0.9973 - val_loss: 0.1745 - val_crf_accuracy: 0.9740\n",
      "Epoch 20/100\n",
      " - 84s - loss: -1.7468e-03 - crf_accuracy: 0.9973 - val_loss: 0.1917 - val_crf_accuracy: 0.9734\n",
      "Epoch 21/100\n",
      " - 84s - loss: -3.9041e-03 - crf_accuracy: 0.9979 - val_loss: 0.1791 - val_crf_accuracy: 0.9727\n",
      "Restoring model weights from the end of the best epoch\n",
      "Epoch 00021: early stopping\n"
     ]
    },
    {
     "data": {
      "image/png": "[encoded data removed]",
      "text/plain": [
       "<Figure size 432x288 with 1 Axes>"
      ]
     },
     "metadata": {},
     "output_type": "display_data"
    },
    {
     "name": "stdout",
     "output_type": "stream",
     "text": [
      "processed 11278 tokens with 498 phrases; found: 289 phrases; correct: 177.\n",
      "accuracy:  35.39%; (non-O)\n",
      "accuracy:  93.62%; precision:  61.25%; recall:  35.54%; FB1:  44.98\n",
      "              ANG: precision:   0.00%; recall:   0.00%; FB1:   0.00  0\n",
      "              DUC: precision:   0.00%; recall:   0.00%; FB1:   0.00  0\n",
      "              EVE: precision:   0.00%; recall:   0.00%; FB1:   0.00  0\n",
      "              FAC: precision:   0.00%; recall:   0.00%; FB1:   0.00  3\n",
      "              GPE: precision:  68.09%; recall:  53.33%; FB1:  59.81  94\n",
      "              LOC: precision:  37.50%; recall:  10.71%; FB1:  16.67  8\n",
      "              ORG: precision:  48.24%; recall:  34.45%; FB1:  40.20  85\n",
      "              PER: precision:  70.41%; recall:  35.75%; FB1:  47.42  98\n",
      "              WOA: precision:   0.00%; recall:   0.00%; FB1:   0.00  1\n",
      "__________________________________________________________________________________________________\n",
      "Layer (type)                    Output Shape         Param #     Connected to                     \n",
      "==================================================================================================\n",
      "input_5 (InputLayer)            (None, 80, 12)       0                                            \n",
      "__________________________________________________________________________________________________\n",
      "input_3 (InputLayer)            (None, 80)           0                                            \n",
      "__________________________________________________________________________________________________\n",
      "input_4 (InputLayer)            (None, 80)           0                                            \n",
      "__________________________________________________________________________________________________\n",
      "time_distributed_4 (TimeDistrib (None, 80, 12, 20)   1040        input_5[0][0]                    \n",
      "__________________________________________________________________________________________________\n",
      "embedding_3 (Embedding)         (None, 80, 70)       1292690     input_3[0][0]                    \n",
      "__________________________________________________________________________________________________\n",
      "embedding_4 (Embedding)         (None, 80, 10)       530         input_4[0][0]                    \n",
      "__________________________________________________________________________________________________\n",
      "time_distributed_5 (TimeDistrib (None, 80, 20)       2480        time_distributed_4[0][0]         \n",
      "__________________________________________________________________________________________________\n",
      "concatenate_2 (Concatenate)     (None, 80, 100)      0           embedding_3[0][0]                \n",
      "                                                                 embedding_4[0][0]                \n",
      "                                                                 time_distributed_5[0][0]         \n",
      "__________________________________________________________________________________________________\n",
      "spatial_dropout1d_2 (SpatialDro (None, 80, 100)      0           concatenate_2[0][0]              \n",
      "__________________________________________________________________________________________________\n",
      "bidirectional_5 (Bidirectional) (None, 80, 200)      160800      spatial_dropout1d_2[0][0]        \n",
      "__________________________________________________________________________________________________\n",
      "bidirectional_6 (Bidirectional) (None, 80, 200)      240800      bidirectional_5[0][0]            \n",
      "__________________________________________________________________________________________________\n",
      "dropout_2 (Dropout)             (None, 80, 200)      0           bidirectional_6[0][0]            \n",
      "__________________________________________________________________________________________________\n",
      "time_distributed_6 (TimeDistrib (None, 80, 50)       10050       dropout_2[0][0]                  \n",
      "__________________________________________________________________________________________________\n",
      "crf_2 (CRF)                     (None, 80, 38)       3458        time_distributed_6[0][0]         \n",
      "==================================================================================================\n",
      "Total params: 1,711,848\n",
      "Trainable params: 1,711,848\n",
      "Non-trainable params: 0\n",
      "__________________________________________________________________________________________________\n",
      "None\n",
      "Train on 4482 samples, validate on 455 samples\n",
      "Epoch 1/100\n",
      " - 90s - loss: 0.5338 - crf_accuracy: 0.8965 - val_loss: 0.2197 - val_crf_accuracy: 0.9617\n",
      "Epoch 2/100\n",
      " - 83s - loss: 0.1696 - crf_accuracy: 0.9691 - val_loss: 0.1890 - val_crf_accuracy: 0.9621\n",
      "Epoch 3/100\n",
      " - 84s - loss: 0.1255 - crf_accuracy: 0.9709 - val_loss: 0.1280 - val_crf_accuracy: 0.9675\n",
      "Epoch 4/100\n",
      " - 83s - loss: 0.0829 - crf_accuracy: 0.9781 - val_loss: 0.1031 - val_crf_accuracy: 0.9751\n",
      "Epoch 5/100\n",
      " - 83s - loss: 0.0615 - crf_accuracy: 0.9832 - val_loss: 0.0923 - val_crf_accuracy: 0.9760\n",
      "Epoch 6/100\n",
      " - 84s - loss: 0.0469 - crf_accuracy: 0.9855 - val_loss: 0.0836 - val_crf_accuracy: 0.9758\n",
      "Epoch 7/100\n",
      " - 83s - loss: 0.0387 - crf_accuracy: 0.9874 - val_loss: 0.0882 - val_crf_accuracy: 0.9755\n",
      "Epoch 8/100\n",
      " - 83s - loss: 0.0323 - crf_accuracy: 0.9888 - val_loss: 0.0781 - val_crf_accuracy: 0.9777\n",
      "Epoch 9/100\n",
      " - 83s - loss: 0.0268 - crf_accuracy: 0.9900 - val_loss: 0.0814 - val_crf_accuracy: 0.9777\n",
      "Epoch 10/100\n",
      " - 83s - loss: 0.0221 - crf_accuracy: 0.9915 - val_loss: 0.0853 - val_crf_accuracy: 0.9777\n",
      "Epoch 11/100\n",
      " - 83s - loss: 0.0175 - crf_accuracy: 0.9925 - val_loss: 0.0928 - val_crf_accuracy: 0.9782\n",
      "Epoch 12/100\n",
      " - 83s - loss: 0.0139 - crf_accuracy: 0.9934 - val_loss: 0.0949 - val_crf_accuracy: 0.9783\n",
      "Epoch 13/100\n",
      " - 83s - loss: 0.0107 - crf_accuracy: 0.9941 - val_loss: 0.0881 - val_crf_accuracy: 0.9793\n",
      "Epoch 14/100\n",
      " - 83s - loss: 0.0128 - crf_accuracy: 0.9930 - val_loss: 0.0924 - val_crf_accuracy: 0.9781\n",
      "Epoch 15/100\n",
      " - 83s - loss: 0.0057 - crf_accuracy: 0.9951 - val_loss: 0.0905 - val_crf_accuracy: 0.9782\n",
      "Epoch 16/100\n",
      " - 83s - loss: 0.0024 - crf_accuracy: 0.9960 - val_loss: 0.0878 - val_crf_accuracy: 0.9767\n",
      "Epoch 17/100\n",
      " - 82s - loss: 0.0033 - crf_accuracy: 0.9954 - val_loss: 0.0928 - val_crf_accuracy: 0.9784\n",
      "Epoch 18/100\n",
      " - 84s - loss: -1.5839e-03 - crf_accuracy: 0.9970 - val_loss: 0.0875 - val_crf_accuracy: 0.9787\n",
      "Epoch 19/100\n",
      " - 83s - loss: -3.5861e-03 - crf_accuracy: 0.9972 - val_loss: 0.0922 - val_crf_accuracy: 0.9785\n",
      "Epoch 20/100\n",
      " - 83s - loss: -5.7373e-03 - crf_accuracy: 0.9976 - val_loss: 0.0926 - val_crf_accuracy: 0.9787\n",
      "Epoch 21/100\n",
      " - 84s - loss: -7.7345e-03 - crf_accuracy: 0.9981 - val_loss: 0.0951 - val_crf_accuracy: 0.9775\n",
      "Epoch 22/100\n",
      " - 83s - loss: -9.4678e-03 - crf_accuracy: 0.9982 - val_loss: 0.0943 - val_crf_accuracy: 0.9778\n",
      "Epoch 23/100\n",
      " - 82s - loss: -1.1329e-02 - crf_accuracy: 0.9985 - val_loss: 0.1009 - val_crf_accuracy: 0.9776\n",
      "Restoring model weights from the end of the best epoch\n",
      "Epoch 00023: early stopping\n"
     ]
    },
    {
     "data": {
      "image/png": "[encoded data removed]",
      "text/plain": [
       "<Figure size 432x288 with 1 Axes>"
      ]
     },
     "metadata": {},
     "output_type": "display_data"
    },
    {
     "name": "stdout",
     "output_type": "stream",
     "text": [
      "processed 11278 tokens with 498 phrases; found: 481 phrases; correct: 284.\n",
      "accuracy:  50.89%; (non-O)\n",
      "accuracy:  94.95%; precision:  59.04%; recall:  57.03%; FB1:  58.02\n",
      "              ANG: precision:   0.00%; recall:   0.00%; FB1:   0.00  0\n",
      "              DUC: precision:   0.00%; recall:   0.00%; FB1:   0.00  0\n",
      "              EVE: precision:   0.00%; recall:   0.00%; FB1:   0.00  0\n",
      "              FAC: precision:   0.00%; recall:   0.00%; FB1:   0.00  1\n",
      "              GPE: precision:  74.44%; recall:  55.83%; FB1:  63.81  90\n",
      "              LOC: precision:  32.43%; recall:  42.86%; FB1:  36.92  37\n",
      "              ORG: precision:  41.59%; recall:  39.50%; FB1:  40.52  113\n",
      "              PER: precision:  65.83%; recall:  81.87%; FB1:  72.98  240\n",
      "              WOA: precision:   0.00%; recall:   0.00%; FB1:   0.00  0\n"
     ]
    }
   ],
   "source": [
    "configs, results, preds, histories = run_models(configs, splits, splits_char, embedding_mats, \n",
    "                                                words, max_len, n_words, idx2word, idx2tag,\n",
    "                                                n_tags, max_len_char, n_pos, n_chars,\n",
    "                                                run_name='treebank_morphemes_stack_no_emb1', out_folder=out_folder,\n",
    "                                                skip_if_model_exists=True,\n",
    "                                                validation_split=validation_split,\n",
    "                                                extra_predictions=extra_preds,\n",
    "                                                )"
   ]
  },
  {
   "cell_type": "code",
   "execution_count": null,
   "metadata": {},
   "outputs": [],
   "source": [
    "from keras import backend as K\n",
    "K.clear_session()"
   ]
  },
  {
   "cell_type": "code",
   "execution_count": null,
   "metadata": {},
   "outputs": [],
   "source": [
    "1"
   ]
  },
  {
   "cell_type": "code",
   "execution_count": null,
   "metadata": {},
   "outputs": [],
   "source": []
  },
  {
   "cell_type": "code",
   "execution_count": null,
   "metadata": {},
   "outputs": [],
   "source": []
  },
  {
   "cell_type": "markdown",
   "metadata": {},
   "source": [
    "###### "
   ]
  },
  {
   "cell_type": "code",
   "execution_count": null,
   "metadata": {},
   "outputs": [],
   "source": []
  },
  {
   "cell_type": "code",
   "execution_count": null,
   "metadata": {},
   "outputs": [],
   "source": []
  },
  {
   "cell_type": "code",
   "execution_count": null,
   "metadata": {},
   "outputs": [],
   "source": []
  },
  {
   "cell_type": "code",
   "execution_count": null,
   "metadata": {},
   "outputs": [],
   "source": []
  },
  {
   "cell_type": "code",
   "execution_count": null,
   "metadata": {},
   "outputs": [],
   "source": []
  },
  {
   "cell_type": "code",
   "execution_count": null,
   "metadata": {},
   "outputs": [],
   "source": []
  }
 ],
 "metadata": {
  "kernelspec": {
   "display_name": "Python 3",
   "language": "python",
   "name": "python3"
  },
  "language_info": {
   "codemirror_mode": {
    "name": "ipython",
    "version": 3
   },
   "file_extension": ".py",
   "mimetype": "text/x-python",
   "name": "python",
   "nbconvert_exporter": "python",
   "pygments_lexer": "ipython3",
   "version": "3.6.8"
  }
 },
 "nbformat": 4,
 "nbformat_minor": 4
}
