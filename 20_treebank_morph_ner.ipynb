{
 "cells": [
  {
   "cell_type": "markdown",
   "metadata": {},
   "source": [
    "# Treebank NER with Bi-LSTM-CRF on morphemes"
   ]
  },
  {
   "cell_type": "code",
   "execution_count": 1,
   "metadata": {},
   "outputs": [],
   "source": [
    "import os\n",
    "os.environ[\"CUDA_DEVICE_ORDER\"]=\"PCI_BUS_ID\";\n",
    " \n",
    "# The GPU id to use, usually either \"0\" or \"1\";\n",
    "os.environ[\"CUDA_VISIBLE_DEVICES\"]=\"1\";  "
   ]
  },
  {
   "cell_type": "code",
   "execution_count": 2,
   "metadata": {},
   "outputs": [],
   "source": [
    "%load_ext autoreload\n",
    "%autoreload 2"
   ]
  },
  {
   "cell_type": "code",
   "execution_count": 3,
   "metadata": {
    "ExecuteTime": {
     "end_time": "2019-03-13T07:20:24.034028Z",
     "start_time": "2019-03-13T07:20:22.687626Z"
    }
   },
   "outputs": [],
   "source": [
    "%matplotlib inline"
   ]
  },
  {
   "cell_type": "code",
   "execution_count": 4,
   "metadata": {
    "ExecuteTime": {
     "end_time": "2019-03-13T07:20:24.382406Z",
     "start_time": "2019-03-13T07:20:24.037019Z"
    }
   },
   "outputs": [],
   "source": [
    "import pandas as pd\n",
    "import numpy as np"
   ]
  },
  {
   "cell_type": "code",
   "execution_count": 5,
   "metadata": {
    "ExecuteTime": {
     "end_time": "2019-03-13T07:20:27.996727Z",
     "start_time": "2019-03-13T07:20:24.385088Z"
    }
   },
   "outputs": [],
   "source": [
    "import matplotlib.pyplot as plt\n",
    "import seaborn as sns\n",
    "sns.set_context('paper')\n",
    "sns.set_style('white')"
   ]
  },
  {
   "cell_type": "code",
   "execution_count": 6,
   "metadata": {
    "ExecuteTime": {
     "end_time": "2019-03-13T07:20:28.016424Z",
     "start_time": "2019-03-13T07:20:27.999427Z"
    }
   },
   "outputs": [],
   "source": [
    "from conlleval import evaluate"
   ]
  },
  {
   "cell_type": "code",
   "execution_count": 7,
   "metadata": {},
   "outputs": [
    {
     "name": "stderr",
     "output_type": "stream",
     "text": [
      "Using TensorFlow backend.\n"
     ]
    }
   ],
   "source": [
    "from ner_utils import *"
   ]
  },
  {
   "cell_type": "markdown",
   "metadata": {},
   "source": [
    "## Get morpheme data"
   ]
  },
  {
   "cell_type": "code",
   "execution_count": 8,
   "metadata": {},
   "outputs": [],
   "source": [
    "yap_dev = pd.read_csv('new_yap_outputs/yap_dev.csv.gz', compression='gzip')\n",
    "yap_test = pd.read_csv('new_yap_outputs/yap_test.csv.gz', compression='gzip')"
   ]
  },
  {
   "cell_type": "code",
   "execution_count": 9,
   "metadata": {},
   "outputs": [],
   "source": [
    "dropped = [5438, 5444, 5445, 5446, 5448, 5449, 5450, 5451, 5453, 5459]"
   ]
  },
  {
   "cell_type": "code",
   "execution_count": 10,
   "metadata": {},
   "outputs": [],
   "source": [
    "spdf = pd.read_csv('align/spdf_fixed.csv.gz', compression='gzip')\n",
    "spdf = spdf[(~spdf.sent_id.isin(dropped))]"
   ]
  },
  {
   "cell_type": "code",
   "execution_count": 11,
   "metadata": {},
   "outputs": [
    {
     "data": {
      "text/html": [
       "<div>\n",
       "<style scoped>\n",
       "    .dataframe tbody tr th:only-of-type {\n",
       "        vertical-align: middle;\n",
       "    }\n",
       "\n",
       "    .dataframe tbody tr th {\n",
       "        vertical-align: top;\n",
       "    }\n",
       "\n",
       "    .dataframe thead th {\n",
       "        text-align: right;\n",
       "    }\n",
       "</style>\n",
       "<table border=\"1\" class=\"dataframe\">\n",
       "  <thead>\n",
       "    <tr style=\"text-align: right;\">\n",
       "      <th></th>\n",
       "      <th>id</th>\n",
       "      <th>form</th>\n",
       "      <th>lemma</th>\n",
       "      <th>upostag</th>\n",
       "      <th>xpostag</th>\n",
       "      <th>feats</th>\n",
       "      <th>token_id</th>\n",
       "      <th>sent_id</th>\n",
       "      <th>token_str</th>\n",
       "      <th>global_sent_id</th>\n",
       "      <th>...</th>\n",
       "      <th>binyan</th>\n",
       "      <th>biose</th>\n",
       "      <th>ner_layers</th>\n",
       "      <th>ner</th>\n",
       "      <th>head</th>\n",
       "      <th>deprel</th>\n",
       "      <th>deps</th>\n",
       "      <th>misc</th>\n",
       "      <th>ner_escaped</th>\n",
       "      <th>set</th>\n",
       "    </tr>\n",
       "  </thead>\n",
       "  <tbody>\n",
       "    <tr>\n",
       "      <th>0</th>\n",
       "      <td>1</td>\n",
       "      <td>עשרות</td>\n",
       "      <td>עשר</td>\n",
       "      <td>CDT</td>\n",
       "      <td>CDT</td>\n",
       "      <td>gen=F|num=P</td>\n",
       "      <td>1</td>\n",
       "      <td>1</td>\n",
       "      <td>עשרות</td>\n",
       "      <td>1</td>\n",
       "      <td>...</td>\n",
       "      <td>---</td>\n",
       "      <td>O</td>\n",
       "      <td>0</td>\n",
       "      <td>_</td>\n",
       "      <td>2</td>\n",
       "      <td>num</td>\n",
       "      <td>_</td>\n",
       "      <td>_</td>\n",
       "      <td>_</td>\n",
       "      <td>dev</td>\n",
       "    </tr>\n",
       "    <tr>\n",
       "      <th>1</th>\n",
       "      <td>2</td>\n",
       "      <td>אנשים</td>\n",
       "      <td>איש</td>\n",
       "      <td>NN</td>\n",
       "      <td>NN</td>\n",
       "      <td>gen=M|num=P</td>\n",
       "      <td>2</td>\n",
       "      <td>1</td>\n",
       "      <td>אנשים</td>\n",
       "      <td>1</td>\n",
       "      <td>...</td>\n",
       "      <td>---</td>\n",
       "      <td>O</td>\n",
       "      <td>0</td>\n",
       "      <td>_</td>\n",
       "      <td>3</td>\n",
       "      <td>subj</td>\n",
       "      <td>_</td>\n",
       "      <td>_</td>\n",
       "      <td>_</td>\n",
       "      <td>dev</td>\n",
       "    </tr>\n",
       "    <tr>\n",
       "      <th>2</th>\n",
       "      <td>3</td>\n",
       "      <td>מגיעים</td>\n",
       "      <td>הגיע</td>\n",
       "      <td>BN</td>\n",
       "      <td>BN</td>\n",
       "      <td>gen=M|num=P|per=A|HebBinyan=HIFIL</td>\n",
       "      <td>3</td>\n",
       "      <td>1</td>\n",
       "      <td>מגיעים</td>\n",
       "      <td>1</td>\n",
       "      <td>...</td>\n",
       "      <td>HIFIL</td>\n",
       "      <td>O</td>\n",
       "      <td>0</td>\n",
       "      <td>_</td>\n",
       "      <td>0</td>\n",
       "      <td>ROOT</td>\n",
       "      <td>_</td>\n",
       "      <td>_</td>\n",
       "      <td>_</td>\n",
       "      <td>dev</td>\n",
       "    </tr>\n",
       "    <tr>\n",
       "      <th>3</th>\n",
       "      <td>4</td>\n",
       "      <td>מ</td>\n",
       "      <td>מ</td>\n",
       "      <td>PREPOSITION</td>\n",
       "      <td>PREPOSITION</td>\n",
       "      <td>_</td>\n",
       "      <td>4</td>\n",
       "      <td>1</td>\n",
       "      <td>מתאילנד</td>\n",
       "      <td>1</td>\n",
       "      <td>...</td>\n",
       "      <td>---</td>\n",
       "      <td>O</td>\n",
       "      <td>0</td>\n",
       "      <td>_</td>\n",
       "      <td>3</td>\n",
       "      <td>prepmod</td>\n",
       "      <td>_</td>\n",
       "      <td>_</td>\n",
       "      <td>_</td>\n",
       "      <td>dev</td>\n",
       "    </tr>\n",
       "    <tr>\n",
       "      <th>4</th>\n",
       "      <td>5</td>\n",
       "      <td>תאילנד</td>\n",
       "      <td>תאילנד</td>\n",
       "      <td>NNP</td>\n",
       "      <td>NNP</td>\n",
       "      <td>_</td>\n",
       "      <td>4</td>\n",
       "      <td>1</td>\n",
       "      <td>מתאילנד</td>\n",
       "      <td>1</td>\n",
       "      <td>...</td>\n",
       "      <td>---</td>\n",
       "      <td>S-GPE</td>\n",
       "      <td>1</td>\n",
       "      <td>GPE</td>\n",
       "      <td>4</td>\n",
       "      <td>pobj</td>\n",
       "      <td>_</td>\n",
       "      <td>_</td>\n",
       "      <td>GPE</td>\n",
       "      <td>dev</td>\n",
       "    </tr>\n",
       "  </tbody>\n",
       "</table>\n",
       "<p>5 rows × 21 columns</p>\n",
       "</div>"
      ],
      "text/plain": [
       "   id    form   lemma      upostag      xpostag  \\\n",
       "0   1   עשרות     עשר          CDT          CDT   \n",
       "1   2   אנשים     איש           NN           NN   \n",
       "2   3  מגיעים    הגיע           BN           BN   \n",
       "3   4       מ       מ  PREPOSITION  PREPOSITION   \n",
       "4   5  תאילנד  תאילנד          NNP          NNP   \n",
       "\n",
       "                               feats  token_id  sent_id token_str  \\\n",
       "0                        gen=F|num=P         1        1     עשרות   \n",
       "1                        gen=M|num=P         2        1     אנשים   \n",
       "2  gen=M|num=P|per=A|HebBinyan=HIFIL         3        1    מגיעים   \n",
       "3                                  _         4        1   מתאילנד   \n",
       "4                                  _         4        1   מתאילנד   \n",
       "\n",
       "   global_sent_id  ...  binyan  biose ner_layers  ner head   deprel deps misc  \\\n",
       "0               1  ...     ---      O          0    _    2      num    _    _   \n",
       "1               1  ...     ---      O          0    _    3     subj    _    _   \n",
       "2               1  ...   HIFIL      O          0    _    0     ROOT    _    _   \n",
       "3               1  ...     ---      O          0    _    3  prepmod    _    _   \n",
       "4               1  ...     ---  S-GPE          1  GPE    4     pobj    _    _   \n",
       "\n",
       "  ner_escaped  set  \n",
       "0           _  dev  \n",
       "1           _  dev  \n",
       "2           _  dev  \n",
       "3           _  dev  \n",
       "4         GPE  dev  \n",
       "\n",
       "[5 rows x 21 columns]"
      ]
     },
     "execution_count": 11,
     "metadata": {},
     "output_type": "execute_result"
    }
   ],
   "source": [
    "spdf.head()"
   ]
  },
  {
   "cell_type": "code",
   "execution_count": 12,
   "metadata": {},
   "outputs": [
    {
     "data": {
      "text/html": [
       "<div>\n",
       "<style scoped>\n",
       "    .dataframe tbody tr th:only-of-type {\n",
       "        vertical-align: middle;\n",
       "    }\n",
       "\n",
       "    .dataframe tbody tr th {\n",
       "        vertical-align: top;\n",
       "    }\n",
       "\n",
       "    .dataframe thead th {\n",
       "        text-align: right;\n",
       "    }\n",
       "</style>\n",
       "<table border=\"1\" class=\"dataframe\">\n",
       "  <thead>\n",
       "    <tr style=\"text-align: right;\">\n",
       "      <th></th>\n",
       "      <th>id</th>\n",
       "      <th>form</th>\n",
       "      <th>lemma</th>\n",
       "      <th>upostag</th>\n",
       "      <th>xpostag</th>\n",
       "      <th>head</th>\n",
       "      <th>deprel</th>\n",
       "      <th>deps</th>\n",
       "      <th>misc</th>\n",
       "      <th>sent</th>\n",
       "      <th>misc_token_id</th>\n",
       "      <th>misc_token_str</th>\n",
       "      <th>feats_gen</th>\n",
       "      <th>feats_num</th>\n",
       "      <th>feats_per</th>\n",
       "      <th>feats_tense</th>\n",
       "      <th>feats_suf_gen</th>\n",
       "      <th>feats_suf_num</th>\n",
       "      <th>feats_suf_per</th>\n",
       "      <th>sent_id</th>\n",
       "    </tr>\n",
       "  </thead>\n",
       "  <tbody>\n",
       "    <tr>\n",
       "      <th>0</th>\n",
       "      <td>1</td>\n",
       "      <td>עשרות</td>\n",
       "      <td>עשר</td>\n",
       "      <td>CDT</td>\n",
       "      <td>CDT</td>\n",
       "      <td>2</td>\n",
       "      <td>num</td>\n",
       "      <td>_</td>\n",
       "      <td>_</td>\n",
       "      <td>1</td>\n",
       "      <td>1</td>\n",
       "      <td>עשרות</td>\n",
       "      <td>F</td>\n",
       "      <td>P</td>\n",
       "      <td>NaN</td>\n",
       "      <td>NaN</td>\n",
       "      <td>NaN</td>\n",
       "      <td>NaN</td>\n",
       "      <td>NaN</td>\n",
       "      <td>1</td>\n",
       "    </tr>\n",
       "    <tr>\n",
       "      <th>1</th>\n",
       "      <td>2</td>\n",
       "      <td>אנשים</td>\n",
       "      <td>איש</td>\n",
       "      <td>NN</td>\n",
       "      <td>NN</td>\n",
       "      <td>3</td>\n",
       "      <td>subj</td>\n",
       "      <td>_</td>\n",
       "      <td>_</td>\n",
       "      <td>1</td>\n",
       "      <td>2</td>\n",
       "      <td>אנשים</td>\n",
       "      <td>M</td>\n",
       "      <td>P</td>\n",
       "      <td>NaN</td>\n",
       "      <td>NaN</td>\n",
       "      <td>NaN</td>\n",
       "      <td>NaN</td>\n",
       "      <td>NaN</td>\n",
       "      <td>1</td>\n",
       "    </tr>\n",
       "    <tr>\n",
       "      <th>2</th>\n",
       "      <td>3</td>\n",
       "      <td>מגיעים</td>\n",
       "      <td>הגיע</td>\n",
       "      <td>BN</td>\n",
       "      <td>BN</td>\n",
       "      <td>14</td>\n",
       "      <td>conj</td>\n",
       "      <td>_</td>\n",
       "      <td>_</td>\n",
       "      <td>1</td>\n",
       "      <td>3</td>\n",
       "      <td>מגיעים</td>\n",
       "      <td>M</td>\n",
       "      <td>P</td>\n",
       "      <td>A</td>\n",
       "      <td>NaN</td>\n",
       "      <td>NaN</td>\n",
       "      <td>NaN</td>\n",
       "      <td>NaN</td>\n",
       "      <td>1</td>\n",
       "    </tr>\n",
       "    <tr>\n",
       "      <th>3</th>\n",
       "      <td>4</td>\n",
       "      <td>מ</td>\n",
       "      <td>מ</td>\n",
       "      <td>PREPOSITION</td>\n",
       "      <td>PREPOSITION</td>\n",
       "      <td>3</td>\n",
       "      <td>comp</td>\n",
       "      <td>_</td>\n",
       "      <td>_</td>\n",
       "      <td>1</td>\n",
       "      <td>4</td>\n",
       "      <td>מתאילנד</td>\n",
       "      <td>NaN</td>\n",
       "      <td>NaN</td>\n",
       "      <td>NaN</td>\n",
       "      <td>NaN</td>\n",
       "      <td>NaN</td>\n",
       "      <td>NaN</td>\n",
       "      <td>NaN</td>\n",
       "      <td>1</td>\n",
       "    </tr>\n",
       "    <tr>\n",
       "      <th>4</th>\n",
       "      <td>5</td>\n",
       "      <td>תאילנד</td>\n",
       "      <td>תאילנד</td>\n",
       "      <td>NNP</td>\n",
       "      <td>NNP</td>\n",
       "      <td>4</td>\n",
       "      <td>pobj</td>\n",
       "      <td>_</td>\n",
       "      <td>_</td>\n",
       "      <td>1</td>\n",
       "      <td>4</td>\n",
       "      <td>מתאילנד</td>\n",
       "      <td>F</td>\n",
       "      <td>S</td>\n",
       "      <td>NaN</td>\n",
       "      <td>NaN</td>\n",
       "      <td>NaN</td>\n",
       "      <td>NaN</td>\n",
       "      <td>NaN</td>\n",
       "      <td>1</td>\n",
       "    </tr>\n",
       "  </tbody>\n",
       "</table>\n",
       "</div>"
      ],
      "text/plain": [
       "   id    form   lemma      upostag      xpostag  head deprel deps misc  sent  \\\n",
       "0   1   עשרות     עשר          CDT          CDT     2    num    _    _     1   \n",
       "1   2   אנשים     איש           NN           NN     3   subj    _    _     1   \n",
       "2   3  מגיעים    הגיע           BN           BN    14   conj    _    _     1   \n",
       "3   4       מ       מ  PREPOSITION  PREPOSITION     3   comp    _    _     1   \n",
       "4   5  תאילנד  תאילנד          NNP          NNP     4   pobj    _    _     1   \n",
       "\n",
       "   misc_token_id misc_token_str feats_gen feats_num feats_per feats_tense  \\\n",
       "0              1          עשרות         F         P       NaN         NaN   \n",
       "1              2          אנשים         M         P       NaN         NaN   \n",
       "2              3         מגיעים         M         P         A         NaN   \n",
       "3              4        מתאילנד       NaN       NaN       NaN         NaN   \n",
       "4              4        מתאילנד         F         S       NaN         NaN   \n",
       "\n",
       "  feats_suf_gen feats_suf_num  feats_suf_per  sent_id  \n",
       "0           NaN           NaN            NaN        1  \n",
       "1           NaN           NaN            NaN        1  \n",
       "2           NaN           NaN            NaN        1  \n",
       "3           NaN           NaN            NaN        1  \n",
       "4           NaN           NaN            NaN        1  "
      ]
     },
     "execution_count": 12,
     "metadata": {},
     "output_type": "execute_result"
    }
   ],
   "source": [
    "yap_dev.head()"
   ]
  },
  {
   "cell_type": "code",
   "execution_count": 13,
   "metadata": {},
   "outputs": [
    {
     "data": {
      "text/plain": [
       "sent_id\n",
       "1    [[עשרות, CDT], [אנשים, NN], [מגיעים, BN], [מ, ...\n",
       "2    [[תופעה, NN], [זו, PRP], [התבררה, VB], [אתמול,...\n",
       "3    [[יו\"ר, NNT], [ה, DEF], [וועדה, NN], [,, yyCM]...\n",
       "4    [[מ, PREPOSITION], [צד, NN], [אחד, CD], [רוצה,...\n",
       "5    [[נמיר, NNP], [הודיעה, VB], [כי, CC], [תפנה, V...\n",
       "dtype: object"
      ]
     },
     "execution_count": 13,
     "metadata": {},
     "output_type": "execute_result"
    }
   ],
   "source": [
    "yap_dev_sents =  yap_dev.groupby('sent_id')[['form', 'upostag']].apply(lambda x: x.values.tolist())\n",
    "yap_dev_sents.head()"
   ]
  },
  {
   "cell_type": "code",
   "execution_count": 14,
   "metadata": {},
   "outputs": [
    {
     "data": {
      "text/plain": [
       "sent_id\n",
       "5439    [[ה, DEF], [כל, DTT], [נושאים, NN], [עמם, VB],...\n",
       "5440    [[אומר, NNT], [מזכיר, NNT], [ה, DEF], [תק\"ם, N...\n",
       "5441    [[לא, RB], [ייתכן, MD], [ש, REL], [עולה, NN], ...\n",
       "5442    [[לא, RB], [ייתכן, MD], [ש, REL], [הוא, PRP], ...\n",
       "5443    [[לכן, CC], [קבענו, VB], [עיקרון, NN], [ש, REL...\n",
       "dtype: object"
      ]
     },
     "execution_count": 14,
     "metadata": {},
     "output_type": "execute_result"
    }
   ],
   "source": [
    "yap_test_sents =  yap_test.groupby('sent_id')[['form', 'upostag']].apply(lambda x: x.values.tolist())\n",
    "yap_test_sents.head()"
   ]
  },
  {
   "cell_type": "code",
   "execution_count": 15,
   "metadata": {},
   "outputs": [],
   "source": [
    "gold_dev  = spdf[spdf.set=='dev']\n",
    "gold_train = spdf[spdf.set=='train']\n",
    "gold_test = spdf[spdf.set=='test']"
   ]
  },
  {
   "cell_type": "code",
   "execution_count": 16,
   "metadata": {},
   "outputs": [
    {
     "data": {
      "text/plain": [
       "sent_id\n",
       "5439    [[הכל, NN, O], [נושאים, BN, O], [עמ, IN, O], [...\n",
       "5440    [[אומר, BN, O], [מזכיר, NNT, O], [התק\"ם, NNP, ...\n",
       "5441    [[לא, RB, O], [ייתכן, MD, O], [ש, REL, O], [עו...\n",
       "5442    [[לא, RB, O], [ייתכן, MD, O], [ש, REL, O], [הו...\n",
       "5443    [[לכן, CC, O], [קבענו, VB, O], [עיקרון, NN, O]...\n",
       "dtype: object"
      ]
     },
     "execution_count": 16,
     "metadata": {},
     "output_type": "execute_result"
    }
   ],
   "source": [
    "gold_dev_sents = gold_dev.groupby('sent_id')[['form', 'upostag', 'biose']].apply(lambda x: x.values.tolist())\n",
    "gold_train_sents = gold_train.groupby('sent_id')[['form', 'upostag', 'biose']].apply(lambda x: x.values.tolist())\n",
    "gold_test_sents = gold_test.groupby('sent_id')[['form', 'upostag', 'biose']].apply(lambda x: x.values.tolist())\n",
    "gold_test_sents.head()"
   ]
  },
  {
   "cell_type": "code",
   "execution_count": 17,
   "metadata": {},
   "outputs": [
    {
     "data": {
      "text/plain": [
       "18465"
      ]
     },
     "execution_count": 17,
     "metadata": {},
     "output_type": "execute_result"
    }
   ],
   "source": [
    "words = list(set(spdf.form.values)|set(yap_dev.form.values)|set(yap_test.form.values))\n",
    "n_words = len(words); n_words"
   ]
  },
  {
   "cell_type": "code",
   "execution_count": 18,
   "metadata": {},
   "outputs": [
    {
     "data": {
      "text/plain": [
       "37"
      ]
     },
     "execution_count": 18,
     "metadata": {},
     "output_type": "execute_result"
    }
   ],
   "source": [
    "tags = list(set(spdf.biose.values))\n",
    "n_tags = len(tags); n_tags"
   ]
  },
  {
   "cell_type": "code",
   "execution_count": 19,
   "metadata": {},
   "outputs": [
    {
     "data": {
      "text/plain": [
       "<matplotlib.axes._subplots.AxesSubplot at 0x7fc7275fd1d0>"
      ]
     },
     "execution_count": 19,
     "metadata": {},
     "output_type": "execute_result"
    },
    {
     "data": {
      "image/png": "[encoded data removed]",
      "text/plain": [
       "<Figure size 432x288 with 1 Axes>"
      ]
     },
     "metadata": {},
     "output_type": "display_data"
    }
   ],
   "source": [
    "gold_train.groupby('sent_id').size().hist(bins=50)"
   ]
  },
  {
   "cell_type": "code",
   "execution_count": 20,
   "metadata": {},
   "outputs": [
    {
     "data": {
      "text/plain": [
       "<matplotlib.axes._subplots.AxesSubplot at 0x7fc725e3c908>"
      ]
     },
     "execution_count": 20,
     "metadata": {},
     "output_type": "execute_result"
    },
    {
     "data": {
      "image/png": "[encoded data removed]",
      "text/plain": [
       "<Figure size 432x288 with 1 Axes>"
      ]
     },
     "metadata": {},
     "output_type": "display_data"
    }
   ],
   "source": [
    "yap_dev.groupby('sent_id').size().hist(bins=50)"
   ]
  },
  {
   "cell_type": "code",
   "execution_count": 21,
   "metadata": {},
   "outputs": [],
   "source": [
    "max_len = 80\n",
    "word2idx = {w: i + 2 for i, w in enumerate(words)}\n",
    "word2idx[\"UNK\"] = 1\n",
    "word2idx[\"PAD\"] = 0\n",
    "idx2word = {i: w for w, i in word2idx.items()}\n",
    "tag2idx = {t: i + 1 for i, t in enumerate(tags)}\n",
    "tag2idx[\"PAD\"] = 0\n",
    "idx2tag = {i: w for w, i in tag2idx.items()}"
   ]
  },
  {
   "cell_type": "code",
   "execution_count": 22,
   "metadata": {},
   "outputs": [],
   "source": [
    "from keras.preprocessing.sequence import pad_sequences\n",
    "X_gold_train = [[word2idx[w[0]] for w in s] for s in gold_train_sents]\n",
    "X_gold_dev   = [[word2idx[w[0]] for w in s] for s in gold_dev_sents]\n",
    "X_gold_test  = [[word2idx[w[0]] for w in s] for s in gold_test_sents]\n",
    "X_yap_dev    = [[word2idx[w[0]] for w in s] for s in yap_dev_sents]\n",
    "X_yap_test   = [[word2idx[w[0]] for w in s] for s in yap_test_sents]"
   ]
  },
  {
   "cell_type": "code",
   "execution_count": 23,
   "metadata": {},
   "outputs": [
    {
     "data": {
      "text/plain": [
       "array([16890, 17274,    24,  5921, 15000,  5225,     0,     0,     0,\n",
       "           0,     0,     0,     0,     0,     0,     0,     0,     0,\n",
       "           0,     0,     0,     0,     0,     0,     0,     0,     0,\n",
       "           0,     0,     0,     0,     0,     0,     0,     0,     0,\n",
       "           0,     0,     0,     0,     0,     0,     0,     0,     0,\n",
       "           0,     0,     0,     0,     0,     0,     0,     0,     0,\n",
       "           0,     0,     0,     0,     0,     0,     0,     0,     0,\n",
       "           0,     0,     0,     0,     0,     0,     0,     0,     0,\n",
       "           0,     0,     0,     0,     0,     0,     0,     0],\n",
       "      dtype=int32)"
      ]
     },
     "execution_count": 23,
     "metadata": {},
     "output_type": "execute_result"
    }
   ],
   "source": [
    "X_gold_train = pad_sequences(maxlen=max_len, sequences=X_gold_train, value=word2idx[\"PAD\"], padding='post', truncating='post')\n",
    "X_gold_dev   = pad_sequences(maxlen=max_len, sequences=X_gold_dev  , value=word2idx[\"PAD\"], padding='post', truncating='post')\n",
    "X_gold_test  = pad_sequences(maxlen=max_len, sequences=X_gold_test , value=word2idx[\"PAD\"], padding='post', truncating='post')\n",
    "X_yap_dev    = pad_sequences(maxlen=max_len, sequences=X_yap_dev   , value=word2idx[\"PAD\"], padding='post', truncating='post')\n",
    "X_yap_test   = pad_sequences(maxlen=max_len, sequences=X_yap_test  , value=word2idx[\"PAD\"], padding='post', truncating='post')\n",
    "X_gold_train[0]"
   ]
  },
  {
   "cell_type": "code",
   "execution_count": 24,
   "metadata": {},
   "outputs": [
    {
     "data": {
      "text/plain": [
       "52"
      ]
     },
     "execution_count": 24,
     "metadata": {},
     "output_type": "execute_result"
    }
   ],
   "source": [
    "pos = list(set(spdf.upostag.values)|set(yap_dev.upostag.values)|set(yap_test.upostag.values))\n",
    "n_pos = len(pos); n_pos"
   ]
  },
  {
   "cell_type": "code",
   "execution_count": 25,
   "metadata": {
    "ExecuteTime": {
     "end_time": "2019-03-13T07:20:48.137589Z",
     "start_time": "2019-03-13T07:20:48.048826Z"
    }
   },
   "outputs": [],
   "source": [
    "pos2idx = {w: i+1 for i, w in enumerate(pos)}\n",
    "pos2idx[\"PAD\"] = 0"
   ]
  },
  {
   "cell_type": "code",
   "execution_count": 26,
   "metadata": {},
   "outputs": [],
   "source": [
    "from keras.preprocessing.sequence import pad_sequences\n",
    "X_pos_gold_train = [[pos2idx[w[1]] for w in s] for s in gold_train_sents]\n",
    "X_pos_gold_dev   = [[pos2idx[w[1]] for w in s] for s in gold_dev_sents]\n",
    "X_pos_gold_test  = [[pos2idx[w[1]] for w in s] for s in gold_test_sents]\n",
    "X_pos_yap_dev    = [[pos2idx[w[1]] for w in s] for s in yap_dev_sents]\n",
    "X_pos_yap_test   = [[pos2idx[w[1]] for w in s] for s in yap_test_sents]"
   ]
  },
  {
   "cell_type": "code",
   "execution_count": 27,
   "metadata": {},
   "outputs": [
    {
     "data": {
      "text/plain": [
       "array([32, 19, 11, 30, 44, 38,  0,  0,  0,  0,  0,  0,  0,  0,  0,  0,  0,\n",
       "        0,  0,  0,  0,  0,  0,  0,  0,  0,  0,  0,  0,  0,  0,  0,  0,  0,\n",
       "        0,  0,  0,  0,  0,  0,  0,  0,  0,  0,  0,  0,  0,  0,  0,  0,  0,\n",
       "        0,  0,  0,  0,  0,  0,  0,  0,  0,  0,  0,  0,  0,  0,  0,  0,  0,\n",
       "        0,  0,  0,  0,  0,  0,  0,  0,  0,  0,  0,  0], dtype=int32)"
      ]
     },
     "execution_count": 27,
     "metadata": {},
     "output_type": "execute_result"
    }
   ],
   "source": [
    "X_pos_gold_train = pad_sequences(maxlen=max_len, sequences=X_pos_gold_train, value=pos2idx[\"PAD\"], padding='post', truncating='post')\n",
    "X_pos_gold_dev   = pad_sequences(maxlen=max_len, sequences=X_pos_gold_dev  , value=pos2idx[\"PAD\"], padding='post', truncating='post')\n",
    "X_pos_gold_test  = pad_sequences(maxlen=max_len, sequences=X_pos_gold_test , value=pos2idx[\"PAD\"], padding='post', truncating='post')\n",
    "X_pos_yap_dev    = pad_sequences(maxlen=max_len, sequences=X_pos_yap_dev   , value=pos2idx[\"PAD\"], padding='post', truncating='post')\n",
    "X_pos_yap_test   = pad_sequences(maxlen=max_len, sequences=X_pos_yap_test  , value=pos2idx[\"PAD\"], padding='post', truncating='post')\n",
    "X_pos_gold_train[0]"
   ]
  },
  {
   "cell_type": "code",
   "execution_count": 28,
   "metadata": {},
   "outputs": [],
   "source": [
    "from keras.preprocessing.sequence import pad_sequences\n",
    "y_gold_train = [[tag2idx[w[2]] for w in s] for s in gold_train_sents]\n",
    "y_gold_dev   = [[tag2idx[w[2]] for w in s] for s in gold_dev_sents]\n",
    "y_gold_test  = [[tag2idx[w[2]] for w in s] for s in gold_test_sents]"
   ]
  },
  {
   "cell_type": "code",
   "execution_count": 29,
   "metadata": {},
   "outputs": [
    {
     "data": {
      "text/plain": [
       "array([14, 14, 14, 14, 14, 14,  0,  0,  0,  0,  0,  0,  0,  0,  0,  0,  0,\n",
       "        0,  0,  0,  0,  0,  0,  0,  0,  0,  0,  0,  0,  0,  0,  0,  0,  0,\n",
       "        0,  0,  0,  0,  0,  0,  0,  0,  0,  0,  0,  0,  0,  0,  0,  0,  0,\n",
       "        0,  0,  0,  0,  0,  0,  0,  0,  0,  0,  0,  0,  0,  0,  0,  0,  0,\n",
       "        0,  0,  0,  0,  0,  0,  0,  0,  0,  0,  0,  0], dtype=int32)"
      ]
     },
     "execution_count": 29,
     "metadata": {},
     "output_type": "execute_result"
    }
   ],
   "source": [
    "y_numer_gold_train = pad_sequences(maxlen=max_len, sequences=y_gold_train, value=pos2idx[\"PAD\"], padding='post', truncating='post')\n",
    "y_numer_gold_dev   = pad_sequences(maxlen=max_len, sequences=y_gold_dev  , value=pos2idx[\"PAD\"], padding='post', truncating='post')\n",
    "y_numer_gold_test  = pad_sequences(maxlen=max_len, sequences=y_gold_test , value=pos2idx[\"PAD\"], padding='post', truncating='post')\n",
    "y_numer_gold_train[0]"
   ]
  },
  {
   "cell_type": "code",
   "execution_count": 30,
   "metadata": {
    "ExecuteTime": {
     "end_time": "2019-03-13T07:20:48.330074Z",
     "start_time": "2019-03-13T07:20:48.226353Z"
    }
   },
   "outputs": [
    {
     "data": {
      "text/plain": [
       "(80, 38)"
      ]
     },
     "execution_count": 30,
     "metadata": {},
     "output_type": "execute_result"
    }
   ],
   "source": [
    "from keras.utils import to_categorical\n",
    "y_gold_train = [to_categorical(i, num_classes=n_tags+1) for i in y_numer_gold_train]\n",
    "y_gold_dev   = [to_categorical(i, num_classes=n_tags+1) for i in y_numer_gold_dev  ]\n",
    "y_gold_test  = [to_categorical(i, num_classes=n_tags+1) for i in y_numer_gold_test ]\n",
    "\n",
    "y_gold_train[0].shape"
   ]
  },
  {
   "cell_type": "code",
   "execution_count": 31,
   "metadata": {},
   "outputs": [
    {
     "data": {
      "text/plain": [
       "0.09196247930844216"
      ]
     },
     "execution_count": 31,
     "metadata": {},
     "output_type": "execute_result"
    }
   ],
   "source": [
    "validation_split = len(X_gold_dev) / (len(X_gold_train)+len(X_gold_dev))\n",
    "validation_split"
   ]
  },
  {
   "cell_type": "code",
   "execution_count": 32,
   "metadata": {},
   "outputs": [],
   "source": [
    "splits = [[X_gold_train, X_gold_dev,\n",
    "           y_gold_train, y_gold_dev,\n",
    "           X_pos_gold_train, X_pos_gold_dev ]]"
   ]
  },
  {
   "cell_type": "markdown",
   "metadata": {},
   "source": [
    "### Prep char input"
   ]
  },
  {
   "cell_type": "code",
   "execution_count": 33,
   "metadata": {
    "ExecuteTime": {
     "end_time": "2019-01-31T13:58:31.324599Z",
     "start_time": "2019-01-31T13:58:31.077207Z"
    }
   },
   "outputs": [
    {
     "data": {
      "text/plain": [
       "<matplotlib.axes._subplots.AxesSubplot at 0x7fc72786a080>"
      ]
     },
     "execution_count": 33,
     "metadata": {},
     "output_type": "execute_result"
    },
    {
     "data": {
      "image/png": "[encoded data removed]",
      "text/plain": [
       "<Figure size 432x288 with 1 Axes>"
      ]
     },
     "metadata": {},
     "output_type": "display_data"
    }
   ],
   "source": [
    "spdf.form.apply(len).hist(bins=18)"
   ]
  },
  {
   "cell_type": "code",
   "execution_count": 34,
   "metadata": {
    "ExecuteTime": {
     "end_time": "2019-01-31T13:58:31.340217Z",
     "start_time": "2019-01-31T13:58:31.324599Z"
    }
   },
   "outputs": [],
   "source": [
    "max_len_char = 12"
   ]
  },
  {
   "cell_type": "code",
   "execution_count": 35,
   "metadata": {
    "ExecuteTime": {
     "end_time": "2019-01-31T13:58:32.660554Z",
     "start_time": "2019-01-31T13:58:32.613692Z"
    }
   },
   "outputs": [
    {
     "name": "stdout",
     "output_type": "stream",
     "text": [
      "50\n"
     ]
    }
   ],
   "source": [
    "chars = set([w_i for w in words for w_i in w])\n",
    "n_chars = len(chars)\n",
    "print(n_chars)"
   ]
  },
  {
   "cell_type": "code",
   "execution_count": 36,
   "metadata": {
    "ExecuteTime": {
     "end_time": "2019-01-31T13:58:33.732950Z",
     "start_time": "2019-01-31T13:58:33.717366Z"
    }
   },
   "outputs": [],
   "source": [
    "char2idx = {c: i + 2 for i, c in enumerate(chars)}\n",
    "char2idx[\"UNK\"] = 1\n",
    "char2idx[\"PAD\"] = 0"
   ]
  },
  {
   "cell_type": "code",
   "execution_count": 37,
   "metadata": {
    "ExecuteTime": {
     "end_time": "2019-01-31T13:58:36.324286Z",
     "start_time": "2019-01-31T13:58:34.303392Z"
    }
   },
   "outputs": [],
   "source": [
    "\n",
    "def get_X_char(sents):\n",
    "    X_char = []\n",
    "    for sentence in sents:\n",
    "        sent_seq = []\n",
    "        for i in range(max_len):\n",
    "            word_seq = []\n",
    "            for j in range(max_len_char):\n",
    "                try:\n",
    "                    word_seq.append(char2idx.get(sentence[i][0][j]))\n",
    "                except:\n",
    "                    word_seq.append(char2idx.get(\"PAD\"))\n",
    "            sent_seq.append(word_seq)\n",
    "        X_char.append(np.array(sent_seq))\n",
    "    return X_char"
   ]
  },
  {
   "cell_type": "code",
   "execution_count": 38,
   "metadata": {},
   "outputs": [],
   "source": [
    "X_char_gold_dev   = get_X_char(gold_dev_sents  )\n",
    "X_char_gold_train = get_X_char(gold_train_sents)\n",
    "X_char_gold_test  = get_X_char(gold_test_sents )\n",
    "X_char_yap_dev    = get_X_char(yap_dev_sents   )\n",
    "X_char_yap_test   = get_X_char(yap_test_sents  )\n",
    "\n",
    "\n",
    "\n",
    "splits_char = [[X_char_gold_train, X_char_gold_dev,\n",
    "                y_gold_train, y_gold_dev]]"
   ]
  },
  {
   "cell_type": "markdown",
   "metadata": {},
   "source": [
    "## Embeddings"
   ]
  },
  {
   "cell_type": "code",
   "execution_count": 39,
   "metadata": {},
   "outputs": [
    {
     "data": {
      "text/plain": [
       "{'yap_w2v_sg': '../wordembedding-hebrew/wikipedia.yap_form.word2vec_skipgram.txt',\n",
       " 'yap_w2v_cbow': '../wordembedding-hebrew/wikipedia.yap_form.word2vec_cbow.txt',\n",
       " 'yap_glove': '../wordembedding-hebrew/glove/wikipedia.yap_form.glove.txt.txt',\n",
       " 'yap_ft_sg': '../wordembedding-hebrew/wikipedia.yap_form.fasttext_skipgram.model.vec',\n",
       " 'yap_ft_cbow': '../wordembedding-hebrew/wikipedia.yap_form.fasttext_cbow.model.vec',\n",
       " 'token_w2v_sg': '../wordembedding-hebrew/wikipedia.tokenized.word2vec_skipgram.txt',\n",
       " 'token_w2v_cbow': '../wordembedding-hebrew/wikipedia.tokenized.word2vec_cbow.txt',\n",
       " 'token_glove': '../wordembedding-hebrew/glove/wikipedia.tokenized.glove.txt',\n",
       " 'token_ft_sg': '../wordembedding-hebrew/wikipedia.tokenized.fasttext_skipgram.model.vec',\n",
       " 'token_ft_cbow': '../wordembedding-hebrew/wikipedia.tokenized.fasttext_cbow.model.vec',\n",
       " 'pretrained_token_ft': '../fasttext/wiki.he.vec'}"
      ]
     },
     "execution_count": 39,
     "metadata": {},
     "output_type": "execute_result"
    }
   ],
   "source": [
    "embedding_paths"
   ]
  },
  {
   "cell_type": "code",
   "execution_count": 40,
   "metadata": {},
   "outputs": [],
   "source": [
    "exclude = ['cbow', 'word2vec', 'tokenized', 'glove']"
   ]
  },
  {
   "cell_type": "code",
   "execution_count": 41,
   "metadata": {},
   "outputs": [
    {
     "name": "stdout",
     "output_type": "stream",
     "text": [
      "loading word embeddings: ../wordembedding-hebrew/wikipedia.yap_form.fasttext_skipgram.model.vec\n",
      "found 256508 word vectors\n",
      "preparing embedding matrix...\n",
      "number of null word embeddings: 1457\n",
      "sample words not found:  ['מנצסטר' 'התרשמנו' 'אנוטוניוס' '4054' 'טארפלי' 'יצנטה' 'מנהאטן' 'אחה\"ץ'\n",
      " 'יישותי' 'הצטנע']\n",
      "loading word embeddings: ../fasttext/wiki.he.vec\n",
      "found 488194 word vectors\n",
      "preparing embedding matrix...\n",
      "number of null word embeddings: 1704\n",
      "sample words not found:  ['685' 'פאמאליקאו' 'סקאיף' '2.2' 'מרנשטיין' '201' 'עקילוב' 'לויאן'\n",
      " 'ישקיפו' 'ימק\"א']\n"
     ]
    }
   ],
   "source": [
    "embedding_mats = {}\n",
    "for emb_name, emb_path in embedding_paths.items():\n",
    "    skip=False\n",
    "    for exc in exclude:\n",
    "        if exc in emb_path:\n",
    "            skip=True\n",
    "    if skip:\n",
    "        continue\n",
    "    embedding_mats[emb_name] = get_embedding_matrix(emb_path, word2idx)"
   ]
  },
  {
   "cell_type": "markdown",
   "metadata": {},
   "source": [
    "## Model building"
   ]
  },
  {
   "cell_type": "code",
   "execution_count": 42,
   "metadata": {},
   "outputs": [
    {
     "data": {
      "text/plain": [
       "[{'crf': True, 'use_pos': False},\n",
       " {'crf': True, 'use_pos': True},\n",
       " {'add_random_embedding': False,\n",
       "  'crf': True,\n",
       "  'use_pos': False,\n",
       "  'embedding_matrix': 'yap_ft_sg',\n",
       "  'trainable': True,\n",
       "  'embed_dim': 300},\n",
       " {'add_random_embedding': False,\n",
       "  'crf': True,\n",
       "  'use_pos': False,\n",
       "  'embedding_matrix': 'pretrained_token_ft',\n",
       "  'trainable': True,\n",
       "  'embed_dim': 300},\n",
       " {'add_random_embedding': False,\n",
       "  'crf': True,\n",
       "  'use_pos': True,\n",
       "  'embedding_matrix': 'yap_ft_sg',\n",
       "  'trainable': True,\n",
       "  'embed_dim': 300},\n",
       " {'add_random_embedding': False,\n",
       "  'crf': True,\n",
       "  'use_pos': True,\n",
       "  'embedding_matrix': 'pretrained_token_ft',\n",
       "  'trainable': True,\n",
       "  'embed_dim': 300},\n",
       " {'use_char': True, 'crf': True, 'use_pos': False},\n",
       " {'use_char': True, 'crf': True, 'use_pos': True},\n",
       " {'add_random_embedding': False,\n",
       "  'use_char': True,\n",
       "  'crf': True,\n",
       "  'use_pos': False,\n",
       "  'embedding_matrix': 'yap_ft_sg',\n",
       "  'trainable': True,\n",
       "  'embed_dim': 300},\n",
       " {'add_random_embedding': False,\n",
       "  'use_char': True,\n",
       "  'crf': True,\n",
       "  'use_pos': False,\n",
       "  'embedding_matrix': 'pretrained_token_ft',\n",
       "  'trainable': True,\n",
       "  'embed_dim': 300},\n",
       " {'add_random_embedding': False,\n",
       "  'use_char': True,\n",
       "  'crf': True,\n",
       "  'use_pos': True,\n",
       "  'embedding_matrix': 'yap_ft_sg',\n",
       "  'trainable': True,\n",
       "  'embed_dim': 300},\n",
       " {'add_random_embedding': False,\n",
       "  'use_char': True,\n",
       "  'crf': True,\n",
       "  'use_pos': True,\n",
       "  'embedding_matrix': 'pretrained_token_ft',\n",
       "  'trainable': True,\n",
       "  'embed_dim': 300}]"
      ]
     },
     "execution_count": 42,
     "metadata": {},
     "output_type": "execute_result"
    }
   ],
   "source": [
    "configs = build_configs(base_configs, embedding_mats)\n",
    "configs     "
   ]
  },
  {
   "cell_type": "code",
   "execution_count": 43,
   "metadata": {},
   "outputs": [],
   "source": [
    "for conf in configs:\n",
    "    conf['patience'] = 10"
   ]
  },
  {
   "cell_type": "code",
   "execution_count": 44,
   "metadata": {},
   "outputs": [],
   "source": [
    "out_folder = 'results/new_outputs'\n",
    "if not os.path.exists(out_folder):\n",
    "    os.mkdir(out_folder)"
   ]
  },
  {
   "cell_type": "code",
   "execution_count": 45,
   "metadata": {},
   "outputs": [],
   "source": [
    "extra_preds = [(X_gold_test, X_pos_gold_test, X_char_gold_test), \n",
    "               (X_yap_dev, X_pos_yap_dev, X_char_yap_dev),\n",
    "               (X_yap_test, X_pos_yap_test, X_char_yap_test)]"
   ]
  },
  {
   "cell_type": "code",
   "execution_count": 46,
   "metadata": {},
   "outputs": [],
   "source": [
    "from ner_utils import *"
   ]
  },
  {
   "cell_type": "code",
   "execution_count": 47,
   "metadata": {
    "ExecuteTime": {
     "end_time": "2019-03-13T11:31:02.793857Z",
     "start_time": "2019-03-13T11:16:17.267695Z"
    },
    "scrolled": true
   },
   "outputs": [
    {
     "name": "stdout",
     "output_type": "stream",
     "text": [
      "Train on 4482 samples, validate on 455 samples\n",
      "Epoch 1/100\n",
      " - 57s - loss: 0.3738 - crf_accuracy: 0.9262 - val_loss: 0.1986 - val_crf_accuracy: 0.9621\n",
      "Epoch 2/100\n",
      " - 49s - loss: 0.1267 - crf_accuracy: 0.9721 - val_loss: 0.1442 - val_crf_accuracy: 0.9665\n",
      "Epoch 3/100\n",
      " - 47s - loss: 0.0909 - crf_accuracy: 0.9762 - val_loss: 0.1269 - val_crf_accuracy: 0.9669\n",
      "Epoch 4/100\n",
      " - 51s - loss: 0.0643 - crf_accuracy: 0.9814 - val_loss: 0.1103 - val_crf_accuracy: 0.9709\n",
      "Epoch 5/100\n",
      " - 48s - loss: 0.0453 - crf_accuracy: 0.9852 - val_loss: 0.0853 - val_crf_accuracy: 0.9727\n",
      "Epoch 6/100\n",
      " - 47s - loss: 0.0330 - crf_accuracy: 0.9877 - val_loss: 0.1063 - val_crf_accuracy: 0.9716\n",
      "Epoch 7/100\n",
      " - 54s - loss: 0.0234 - crf_accuracy: 0.9894 - val_loss: 0.0967 - val_crf_accuracy: 0.9732\n",
      "Epoch 8/100\n",
      " - 50s - loss: 0.0149 - crf_accuracy: 0.9913 - val_loss: 0.0738 - val_crf_accuracy: 0.9748\n",
      "Epoch 9/100\n",
      " - 49s - loss: 0.0084 - crf_accuracy: 0.9924 - val_loss: 0.0702 - val_crf_accuracy: 0.9744\n",
      "Epoch 10/100\n",
      " - 53s - loss: 0.0026 - crf_accuracy: 0.9934 - val_loss: 0.0748 - val_crf_accuracy: 0.9705\n",
      "Epoch 11/100\n",
      " - 48s - loss: -2.5402e-03 - crf_accuracy: 0.9947 - val_loss: 0.0704 - val_crf_accuracy: 0.9748\n",
      "Epoch 12/100\n",
      " - 51s - loss: -6.8771e-03 - crf_accuracy: 0.9955 - val_loss: 0.0671 - val_crf_accuracy: 0.9723\n",
      "Epoch 13/100\n",
      " - 50s - loss: -1.0711e-02 - crf_accuracy: 0.9962 - val_loss: 0.0682 - val_crf_accuracy: 0.9716\n",
      "Epoch 14/100\n",
      " - 55s - loss: -1.4236e-02 - crf_accuracy: 0.9969 - val_loss: 0.0708 - val_crf_accuracy: 0.9746\n",
      "Epoch 15/100\n",
      " - 53s - loss: -1.7145e-02 - crf_accuracy: 0.9974 - val_loss: 0.0746 - val_crf_accuracy: 0.9672\n",
      "Epoch 16/100\n",
      " - 48s - loss: -1.7650e-02 - crf_accuracy: 0.9971 - val_loss: 0.0747 - val_crf_accuracy: 0.9668\n",
      "Epoch 17/100\n",
      " - 50s - loss: -2.2709e-02 - crf_accuracy: 0.9983 - val_loss: 0.0792 - val_crf_accuracy: 0.9739\n",
      "Epoch 18/100\n",
      " - 48s - loss: -2.5284e-02 - crf_accuracy: 0.9985 - val_loss: 0.0734 - val_crf_accuracy: 0.9708\n",
      "Restoring model weights from the end of the best epoch\n",
      "Epoch 00018: early stopping\n"
     ]
    },
    {
     "data": {
      "image/png": "[encoded data removed]",
      "text/plain": [
       "<Figure size 432x288 with 1 Axes>"
      ]
     },
     "metadata": {},
     "output_type": "display_data"
    },
    {
     "name": "stdout",
     "output_type": "stream",
     "text": [
      "processed 11278 tokens with 498 phrases; found: 326 phrases; correct: 184.\n",
      "accuracy:  35.09%; (non-O)\n",
      "accuracy:  93.30%; precision:  56.44%; recall:  36.95%; FB1:  44.66\n",
      "              ANG: precision:   0.00%; recall:   0.00%; FB1:   0.00  0\n",
      "              DUC: precision:   0.00%; recall:   0.00%; FB1:   0.00  0\n",
      "              EVE: precision:   0.00%; recall:   0.00%; FB1:   0.00  0\n",
      "              FAC: precision:   0.00%; recall:   0.00%; FB1:   0.00  2\n",
      "              GPE: precision:  77.53%; recall:  57.50%; FB1:  66.03  89\n",
      "              LOC: precision:  21.05%; recall:  14.29%; FB1:  17.02  19\n",
      "              ORG: precision:  45.83%; recall:  27.73%; FB1:  34.55  72\n",
      "              PER: precision:  54.17%; recall:  40.41%; FB1:  46.29  144\n",
      "              WOA: precision:   0.00%; recall:   0.00%; FB1:   0.00  0\n",
      "Train on 4482 samples, validate on 455 samples\n",
      "Epoch 1/100\n",
      " - 48s - loss: 0.3409 - crf_accuracy: 0.9332 - val_loss: 0.1836 - val_crf_accuracy: 0.9617\n",
      "Epoch 2/100\n",
      " - 48s - loss: 0.1052 - crf_accuracy: 0.9740 - val_loss: 0.1117 - val_crf_accuracy: 0.9713\n",
      "Epoch 3/100\n",
      " - 50s - loss: 0.0661 - crf_accuracy: 0.9818 - val_loss: 0.0785 - val_crf_accuracy: 0.9772\n",
      "Epoch 4/100\n",
      " - 48s - loss: 0.0445 - crf_accuracy: 0.9852 - val_loss: 0.0665 - val_crf_accuracy: 0.9779\n",
      "Epoch 5/100\n",
      " - 49s - loss: 0.0315 - crf_accuracy: 0.9876 - val_loss: 0.0612 - val_crf_accuracy: 0.9784\n",
      "Epoch 6/100\n",
      " - 51s - loss: 0.0218 - crf_accuracy: 0.9891 - val_loss: 0.0532 - val_crf_accuracy: 0.9779\n",
      "Epoch 7/100\n",
      " - 45s - loss: 0.0138 - crf_accuracy: 0.9909 - val_loss: 0.0512 - val_crf_accuracy: 0.9791\n",
      "Epoch 8/100\n",
      " - 49s - loss: 0.0071 - crf_accuracy: 0.9923 - val_loss: 0.0438 - val_crf_accuracy: 0.9807\n",
      "Epoch 9/100\n",
      " - 48s - loss: 0.0013 - crf_accuracy: 0.9935 - val_loss: 0.0486 - val_crf_accuracy: 0.9798\n",
      "Epoch 10/100\n",
      " - 53s - loss: -3.8425e-03 - crf_accuracy: 0.9945 - val_loss: 0.0437 - val_crf_accuracy: 0.9781\n",
      "Epoch 11/100\n",
      " - 46s - loss: -8.0173e-03 - crf_accuracy: 0.9955 - val_loss: 0.0632 - val_crf_accuracy: 0.9777\n",
      "Epoch 12/100\n",
      " - 48s - loss: -1.1763e-02 - crf_accuracy: 0.9961 - val_loss: 0.0400 - val_crf_accuracy: 0.9774\n",
      "Epoch 13/100\n",
      " - 49s - loss: -1.5223e-02 - crf_accuracy: 0.9967 - val_loss: 0.0492 - val_crf_accuracy: 0.9789\n",
      "Epoch 14/100\n",
      " - 49s - loss: -1.8455e-02 - crf_accuracy: 0.9974 - val_loss: 0.0404 - val_crf_accuracy: 0.9758\n",
      "Epoch 15/100\n",
      " - 50s - loss: -2.1527e-02 - crf_accuracy: 0.9978 - val_loss: 0.0435 - val_crf_accuracy: 0.9782\n",
      "Epoch 16/100\n",
      " - 49s - loss: -2.4155e-02 - crf_accuracy: 0.9981 - val_loss: 0.0363 - val_crf_accuracy: 0.9775\n",
      "Epoch 17/100\n",
      " - 50s - loss: -2.6770e-02 - crf_accuracy: 0.9985 - val_loss: 0.0520 - val_crf_accuracy: 0.9728\n",
      "Epoch 18/100\n",
      " - 53s - loss: -2.9220e-02 - crf_accuracy: 0.9989 - val_loss: 0.0454 - val_crf_accuracy: 0.9789\n",
      "Restoring model weights from the end of the best epoch\n",
      "Epoch 00018: early stopping\n"
     ]
    },
    {
     "data": {
      "image/png": "[encoded data removed]",
      "text/plain": [
       "<Figure size 432x288 with 1 Axes>"
      ]
     },
     "metadata": {},
     "output_type": "display_data"
    },
    {
     "name": "stdout",
     "output_type": "stream",
     "text": [
      "processed 11278 tokens with 498 phrases; found: 463 phrases; correct: 297.\n",
      "accuracy:  54.27%; (non-O)\n",
      "accuracy:  95.25%; precision:  64.15%; recall:  59.64%; FB1:  61.81\n",
      "              ANG: precision:   0.00%; recall:   0.00%; FB1:   0.00  0\n",
      "              DUC: precision:   0.00%; recall:   0.00%; FB1:   0.00  0\n",
      "              EVE: precision:   0.00%; recall:   0.00%; FB1:   0.00  0\n",
      "              FAC: precision:   0.00%; recall:   0.00%; FB1:   0.00  1\n",
      "              GPE: precision:  75.00%; recall:  65.00%; FB1:  69.64  104\n",
      "              LOC: precision:  42.31%; recall:  39.29%; FB1:  40.74  26\n",
      "              ORG: precision:  38.33%; recall:  38.66%; FB1:  38.49  120\n",
      "              PER: precision:  76.42%; recall:  83.94%; FB1:  80.00  212\n",
      "              WOA: precision:   0.00%; recall:   0.00%; FB1:   0.00  0\n",
      "Train on 4482 samples, validate on 455 samples\n",
      "Epoch 1/100\n",
      " - 53s - loss: 0.2650 - crf_accuracy: 0.9481 - val_loss: 0.1259 - val_crf_accuracy: 0.9691\n",
      "Epoch 2/100\n",
      " - 52s - loss: 0.0767 - crf_accuracy: 0.9804 - val_loss: 0.0820 - val_crf_accuracy: 0.9760\n",
      "Epoch 3/100\n",
      " - 53s - loss: 0.0462 - crf_accuracy: 0.9865 - val_loss: 0.0627 - val_crf_accuracy: 0.9791\n",
      "Epoch 4/100\n",
      " - 50s - loss: 0.0294 - crf_accuracy: 0.9898 - val_loss: 0.0516 - val_crf_accuracy: 0.9818\n",
      "Epoch 5/100\n",
      " - 51s - loss: 0.0181 - crf_accuracy: 0.9920 - val_loss: 0.0500 - val_crf_accuracy: 0.9814\n",
      "Epoch 6/100\n",
      " - 52s - loss: 0.0096 - crf_accuracy: 0.9940 - val_loss: 0.0391 - val_crf_accuracy: 0.9841\n",
      "Epoch 7/100\n",
      " - 50s - loss: 0.0029 - crf_accuracy: 0.9956 - val_loss: 0.0347 - val_crf_accuracy: 0.9839\n",
      "Epoch 8/100\n",
      " - 53s - loss: -2.2818e-03 - crf_accuracy: 0.9968 - val_loss: 0.0382 - val_crf_accuracy: 0.9828\n",
      "Epoch 9/100\n",
      " - 54s - loss: -6.9804e-03 - crf_accuracy: 0.9978 - val_loss: 0.0510 - val_crf_accuracy: 0.9817\n",
      "Epoch 10/100\n",
      " - 55s - loss: -1.0815e-02 - crf_accuracy: 0.9985 - val_loss: 0.0356 - val_crf_accuracy: 0.9824\n",
      "Epoch 11/100\n",
      " - 51s - loss: -1.4076e-02 - crf_accuracy: 0.9991 - val_loss: 0.0355 - val_crf_accuracy: 0.9840\n",
      "Epoch 12/100\n",
      " - 54s - loss: -1.6751e-02 - crf_accuracy: 0.9994 - val_loss: 0.0374 - val_crf_accuracy: 0.9835\n",
      "Epoch 13/100\n",
      " - 54s - loss: -1.9221e-02 - crf_accuracy: 0.9997 - val_loss: 0.0558 - val_crf_accuracy: 0.9791\n",
      "Epoch 14/100\n",
      " - 52s - loss: -2.1368e-02 - crf_accuracy: 0.9998 - val_loss: 0.0461 - val_crf_accuracy: 0.9832\n",
      "Epoch 15/100\n",
      " - 49s - loss: -2.3318e-02 - crf_accuracy: 0.9998 - val_loss: 0.0470 - val_crf_accuracy: 0.9832\n",
      "Epoch 16/100\n",
      " - 54s - loss: -2.5276e-02 - crf_accuracy: 0.9999 - val_loss: 0.0502 - val_crf_accuracy: 0.9828\n",
      "Restoring model weights from the end of the best epoch\n",
      "Epoch 00016: early stopping\n"
     ]
    },
    {
     "data": {
      "image/png": "[encoded data removed]",
      "text/plain": [
       "<Figure size 432x288 with 1 Axes>"
      ]
     },
     "metadata": {},
     "output_type": "display_data"
    },
    {
     "name": "stdout",
     "output_type": "stream",
     "text": [
      "processed 11278 tokens with 498 phrases; found: 435 phrases; correct: 330.\n",
      "accuracy:  61.23%; (non-O)\n",
      "accuracy:  96.02%; precision:  75.86%; recall:  66.27%; FB1:  70.74\n",
      "              ANG: precision:   0.00%; recall:   0.00%; FB1:   0.00  0\n",
      "              DUC: precision:   0.00%; recall:   0.00%; FB1:   0.00  0\n",
      "              EVE: precision: 100.00%; recall:   8.33%; FB1:  15.38  1\n",
      "              FAC: precision:   0.00%; recall:   0.00%; FB1:   0.00  1\n",
      "              GPE: precision:  88.89%; recall:  80.00%; FB1:  84.21  108\n",
      "              LOC: precision:  77.27%; recall:  60.71%; FB1:  68.00  22\n",
      "              ORG: precision:  56.14%; recall:  53.78%; FB1:  54.94  114\n",
      "              PER: precision:  80.85%; recall:  78.76%; FB1:  79.79  188\n",
      "              WOA: precision:   0.00%; recall:   0.00%; FB1:   0.00  1\n",
      "Train on 4482 samples, validate on 455 samples\n",
      "Epoch 1/100\n",
      " - 55s - loss: 0.2612 - crf_accuracy: 0.9412 - val_loss: 0.1114 - val_crf_accuracy: 0.9710\n",
      "Epoch 2/100\n",
      " - 49s - loss: 0.0684 - crf_accuracy: 0.9817 - val_loss: 0.0778 - val_crf_accuracy: 0.9758\n",
      "Epoch 3/100\n",
      " - 52s - loss: 0.0411 - crf_accuracy: 0.9869 - val_loss: 0.0671 - val_crf_accuracy: 0.9769\n",
      "Epoch 4/100\n",
      " - 50s - loss: 0.0253 - crf_accuracy: 0.9901 - val_loss: 0.0456 - val_crf_accuracy: 0.9830\n",
      "Epoch 5/100\n",
      " - 53s - loss: 0.0146 - crf_accuracy: 0.9925 - val_loss: 0.0424 - val_crf_accuracy: 0.9821\n",
      "Epoch 6/100\n",
      " - 49s - loss: 0.0062 - crf_accuracy: 0.9946 - val_loss: 0.0594 - val_crf_accuracy: 0.9795\n",
      "Epoch 7/100\n",
      " - 51s - loss: -1.9654e-05 - crf_accuracy: 0.9960 - val_loss: 0.0391 - val_crf_accuracy: 0.9837\n",
      "Epoch 8/100\n",
      " - 52s - loss: -5.3662e-03 - crf_accuracy: 0.9972 - val_loss: 0.0526 - val_crf_accuracy: 0.9808\n",
      "Epoch 9/100\n",
      " - 49s - loss: -9.5667e-03 - crf_accuracy: 0.9981 - val_loss: 0.0407 - val_crf_accuracy: 0.9832\n",
      "Epoch 10/100\n",
      " - 53s - loss: -1.3289e-02 - crf_accuracy: 0.9988 - val_loss: 0.0416 - val_crf_accuracy: 0.9833\n",
      "Epoch 11/100\n",
      " - 53s - loss: -1.6344e-02 - crf_accuracy: 0.9991 - val_loss: 0.0417 - val_crf_accuracy: 0.9827\n",
      "Epoch 12/100\n",
      " - 51s - loss: -1.9085e-02 - crf_accuracy: 0.9996 - val_loss: 0.0483 - val_crf_accuracy: 0.9817\n",
      "Epoch 13/100\n",
      " - 53s - loss: -2.1341e-02 - crf_accuracy: 0.9997 - val_loss: 0.0487 - val_crf_accuracy: 0.9827\n",
      "Epoch 14/100\n",
      " - 51s - loss: -2.3407e-02 - crf_accuracy: 0.9997 - val_loss: 0.0504 - val_crf_accuracy: 0.9821\n",
      "Epoch 15/100\n",
      " - 54s - loss: -2.5378e-02 - crf_accuracy: 0.9998 - val_loss: 0.0525 - val_crf_accuracy: 0.9824\n",
      "Epoch 16/100\n",
      " - 52s - loss: -2.7377e-02 - crf_accuracy: 0.9999 - val_loss: 0.0497 - val_crf_accuracy: 0.9826\n",
      "Epoch 17/100\n",
      " - 50s - loss: -2.9108e-02 - crf_accuracy: 0.9999 - val_loss: 0.0550 - val_crf_accuracy: 0.9818\n",
      "Restoring model weights from the end of the best epoch\n",
      "Epoch 00017: early stopping\n"
     ]
    },
    {
     "data": {
      "image/png": "[encoded data removed]",
      "text/plain": [
       "<Figure size 432x288 with 1 Axes>"
      ]
     },
     "metadata": {},
     "output_type": "display_data"
    },
    {
     "name": "stdout",
     "output_type": "stream",
     "text": [
      "processed 11278 tokens with 498 phrases; found: 422 phrases; correct: 324.\n",
      "accuracy:  62.43%; (non-O)\n",
      "accuracy:  96.09%; precision:  76.78%; recall:  65.06%; FB1:  70.43\n",
      "              ANG: precision: 100.00%; recall:  33.33%; FB1:  50.00  1\n",
      "              DUC: precision:   0.00%; recall:   0.00%; FB1:   0.00  0\n",
      "              EVE: precision:   0.00%; recall:   0.00%; FB1:   0.00  1\n",
      "              FAC: precision:   0.00%; recall:   0.00%; FB1:   0.00  1\n",
      "              GPE: precision:  88.46%; recall:  76.67%; FB1:  82.14  104\n",
      "              LOC: precision:  65.22%; recall:  53.57%; FB1:  58.82  23\n",
      "              ORG: precision:  55.93%; recall:  55.46%; FB1:  55.70  118\n",
      "              PER: precision:  86.71%; recall:  77.72%; FB1:  81.97  173\n",
      "              WOA: precision:   0.00%; recall:   0.00%; FB1:   0.00  1\n",
      "Train on 4482 samples, validate on 455 samples\n",
      "Epoch 1/100\n",
      " - 57s - loss: 0.2599 - crf_accuracy: 0.9515 - val_loss: 0.2419 - val_crf_accuracy: 0.9294\n",
      "Epoch 2/100\n",
      " - 49s - loss: 0.0724 - crf_accuracy: 0.9819 - val_loss: 0.2179 - val_crf_accuracy: 0.9154\n",
      "Epoch 3/100\n",
      " - 48s - loss: 0.0436 - crf_accuracy: 0.9873 - val_loss: 0.0654 - val_crf_accuracy: 0.9793\n",
      "Epoch 4/100\n",
      " - 51s - loss: 0.0272 - crf_accuracy: 0.9907 - val_loss: 0.0542 - val_crf_accuracy: 0.9802\n",
      "Epoch 5/100\n",
      " - 50s - loss: 0.0168 - crf_accuracy: 0.9930 - val_loss: 0.0519 - val_crf_accuracy: 0.9804\n",
      "Epoch 6/100\n",
      " - 54s - loss: 0.0093 - crf_accuracy: 0.9946 - val_loss: 0.0358 - val_crf_accuracy: 0.9850\n",
      "Epoch 7/100\n",
      " - 54s - loss: 0.0031 - crf_accuracy: 0.9962 - val_loss: 0.0643 - val_crf_accuracy: 0.9811\n",
      "Epoch 8/100\n",
      " - 55s - loss: -2.1056e-03 - crf_accuracy: 0.9974 - val_loss: 0.0337 - val_crf_accuracy: 0.9862\n",
      "Epoch 9/100\n",
      " - 54s - loss: -6.1877e-03 - crf_accuracy: 0.9982 - val_loss: 0.0345 - val_crf_accuracy: 0.9845\n",
      "Epoch 10/100\n",
      " - 50s - loss: -9.6930e-03 - crf_accuracy: 0.9988 - val_loss: 0.0332 - val_crf_accuracy: 0.9847\n",
      "Epoch 11/100\n",
      " - 51s - loss: -1.2753e-02 - crf_accuracy: 0.9992 - val_loss: 0.0351 - val_crf_accuracy: 0.9857\n",
      "Epoch 12/100\n",
      " - 49s - loss: -1.5424e-02 - crf_accuracy: 0.9995 - val_loss: 0.0402 - val_crf_accuracy: 0.9848\n",
      "Epoch 13/100\n",
      " - 47s - loss: -1.7706e-02 - crf_accuracy: 0.9997 - val_loss: 0.0414 - val_crf_accuracy: 0.9855\n",
      "Epoch 14/100\n",
      " - 51s - loss: -1.9767e-02 - crf_accuracy: 0.9998 - val_loss: 0.0392 - val_crf_accuracy: 0.9849\n",
      "Epoch 15/100\n",
      " - 50s - loss: -2.1793e-02 - crf_accuracy: 0.9999 - val_loss: 0.0502 - val_crf_accuracy: 0.9843\n",
      "Epoch 16/100\n",
      " - 50s - loss: -2.3621e-02 - crf_accuracy: 0.9998 - val_loss: 0.0471 - val_crf_accuracy: 0.9846\n",
      "Epoch 17/100\n",
      " - 53s - loss: -2.5551e-02 - crf_accuracy: 0.9999 - val_loss: 0.0469 - val_crf_accuracy: 0.9852\n",
      "Epoch 18/100\n",
      " - 50s - loss: -2.7355e-02 - crf_accuracy: 0.9999 - val_loss: 0.0505 - val_crf_accuracy: 0.9852\n",
      "Restoring model weights from the end of the best epoch\n",
      "Epoch 00018: early stopping\n"
     ]
    },
    {
     "data": {
      "image/png": "[encoded data removed]",
      "text/plain": [
       "<Figure size 432x288 with 1 Axes>"
      ]
     },
     "metadata": {},
     "output_type": "display_data"
    },
    {
     "name": "stdout",
     "output_type": "stream",
     "text": [
      "processed 11278 tokens with 498 phrases; found: 444 phrases; correct: 362.\n",
      "accuracy:  66.10%; (non-O)\n",
      "accuracy:  96.65%; precision:  81.53%; recall:  72.69%; FB1:  76.86\n",
      "              ANG: precision: 100.00%; recall:  66.67%; FB1:  80.00  2\n",
      "              DUC: precision:   0.00%; recall:   0.00%; FB1:   0.00  0\n",
      "              EVE: precision:  50.00%; recall:   8.33%; FB1:  14.29  2\n",
      "              FAC: precision:   0.00%; recall:   0.00%; FB1:   0.00  7\n",
      "              GPE: precision:  92.52%; recall:  82.50%; FB1:  87.22  107\n",
      "              LOC: precision:  45.16%; recall:  50.00%; FB1:  47.46  31\n",
      "              ORG: precision:  70.87%; recall:  61.34%; FB1:  65.77  103\n",
      "              PER: precision:  91.44%; recall:  88.60%; FB1:  90.00  187\n",
      "              WOA: precision:  40.00%; recall:  22.22%; FB1:  28.57  5\n",
      "Train on 4482 samples, validate on 455 samples\n",
      "Epoch 1/100\n",
      " - 56s - loss: 0.2694 - crf_accuracy: 0.9481 - val_loss: 0.1133 - val_crf_accuracy: 0.9696\n",
      "Epoch 2/100\n",
      " - 52s - loss: 0.0654 - crf_accuracy: 0.9827 - val_loss: 0.0671 - val_crf_accuracy: 0.9794\n",
      "Epoch 3/100\n",
      " - 49s - loss: 0.0369 - crf_accuracy: 0.9882 - val_loss: 0.0472 - val_crf_accuracy: 0.9823\n",
      "Epoch 4/100\n",
      " - 48s - loss: 0.0226 - crf_accuracy: 0.9910 - val_loss: 0.0398 - val_crf_accuracy: 0.9835\n",
      "Epoch 5/100\n",
      " - 50s - loss: 0.0124 - crf_accuracy: 0.9929 - val_loss: 0.0361 - val_crf_accuracy: 0.9845\n",
      "Epoch 6/100\n",
      " - 54s - loss: 0.0047 - crf_accuracy: 0.9949 - val_loss: 0.0403 - val_crf_accuracy: 0.9831\n",
      "Epoch 7/100\n",
      " - 49s - loss: -1.3136e-03 - crf_accuracy: 0.9964 - val_loss: 0.0352 - val_crf_accuracy: 0.9822\n",
      "Epoch 8/100\n",
      " - 54s - loss: -6.2287e-03 - crf_accuracy: 0.9974 - val_loss: 0.0287 - val_crf_accuracy: 0.9847\n",
      "Epoch 9/100\n",
      " - 56s - loss: -1.0301e-02 - crf_accuracy: 0.9982 - val_loss: 0.0277 - val_crf_accuracy: 0.9849\n",
      "Epoch 10/100\n",
      " - 53s - loss: -1.3806e-02 - crf_accuracy: 0.9988 - val_loss: 0.0275 - val_crf_accuracy: 0.9856\n",
      "Epoch 11/100\n",
      " - 50s - loss: -1.6759e-02 - crf_accuracy: 0.9992 - val_loss: 0.0319 - val_crf_accuracy: 0.9841\n",
      "Epoch 12/100\n",
      " - 45s - loss: -1.9262e-02 - crf_accuracy: 0.9995 - val_loss: 0.0287 - val_crf_accuracy: 0.9842\n",
      "Epoch 13/100\n",
      " - 46s - loss: -2.1544e-02 - crf_accuracy: 0.9997 - val_loss: 0.0314 - val_crf_accuracy: 0.9848\n",
      "Epoch 14/100\n",
      " - 49s - loss: -2.3746e-02 - crf_accuracy: 0.9999 - val_loss: 0.0343 - val_crf_accuracy: 0.9845\n",
      "Epoch 15/100\n",
      " - 54s - loss: -2.5741e-02 - crf_accuracy: 0.9999 - val_loss: 0.0390 - val_crf_accuracy: 0.9839\n",
      "Epoch 16/100\n",
      " - 55s - loss: -2.7590e-02 - crf_accuracy: 0.9999 - val_loss: 0.0601 - val_crf_accuracy: 0.9830\n",
      "Epoch 17/100\n",
      " - 51s - loss: -2.9418e-02 - crf_accuracy: 0.9999 - val_loss: 0.0428 - val_crf_accuracy: 0.9847\n",
      "Epoch 18/100\n",
      " - 48s - loss: -3.1130e-02 - crf_accuracy: 0.9999 - val_loss: 0.0414 - val_crf_accuracy: 0.9837\n",
      "Epoch 19/100\n",
      " - 54s - loss: -3.3070e-02 - crf_accuracy: 1.0000 - val_loss: 0.0506 - val_crf_accuracy: 0.9845\n",
      "Epoch 20/100\n",
      " - 49s - loss: -3.4800e-02 - crf_accuracy: 1.0000 - val_loss: 0.0482 - val_crf_accuracy: 0.9849\n",
      "Restoring model weights from the end of the best epoch\n",
      "Epoch 00020: early stopping\n"
     ]
    },
    {
     "data": {
      "image/png": "[encoded data removed]",
      "text/plain": [
       "<Figure size 432x288 with 1 Axes>"
      ]
     },
     "metadata": {},
     "output_type": "display_data"
    },
    {
     "name": "stdout",
     "output_type": "stream",
     "text": [
      "processed 11278 tokens with 498 phrases; found: 479 phrases; correct: 369.\n",
      "accuracy:  67.20%; (non-O)\n",
      "accuracy:  96.42%; precision:  77.04%; recall:  74.10%; FB1:  75.54\n",
      "              ANG: precision: 100.00%; recall: 100.00%; FB1: 100.00  3\n",
      "              DUC: precision:   0.00%; recall:   0.00%; FB1:   0.00  0\n",
      "              EVE: precision:  33.33%; recall:   8.33%; FB1:  13.33  3\n",
      "              FAC: precision:   0.00%; recall:   0.00%; FB1:   0.00  1\n",
      "              GPE: precision:  88.89%; recall:  80.00%; FB1:  84.21  108\n",
      "              LOC: precision:  61.54%; recall:  57.14%; FB1:  59.26  26\n",
      "              ORG: precision:  57.60%; recall:  60.50%; FB1:  59.02  125\n",
      "              PER: precision:  85.78%; recall:  93.78%; FB1:  89.60  211\n",
      "              WOA: precision:   0.00%; recall:   0.00%; FB1:   0.00  2\n",
      "Train on 4482 samples, validate on 455 samples\n",
      "Epoch 1/100\n",
      " - 61s - loss: 0.3433 - crf_accuracy: 0.9313 - val_loss: 0.2254 - val_crf_accuracy: 0.9621\n",
      "Epoch 2/100\n",
      " - 61s - loss: 0.1383 - crf_accuracy: 0.9712 - val_loss: 0.1897 - val_crf_accuracy: 0.9628\n",
      "Epoch 3/100\n",
      " - 59s - loss: 0.0917 - crf_accuracy: 0.9758 - val_loss: 0.1176 - val_crf_accuracy: 0.9669\n",
      "Epoch 4/100\n",
      " - 52s - loss: 0.0649 - crf_accuracy: 0.9807 - val_loss: 0.0988 - val_crf_accuracy: 0.9711\n",
      "Epoch 5/100\n",
      " - 56s - loss: 0.0481 - crf_accuracy: 0.9840 - val_loss: 0.0824 - val_crf_accuracy: 0.9732\n",
      "Epoch 6/100\n",
      " - 57s - loss: 0.0353 - crf_accuracy: 0.9865 - val_loss: 0.0717 - val_crf_accuracy: 0.9748\n",
      "Epoch 7/100\n",
      " - 58s - loss: 0.0254 - crf_accuracy: 0.9884 - val_loss: 0.0673 - val_crf_accuracy: 0.9757\n",
      "Epoch 8/100\n",
      " - 54s - loss: 0.0174 - crf_accuracy: 0.9898 - val_loss: 0.0638 - val_crf_accuracy: 0.9759\n",
      "Epoch 9/100\n",
      " - 59s - loss: 0.0108 - crf_accuracy: 0.9908 - val_loss: 0.0620 - val_crf_accuracy: 0.9710\n",
      "Epoch 10/100\n",
      " - 60s - loss: 0.0053 - crf_accuracy: 0.9918 - val_loss: 0.0537 - val_crf_accuracy: 0.9770\n",
      "Epoch 11/100\n",
      " - 55s - loss: 1.9044e-04 - crf_accuracy: 0.9928 - val_loss: 0.0544 - val_crf_accuracy: 0.9765\n",
      "Epoch 12/100\n",
      " - 54s - loss: -3.9110e-03 - crf_accuracy: 0.9936 - val_loss: 0.0500 - val_crf_accuracy: 0.9759\n",
      "Epoch 13/100\n",
      " - 55s - loss: -7.9408e-03 - crf_accuracy: 0.9942 - val_loss: 0.0438 - val_crf_accuracy: 0.9760\n",
      "Epoch 14/100\n",
      " - 52s - loss: -1.1228e-02 - crf_accuracy: 0.9947 - val_loss: 0.0463 - val_crf_accuracy: 0.9758\n",
      "Epoch 15/100\n",
      " - 55s - loss: -1.4808e-02 - crf_accuracy: 0.9954 - val_loss: 0.0453 - val_crf_accuracy: 0.9750\n",
      "Epoch 16/100\n",
      " - 53s - loss: -1.8048e-02 - crf_accuracy: 0.9961 - val_loss: 0.0488 - val_crf_accuracy: 0.9759\n",
      "Epoch 17/100\n",
      " - 53s - loss: -2.0785e-02 - crf_accuracy: 0.9963 - val_loss: 0.0479 - val_crf_accuracy: 0.9751\n",
      "Epoch 18/100\n",
      " - 58s - loss: -2.3579e-02 - crf_accuracy: 0.9966 - val_loss: 0.0412 - val_crf_accuracy: 0.9752\n",
      "Epoch 19/100\n",
      " - 52s - loss: -2.6192e-02 - crf_accuracy: 0.9971 - val_loss: 0.0462 - val_crf_accuracy: 0.9731\n",
      "Epoch 20/100\n",
      " - 54s - loss: -2.8744e-02 - crf_accuracy: 0.9975 - val_loss: 0.0451 - val_crf_accuracy: 0.9747\n",
      "Restoring model weights from the end of the best epoch\n",
      "Epoch 00020: early stopping\n"
     ]
    },
    {
     "data": {
      "image/png": "[encoded data removed]",
      "text/plain": [
       "<Figure size 432x288 with 1 Axes>"
      ]
     },
     "metadata": {},
     "output_type": "display_data"
    },
    {
     "name": "stdout",
     "output_type": "stream",
     "text": [
      "processed 11278 tokens with 498 phrases; found: 337 phrases; correct: 229.\n",
      "accuracy:  43.74%; (non-O)\n",
      "accuracy:  94.30%; precision:  67.95%; recall:  45.98%; FB1:  54.85\n",
      "              ANG: precision:   0.00%; recall:   0.00%; FB1:   0.00  0\n",
      "              DUC: precision:   0.00%; recall:   0.00%; FB1:   0.00  0\n",
      "              EVE: precision:   0.00%; recall:   0.00%; FB1:   0.00  0\n",
      "              FAC: precision:   0.00%; recall:   0.00%; FB1:   0.00  4\n",
      "              GPE: precision:  76.84%; recall:  60.83%; FB1:  67.91  95\n",
      "              LOC: precision:  57.89%; recall:  39.29%; FB1:  46.81  19\n",
      "              ORG: precision:  56.16%; recall:  34.45%; FB1:  42.71  73\n",
      "              PER: precision:  71.72%; recall:  53.89%; FB1:  61.54  145\n",
      "              WOA: precision:   0.00%; recall:   0.00%; FB1:   0.00  1\n",
      "Train on 4482 samples, validate on 455 samples\n",
      "Epoch 1/100\n",
      " - 63s - loss: 0.3317 - crf_accuracy: 0.9356 - val_loss: 0.1924 - val_crf_accuracy: 0.9622\n",
      "Epoch 2/100\n",
      " - 55s - loss: 0.1143 - crf_accuracy: 0.9734 - val_loss: 0.1203 - val_crf_accuracy: 0.9697\n",
      "Epoch 3/100\n",
      " - 57s - loss: 0.0724 - crf_accuracy: 0.9813 - val_loss: 0.0847 - val_crf_accuracy: 0.9762\n",
      "Epoch 4/100\n",
      " - 57s - loss: 0.0508 - crf_accuracy: 0.9846 - val_loss: 0.0729 - val_crf_accuracy: 0.9770\n",
      "Epoch 5/100\n",
      " - 56s - loss: 0.0382 - crf_accuracy: 0.9868 - val_loss: 0.0580 - val_crf_accuracy: 0.9792\n",
      "Epoch 6/100\n",
      " - 55s - loss: 0.0286 - crf_accuracy: 0.9885 - val_loss: 0.0519 - val_crf_accuracy: 0.9794\n",
      "Epoch 7/100\n",
      " - 57s - loss: 0.0210 - crf_accuracy: 0.9899 - val_loss: 0.0582 - val_crf_accuracy: 0.9787\n",
      "Epoch 8/100\n",
      " - 59s - loss: 0.0146 - crf_accuracy: 0.9909 - val_loss: 0.0415 - val_crf_accuracy: 0.9797\n",
      "Epoch 9/100\n",
      " - 55s - loss: 0.0092 - crf_accuracy: 0.9915 - val_loss: 0.0392 - val_crf_accuracy: 0.9801\n",
      "Epoch 10/100\n",
      " - 55s - loss: 0.0042 - crf_accuracy: 0.9927 - val_loss: 0.0361 - val_crf_accuracy: 0.9809\n",
      "Epoch 11/100\n",
      " - 53s - loss: 1.4616e-04 - crf_accuracy: 0.9933 - val_loss: 0.0343 - val_crf_accuracy: 0.9798\n",
      "Epoch 12/100\n",
      " - 54s - loss: -3.8137e-03 - crf_accuracy: 0.9942 - val_loss: 0.0349 - val_crf_accuracy: 0.9787\n",
      "Epoch 13/100\n",
      " - 58s - loss: -7.3567e-03 - crf_accuracy: 0.9947 - val_loss: 0.0353 - val_crf_accuracy: 0.9796\n",
      "Epoch 14/100\n",
      " - 60s - loss: -1.0864e-02 - crf_accuracy: 0.9954 - val_loss: 0.0353 - val_crf_accuracy: 0.9801\n",
      "Epoch 15/100\n",
      " - 60s - loss: -1.3639e-02 - crf_accuracy: 0.9956 - val_loss: 0.0314 - val_crf_accuracy: 0.9790\n",
      "Epoch 16/100\n",
      " - 59s - loss: -1.6580e-02 - crf_accuracy: 0.9960 - val_loss: 0.0313 - val_crf_accuracy: 0.9766\n",
      "Epoch 17/100\n",
      " - 57s - loss: -1.9654e-02 - crf_accuracy: 0.9967 - val_loss: 0.0291 - val_crf_accuracy: 0.9788\n",
      "Epoch 18/100\n",
      " - 60s - loss: -2.2282e-02 - crf_accuracy: 0.9971 - val_loss: 0.0260 - val_crf_accuracy: 0.9782\n",
      "Epoch 19/100\n",
      " - 63s - loss: -2.4504e-02 - crf_accuracy: 0.9972 - val_loss: 0.0261 - val_crf_accuracy: 0.9788\n",
      "Epoch 20/100\n",
      " - 57s - loss: -2.6992e-02 - crf_accuracy: 0.9975 - val_loss: 0.0308 - val_crf_accuracy: 0.9780\n",
      "Restoring model weights from the end of the best epoch\n",
      "Epoch 00020: early stopping\n"
     ]
    },
    {
     "data": {
      "image/png": "[encoded data removed]",
      "text/plain": [
       "<Figure size 432x288 with 1 Axes>"
      ]
     },
     "metadata": {},
     "output_type": "display_data"
    },
    {
     "name": "stdout",
     "output_type": "stream",
     "text": [
      "processed 11278 tokens with 498 phrases; found: 451 phrases; correct: 299.\n",
      "accuracy:  54.67%; (non-O)\n",
      "accuracy:  95.59%; precision:  66.30%; recall:  60.04%; FB1:  63.01\n",
      "              ANG: precision:   0.00%; recall:   0.00%; FB1:   0.00  0\n",
      "              DUC: precision:   0.00%; recall:   0.00%; FB1:   0.00  0\n",
      "              EVE: precision:   0.00%; recall:   0.00%; FB1:   0.00  0\n",
      "              FAC: precision:   0.00%; recall:   0.00%; FB1:   0.00  2\n",
      "              GPE: precision:  83.70%; recall:  64.17%; FB1:  72.64  92\n",
      "              LOC: precision:  48.00%; recall:  42.86%; FB1:  45.28  25\n",
      "              ORG: precision:  39.46%; recall:  48.74%; FB1:  43.61  147\n",
      "              PER: precision:  82.16%; recall:  78.76%; FB1:  80.42  185\n",
      "              WOA: precision:   0.00%; recall:   0.00%; FB1:   0.00  0\n",
      "Train on 4482 samples, validate on 455 samples\n",
      "Epoch 1/100\n",
      " - 67s - loss: 0.2680 - crf_accuracy: 0.9522 - val_loss: 0.1337 - val_crf_accuracy: 0.9677\n",
      "Epoch 2/100\n",
      " - 56s - loss: 0.0857 - crf_accuracy: 0.9789 - val_loss: 0.0879 - val_crf_accuracy: 0.9757\n",
      "Epoch 3/100\n",
      " - 56s - loss: 0.0556 - crf_accuracy: 0.9844 - val_loss: 0.0633 - val_crf_accuracy: 0.9790\n",
      "Epoch 4/100\n",
      " - 55s - loss: 0.0394 - crf_accuracy: 0.9873 - val_loss: 0.0538 - val_crf_accuracy: 0.9812\n",
      "Epoch 5/100\n",
      " - 58s - loss: 0.0273 - crf_accuracy: 0.9897 - val_loss: 0.0557 - val_crf_accuracy: 0.9814\n",
      "Epoch 6/100\n",
      " - 54s - loss: 0.0188 - crf_accuracy: 0.9911 - val_loss: 0.0489 - val_crf_accuracy: 0.9820\n",
      "Epoch 7/100\n",
      " - 55s - loss: 0.0124 - crf_accuracy: 0.9923 - val_loss: 0.0512 - val_crf_accuracy: 0.9808\n",
      "Epoch 8/100\n",
      " - 60s - loss: 0.0066 - crf_accuracy: 0.9938 - val_loss: 0.0420 - val_crf_accuracy: 0.9795\n",
      "Epoch 9/100\n",
      " - 56s - loss: 0.0021 - crf_accuracy: 0.9946 - val_loss: 0.0346 - val_crf_accuracy: 0.9845\n",
      "Epoch 10/100\n",
      " - 59s - loss: -2.1496e-03 - crf_accuracy: 0.9956 - val_loss: 0.0283 - val_crf_accuracy: 0.9857\n",
      "Epoch 11/100\n",
      " - 61s - loss: -6.2174e-03 - crf_accuracy: 0.9963 - val_loss: 0.0278 - val_crf_accuracy: 0.9857\n",
      "Epoch 12/100\n",
      " - 59s - loss: -9.7674e-03 - crf_accuracy: 0.9970 - val_loss: 0.0256 - val_crf_accuracy: 0.9849\n",
      "Epoch 13/100\n",
      " - 59s - loss: -1.2916e-02 - crf_accuracy: 0.9975 - val_loss: 0.0255 - val_crf_accuracy: 0.9854\n",
      "Epoch 14/100\n",
      " - 60s - loss: -1.5839e-02 - crf_accuracy: 0.9978 - val_loss: 0.0241 - val_crf_accuracy: 0.9852\n",
      "Epoch 15/100\n",
      " - 60s - loss: -1.8387e-02 - crf_accuracy: 0.9982 - val_loss: 0.0266 - val_crf_accuracy: 0.9851\n",
      "Epoch 16/100\n",
      " - 60s - loss: -2.1140e-02 - crf_accuracy: 0.9987 - val_loss: 0.0227 - val_crf_accuracy: 0.9852\n",
      "Epoch 17/100\n",
      " - 61s - loss: -2.3523e-02 - crf_accuracy: 0.9989 - val_loss: 0.0222 - val_crf_accuracy: 0.9846\n",
      "Epoch 18/100\n",
      " - 59s - loss: -2.5680e-02 - crf_accuracy: 0.9991 - val_loss: 0.0208 - val_crf_accuracy: 0.9842\n",
      "Epoch 19/100\n",
      " - 59s - loss: -2.7948e-02 - crf_accuracy: 0.9993 - val_loss: 0.0315 - val_crf_accuracy: 0.9843\n",
      "Epoch 20/100\n",
      " - 58s - loss: -2.9770e-02 - crf_accuracy: 0.9992 - val_loss: 0.0210 - val_crf_accuracy: 0.9849\n",
      "Restoring model weights from the end of the best epoch\n",
      "Epoch 00020: early stopping\n"
     ]
    },
    {
     "data": {
      "image/png": "[encoded data removed]",
      "text/plain": [
       "<Figure size 432x288 with 1 Axes>"
      ]
     },
     "metadata": {},
     "output_type": "display_data"
    },
    {
     "name": "stdout",
     "output_type": "stream",
     "text": [
      "processed 11278 tokens with 498 phrases; found: 417 phrases; correct: 341.\n",
      "accuracy:  63.92%; (non-O)\n",
      "accuracy:  96.22%; precision:  81.77%; recall:  68.47%; FB1:  74.54\n",
      "              ANG: precision: 100.00%; recall:  66.67%; FB1:  80.00  2\n",
      "              DUC: precision:   0.00%; recall:   0.00%; FB1:   0.00  0\n",
      "              EVE: precision: 100.00%; recall:  16.67%; FB1:  28.57  2\n",
      "              FAC: precision:   0.00%; recall:   0.00%; FB1:   0.00  3\n",
      "              GPE: precision:  90.27%; recall:  85.00%; FB1:  87.55  113\n",
      "              LOC: precision:  61.54%; recall:  57.14%; FB1:  59.26  26\n",
      "              ORG: precision:  66.07%; recall:  62.18%; FB1:  64.07  112\n",
      "              PER: precision:  91.77%; recall:  75.13%; FB1:  82.62  158\n",
      "              WOA: precision:   0.00%; recall:   0.00%; FB1:   0.00  1\n",
      "Train on 4482 samples, validate on 455 samples\n",
      "Epoch 1/100\n",
      " - 70s - loss: 0.2667 - crf_accuracy: 0.9477 - val_loss: 0.1247 - val_crf_accuracy: 0.9673\n",
      "Epoch 2/100\n",
      " - 55s - loss: 0.0781 - crf_accuracy: 0.9801 - val_loss: 0.0838 - val_crf_accuracy: 0.9749\n",
      "Epoch 3/100\n",
      " - 61s - loss: 0.0506 - crf_accuracy: 0.9853 - val_loss: 0.0724 - val_crf_accuracy: 0.9796\n",
      "Epoch 4/100\n",
      " - 63s - loss: 0.0350 - crf_accuracy: 0.9881 - val_loss: 0.0546 - val_crf_accuracy: 0.9805\n",
      "Epoch 5/100\n",
      " - 57s - loss: 0.0241 - crf_accuracy: 0.9902 - val_loss: 0.0520 - val_crf_accuracy: 0.9812\n",
      "Epoch 6/100\n",
      " - 54s - loss: 0.0163 - crf_accuracy: 0.9916 - val_loss: 0.0500 - val_crf_accuracy: 0.9811\n",
      "Epoch 7/100\n",
      " - 56s - loss: 0.0099 - crf_accuracy: 0.9935 - val_loss: 0.0386 - val_crf_accuracy: 0.9820\n",
      "Epoch 8/100\n",
      " - 63s - loss: 0.0047 - crf_accuracy: 0.9945 - val_loss: 0.0442 - val_crf_accuracy: 0.9812\n",
      "Epoch 9/100\n",
      " - 58s - loss: 7.4297e-05 - crf_accuracy: 0.9953 - val_loss: 0.0279 - val_crf_accuracy: 0.9849\n",
      "Epoch 10/100\n",
      " - 55s - loss: -4.1169e-03 - crf_accuracy: 0.9960 - val_loss: 0.0258 - val_crf_accuracy: 0.9840\n",
      "Epoch 11/100\n",
      " - 62s - loss: -7.7243e-03 - crf_accuracy: 0.9968 - val_loss: 0.0295 - val_crf_accuracy: 0.9846\n",
      "Epoch 12/100\n",
      " - 64s - loss: -1.0986e-02 - crf_accuracy: 0.9974 - val_loss: 0.0263 - val_crf_accuracy: 0.9848\n",
      "Epoch 13/100\n",
      " - 63s - loss: -1.4194e-02 - crf_accuracy: 0.9980 - val_loss: 0.0206 - val_crf_accuracy: 0.9859\n",
      "Epoch 14/100\n",
      " - 61s - loss: -1.6920e-02 - crf_accuracy: 0.9982 - val_loss: 0.0226 - val_crf_accuracy: 0.9840\n",
      "Epoch 15/100\n",
      " - 61s - loss: -1.9439e-02 - crf_accuracy: 0.9985 - val_loss: 0.0253 - val_crf_accuracy: 0.9837\n",
      "Epoch 16/100\n",
      " - 62s - loss: -2.1889e-02 - crf_accuracy: 0.9989 - val_loss: 0.0229 - val_crf_accuracy: 0.9842\n",
      "Epoch 17/100\n",
      " - 60s - loss: -2.4180e-02 - crf_accuracy: 0.9991 - val_loss: 0.0184 - val_crf_accuracy: 0.9847\n",
      "Epoch 18/100\n",
      " - 52s - loss: -2.6118e-02 - crf_accuracy: 0.9990 - val_loss: 0.0193 - val_crf_accuracy: 0.9850\n",
      "Epoch 19/100\n",
      " - 58s - loss: -2.8519e-02 - crf_accuracy: 0.9994 - val_loss: 0.0238 - val_crf_accuracy: 0.9852\n",
      "Epoch 20/100\n",
      " - 58s - loss: -3.0512e-02 - crf_accuracy: 0.9995 - val_loss: 0.0200 - val_crf_accuracy: 0.9849\n",
      "Epoch 21/100\n",
      " - 62s - loss: -3.2309e-02 - crf_accuracy: 0.9996 - val_loss: 0.0172 - val_crf_accuracy: 0.9855\n",
      "Epoch 22/100\n",
      " - 62s - loss: -3.4351e-02 - crf_accuracy: 0.9997 - val_loss: 0.0177 - val_crf_accuracy: 0.9846\n",
      "Epoch 23/100\n",
      " - 62s - loss: -3.6163e-02 - crf_accuracy: 0.9997 - val_loss: 0.0164 - val_crf_accuracy: 0.9854\n",
      "Restoring model weights from the end of the best epoch\n",
      "Epoch 00023: early stopping\n"
     ]
    },
    {
     "data": {
      "image/png": "[encoded data removed]",
      "text/plain": [
       "<Figure size 432x288 with 1 Axes>"
      ]
     },
     "metadata": {},
     "output_type": "display_data"
    },
    {
     "name": "stdout",
     "output_type": "stream",
     "text": [
      "processed 11278 tokens with 498 phrases; found: 455 phrases; correct: 356.\n",
      "accuracy:  66.60%; (non-O)\n",
      "accuracy:  96.47%; precision:  78.24%; recall:  71.49%; FB1:  74.71\n",
      "              ANG: precision: 100.00%; recall: 100.00%; FB1: 100.00  3\n",
      "              DUC: precision:   0.00%; recall:   0.00%; FB1:   0.00  0\n",
      "              EVE: precision: 100.00%; recall:   8.33%; FB1:  15.38  1\n",
      "              FAC: precision:   0.00%; recall:   0.00%; FB1:   0.00  4\n",
      "              GPE: precision:  83.05%; recall:  81.67%; FB1:  82.35  118\n",
      "              LOC: precision:  62.96%; recall:  60.71%; FB1:  61.82  27\n",
      "              ORG: precision:  66.33%; recall:  54.62%; FB1:  59.91  98\n",
      "              PER: precision:  86.22%; recall:  87.56%; FB1:  86.89  196\n",
      "              WOA: precision:  37.50%; recall:  33.33%; FB1:  35.29  8\n",
      "Train on 4482 samples, validate on 455 samples\n",
      "Epoch 1/100\n",
      " - 70s - loss: 0.2573 - crf_accuracy: 0.9467 - val_loss: 0.1384 - val_crf_accuracy: 0.9658\n",
      "Epoch 2/100\n",
      " - 57s - loss: 0.0753 - crf_accuracy: 0.9811 - val_loss: 0.0731 - val_crf_accuracy: 0.9780\n",
      "Epoch 3/100\n",
      " - 59s - loss: 0.0451 - crf_accuracy: 0.9865 - val_loss: 0.0528 - val_crf_accuracy: 0.9816\n",
      "Epoch 4/100\n",
      " - 57s - loss: 0.0298 - crf_accuracy: 0.9891 - val_loss: 0.0435 - val_crf_accuracy: 0.9830\n",
      "Epoch 5/100\n",
      " - 57s - loss: 0.0205 - crf_accuracy: 0.9906 - val_loss: 0.0352 - val_crf_accuracy: 0.9844\n",
      "Epoch 6/100\n",
      " - 59s - loss: 0.0125 - crf_accuracy: 0.9925 - val_loss: 0.0295 - val_crf_accuracy: 0.9869\n",
      "Epoch 7/100\n",
      " - 64s - loss: 0.0063 - crf_accuracy: 0.9939 - val_loss: 0.0255 - val_crf_accuracy: 0.9871\n",
      "Epoch 8/100\n",
      " - 59s - loss: 0.0017 - crf_accuracy: 0.9946 - val_loss: 0.0243 - val_crf_accuracy: 0.9868\n",
      "Epoch 9/100\n",
      " - 59s - loss: -3.0634e-03 - crf_accuracy: 0.9957 - val_loss: 0.0381 - val_crf_accuracy: 0.9830\n",
      "Epoch 10/100\n",
      " - 63s - loss: -6.7380e-03 - crf_accuracy: 0.9962 - val_loss: 0.0202 - val_crf_accuracy: 0.9868\n",
      "Epoch 11/100\n",
      " - 63s - loss: -1.0490e-02 - crf_accuracy: 0.9971 - val_loss: 0.0218 - val_crf_accuracy: 0.9845\n",
      "Epoch 12/100\n",
      " - 58s - loss: -1.3312e-02 - crf_accuracy: 0.9975 - val_loss: 0.0164 - val_crf_accuracy: 0.9871\n",
      "Epoch 13/100\n",
      " - 58s - loss: -1.6586e-02 - crf_accuracy: 0.9981 - val_loss: 0.0192 - val_crf_accuracy: 0.9866\n",
      "Epoch 14/100\n",
      " - 57s - loss: -1.9223e-02 - crf_accuracy: 0.9984 - val_loss: 0.0185 - val_crf_accuracy: 0.9863\n",
      "Epoch 15/100\n",
      " - 53s - loss: -2.1703e-02 - crf_accuracy: 0.9987 - val_loss: 0.0155 - val_crf_accuracy: 0.9863\n",
      "Epoch 16/100\n",
      " - 55s - loss: -2.3951e-02 - crf_accuracy: 0.9989 - val_loss: 0.0151 - val_crf_accuracy: 0.9863\n",
      "Epoch 17/100\n",
      " - 57s - loss: -2.6223e-02 - crf_accuracy: 0.9991 - val_loss: 0.0195 - val_crf_accuracy: 0.9857\n",
      "Restoring model weights from the end of the best epoch\n",
      "Epoch 00017: early stopping\n"
     ]
    },
    {
     "data": {
      "image/png": "[encoded data removed]",
      "text/plain": [
       "<Figure size 432x288 with 1 Axes>"
      ]
     },
     "metadata": {},
     "output_type": "display_data"
    },
    {
     "name": "stdout",
     "output_type": "stream",
     "text": [
      "processed 11278 tokens with 498 phrases; found: 445 phrases; correct: 370.\n",
      "accuracy:  66.70%; (non-O)\n",
      "accuracy:  96.76%; precision:  83.15%; recall:  74.30%; FB1:  78.47\n",
      "              ANG: precision: 100.00%; recall:  33.33%; FB1:  50.00  1\n",
      "              DUC: precision:   0.00%; recall:   0.00%; FB1:   0.00  0\n",
      "              EVE: precision: 100.00%; recall:  16.67%; FB1:  28.57  2\n",
      "              FAC: precision:   0.00%; recall:   0.00%; FB1:   0.00  1\n",
      "              GPE: precision:  89.92%; recall:  89.17%; FB1:  89.54  119\n",
      "              LOC: precision:  66.67%; recall:  50.00%; FB1:  57.14  21\n",
      "              ORG: precision:  69.79%; recall:  56.30%; FB1:  62.33  96\n",
      "              PER: precision:  87.75%; recall:  92.75%; FB1:  90.18  204\n",
      "              WOA: precision:   0.00%; recall:   0.00%; FB1:   0.00  1\n",
      "Train on 4482 samples, validate on 455 samples\n",
      "Epoch 1/100\n",
      " - 69s - loss: 0.2583 - crf_accuracy: 0.9518 - val_loss: 0.1249 - val_crf_accuracy: 0.9679\n",
      "Epoch 2/100\n",
      " - 58s - loss: 0.0762 - crf_accuracy: 0.9809 - val_loss: 0.1059 - val_crf_accuracy: 0.9755\n",
      "Epoch 3/100\n",
      " - 52s - loss: 0.0469 - crf_accuracy: 0.9862 - val_loss: 0.0951 - val_crf_accuracy: 0.9650\n",
      "Epoch 4/100\n",
      " - 58s - loss: 0.0317 - crf_accuracy: 0.9888 - val_loss: 0.0503 - val_crf_accuracy: 0.9823\n",
      "Epoch 5/100\n",
      " - 58s - loss: 0.0216 - crf_accuracy: 0.9906 - val_loss: 0.0396 - val_crf_accuracy: 0.9836\n",
      "Epoch 6/100\n",
      " - 57s - loss: 0.0138 - crf_accuracy: 0.9924 - val_loss: 0.0385 - val_crf_accuracy: 0.9841\n",
      "Epoch 7/100\n",
      " - 61s - loss: 0.0075 - crf_accuracy: 0.9935 - val_loss: 0.0257 - val_crf_accuracy: 0.9859\n",
      "Epoch 8/100\n",
      " - 60s - loss: 0.0023 - crf_accuracy: 0.9947 - val_loss: 0.0315 - val_crf_accuracy: 0.9848\n",
      "Epoch 9/100\n",
      " - 57s - loss: -1.8898e-03 - crf_accuracy: 0.9953 - val_loss: 0.0256 - val_crf_accuracy: 0.9857\n",
      "Epoch 10/100\n",
      " - 57s - loss: -5.9839e-03 - crf_accuracy: 0.9963 - val_loss: 0.0233 - val_crf_accuracy: 0.9851\n",
      "Epoch 11/100\n",
      " - 56s - loss: -9.7783e-03 - crf_accuracy: 0.9971 - val_loss: 0.0197 - val_crf_accuracy: 0.9862\n",
      "Epoch 12/100\n",
      " - 59s - loss: -1.2885e-02 - crf_accuracy: 0.9975 - val_loss: 0.0201 - val_crf_accuracy: 0.9854\n",
      "Epoch 13/100\n",
      " - 55s - loss: -1.6059e-02 - crf_accuracy: 0.9981 - val_loss: 0.0261 - val_crf_accuracy: 0.9848\n",
      "Epoch 14/100\n",
      " - 60s - loss: -1.8590e-02 - crf_accuracy: 0.9983 - val_loss: 0.0206 - val_crf_accuracy: 0.9855\n",
      "Epoch 15/100\n",
      " - 53s - loss: -2.0857e-02 - crf_accuracy: 0.9985 - val_loss: 0.0155 - val_crf_accuracy: 0.9849\n",
      "Epoch 16/100\n",
      " - 58s - loss: -2.3461e-02 - crf_accuracy: 0.9990 - val_loss: 0.0163 - val_crf_accuracy: 0.9852\n",
      "Epoch 17/100\n",
      " - 56s - loss: -2.5902e-02 - crf_accuracy: 0.9992 - val_loss: 0.0153 - val_crf_accuracy: 0.9854\n",
      "Epoch 18/100\n",
      " - 53s - loss: -2.7837e-02 - crf_accuracy: 0.9993 - val_loss: 0.0168 - val_crf_accuracy: 0.9830\n",
      "Epoch 19/100\n",
      " - 60s - loss: -2.9981e-02 - crf_accuracy: 0.9994 - val_loss: 0.0167 - val_crf_accuracy: 0.9852\n",
      "Epoch 20/100\n",
      " - 59s - loss: -3.1759e-02 - crf_accuracy: 0.9993 - val_loss: 0.0112 - val_crf_accuracy: 0.9853\n",
      "Epoch 21/100\n",
      " - 59s - loss: -3.3858e-02 - crf_accuracy: 0.9996 - val_loss: 0.0162 - val_crf_accuracy: 0.9854\n",
      "Restoring model weights from the end of the best epoch\n",
      "Epoch 00021: early stopping\n"
     ]
    },
    {
     "data": {
      "image/png": "[encoded data removed]",
      "text/plain": [
       "<Figure size 432x288 with 1 Axes>"
      ]
     },
     "metadata": {},
     "output_type": "display_data"
    },
    {
     "name": "stdout",
     "output_type": "stream",
     "text": [
      "processed 11278 tokens with 498 phrases; found: 463 phrases; correct: 373.\n",
      "accuracy:  66.60%; (non-O)\n",
      "accuracy:  96.62%; precision:  80.56%; recall:  74.90%; FB1:  77.63\n",
      "              ANG: precision: 100.00%; recall: 100.00%; FB1: 100.00  3\n",
      "              DUC: precision:   0.00%; recall:   0.00%; FB1:   0.00  0\n",
      "              EVE: precision: 100.00%; recall:  16.67%; FB1:  28.57  2\n",
      "              FAC: precision:   0.00%; recall:   0.00%; FB1:   0.00  2\n",
      "              GPE: precision:  91.30%; recall:  87.50%; FB1:  89.36  115\n",
      "              LOC: precision:  61.54%; recall:  57.14%; FB1:  59.26  26\n",
      "              ORG: precision:  63.81%; recall:  56.30%; FB1:  59.82  105\n",
      "              PER: precision:  88.18%; recall:  92.75%; FB1:  90.40  203\n",
      "              WOA: precision:  14.29%; recall:  11.11%; FB1:  12.50  7\n"
     ]
    }
   ],
   "source": [
    "configs, results, preds, histories = run_models(configs, splits, splits_char, embedding_mats, \n",
    "                                                words, max_len, n_words, idx2word, idx2tag,\n",
    "                                                n_tags, max_len_char, n_pos, n_chars,\n",
    "                                                run_name='treebank_morphemes_fixed2', out_folder=out_folder,\n",
    "                                                skip_if_model_exists=True,\n",
    "                                                validation_split=validation_split,\n",
    "                                                extra_predictions=extra_preds,\n",
    "                                                )"
   ]
  },
  {
   "cell_type": "code",
   "execution_count": null,
   "metadata": {},
   "outputs": [],
   "source": []
  },
  {
   "cell_type": "code",
   "execution_count": null,
   "metadata": {},
   "outputs": [],
   "source": []
  },
  {
   "cell_type": "code",
   "execution_count": null,
   "metadata": {},
   "outputs": [],
   "source": []
  },
  {
   "cell_type": "code",
   "execution_count": null,
   "metadata": {},
   "outputs": [],
   "source": []
  },
  {
   "cell_type": "code",
   "execution_count": null,
   "metadata": {},
   "outputs": [],
   "source": []
  },
  {
   "cell_type": "code",
   "execution_count": null,
   "metadata": {},
   "outputs": [],
   "source": []
  },
  {
   "cell_type": "code",
   "execution_count": null,
   "metadata": {},
   "outputs": [],
   "source": []
  },
  {
   "cell_type": "code",
   "execution_count": null,
   "metadata": {},
   "outputs": [],
   "source": []
  },
  {
   "cell_type": "code",
   "execution_count": null,
   "metadata": {},
   "outputs": [],
   "source": []
  },
  {
   "cell_type": "code",
   "execution_count": null,
   "metadata": {},
   "outputs": [],
   "source": []
  }
 ],
 "metadata": {
  "kernelspec": {
   "display_name": "Python 3",
   "language": "python",
   "name": "python3"
  },
  "language_info": {
   "codemirror_mode": {
    "name": "ipython",
    "version": 3
   },
   "file_extension": ".py",
   "mimetype": "text/x-python",
   "name": "python",
   "nbconvert_exporter": "python",
   "pygments_lexer": "ipython3",
   "version": "3.6.8"
  }
 },
 "nbformat": 4,
 "nbformat_minor": 4
}
