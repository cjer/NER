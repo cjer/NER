{
 "cells": [
  {
   "cell_type": "markdown",
   "metadata": {},
   "source": [
    "# Treebank POS with Bi-LSTM-CRF on morphemes"
   ]
  },
  {
   "cell_type": "markdown",
   "metadata": {},
   "source": [
    "LstmCRF on POS Tags (Dan) \n",
    "- on Oracle segmentation \n",
    "- on predicted (yap) segmentation\n",
    "- on Raw tokens / predict Multitag \n",
    "eval to report: \n",
    "- For now, simple accuracy (on tags or multitags respectively)"
   ]
  },
  {
   "cell_type": "code",
   "execution_count": 1,
   "metadata": {},
   "outputs": [],
   "source": [
    "import os\n",
    "os.environ[\"CUDA_DEVICE_ORDER\"]=\"PCI_BUS_ID\";\n",
    " \n",
    "# The GPU id to use, usually either \"0\" or \"1\";\n",
    "os.environ[\"CUDA_VISIBLE_DEVICES\"]=\"1\";  "
   ]
  },
  {
   "cell_type": "code",
   "execution_count": 2,
   "metadata": {},
   "outputs": [],
   "source": [
    "%load_ext autoreload\n",
    "%autoreload 2"
   ]
  },
  {
   "cell_type": "code",
   "execution_count": 3,
   "metadata": {
    "ExecuteTime": {
     "end_time": "2019-03-13T07:20:24.034028Z",
     "start_time": "2019-03-13T07:20:22.687626Z"
    }
   },
   "outputs": [],
   "source": [
    "%matplotlib inline"
   ]
  },
  {
   "cell_type": "code",
   "execution_count": 4,
   "metadata": {
    "ExecuteTime": {
     "end_time": "2019-03-13T07:20:24.382406Z",
     "start_time": "2019-03-13T07:20:24.037019Z"
    }
   },
   "outputs": [],
   "source": [
    "import pandas as pd\n",
    "import numpy as np"
   ]
  },
  {
   "cell_type": "code",
   "execution_count": 5,
   "metadata": {
    "ExecuteTime": {
     "end_time": "2019-03-13T07:20:27.996727Z",
     "start_time": "2019-03-13T07:20:24.385088Z"
    }
   },
   "outputs": [],
   "source": [
    "import matplotlib.pyplot as plt\n",
    "import seaborn as sns\n",
    "sns.set_context('paper')\n",
    "sns.set_style('white')"
   ]
  },
  {
   "cell_type": "code",
   "execution_count": 6,
   "metadata": {
    "ExecuteTime": {
     "end_time": "2019-03-13T07:20:28.016424Z",
     "start_time": "2019-03-13T07:20:27.999427Z"
    }
   },
   "outputs": [],
   "source": [
    "from conlleval import evaluate"
   ]
  },
  {
   "cell_type": "code",
   "execution_count": 7,
   "metadata": {},
   "outputs": [
    {
     "name": "stderr",
     "output_type": "stream",
     "text": [
      "Using TensorFlow backend.\n"
     ]
    }
   ],
   "source": [
    "from ner_utils import *"
   ]
  },
  {
   "cell_type": "markdown",
   "metadata": {},
   "source": [
    "## Get morpheme data"
   ]
  },
  {
   "cell_type": "code",
   "execution_count": 8,
   "metadata": {},
   "outputs": [],
   "source": [
    "yap_dev = pd.read_csv('new_yap_outputs/yap_dev.csv.gz', compression='gzip')\n",
    "yap_test = pd.read_csv('new_yap_outputs/yap_test.csv.gz', compression='gzip')"
   ]
  },
  {
   "cell_type": "code",
   "execution_count": 9,
   "metadata": {},
   "outputs": [],
   "source": [
    "dropped = [5438, 5444, 5445, 5446, 5448, 5449, 5450, 5451, 5453, 5459]"
   ]
  },
  {
   "cell_type": "code",
   "execution_count": 10,
   "metadata": {},
   "outputs": [
    {
     "name": "stderr",
     "output_type": "stream",
     "text": [
      "/home/dan/anaconda3/envs/tf/lib/python3.6/site-packages/IPython/core/interactiveshell.py:3049: DtypeWarning: Columns (21) have mixed types. Specify dtype option on import or set low_memory=False.\n",
      "  interactivity=interactivity, compiler=compiler, result=result)\n"
     ]
    }
   ],
   "source": [
    "spdf = pd.read_csv('align/spdf_fixed.csv.gz', compression='gzip')\n",
    "spdf = spdf[(~spdf.sent_id.isin(dropped))]"
   ]
  },
  {
   "cell_type": "code",
   "execution_count": 11,
   "metadata": {},
   "outputs": [
    {
     "data": {
      "text/html": [
       "<div>\n",
       "<style scoped>\n",
       "    .dataframe tbody tr th:only-of-type {\n",
       "        vertical-align: middle;\n",
       "    }\n",
       "\n",
       "    .dataframe tbody tr th {\n",
       "        vertical-align: top;\n",
       "    }\n",
       "\n",
       "    .dataframe thead th {\n",
       "        text-align: right;\n",
       "    }\n",
       "</style>\n",
       "<table border=\"1\" class=\"dataframe\">\n",
       "  <thead>\n",
       "    <tr style=\"text-align: right;\">\n",
       "      <th></th>\n",
       "      <th>id</th>\n",
       "      <th>form</th>\n",
       "      <th>lemma</th>\n",
       "      <th>upostag</th>\n",
       "      <th>xpostag</th>\n",
       "      <th>feats</th>\n",
       "      <th>token_id</th>\n",
       "      <th>sent_id</th>\n",
       "      <th>token_str</th>\n",
       "      <th>global_sent_id</th>\n",
       "      <th>...</th>\n",
       "      <th>deps</th>\n",
       "      <th>misc</th>\n",
       "      <th>ner_escaped</th>\n",
       "      <th>set</th>\n",
       "      <th>duplicate_sent_id</th>\n",
       "      <th>very_similar_sent_id</th>\n",
       "      <th>biose_layer0</th>\n",
       "      <th>biose_layer1</th>\n",
       "      <th>biose_layer2</th>\n",
       "      <th>biose_layer3</th>\n",
       "    </tr>\n",
       "  </thead>\n",
       "  <tbody>\n",
       "    <tr>\n",
       "      <th>0</th>\n",
       "      <td>1</td>\n",
       "      <td>עשרות</td>\n",
       "      <td>עשר</td>\n",
       "      <td>CDT</td>\n",
       "      <td>CDT</td>\n",
       "      <td>gen=F|num=P</td>\n",
       "      <td>1</td>\n",
       "      <td>1</td>\n",
       "      <td>עשרות</td>\n",
       "      <td>1</td>\n",
       "      <td>...</td>\n",
       "      <td>_</td>\n",
       "      <td>_</td>\n",
       "      <td>_</td>\n",
       "      <td>dev</td>\n",
       "      <td>NaN</td>\n",
       "      <td>NaN</td>\n",
       "      <td>O</td>\n",
       "      <td>O</td>\n",
       "      <td>O</td>\n",
       "      <td>O</td>\n",
       "    </tr>\n",
       "    <tr>\n",
       "      <th>1</th>\n",
       "      <td>2</td>\n",
       "      <td>אנשים</td>\n",
       "      <td>איש</td>\n",
       "      <td>NN</td>\n",
       "      <td>NN</td>\n",
       "      <td>gen=M|num=P</td>\n",
       "      <td>2</td>\n",
       "      <td>1</td>\n",
       "      <td>אנשים</td>\n",
       "      <td>1</td>\n",
       "      <td>...</td>\n",
       "      <td>_</td>\n",
       "      <td>_</td>\n",
       "      <td>_</td>\n",
       "      <td>dev</td>\n",
       "      <td>NaN</td>\n",
       "      <td>NaN</td>\n",
       "      <td>O</td>\n",
       "      <td>O</td>\n",
       "      <td>O</td>\n",
       "      <td>O</td>\n",
       "    </tr>\n",
       "    <tr>\n",
       "      <th>2</th>\n",
       "      <td>3</td>\n",
       "      <td>מגיעים</td>\n",
       "      <td>הגיע</td>\n",
       "      <td>BN</td>\n",
       "      <td>BN</td>\n",
       "      <td>gen=M|num=P|per=A|HebBinyan=HIFIL</td>\n",
       "      <td>3</td>\n",
       "      <td>1</td>\n",
       "      <td>מגיעים</td>\n",
       "      <td>1</td>\n",
       "      <td>...</td>\n",
       "      <td>_</td>\n",
       "      <td>_</td>\n",
       "      <td>_</td>\n",
       "      <td>dev</td>\n",
       "      <td>NaN</td>\n",
       "      <td>NaN</td>\n",
       "      <td>O</td>\n",
       "      <td>O</td>\n",
       "      <td>O</td>\n",
       "      <td>O</td>\n",
       "    </tr>\n",
       "    <tr>\n",
       "      <th>3</th>\n",
       "      <td>4</td>\n",
       "      <td>מ</td>\n",
       "      <td>מ</td>\n",
       "      <td>PREPOSITION</td>\n",
       "      <td>PREPOSITION</td>\n",
       "      <td>_</td>\n",
       "      <td>4</td>\n",
       "      <td>1</td>\n",
       "      <td>מתאילנד</td>\n",
       "      <td>1</td>\n",
       "      <td>...</td>\n",
       "      <td>_</td>\n",
       "      <td>_</td>\n",
       "      <td>_</td>\n",
       "      <td>dev</td>\n",
       "      <td>NaN</td>\n",
       "      <td>NaN</td>\n",
       "      <td>O</td>\n",
       "      <td>O</td>\n",
       "      <td>O</td>\n",
       "      <td>O</td>\n",
       "    </tr>\n",
       "    <tr>\n",
       "      <th>4</th>\n",
       "      <td>5</td>\n",
       "      <td>תאילנד</td>\n",
       "      <td>תאילנד</td>\n",
       "      <td>NNP</td>\n",
       "      <td>NNP</td>\n",
       "      <td>_</td>\n",
       "      <td>4</td>\n",
       "      <td>1</td>\n",
       "      <td>מתאילנד</td>\n",
       "      <td>1</td>\n",
       "      <td>...</td>\n",
       "      <td>_</td>\n",
       "      <td>_</td>\n",
       "      <td>GPE</td>\n",
       "      <td>dev</td>\n",
       "      <td>NaN</td>\n",
       "      <td>NaN</td>\n",
       "      <td>S-GPE</td>\n",
       "      <td>O</td>\n",
       "      <td>O</td>\n",
       "      <td>O</td>\n",
       "    </tr>\n",
       "  </tbody>\n",
       "</table>\n",
       "<p>5 rows × 27 columns</p>\n",
       "</div>"
      ],
      "text/plain": [
       "   id    form   lemma      upostag      xpostag  \\\n",
       "0   1   עשרות     עשר          CDT          CDT   \n",
       "1   2   אנשים     איש           NN           NN   \n",
       "2   3  מגיעים    הגיע           BN           BN   \n",
       "3   4       מ       מ  PREPOSITION  PREPOSITION   \n",
       "4   5  תאילנד  תאילנד          NNP          NNP   \n",
       "\n",
       "                               feats  token_id  sent_id token_str  \\\n",
       "0                        gen=F|num=P         1        1     עשרות   \n",
       "1                        gen=M|num=P         2        1     אנשים   \n",
       "2  gen=M|num=P|per=A|HebBinyan=HIFIL         3        1    מגיעים   \n",
       "3                                  _         4        1   מתאילנד   \n",
       "4                                  _         4        1   מתאילנד   \n",
       "\n",
       "   global_sent_id  ...  deps misc ner_escaped  set duplicate_sent_id  \\\n",
       "0               1  ...     _    _           _  dev               NaN   \n",
       "1               1  ...     _    _           _  dev               NaN   \n",
       "2               1  ...     _    _           _  dev               NaN   \n",
       "3               1  ...     _    _           _  dev               NaN   \n",
       "4               1  ...     _    _         GPE  dev               NaN   \n",
       "\n",
       "   very_similar_sent_id biose_layer0 biose_layer1 biose_layer2 biose_layer3  \n",
       "0                   NaN            O            O            O            O  \n",
       "1                   NaN            O            O            O            O  \n",
       "2                   NaN            O            O            O            O  \n",
       "3                   NaN            O            O            O            O  \n",
       "4                   NaN        S-GPE            O            O            O  \n",
       "\n",
       "[5 rows x 27 columns]"
      ]
     },
     "execution_count": 11,
     "metadata": {},
     "output_type": "execute_result"
    }
   ],
   "source": [
    "spdf.head()"
   ]
  },
  {
   "cell_type": "code",
   "execution_count": 12,
   "metadata": {},
   "outputs": [
    {
     "data": {
      "text/html": [
       "<div>\n",
       "<style scoped>\n",
       "    .dataframe tbody tr th:only-of-type {\n",
       "        vertical-align: middle;\n",
       "    }\n",
       "\n",
       "    .dataframe tbody tr th {\n",
       "        vertical-align: top;\n",
       "    }\n",
       "\n",
       "    .dataframe thead th {\n",
       "        text-align: right;\n",
       "    }\n",
       "</style>\n",
       "<table border=\"1\" class=\"dataframe\">\n",
       "  <thead>\n",
       "    <tr style=\"text-align: right;\">\n",
       "      <th></th>\n",
       "      <th>id</th>\n",
       "      <th>form</th>\n",
       "      <th>lemma</th>\n",
       "      <th>upostag</th>\n",
       "      <th>xpostag</th>\n",
       "      <th>head</th>\n",
       "      <th>deprel</th>\n",
       "      <th>deps</th>\n",
       "      <th>misc</th>\n",
       "      <th>sent</th>\n",
       "      <th>misc_token_id</th>\n",
       "      <th>misc_token_str</th>\n",
       "      <th>feats_gen</th>\n",
       "      <th>feats_num</th>\n",
       "      <th>feats_per</th>\n",
       "      <th>feats_tense</th>\n",
       "      <th>feats_suf_gen</th>\n",
       "      <th>feats_suf_num</th>\n",
       "      <th>feats_suf_per</th>\n",
       "      <th>sent_id</th>\n",
       "    </tr>\n",
       "  </thead>\n",
       "  <tbody>\n",
       "    <tr>\n",
       "      <th>0</th>\n",
       "      <td>1</td>\n",
       "      <td>עשרות</td>\n",
       "      <td>עשר</td>\n",
       "      <td>CDT</td>\n",
       "      <td>CDT</td>\n",
       "      <td>2</td>\n",
       "      <td>num</td>\n",
       "      <td>_</td>\n",
       "      <td>_</td>\n",
       "      <td>1</td>\n",
       "      <td>1</td>\n",
       "      <td>עשרות</td>\n",
       "      <td>F</td>\n",
       "      <td>P</td>\n",
       "      <td>NaN</td>\n",
       "      <td>NaN</td>\n",
       "      <td>NaN</td>\n",
       "      <td>NaN</td>\n",
       "      <td>NaN</td>\n",
       "      <td>1</td>\n",
       "    </tr>\n",
       "    <tr>\n",
       "      <th>1</th>\n",
       "      <td>2</td>\n",
       "      <td>אנשים</td>\n",
       "      <td>איש</td>\n",
       "      <td>NN</td>\n",
       "      <td>NN</td>\n",
       "      <td>3</td>\n",
       "      <td>subj</td>\n",
       "      <td>_</td>\n",
       "      <td>_</td>\n",
       "      <td>1</td>\n",
       "      <td>2</td>\n",
       "      <td>אנשים</td>\n",
       "      <td>M</td>\n",
       "      <td>P</td>\n",
       "      <td>NaN</td>\n",
       "      <td>NaN</td>\n",
       "      <td>NaN</td>\n",
       "      <td>NaN</td>\n",
       "      <td>NaN</td>\n",
       "      <td>1</td>\n",
       "    </tr>\n",
       "    <tr>\n",
       "      <th>2</th>\n",
       "      <td>3</td>\n",
       "      <td>מגיעים</td>\n",
       "      <td>הגיע</td>\n",
       "      <td>BN</td>\n",
       "      <td>BN</td>\n",
       "      <td>14</td>\n",
       "      <td>conj</td>\n",
       "      <td>_</td>\n",
       "      <td>_</td>\n",
       "      <td>1</td>\n",
       "      <td>3</td>\n",
       "      <td>מגיעים</td>\n",
       "      <td>M</td>\n",
       "      <td>P</td>\n",
       "      <td>A</td>\n",
       "      <td>NaN</td>\n",
       "      <td>NaN</td>\n",
       "      <td>NaN</td>\n",
       "      <td>NaN</td>\n",
       "      <td>1</td>\n",
       "    </tr>\n",
       "    <tr>\n",
       "      <th>3</th>\n",
       "      <td>4</td>\n",
       "      <td>מ</td>\n",
       "      <td>מ</td>\n",
       "      <td>PREPOSITION</td>\n",
       "      <td>PREPOSITION</td>\n",
       "      <td>3</td>\n",
       "      <td>comp</td>\n",
       "      <td>_</td>\n",
       "      <td>_</td>\n",
       "      <td>1</td>\n",
       "      <td>4</td>\n",
       "      <td>מתאילנד</td>\n",
       "      <td>NaN</td>\n",
       "      <td>NaN</td>\n",
       "      <td>NaN</td>\n",
       "      <td>NaN</td>\n",
       "      <td>NaN</td>\n",
       "      <td>NaN</td>\n",
       "      <td>NaN</td>\n",
       "      <td>1</td>\n",
       "    </tr>\n",
       "    <tr>\n",
       "      <th>4</th>\n",
       "      <td>5</td>\n",
       "      <td>תאילנד</td>\n",
       "      <td>תאילנד</td>\n",
       "      <td>NNP</td>\n",
       "      <td>NNP</td>\n",
       "      <td>4</td>\n",
       "      <td>pobj</td>\n",
       "      <td>_</td>\n",
       "      <td>_</td>\n",
       "      <td>1</td>\n",
       "      <td>4</td>\n",
       "      <td>מתאילנד</td>\n",
       "      <td>F</td>\n",
       "      <td>S</td>\n",
       "      <td>NaN</td>\n",
       "      <td>NaN</td>\n",
       "      <td>NaN</td>\n",
       "      <td>NaN</td>\n",
       "      <td>NaN</td>\n",
       "      <td>1</td>\n",
       "    </tr>\n",
       "  </tbody>\n",
       "</table>\n",
       "</div>"
      ],
      "text/plain": [
       "   id    form   lemma      upostag      xpostag  head deprel deps misc  sent  \\\n",
       "0   1   עשרות     עשר          CDT          CDT     2    num    _    _     1   \n",
       "1   2   אנשים     איש           NN           NN     3   subj    _    _     1   \n",
       "2   3  מגיעים    הגיע           BN           BN    14   conj    _    _     1   \n",
       "3   4       מ       מ  PREPOSITION  PREPOSITION     3   comp    _    _     1   \n",
       "4   5  תאילנד  תאילנד          NNP          NNP     4   pobj    _    _     1   \n",
       "\n",
       "   misc_token_id misc_token_str feats_gen feats_num feats_per feats_tense  \\\n",
       "0              1          עשרות         F         P       NaN         NaN   \n",
       "1              2          אנשים         M         P       NaN         NaN   \n",
       "2              3         מגיעים         M         P         A         NaN   \n",
       "3              4        מתאילנד       NaN       NaN       NaN         NaN   \n",
       "4              4        מתאילנד         F         S       NaN         NaN   \n",
       "\n",
       "  feats_suf_gen feats_suf_num  feats_suf_per  sent_id  \n",
       "0           NaN           NaN            NaN        1  \n",
       "1           NaN           NaN            NaN        1  \n",
       "2           NaN           NaN            NaN        1  \n",
       "3           NaN           NaN            NaN        1  \n",
       "4           NaN           NaN            NaN        1  "
      ]
     },
     "execution_count": 12,
     "metadata": {},
     "output_type": "execute_result"
    }
   ],
   "source": [
    "yap_dev.head()"
   ]
  },
  {
   "cell_type": "code",
   "execution_count": 13,
   "metadata": {},
   "outputs": [
    {
     "data": {
      "text/plain": [
       "sent_id\n",
       "1    [[עשרות, CDT], [אנשים, NN], [מגיעים, BN], [מ, ...\n",
       "2    [[תופעה, NN], [זו, PRP], [התבררה, VB], [אתמול,...\n",
       "3    [[יו\"ר, NNT], [ה, DEF], [וועדה, NN], [,, yyCM]...\n",
       "4    [[מ, PREPOSITION], [צד, NN], [אחד, CD], [רוצה,...\n",
       "5    [[נמיר, NNP], [הודיעה, VB], [כי, CC], [תפנה, V...\n",
       "dtype: object"
      ]
     },
     "execution_count": 13,
     "metadata": {},
     "output_type": "execute_result"
    }
   ],
   "source": [
    "yap_dev_sents =  yap_dev.groupby('sent_id')[['form', 'upostag']].apply(lambda x: x.values.tolist())\n",
    "yap_dev_sents.head()"
   ]
  },
  {
   "cell_type": "code",
   "execution_count": 14,
   "metadata": {},
   "outputs": [
    {
     "data": {
      "text/plain": [
       "sent_id\n",
       "5439    [[ה, DEF], [כל, DTT], [נושאים, NN], [עמם, VB],...\n",
       "5440    [[אומר, NNT], [מזכיר, NNT], [ה, DEF], [תק\"ם, N...\n",
       "5441    [[לא, RB], [ייתכן, MD], [ש, REL], [עולה, NN], ...\n",
       "5442    [[לא, RB], [ייתכן, MD], [ש, REL], [הוא, PRP], ...\n",
       "5443    [[לכן, CC], [קבענו, VB], [עיקרון, NN], [ש, REL...\n",
       "dtype: object"
      ]
     },
     "execution_count": 14,
     "metadata": {},
     "output_type": "execute_result"
    }
   ],
   "source": [
    "yap_test_sents =  yap_test.groupby('sent_id')[['form', 'upostag']].apply(lambda x: x.values.tolist())\n",
    "yap_test_sents.head()"
   ]
  },
  {
   "cell_type": "code",
   "execution_count": 15,
   "metadata": {},
   "outputs": [],
   "source": [
    "gold_dev  = spdf[spdf.set=='dev']\n",
    "gold_train = spdf[spdf.set=='train']\n",
    "gold_test = spdf[spdf.set=='test']"
   ]
  },
  {
   "cell_type": "code",
   "execution_count": 16,
   "metadata": {},
   "outputs": [
    {
     "data": {
      "text/plain": [
       "sent_id\n",
       "5439    [[הכל, NN, O], [נושאים, BN, O], [עמ, IN, O], [...\n",
       "5440    [[אומר, BN, O], [מזכיר, NNT, O], [התק\"ם, NNP, ...\n",
       "5441    [[לא, RB, O], [ייתכן, MD, O], [ש, REL, O], [עו...\n",
       "5442    [[לא, RB, O], [ייתכן, MD, O], [ש, REL, O], [הו...\n",
       "5443    [[לכן, CC, O], [קבענו, VB, O], [עיקרון, NN, O]...\n",
       "dtype: object"
      ]
     },
     "execution_count": 16,
     "metadata": {},
     "output_type": "execute_result"
    }
   ],
   "source": [
    "gold_dev_sents = gold_dev.groupby('sent_id')[['form', 'upostag', 'biose']].apply(lambda x: x.values.tolist())\n",
    "gold_train_sents = gold_train.groupby('sent_id')[['form', 'upostag', 'biose']].apply(lambda x: x.values.tolist())\n",
    "gold_test_sents = gold_test.groupby('sent_id')[['form', 'upostag', 'biose']].apply(lambda x: x.values.tolist())\n",
    "gold_test_sents.head()"
   ]
  },
  {
   "cell_type": "raw",
   "metadata": {},
   "source": [
    "def write_conll_output(sents, output_path):\n",
    "    with open(output_path, 'w', encoding='utf-8') as f:\n",
    "        for s in sents:\n",
    "            for m, p, n in s:\n",
    "                f.write(m +' [POS]' + p + ' ' + n + '\\n')\n",
    "            f.write('\\n')\n",
    "            \n",
    "write_conll_output(gold_dev_sents, 'data/ner/morph_dev_pos_biose.bmes')\n",
    "write_conll_output(gold_train_sents, 'data/ner/morph_train_pos_biose.bmes')\n",
    "write_conll_output(gold_test_sents, 'data/ner/morph_test_pos_biose.bmes')"
   ]
  },
  {
   "cell_type": "code",
   "execution_count": 17,
   "metadata": {},
   "outputs": [
    {
     "data": {
      "text/plain": [
       "18465"
      ]
     },
     "execution_count": 17,
     "metadata": {},
     "output_type": "execute_result"
    }
   ],
   "source": [
    "words = list(set(spdf.form.values)|set(yap_dev.form.values)|set(yap_test.form.values))\n",
    "n_words = len(words); n_words"
   ]
  },
  {
   "cell_type": "code",
   "execution_count": 18,
   "metadata": {},
   "outputs": [
    {
     "data": {
      "text/plain": [
       "37"
      ]
     },
     "execution_count": 18,
     "metadata": {},
     "output_type": "execute_result"
    }
   ],
   "source": [
    "tags = list(set(spdf.biose.values))\n",
    "n_tags = len(tags); n_tags"
   ]
  },
  {
   "cell_type": "code",
   "execution_count": 19,
   "metadata": {},
   "outputs": [
    {
     "data": {
      "text/plain": [
       "<matplotlib.axes._subplots.AxesSubplot at 0x7f49a9903908>"
      ]
     },
     "execution_count": 19,
     "metadata": {},
     "output_type": "execute_result"
    },
    {
     "data": {
      "image/png": "[encoded data removed]",
      "text/plain": [
       "<Figure size 432x288 with 1 Axes>"
      ]
     },
     "metadata": {},
     "output_type": "display_data"
    }
   ],
   "source": [
    "gold_train.groupby('sent_id').size().hist(bins=50)"
   ]
  },
  {
   "cell_type": "code",
   "execution_count": 20,
   "metadata": {},
   "outputs": [
    {
     "data": {
      "text/plain": [
       "<matplotlib.axes._subplots.AxesSubplot at 0x7f49a785a7f0>"
      ]
     },
     "execution_count": 20,
     "metadata": {},
     "output_type": "execute_result"
    },
    {
     "data": {
      "image/png": "[encoded data removed]",
      "text/plain": [
       "<Figure size 432x288 with 1 Axes>"
      ]
     },
     "metadata": {},
     "output_type": "display_data"
    }
   ],
   "source": [
    "yap_dev.groupby('sent_id').size().hist(bins=50)"
   ]
  },
  {
   "cell_type": "code",
   "execution_count": 21,
   "metadata": {},
   "outputs": [],
   "source": [
    "max_len = 80\n",
    "word2idx = {w: i + 2 for i, w in enumerate(words)}\n",
    "word2idx[\"UNK\"] = 1\n",
    "word2idx[\"PAD\"] = 0\n",
    "idx2word = {i: w for w, i in word2idx.items()}\n",
    "tag2idx = {t: i + 1 for i, t in enumerate(tags)}\n",
    "tag2idx[\"PAD\"] = 0\n",
    "idx2tag = {i: w for w, i in tag2idx.items()}"
   ]
  },
  {
   "cell_type": "code",
   "execution_count": 22,
   "metadata": {},
   "outputs": [],
   "source": [
    "from keras.preprocessing.sequence import pad_sequences\n",
    "X_gold_train = [[word2idx[w[0]] for w in s] for s in gold_train_sents]\n",
    "X_gold_dev   = [[word2idx[w[0]] for w in s] for s in gold_dev_sents]\n",
    "X_gold_test  = [[word2idx[w[0]] for w in s] for s in gold_test_sents]\n",
    "X_yap_dev    = [[word2idx[w[0]] for w in s] for s in yap_dev_sents]\n",
    "X_yap_test   = [[word2idx[w[0]] for w in s] for s in yap_test_sents]"
   ]
  },
  {
   "cell_type": "code",
   "execution_count": 23,
   "metadata": {},
   "outputs": [
    {
     "data": {
      "text/plain": [
       "array([10359, 16222, 16492, 17948,  8789,  2305,     0,     0,     0,\n",
       "           0,     0,     0,     0,     0,     0,     0,     0,     0,\n",
       "           0,     0,     0,     0,     0,     0,     0,     0,     0,\n",
       "           0,     0,     0,     0,     0,     0,     0,     0,     0,\n",
       "           0,     0,     0,     0,     0,     0,     0,     0,     0,\n",
       "           0,     0,     0,     0,     0,     0,     0,     0,     0,\n",
       "           0,     0,     0,     0,     0,     0,     0,     0,     0,\n",
       "           0,     0,     0,     0,     0,     0,     0,     0,     0,\n",
       "           0,     0,     0,     0,     0,     0,     0,     0],\n",
       "      dtype=int32)"
      ]
     },
     "execution_count": 23,
     "metadata": {},
     "output_type": "execute_result"
    }
   ],
   "source": [
    "X_gold_train = pad_sequences(maxlen=max_len, sequences=X_gold_train, value=word2idx[\"PAD\"], padding='post', truncating='post')\n",
    "X_gold_dev   = pad_sequences(maxlen=max_len, sequences=X_gold_dev  , value=word2idx[\"PAD\"], padding='post', truncating='post')\n",
    "X_gold_test  = pad_sequences(maxlen=max_len, sequences=X_gold_test , value=word2idx[\"PAD\"], padding='post', truncating='post')\n",
    "X_yap_dev    = pad_sequences(maxlen=max_len, sequences=X_yap_dev   , value=word2idx[\"PAD\"], padding='post', truncating='post')\n",
    "X_yap_test   = pad_sequences(maxlen=max_len, sequences=X_yap_test  , value=word2idx[\"PAD\"], padding='post', truncating='post')\n",
    "X_gold_train[0]"
   ]
  },
  {
   "cell_type": "code",
   "execution_count": 24,
   "metadata": {},
   "outputs": [
    {
     "data": {
      "text/plain": [
       "52"
      ]
     },
     "execution_count": 24,
     "metadata": {},
     "output_type": "execute_result"
    }
   ],
   "source": [
    "pos = list(set(spdf.upostag.values)|set(yap_dev.upostag.values)|set(yap_test.upostag.values))\n",
    "n_pos = len(pos); n_pos"
   ]
  },
  {
   "cell_type": "code",
   "execution_count": 25,
   "metadata": {
    "ExecuteTime": {
     "end_time": "2019-03-13T07:20:48.137589Z",
     "start_time": "2019-03-13T07:20:48.048826Z"
    }
   },
   "outputs": [],
   "source": [
    "pos2idx = {w: i+1 for i, w in enumerate(pos)}\n",
    "pos2idx[\"PAD\"] = 0\n",
    "idx2pos = {i: w for w, i in pos2idx.items()}"
   ]
  },
  {
   "cell_type": "code",
   "execution_count": 26,
   "metadata": {},
   "outputs": [],
   "source": [
    "from keras.preprocessing.sequence import pad_sequences\n",
    "X_pos_gold_train = [[pos2idx[w[1]] for w in s] for s in gold_train_sents]\n",
    "X_pos_gold_dev   = [[pos2idx[w[1]] for w in s] for s in gold_dev_sents]\n",
    "X_pos_gold_test  = [[pos2idx[w[1]] for w in s] for s in gold_test_sents]\n",
    "X_pos_yap_dev    = [[pos2idx[w[1]] for w in s] for s in yap_dev_sents]\n",
    "X_pos_yap_test   = [[pos2idx[w[1]] for w in s] for s in yap_test_sents]"
   ]
  },
  {
   "cell_type": "code",
   "execution_count": 27,
   "metadata": {},
   "outputs": [
    {
     "data": {
      "text/plain": [
       "array([13, 17,  8, 39, 15,  4,  0,  0,  0,  0,  0,  0,  0,  0,  0,  0,  0,\n",
       "        0,  0,  0,  0,  0,  0,  0,  0,  0,  0,  0,  0,  0,  0,  0,  0,  0,\n",
       "        0,  0,  0,  0,  0,  0,  0,  0,  0,  0,  0,  0,  0,  0,  0,  0,  0,\n",
       "        0,  0,  0,  0,  0,  0,  0,  0,  0,  0,  0,  0,  0,  0,  0,  0,  0,\n",
       "        0,  0,  0,  0,  0,  0,  0,  0,  0,  0,  0,  0], dtype=int32)"
      ]
     },
     "execution_count": 27,
     "metadata": {},
     "output_type": "execute_result"
    }
   ],
   "source": [
    "X_pos_gold_train = pad_sequences(maxlen=max_len, sequences=X_pos_gold_train, value=pos2idx[\"PAD\"], padding='post', truncating='post')\n",
    "X_pos_gold_dev   = pad_sequences(maxlen=max_len, sequences=X_pos_gold_dev  , value=pos2idx[\"PAD\"], padding='post', truncating='post')\n",
    "X_pos_gold_test  = pad_sequences(maxlen=max_len, sequences=X_pos_gold_test , value=pos2idx[\"PAD\"], padding='post', truncating='post')\n",
    "X_pos_yap_dev    = pad_sequences(maxlen=max_len, sequences=X_pos_yap_dev   , value=pos2idx[\"PAD\"], padding='post', truncating='post')\n",
    "X_pos_yap_test   = pad_sequences(maxlen=max_len, sequences=X_pos_yap_test  , value=pos2idx[\"PAD\"], padding='post', truncating='post')\n",
    "X_pos_gold_train[0]"
   ]
  },
  {
   "cell_type": "code",
   "execution_count": 28,
   "metadata": {},
   "outputs": [],
   "source": [
    "from keras.preprocessing.sequence import pad_sequences\n",
    "y_gold_train = [[tag2idx[w[2]] for w in s] for s in gold_train_sents]\n",
    "y_gold_dev   = [[tag2idx[w[2]] for w in s] for s in gold_dev_sents]\n",
    "y_gold_test  = [[tag2idx[w[2]] for w in s] for s in gold_test_sents]"
   ]
  },
  {
   "cell_type": "code",
   "execution_count": 29,
   "metadata": {},
   "outputs": [
    {
     "data": {
      "text/plain": [
       "array([17, 17, 17, 17, 17, 17,  0,  0,  0,  0,  0,  0,  0,  0,  0,  0,  0,\n",
       "        0,  0,  0,  0,  0,  0,  0,  0,  0,  0,  0,  0,  0,  0,  0,  0,  0,\n",
       "        0,  0,  0,  0,  0,  0,  0,  0,  0,  0,  0,  0,  0,  0,  0,  0,  0,\n",
       "        0,  0,  0,  0,  0,  0,  0,  0,  0,  0,  0,  0,  0,  0,  0,  0,  0,\n",
       "        0,  0,  0,  0,  0,  0,  0,  0,  0,  0,  0,  0], dtype=int32)"
      ]
     },
     "execution_count": 29,
     "metadata": {},
     "output_type": "execute_result"
    }
   ],
   "source": [
    "y_numer_gold_train = pad_sequences(maxlen=max_len, sequences=y_gold_train, value=pos2idx[\"PAD\"], padding='post', truncating='post')\n",
    "y_numer_gold_dev   = pad_sequences(maxlen=max_len, sequences=y_gold_dev  , value=pos2idx[\"PAD\"], padding='post', truncating='post')\n",
    "y_numer_gold_test  = pad_sequences(maxlen=max_len, sequences=y_gold_test , value=pos2idx[\"PAD\"], padding='post', truncating='post')\n",
    "y_numer_gold_train[0]"
   ]
  },
  {
   "cell_type": "code",
   "execution_count": 30,
   "metadata": {
    "ExecuteTime": {
     "end_time": "2019-03-13T07:20:48.330074Z",
     "start_time": "2019-03-13T07:20:48.226353Z"
    }
   },
   "outputs": [
    {
     "data": {
      "text/plain": [
       "(80, 38)"
      ]
     },
     "execution_count": 30,
     "metadata": {},
     "output_type": "execute_result"
    }
   ],
   "source": [
    "from keras.utils import to_categorical\n",
    "y_gold_train = [to_categorical(i, num_classes=n_tags+1) for i in y_numer_gold_train]\n",
    "y_gold_dev   = [to_categorical(i, num_classes=n_tags+1) for i in y_numer_gold_dev  ]\n",
    "y_gold_test  = [to_categorical(i, num_classes=n_tags+1) for i in y_numer_gold_test ]\n",
    "\n",
    "y_gold_train[0].shape"
   ]
  },
  {
   "cell_type": "code",
   "execution_count": 31,
   "metadata": {},
   "outputs": [
    {
     "data": {
      "text/plain": [
       "(80, 53)"
      ]
     },
     "execution_count": 31,
     "metadata": {},
     "output_type": "execute_result"
    }
   ],
   "source": [
    "X_pos_gold_train = [to_categorical(i, num_classes=n_pos+1) for i in X_pos_gold_train]\n",
    "X_pos_gold_dev   = [to_categorical(i, num_classes=n_pos+1) for i in X_pos_gold_dev  ]\n",
    "X_pos_gold_test  = [to_categorical(i, num_classes=n_pos+1) for i in X_pos_gold_test ]\n",
    "\n",
    "X_pos_gold_train[0].shape"
   ]
  },
  {
   "cell_type": "code",
   "execution_count": 32,
   "metadata": {},
   "outputs": [
    {
     "data": {
      "text/plain": [
       "0.09196247930844216"
      ]
     },
     "execution_count": 32,
     "metadata": {},
     "output_type": "execute_result"
    }
   ],
   "source": [
    "validation_split = len(X_gold_dev) / (len(X_gold_train)+len(X_gold_dev))\n",
    "validation_split"
   ]
  },
  {
   "cell_type": "code",
   "execution_count": 33,
   "metadata": {},
   "outputs": [],
   "source": [
    "splits = [[X_gold_train, X_gold_dev,\n",
    "           X_pos_gold_train, X_pos_gold_dev,\n",
    "           X_pos_gold_train, X_pos_gold_dev,\n",
    "            ]]"
   ]
  },
  {
   "cell_type": "markdown",
   "metadata": {},
   "source": [
    "### Prep char input"
   ]
  },
  {
   "cell_type": "code",
   "execution_count": 34,
   "metadata": {
    "ExecuteTime": {
     "end_time": "2019-01-31T13:58:31.324599Z",
     "start_time": "2019-01-31T13:58:31.077207Z"
    }
   },
   "outputs": [
    {
     "data": {
      "text/plain": [
       "<matplotlib.axes._subplots.AxesSubplot at 0x7f49a77611d0>"
      ]
     },
     "execution_count": 34,
     "metadata": {},
     "output_type": "execute_result"
    },
    {
     "data": {
      "image/png": "[encoded data removed]",
      "text/plain": [
       "<Figure size 432x288 with 1 Axes>"
      ]
     },
     "metadata": {},
     "output_type": "display_data"
    }
   ],
   "source": [
    "spdf.form.apply(len).hist(bins=18)"
   ]
  },
  {
   "cell_type": "code",
   "execution_count": 35,
   "metadata": {
    "ExecuteTime": {
     "end_time": "2019-01-31T13:58:31.340217Z",
     "start_time": "2019-01-31T13:58:31.324599Z"
    }
   },
   "outputs": [],
   "source": [
    "max_len_char = 12"
   ]
  },
  {
   "cell_type": "code",
   "execution_count": 36,
   "metadata": {
    "ExecuteTime": {
     "end_time": "2019-01-31T13:58:32.660554Z",
     "start_time": "2019-01-31T13:58:32.613692Z"
    }
   },
   "outputs": [
    {
     "name": "stdout",
     "output_type": "stream",
     "text": [
      "50\n"
     ]
    }
   ],
   "source": [
    "chars = set([w_i for w in words for w_i in w])\n",
    "n_chars = len(chars)\n",
    "print(n_chars)"
   ]
  },
  {
   "cell_type": "code",
   "execution_count": 37,
   "metadata": {
    "ExecuteTime": {
     "end_time": "2019-01-31T13:58:33.732950Z",
     "start_time": "2019-01-31T13:58:33.717366Z"
    }
   },
   "outputs": [],
   "source": [
    "char2idx = {c: i + 2 for i, c in enumerate(chars)}\n",
    "char2idx[\"UNK\"] = 1\n",
    "char2idx[\"PAD\"] = 0"
   ]
  },
  {
   "cell_type": "code",
   "execution_count": 38,
   "metadata": {
    "ExecuteTime": {
     "end_time": "2019-01-31T13:58:36.324286Z",
     "start_time": "2019-01-31T13:58:34.303392Z"
    }
   },
   "outputs": [],
   "source": [
    "def get_X_char(sents):\n",
    "    X_char = []\n",
    "    for sentence in sents:\n",
    "        sent_seq = []\n",
    "        for i in range(max_len):\n",
    "            word_seq = []\n",
    "            for j in range(max_len_char):\n",
    "                try:\n",
    "                    word_seq.append(char2idx.get(sentence[i][0][j]))\n",
    "                except:\n",
    "                    word_seq.append(char2idx.get(\"PAD\"))\n",
    "            sent_seq.append(word_seq)\n",
    "        X_char.append(np.array(sent_seq))\n",
    "    return X_char"
   ]
  },
  {
   "cell_type": "code",
   "execution_count": 39,
   "metadata": {},
   "outputs": [],
   "source": [
    "X_char_gold_dev   = get_X_char(gold_dev_sents  )\n",
    "X_char_gold_train = get_X_char(gold_train_sents)\n",
    "X_char_gold_test  = get_X_char(gold_test_sents )\n",
    "X_char_yap_dev    = get_X_char(yap_dev_sents   )\n",
    "X_char_yap_test   = get_X_char(yap_test_sents  )\n",
    "\n",
    "\n",
    "\n",
    "splits_char = [[X_char_gold_train, X_char_gold_dev,\n",
    "                X_pos_gold_train, X_pos_gold_dev]]"
   ]
  },
  {
   "cell_type": "markdown",
   "metadata": {},
   "source": [
    "## Embeddings"
   ]
  },
  {
   "cell_type": "code",
   "execution_count": 40,
   "metadata": {},
   "outputs": [
    {
     "data": {
      "text/plain": [
       "{'yap_w2v_sg': '../wordembedding-hebrew/vectors_orig_tok/wikipedia.yap_form.word2vec_skipgram.txt',\n",
       " 'yap_w2v_cbow': '../wordembedding-hebrew/vectors_orig_tok/wikipedia.yap_form.word2vec_cbow.txt',\n",
       " 'yap_glove': '../wordembedding-hebrew/vectors_orig_tok/wikipedia.yap_form.glove.txt',\n",
       " 'yap_ft_sg': '../wordembedding-hebrew/vectors_orig_tok/wikipedia.yap_form.fasttext_skipgram.model.vec',\n",
       " 'yap_ft_cbow': '../wordembedding-hebrew/vectors_orig_tok/wikipedia.yap_form.fasttext_cbow.model.vec',\n",
       " 'token_w2v_sg': '../wordembedding-hebrew/vectors_orig_tok/wikipedia.tokenized.word2vec_skipgram.txt',\n",
       " 'token_w2v_cbow': '../wordembedding-hebrew/vectors_orig_tok/wikipedia.tokenized.word2vec_cbow.txt',\n",
       " 'token_glove': '../wordembedding-hebrew/vectors_orig_tok/wikipedia.tokenized.glove.txt',\n",
       " 'token_ft_sg': '../wordembedding-hebrew/vectors_orig_tok/wikipedia.tokenized.fasttext_skipgram.model.vec',\n",
       " 'token_ft_cbow': '../wordembedding-hebrew/vectors_orig_tok/wikipedia.tokenized.fasttext_cbow.model.vec',\n",
       " 'pretrained_token_ft': '../fasttext/wiki.he.vec',\n",
       " 'pretrained_token_ft_cc': '../fasttext/cc.he.300.vec',\n",
       " 'alt_tok_yap_w2v_sg': '../wordembedding-hebrew/vectors_alt_tok/wikipedia.alt_tok.yap_form.word2vec_skipgram.txt',\n",
       " 'alt_tok_yap_w2v_cbow': '../wordembedding-hebrew/vectors_alt_tok/wikipedia.alt_tok.yap_form.word2vec_cbow.txt',\n",
       " 'alt_tok_yap_glove': '../wordembedding-hebrew/vectors_alt_tok/wikipedia.alt_tok.yap_form.glove.txt',\n",
       " 'alt_tok_yap_ft_sg': '../wordembedding-hebrew/vectors_alt_tok/wikipedia.alt_tok.yap_form.fasttext_skipgram.model.vec',\n",
       " 'alt_tok_yap_ft_cbow': '../wordembedding-hebrew/vectors_alt_tok/wikipedia.alt_tok.yap_form.fasttext_cbow.model.vec',\n",
       " 'alt_tok_token_w2v_sg': '../wordembedding-hebrew/vectors_alt_tok/wikipedia.alt_tok.tokenized.word2vec_skipgram.txt',\n",
       " 'alt_tok_token_w2v_cbow': '../wordembedding-hebrew/vectors_alt_tok/wikipedia.alt_tok.tokenized.word2vec_cbow.txt',\n",
       " 'alt_tok_token_glove': '../wordembedding-hebrew/vectors_alt_tok/wikipedia.alt_tok.tokenized.glove.txt',\n",
       " 'alt_tok_token_ft_sg': '../wordembedding-hebrew/vectors_alt_tok/wikipedia.alt_tok.tokenized.fasttext_skipgram.model.vec',\n",
       " 'alt_tok_token_ft_cbow': '../wordembedding-hebrew/vectors_alt_tok/wikipedia.alt_tok.tokenized.fasttext_cbow.model.vec',\n",
       " 'alt_tok_tuned_yap_ft_sg': '../wordembedding-hebrew/vectors_alt_tok/wikipedia.alt_tok.yap_form.fasttext_skipgram.tuned.model.vec',\n",
       " 'alt_tok_tuned_yap_ft_cbow': '../wordembedding-hebrew/vectors_alt_tok/wikipedia.alt_tok.yap_form.fasttext_cbow.tuned.model.vec',\n",
       " 'alt_tok_tuned_yap_w2v_sg': '../wordembedding-hebrew/vectors_alt_tok/wikipedia.alt_tok.yap_form.word2vec_skipgram.tuned.txt',\n",
       " 'alt_tok_tuned_yap_w2v_cbow': '../wordembedding-hebrew/vectors_alt_tok/wikipedia.alt_tok.yap_form.word2vec_cbow.tuned.txt',\n",
       " 'alt_tok_tuned_yap_glove': '../wordembedding-hebrew/vectors_alt_tok/wikipedia.alt_tok.yap_form.glove.tuned.txt'}"
      ]
     },
     "execution_count": 40,
     "metadata": {},
     "output_type": "execute_result"
    }
   ],
   "source": [
    "embedding_paths"
   ]
  },
  {
   "cell_type": "code",
   "execution_count": 41,
   "metadata": {},
   "outputs": [],
   "source": [
    "exclude = ['tuned', 'cbow', 'yap', 'pretrained']\n",
    "include = 'alt_tok_token_ft'"
   ]
  },
  {
   "cell_type": "code",
   "execution_count": 42,
   "metadata": {},
   "outputs": [
    {
     "name": "stdout",
     "output_type": "stream",
     "text": [
      "loading word embeddings: ../wordembedding-hebrew/vectors_alt_tok/wikipedia.alt_tok.tokenized.fasttext_skipgram.model.vec\n",
      "found 359321 word vectors\n",
      "preparing embedding matrix...\n",
      "number of null word embeddings: 1670\n",
      "sample words not found:  ['לוורקוזן' 'יהירותה' 'השימו' 'נתבייש' 'נובלגין' 'רושמה' 'מאסארו' 'היזו'\n",
      " 'שוודים' 'מעסיקי']\n"
     ]
    }
   ],
   "source": [
    "embedding_mats = {}\n",
    "for emb_name, emb_path in embedding_paths.items():\n",
    "    skip=False\n",
    "    if include not in emb_name:\n",
    "        continue\n",
    "        \n",
    "    for exc in exclude:\n",
    "        if exc in emb_path:\n",
    "            skip=True\n",
    "    if skip:\n",
    "        continue\n",
    "    embedding_mats[emb_name] = get_embedding_matrix(emb_path, word2idx)"
   ]
  },
  {
   "cell_type": "markdown",
   "metadata": {},
   "source": [
    "## Model building"
   ]
  },
  {
   "cell_type": "code",
   "execution_count": 49,
   "metadata": {},
   "outputs": [],
   "source": [
    "from ner_utils import *"
   ]
  },
  {
   "cell_type": "code",
   "execution_count": 50,
   "metadata": {},
   "outputs": [
    {
     "data": {
      "text/plain": [
       "[{'optimizer': 'adam',\n",
       "  'output_dropout': True,\n",
       "  'add_random_embedding': False,\n",
       "  'use_char': True,\n",
       "  'crf': True,\n",
       "  'use_pos': False,\n",
       "  'embedding_matrix': 'alt_tok_token_ft_sg',\n",
       "  'trainable': False,\n",
       "  'stack_lstm': 2},\n",
       " {'optimizer': 'adam',\n",
       "  'output_dropout': True,\n",
       "  'add_random_embedding': False,\n",
       "  'use_char': False,\n",
       "  'crf': True,\n",
       "  'use_pos': False,\n",
       "  'embedding_matrix': 'alt_tok_token_ft_sg',\n",
       "  'trainable': False,\n",
       "  'stack_lstm': 2}]"
      ]
     },
     "execution_count": 50,
     "metadata": {},
     "output_type": "execute_result"
    }
   ],
   "source": [
    "configs = build_configs(predict_pos_with_emb, embedding_mats)\n",
    "configs     "
   ]
  },
  {
   "cell_type": "code",
   "execution_count": 51,
   "metadata": {},
   "outputs": [],
   "source": [
    "for conf in configs:\n",
    "    conf['patience'] = 10"
   ]
  },
  {
   "cell_type": "code",
   "execution_count": 52,
   "metadata": {},
   "outputs": [],
   "source": [
    "out_folder = 'results/predict_pos'\n",
    "if not os.path.exists(out_folder):\n",
    "    os.mkdir(out_folder)"
   ]
  },
  {
   "cell_type": "code",
   "execution_count": 53,
   "metadata": {},
   "outputs": [],
   "source": [
    "extra_preds = [(X_gold_test, X_pos_gold_test, X_char_gold_test), \n",
    "               (X_yap_dev, X_pos_yap_dev, X_char_yap_dev),\n",
    "               (X_yap_test, X_pos_yap_test, X_char_yap_test)]"
   ]
  },
  {
   "cell_type": "code",
   "execution_count": 54,
   "metadata": {},
   "outputs": [],
   "source": [
    "from ner_utils import *"
   ]
  },
  {
   "cell_type": "code",
   "execution_count": 55,
   "metadata": {},
   "outputs": [
    {
     "data": {
      "text/plain": [
       "(37, 52)"
      ]
     },
     "execution_count": 55,
     "metadata": {},
     "output_type": "execute_result"
    }
   ],
   "source": [
    "n_tags, n_pos"
   ]
  },
  {
   "cell_type": "code",
   "execution_count": 56,
   "metadata": {
    "ExecuteTime": {
     "end_time": "2019-03-13T11:31:02.793857Z",
     "start_time": "2019-03-13T11:16:17.267695Z"
    },
    "scrolled": true
   },
   "outputs": [
    {
     "name": "stdout",
     "output_type": "stream",
     "text": [
      "__________________________________________________________________________________________________\n",
      "Layer (type)                    Output Shape         Param #     Connected to                     \n",
      "==================================================================================================\n",
      "input_2 (InputLayer)            (None, 80, 12)       0                                            \n",
      "__________________________________________________________________________________________________\n",
      "input_1 (InputLayer)            (None, 80)           0                                            \n",
      "__________________________________________________________________________________________________\n",
      "time_distributed_1 (TimeDistrib (None, 80, 12, 20)   1040        input_2[0][0]                    \n",
      "__________________________________________________________________________________________________\n",
      "embedding_1 (Embedding)         (None, 80, 300)      5540100     input_1[0][0]                    \n",
      "__________________________________________________________________________________________________\n",
      "time_distributed_2 (TimeDistrib (None, 80, 20)       2480        time_distributed_1[0][0]         \n",
      "__________________________________________________________________________________________________\n",
      "concatenate_1 (Concatenate)     (None, 80, 320)      0           embedding_1[0][0]                \n",
      "                                                                 time_distributed_2[0][0]         \n",
      "__________________________________________________________________________________________________\n",
      "spatial_dropout1d_1 (SpatialDro (None, 80, 320)      0           concatenate_1[0][0]              \n",
      "__________________________________________________________________________________________________\n",
      "bidirectional_2 (Bidirectional) (None, 80, 200)      336800      spatial_dropout1d_1[0][0]        \n",
      "__________________________________________________________________________________________________\n",
      "bidirectional_3 (Bidirectional) (None, 80, 200)      240800      bidirectional_2[0][0]            \n",
      "__________________________________________________________________________________________________\n",
      "dropout_1 (Dropout)             (None, 80, 200)      0           bidirectional_3[0][0]            \n",
      "__________________________________________________________________________________________________\n",
      "time_distributed_3 (TimeDistrib (None, 80, 50)       10050       dropout_1[0][0]                  \n",
      "__________________________________________________________________________________________________\n",
      "crf_1 (CRF)                     (None, 80, 53)       5618        time_distributed_3[0][0]         \n",
      "==================================================================================================\n",
      "Total params: 6,136,888\n",
      "Trainable params: 596,788\n",
      "Non-trainable params: 5,540,100\n",
      "__________________________________________________________________________________________________\n",
      "None\n",
      "Train on 4482 samples, validate on 455 samples\n",
      "Epoch 1/100\n",
      " - 98s - loss: 0.9740 - crf_accuracy: 0.7632 - val_loss: 0.4415 - val_crf_accuracy: 0.8729\n",
      "Epoch 2/100\n",
      " - 89s - loss: 0.2941 - crf_accuracy: 0.9185 - val_loss: 0.1465 - val_crf_accuracy: 0.9621\n",
      "Epoch 3/100\n",
      " - 88s - loss: 0.1471 - crf_accuracy: 0.9572 - val_loss: 0.0973 - val_crf_accuracy: 0.9738\n",
      "Epoch 4/100\n",
      " - 87s - loss: 0.1066 - crf_accuracy: 0.9686 - val_loss: 0.0831 - val_crf_accuracy: 0.9757\n",
      "Epoch 5/100\n",
      " - 84s - loss: 0.0912 - crf_accuracy: 0.9725 - val_loss: 0.0686 - val_crf_accuracy: 0.9798\n",
      "Epoch 6/100\n",
      " - 87s - loss: 0.0772 - crf_accuracy: 0.9762 - val_loss: 0.0652 - val_crf_accuracy: 0.9810\n",
      "Epoch 7/100\n",
      " - 89s - loss: 0.0696 - crf_accuracy: 0.9781 - val_loss: 0.0596 - val_crf_accuracy: 0.9824\n",
      "Epoch 8/100\n",
      " - 86s - loss: 0.0637 - crf_accuracy: 0.9797 - val_loss: 0.0528 - val_crf_accuracy: 0.9839\n",
      "Epoch 9/100\n",
      " - 87s - loss: 0.0582 - crf_accuracy: 0.9810 - val_loss: 0.0521 - val_crf_accuracy: 0.9837\n",
      "Epoch 10/100\n",
      " - 86s - loss: 0.0537 - crf_accuracy: 0.9825 - val_loss: 0.0501 - val_crf_accuracy: 0.9839\n",
      "Epoch 11/100\n",
      " - 86s - loss: 0.0495 - crf_accuracy: 0.9832 - val_loss: 0.0466 - val_crf_accuracy: 0.9848\n",
      "Epoch 12/100\n",
      " - 85s - loss: 0.0451 - crf_accuracy: 0.9845 - val_loss: 0.0440 - val_crf_accuracy: 0.9856\n",
      "Epoch 13/100\n",
      " - 87s - loss: 0.0426 - crf_accuracy: 0.9854 - val_loss: 0.0415 - val_crf_accuracy: 0.9865\n",
      "Epoch 14/100\n",
      " - 86s - loss: 0.0392 - crf_accuracy: 0.9859 - val_loss: 0.0410 - val_crf_accuracy: 0.9865\n",
      "Epoch 15/100\n",
      " - 84s - loss: 0.0368 - crf_accuracy: 0.9864 - val_loss: 0.0388 - val_crf_accuracy: 0.9868\n",
      "Epoch 16/100\n",
      " - 86s - loss: 0.0337 - crf_accuracy: 0.9871 - val_loss: 0.0381 - val_crf_accuracy: 0.9870\n",
      "Epoch 17/100\n",
      " - 88s - loss: 0.0309 - crf_accuracy: 0.9877 - val_loss: 0.0386 - val_crf_accuracy: 0.9866\n",
      "Epoch 18/100\n",
      " - 86s - loss: 0.0285 - crf_accuracy: 0.9881 - val_loss: 0.0358 - val_crf_accuracy: 0.9876\n",
      "Epoch 19/100\n",
      " - 86s - loss: 0.0245 - crf_accuracy: 0.9891 - val_loss: 0.0331 - val_crf_accuracy: 0.9876\n",
      "Epoch 20/100\n",
      " - 86s - loss: 0.0236 - crf_accuracy: 0.9890 - val_loss: 0.0332 - val_crf_accuracy: 0.9874\n",
      "Epoch 21/100\n",
      " - 87s - loss: 0.0204 - crf_accuracy: 0.9896 - val_loss: 0.0312 - val_crf_accuracy: 0.9877\n",
      "Epoch 22/100\n",
      " - 85s - loss: 0.0182 - crf_accuracy: 0.9900 - val_loss: 0.0291 - val_crf_accuracy: 0.9883\n",
      "Epoch 23/100\n",
      " - 88s - loss: 0.0159 - crf_accuracy: 0.9903 - val_loss: 0.0289 - val_crf_accuracy: 0.9885\n",
      "Epoch 24/100\n",
      " - 84s - loss: 0.0133 - crf_accuracy: 0.9910 - val_loss: 0.0266 - val_crf_accuracy: 0.9884\n",
      "Epoch 25/100\n",
      " - 86s - loss: 0.0109 - crf_accuracy: 0.9913 - val_loss: 0.0249 - val_crf_accuracy: 0.9890\n",
      "Epoch 26/100\n",
      " - 88s - loss: 0.0092 - crf_accuracy: 0.9914 - val_loss: 0.0246 - val_crf_accuracy: 0.9890\n",
      "Epoch 27/100\n",
      " - 87s - loss: 0.0057 - crf_accuracy: 0.9921 - val_loss: 0.0235 - val_crf_accuracy: 0.9889\n",
      "Epoch 28/100\n",
      " - 86s - loss: 0.0035 - crf_accuracy: 0.9924 - val_loss: 0.0264 - val_crf_accuracy: 0.9877\n",
      "Epoch 29/100\n",
      " - 87s - loss: 0.0028 - crf_accuracy: 0.9921 - val_loss: 0.0215 - val_crf_accuracy: 0.9888\n",
      "Epoch 30/100\n",
      " - 86s - loss: -7.3471e-04 - crf_accuracy: 0.9928 - val_loss: 0.0195 - val_crf_accuracy: 0.9890\n",
      "Epoch 31/100\n",
      " - 88s - loss: -3.0419e-03 - crf_accuracy: 0.9930 - val_loss: 0.0183 - val_crf_accuracy: 0.9891\n",
      "Epoch 32/100\n",
      " - 85s - loss: -5.1569e-03 - crf_accuracy: 0.9932 - val_loss: 0.0172 - val_crf_accuracy: 0.9892\n",
      "Epoch 33/100\n",
      " - 86s - loss: -7.3117e-03 - crf_accuracy: 0.9935 - val_loss: 0.0158 - val_crf_accuracy: 0.9890\n",
      "Epoch 34/100\n",
      " - 86s - loss: -1.0100e-02 - crf_accuracy: 0.9939 - val_loss: 0.0155 - val_crf_accuracy: 0.9889\n",
      "Epoch 35/100\n",
      " - 86s - loss: -1.2545e-02 - crf_accuracy: 0.9941 - val_loss: 0.0134 - val_crf_accuracy: 0.9893\n",
      "Epoch 36/100\n",
      " - 87s - loss: -1.5246e-02 - crf_accuracy: 0.9947 - val_loss: 0.0127 - val_crf_accuracy: 0.9894\n",
      "Epoch 37/100\n",
      " - 87s - loss: -1.6814e-02 - crf_accuracy: 0.9946 - val_loss: 0.0116 - val_crf_accuracy: 0.9891\n",
      "Epoch 38/100\n",
      " - 85s - loss: -1.8692e-02 - crf_accuracy: 0.9946 - val_loss: 0.0096 - val_crf_accuracy: 0.9893\n",
      "Epoch 39/100\n",
      " - 87s - loss: -2.1335e-02 - crf_accuracy: 0.9950 - val_loss: 0.0090 - val_crf_accuracy: 0.9891\n",
      "Epoch 40/100\n",
      " - 87s - loss: -2.3430e-02 - crf_accuracy: 0.9950 - val_loss: 0.0065 - val_crf_accuracy: 0.9896\n",
      "Epoch 41/100\n",
      " - 87s - loss: -2.5934e-02 - crf_accuracy: 0.9955 - val_loss: 0.0046 - val_crf_accuracy: 0.9896\n",
      "Epoch 42/100\n",
      " - 88s - loss: -2.8057e-02 - crf_accuracy: 0.9956 - val_loss: 0.0037 - val_crf_accuracy: 0.9894\n",
      "Epoch 43/100\n",
      " - 88s - loss: -3.0096e-02 - crf_accuracy: 0.9957 - val_loss: 0.0024 - val_crf_accuracy: 0.9898\n",
      "Epoch 44/100\n",
      " - 86s - loss: -3.1707e-02 - crf_accuracy: 0.9955 - val_loss: 0.0016 - val_crf_accuracy: 0.9896\n",
      "Epoch 45/100\n",
      " - 87s - loss: -3.4140e-02 - crf_accuracy: 0.9960 - val_loss: -1.8934e-03 - val_crf_accuracy: 0.9903\n",
      "Epoch 46/100\n",
      " - 86s - loss: -3.6557e-02 - crf_accuracy: 0.9961 - val_loss: -2.6460e-03 - val_crf_accuracy: 0.9899\n",
      "Epoch 47/100\n",
      " - 85s - loss: -3.8363e-02 - crf_accuracy: 0.9961 - val_loss: -2.2144e-03 - val_crf_accuracy: 0.9898\n",
      "Epoch 48/100\n",
      " - 87s - loss: -4.0329e-02 - crf_accuracy: 0.9962 - val_loss: -4.2458e-03 - val_crf_accuracy: 0.9901\n",
      "Epoch 49/100\n",
      " - 88s - loss: -4.2522e-02 - crf_accuracy: 0.9963 - val_loss: -5.0678e-03 - val_crf_accuracy: 0.9896\n",
      "Epoch 50/100\n",
      " - 87s - loss: -4.4918e-02 - crf_accuracy: 0.9965 - val_loss: -5.9112e-03 - val_crf_accuracy: 0.9896\n",
      "Epoch 51/100\n",
      " - 86s - loss: -4.6169e-02 - crf_accuracy: 0.9964 - val_loss: -8.6771e-03 - val_crf_accuracy: 0.9902\n",
      "Epoch 52/100\n",
      " - 86s - loss: -4.8561e-02 - crf_accuracy: 0.9967 - val_loss: -9.6558e-03 - val_crf_accuracy: 0.9900\n",
      "Epoch 53/100\n",
      " - 87s - loss: -5.0590e-02 - crf_accuracy: 0.9967 - val_loss: -9.0279e-03 - val_crf_accuracy: 0.9896\n",
      "Epoch 54/100\n",
      " - 85s - loss: -5.2777e-02 - crf_accuracy: 0.9969 - val_loss: -1.3925e-02 - val_crf_accuracy: 0.9900\n",
      "Epoch 55/100\n",
      " - 86s - loss: -5.5267e-02 - crf_accuracy: 0.9971 - val_loss: -1.3489e-02 - val_crf_accuracy: 0.9898\n",
      "Restoring model weights from the end of the best epoch\n",
      "Epoch 00055: early stopping\n"
     ]
    },
    {
     "data": {
      "image/png": "[encoded data removed]",
      "text/plain": [
       "<Figure size 432x288 with 1 Axes>"
      ]
     },
     "metadata": {},
     "output_type": "display_data"
    },
    {
     "name": "stdout",
     "output_type": "stream",
     "text": [
      "_________________________________________________________________\n",
      "Layer (type)                 Output Shape              Param #   \n",
      "=================================================================\n",
      "input_3 (InputLayer)         (None, 80)                0         \n",
      "_________________________________________________________________\n",
      "embedding_3 (Embedding)      (None, 80, 300)           5540100   \n",
      "_________________________________________________________________\n",
      "bidirectional_4 (Bidirection (None, 80, 200)           320800    \n",
      "_________________________________________________________________\n",
      "bidirectional_5 (Bidirection (None, 80, 200)           240800    \n",
      "_________________________________________________________________\n",
      "dropout_2 (Dropout)          (None, 80, 200)           0         \n",
      "_________________________________________________________________\n",
      "time_distributed_4 (TimeDist (None, 80, 50)            10050     \n",
      "_________________________________________________________________\n",
      "crf_2 (CRF)                  (None, 80, 53)            5618      \n",
      "=================================================================\n",
      "Total params: 6,117,368\n",
      "Trainable params: 577,268\n",
      "Non-trainable params: 5,540,100\n",
      "_________________________________________________________________\n",
      "None\n",
      "Train on 4482 samples, validate on 455 samples\n",
      "Epoch 1/100\n",
      " - 86s - loss: 0.9974 - crf_accuracy: 0.7593 - val_loss: 0.4339 - val_crf_accuracy: 0.8876\n",
      "Epoch 2/100\n",
      " - 80s - loss: 0.2704 - crf_accuracy: 0.9275 - val_loss: 0.1413 - val_crf_accuracy: 0.9616\n",
      "Epoch 3/100\n",
      " - 80s - loss: 0.1237 - crf_accuracy: 0.9672 - val_loss: 0.0945 - val_crf_accuracy: 0.9752\n",
      "Epoch 4/100\n",
      " - 81s - loss: 0.0859 - crf_accuracy: 0.9773 - val_loss: 0.0767 - val_crf_accuracy: 0.9789\n",
      "Epoch 5/100\n",
      " - 79s - loss: 0.0694 - crf_accuracy: 0.9812 - val_loss: 0.0715 - val_crf_accuracy: 0.9803\n",
      "Epoch 6/100\n",
      " - 80s - loss: 0.0592 - crf_accuracy: 0.9837 - val_loss: 0.0620 - val_crf_accuracy: 0.9821\n",
      "Epoch 7/100\n",
      " - 77s - loss: 0.0513 - crf_accuracy: 0.9856 - val_loss: 0.0569 - val_crf_accuracy: 0.9841\n",
      "Epoch 8/100\n",
      " - 75s - loss: 0.0458 - crf_accuracy: 0.9870 - val_loss: 0.0534 - val_crf_accuracy: 0.9853\n",
      "Epoch 9/100\n",
      " - 74s - loss: 0.0408 - crf_accuracy: 0.9882 - val_loss: 0.0522 - val_crf_accuracy: 0.9851\n",
      "Epoch 10/100\n",
      " - 73s - loss: 0.0361 - crf_accuracy: 0.9893 - val_loss: 0.0505 - val_crf_accuracy: 0.9857\n",
      "Epoch 11/100\n",
      " - 72s - loss: 0.0324 - crf_accuracy: 0.9902 - val_loss: 0.0504 - val_crf_accuracy: 0.9858\n",
      "Epoch 12/100\n",
      " - 73s - loss: 0.0285 - crf_accuracy: 0.9913 - val_loss: 0.0496 - val_crf_accuracy: 0.9862\n",
      "Epoch 13/100\n",
      " - 73s - loss: 0.0254 - crf_accuracy: 0.9920 - val_loss: 0.0473 - val_crf_accuracy: 0.9865\n",
      "Epoch 14/100\n",
      " - 73s - loss: 0.0219 - crf_accuracy: 0.9928 - val_loss: 0.0456 - val_crf_accuracy: 0.9873\n",
      "Epoch 15/100\n",
      " - 72s - loss: 0.0188 - crf_accuracy: 0.9936 - val_loss: 0.0479 - val_crf_accuracy: 0.9866\n",
      "Epoch 16/100\n",
      " - 72s - loss: 0.0167 - crf_accuracy: 0.9939 - val_loss: 0.0490 - val_crf_accuracy: 0.9862\n",
      "Epoch 17/100\n",
      " - 73s - loss: 0.0134 - crf_accuracy: 0.9947 - val_loss: 0.0479 - val_crf_accuracy: 0.9870\n",
      "Epoch 18/100\n",
      " - 72s - loss: 0.0120 - crf_accuracy: 0.9949 - val_loss: 0.0451 - val_crf_accuracy: 0.9876\n",
      "Epoch 19/100\n",
      " - 73s - loss: 0.0077 - crf_accuracy: 0.9959 - val_loss: 0.0460 - val_crf_accuracy: 0.9876\n",
      "Epoch 20/100\n",
      " - 73s - loss: 0.0055 - crf_accuracy: 0.9962 - val_loss: 0.0461 - val_crf_accuracy: 0.9880\n",
      "Epoch 21/100\n",
      " - 73s - loss: 0.0035 - crf_accuracy: 0.9966 - val_loss: 0.0497 - val_crf_accuracy: 0.9869\n",
      "Epoch 22/100\n",
      " - 73s - loss: 7.7747e-04 - crf_accuracy: 0.9971 - val_loss: 0.0477 - val_crf_accuracy: 0.9875\n",
      "Epoch 23/100\n",
      " - 73s - loss: -1.6614e-03 - crf_accuracy: 0.9975 - val_loss: 0.0479 - val_crf_accuracy: 0.9873\n",
      "Epoch 24/100\n",
      " - 74s - loss: -3.5814e-03 - crf_accuracy: 0.9976 - val_loss: 0.0511 - val_crf_accuracy: 0.9866\n",
      "Epoch 25/100\n",
      " - 76s - loss: -5.8816e-03 - crf_accuracy: 0.9980 - val_loss: 0.0513 - val_crf_accuracy: 0.9870\n",
      "Epoch 26/100\n",
      " - 79s - loss: -8.1993e-03 - crf_accuracy: 0.9983 - val_loss: 0.0514 - val_crf_accuracy: 0.9875\n",
      "Epoch 27/100\n",
      " - 81s - loss: -9.9747e-03 - crf_accuracy: 0.9985 - val_loss: 0.0539 - val_crf_accuracy: 0.9870\n",
      "Epoch 28/100\n",
      " - 76s - loss: -1.1131e-02 - crf_accuracy: 0.9984 - val_loss: 0.0522 - val_crf_accuracy: 0.9873\n",
      "Epoch 29/100\n",
      " - 73s - loss: -1.3534e-02 - crf_accuracy: 0.9987 - val_loss: 0.0520 - val_crf_accuracy: 0.9874\n",
      "Epoch 30/100\n",
      " - 73s - loss: -1.5990e-02 - crf_accuracy: 0.9991 - val_loss: 0.0528 - val_crf_accuracy: 0.9874\n",
      "Restoring model weights from the end of the best epoch\n",
      "Epoch 00030: early stopping\n"
     ]
    },
    {
     "data": {
      "image/png": "[encoded data removed]",
      "text/plain": [
       "<Figure size 432x288 with 1 Axes>"
      ]
     },
     "metadata": {},
     "output_type": "display_data"
    }
   ],
   "source": [
    "configs, results, preds, histories = run_models_pos(configs, splits, splits_char, embedding_mats, \n",
    "                                                words, max_len, n_words, idx2word, idx2pos,\n",
    "                                                n_pos, max_len_char, n_pos, n_chars,\n",
    "                                                run_name='treebank_morphemes_predict_pos2', out_folder=out_folder,\n",
    "                                                skip_if_model_exists=True,\n",
    "                                                validation_split=validation_split,\n",
    "                                                extra_predictions=extra_preds, \n",
    "                                                #epochs=2,\n",
    "                                                )"
   ]
  },
  {
   "cell_type": "code",
   "execution_count": null,
   "metadata": {},
   "outputs": [],
   "source": [
    "from keras import backend as K\n",
    "K.clear_session()"
   ]
  },
  {
   "cell_type": "code",
   "execution_count": null,
   "metadata": {},
   "outputs": [],
   "source": [
    "1"
   ]
  },
  {
   "cell_type": "code",
   "execution_count": null,
   "metadata": {},
   "outputs": [],
   "source": []
  },
  {
   "cell_type": "code",
   "execution_count": null,
   "metadata": {},
   "outputs": [],
   "source": []
  },
  {
   "cell_type": "markdown",
   "metadata": {},
   "source": [
    "###### "
   ]
  },
  {
   "cell_type": "code",
   "execution_count": null,
   "metadata": {},
   "outputs": [],
   "source": []
  },
  {
   "cell_type": "code",
   "execution_count": null,
   "metadata": {},
   "outputs": [],
   "source": []
  },
  {
   "cell_type": "code",
   "execution_count": null,
   "metadata": {},
   "outputs": [],
   "source": []
  },
  {
   "cell_type": "code",
   "execution_count": null,
   "metadata": {},
   "outputs": [],
   "source": []
  },
  {
   "cell_type": "code",
   "execution_count": null,
   "metadata": {},
   "outputs": [],
   "source": []
  },
  {
   "cell_type": "code",
   "execution_count": null,
   "metadata": {},
   "outputs": [],
   "source": []
  }
 ],
 "metadata": {
  "kernelspec": {
   "display_name": "Python 3",
   "language": "python",
   "name": "python3"
  },
  "language_info": {
   "codemirror_mode": {
    "name": "ipython",
    "version": 3
   },
   "file_extension": ".py",
   "mimetype": "text/x-python",
   "name": "python",
   "nbconvert_exporter": "python",
   "pygments_lexer": "ipython3",
   "version": "3.6.8"
  }
 },
 "nbformat": 4,
 "nbformat_minor": 4
}
