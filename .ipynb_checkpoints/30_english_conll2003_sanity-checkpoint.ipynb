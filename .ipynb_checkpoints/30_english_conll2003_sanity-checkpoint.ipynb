{
 "cells": [
  {
   "cell_type": "markdown",
   "metadata": {},
   "source": [
    "# CoNLL 2003 NER with Bi-LSTM-CRF"
   ]
  },
  {
   "cell_type": "code",
   "execution_count": 92,
   "metadata": {},
   "outputs": [],
   "source": [
    "import os\n",
    "os.environ[\"CUDA_DEVICE_ORDER\"]=\"PCI_BUS_ID\";\n",
    " \n",
    "# The GPU id to use, usually either \"0\" or \"1\";\n",
    "os.environ[\"CUDA_VISIBLE_DEVICES\"]=\"\";  "
   ]
  },
  {
   "cell_type": "code",
   "execution_count": 93,
   "metadata": {},
   "outputs": [
    {
     "name": "stdout",
     "output_type": "stream",
     "text": [
      "The autoreload extension is already loaded. To reload it, use:\n",
      "  %reload_ext autoreload\n"
     ]
    }
   ],
   "source": [
    "%load_ext autoreload\n",
    "%autoreload 2"
   ]
  },
  {
   "cell_type": "code",
   "execution_count": 94,
   "metadata": {
    "ExecuteTime": {
     "end_time": "2019-03-13T07:20:24.034028Z",
     "start_time": "2019-03-13T07:20:22.687626Z"
    }
   },
   "outputs": [],
   "source": [
    "%matplotlib inline"
   ]
  },
  {
   "cell_type": "code",
   "execution_count": 95,
   "metadata": {
    "ExecuteTime": {
     "end_time": "2019-03-13T07:20:24.382406Z",
     "start_time": "2019-03-13T07:20:24.037019Z"
    }
   },
   "outputs": [],
   "source": [
    "import pandas as pd\n",
    "import numpy as np"
   ]
  },
  {
   "cell_type": "code",
   "execution_count": 96,
   "metadata": {
    "ExecuteTime": {
     "end_time": "2019-03-13T07:20:27.996727Z",
     "start_time": "2019-03-13T07:20:24.385088Z"
    }
   },
   "outputs": [],
   "source": [
    "import matplotlib.pyplot as plt\n",
    "import seaborn as sns\n",
    "sns.set_context('paper')\n",
    "sns.set_style('white')"
   ]
  },
  {
   "cell_type": "code",
   "execution_count": 97,
   "metadata": {
    "ExecuteTime": {
     "end_time": "2019-03-13T07:20:28.016424Z",
     "start_time": "2019-03-13T07:20:27.999427Z"
    }
   },
   "outputs": [],
   "source": [
    "from conlleval import evaluate"
   ]
  },
  {
   "cell_type": "code",
   "execution_count": 98,
   "metadata": {},
   "outputs": [],
   "source": [
    "from ner_utils import *"
   ]
  },
  {
   "cell_type": "markdown",
   "metadata": {},
   "source": [
    "## Get  data"
   ]
  },
  {
   "cell_type": "raw",
   "metadata": {},
   "source": [
    "!wget -P data https://raw.githubusercontent.com/synalp/NER/master/corpus/CoNLL-2003/eng.train\n",
    "!wget -P data https://raw.githubusercontent.com/synalp/NER/master/corpus/CoNLL-2003/eng.testa\n",
    "!wget -P data https://raw.githubusercontent.com/synalp/NER/master/corpus/CoNLL-2003/eng.testb\n"
   ]
  },
  {
   "cell_type": "code",
   "execution_count": 99,
   "metadata": {},
   "outputs": [],
   "source": [
    "def IOB2BIO(input_file, output_file):\n",
    "    print(\"Convert IOB -> BIO for file:\", input_file)\n",
    "    with open(input_file,'r') as in_file:\n",
    "        fins = in_file.readlines()\n",
    "    fout = open(output_file,'w')\n",
    "    words = []\n",
    "    labels = []\n",
    "    for line in fins:\n",
    "        if len(line) < 3:\n",
    "            sent_len = len(words)\n",
    "            for idx in range(sent_len):\n",
    "                if \"I-\" in labels[idx]:\n",
    "                    label_type = labels[idx].split('-')[-1]\n",
    "                    if (idx == 0) or (labels[idx-1] == \"O\") or (label_type != labels[idx-1].split('-')[-1]):\n",
    "                        fout.write(words[idx]+\" B-\"+label_type+\"\\n\")\n",
    "                    else:\n",
    "                        fout.write(words[idx]+\" \"+labels[idx]+\"\\n\")\n",
    "                else:\n",
    "                    fout.write(words[idx]+\" \"+labels[idx]+\"\\n\")\n",
    "            fout.write('\\n')\n",
    "            words = []\n",
    "            labels = []\n",
    "        else:\n",
    "            pair = line.strip('\\n').split()\n",
    "            words.append(pair[0])\n",
    "            labels.append(pair[-1].upper())\n",
    "    fout.close()\n",
    "    print(\"BIO file generated:\", output_file)\n",
    "    \n",
    "    \n",
    "def BIO2BIOES(input_file, output_file):\n",
    "    print(\"Convert BIO -> BIOES for file:\", input_file)\n",
    "    with open(input_file,'r') as in_file:\n",
    "        fins = in_file.readlines()\n",
    "    fout = open(output_file,'w')\n",
    "    words = []\n",
    "    labels = []\n",
    "    for line in fins:\n",
    "        if len(line) < 3:\n",
    "            sent_len = len(words)\n",
    "            for idx in range(sent_len):\n",
    "                if \"-\" not in labels[idx]:\n",
    "                    fout.write(words[idx]+\" \"+labels[idx]+\"\\n\")\n",
    "                else:\n",
    "                    label_type = labels[idx].split('-')[-1]\n",
    "                    if \"B-\" in labels[idx]:\n",
    "                        if (idx == sent_len - 1) or (\"I-\" not in labels[idx+1]):\n",
    "                            fout.write(words[idx]+\" S-\"+label_type+\"\\n\")\n",
    "                        else:\n",
    "                            fout.write(words[idx]+\" B-\"+label_type+\"\\n\")\n",
    "                    elif \"I-\" in labels[idx]:\n",
    "                        if (idx == sent_len - 1) or (\"I-\" not in labels[idx+1]):\n",
    "                            fout.write(words[idx]+\" E-\"+label_type+\"\\n\")\n",
    "                        else:\n",
    "                            fout.write(words[idx]+\" I-\"+label_type+\"\\n\")\n",
    "            fout.write('\\n')\n",
    "            words = []\n",
    "            labels = []\n",
    "        else:\n",
    "            pair = line.strip('\\n').split()\n",
    "            words.append(pair[0])\n",
    "            labels.append(pair[-1].upper())\n",
    "    fout.close()\n",
    "    print(\"BIOES file generated:\", output_file)"
   ]
  },
  {
   "cell_type": "raw",
   "metadata": {},
   "source": [
    "IOB2BIO('data/eng.train', 'data/eng.train.bio')\n",
    "BIO2BIOES('data/eng.train.bio', 'data/eng.train.bioes')\n",
    "IOB2BIO('data/eng.testa', 'data/eng.testa.bio')\n",
    "BIO2BIOES('data/eng.testa.bio', 'data/eng.testa.bioes')\n",
    "IOB2BIO('data/eng.testb', 'data/eng.testb.bio')\n",
    "BIO2BIOES('data/eng.testb.bio', 'data/eng.testb.bioes')\n"
   ]
  },
  {
   "cell_type": "code",
   "execution_count": 111,
   "metadata": {},
   "outputs": [],
   "source": [
    "def get_case_feature(token):\n",
    "    if token.isdigit():\n",
    "        return 'digit'\n",
    "    \n",
    "    if token.isalpha():\n",
    "        al = 'alpha_'\n",
    "    elif token.isalnum():\n",
    "        al = 'alnum_'\n",
    "    else:\n",
    "        al = 'misc_'\n",
    "    \n",
    "    if token.isupper():\n",
    "        return al+'upper'\n",
    "    if token.islower():\n",
    "        return al+'lower'\n",
    "    if token.istitle():\n",
    "        return al+'title'\n",
    "    else:\n",
    "        return al+'other'\n",
    "    \n",
    "    return 'unk'\n",
    "        "
   ]
  },
  {
   "cell_type": "code",
   "execution_count": 112,
   "metadata": {},
   "outputs": [],
   "source": [
    "from io import StringIO\n",
    "\n",
    "def read_conll2003(path):\n",
    "    dfs = []\n",
    "    for i, sent in enumerate(open(path, 'r', encoding='utf8').read().split('\\n\\n')):\n",
    "        dfs.append(pd.read_csv(StringIO(sent), sep=' ', header=None, quoting=3, \n",
    "                               names = ['token_str', 'ner'])\n",
    "                  .assign(sent_id = i+1))\n",
    "    \n",
    "    return pd.concat(dfs).reset_index(drop=True).astype(str).assign(cap = lambda x: x.token_str.apply(get_case_feature))"
   ]
  },
  {
   "cell_type": "code",
   "execution_count": 113,
   "metadata": {},
   "outputs": [
    {
     "ename": "UnboundLocalError",
     "evalue": "local variable 'al' referenced before assignment",
     "output_type": "error",
     "traceback": [
      "\u001b[0;31m---------------------------------------------------------------------------\u001b[0m",
      "\u001b[0;31mUnboundLocalError\u001b[0m                         Traceback (most recent call last)",
      "\u001b[0;32m<ipython-input-113-acc4fe9918b9>\u001b[0m in \u001b[0;36m<module>\u001b[0;34m\u001b[0m\n\u001b[0;32m----> 1\u001b[0;31m \u001b[0mtrain\u001b[0m \u001b[0;34m=\u001b[0m \u001b[0mread_conll2003\u001b[0m\u001b[0;34m(\u001b[0m\u001b[0;34m'data/eng.train.bioes'\u001b[0m\u001b[0;34m)\u001b[0m\u001b[0;34m.\u001b[0m\u001b[0massign\u001b[0m\u001b[0;34m(\u001b[0m\u001b[0msent_id\u001b[0m\u001b[0;34m=\u001b[0m\u001b[0;32mlambda\u001b[0m \u001b[0mx\u001b[0m\u001b[0;34m:\u001b[0m \u001b[0mx\u001b[0m\u001b[0;34m.\u001b[0m\u001b[0msent_id\u001b[0m\u001b[0;34m.\u001b[0m\u001b[0mastype\u001b[0m\u001b[0;34m(\u001b[0m\u001b[0mint\u001b[0m\u001b[0;34m)\u001b[0m\u001b[0;34m)\u001b[0m\u001b[0;34m\u001b[0m\u001b[0;34m\u001b[0m\u001b[0m\n\u001b[0m\u001b[1;32m      2\u001b[0m \u001b[0mtesta\u001b[0m \u001b[0;34m=\u001b[0m \u001b[0mread_conll2003\u001b[0m\u001b[0;34m(\u001b[0m\u001b[0;34m'data/eng.testa.bioes'\u001b[0m\u001b[0;34m)\u001b[0m\u001b[0;34m.\u001b[0m\u001b[0massign\u001b[0m\u001b[0;34m(\u001b[0m\u001b[0msent_id\u001b[0m\u001b[0;34m=\u001b[0m\u001b[0;32mlambda\u001b[0m \u001b[0mx\u001b[0m\u001b[0;34m:\u001b[0m \u001b[0mx\u001b[0m\u001b[0;34m.\u001b[0m\u001b[0msent_id\u001b[0m\u001b[0;34m.\u001b[0m\u001b[0mastype\u001b[0m\u001b[0;34m(\u001b[0m\u001b[0mint\u001b[0m\u001b[0;34m)\u001b[0m\u001b[0;34m+\u001b[0m\u001b[0mtrain\u001b[0m\u001b[0;34m.\u001b[0m\u001b[0msent_id\u001b[0m\u001b[0;34m.\u001b[0m\u001b[0mmax\u001b[0m\u001b[0;34m(\u001b[0m\u001b[0;34m)\u001b[0m\u001b[0;34m)\u001b[0m\u001b[0;34m\u001b[0m\u001b[0;34m\u001b[0m\u001b[0m\n\u001b[1;32m      3\u001b[0m \u001b[0mtestb\u001b[0m \u001b[0;34m=\u001b[0m \u001b[0mread_conll2003\u001b[0m\u001b[0;34m(\u001b[0m\u001b[0;34m'data/eng.testb.bioes'\u001b[0m\u001b[0;34m)\u001b[0m\u001b[0;34m.\u001b[0m\u001b[0massign\u001b[0m\u001b[0;34m(\u001b[0m\u001b[0msent_id\u001b[0m\u001b[0;34m=\u001b[0m\u001b[0;32mlambda\u001b[0m \u001b[0mx\u001b[0m\u001b[0;34m:\u001b[0m \u001b[0mx\u001b[0m\u001b[0;34m.\u001b[0m\u001b[0msent_id\u001b[0m\u001b[0;34m.\u001b[0m\u001b[0mastype\u001b[0m\u001b[0;34m(\u001b[0m\u001b[0mint\u001b[0m\u001b[0;34m)\u001b[0m\u001b[0;34m+\u001b[0m\u001b[0mtesta\u001b[0m\u001b[0;34m.\u001b[0m\u001b[0msent_id\u001b[0m\u001b[0;34m.\u001b[0m\u001b[0mmax\u001b[0m\u001b[0;34m(\u001b[0m\u001b[0;34m)\u001b[0m\u001b[0;34m)\u001b[0m\u001b[0;34m\u001b[0m\u001b[0;34m\u001b[0m\u001b[0m\n",
      "\u001b[0;32m<ipython-input-112-fad655f2b21a>\u001b[0m in \u001b[0;36mread_conll2003\u001b[0;34m(path)\u001b[0m\n\u001b[1;32m      8\u001b[0m                   .assign(sent_id = i+1))\n\u001b[1;32m      9\u001b[0m \u001b[0;34m\u001b[0m\u001b[0m\n\u001b[0;32m---> 10\u001b[0;31m     \u001b[0;32mreturn\u001b[0m \u001b[0mpd\u001b[0m\u001b[0;34m.\u001b[0m\u001b[0mconcat\u001b[0m\u001b[0;34m(\u001b[0m\u001b[0mdfs\u001b[0m\u001b[0;34m)\u001b[0m\u001b[0;34m.\u001b[0m\u001b[0mreset_index\u001b[0m\u001b[0;34m(\u001b[0m\u001b[0mdrop\u001b[0m\u001b[0;34m=\u001b[0m\u001b[0;32mTrue\u001b[0m\u001b[0;34m)\u001b[0m\u001b[0;34m.\u001b[0m\u001b[0mastype\u001b[0m\u001b[0;34m(\u001b[0m\u001b[0mstr\u001b[0m\u001b[0;34m)\u001b[0m\u001b[0;34m.\u001b[0m\u001b[0massign\u001b[0m\u001b[0;34m(\u001b[0m\u001b[0mcap\u001b[0m \u001b[0;34m=\u001b[0m \u001b[0;32mlambda\u001b[0m \u001b[0mx\u001b[0m\u001b[0;34m:\u001b[0m \u001b[0mx\u001b[0m\u001b[0;34m.\u001b[0m\u001b[0mtoken_str\u001b[0m\u001b[0;34m.\u001b[0m\u001b[0mapply\u001b[0m\u001b[0;34m(\u001b[0m\u001b[0mget_case_feature\u001b[0m\u001b[0;34m)\u001b[0m\u001b[0;34m)\u001b[0m\u001b[0;34m\u001b[0m\u001b[0;34m\u001b[0m\u001b[0m\n\u001b[0m",
      "\u001b[0;32m~/anaconda3/envs/tf/lib/python3.7/site-packages/pandas/core/frame.py\u001b[0m in \u001b[0;36massign\u001b[0;34m(self, **kwargs)\u001b[0m\n\u001b[1;32m   3667\u001b[0m         \u001b[0;32mif\u001b[0m \u001b[0mPY36\u001b[0m\u001b[0;34m:\u001b[0m\u001b[0;34m\u001b[0m\u001b[0;34m\u001b[0m\u001b[0m\n\u001b[1;32m   3668\u001b[0m             \u001b[0;32mfor\u001b[0m \u001b[0mk\u001b[0m\u001b[0;34m,\u001b[0m \u001b[0mv\u001b[0m \u001b[0;32min\u001b[0m \u001b[0mkwargs\u001b[0m\u001b[0;34m.\u001b[0m\u001b[0mitems\u001b[0m\u001b[0;34m(\u001b[0m\u001b[0;34m)\u001b[0m\u001b[0;34m:\u001b[0m\u001b[0;34m\u001b[0m\u001b[0;34m\u001b[0m\u001b[0m\n\u001b[0;32m-> 3669\u001b[0;31m                 \u001b[0mdata\u001b[0m\u001b[0;34m[\u001b[0m\u001b[0mk\u001b[0m\u001b[0;34m]\u001b[0m \u001b[0;34m=\u001b[0m \u001b[0mcom\u001b[0m\u001b[0;34m.\u001b[0m\u001b[0mapply_if_callable\u001b[0m\u001b[0;34m(\u001b[0m\u001b[0mv\u001b[0m\u001b[0;34m,\u001b[0m \u001b[0mdata\u001b[0m\u001b[0;34m)\u001b[0m\u001b[0;34m\u001b[0m\u001b[0;34m\u001b[0m\u001b[0m\n\u001b[0m\u001b[1;32m   3670\u001b[0m         \u001b[0;32melse\u001b[0m\u001b[0;34m:\u001b[0m\u001b[0;34m\u001b[0m\u001b[0;34m\u001b[0m\u001b[0m\n\u001b[1;32m   3671\u001b[0m             \u001b[0;31m# <= 3.5: do all calculations first...\u001b[0m\u001b[0;34m\u001b[0m\u001b[0;34m\u001b[0m\u001b[0;34m\u001b[0m\u001b[0m\n",
      "\u001b[0;32m~/anaconda3/envs/tf/lib/python3.7/site-packages/pandas/core/common.py\u001b[0m in \u001b[0;36mapply_if_callable\u001b[0;34m(maybe_callable, obj, **kwargs)\u001b[0m\n\u001b[1;32m    363\u001b[0m \u001b[0;34m\u001b[0m\u001b[0m\n\u001b[1;32m    364\u001b[0m     \u001b[0;32mif\u001b[0m \u001b[0mcallable\u001b[0m\u001b[0;34m(\u001b[0m\u001b[0mmaybe_callable\u001b[0m\u001b[0;34m)\u001b[0m\u001b[0;34m:\u001b[0m\u001b[0;34m\u001b[0m\u001b[0;34m\u001b[0m\u001b[0m\n\u001b[0;32m--> 365\u001b[0;31m         \u001b[0;32mreturn\u001b[0m \u001b[0mmaybe_callable\u001b[0m\u001b[0;34m(\u001b[0m\u001b[0mobj\u001b[0m\u001b[0;34m,\u001b[0m \u001b[0;34m**\u001b[0m\u001b[0mkwargs\u001b[0m\u001b[0;34m)\u001b[0m\u001b[0;34m\u001b[0m\u001b[0;34m\u001b[0m\u001b[0m\n\u001b[0m\u001b[1;32m    366\u001b[0m \u001b[0;34m\u001b[0m\u001b[0m\n\u001b[1;32m    367\u001b[0m     \u001b[0;32mreturn\u001b[0m \u001b[0mmaybe_callable\u001b[0m\u001b[0;34m\u001b[0m\u001b[0;34m\u001b[0m\u001b[0m\n",
      "\u001b[0;32m<ipython-input-112-fad655f2b21a>\u001b[0m in \u001b[0;36m<lambda>\u001b[0;34m(x)\u001b[0m\n\u001b[1;32m      8\u001b[0m                   .assign(sent_id = i+1))\n\u001b[1;32m      9\u001b[0m \u001b[0;34m\u001b[0m\u001b[0m\n\u001b[0;32m---> 10\u001b[0;31m     \u001b[0;32mreturn\u001b[0m \u001b[0mpd\u001b[0m\u001b[0;34m.\u001b[0m\u001b[0mconcat\u001b[0m\u001b[0;34m(\u001b[0m\u001b[0mdfs\u001b[0m\u001b[0;34m)\u001b[0m\u001b[0;34m.\u001b[0m\u001b[0mreset_index\u001b[0m\u001b[0;34m(\u001b[0m\u001b[0mdrop\u001b[0m\u001b[0;34m=\u001b[0m\u001b[0;32mTrue\u001b[0m\u001b[0;34m)\u001b[0m\u001b[0;34m.\u001b[0m\u001b[0mastype\u001b[0m\u001b[0;34m(\u001b[0m\u001b[0mstr\u001b[0m\u001b[0;34m)\u001b[0m\u001b[0;34m.\u001b[0m\u001b[0massign\u001b[0m\u001b[0;34m(\u001b[0m\u001b[0mcap\u001b[0m \u001b[0;34m=\u001b[0m \u001b[0;32mlambda\u001b[0m \u001b[0mx\u001b[0m\u001b[0;34m:\u001b[0m \u001b[0mx\u001b[0m\u001b[0;34m.\u001b[0m\u001b[0mtoken_str\u001b[0m\u001b[0;34m.\u001b[0m\u001b[0mapply\u001b[0m\u001b[0;34m(\u001b[0m\u001b[0mget_case_feature\u001b[0m\u001b[0;34m)\u001b[0m\u001b[0;34m)\u001b[0m\u001b[0;34m\u001b[0m\u001b[0;34m\u001b[0m\u001b[0m\n\u001b[0m",
      "\u001b[0;32m~/anaconda3/envs/tf/lib/python3.7/site-packages/pandas/core/series.py\u001b[0m in \u001b[0;36mapply\u001b[0;34m(self, func, convert_dtype, args, **kwds)\u001b[0m\n\u001b[1;32m   4043\u001b[0m             \u001b[0;32melse\u001b[0m\u001b[0;34m:\u001b[0m\u001b[0;34m\u001b[0m\u001b[0;34m\u001b[0m\u001b[0m\n\u001b[1;32m   4044\u001b[0m                 \u001b[0mvalues\u001b[0m \u001b[0;34m=\u001b[0m \u001b[0mself\u001b[0m\u001b[0;34m.\u001b[0m\u001b[0mastype\u001b[0m\u001b[0;34m(\u001b[0m\u001b[0mobject\u001b[0m\u001b[0;34m)\u001b[0m\u001b[0;34m.\u001b[0m\u001b[0mvalues\u001b[0m\u001b[0;34m\u001b[0m\u001b[0;34m\u001b[0m\u001b[0m\n\u001b[0;32m-> 4045\u001b[0;31m                 \u001b[0mmapped\u001b[0m \u001b[0;34m=\u001b[0m \u001b[0mlib\u001b[0m\u001b[0;34m.\u001b[0m\u001b[0mmap_infer\u001b[0m\u001b[0;34m(\u001b[0m\u001b[0mvalues\u001b[0m\u001b[0;34m,\u001b[0m \u001b[0mf\u001b[0m\u001b[0;34m,\u001b[0m \u001b[0mconvert\u001b[0m\u001b[0;34m=\u001b[0m\u001b[0mconvert_dtype\u001b[0m\u001b[0;34m)\u001b[0m\u001b[0;34m\u001b[0m\u001b[0;34m\u001b[0m\u001b[0m\n\u001b[0m\u001b[1;32m   4046\u001b[0m \u001b[0;34m\u001b[0m\u001b[0m\n\u001b[1;32m   4047\u001b[0m         \u001b[0;32mif\u001b[0m \u001b[0mlen\u001b[0m\u001b[0;34m(\u001b[0m\u001b[0mmapped\u001b[0m\u001b[0;34m)\u001b[0m \u001b[0;32mand\u001b[0m \u001b[0misinstance\u001b[0m\u001b[0;34m(\u001b[0m\u001b[0mmapped\u001b[0m\u001b[0;34m[\u001b[0m\u001b[0;36m0\u001b[0m\u001b[0;34m]\u001b[0m\u001b[0;34m,\u001b[0m \u001b[0mSeries\u001b[0m\u001b[0;34m)\u001b[0m\u001b[0;34m:\u001b[0m\u001b[0;34m\u001b[0m\u001b[0;34m\u001b[0m\u001b[0m\n",
      "\u001b[0;32mpandas/_libs/lib.pyx\u001b[0m in \u001b[0;36mpandas._libs.lib.map_infer\u001b[0;34m()\u001b[0m\n",
      "\u001b[0;32m<ipython-input-111-afdb7a503f90>\u001b[0m in \u001b[0;36mget_case_feature\u001b[0;34m(token)\u001b[0m\n\u001b[1;32m      9\u001b[0m \u001b[0;34m\u001b[0m\u001b[0m\n\u001b[1;32m     10\u001b[0m     \u001b[0;32mif\u001b[0m \u001b[0mtoken\u001b[0m\u001b[0;34m.\u001b[0m\u001b[0misupper\u001b[0m\u001b[0;34m(\u001b[0m\u001b[0;34m)\u001b[0m\u001b[0;34m:\u001b[0m\u001b[0;34m\u001b[0m\u001b[0;34m\u001b[0m\u001b[0m\n\u001b[0;32m---> 11\u001b[0;31m         \u001b[0;32mreturn\u001b[0m \u001b[0mal\u001b[0m\u001b[0;34m+\u001b[0m\u001b[0;34m'upper'\u001b[0m\u001b[0;34m\u001b[0m\u001b[0;34m\u001b[0m\u001b[0m\n\u001b[0m\u001b[1;32m     12\u001b[0m     \u001b[0;32mif\u001b[0m \u001b[0mtoken\u001b[0m\u001b[0;34m.\u001b[0m\u001b[0mislower\u001b[0m\u001b[0;34m(\u001b[0m\u001b[0;34m)\u001b[0m\u001b[0;34m:\u001b[0m\u001b[0;34m\u001b[0m\u001b[0;34m\u001b[0m\u001b[0m\n\u001b[1;32m     13\u001b[0m         \u001b[0;32mreturn\u001b[0m \u001b[0mal\u001b[0m\u001b[0;34m+\u001b[0m\u001b[0;34m'lower'\u001b[0m\u001b[0;34m\u001b[0m\u001b[0;34m\u001b[0m\u001b[0m\n",
      "\u001b[0;31mUnboundLocalError\u001b[0m: local variable 'al' referenced before assignment"
     ]
    }
   ],
   "source": [
    "train = read_conll2003('data/eng.train.bioes').assign(sent_id=lambda x: x.sent_id.astype(int))\n",
    "testa = read_conll2003('data/eng.testa.bioes').assign(sent_id=lambda x: x.sent_id.astype(int)+train.sent_id.max())\n",
    "testb = read_conll2003('data/eng.testb.bioes').assign(sent_id=lambda x: x.sent_id.astype(int)+testa.sent_id.max())"
   ]
  },
  {
   "cell_type": "code",
   "execution_count": null,
   "metadata": {},
   "outputs": [],
   "source": [
    "train.sent_id.nunique(), testa.sent_id.nunique(), testb.sent_id.nunique()"
   ]
  },
  {
   "cell_type": "code",
   "execution_count": null,
   "metadata": {},
   "outputs": [],
   "source": [
    "train.head()"
   ]
  },
  {
   "cell_type": "code",
   "execution_count": 104,
   "metadata": {},
   "outputs": [
    {
     "data": {
      "text/html": [
       "<div>\n",
       "<style scoped>\n",
       "    .dataframe tbody tr th:only-of-type {\n",
       "        vertical-align: middle;\n",
       "    }\n",
       "\n",
       "    .dataframe tbody tr th {\n",
       "        vertical-align: top;\n",
       "    }\n",
       "\n",
       "    .dataframe thead th {\n",
       "        text-align: right;\n",
       "    }\n",
       "</style>\n",
       "<table border=\"1\" class=\"dataframe\">\n",
       "  <thead>\n",
       "    <tr style=\"text-align: right;\">\n",
       "      <th></th>\n",
       "      <th>token_str</th>\n",
       "      <th>ner</th>\n",
       "      <th>sent_id</th>\n",
       "    </tr>\n",
       "  </thead>\n",
       "  <tbody>\n",
       "    <tr>\n",
       "      <th>1</th>\n",
       "      <td>EU</td>\n",
       "      <td>S-ORG</td>\n",
       "      <td>2</td>\n",
       "    </tr>\n",
       "    <tr>\n",
       "      <th>2</th>\n",
       "      <td>rejects</td>\n",
       "      <td>O</td>\n",
       "      <td>2</td>\n",
       "    </tr>\n",
       "    <tr>\n",
       "      <th>3</th>\n",
       "      <td>German</td>\n",
       "      <td>S-MISC</td>\n",
       "      <td>2</td>\n",
       "    </tr>\n",
       "    <tr>\n",
       "      <th>4</th>\n",
       "      <td>call</td>\n",
       "      <td>O</td>\n",
       "      <td>2</td>\n",
       "    </tr>\n",
       "    <tr>\n",
       "      <th>5</th>\n",
       "      <td>to</td>\n",
       "      <td>O</td>\n",
       "      <td>2</td>\n",
       "    </tr>\n",
       "  </tbody>\n",
       "</table>\n",
       "</div>"
      ],
      "text/plain": [
       "  token_str     ner  sent_id\n",
       "1        EU   S-ORG        2\n",
       "2   rejects       O        2\n",
       "3    German  S-MISC        2\n",
       "4      call       O        2\n",
       "5        to       O        2"
      ]
     },
     "execution_count": 104,
     "metadata": {},
     "output_type": "execute_result"
    }
   ],
   "source": [
    "train = train[train.token_str!='-DOCSTART-']\n",
    "testa = testa[testa.token_str!='-DOCSTART-']\n",
    "testb = testb[testb.token_str!='-DOCSTART-']\n",
    "\n",
    "train.head()"
   ]
  },
  {
   "cell_type": "code",
   "execution_count": 105,
   "metadata": {},
   "outputs": [
    {
     "data": {
      "text/plain": [
       "(14041, 3250, 3453)"
      ]
     },
     "execution_count": 105,
     "metadata": {},
     "output_type": "execute_result"
    }
   ],
   "source": [
    "train.sent_id.nunique(), testa.sent_id.nunique(), testb.sent_id.nunique()"
   ]
  },
  {
   "cell_type": "code",
   "execution_count": 106,
   "metadata": {},
   "outputs": [],
   "source": [
    "#train = pd.concat([train, testb])"
   ]
  },
  {
   "cell_type": "code",
   "execution_count": 107,
   "metadata": {},
   "outputs": [
    {
     "data": {
      "text/plain": [
       "14041"
      ]
     },
     "execution_count": 107,
     "metadata": {},
     "output_type": "execute_result"
    }
   ],
   "source": [
    "train.sent_id.nunique()"
   ]
  },
  {
   "cell_type": "code",
   "execution_count": 108,
   "metadata": {},
   "outputs": [
    {
     "data": {
      "text/plain": [
       "sent_id\n",
       "2    [[EU, S-ORG], [rejects, O], [German, S-MISC], ...\n",
       "3                 [[Peter, B-PER], [Blackburn, E-PER]]\n",
       "4                 [[BRUSSELS, S-LOC], [1996-08-22, O]]\n",
       "5    [[The, O], [European, B-ORG], [Commission, E-O...\n",
       "6    [[Germany, S-LOC], ['s, O], [representative, O...\n",
       "dtype: object"
      ]
     },
     "execution_count": 108,
     "metadata": {},
     "output_type": "execute_result"
    }
   ],
   "source": [
    "train_sents = train.groupby('sent_id')[['token_str', 'ner']].apply(lambda x: x.values.tolist())\n",
    "testa_sents = testa.groupby('sent_id')[['token_str', 'ner']].apply(lambda x: x.values.tolist())\n",
    "testb_sents = testb.groupby('sent_id')[['token_str', 'ner']].apply(lambda x: x.values.tolist())\n",
    "train_sents.head()"
   ]
  },
  {
   "cell_type": "code",
   "execution_count": 109,
   "metadata": {},
   "outputs": [
    {
     "data": {
      "text/plain": [
       "30291"
      ]
     },
     "execution_count": 109,
     "metadata": {},
     "output_type": "execute_result"
    }
   ],
   "source": [
    "words = list(set(train.token_str.values)|set(testa.token_str.values)|set(testb.token_str.values))\n",
    "n_words = len(words); n_words"
   ]
  },
  {
   "cell_type": "code",
   "execution_count": null,
   "metadata": {},
   "outputs": [],
   "source": []
  },
  {
   "cell_type": "code",
   "execution_count": 110,
   "metadata": {},
   "outputs": [
    {
     "data": {
      "text/plain": [
       "17"
      ]
     },
     "execution_count": 110,
     "metadata": {},
     "output_type": "execute_result"
    }
   ],
   "source": [
    "tags = list(set(train.ner.values))\n",
    "n_tags = len(tags); n_tags"
   ]
  },
  {
   "cell_type": "code",
   "execution_count": 61,
   "metadata": {},
   "outputs": [
    {
     "data": {
      "text/plain": [
       "<matplotlib.axes._subplots.AxesSubplot at 0x7fc7d6058350>"
      ]
     },
     "execution_count": 61,
     "metadata": {},
     "output_type": "execute_result"
    },
    {
     "data": {
      "image/png": "[encoded data removed]",
      "text/plain": [
       "<Figure size 432x288 with 1 Axes>"
      ]
     },
     "metadata": {},
     "output_type": "display_data"
    }
   ],
   "source": [
    "train.groupby('sent_id').size().hist(bins=50)"
   ]
  },
  {
   "cell_type": "code",
   "execution_count": 62,
   "metadata": {},
   "outputs": [],
   "source": [
    "max_len = 60\n",
    "word2idx = {w: i + 2 for i, w in enumerate(words)}\n",
    "word2idx[\"UNK\"] = 1\n",
    "word2idx[\"PAD\"] = 0\n",
    "idx2word = {i: w for w, i in word2idx.items()}\n",
    "tag2idx = {t: i + 1 for i, t in enumerate(tags)}\n",
    "tag2idx[\"PAD\"] = 0\n",
    "idx2tag = {i: w for w, i in tag2idx.items()}"
   ]
  },
  {
   "cell_type": "code",
   "execution_count": 63,
   "metadata": {},
   "outputs": [],
   "source": [
    "from keras.preprocessing.sequence import pad_sequences\n",
    "X_train = [[word2idx[w[0]] for w in s] for s in train_sents]\n",
    "X_testa   = [[word2idx[w[0]] for w in s] for s in testa_sents]\n",
    "X_testb  = [[word2idx[w[0]] for w in s] for s in testb_sents]\n"
   ]
  },
  {
   "cell_type": "code",
   "execution_count": 64,
   "metadata": {},
   "outputs": [
    {
     "data": {
      "text/plain": [
       "array([15014, 12379,  8210,  3343, 26880, 27888, 24475,  2224, 15800,\n",
       "           0,     0,     0,     0,     0,     0,     0,     0,     0,\n",
       "           0,     0,     0,     0,     0,     0,     0,     0,     0,\n",
       "           0,     0,     0,     0,     0,     0,     0,     0,     0,\n",
       "           0,     0,     0,     0,     0,     0,     0,     0,     0,\n",
       "           0,     0,     0,     0,     0,     0,     0,     0,     0,\n",
       "           0,     0,     0,     0,     0,     0], dtype=int32)"
      ]
     },
     "execution_count": 64,
     "metadata": {},
     "output_type": "execute_result"
    }
   ],
   "source": [
    "X_train = pad_sequences(maxlen=max_len, sequences=X_train, value=word2idx[\"PAD\"], padding='post', truncating='post')\n",
    "X_testa = pad_sequences(maxlen=max_len, sequences=X_testa, value=word2idx[\"PAD\"], padding='post', truncating='post')\n",
    "X_testb = pad_sequences(maxlen=max_len, sequences=X_testb, value=word2idx[\"PAD\"], padding='post', truncating='post')\n",
    "X_train[0]"
   ]
  },
  {
   "cell_type": "code",
   "execution_count": 65,
   "metadata": {},
   "outputs": [],
   "source": [
    "from keras.preprocessing.sequence import pad_sequences\n",
    "y_train = [[tag2idx[w[1]] for w in s] for s in train_sents]\n",
    "y_testa = [[tag2idx[w[1]] for w in s] for s in testa_sents]\n",
    "y_testb = [[tag2idx[w[1]] for w in s] for s in testb_sents]"
   ]
  },
  {
   "cell_type": "code",
   "execution_count": 66,
   "metadata": {},
   "outputs": [
    {
     "data": {
      "text/plain": [
       "array([ 1,  3, 10,  3,  3,  3, 10,  3,  3,  0,  0,  0,  0,  0,  0,  0,  0,\n",
       "        0,  0,  0,  0,  0,  0,  0,  0,  0,  0,  0,  0,  0,  0,  0,  0,  0,\n",
       "        0,  0,  0,  0,  0,  0,  0,  0,  0,  0,  0,  0,  0,  0,  0,  0,  0,\n",
       "        0,  0,  0,  0,  0,  0,  0,  0,  0], dtype=int32)"
      ]
     },
     "execution_count": 66,
     "metadata": {},
     "output_type": "execute_result"
    }
   ],
   "source": [
    "y_numer_train = pad_sequences(maxlen=max_len, sequences=y_train, value=tag2idx[\"PAD\"], padding='post', truncating='post')\n",
    "y_numer_testa = pad_sequences(maxlen=max_len, sequences=y_testa, value=tag2idx[\"PAD\"], padding='post', truncating='post')\n",
    "y_numer_testb = pad_sequences(maxlen=max_len, sequences=y_testb, value=tag2idx[\"PAD\"], padding='post', truncating='post')\n",
    "y_numer_train[0]"
   ]
  },
  {
   "cell_type": "code",
   "execution_count": 67,
   "metadata": {
    "ExecuteTime": {
     "end_time": "2019-03-13T07:20:48.330074Z",
     "start_time": "2019-03-13T07:20:48.226353Z"
    }
   },
   "outputs": [
    {
     "data": {
      "text/plain": [
       "(60, 18)"
      ]
     },
     "execution_count": 67,
     "metadata": {},
     "output_type": "execute_result"
    }
   ],
   "source": [
    "from keras.utils import to_categorical\n",
    "y_train = [to_categorical(i, num_classes=n_tags+1) for i in y_numer_train]\n",
    "y_testa = [to_categorical(i, num_classes=n_tags+1) for i in y_numer_testa]\n",
    "y_testb = [to_categorical(i, num_classes=n_tags+1) for i in y_numer_testb]\n",
    "\n",
    "y_train[0].shape"
   ]
  },
  {
   "cell_type": "code",
   "execution_count": 90,
   "metadata": {},
   "outputs": [
    {
     "data": {
      "text/plain": [
       "0.05"
      ]
     },
     "execution_count": 90,
     "metadata": {},
     "output_type": "execute_result"
    }
   ],
   "source": [
    "#validation_split = len(X_testa) / (len(X_train)+len(X_testa))\n",
    "validation_split = 0.05\n",
    "validation_split"
   ]
  },
  {
   "cell_type": "code",
   "execution_count": 69,
   "metadata": {},
   "outputs": [],
   "source": [
    "splits = [[X_train, X_testa,\n",
    "           y_train, y_testa,\n",
    "           X_train, X_testa]]"
   ]
  },
  {
   "cell_type": "markdown",
   "metadata": {},
   "source": [
    "### Prep char input"
   ]
  },
  {
   "cell_type": "code",
   "execution_count": 70,
   "metadata": {},
   "outputs": [
    {
     "data": {
      "text/plain": [
       "dtype('O')"
      ]
     },
     "execution_count": 70,
     "metadata": {},
     "output_type": "execute_result"
    }
   ],
   "source": [
    "train.token_str.dtype"
   ]
  },
  {
   "cell_type": "code",
   "execution_count": 71,
   "metadata": {
    "ExecuteTime": {
     "end_time": "2019-01-31T13:58:31.324599Z",
     "start_time": "2019-01-31T13:58:31.077207Z"
    }
   },
   "outputs": [
    {
     "data": {
      "text/plain": [
       "<matplotlib.axes._subplots.AxesSubplot at 0x7fc7d7317250>"
      ]
     },
     "execution_count": 71,
     "metadata": {},
     "output_type": "execute_result"
    },
    {
     "data": {
      "image/png": "[encoded data removed]",
      "text/plain": [
       "<Figure size 432x288 with 1 Axes>"
      ]
     },
     "metadata": {},
     "output_type": "display_data"
    }
   ],
   "source": [
    "train.token_str.apply(lambda x: 20 if len(x)>20 else len(x)).hist(bins=20)"
   ]
  },
  {
   "cell_type": "code",
   "execution_count": 72,
   "metadata": {
    "ExecuteTime": {
     "end_time": "2019-01-31T13:58:31.340217Z",
     "start_time": "2019-01-31T13:58:31.324599Z"
    }
   },
   "outputs": [],
   "source": [
    "max_len_char = 12"
   ]
  },
  {
   "cell_type": "code",
   "execution_count": 73,
   "metadata": {
    "ExecuteTime": {
     "end_time": "2019-01-31T13:58:32.660554Z",
     "start_time": "2019-01-31T13:58:32.613692Z"
    }
   },
   "outputs": [
    {
     "name": "stdout",
     "output_type": "stream",
     "text": [
      "85\n"
     ]
    }
   ],
   "source": [
    "chars = set([w_i for w in words for w_i in w])\n",
    "n_chars = len(chars)\n",
    "print(n_chars)"
   ]
  },
  {
   "cell_type": "code",
   "execution_count": 74,
   "metadata": {
    "ExecuteTime": {
     "end_time": "2019-01-31T13:58:33.732950Z",
     "start_time": "2019-01-31T13:58:33.717366Z"
    }
   },
   "outputs": [],
   "source": [
    "char2idx = {c: i + 2 for i, c in enumerate(chars)}\n",
    "char2idx[\"UNK\"] = 1\n",
    "char2idx[\"PAD\"] = 0"
   ]
  },
  {
   "cell_type": "code",
   "execution_count": 75,
   "metadata": {
    "ExecuteTime": {
     "end_time": "2019-01-31T13:58:36.324286Z",
     "start_time": "2019-01-31T13:58:34.303392Z"
    }
   },
   "outputs": [],
   "source": [
    "\n",
    "def get_X_char(sents):\n",
    "    X_char = []\n",
    "    for sentence in sents:\n",
    "        sent_seq = []\n",
    "        for i in range(max_len):\n",
    "            word_seq = []\n",
    "            for j in range(max_len_char):\n",
    "                try:\n",
    "                    word_seq.append(char2idx.get(sentence[i][0][j]))\n",
    "                except:\n",
    "                    word_seq.append(char2idx.get(\"PAD\"))\n",
    "            sent_seq.append(word_seq)\n",
    "        X_char.append(np.array(sent_seq))\n",
    "    return X_char"
   ]
  },
  {
   "cell_type": "code",
   "execution_count": 76,
   "metadata": {},
   "outputs": [],
   "source": [
    "X_char_train = get_X_char(train_sents  )\n",
    "X_char_testa = get_X_char(testa_sents)\n",
    "X_char_testb = get_X_char(testb_sents )\n",
    "\n",
    "splits_char = [[X_char_train, X_char_testa,\n",
    "                y_train, y_testa]]"
   ]
  },
  {
   "cell_type": "markdown",
   "metadata": {},
   "source": [
    "## Embeddings"
   ]
  },
  {
   "cell_type": "code",
   "execution_count": 77,
   "metadata": {},
   "outputs": [],
   "source": [
    "#!mkdir data/english_embeddings\n",
    "#!wget -P data/english_embeddings https://dl.fbaipublicfiles.com/fasttext/vectors-wiki/wiki.en.vec\n",
    "    "
   ]
  },
  {
   "cell_type": "code",
   "execution_count": 78,
   "metadata": {},
   "outputs": [],
   "source": [
    "english_emb_paths = { 'en_pretrained_wiki': 'data/english_embeddings/wiki.en.vec'}"
   ]
  },
  {
   "cell_type": "code",
   "execution_count": 79,
   "metadata": {},
   "outputs": [],
   "source": [
    "exclude = ['cbow', 'word2vec', 'tokenized', 'glove']"
   ]
  },
  {
   "cell_type": "code",
   "execution_count": 80,
   "metadata": {},
   "outputs": [
    {
     "name": "stdout",
     "output_type": "stream",
     "text": [
      "loading word embeddings: data/english_embeddings/wiki.en.vec\n",
      "found 2512763 word vectors\n",
      "preparing embedding matrix...\n",
      "number of null word embeddings: 19444\n",
      "sample words not found:  ['Olivier' 'Suedwest' '0.42' 'Qazim' 'Stiajkina' '461.42' 'Reds'\n",
      " 'Vowinkel' 'OPTIONS' '5.00']\n"
     ]
    }
   ],
   "source": [
    "embedding_mats = {}\n",
    "for emb_name, emb_path in english_emb_paths.items():\n",
    "    skip=False\n",
    "    for exc in exclude:\n",
    "        if exc in emb_path:\n",
    "            skip=True\n",
    "    if skip:\n",
    "        continue\n",
    "    embedding_mats[emb_name] = get_embedding_matrix(emb_path, word2idx)"
   ]
  },
  {
   "cell_type": "markdown",
   "metadata": {},
   "source": [
    "## Model building"
   ]
  },
  {
   "cell_type": "code",
   "execution_count": 81,
   "metadata": {},
   "outputs": [
    {
     "data": {
      "text/plain": [
       "[{'optimizer': 'adam',\n",
       "  'output_dropout': True,\n",
       "  'add_random_embedding': False,\n",
       "  'use_char': True,\n",
       "  'crf': True,\n",
       "  'use_pos': False,\n",
       "  'embedding_matrix': 'all',\n",
       "  'trainable': False,\n",
       "  'stack_lstm': 2},\n",
       " {'optimizer': 'adam',\n",
       "  'output_dropout': True,\n",
       "  'add_random_embedding': False,\n",
       "  'use_char': True,\n",
       "  'crf': True,\n",
       "  'use_pos': True,\n",
       "  'embedding_matrix': 'all',\n",
       "  'trainable': False,\n",
       "  'stack_lstm': 2}]"
      ]
     },
     "execution_count": 81,
     "metadata": {},
     "output_type": "execute_result"
    }
   ],
   "source": [
    "from ner_utils import *\n",
    "base_configs_stack_freeze"
   ]
  },
  {
   "cell_type": "code",
   "execution_count": 82,
   "metadata": {},
   "outputs": [
    {
     "data": {
      "text/plain": [
       "[{'optimizer': 'adam',\n",
       "  'output_dropout': True,\n",
       "  'add_random_embedding': False,\n",
       "  'use_char': True,\n",
       "  'crf': True,\n",
       "  'use_pos': False,\n",
       "  'embedding_matrix': 'en_pretrained_wiki',\n",
       "  'trainable': False,\n",
       "  'stack_lstm': 2}]"
      ]
     },
     "execution_count": 82,
     "metadata": {},
     "output_type": "execute_result"
    }
   ],
   "source": [
    "configs = build_configs([base_configs_stack_freeze[0],], embedding_mats)\n",
    "configs     "
   ]
  },
  {
   "cell_type": "code",
   "execution_count": 83,
   "metadata": {},
   "outputs": [],
   "source": [
    "for conf in configs:\n",
    "    conf['patience'] = 10"
   ]
  },
  {
   "cell_type": "code",
   "execution_count": 84,
   "metadata": {},
   "outputs": [],
   "source": [
    "out_folder = 'results/english_conll2003'\n",
    "if not os.path.exists(out_folder):\n",
    "    os.mkdir(out_folder)"
   ]
  },
  {
   "cell_type": "code",
   "execution_count": 85,
   "metadata": {},
   "outputs": [],
   "source": [
    "extra_preds = None#[(X_testb, X_testb, X_char_testb), ]"
   ]
  },
  {
   "cell_type": "code",
   "execution_count": 86,
   "metadata": {},
   "outputs": [],
   "source": [
    "from ner_utils import *"
   ]
  },
  {
   "cell_type": "code",
   "execution_count": 91,
   "metadata": {
    "ExecuteTime": {
     "end_time": "2019-03-13T11:31:02.793857Z",
     "start_time": "2019-03-13T11:16:17.267695Z"
    },
    "scrolled": true
   },
   "outputs": [
    {
     "name": "stdout",
     "output_type": "stream",
     "text": [
      "__________________________________________________________________________________________________\n",
      "Layer (type)                    Output Shape         Param #     Connected to                     \n",
      "==================================================================================================\n",
      "input_6 (InputLayer)            (None, 60, 12)       0                                            \n",
      "__________________________________________________________________________________________________\n",
      "input_5 (InputLayer)            (None, 60)           0                                            \n",
      "__________________________________________________________________________________________________\n",
      "time_distributed_7 (TimeDistrib (None, 60, 12, 20)   1740        input_6[0][0]                    \n",
      "__________________________________________________________________________________________________\n",
      "embedding_5 (Embedding)         (None, 60, 300)      9087900     input_5[0][0]                    \n",
      "__________________________________________________________________________________________________\n",
      "time_distributed_8 (TimeDistrib (None, 60, 20)       2480        time_distributed_7[0][0]         \n",
      "__________________________________________________________________________________________________\n",
      "concatenate_3 (Concatenate)     (None, 60, 320)      0           embedding_5[0][0]                \n",
      "                                                                 time_distributed_8[0][0]         \n",
      "__________________________________________________________________________________________________\n",
      "spatial_dropout1d_3 (SpatialDro (None, 60, 320)      0           concatenate_3[0][0]              \n",
      "__________________________________________________________________________________________________\n",
      "bidirectional_8 (Bidirectional) (None, 60, 200)      336800      spatial_dropout1d_3[0][0]        \n",
      "__________________________________________________________________________________________________\n",
      "bidirectional_9 (Bidirectional) (None, 60, 200)      240800      bidirectional_8[0][0]            \n",
      "__________________________________________________________________________________________________\n",
      "dropout_3 (Dropout)             (None, 60, 200)      0           bidirectional_9[0][0]            \n",
      "__________________________________________________________________________________________________\n",
      "time_distributed_9 (TimeDistrib (None, 60, 50)       10050       dropout_3[0][0]                  \n",
      "__________________________________________________________________________________________________\n",
      "crf_3 (CRF)                     (None, 60, 18)       1278        time_distributed_9[0][0]         \n",
      "==================================================================================================\n",
      "Total params: 9,681,048\n",
      "Trainable params: 593,148\n",
      "Non-trainable params: 9,087,900\n",
      "__________________________________________________________________________________________________\n",
      "None\n",
      "Train on 16619 samples, validate on 875 samples\n",
      "Epoch 1/100\n",
      " - 84s - loss: 0.2041 - crf_accuracy: 0.9434 - val_loss: 0.0527 - val_crf_accuracy: 0.9813\n",
      "Epoch 2/100\n",
      " - 75s - loss: 0.0580 - crf_accuracy: 0.9767 - val_loss: 0.0298 - val_crf_accuracy: 0.9861\n",
      "Epoch 3/100\n",
      " - 75s - loss: 0.0412 - crf_accuracy: 0.9808 - val_loss: 0.0188 - val_crf_accuracy: 0.9886\n",
      "Epoch 4/100\n",
      " - 75s - loss: 0.0299 - crf_accuracy: 0.9833 - val_loss: 0.0107 - val_crf_accuracy: 0.9904\n",
      "Epoch 5/100\n",
      " - 75s - loss: 0.0206 - crf_accuracy: 0.9850 - val_loss: 0.0052 - val_crf_accuracy: 0.9900\n",
      "Epoch 6/100\n",
      " - 75s - loss: 0.0114 - crf_accuracy: 0.9863 - val_loss: -2.5637e-03 - val_crf_accuracy: 0.9912\n",
      "Epoch 7/100\n",
      " - 75s - loss: 0.0030 - crf_accuracy: 0.9870 - val_loss: -9.8738e-03 - val_crf_accuracy: 0.9909\n",
      "Epoch 8/100\n",
      " - 75s - loss: -6.7642e-03 - crf_accuracy: 0.9881 - val_loss: -1.7432e-02 - val_crf_accuracy: 0.9914\n",
      "Epoch 9/100\n",
      " - 75s - loss: -1.6391e-02 - crf_accuracy: 0.9889 - val_loss: -2.6118e-02 - val_crf_accuracy: 0.9918\n",
      "Epoch 10/100\n",
      " - 75s - loss: -2.5657e-02 - crf_accuracy: 0.9895 - val_loss: -3.3997e-02 - val_crf_accuracy: 0.9925\n",
      "Epoch 11/100\n",
      " - 75s - loss: -3.5526e-02 - crf_accuracy: 0.9901 - val_loss: -4.4405e-02 - val_crf_accuracy: 0.9922\n",
      "Epoch 12/100\n",
      " - 75s - loss: -4.5465e-02 - crf_accuracy: 0.9907 - val_loss: -5.2746e-02 - val_crf_accuracy: 0.9928\n",
      "Epoch 13/100\n",
      " - 75s - loss: -5.5214e-02 - crf_accuracy: 0.9911 - val_loss: -6.1395e-02 - val_crf_accuracy: 0.9924\n",
      "Epoch 14/100\n",
      " - 75s - loss: -6.4794e-02 - crf_accuracy: 0.9915 - val_loss: -6.9250e-02 - val_crf_accuracy: 0.9919\n",
      "Epoch 15/100\n",
      " - 80s - loss: -7.4617e-02 - crf_accuracy: 0.9920 - val_loss: -7.8822e-02 - val_crf_accuracy: 0.9928\n",
      "Epoch 16/100\n",
      " - 83s - loss: -8.3696e-02 - crf_accuracy: 0.9923 - val_loss: -8.7519e-02 - val_crf_accuracy: 0.9929\n",
      "Epoch 17/100\n",
      " - 84s - loss: -9.3698e-02 - crf_accuracy: 0.9928 - val_loss: -9.4105e-02 - val_crf_accuracy: 0.9922\n",
      "Epoch 18/100\n",
      " - 78s - loss: -1.0337e-01 - crf_accuracy: 0.9933 - val_loss: -1.0509e-01 - val_crf_accuracy: 0.9926\n",
      "Epoch 19/100\n",
      " - 83s - loss: -1.1285e-01 - crf_accuracy: 0.9936 - val_loss: -1.1350e-01 - val_crf_accuracy: 0.9924\n",
      "Epoch 20/100\n",
      " - 84s - loss: -1.2239e-01 - crf_accuracy: 0.9939 - val_loss: -1.2240e-01 - val_crf_accuracy: 0.9929\n",
      "Epoch 21/100\n",
      " - 84s - loss: -1.3162e-01 - crf_accuracy: 0.9942 - val_loss: -1.3059e-01 - val_crf_accuracy: 0.9931\n",
      "Epoch 22/100\n",
      " - 84s - loss: -1.4109e-01 - crf_accuracy: 0.9945 - val_loss: -1.3909e-01 - val_crf_accuracy: 0.9930\n",
      "Epoch 23/100\n",
      " - 84s - loss: -1.5037e-01 - crf_accuracy: 0.9949 - val_loss: -1.4771e-01 - val_crf_accuracy: 0.9932\n",
      "Epoch 24/100\n",
      " - 84s - loss: -1.5954e-01 - crf_accuracy: 0.9951 - val_loss: -1.5586e-01 - val_crf_accuracy: 0.9930\n",
      "Epoch 25/100\n",
      " - 84s - loss: -1.6877e-01 - crf_accuracy: 0.9953 - val_loss: -1.6516e-01 - val_crf_accuracy: 0.9932\n",
      "Epoch 26/100\n",
      " - 84s - loss: -1.7802e-01 - crf_accuracy: 0.9956 - val_loss: -1.7275e-01 - val_crf_accuracy: 0.9928\n",
      "Epoch 27/100\n",
      " - 84s - loss: -1.8703e-01 - crf_accuracy: 0.9957 - val_loss: -1.8179e-01 - val_crf_accuracy: 0.9933\n",
      "Epoch 28/100\n",
      " - 84s - loss: -1.9622e-01 - crf_accuracy: 0.9960 - val_loss: -1.8970e-01 - val_crf_accuracy: 0.9932\n",
      "Epoch 29/100\n",
      " - 84s - loss: -2.0532e-01 - crf_accuracy: 0.9962 - val_loss: -1.9879e-01 - val_crf_accuracy: 0.9932\n",
      "Epoch 30/100\n",
      " - 84s - loss: -2.1446e-01 - crf_accuracy: 0.9964 - val_loss: -2.0620e-01 - val_crf_accuracy: 0.9928\n",
      "Epoch 31/100\n",
      " - 84s - loss: -2.2340e-01 - crf_accuracy: 0.9964 - val_loss: -2.1394e-01 - val_crf_accuracy: 0.9928\n",
      "Epoch 32/100\n",
      " - 84s - loss: -2.3176e-01 - crf_accuracy: 0.9964 - val_loss: -2.2444e-01 - val_crf_accuracy: 0.9936\n",
      "Epoch 33/100\n",
      " - 84s - loss: -2.4119e-01 - crf_accuracy: 0.9967 - val_loss: -2.3204e-01 - val_crf_accuracy: 0.9938\n",
      "Epoch 34/100\n",
      " - 84s - loss: -2.5014e-01 - crf_accuracy: 0.9969 - val_loss: -2.3995e-01 - val_crf_accuracy: 0.9932\n",
      "Epoch 35/100\n",
      " - 84s - loss: -2.5926e-01 - crf_accuracy: 0.9971 - val_loss: -2.4981e-01 - val_crf_accuracy: 0.9934\n",
      "Epoch 36/100\n",
      " - 84s - loss: -2.6790e-01 - crf_accuracy: 0.9972 - val_loss: -2.5915e-01 - val_crf_accuracy: 0.9941\n",
      "Epoch 37/100\n",
      " - 84s - loss: -2.7699e-01 - crf_accuracy: 0.9972 - val_loss: -2.6498e-01 - val_crf_accuracy: 0.9928\n",
      "Epoch 38/100\n",
      " - 84s - loss: -2.8582e-01 - crf_accuracy: 0.9973 - val_loss: -2.7411e-01 - val_crf_accuracy: 0.9933\n",
      "Epoch 39/100\n",
      " - 83s - loss: -2.9460e-01 - crf_accuracy: 0.9973 - val_loss: -2.8380e-01 - val_crf_accuracy: 0.9939\n",
      "Epoch 40/100\n",
      " - 80s - loss: -3.0354e-01 - crf_accuracy: 0.9976 - val_loss: -2.9125e-01 - val_crf_accuracy: 0.9932\n",
      "Epoch 41/100\n",
      " - 83s - loss: -3.1233e-01 - crf_accuracy: 0.9975 - val_loss: -3.0104e-01 - val_crf_accuracy: 0.9931\n",
      "Epoch 42/100\n",
      " - 79s - loss: -3.2090e-01 - crf_accuracy: 0.9977 - val_loss: -3.0741e-01 - val_crf_accuracy: 0.9930\n",
      "Epoch 43/100\n",
      " - 83s - loss: -3.3012e-01 - crf_accuracy: 0.9978 - val_loss: -3.1576e-01 - val_crf_accuracy: 0.9933\n",
      "Epoch 44/100\n",
      " - 80s - loss: -3.3877e-01 - crf_accuracy: 0.9978 - val_loss: -3.2445e-01 - val_crf_accuracy: 0.9936\n",
      "Epoch 45/100\n",
      " - 76s - loss: -3.4768e-01 - crf_accuracy: 0.9979 - val_loss: -3.3375e-01 - val_crf_accuracy: 0.9935\n",
      "Epoch 46/100\n",
      " - 75s - loss: -3.5632e-01 - crf_accuracy: 0.9979 - val_loss: -3.4091e-01 - val_crf_accuracy: 0.9934\n",
      "Restoring model weights from the end of the best epoch\n",
      "Epoch 00046: early stopping\n"
     ]
    },
    {
     "data": {
      "image/png": "[encoded data removed]",
      "text/plain": [
       "<Figure size 432x288 with 1 Axes>"
      ]
     },
     "metadata": {},
     "output_type": "display_data"
    },
    {
     "name": "stdout",
     "output_type": "stream",
     "text": [
      "processed 51145 tokens with 5907 phrases; found: 5866 phrases; correct: 4661.\n",
      "accuracy:  79.42%; (non-O)\n",
      "accuracy:  96.00%; precision:  79.46%; recall:  78.91%; FB1:  79.18\n",
      "              LOC: precision:  85.33%; recall:  78.55%; FB1:  81.80  1691\n",
      "             MISC: precision:  68.49%; recall:  65.22%; FB1:  66.82  876\n",
      "              ORG: precision:  74.48%; recall:  77.26%; FB1:  75.84  1391\n",
      "              PER: precision:  82.91%; recall:  87.45%; FB1:  85.12  1908\n"
     ]
    }
   ],
   "source": [
    "configs, results, preds, histories = run_models(configs, splits, splits_char, embedding_mats, \n",
    "                                                words, max_len, n_words, idx2word, idx2tag,\n",
    "                                                n_tags, max_len_char, n_words, n_chars,\n",
    "                                                run_name='english_conll2003_traindev', out_folder=out_folder,\n",
    "                                                skip_if_model_exists=True,\n",
    "                                                validation_split=validation_split,\n",
    "                                                extra_predictions=extra_preds,\n",
    "                                                )"
   ]
  },
  {
   "cell_type": "code",
   "execution_count": 53,
   "metadata": {},
   "outputs": [],
   "source": [
    "trunc_testb = []\n",
    "for s in testb_sents:\n",
    "    for t, b in s[:60]:\n",
    "        trunc_testb.append(b)"
   ]
  },
  {
   "cell_type": "code",
   "execution_count": 54,
   "metadata": {},
   "outputs": [],
   "source": [
    " \n",
    "with open('results/english_conll2003/english_conll2003-0-extra_preds-0.pkl', 'rb') as f:\n",
    "    p = pickle.load(f)\n",
    "    "
   ]
  },
  {
   "cell_type": "code",
   "execution_count": 58,
   "metadata": {},
   "outputs": [
    {
     "data": {
      "text/plain": [
       "(46292, 46292)"
      ]
     },
     "execution_count": 58,
     "metadata": {},
     "output_type": "execute_result"
    }
   ],
   "source": [
    "len(trunc_testb), len(p[0][0])"
   ]
  },
  {
   "cell_type": "code",
   "execution_count": 59,
   "metadata": {},
   "outputs": [
    {
     "data": {
      "text/plain": [
       "{'B-LOC',\n",
       " 'B-MISC',\n",
       " 'B-ORG',\n",
       " 'B-PER',\n",
       " 'E-LOC',\n",
       " 'E-MISC',\n",
       " 'E-ORG',\n",
       " 'E-PER',\n",
       " 'I-LOC',\n",
       " 'I-MISC',\n",
       " 'I-ORG',\n",
       " 'I-PER',\n",
       " 'O',\n",
       " 'S-LOC',\n",
       " 'S-MISC',\n",
       " 'S-ORG',\n",
       " 'S-PER'}"
      ]
     },
     "execution_count": 59,
     "metadata": {},
     "output_type": "execute_result"
    }
   ],
   "source": [
    "set(trunc_testb)"
   ]
  },
  {
   "cell_type": "code",
   "execution_count": 60,
   "metadata": {},
   "outputs": [
    {
     "data": {
      "text/plain": [
       "{'B-LOC',\n",
       " 'B-MISC',\n",
       " 'B-ORG',\n",
       " 'B-PER',\n",
       " 'E-LOC',\n",
       " 'E-MISC',\n",
       " 'E-ORG',\n",
       " 'E-PER',\n",
       " 'I-LOC',\n",
       " 'I-MISC',\n",
       " 'I-ORG',\n",
       " 'I-PER',\n",
       " 'O',\n",
       " 'PAD',\n",
       " 'S-LOC',\n",
       " 'S-MISC',\n",
       " 'S-ORG',\n",
       " 'S-PER'}"
      ]
     },
     "execution_count": 60,
     "metadata": {},
     "output_type": "execute_result"
    }
   ],
   "source": [
    "set(p[0][0])"
   ]
  },
  {
   "cell_type": "code",
   "execution_count": 61,
   "metadata": {},
   "outputs": [
    {
     "name": "stdout",
     "output_type": "stream",
     "text": [
      "processed 46292 tokens with 5740 phrases; found: 5617 phrases; correct: 4136.\n",
      "accuracy:  72.57%; (non-O)\n",
      "accuracy:  94.19%; precision:  73.63%; recall:  72.06%; FB1:  72.84\n",
      "              LOC: precision:  73.25%; recall:  76.48%; FB1:  74.83  1660\n",
      "             MISC: precision:  58.83%; recall:  46.20%; FB1:  51.75  702\n",
      "              ORG: precision:  68.55%; recall:  75.77%; FB1:  71.98  1660\n",
      "              PER: precision:  85.83%; recall:  78.05%; FB1:  81.76  1595\n"
     ]
    },
    {
     "data": {
      "text/plain": [
       "(73.63361224853125, 72.05574912891987, 72.83613630360131)"
      ]
     },
     "execution_count": 61,
     "metadata": {},
     "output_type": "execute_result"
    }
   ],
   "source": [
    "from conlleval import evaluate\n",
    "\n",
    "evaluate(replace_pad_with_o(p[0][0]), trunc_testb)"
   ]
  },
  {
   "cell_type": "code",
   "execution_count": null,
   "metadata": {},
   "outputs": [],
   "source": []
  },
  {
   "cell_type": "code",
   "execution_count": null,
   "metadata": {},
   "outputs": [],
   "source": []
  },
  {
   "cell_type": "code",
   "execution_count": null,
   "metadata": {},
   "outputs": [],
   "source": []
  },
  {
   "cell_type": "code",
   "execution_count": null,
   "metadata": {},
   "outputs": [],
   "source": []
  },
  {
   "cell_type": "code",
   "execution_count": null,
   "metadata": {},
   "outputs": [],
   "source": []
  },
  {
   "cell_type": "code",
   "execution_count": null,
   "metadata": {},
   "outputs": [],
   "source": []
  },
  {
   "cell_type": "code",
   "execution_count": null,
   "metadata": {},
   "outputs": [],
   "source": []
  },
  {
   "cell_type": "code",
   "execution_count": null,
   "metadata": {},
   "outputs": [],
   "source": []
  },
  {
   "cell_type": "code",
   "execution_count": null,
   "metadata": {},
   "outputs": [],
   "source": []
  }
 ],
 "metadata": {
  "kernelspec": {
   "display_name": "tf",
   "language": "python",
   "name": "tf"
  },
  "language_info": {
   "codemirror_mode": {
    "name": "ipython",
    "version": 3
   },
   "file_extension": ".py",
   "mimetype": "text/x-python",
   "name": "python",
   "nbconvert_exporter": "python",
   "pygments_lexer": "ipython3",
   "version": "3.7.5"
  }
 },
 "nbformat": 4,
 "nbformat_minor": 4
}
