{
 "cells": [
  {
   "cell_type": "markdown",
   "metadata": {},
   "source": [
    "# Realistic run of Treebank NER corpus\n",
    "1. New evaluation, based on mention sets (in `11_eval_new.ipynb`)\n",
    "1. Run YAP on test set - realistic_test_set\n",
    "1. Use original Train-Dev-Test splits\n",
    "1. Evaluate using new evaluation"
   ]
  },
  {
   "cell_type": "code",
   "execution_count": 2,
   "metadata": {},
   "outputs": [],
   "source": [
    "import os\n",
    "os.environ[\"CUDA_DEVICE_ORDER\"]=\"PCI_BUS_ID\";\n",
    " \n",
    "# The GPU id to use, usually either \"0\" or \"1\";\n",
    "os.environ[\"CUDA_VISIBLE_DEVICES\"]=\"3\";  "
   ]
  },
  {
   "cell_type": "code",
   "execution_count": 3,
   "metadata": {},
   "outputs": [],
   "source": [
    "%load_ext autoreload\n",
    "%autoreload 2"
   ]
  },
  {
   "cell_type": "code",
   "execution_count": 4,
   "metadata": {
    "ExecuteTime": {
     "end_time": "2019-03-13T07:20:24.034028Z",
     "start_time": "2019-03-13T07:20:22.687626Z"
    }
   },
   "outputs": [],
   "source": [
    "%matplotlib inline"
   ]
  },
  {
   "cell_type": "code",
   "execution_count": 5,
   "metadata": {
    "ExecuteTime": {
     "end_time": "2019-03-13T07:20:24.382406Z",
     "start_time": "2019-03-13T07:20:24.037019Z"
    }
   },
   "outputs": [],
   "source": [
    "import pandas as pd\n",
    "import numpy as np"
   ]
  },
  {
   "cell_type": "code",
   "execution_count": 6,
   "metadata": {
    "ExecuteTime": {
     "end_time": "2019-03-13T07:20:27.996727Z",
     "start_time": "2019-03-13T07:20:24.385088Z"
    }
   },
   "outputs": [],
   "source": [
    "import matplotlib.pyplot as plt\n",
    "import seaborn as sns\n",
    "sns.set_context('paper')\n",
    "sns.set_style('white')"
   ]
  },
  {
   "cell_type": "code",
   "execution_count": 7,
   "metadata": {
    "ExecuteTime": {
     "end_time": "2019-03-13T07:20:28.016424Z",
     "start_time": "2019-03-13T07:20:27.999427Z"
    }
   },
   "outputs": [],
   "source": [
    "from conlleval import evaluate"
   ]
  },
  {
   "cell_type": "code",
   "execution_count": 8,
   "metadata": {},
   "outputs": [
    {
     "name": "stderr",
     "output_type": "stream",
     "text": [
      "Using TensorFlow backend.\n"
     ]
    }
   ],
   "source": [
    "from ner_utils import *"
   ]
  },
  {
   "cell_type": "markdown",
   "metadata": {},
   "source": [
    "## Run YAP on test set - realistic_test_set"
   ]
  },
  {
   "cell_type": "code",
   "execution_count": null,
   "metadata": {},
   "outputs": [],
   "source": []
  },
  {
   "cell_type": "raw",
   "metadata": {},
   "source": [
    "# THIS IS NOT THE SAME TOKENIZATION AS IN YAP TRAINING!\n",
    "from hebtokenizer import tokenize\n",
    "text = []\n",
    "with open('hebtb_test_tokenized.txt', 'w', encoding='utf8') as of: \n",
    "    for tf in sorted(os.listdir('HTB_chunked_2/')):\n",
    "        with open(os.path.join('HTB_chunked_2', tf), 'r', encoding='utf8') as f:\n",
    "            for line in f:\n",
    "                if line.startswith(\"# text = \"):\n",
    "                    tokenized = [t[1] for t in tokenize(line[9:].rstrip())]\n",
    "                    text.append((tf.split('.')[0], tokenized))\n",
    "                    last = tokenized[-1]\n",
    "                    [of.write (t+'\\n') for t in tokenized]\n",
    "                    if last!='\\n':\n",
    "                        of.write('\\n')\n",
    "text[:2]                "
   ]
  },
  {
   "cell_type": "raw",
   "metadata": {},
   "source": [
    "yap_path = '/home/dan/yapproj/src/yap/yap'"
   ]
  },
  {
   "cell_type": "raw",
   "metadata": {},
   "source": [
    "!export GOPATH=/home/dan/yapproj"
   ]
  },
  {
   "cell_type": "raw",
   "metadata": {},
   "source": [
    "!{yap_path}"
   ]
  },
  {
   "cell_type": "raw",
   "metadata": {},
   "source": [
    "!{yap_path} hebma -raw hebtb_test_tokenized.txt -out hebtb_test_lattice.conll"
   ]
  },
  {
   "cell_type": "raw",
   "metadata": {},
   "source": [
    "!{yap_path} joint -in hebtb_test_lattice.conll -os hebtb_test_seg.conll -om hebtb_test_map.conll -oc hebtb_test_dep.conll"
   ]
  },
  {
   "cell_type": "code",
   "execution_count": 9,
   "metadata": {},
   "outputs": [],
   "source": [
    "def make_conll_df(path):\n",
    "    # CoNLL file is tab delimeted with no quoting\n",
    "    # quoting=3 is csv.QUOTE_NONE\n",
    "    df = (pd.read_csv(path, sep='\\t', header=None, quoting=3, \n",
    "                names = ['ID', 'FORM', 'LEMMA', 'UPOS', 'XPOS', 'FEATS', 'HEAD', 'DEPREL', 'DEPS', 'MISC'])\n",
    "                # add sentence labels\n",
    "                .assign(sent = lambda x: (x.ID==1).cumsum())\n",
    "                # replace bad root dependency tags\n",
    "                .replace({'DEPREL': {'prd': 'ROOT'}})\n",
    "               )\n",
    "    \n",
    "    df = df.merge(df[['ID', 'FORM', 'sent', 'UPOS']].rename(index=str, columns={'FORM': 'head_form', 'UPOS': 'head_upos'}).set_index(['sent', 'ID']),\n",
    "               left_on=['sent', 'HEAD'], right_index=True, how='left')\n",
    "    return df"
   ]
  },
  {
   "cell_type": "code",
   "execution_count": 10,
   "metadata": {},
   "outputs": [
    {
     "data": {
      "text/html": [
       "<div>\n",
       "<style scoped>\n",
       "    .dataframe tbody tr th:only-of-type {\n",
       "        vertical-align: middle;\n",
       "    }\n",
       "\n",
       "    .dataframe tbody tr th {\n",
       "        vertical-align: top;\n",
       "    }\n",
       "\n",
       "    .dataframe thead th {\n",
       "        text-align: right;\n",
       "    }\n",
       "</style>\n",
       "<table border=\"1\" class=\"dataframe\">\n",
       "  <thead>\n",
       "    <tr style=\"text-align: right;\">\n",
       "      <th></th>\n",
       "      <th>ID</th>\n",
       "      <th>FORM</th>\n",
       "      <th>LEMMA</th>\n",
       "      <th>UPOS</th>\n",
       "      <th>XPOS</th>\n",
       "      <th>FEATS</th>\n",
       "      <th>HEAD</th>\n",
       "      <th>DEPREL</th>\n",
       "      <th>DEPS</th>\n",
       "      <th>MISC</th>\n",
       "      <th>sent</th>\n",
       "      <th>head_form</th>\n",
       "      <th>head_upos</th>\n",
       "    </tr>\n",
       "  </thead>\n",
       "  <tbody>\n",
       "    <tr>\n",
       "      <th>0</th>\n",
       "      <td>1</td>\n",
       "      <td>הולקומב</td>\n",
       "      <td>הולקומב</td>\n",
       "      <td>NNP</td>\n",
       "      <td>NNP</td>\n",
       "      <td>NaN</td>\n",
       "      <td>3</td>\n",
       "      <td>subj</td>\n",
       "      <td>_</td>\n",
       "      <td>_</td>\n",
       "      <td>1</td>\n",
       "      <td>הזכיר</td>\n",
       "      <td>VB</td>\n",
       "    </tr>\n",
       "    <tr>\n",
       "      <th>1</th>\n",
       "      <td>2</td>\n",
       "      <td>לא</td>\n",
       "      <td>לא</td>\n",
       "      <td>RB</td>\n",
       "      <td>RB</td>\n",
       "      <td>NaN</td>\n",
       "      <td>3</td>\n",
       "      <td>neg</td>\n",
       "      <td>_</td>\n",
       "      <td>_</td>\n",
       "      <td>1</td>\n",
       "      <td>הזכיר</td>\n",
       "      <td>VB</td>\n",
       "    </tr>\n",
       "    <tr>\n",
       "      <th>2</th>\n",
       "      <td>3</td>\n",
       "      <td>הזכיר</td>\n",
       "      <td>הזכיר</td>\n",
       "      <td>VB</td>\n",
       "      <td>VB</td>\n",
       "      <td>gen=M|num=S|per=3|tense=PAST</td>\n",
       "      <td>8</td>\n",
       "      <td>conj</td>\n",
       "      <td>_</td>\n",
       "      <td>_</td>\n",
       "      <td>1</td>\n",
       "      <td>ו</td>\n",
       "      <td>CONJ</td>\n",
       "    </tr>\n",
       "    <tr>\n",
       "      <th>3</th>\n",
       "      <td>4</td>\n",
       "      <td>את</td>\n",
       "      <td>את</td>\n",
       "      <td>AT</td>\n",
       "      <td>AT</td>\n",
       "      <td>NaN</td>\n",
       "      <td>3</td>\n",
       "      <td>obj</td>\n",
       "      <td>_</td>\n",
       "      <td>_</td>\n",
       "      <td>1</td>\n",
       "      <td>הזכיר</td>\n",
       "      <td>VB</td>\n",
       "    </tr>\n",
       "    <tr>\n",
       "      <th>4</th>\n",
       "      <td>5</td>\n",
       "      <td>יכולתו</td>\n",
       "      <td>יכולת</td>\n",
       "      <td>NN</td>\n",
       "      <td>NN</td>\n",
       "      <td>gen=F|num=S|suf_gen=M|suf_num=S|suf_per=3</td>\n",
       "      <td>4</td>\n",
       "      <td>hd</td>\n",
       "      <td>_</td>\n",
       "      <td>_</td>\n",
       "      <td>1</td>\n",
       "      <td>את</td>\n",
       "      <td>AT</td>\n",
       "    </tr>\n",
       "  </tbody>\n",
       "</table>\n",
       "</div>"
      ],
      "text/plain": [
       "   ID     FORM    LEMMA UPOS XPOS                                      FEATS  \\\n",
       "0   1  הולקומב  הולקומב  NNP  NNP                                        NaN   \n",
       "1   2       לא       לא   RB   RB                                        NaN   \n",
       "2   3    הזכיר    הזכיר   VB   VB               gen=M|num=S|per=3|tense=PAST   \n",
       "3   4       את       את   AT   AT                                        NaN   \n",
       "4   5   יכולתו    יכולת   NN   NN  gen=F|num=S|suf_gen=M|suf_num=S|suf_per=3   \n",
       "\n",
       "   HEAD DEPREL DEPS MISC  sent head_form head_upos  \n",
       "0     3   subj    _    _     1     הזכיר        VB  \n",
       "1     3    neg    _    _     1     הזכיר        VB  \n",
       "2     8   conj    _    _     1         ו      CONJ  \n",
       "3     3    obj    _    _     1     הזכיר        VB  \n",
       "4     4     hd    _    _     1        את        AT  "
      ]
     },
     "execution_count": 10,
     "metadata": {},
     "output_type": "execute_result"
    }
   ],
   "source": [
    "test_df = make_conll_df('hebtb_test_dep.conll')\n",
    "test_df.head()"
   ]
  },
  {
   "cell_type": "code",
   "execution_count": 11,
   "metadata": {},
   "outputs": [
    {
     "data": {
      "text/plain": [
       "sent\n",
       "1    [[הולקומב, NNP], [לא, RB], [הזכיר, VB], [את, A...\n",
       "2    [[ב, PREPOSITION], [ה, DEF], [דקה, NN], [ה, DE...\n",
       "3    [[יציאתו, NN], [של, POS], [ליף, NNP], [גררה, V...\n",
       "4    [[אולם, CC], [קמבל, NNP], [ו, CONJ], [גורדון, ...\n",
       "5    [[מלכתחילה, RB], [היה, COP], [ברור, JJ], [ש, R...\n",
       "dtype: object"
      ]
     },
     "execution_count": 11,
     "metadata": {},
     "output_type": "execute_result"
    }
   ],
   "source": [
    "real_test_sents =  test_df.groupby('sent')[['FORM', 'UPOS']].apply(lambda x: x.values.tolist())\n",
    "real_test_sents.head()"
   ]
  },
  {
   "cell_type": "markdown",
   "metadata": {},
   "source": [
    "## Prepare corpus"
   ]
  },
  {
   "cell_type": "code",
   "execution_count": 12,
   "metadata": {},
   "outputs": [],
   "source": [
    "df = (pd.read_csv('curation.csv.gz')\n",
    "      .assign(sent=lambda x: x.file+'_'+x.sent.astype(str)))"
   ]
  },
  {
   "cell_type": "code",
   "execution_count": 13,
   "metadata": {},
   "outputs": [
    {
     "data": {
      "text/html": [
       "<div>\n",
       "<style scoped>\n",
       "    .dataframe tbody tr th:only-of-type {\n",
       "        vertical-align: middle;\n",
       "    }\n",
       "\n",
       "    .dataframe tbody tr th {\n",
       "        vertical-align: top;\n",
       "    }\n",
       "\n",
       "    .dataframe thead th {\n",
       "        text-align: right;\n",
       "    }\n",
       "</style>\n",
       "<table border=\"1\" class=\"dataframe\">\n",
       "  <thead>\n",
       "    <tr style=\"text-align: right;\">\n",
       "      <th></th>\n",
       "      <th>sent_tok_num</th>\n",
       "      <th>tok_offset</th>\n",
       "      <th>token</th>\n",
       "      <th>FEAT_gender</th>\n",
       "      <th>FEAT_number</th>\n",
       "      <th>FEAT_case</th>\n",
       "      <th>FEAT_degree</th>\n",
       "      <th>FEAT_transitivity</th>\n",
       "      <th>FEAT_tense</th>\n",
       "      <th>FEAT_mood</th>\n",
       "      <th>...</th>\n",
       "      <th>dep_flavor</th>\n",
       "      <th>dep_lex_morph_pos</th>\n",
       "      <th>dep_arc</th>\n",
       "      <th>EXTRA</th>\n",
       "      <th>sent</th>\n",
       "      <th>ner_layers</th>\n",
       "      <th>ner_type</th>\n",
       "      <th>is_ner</th>\n",
       "      <th>biose</th>\n",
       "      <th>file</th>\n",
       "    </tr>\n",
       "  </thead>\n",
       "  <tbody>\n",
       "    <tr>\n",
       "      <th>0</th>\n",
       "      <td>1-1</td>\n",
       "      <td>0-5</td>\n",
       "      <td>עשרות</td>\n",
       "      <td>Fem</td>\n",
       "      <td>Plur</td>\n",
       "      <td>*</td>\n",
       "      <td>*</td>\n",
       "      <td>*</td>\n",
       "      <td>*</td>\n",
       "      <td>*</td>\n",
       "      <td>...</td>\n",
       "      <td>basic</td>\n",
       "      <td>1-2</td>\n",
       "      <td>NaN</td>\n",
       "      <td>NaN</td>\n",
       "      <td>dev_1-100.tsv_1</td>\n",
       "      <td>0</td>\n",
       "      <td>_</td>\n",
       "      <td>False</td>\n",
       "      <td>O</td>\n",
       "      <td>dev_1-100.tsv</td>\n",
       "    </tr>\n",
       "    <tr>\n",
       "      <th>1</th>\n",
       "      <td>1-2</td>\n",
       "      <td>6-11</td>\n",
       "      <td>אנשים</td>\n",
       "      <td>Masc</td>\n",
       "      <td>Plur</td>\n",
       "      <td>*</td>\n",
       "      <td>*</td>\n",
       "      <td>*</td>\n",
       "      <td>*</td>\n",
       "      <td>*</td>\n",
       "      <td>...</td>\n",
       "      <td>basic</td>\n",
       "      <td>1-3</td>\n",
       "      <td>NaN</td>\n",
       "      <td>NaN</td>\n",
       "      <td>dev_1-100.tsv_1</td>\n",
       "      <td>0</td>\n",
       "      <td>_</td>\n",
       "      <td>False</td>\n",
       "      <td>O</td>\n",
       "      <td>dev_1-100.tsv</td>\n",
       "    </tr>\n",
       "    <tr>\n",
       "      <th>2</th>\n",
       "      <td>1-3</td>\n",
       "      <td>12-18</td>\n",
       "      <td>מגיעים</td>\n",
       "      <td>Masc</td>\n",
       "      <td>Plur</td>\n",
       "      <td>*</td>\n",
       "      <td>*</td>\n",
       "      <td>*</td>\n",
       "      <td>*</td>\n",
       "      <td>*</td>\n",
       "      <td>...</td>\n",
       "      <td>basic</td>\n",
       "      <td>1-3</td>\n",
       "      <td>NaN</td>\n",
       "      <td>NaN</td>\n",
       "      <td>dev_1-100.tsv_1</td>\n",
       "      <td>0</td>\n",
       "      <td>_</td>\n",
       "      <td>False</td>\n",
       "      <td>O</td>\n",
       "      <td>dev_1-100.tsv</td>\n",
       "    </tr>\n",
       "    <tr>\n",
       "      <th>3</th>\n",
       "      <td>1-4</td>\n",
       "      <td>19-20</td>\n",
       "      <td>מ</td>\n",
       "      <td>_</td>\n",
       "      <td>_</td>\n",
       "      <td>_</td>\n",
       "      <td>_</td>\n",
       "      <td>_</td>\n",
       "      <td>_</td>\n",
       "      <td>_</td>\n",
       "      <td>...</td>\n",
       "      <td>basic</td>\n",
       "      <td>1-5</td>\n",
       "      <td>NaN</td>\n",
       "      <td>NaN</td>\n",
       "      <td>dev_1-100.tsv_1</td>\n",
       "      <td>0</td>\n",
       "      <td>_</td>\n",
       "      <td>False</td>\n",
       "      <td>O</td>\n",
       "      <td>dev_1-100.tsv</td>\n",
       "    </tr>\n",
       "    <tr>\n",
       "      <th>4</th>\n",
       "      <td>1-5</td>\n",
       "      <td>21-27</td>\n",
       "      <td>תאילנד</td>\n",
       "      <td>_</td>\n",
       "      <td>_</td>\n",
       "      <td>_</td>\n",
       "      <td>_</td>\n",
       "      <td>_</td>\n",
       "      <td>_</td>\n",
       "      <td>_</td>\n",
       "      <td>...</td>\n",
       "      <td>basic</td>\n",
       "      <td>1-3</td>\n",
       "      <td>NaN</td>\n",
       "      <td>NaN</td>\n",
       "      <td>dev_1-100.tsv_1</td>\n",
       "      <td>1</td>\n",
       "      <td>GPE</td>\n",
       "      <td>True</td>\n",
       "      <td>S-GPE</td>\n",
       "      <td>dev_1-100.tsv</td>\n",
       "    </tr>\n",
       "  </tbody>\n",
       "</table>\n",
       "<p>5 rows × 30 columns</p>\n",
       "</div>"
      ],
      "text/plain": [
       "  sent_tok_num tok_offset   token FEAT_gender FEAT_number FEAT_case  \\\n",
       "0          1-1        0-5   עשרות         Fem        Plur         *   \n",
       "1          1-2       6-11   אנשים        Masc        Plur         *   \n",
       "2          1-3      12-18  מגיעים        Masc        Plur         *   \n",
       "3          1-4      19-20       מ           _           _         _   \n",
       "4          1-5      21-27  תאילנד           _           _         _   \n",
       "\n",
       "  FEAT_degree FEAT_transitivity FEAT_tense FEAT_mood  ... dep_flavor  \\\n",
       "0           *                 *          *         *  ...      basic   \n",
       "1           *                 *          *         *  ...      basic   \n",
       "2           *                 *          *         *  ...      basic   \n",
       "3           _                 _          _         _  ...      basic   \n",
       "4           _                 _          _         _  ...      basic   \n",
       "\n",
       "  dep_lex_morph_pos dep_arc EXTRA             sent ner_layers ner_type is_ner  \\\n",
       "0               1-2     NaN   NaN  dev_1-100.tsv_1          0        _  False   \n",
       "1               1-3     NaN   NaN  dev_1-100.tsv_1          0        _  False   \n",
       "2               1-3     NaN   NaN  dev_1-100.tsv_1          0        _  False   \n",
       "3               1-5     NaN   NaN  dev_1-100.tsv_1          0        _  False   \n",
       "4               1-3     NaN   NaN  dev_1-100.tsv_1          1      GPE   True   \n",
       "\n",
       "   biose           file  \n",
       "0      O  dev_1-100.tsv  \n",
       "1      O  dev_1-100.tsv  \n",
       "2      O  dev_1-100.tsv  \n",
       "3      O  dev_1-100.tsv  \n",
       "4  S-GPE  dev_1-100.tsv  \n",
       "\n",
       "[5 rows x 30 columns]"
      ]
     },
     "execution_count": 13,
     "metadata": {},
     "output_type": "execute_result"
    }
   ],
   "source": [
    "df.head()"
   ]
  },
  {
   "cell_type": "code",
   "execution_count": 14,
   "metadata": {},
   "outputs": [
    {
     "data": {
      "text/html": [
       "<div>\n",
       "<style scoped>\n",
       "    .dataframe tbody tr th:only-of-type {\n",
       "        vertical-align: middle;\n",
       "    }\n",
       "\n",
       "    .dataframe tbody tr th {\n",
       "        vertical-align: top;\n",
       "    }\n",
       "\n",
       "    .dataframe thead th {\n",
       "        text-align: right;\n",
       "    }\n",
       "</style>\n",
       "<table border=\"1\" class=\"dataframe\">\n",
       "  <thead>\n",
       "    <tr style=\"text-align: right;\">\n",
       "      <th></th>\n",
       "      <th>0</th>\n",
       "      <th>1</th>\n",
       "      <th>2</th>\n",
       "      <th>3</th>\n",
       "      <th>4</th>\n",
       "    </tr>\n",
       "  </thead>\n",
       "  <tbody>\n",
       "    <tr>\n",
       "      <th>sent_tok_num</th>\n",
       "      <td>1-1</td>\n",
       "      <td>1-2</td>\n",
       "      <td>1-3</td>\n",
       "      <td>1-4</td>\n",
       "      <td>1-5</td>\n",
       "    </tr>\n",
       "    <tr>\n",
       "      <th>tok_offset</th>\n",
       "      <td>0-5</td>\n",
       "      <td>6-11</td>\n",
       "      <td>12-18</td>\n",
       "      <td>19-20</td>\n",
       "      <td>21-27</td>\n",
       "    </tr>\n",
       "    <tr>\n",
       "      <th>token</th>\n",
       "      <td>עשרות</td>\n",
       "      <td>אנשים</td>\n",
       "      <td>מגיעים</td>\n",
       "      <td>מ</td>\n",
       "      <td>תאילנד</td>\n",
       "    </tr>\n",
       "    <tr>\n",
       "      <th>FEAT_gender</th>\n",
       "      <td>Fem</td>\n",
       "      <td>Masc</td>\n",
       "      <td>Masc</td>\n",
       "      <td>_</td>\n",
       "      <td>_</td>\n",
       "    </tr>\n",
       "    <tr>\n",
       "      <th>FEAT_number</th>\n",
       "      <td>Plur</td>\n",
       "      <td>Plur</td>\n",
       "      <td>Plur</td>\n",
       "      <td>_</td>\n",
       "      <td>_</td>\n",
       "    </tr>\n",
       "    <tr>\n",
       "      <th>FEAT_case</th>\n",
       "      <td>*</td>\n",
       "      <td>*</td>\n",
       "      <td>*</td>\n",
       "      <td>_</td>\n",
       "      <td>_</td>\n",
       "    </tr>\n",
       "    <tr>\n",
       "      <th>FEAT_degree</th>\n",
       "      <td>*</td>\n",
       "      <td>*</td>\n",
       "      <td>*</td>\n",
       "      <td>_</td>\n",
       "      <td>_</td>\n",
       "    </tr>\n",
       "    <tr>\n",
       "      <th>FEAT_transitivity</th>\n",
       "      <td>*</td>\n",
       "      <td>*</td>\n",
       "      <td>*</td>\n",
       "      <td>_</td>\n",
       "      <td>_</td>\n",
       "    </tr>\n",
       "    <tr>\n",
       "      <th>FEAT_tense</th>\n",
       "      <td>*</td>\n",
       "      <td>*</td>\n",
       "      <td>*</td>\n",
       "      <td>_</td>\n",
       "      <td>_</td>\n",
       "    </tr>\n",
       "    <tr>\n",
       "      <th>FEAT_mood</th>\n",
       "      <td>*</td>\n",
       "      <td>*</td>\n",
       "      <td>*</td>\n",
       "      <td>_</td>\n",
       "      <td>_</td>\n",
       "    </tr>\n",
       "    <tr>\n",
       "      <th>FEAT_voice</th>\n",
       "      <td>*</td>\n",
       "      <td>*</td>\n",
       "      <td>Act</td>\n",
       "      <td>_</td>\n",
       "      <td>_</td>\n",
       "    </tr>\n",
       "    <tr>\n",
       "      <th>FEAT_definiteness</th>\n",
       "      <td>*</td>\n",
       "      <td>*</td>\n",
       "      <td>*</td>\n",
       "      <td>_</td>\n",
       "      <td>_</td>\n",
       "    </tr>\n",
       "    <tr>\n",
       "      <th>FEAT_value</th>\n",
       "      <td>Definite=Cons\\|Gender=Fem\\|Number=Plur</td>\n",
       "      <td>Gender=Masc\\|Number=Plur</td>\n",
       "      <td>Gender=Masc\\|HebBinyan=HIFIL\\|Number=Plur\\|Per...</td>\n",
       "      <td>_</td>\n",
       "      <td>_</td>\n",
       "    </tr>\n",
       "    <tr>\n",
       "      <th>FEAT_person</th>\n",
       "      <td>*</td>\n",
       "      <td>*</td>\n",
       "      <td>1,2,3</td>\n",
       "      <td>_</td>\n",
       "      <td>_</td>\n",
       "    </tr>\n",
       "    <tr>\n",
       "      <th>FEAT_aspect</th>\n",
       "      <td>*</td>\n",
       "      <td>*</td>\n",
       "      <td>*</td>\n",
       "      <td>_</td>\n",
       "      <td>_</td>\n",
       "    </tr>\n",
       "    <tr>\n",
       "      <th>pos</th>\n",
       "      <td>NUM</td>\n",
       "      <td>NOUN</td>\n",
       "      <td>VERB</td>\n",
       "      <td>ADP</td>\n",
       "      <td>PROPN</td>\n",
       "    </tr>\n",
       "    <tr>\n",
       "      <th>ner</th>\n",
       "      <td>_</td>\n",
       "      <td>_</td>\n",
       "      <td>_</td>\n",
       "      <td>_</td>\n",
       "      <td>GPE</td>\n",
       "    </tr>\n",
       "    <tr>\n",
       "      <th>lemma</th>\n",
       "      <td>עשרות</td>\n",
       "      <td>איש</td>\n",
       "      <td>הגיע</td>\n",
       "      <td>מ</td>\n",
       "      <td>תאילנד</td>\n",
       "    </tr>\n",
       "    <tr>\n",
       "      <th>surface_form</th>\n",
       "      <td>_</td>\n",
       "      <td>_</td>\n",
       "      <td>_</td>\n",
       "      <td>מתאילנד[84]</td>\n",
       "      <td>מתאילנד[84]</td>\n",
       "    </tr>\n",
       "    <tr>\n",
       "      <th>dep_type</th>\n",
       "      <td>nummod</td>\n",
       "      <td>nsubj</td>\n",
       "      <td>root</td>\n",
       "      <td>case</td>\n",
       "      <td>obl</td>\n",
       "    </tr>\n",
       "    <tr>\n",
       "      <th>dep_flavor</th>\n",
       "      <td>basic</td>\n",
       "      <td>basic</td>\n",
       "      <td>basic</td>\n",
       "      <td>basic</td>\n",
       "      <td>basic</td>\n",
       "    </tr>\n",
       "    <tr>\n",
       "      <th>dep_lex_morph_pos</th>\n",
       "      <td>1-2</td>\n",
       "      <td>1-3</td>\n",
       "      <td>1-3</td>\n",
       "      <td>1-5</td>\n",
       "      <td>1-3</td>\n",
       "    </tr>\n",
       "    <tr>\n",
       "      <th>dep_arc</th>\n",
       "      <td>NaN</td>\n",
       "      <td>NaN</td>\n",
       "      <td>NaN</td>\n",
       "      <td>NaN</td>\n",
       "      <td>NaN</td>\n",
       "    </tr>\n",
       "    <tr>\n",
       "      <th>EXTRA</th>\n",
       "      <td>NaN</td>\n",
       "      <td>NaN</td>\n",
       "      <td>NaN</td>\n",
       "      <td>NaN</td>\n",
       "      <td>NaN</td>\n",
       "    </tr>\n",
       "    <tr>\n",
       "      <th>sent</th>\n",
       "      <td>dev_1-100.tsv_1</td>\n",
       "      <td>dev_1-100.tsv_1</td>\n",
       "      <td>dev_1-100.tsv_1</td>\n",
       "      <td>dev_1-100.tsv_1</td>\n",
       "      <td>dev_1-100.tsv_1</td>\n",
       "    </tr>\n",
       "    <tr>\n",
       "      <th>ner_layers</th>\n",
       "      <td>0</td>\n",
       "      <td>0</td>\n",
       "      <td>0</td>\n",
       "      <td>0</td>\n",
       "      <td>1</td>\n",
       "    </tr>\n",
       "    <tr>\n",
       "      <th>ner_type</th>\n",
       "      <td>_</td>\n",
       "      <td>_</td>\n",
       "      <td>_</td>\n",
       "      <td>_</td>\n",
       "      <td>GPE</td>\n",
       "    </tr>\n",
       "    <tr>\n",
       "      <th>is_ner</th>\n",
       "      <td>False</td>\n",
       "      <td>False</td>\n",
       "      <td>False</td>\n",
       "      <td>False</td>\n",
       "      <td>True</td>\n",
       "    </tr>\n",
       "    <tr>\n",
       "      <th>biose</th>\n",
       "      <td>O</td>\n",
       "      <td>O</td>\n",
       "      <td>O</td>\n",
       "      <td>O</td>\n",
       "      <td>S-GPE</td>\n",
       "    </tr>\n",
       "    <tr>\n",
       "      <th>file</th>\n",
       "      <td>dev_1-100.tsv</td>\n",
       "      <td>dev_1-100.tsv</td>\n",
       "      <td>dev_1-100.tsv</td>\n",
       "      <td>dev_1-100.tsv</td>\n",
       "      <td>dev_1-100.tsv</td>\n",
       "    </tr>\n",
       "  </tbody>\n",
       "</table>\n",
       "</div>"
      ],
      "text/plain": [
       "                                                        0  \\\n",
       "sent_tok_num                                          1-1   \n",
       "tok_offset                                            0-5   \n",
       "token                                               עשרות   \n",
       "FEAT_gender                                           Fem   \n",
       "FEAT_number                                          Plur   \n",
       "FEAT_case                                               *   \n",
       "FEAT_degree                                             *   \n",
       "FEAT_transitivity                                       *   \n",
       "FEAT_tense                                              *   \n",
       "FEAT_mood                                               *   \n",
       "FEAT_voice                                              *   \n",
       "FEAT_definiteness                                       *   \n",
       "FEAT_value         Definite=Cons\\|Gender=Fem\\|Number=Plur   \n",
       "FEAT_person                                             *   \n",
       "FEAT_aspect                                             *   \n",
       "pos                                                   NUM   \n",
       "ner                                                     _   \n",
       "lemma                                               עשרות   \n",
       "surface_form                                            _   \n",
       "dep_type                                           nummod   \n",
       "dep_flavor                                          basic   \n",
       "dep_lex_morph_pos                                     1-2   \n",
       "dep_arc                                               NaN   \n",
       "EXTRA                                                 NaN   \n",
       "sent                                      dev_1-100.tsv_1   \n",
       "ner_layers                                              0   \n",
       "ner_type                                                _   \n",
       "is_ner                                              False   \n",
       "biose                                                   O   \n",
       "file                                        dev_1-100.tsv   \n",
       "\n",
       "                                          1  \\\n",
       "sent_tok_num                            1-2   \n",
       "tok_offset                             6-11   \n",
       "token                                 אנשים   \n",
       "FEAT_gender                            Masc   \n",
       "FEAT_number                            Plur   \n",
       "FEAT_case                                 *   \n",
       "FEAT_degree                               *   \n",
       "FEAT_transitivity                         *   \n",
       "FEAT_tense                                *   \n",
       "FEAT_mood                                 *   \n",
       "FEAT_voice                                *   \n",
       "FEAT_definiteness                         *   \n",
       "FEAT_value         Gender=Masc\\|Number=Plur   \n",
       "FEAT_person                               *   \n",
       "FEAT_aspect                               *   \n",
       "pos                                    NOUN   \n",
       "ner                                       _   \n",
       "lemma                                   איש   \n",
       "surface_form                              _   \n",
       "dep_type                              nsubj   \n",
       "dep_flavor                            basic   \n",
       "dep_lex_morph_pos                       1-3   \n",
       "dep_arc                                 NaN   \n",
       "EXTRA                                   NaN   \n",
       "sent                        dev_1-100.tsv_1   \n",
       "ner_layers                                0   \n",
       "ner_type                                  _   \n",
       "is_ner                                False   \n",
       "biose                                     O   \n",
       "file                          dev_1-100.tsv   \n",
       "\n",
       "                                                                   2  \\\n",
       "sent_tok_num                                                     1-3   \n",
       "tok_offset                                                     12-18   \n",
       "token                                                         מגיעים   \n",
       "FEAT_gender                                                     Masc   \n",
       "FEAT_number                                                     Plur   \n",
       "FEAT_case                                                          *   \n",
       "FEAT_degree                                                        *   \n",
       "FEAT_transitivity                                                  *   \n",
       "FEAT_tense                                                         *   \n",
       "FEAT_mood                                                          *   \n",
       "FEAT_voice                                                       Act   \n",
       "FEAT_definiteness                                                  *   \n",
       "FEAT_value         Gender=Masc\\|HebBinyan=HIFIL\\|Number=Plur\\|Per...   \n",
       "FEAT_person                                                    1,2,3   \n",
       "FEAT_aspect                                                        *   \n",
       "pos                                                             VERB   \n",
       "ner                                                                _   \n",
       "lemma                                                           הגיע   \n",
       "surface_form                                                       _   \n",
       "dep_type                                                        root   \n",
       "dep_flavor                                                     basic   \n",
       "dep_lex_morph_pos                                                1-3   \n",
       "dep_arc                                                          NaN   \n",
       "EXTRA                                                            NaN   \n",
       "sent                                                 dev_1-100.tsv_1   \n",
       "ner_layers                                                         0   \n",
       "ner_type                                                           _   \n",
       "is_ner                                                         False   \n",
       "biose                                                              O   \n",
       "file                                                   dev_1-100.tsv   \n",
       "\n",
       "                                 3                4  \n",
       "sent_tok_num                   1-4              1-5  \n",
       "tok_offset                   19-20            21-27  \n",
       "token                            מ           תאילנד  \n",
       "FEAT_gender                      _                _  \n",
       "FEAT_number                      _                _  \n",
       "FEAT_case                        _                _  \n",
       "FEAT_degree                      _                _  \n",
       "FEAT_transitivity                _                _  \n",
       "FEAT_tense                       _                _  \n",
       "FEAT_mood                        _                _  \n",
       "FEAT_voice                       _                _  \n",
       "FEAT_definiteness                _                _  \n",
       "FEAT_value                       _                _  \n",
       "FEAT_person                      _                _  \n",
       "FEAT_aspect                      _                _  \n",
       "pos                            ADP            PROPN  \n",
       "ner                              _              GPE  \n",
       "lemma                            מ           תאילנד  \n",
       "surface_form           מתאילנד[84]      מתאילנד[84]  \n",
       "dep_type                      case              obl  \n",
       "dep_flavor                   basic            basic  \n",
       "dep_lex_morph_pos              1-5              1-3  \n",
       "dep_arc                        NaN              NaN  \n",
       "EXTRA                          NaN              NaN  \n",
       "sent               dev_1-100.tsv_1  dev_1-100.tsv_1  \n",
       "ner_layers                       0                1  \n",
       "ner_type                         _              GPE  \n",
       "is_ner                       False             True  \n",
       "biose                            O            S-GPE  \n",
       "file                 dev_1-100.tsv    dev_1-100.tsv  "
      ]
     },
     "execution_count": 14,
     "metadata": {},
     "output_type": "execute_result"
    }
   ],
   "source": [
    "df.head().T"
   ]
  },
  {
   "cell_type": "code",
   "execution_count": 15,
   "metadata": {},
   "outputs": [
    {
     "data": {
      "text/plain": [
       "sent\n",
       "dev_1-100.tsv_1      [[עשרות, NUM, O], [אנשים, NOUN, O], [מגיעים, V...\n",
       "dev_1-100.tsv_10     [[ישראל, PROPN, B-PER], [ארד, PROPN, E-PER], [...\n",
       "dev_1-100.tsv_100    [[טום, PROPN, B-PER], [הארקין, PROPN, E-PER], ...\n",
       "dev_1-100.tsv_11     [[ח\"כ, NOUN, O], [אלי, PROPN, B-PER], [דיין, P...\n",
       "dev_1-100.tsv_12     [[חברות, NOUN, O], [ה, SCONJ, O], [מעסיקות, VE...\n",
       "dtype: object"
      ]
     },
     "execution_count": 15,
     "metadata": {},
     "output_type": "execute_result"
    }
   ],
   "source": [
    "x=df\n",
    "sents = x.groupby('sent')[['token', 'pos', 'biose']].apply(lambda x: x.values.tolist())\n",
    "sents[:5]"
   ]
  },
  {
   "cell_type": "code",
   "execution_count": 16,
   "metadata": {},
   "outputs": [],
   "source": [
    "import ne_evaluate_mentions as nem"
   ]
  },
  {
   "cell_type": "code",
   "execution_count": 17,
   "metadata": {},
   "outputs": [
    {
     "data": {
      "text/plain": [
       "[('test_5726-5800.tsv_1', 'הולקומב', 'PER', 1),\n",
       " ('test_5726-5800.tsv_1', 'קרטר', 'PER', 1),\n",
       " ('test_5726-5800.tsv_1', 'סמית', 'PER', 1),\n",
       " ('test_5726-5800.tsv_1', 'קמבל', 'PER', 1),\n",
       " ('test_5726-5800.tsv_1', 'בורמור', 'PER', 1),\n",
       " ('test_5726-5800.tsv_1', 'בורמור', 'PER', 2),\n",
       " ('test_5726-5800.tsv_1', 'ה_ גליל', 'ORG', 1),\n",
       " ('test_5726-5800.tsv_1', 'גורדון', 'PER', 1),\n",
       " ('test_5726-5800.tsv_1', 'מטלון', 'PER', 1),\n",
       " ('test_5726-5800.tsv_10', 'האקט', 'PER', 1),\n",
       " ('test_5726-5800.tsv_10', 'חולון', 'ORG', 1),\n",
       " ('test_5726-5800.tsv_11', 'פייגינס', 'PER', 1),\n",
       " ('test_5726-5800.tsv_11', 'חולון', 'ORG', 1),\n",
       " ('test_5726-5800.tsv_12', 'ויליאמס', 'PER', 1),\n",
       " ('test_5726-5800.tsv_12', 'בית\"ר', 'ORG', 1),\n",
       " ('test_5726-5800.tsv_13', 'פייגינס', 'PER', 1),\n",
       " ('test_5726-5800.tsv_13', 'ויליאמס', 'PER', 1),\n",
       " ('test_5726-5800.tsv_13', 'דומאס', 'PER', 1),\n",
       " ('test_5726-5800.tsv_13', 'דלזל', 'PER', 1),\n",
       " ('test_5726-5800.tsv_16', 'מכבי ראשון ל ציון', 'ORG', 1)]"
      ]
     },
     "execution_count": 17,
     "metadata": {},
     "output_type": "execute_result"
    }
   ],
   "source": [
    "test_sents = x.groupby('sent')[['token', 'biose']].apply(lambda x: x.values.tolist())\n",
    "test_mentions = nem.sents_to_mentions(test_sents[test_sents.index.str.startswith('test')])\n",
    "test_mentions[:20]"
   ]
  },
  {
   "cell_type": "code",
   "execution_count": 18,
   "metadata": {},
   "outputs": [
    {
     "data": {
      "text/plain": [
       "17824"
      ]
     },
     "execution_count": 18,
     "metadata": {},
     "output_type": "execute_result"
    }
   ],
   "source": [
    "words = list(set(x[\"token\"].values))\n",
    "n_words = len(words); n_words"
   ]
  },
  {
   "cell_type": "code",
   "execution_count": 19,
   "metadata": {
    "ExecuteTime": {
     "end_time": "2019-03-13T07:20:37.811197Z",
     "start_time": "2019-03-13T07:20:37.785263Z"
    }
   },
   "outputs": [
    {
     "data": {
      "text/plain": [
       "37"
      ]
     },
     "execution_count": 19,
     "metadata": {},
     "output_type": "execute_result"
    }
   ],
   "source": [
    "tags = list(set(x[\"biose\"].values))\n",
    "n_tags = len(tags); n_tags"
   ]
  },
  {
   "cell_type": "code",
   "execution_count": 20,
   "metadata": {},
   "outputs": [
    {
     "data": {
      "text/plain": [
       "<matplotlib.axes._subplots.AxesSubplot at 0x7fb58d6746a0>"
      ]
     },
     "execution_count": 20,
     "metadata": {},
     "output_type": "execute_result"
    },
    {
     "data": {
      "image/png": "[encoded data removed]",
      "text/plain": [
       "<Figure size 432x288 with 1 Axes>"
      ]
     },
     "metadata": {},
     "output_type": "display_data"
    }
   ],
   "source": [
    "x.groupby('sent').size().hist(bins=50)"
   ]
  },
  {
   "cell_type": "code",
   "execution_count": 21,
   "metadata": {
    "ExecuteTime": {
     "end_time": "2019-03-13T07:20:37.844108Z",
     "start_time": "2019-03-13T07:20:37.817179Z"
    }
   },
   "outputs": [],
   "source": [
    "max_len = 80\n",
    "word2idx = {w: i + 2 for i, w in enumerate(words)}\n",
    "word2idx[\"UNK\"] = 1\n",
    "word2idx[\"PAD\"] = 0\n",
    "idx2word = {i: w for w, i in word2idx.items()}\n",
    "tag2idx = {t: i + 1 for i, t in enumerate(tags)}\n",
    "tag2idx[\"PAD\"] = 0\n",
    "idx2tag = {i: w for w, i in tag2idx.items()}"
   ]
  },
  {
   "cell_type": "code",
   "execution_count": 22,
   "metadata": {
    "ExecuteTime": {
     "end_time": "2019-03-13T07:20:47.936127Z",
     "start_time": "2019-03-13T07:20:37.850093Z"
    }
   },
   "outputs": [],
   "source": [
    "from keras.preprocessing.sequence import pad_sequences\n",
    "X = [[word2idx[w[0]] for w in s] for s in sents]"
   ]
  },
  {
   "cell_type": "code",
   "execution_count": 26,
   "metadata": {},
   "outputs": [],
   "source": [
    "#X_real = [[word2idx[w[0]] for w in s] for s in real_test_sents]"
   ]
  },
  {
   "cell_type": "code",
   "execution_count": 27,
   "metadata": {
    "ExecuteTime": {
     "end_time": "2019-03-13T07:20:47.999954Z",
     "start_time": "2019-03-13T07:20:47.940116Z"
    }
   },
   "outputs": [],
   "source": [
    "X = pad_sequences(maxlen=max_len, sequences=X, value=word2idx[\"PAD\"], padding='post', truncating='post')"
   ]
  },
  {
   "cell_type": "code",
   "execution_count": 28,
   "metadata": {
    "ExecuteTime": {
     "end_time": "2019-03-13T07:20:48.014918Z",
     "start_time": "2019-03-13T07:20:48.004944Z"
    }
   },
   "outputs": [
    {
     "data": {
      "text/plain": [
       "array([ 7393, 16803, 14809,  9505, 14857, 15426, 14857,  6413, 14809,\n",
       "       12728,  8591, 17276, 14786,  5444, 14857,  8096, 11397, 14857,\n",
       "       17630, 14809, 15515,  2890, 14809, 11104, 11185,  2569, 13529,\n",
       "        7952, 14809,  3501,  7819, 13146,  1472,   180,  7295,  1192,\n",
       "       14857,  3307, 17735,  4285, 15787, 12285,     0,     0,     0,\n",
       "           0,     0,     0,     0,     0,     0,     0,     0,     0,\n",
       "           0,     0,     0,     0,     0,     0,     0,     0,     0,\n",
       "           0,     0,     0,     0,     0,     0,     0,     0,     0,\n",
       "           0,     0,     0,     0,     0,     0,     0,     0],\n",
       "      dtype=int32)"
      ]
     },
     "execution_count": 28,
     "metadata": {},
     "output_type": "execute_result"
    }
   ],
   "source": [
    "X[1]"
   ]
  },
  {
   "cell_type": "code",
   "execution_count": 29,
   "metadata": {
    "ExecuteTime": {
     "end_time": "2019-03-13T07:20:48.041845Z",
     "start_time": "2019-03-13T07:20:48.018906Z"
    }
   },
   "outputs": [
    {
     "data": {
      "text/plain": [
       "16"
      ]
     },
     "execution_count": 29,
     "metadata": {},
     "output_type": "execute_result"
    }
   ],
   "source": [
    "pos = list(set(x[\"pos\"].values))\n",
    "n_pos = len(pos); n_pos"
   ]
  },
  {
   "cell_type": "code",
   "execution_count": 30,
   "metadata": {},
   "outputs": [
    {
     "data": {
      "text/plain": [
       "['DET',\n",
       " 'INTJ',\n",
       " 'X',\n",
       " 'AUX',\n",
       " 'PRON',\n",
       " 'NUM',\n",
       " 'ADV',\n",
       " 'ADP',\n",
       " 'NOUN',\n",
       " 'PUNCT',\n",
       " 'PROPN',\n",
       " 'CCONJ',\n",
       " 'SCONJ',\n",
       " 'VERB',\n",
       " 'PART',\n",
       " 'ADJ']"
      ]
     },
     "execution_count": 30,
     "metadata": {},
     "output_type": "execute_result"
    }
   ],
   "source": [
    "pos"
   ]
  },
  {
   "cell_type": "code",
   "execution_count": 31,
   "metadata": {},
   "outputs": [
    {
     "data": {
      "text/plain": [
       "array(['NNP', 'RB', 'VB', 'AT', 'NN', 'yyCM', 'CONJ', 'REL', 'COP', 'MD',\n",
       "       'PREPOSITION', 'DEF', 'DTT', 'JJ', 'BN', 'yyDOT', 'NCD', 'NNT',\n",
       "       'CD', 'POS', 'IN', 'CC', 'yyLRB', 'yyRRB', 'PRP', 'S_PRN', 'QW',\n",
       "       'JJT', 'yyQUOT', 'BNT', 'CDT', 'yyCLN', 'P', 'EX', 'yySCLN',\n",
       "       'TEMP', 'ADVERB', 'DT', 'yyEXCL', 'yyQM', 'INTJ'], dtype=object)"
      ]
     },
     "execution_count": 31,
     "metadata": {},
     "output_type": "execute_result"
    }
   ],
   "source": [
    "test_df.UPOS.unique()"
   ]
  },
  {
   "cell_type": "code",
   "execution_count": 32,
   "metadata": {
    "ExecuteTime": {
     "end_time": "2019-03-13T07:20:48.137589Z",
     "start_time": "2019-03-13T07:20:48.048826Z"
    }
   },
   "outputs": [
    {
     "data": {
      "text/plain": [
       "array([ 6,  9, 14,  8, 11,  8, 11, 13,  5, 14,  8,  9, 10, 12,  7, 14,  9,\n",
       "       16, 16, 10,  0,  0,  0,  0,  0,  0,  0,  0,  0,  0,  0,  0,  0,  0,\n",
       "        0,  0,  0,  0,  0,  0,  0,  0,  0,  0,  0,  0,  0,  0,  0,  0,  0,\n",
       "        0,  0,  0,  0,  0,  0,  0,  0,  0,  0,  0,  0,  0,  0,  0,  0,  0,\n",
       "        0,  0,  0,  0,  0,  0,  0,  0,  0,  0,  0,  0], dtype=int32)"
      ]
     },
     "execution_count": 32,
     "metadata": {},
     "output_type": "execute_result"
    }
   ],
   "source": [
    "pos2idx = {w: i+1 for i, w in enumerate(pos)}\n",
    "pos2idx[\"PAD\"] = 0\n",
    "X_pos = [[pos2idx[w[1]] for w in s] for s in sents]\n",
    "X_pos = pad_sequences(maxlen=max_len, sequences=X_pos, value=pos2idx[\"PAD\"], padding='post', truncating='post')\n",
    "X_pos[0]"
   ]
  },
  {
   "cell_type": "markdown",
   "metadata": {
    "ExecuteTime": {
     "end_time": "2019-03-12T15:26:01.689647Z",
     "start_time": "2019-03-12T15:26:01.684664Z"
    }
   },
   "source": [
    "## True tags"
   ]
  },
  {
   "cell_type": "code",
   "execution_count": 33,
   "metadata": {
    "ExecuteTime": {
     "end_time": "2019-03-13T07:20:48.210396Z",
     "start_time": "2019-03-13T07:20:48.144570Z"
    }
   },
   "outputs": [],
   "source": [
    "y = [[tag2idx[w[2]] for w in s] for s in sents]\n",
    "y_numer = pad_sequences(maxlen=max_len, sequences=y, value=tag2idx[\"PAD\"], padding='post', truncating='post')"
   ]
  },
  {
   "cell_type": "code",
   "execution_count": 34,
   "metadata": {
    "ExecuteTime": {
     "end_time": "2019-03-13T07:20:48.223360Z",
     "start_time": "2019-03-13T07:20:48.213386Z"
    }
   },
   "outputs": [
    {
     "data": {
      "text/plain": [
       "array([12, 34, 30, 30, 23, 18, 18,  6, 30, 30, 30, 30, 30, 30, 23, 18, 18,\n",
       "       18,  6, 30, 12, 34, 30, 30, 30, 30, 30, 30, 30, 30, 30, 30, 30, 30,\n",
       "       30, 30, 30, 30, 30, 30, 30, 30,  0,  0,  0,  0,  0,  0,  0,  0,  0,\n",
       "        0,  0,  0,  0,  0,  0,  0,  0,  0,  0,  0,  0,  0,  0,  0,  0,  0,\n",
       "        0,  0,  0,  0,  0,  0,  0,  0,  0,  0,  0,  0], dtype=int32)"
      ]
     },
     "execution_count": 34,
     "metadata": {},
     "output_type": "execute_result"
    }
   ],
   "source": [
    "y_numer[1]"
   ]
  },
  {
   "cell_type": "code",
   "execution_count": 35,
   "metadata": {
    "ExecuteTime": {
     "end_time": "2019-03-13T07:20:48.330074Z",
     "start_time": "2019-03-13T07:20:48.226353Z"
    }
   },
   "outputs": [
    {
     "data": {
      "text/plain": [
       "array([[0., 0., 0., ..., 0., 0., 0.],\n",
       "       [0., 0., 0., ..., 0., 0., 0.],\n",
       "       [0., 0., 0., ..., 0., 0., 0.],\n",
       "       ...,\n",
       "       [1., 0., 0., ..., 0., 0., 0.],\n",
       "       [1., 0., 0., ..., 0., 0., 0.],\n",
       "       [1., 0., 0., ..., 0., 0., 0.]], dtype=float32)"
      ]
     },
     "execution_count": 35,
     "metadata": {},
     "output_type": "execute_result"
    }
   ],
   "source": [
    "from keras.utils import to_categorical\n",
    "y = [to_categorical(i, num_classes=n_tags+1) for i in y_numer]\n",
    "y[1]"
   ]
  },
  {
   "cell_type": "markdown",
   "metadata": {},
   "source": [
    "## Perform train test splits"
   ]
  },
  {
   "cell_type": "code",
   "execution_count": 36,
   "metadata": {},
   "outputs": [
    {
     "data": {
      "text/plain": [
       "(5241, 484, 491)"
      ]
     },
     "execution_count": 36,
     "metadata": {},
     "output_type": "execute_result"
    }
   ],
   "source": [
    "train_sents = list(sents.reset_index()[sents.index.str.startswith('train')].index)\n",
    "dev_sents = list(sents.reset_index()[sents.index.str.startswith('dev')].index)\n",
    "test_sents = list(sents.reset_index()[sents.index.str.startswith('test')].index)\n",
    "len(train_sents), len(dev_sents), len(test_sents)"
   ]
  },
  {
   "cell_type": "code",
   "execution_count": 37,
   "metadata": {},
   "outputs": [],
   "source": [
    "X_tr, pos_tr, y_tr = X[train_sents], X_pos[train_sents], [y[i] for i in train_sents]\n",
    "X_dev, pos_dev, y_dev = X[dev_sents], X_pos[dev_sents], [y[i] for i in dev_sents]\n",
    "X_te, pos_te, y_te = X[test_sents], X_pos[test_sents], [y[i] for i in test_sents]"
   ]
  },
  {
   "cell_type": "code",
   "execution_count": 38,
   "metadata": {},
   "outputs": [
    {
     "data": {
      "text/plain": [
       "0.0845414847161572"
      ]
     },
     "execution_count": 38,
     "metadata": {},
     "output_type": "execute_result"
    }
   ],
   "source": [
    "validation_split = len(X_dev) / (len(X_tr)+len(X_dev))\n",
    "validation_split"
   ]
  },
  {
   "cell_type": "code",
   "execution_count": 39,
   "metadata": {},
   "outputs": [],
   "source": [
    "splits = [[np.concatenate([X_tr, X_dev], axis=0), X_te,\n",
    "           np.concatenate([y_tr, y_dev], axis=0), y_te,\n",
    "           np.concatenate([pos_tr, pos_dev], axis=0), pos_te ]]"
   ]
  },
  {
   "cell_type": "markdown",
   "metadata": {},
   "source": [
    "### Prep char input"
   ]
  },
  {
   "cell_type": "code",
   "execution_count": 40,
   "metadata": {
    "ExecuteTime": {
     "end_time": "2019-01-31T13:58:31.324599Z",
     "start_time": "2019-01-31T13:58:31.077207Z"
    }
   },
   "outputs": [
    {
     "data": {
      "text/plain": [
       "<matplotlib.axes._subplots.AxesSubplot at 0x7fb58d674128>"
      ]
     },
     "execution_count": 40,
     "metadata": {},
     "output_type": "execute_result"
    },
    {
     "data": {
      "image/png": "[encoded data removed]",
      "text/plain": [
       "<Figure size 432x288 with 1 Axes>"
      ]
     },
     "metadata": {},
     "output_type": "display_data"
    }
   ],
   "source": [
    "x.token.apply(len).hist(bins=18)"
   ]
  },
  {
   "cell_type": "code",
   "execution_count": 41,
   "metadata": {
    "ExecuteTime": {
     "end_time": "2019-01-31T13:58:31.340217Z",
     "start_time": "2019-01-31T13:58:31.324599Z"
    }
   },
   "outputs": [],
   "source": [
    "max_len_char = 10"
   ]
  },
  {
   "cell_type": "code",
   "execution_count": 42,
   "metadata": {
    "ExecuteTime": {
     "end_time": "2019-01-31T13:58:32.660554Z",
     "start_time": "2019-01-31T13:58:32.613692Z"
    }
   },
   "outputs": [
    {
     "name": "stdout",
     "output_type": "stream",
     "text": [
      "49\n"
     ]
    }
   ],
   "source": [
    "chars = set([w_i for w in words for w_i in w])\n",
    "n_chars = len(chars)\n",
    "print(n_chars)"
   ]
  },
  {
   "cell_type": "code",
   "execution_count": 43,
   "metadata": {
    "ExecuteTime": {
     "end_time": "2019-01-31T13:58:33.732950Z",
     "start_time": "2019-01-31T13:58:33.717366Z"
    }
   },
   "outputs": [],
   "source": [
    "char2idx = {c: i + 2 for i, c in enumerate(chars)}\n",
    "char2idx[\"UNK\"] = 1\n",
    "char2idx[\"PAD\"] = 0"
   ]
  },
  {
   "cell_type": "code",
   "execution_count": 44,
   "metadata": {
    "ExecuteTime": {
     "end_time": "2019-01-31T13:58:36.324286Z",
     "start_time": "2019-01-31T13:58:34.303392Z"
    }
   },
   "outputs": [],
   "source": [
    "X_char = []\n",
    "for sentence in sents:\n",
    "    sent_seq = []\n",
    "    for i in range(max_len):\n",
    "        word_seq = []\n",
    "        for j in range(max_len_char):\n",
    "            try:\n",
    "                word_seq.append(char2idx.get(sentence[i][0][j]))\n",
    "            except:\n",
    "                word_seq.append(char2idx.get(\"PAD\"))\n",
    "        sent_seq.append(word_seq)\n",
    "    X_char.append(np.array(sent_seq))"
   ]
  },
  {
   "cell_type": "code",
   "execution_count": 45,
   "metadata": {},
   "outputs": [],
   "source": [
    "X_char_tr = [X_char[i] for i in train_sents]\n",
    "X_char_dev = [X_char[i] for i in dev_sents]\n",
    "X_char_te = [X_char[i] for i in test_sents]\n",
    "splits_char = [[np.concatenate([X_char_tr, X_char_dev], axis=0), X_char_te,\n",
    "           np.concatenate([y_tr, y_dev], axis=0), y_te]]"
   ]
  },
  {
   "cell_type": "markdown",
   "metadata": {},
   "source": [
    "## Embeddings"
   ]
  },
  {
   "cell_type": "code",
   "execution_count": 46,
   "metadata": {},
   "outputs": [
    {
     "data": {
      "text/plain": [
       "{'yap_w2v_sg': '../wordembedding-hebrew/wikipedia.yap_form.word2vec_skipgram.txt',\n",
       " 'yap_w2v_cbow': '../wordembedding-hebrew/wikipedia.yap_form.word2vec_cbow.txt',\n",
       " 'yap_glove': '../wordembedding-hebrew/glove/wikipedia.yap_form.glove.txt.txt',\n",
       " 'yap_ft_sg': '../wordembedding-hebrew/wikipedia.yap_form.fasttext_skipgram.model.vec',\n",
       " 'yap_ft_cbow': '../wordembedding-hebrew/wikipedia.yap_form.fasttext_cbow.model.vec',\n",
       " 'token_w2v_sg': '../wordembedding-hebrew/wikipedia.tokenized.word2vec_skipgram.txt',\n",
       " 'token_w2v_cbow': '../wordembedding-hebrew/wikipedia.tokenized.word2vec_cbow.txt',\n",
       " 'token_glove': '../wordembedding-hebrew/glove/wikipedia.tokenized.glove.txt',\n",
       " 'token_ft_sg': '../wordembedding-hebrew/wikipedia.tokenized.fasttext_skipgram.model.vec',\n",
       " 'token_ft_cbow': '../wordembedding-hebrew/wikipedia.tokenized.fasttext_cbow.model.vec',\n",
       " 'pretrained_token_ft': '../fasttext/wiki.he.vec'}"
      ]
     },
     "execution_count": 46,
     "metadata": {},
     "output_type": "execute_result"
    }
   ],
   "source": [
    "embedding_paths"
   ]
  },
  {
   "cell_type": "code",
   "execution_count": 47,
   "metadata": {},
   "outputs": [],
   "source": [
    "exclude = ['cbow']"
   ]
  },
  {
   "cell_type": "code",
   "execution_count": null,
   "metadata": {},
   "outputs": [
    {
     "name": "stdout",
     "output_type": "stream",
     "text": [
      "loading word embeddings: ../wordembedding-hebrew/wikipedia.yap_form.word2vec_skipgram.txt\n",
      "found 256508 word vectors\n",
      "preparing embedding matrix...\n",
      "number of null word embeddings: 1358\n",
      "sample words not found:  ['השתוקקתי' 'פלאטות' 'קאנארי' '601,016' 'מוטאפציץ' 'השתדלנו' 'מקסיקאי'\n",
      " 'ובראשת' 'גראציה' 'פורוורטס']\n"
     ]
    }
   ],
   "source": [
    "embedding_mats = {}\n",
    "for emb_name, emb_path in embedding_paths.items():\n",
    "    skip=False\n",
    "    for exc in exclude:\n",
    "        if exc in emb_path:\n",
    "            skip=True\n",
    "    if skip:\n",
    "        continue\n",
    "    embedding_mats[emb_name] = get_embedding_matrix(emb_path, word2idx)"
   ]
  },
  {
   "cell_type": "markdown",
   "metadata": {},
   "source": [
    "## Model building"
   ]
  },
  {
   "cell_type": "code",
   "execution_count": null,
   "metadata": {},
   "outputs": [],
   "source": [
    "configs = build_configs(base_configs, embedding_mats)\n",
    "configs     "
   ]
  },
  {
   "cell_type": "code",
   "execution_count": null,
   "metadata": {},
   "outputs": [],
   "source": [
    "out_folder = 'outputs4'\n",
    "if not os.path.exists(out_folder):\n",
    "    os.mkdir(out_folder)"
   ]
  },
  {
   "cell_type": "code",
   "execution_count": null,
   "metadata": {
    "ExecuteTime": {
     "end_time": "2019-03-13T11:31:02.793857Z",
     "start_time": "2019-03-13T11:16:17.267695Z"
    },
    "scrolled": true
   },
   "outputs": [],
   "source": [
    "configs, results, preds, histories = run_models(configs, splits, splits_char, embedding_mats, \n",
    "                                                words, max_len, n_words, idx2word, idx2tag,\n",
    "                                                n_tags, max_len_char, n_pos, n_chars,\n",
    "                                                run_name='treebank_realistic', out_folder=out_folder,\n",
    "                                                skip_if_model_exists=True,\n",
    "                                                validation_split=validation_split,\n",
    "                                                )"
   ]
  },
  {
   "cell_type": "code",
   "execution_count": null,
   "metadata": {},
   "outputs": [],
   "source": [
    "results"
   ]
  },
  {
   "cell_type": "code",
   "execution_count": null,
   "metadata": {},
   "outputs": [],
   "source": []
  },
  {
   "cell_type": "code",
   "execution_count": null,
   "metadata": {},
   "outputs": [],
   "source": []
  },
  {
   "cell_type": "code",
   "execution_count": null,
   "metadata": {},
   "outputs": [],
   "source": []
  },
  {
   "cell_type": "code",
   "execution_count": null,
   "metadata": {},
   "outputs": [],
   "source": []
  },
  {
   "cell_type": "code",
   "execution_count": null,
   "metadata": {},
   "outputs": [],
   "source": []
  },
  {
   "cell_type": "code",
   "execution_count": null,
   "metadata": {},
   "outputs": [],
   "source": []
  },
  {
   "cell_type": "code",
   "execution_count": null,
   "metadata": {},
   "outputs": [],
   "source": []
  },
  {
   "cell_type": "code",
   "execution_count": null,
   "metadata": {},
   "outputs": [],
   "source": []
  },
  {
   "cell_type": "code",
   "execution_count": null,
   "metadata": {},
   "outputs": [],
   "source": []
  },
  {
   "cell_type": "code",
   "execution_count": null,
   "metadata": {},
   "outputs": [],
   "source": []
  },
  {
   "cell_type": "code",
   "execution_count": null,
   "metadata": {},
   "outputs": [],
   "source": []
  },
  {
   "cell_type": "code",
   "execution_count": null,
   "metadata": {},
   "outputs": [],
   "source": []
  },
  {
   "cell_type": "code",
   "execution_count": null,
   "metadata": {},
   "outputs": [],
   "source": []
  },
  {
   "cell_type": "code",
   "execution_count": null,
   "metadata": {},
   "outputs": [],
   "source": []
  },
  {
   "cell_type": "code",
   "execution_count": null,
   "metadata": {},
   "outputs": [],
   "source": []
  },
  {
   "cell_type": "code",
   "execution_count": null,
   "metadata": {},
   "outputs": [],
   "source": []
  },
  {
   "cell_type": "code",
   "execution_count": null,
   "metadata": {},
   "outputs": [],
   "source": []
  },
  {
   "cell_type": "code",
   "execution_count": null,
   "metadata": {},
   "outputs": [],
   "source": []
  },
  {
   "cell_type": "code",
   "execution_count": null,
   "metadata": {},
   "outputs": [],
   "source": []
  },
  {
   "cell_type": "code",
   "execution_count": null,
   "metadata": {},
   "outputs": [],
   "source": []
  },
  {
   "cell_type": "code",
   "execution_count": null,
   "metadata": {},
   "outputs": [],
   "source": []
  },
  {
   "cell_type": "code",
   "execution_count": null,
   "metadata": {},
   "outputs": [],
   "source": []
  },
  {
   "cell_type": "code",
   "execution_count": 46,
   "metadata": {},
   "outputs": [],
   "source": [
    "for c in configs:\n",
    "    if 'embedding_matrix' in c:\n",
    "        c.update({'embedding_matrix': 'fastext'}) "
   ]
  },
  {
   "cell_type": "code",
   "execution_count": 47,
   "metadata": {},
   "outputs": [],
   "source": [
    "defaults = {'use_word': True, 'use_pos': False, 'embedding_matrix': None, \n",
    "            'embed_dim': 70, 'trainable': True, 'input_dropout': False, \n",
    "            'stack_lstm': 1, 'epochs': 100, 'early_stopping': True, 'patience': 20, \n",
    "            'min_delta': 0.0001, 'use_char': False, 'crf': False, 'stack_cross': False, \n",
    "            'stack_double': False, 'rec_dropout': 0.1}"
   ]
  },
  {
   "cell_type": "code",
   "execution_count": 48,
   "metadata": {},
   "outputs": [],
   "source": [
    "for conf in configs:\n",
    "    conf.update({'use_morpheme': True})\n",
    "    conf.update({'use_word': False})\n",
    "\n",
    "    for key in defaults:\n",
    "        if key not in conf:\n",
    "            conf[key] = defaults[key]"
   ]
  },
  {
   "cell_type": "code",
   "execution_count": null,
   "metadata": {},
   "outputs": [],
   "source": [
    "len(list(zip(configs, results, preds, histories)))"
   ]
  },
  {
   "cell_type": "raw",
   "metadata": {},
   "source": [
    "import pickle\n",
    "with open('treebank_gold_results_1.pkl', 'wb') as f:\n",
    "    pickle.dump(list(zip(configs, results, preds, histories)), f)"
   ]
  },
  {
   "cell_type": "code",
   "execution_count": 52,
   "metadata": {},
   "outputs": [],
   "source": [
    "def get_results_df(configs, results):\n",
    "    dict_res = []\n",
    "    for conf, res in zip(configs, results):\n",
    "        dr = {}\n",
    "        for i, r in enumerate(res):\n",
    "            split_name = chr(ord('a')+i)\n",
    "            dr['prec_'+split_name], dr['recall_'+split_name], dr['f1_'+split_name] = r\n",
    "        dr.update(conf)\n",
    "        dict_res.append(dr)\n",
    "    rdf = (pd.DataFrame(dict_res)\n",
    "           .assign(prec = lambda x: (x.prec_a + x.prec_b + x.prec_c)/3)\n",
    "           .assign(recall = lambda x: (x.recall_a + x.recall_b + x.recall_c)/3)\n",
    "           .assign(f1 = lambda x: (x.f1_a + x.f1_b + x.f1_c)/3))\n",
    "    return rdf"
   ]
  },
  {
   "cell_type": "code",
   "execution_count": 53,
   "metadata": {},
   "outputs": [],
   "source": [
    "res1 = pickle.load(open('treebank_results_1.pkl', 'rb'))"
   ]
  },
  {
   "cell_type": "code",
   "execution_count": 54,
   "metadata": {},
   "outputs": [],
   "source": [
    "res2 = pickle.load(open('treebank_results_2_test25.pkl', 'rb'))"
   ]
  },
  {
   "cell_type": "code",
   "execution_count": 57,
   "metadata": {},
   "outputs": [],
   "source": [
    "rdf1 = get_results_df([c for c, r, h in res1], [r for c, r, h in res1])"
   ]
  },
  {
   "cell_type": "code",
   "execution_count": 58,
   "metadata": {},
   "outputs": [],
   "source": [
    "rdf2 = get_results_df([c for c, r, p, h in res2], [r for c, r, p, h in res2])"
   ]
  },
  {
   "cell_type": "code",
   "execution_count": 60,
   "metadata": {},
   "outputs": [
    {
     "data": {
      "text/html": [
       "<div>\n",
       "<style scoped>\n",
       "    .dataframe tbody tr th:only-of-type {\n",
       "        vertical-align: middle;\n",
       "    }\n",
       "\n",
       "    .dataframe tbody tr th {\n",
       "        vertical-align: top;\n",
       "    }\n",
       "\n",
       "    .dataframe thead th {\n",
       "        text-align: right;\n",
       "    }\n",
       "</style>\n",
       "<table border=\"1\" class=\"dataframe\">\n",
       "  <thead>\n",
       "    <tr style=\"text-align: right;\">\n",
       "      <th></th>\n",
       "      <th>crf</th>\n",
       "      <th>early_stopping</th>\n",
       "      <th>embed_dim</th>\n",
       "      <th>embedding_matrix</th>\n",
       "      <th>epochs</th>\n",
       "      <th>f1_a</th>\n",
       "      <th>f1_b</th>\n",
       "      <th>f1_c</th>\n",
       "      <th>input_dropout</th>\n",
       "      <th>min_delta</th>\n",
       "      <th>...</th>\n",
       "      <th>stack_double</th>\n",
       "      <th>stack_lstm</th>\n",
       "      <th>trainable</th>\n",
       "      <th>use_char</th>\n",
       "      <th>use_morpheme</th>\n",
       "      <th>use_pos</th>\n",
       "      <th>use_word</th>\n",
       "      <th>prec</th>\n",
       "      <th>recall</th>\n",
       "      <th>f1</th>\n",
       "    </tr>\n",
       "  </thead>\n",
       "  <tbody>\n",
       "    <tr>\n",
       "      <th>0</th>\n",
       "      <td>True</td>\n",
       "      <td>True</td>\n",
       "      <td>70</td>\n",
       "      <td>None</td>\n",
       "      <td>100</td>\n",
       "      <td>61.595231</td>\n",
       "      <td>64.524986</td>\n",
       "      <td>63.937419</td>\n",
       "      <td>False</td>\n",
       "      <td>0.0001</td>\n",
       "      <td>...</td>\n",
       "      <td>False</td>\n",
       "      <td>1</td>\n",
       "      <td>True</td>\n",
       "      <td>False</td>\n",
       "      <td>True</td>\n",
       "      <td>False</td>\n",
       "      <td>False</td>\n",
       "      <td>66.866298</td>\n",
       "      <td>60.221498</td>\n",
       "      <td>63.352545</td>\n",
       "    </tr>\n",
       "    <tr>\n",
       "      <th>1</th>\n",
       "      <td>True</td>\n",
       "      <td>True</td>\n",
       "      <td>70</td>\n",
       "      <td>None</td>\n",
       "      <td>100</td>\n",
       "      <td>72.074967</td>\n",
       "      <td>71.615721</td>\n",
       "      <td>72.101911</td>\n",
       "      <td>False</td>\n",
       "      <td>0.0001</td>\n",
       "      <td>...</td>\n",
       "      <td>False</td>\n",
       "      <td>1</td>\n",
       "      <td>True</td>\n",
       "      <td>False</td>\n",
       "      <td>True</td>\n",
       "      <td>True</td>\n",
       "      <td>False</td>\n",
       "      <td>73.574440</td>\n",
       "      <td>70.383441</td>\n",
       "      <td>71.930866</td>\n",
       "    </tr>\n",
       "    <tr>\n",
       "      <th>2</th>\n",
       "      <td>True</td>\n",
       "      <td>True</td>\n",
       "      <td>300</td>\n",
       "      <td>fastext</td>\n",
       "      <td>100</td>\n",
       "      <td>77.924131</td>\n",
       "      <td>76.407437</td>\n",
       "      <td>77.421053</td>\n",
       "      <td>False</td>\n",
       "      <td>0.0001</td>\n",
       "      <td>...</td>\n",
       "      <td>False</td>\n",
       "      <td>1</td>\n",
       "      <td>True</td>\n",
       "      <td>False</td>\n",
       "      <td>True</td>\n",
       "      <td>False</td>\n",
       "      <td>False</td>\n",
       "      <td>78.371539</td>\n",
       "      <td>76.234033</td>\n",
       "      <td>77.250873</td>\n",
       "    </tr>\n",
       "    <tr>\n",
       "      <th>3</th>\n",
       "      <td>True</td>\n",
       "      <td>True</td>\n",
       "      <td>300</td>\n",
       "      <td>fastext</td>\n",
       "      <td>100</td>\n",
       "      <td>80.941052</td>\n",
       "      <td>79.862215</td>\n",
       "      <td>80.050761</td>\n",
       "      <td>False</td>\n",
       "      <td>0.0001</td>\n",
       "      <td>...</td>\n",
       "      <td>False</td>\n",
       "      <td>1</td>\n",
       "      <td>True</td>\n",
       "      <td>False</td>\n",
       "      <td>True</td>\n",
       "      <td>True</td>\n",
       "      <td>False</td>\n",
       "      <td>80.810288</td>\n",
       "      <td>79.768234</td>\n",
       "      <td>80.284676</td>\n",
       "    </tr>\n",
       "    <tr>\n",
       "      <th>4</th>\n",
       "      <td>True</td>\n",
       "      <td>True</td>\n",
       "      <td>70</td>\n",
       "      <td>None</td>\n",
       "      <td>100</td>\n",
       "      <td>69.732492</td>\n",
       "      <td>67.697498</td>\n",
       "      <td>70.299037</td>\n",
       "      <td>False</td>\n",
       "      <td>0.0001</td>\n",
       "      <td>...</td>\n",
       "      <td>False</td>\n",
       "      <td>1</td>\n",
       "      <td>True</td>\n",
       "      <td>True</td>\n",
       "      <td>True</td>\n",
       "      <td>False</td>\n",
       "      <td>False</td>\n",
       "      <td>74.882658</td>\n",
       "      <td>64.751970</td>\n",
       "      <td>69.243009</td>\n",
       "    </tr>\n",
       "  </tbody>\n",
       "</table>\n",
       "<p>5 rows × 29 columns</p>\n",
       "</div>"
      ],
      "text/plain": [
       "    crf  early_stopping  embed_dim embedding_matrix  epochs       f1_a  \\\n",
       "0  True            True         70             None     100  61.595231   \n",
       "1  True            True         70             None     100  72.074967   \n",
       "2  True            True        300          fastext     100  77.924131   \n",
       "3  True            True        300          fastext     100  80.941052   \n",
       "4  True            True         70             None     100  69.732492   \n",
       "\n",
       "        f1_b       f1_c  input_dropout  min_delta  ...  stack_double  \\\n",
       "0  64.524986  63.937419          False     0.0001  ...         False   \n",
       "1  71.615721  72.101911          False     0.0001  ...         False   \n",
       "2  76.407437  77.421053          False     0.0001  ...         False   \n",
       "3  79.862215  80.050761          False     0.0001  ...         False   \n",
       "4  67.697498  70.299037          False     0.0001  ...         False   \n",
       "\n",
       "   stack_lstm  trainable  use_char  use_morpheme  use_pos  use_word  \\\n",
       "0           1       True     False          True    False     False   \n",
       "1           1       True     False          True     True     False   \n",
       "2           1       True     False          True    False     False   \n",
       "3           1       True     False          True     True     False   \n",
       "4           1       True      True          True    False     False   \n",
       "\n",
       "        prec     recall         f1  \n",
       "0  66.866298  60.221498  63.352545  \n",
       "1  73.574440  70.383441  71.930866  \n",
       "2  78.371539  76.234033  77.250873  \n",
       "3  80.810288  79.768234  80.284676  \n",
       "4  74.882658  64.751970  69.243009  \n",
       "\n",
       "[5 rows x 29 columns]"
      ]
     },
     "execution_count": 60,
     "metadata": {},
     "output_type": "execute_result"
    }
   ],
   "source": [
    "rdf2.head()"
   ]
  },
  {
   "cell_type": "code",
   "execution_count": 61,
   "metadata": {},
   "outputs": [
    {
     "data": {
      "text/html": [
       "<div>\n",
       "<style scoped>\n",
       "    .dataframe tbody tr th:only-of-type {\n",
       "        vertical-align: middle;\n",
       "    }\n",
       "\n",
       "    .dataframe tbody tr th {\n",
       "        vertical-align: top;\n",
       "    }\n",
       "\n",
       "    .dataframe thead tr th {\n",
       "        text-align: left;\n",
       "    }\n",
       "\n",
       "    .dataframe thead tr:last-of-type th {\n",
       "        text-align: right;\n",
       "    }\n",
       "</style>\n",
       "<table border=\"1\" class=\"dataframe\">\n",
       "  <thead>\n",
       "    <tr>\n",
       "      <th>use_char</th>\n",
       "      <th colspan=\"2\" halign=\"left\">False</th>\n",
       "      <th colspan=\"2\" halign=\"left\">True</th>\n",
       "    </tr>\n",
       "    <tr>\n",
       "      <th>use_pos</th>\n",
       "      <th>False</th>\n",
       "      <th>True</th>\n",
       "      <th>False</th>\n",
       "      <th>True</th>\n",
       "    </tr>\n",
       "    <tr>\n",
       "      <th>embedding_matrix</th>\n",
       "      <th></th>\n",
       "      <th></th>\n",
       "      <th></th>\n",
       "      <th></th>\n",
       "    </tr>\n",
       "  </thead>\n",
       "  <tbody>\n",
       "    <tr>\n",
       "      <th>No</th>\n",
       "      <td>63.4</td>\n",
       "      <td>71.9</td>\n",
       "      <td>69.2</td>\n",
       "      <td>75.0</td>\n",
       "    </tr>\n",
       "    <tr>\n",
       "      <th>fastext</th>\n",
       "      <td>77.3</td>\n",
       "      <td>80.3</td>\n",
       "      <td>82.0</td>\n",
       "      <td>83.3</td>\n",
       "    </tr>\n",
       "  </tbody>\n",
       "</table>\n",
       "</div>"
      ],
      "text/plain": [
       "use_char         False       True       \n",
       "use_pos          False True  False True \n",
       "embedding_matrix                        \n",
       "No                63.4  71.9  69.2  75.0\n",
       "fastext           77.3  80.3  82.0  83.3"
      ]
     },
     "execution_count": 61,
     "metadata": {},
     "output_type": "execute_result"
    }
   ],
   "source": [
    " (rdf2.fillna('No')\n",
    " .groupby(['use_char', 'use_pos', 'embedding_matrix'])\n",
    " .apply(lambda x: x.f1.mean())\n",
    " .unstack(level=[0,1])\n",
    " .round(1)\n",
    " )"
   ]
  },
  {
   "cell_type": "code",
   "execution_count": 63,
   "metadata": {},
   "outputs": [
    {
     "data": {
      "text/html": [
       "<div>\n",
       "<style scoped>\n",
       "    .dataframe tbody tr th:only-of-type {\n",
       "        vertical-align: middle;\n",
       "    }\n",
       "\n",
       "    .dataframe tbody tr th {\n",
       "        vertical-align: top;\n",
       "    }\n",
       "\n",
       "    .dataframe thead tr th {\n",
       "        text-align: left;\n",
       "    }\n",
       "\n",
       "    .dataframe thead tr:last-of-type th {\n",
       "        text-align: right;\n",
       "    }\n",
       "</style>\n",
       "<table border=\"1\" class=\"dataframe\">\n",
       "  <thead>\n",
       "    <tr>\n",
       "      <th>use_char</th>\n",
       "      <th colspan=\"2\" halign=\"left\">False</th>\n",
       "      <th colspan=\"2\" halign=\"left\">True</th>\n",
       "    </tr>\n",
       "    <tr>\n",
       "      <th>use_pos</th>\n",
       "      <th>False</th>\n",
       "      <th>True</th>\n",
       "      <th>False</th>\n",
       "      <th>True</th>\n",
       "    </tr>\n",
       "    <tr>\n",
       "      <th>embedding_matrix</th>\n",
       "      <th></th>\n",
       "      <th></th>\n",
       "      <th></th>\n",
       "      <th></th>\n",
       "    </tr>\n",
       "  </thead>\n",
       "  <tbody>\n",
       "    <tr>\n",
       "      <th>No</th>\n",
       "      <td>67.9</td>\n",
       "      <td>74.4</td>\n",
       "      <td>70.7</td>\n",
       "      <td>75.8</td>\n",
       "    </tr>\n",
       "    <tr>\n",
       "      <th>fastext</th>\n",
       "      <td>79.4</td>\n",
       "      <td>83.4</td>\n",
       "      <td>82.9</td>\n",
       "      <td>84.6</td>\n",
       "    </tr>\n",
       "  </tbody>\n",
       "</table>\n",
       "</div>"
      ],
      "text/plain": [
       "use_char         False       True       \n",
       "use_pos          False True  False True \n",
       "embedding_matrix                        \n",
       "No                67.9  74.4  70.7  75.8\n",
       "fastext           79.4  83.4  82.9  84.6"
      ]
     },
     "execution_count": 63,
     "metadata": {},
     "output_type": "execute_result"
    }
   ],
   "source": [
    " (rdf1.fillna('No')\n",
    " .groupby(['use_char', 'use_pos', 'embedding_matrix'])\n",
    " .apply(lambda x: x.f1.mean())\n",
    " .unstack(level=[0,1])\n",
    " .round(1)\n",
    " )"
   ]
  },
  {
   "cell_type": "code",
   "execution_count": null,
   "metadata": {},
   "outputs": [],
   "source": []
  }
 ],
 "metadata": {
  "kernelspec": {
   "display_name": "Python 3",
   "language": "python",
   "name": "python3"
  },
  "language_info": {
   "codemirror_mode": {
    "name": "ipython",
    "version": 3
   },
   "file_extension": ".py",
   "mimetype": "text/x-python",
   "name": "python",
   "nbconvert_exporter": "python",
   "pygments_lexer": "ipython3",
   "version": "3.6.8"
  }
 },
 "nbformat": 4,
 "nbformat_minor": 2
}
