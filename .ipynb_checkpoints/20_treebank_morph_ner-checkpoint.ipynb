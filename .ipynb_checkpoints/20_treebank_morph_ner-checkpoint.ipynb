{
 "cells": [
  {
   "cell_type": "markdown",
   "metadata": {},
   "source": [
    "# Treebank NER with Bi-LSTM-CRF "
   ]
  },
  {
   "cell_type": "code",
   "execution_count": 1,
   "metadata": {},
   "outputs": [],
   "source": [
    "import os\n",
    "os.environ[\"CUDA_DEVICE_ORDER\"]=\"PCI_BUS_ID\";\n",
    " \n",
    "# The GPU id to use, usually either \"0\" or \"1\";\n",
    "os.environ[\"CUDA_VISIBLE_DEVICES\"]=\"2\";  "
   ]
  },
  {
   "cell_type": "code",
   "execution_count": 2,
   "metadata": {},
   "outputs": [],
   "source": [
    "%load_ext autoreload\n",
    "%autoreload 2"
   ]
  },
  {
   "cell_type": "code",
   "execution_count": 3,
   "metadata": {
    "ExecuteTime": {
     "end_time": "2019-03-13T07:20:24.034028Z",
     "start_time": "2019-03-13T07:20:22.687626Z"
    }
   },
   "outputs": [],
   "source": [
    "%matplotlib inline"
   ]
  },
  {
   "cell_type": "code",
   "execution_count": 4,
   "metadata": {
    "ExecuteTime": {
     "end_time": "2019-03-13T07:20:24.382406Z",
     "start_time": "2019-03-13T07:20:24.037019Z"
    }
   },
   "outputs": [],
   "source": [
    "import pandas as pd\n",
    "import numpy as np"
   ]
  },
  {
   "cell_type": "code",
   "execution_count": 5,
   "metadata": {
    "ExecuteTime": {
     "end_time": "2019-03-13T07:20:27.996727Z",
     "start_time": "2019-03-13T07:20:24.385088Z"
    }
   },
   "outputs": [],
   "source": [
    "import matplotlib.pyplot as plt\n",
    "import seaborn as sns\n",
    "sns.set_context('paper')\n",
    "sns.set_style('white')"
   ]
  },
  {
   "cell_type": "code",
   "execution_count": 6,
   "metadata": {
    "ExecuteTime": {
     "end_time": "2019-03-13T07:20:28.016424Z",
     "start_time": "2019-03-13T07:20:27.999427Z"
    }
   },
   "outputs": [],
   "source": [
    "from conlleval import evaluate"
   ]
  },
  {
   "cell_type": "code",
   "execution_count": 7,
   "metadata": {},
   "outputs": [
    {
     "name": "stderr",
     "output_type": "stream",
     "text": [
      "Using TensorFlow backend.\n"
     ]
    }
   ],
   "source": [
    "from ner_utils import *"
   ]
  },
  {
   "cell_type": "markdown",
   "metadata": {},
   "source": [
    "## Get token data"
   ]
  },
  {
   "cell_type": "code",
   "execution_count": 20,
   "metadata": {},
   "outputs": [],
   "source": [
    "#yap_dev = pd.read_csv('new_yap_outputs/yap_dev.csv.gz', compression='gzip')\n",
    "#yap_test = pd.read_csv('new_yap_outputs/yap_test.csv.gz', compression='gzip')\n",
    "yap_dev_tok = pd.read_csv('new_yap_outputs/yap_dev_tokens.csv.gz', compression='gzip').reset_index()\n",
    "yap_test_tok = pd.read_csv('new_yap_outputs/yap_test_tokens.csv.gz', compression='gzip').reset_index()"
   ]
  },
  {
   "cell_type": "code",
   "execution_count": 21,
   "metadata": {},
   "outputs": [],
   "source": [
    "tokens_ner_with_upos_feats = pd.read_csv('align/spmrl_tokens_df.csv.gz', compression='gzip').reset_index()"
   ]
  },
  {
   "cell_type": "code",
   "execution_count": 26,
   "metadata": {},
   "outputs": [
    {
     "data": {
      "text/html": [
       "<div>\n",
       "<style scoped>\n",
       "    .dataframe tbody tr th:only-of-type {\n",
       "        vertical-align: middle;\n",
       "    }\n",
       "\n",
       "    .dataframe tbody tr th {\n",
       "        vertical-align: top;\n",
       "    }\n",
       "\n",
       "    .dataframe thead th {\n",
       "        text-align: right;\n",
       "    }\n",
       "</style>\n",
       "<table border=\"1\" class=\"dataframe\">\n",
       "  <thead>\n",
       "    <tr style=\"text-align: right;\">\n",
       "      <th></th>\n",
       "      <th>index</th>\n",
       "      <th>sent</th>\n",
       "      <th>misc_token_id</th>\n",
       "      <th>misc_token_str</th>\n",
       "      <th>upostag</th>\n",
       "      <th>form</th>\n",
       "      <th>lemma</th>\n",
       "      <th>deprel</th>\n",
       "      <th>feats_gen</th>\n",
       "      <th>feats_num</th>\n",
       "      <th>feats_per</th>\n",
       "      <th>feats_tense</th>\n",
       "      <th>feats_suf_gen</th>\n",
       "      <th>feats_suf_num</th>\n",
       "      <th>feats_suf_per</th>\n",
       "      <th>sent_id</th>\n",
       "    </tr>\n",
       "  </thead>\n",
       "  <tbody>\n",
       "    <tr>\n",
       "      <th>0</th>\n",
       "      <td>0</td>\n",
       "      <td>1</td>\n",
       "      <td>1</td>\n",
       "      <td>עשרות</td>\n",
       "      <td>CDT</td>\n",
       "      <td>עשרות</td>\n",
       "      <td>עשר</td>\n",
       "      <td>num</td>\n",
       "      <td>F</td>\n",
       "      <td>P</td>\n",
       "      <td>NaN</td>\n",
       "      <td>NaN</td>\n",
       "      <td>NaN</td>\n",
       "      <td>NaN</td>\n",
       "      <td>NaN</td>\n",
       "      <td>1</td>\n",
       "    </tr>\n",
       "    <tr>\n",
       "      <th>1</th>\n",
       "      <td>1</td>\n",
       "      <td>1</td>\n",
       "      <td>2</td>\n",
       "      <td>אנשים</td>\n",
       "      <td>NN</td>\n",
       "      <td>אנשים</td>\n",
       "      <td>איש</td>\n",
       "      <td>subj</td>\n",
       "      <td>M</td>\n",
       "      <td>P</td>\n",
       "      <td>NaN</td>\n",
       "      <td>NaN</td>\n",
       "      <td>NaN</td>\n",
       "      <td>NaN</td>\n",
       "      <td>NaN</td>\n",
       "      <td>1</td>\n",
       "    </tr>\n",
       "    <tr>\n",
       "      <th>2</th>\n",
       "      <td>2</td>\n",
       "      <td>1</td>\n",
       "      <td>3</td>\n",
       "      <td>מגיעים</td>\n",
       "      <td>BN</td>\n",
       "      <td>מגיעים</td>\n",
       "      <td>הגיע</td>\n",
       "      <td>conj</td>\n",
       "      <td>M</td>\n",
       "      <td>P</td>\n",
       "      <td>A</td>\n",
       "      <td>NaN</td>\n",
       "      <td>NaN</td>\n",
       "      <td>NaN</td>\n",
       "      <td>NaN</td>\n",
       "      <td>1</td>\n",
       "    </tr>\n",
       "    <tr>\n",
       "      <th>3</th>\n",
       "      <td>3</td>\n",
       "      <td>1</td>\n",
       "      <td>4</td>\n",
       "      <td>מתאילנד</td>\n",
       "      <td>PREPOSITION^NNP</td>\n",
       "      <td>מ^תאילנד</td>\n",
       "      <td>מ^תאילנד</td>\n",
       "      <td>comp^pobj</td>\n",
       "      <td>^F</td>\n",
       "      <td>^S</td>\n",
       "      <td>^</td>\n",
       "      <td>^</td>\n",
       "      <td>^</td>\n",
       "      <td>^</td>\n",
       "      <td>^</td>\n",
       "      <td>1</td>\n",
       "    </tr>\n",
       "    <tr>\n",
       "      <th>4</th>\n",
       "      <td>4</td>\n",
       "      <td>1</td>\n",
       "      <td>5</td>\n",
       "      <td>לישראל</td>\n",
       "      <td>NNP</td>\n",
       "      <td>לישראל</td>\n",
       "      <td>לישראל</td>\n",
       "      <td>nn</td>\n",
       "      <td>F,M</td>\n",
       "      <td>S</td>\n",
       "      <td>NaN</td>\n",
       "      <td>NaN</td>\n",
       "      <td>NaN</td>\n",
       "      <td>NaN</td>\n",
       "      <td>NaN</td>\n",
       "      <td>1</td>\n",
       "    </tr>\n",
       "  </tbody>\n",
       "</table>\n",
       "</div>"
      ],
      "text/plain": [
       "   index  sent  misc_token_id misc_token_str          upostag      form  \\\n",
       "0      0     1              1          עשרות              CDT     עשרות   \n",
       "1      1     1              2          אנשים               NN     אנשים   \n",
       "2      2     1              3         מגיעים               BN    מגיעים   \n",
       "3      3     1              4        מתאילנד  PREPOSITION^NNP  מ^תאילנד   \n",
       "4      4     1              5         לישראל              NNP    לישראל   \n",
       "\n",
       "      lemma     deprel feats_gen feats_num feats_per feats_tense  \\\n",
       "0       עשר        num         F         P       NaN         NaN   \n",
       "1       איש       subj         M         P       NaN         NaN   \n",
       "2      הגיע       conj         M         P         A         NaN   \n",
       "3  מ^תאילנד  comp^pobj        ^F        ^S         ^           ^   \n",
       "4    לישראל         nn       F,M         S       NaN         NaN   \n",
       "\n",
       "  feats_suf_gen feats_suf_num feats_suf_per  sent_id  \n",
       "0           NaN           NaN           NaN        1  \n",
       "1           NaN           NaN           NaN        1  \n",
       "2           NaN           NaN           NaN        1  \n",
       "3             ^             ^             ^        1  \n",
       "4           NaN           NaN           NaN        1  "
      ]
     },
     "execution_count": 26,
     "metadata": {},
     "output_type": "execute_result"
    }
   ],
   "source": [
    "yap_dev_tok.head()"
   ]
  },
  {
   "cell_type": "code",
   "execution_count": 24,
   "metadata": {},
   "outputs": [
    {
     "data": {
      "text/plain": [
       "sent_id\n",
       "1    [[עשרות, CDT], [אנשים, NN], [מגיעים, BN], [מתא...\n",
       "2    [[תופעה, NN], [זו, PRP], [התבררה, VB], [אתמול,...\n",
       "3    [[יו\"ר, NNT], [הוועדה, DEF^NN], [,, yyCM], [ח\"...\n",
       "4    [[מצד, PREPOSITION^NN], [אחד, CD], [רוצה, BN],...\n",
       "5    [[נמיר, NNP], [הודיעה, VB], [כי, CC], [תפנה, V...\n",
       "dtype: object"
      ]
     },
     "execution_count": 24,
     "metadata": {},
     "output_type": "execute_result"
    }
   ],
   "source": [
    "yap_dev_tok_sents =  yap_dev_tok.groupby('sent_id')[['misc_token_str', 'upostag']].apply(lambda x: x.values.tolist())\n",
    "yap_dev_tok_sents.head()"
   ]
  },
  {
   "cell_type": "code",
   "execution_count": 25,
   "metadata": {},
   "outputs": [
    {
     "data": {
      "text/plain": [
       "sent_id\n",
       "5439    [[הכל, DEF^DTT], [נושאים, NN], [עמם, VB], [את,...\n",
       "5440    [[אומר, NNT], [מזכיר, NNT], [התק\"ם, DEF^NNP], ...\n",
       "5441    [[לא, RB], [ייתכן, MD], [שעולה, REL^NN], [יבוא...\n",
       "5442    [[לא, RB], [ייתכן, MD], [שהוא, REL^PRP], [יירד...\n",
       "5443    [[לכן, CC], [קבענו, VB], [עיקרון, NN], [שצריכה...\n",
       "dtype: object"
      ]
     },
     "execution_count": 25,
     "metadata": {},
     "output_type": "execute_result"
    }
   ],
   "source": [
    "yap_test_tok_sents =  yap_test_tok.groupby('sent_id')[['misc_token_str', 'upostag']].apply(lambda x: x.values.tolist())\n",
    "yap_test_tok_sents.head()"
   ]
  },
  {
   "cell_type": "code",
   "execution_count": 29,
   "metadata": {},
   "outputs": [],
   "source": [
    "gold_dev  = tokens_ner_with_upos_feats[tokens_ner_with_upos_feats.set=='dev']\n",
    "gold_train = tokens_ner_with_upos_feats[tokens_ner_with_upos_feats.set=='train']\n",
    "gold_test = tokens_ner_with_upos_feats[tokens_ner_with_upos_feats.set=='test']"
   ]
  },
  {
   "cell_type": "code",
   "execution_count": 34,
   "metadata": {},
   "outputs": [
    {
     "data": {
      "text/plain": [
       "sent_id\n",
       "5439    [[הכל, NN, O], [נושאים, BN, O], [עמם, IN^S_PRN...\n",
       "5440    [[אומר, BN, O], [מזכיר, NNT, O], [התק\"ם, NNP, ...\n",
       "5441    [[לא, RB, O], [ייתכן, MD, O], [שעולה, REL^NN, ...\n",
       "5442    [[לא, RB, O], [ייתכן, MD, O], [שהוא, REL^PRP, ...\n",
       "5443    [[לכן, CC, O], [קבענו, VB, O], [עיקרון, NN, O]...\n",
       "dtype: object"
      ]
     },
     "execution_count": 34,
     "metadata": {},
     "output_type": "execute_result"
    }
   ],
   "source": [
    "gold_dev_sents = gold_dev.groupby('sent_id')[['misc_token_str', 'upostag', 'biose']].apply(lambda x: x.values.tolist())\n",
    "gold_train_sents = gold_train.groupby('sent_id')[['misc_token_str', 'upostag', 'biose']].apply(lambda x: x.values.tolist())\n",
    "gold_test_sents = gold_test.groupby('sent_id')[['misc_token_str', 'upostag', 'biose']].apply(lambda x: x.values.tolist())\n",
    "gold_test_sents.head()"
   ]
  },
  {
   "cell_type": "code",
   "execution_count": 38,
   "metadata": {},
   "outputs": [
    {
     "data": {
      "text/plain": [
       "28714"
      ]
     },
     "execution_count": 38,
     "metadata": {},
     "output_type": "execute_result"
    }
   ],
   "source": [
    "words = list(set(tokens_ner_with_upos_feats.misc_token_str.values)|set(yap_dev_tok.misc_token_str.values)|set(yap_test_tok.misc_token_str.values))\n",
    "n_words = len(words); n_words"
   ]
  },
  {
   "cell_type": "code",
   "execution_count": 39,
   "metadata": {},
   "outputs": [
    {
     "data": {
      "text/plain": [
       "36"
      ]
     },
     "execution_count": 39,
     "metadata": {},
     "output_type": "execute_result"
    }
   ],
   "source": [
    "tags = list(set(tokens_ner_with_upos_feats.biose.values))\n",
    "n_tags = len(tags); n_tags"
   ]
  },
  {
   "cell_type": "code",
   "execution_count": 42,
   "metadata": {},
   "outputs": [
    {
     "data": {
      "text/plain": [
       "<matplotlib.axes._subplots.AxesSubplot at 0x7f5dcab01e10>"
      ]
     },
     "execution_count": 42,
     "metadata": {},
     "output_type": "execute_result"
    },
    {
     "data": {
      "image/png": "[encoded data removed]",
      "text/plain": [
       "<Figure size 432x288 with 1 Axes>"
      ]
     },
     "metadata": {},
     "output_type": "display_data"
    }
   ],
   "source": [
    "gold_train.groupby('sent_id').size().hist(bins=50)"
   ]
  },
  {
   "cell_type": "code",
   "execution_count": 44,
   "metadata": {},
   "outputs": [
    {
     "data": {
      "text/plain": [
       "<matplotlib.axes._subplots.AxesSubplot at 0x7f5dcb45c588>"
      ]
     },
     "execution_count": 44,
     "metadata": {},
     "output_type": "execute_result"
    },
    {
     "data": {
      "image/png": "[encoded data removed]",
      "text/plain": [
       "<Figure size 432x288 with 1 Axes>"
      ]
     },
     "metadata": {},
     "output_type": "display_data"
    }
   ],
   "source": [
    "yap_dev_tok.groupby('sent_id').size().hist(bins=50)"
   ]
  },
  {
   "cell_type": "code",
   "execution_count": 45,
   "metadata": {},
   "outputs": [],
   "source": [
    "max_len = 80\n",
    "word2idx = {w: i + 2 for i, w in enumerate(words)}\n",
    "word2idx[\"UNK\"] = 1\n",
    "word2idx[\"PAD\"] = 0\n",
    "idx2word = {i: w for w, i in word2idx.items()}\n",
    "tag2idx = {t: i + 1 for i, t in enumerate(tags)}\n",
    "tag2idx[\"PAD\"] = 0\n",
    "idx2tag = {i: w for w, i in tag2idx.items()}"
   ]
  },
  {
   "cell_type": "code",
   "execution_count": 60,
   "metadata": {},
   "outputs": [],
   "source": [
    "from keras.preprocessing.sequence import pad_sequences\n",
    "X_gold_train = [[word2idx[w[0]] for w in s] for s in gold_train_sents]\n",
    "X_gold_dev   = [[word2idx[w[0]] for w in s] for s in gold_dev_sents]\n",
    "X_gold_test  = [[word2idx[w[0]] for w in s] for s in gold_test_sents]\n",
    "X_yap_dev    = [[word2idx[w[0]] for w in s] for s in yap_dev_tok_sents]\n",
    "X_yap_test   = [[word2idx[w[0]] for w in s] for s in yap_test_tok_sents]"
   ]
  },
  {
   "cell_type": "code",
   "execution_count": 61,
   "metadata": {},
   "outputs": [
    {
     "data": {
      "text/plain": [
       "array([ 3998,  7387, 24719,   468, 27310,     0,     0,     0,     0,\n",
       "           0,     0,     0,     0,     0,     0,     0,     0,     0,\n",
       "           0,     0,     0,     0,     0,     0,     0,     0,     0,\n",
       "           0,     0,     0,     0,     0,     0,     0,     0,     0,\n",
       "           0,     0,     0,     0,     0,     0,     0,     0,     0,\n",
       "           0,     0,     0,     0,     0,     0,     0,     0,     0,\n",
       "           0,     0,     0,     0,     0,     0,     0,     0,     0,\n",
       "           0,     0,     0,     0,     0,     0,     0,     0,     0,\n",
       "           0,     0,     0,     0,     0,     0,     0,     0],\n",
       "      dtype=int32)"
      ]
     },
     "execution_count": 61,
     "metadata": {},
     "output_type": "execute_result"
    }
   ],
   "source": [
    "X_gold_train = pad_sequences(maxlen=max_len, sequences=X_gold_train, value=word2idx[\"PAD\"], padding='post', truncating='post')\n",
    "X_gold_dev   = pad_sequences(maxlen=max_len, sequences=X_gold_dev  , value=word2idx[\"PAD\"], padding='post', truncating='post')\n",
    "X_gold_test  = pad_sequences(maxlen=max_len, sequences=X_gold_test , value=word2idx[\"PAD\"], padding='post', truncating='post')\n",
    "X_yap_dev    = pad_sequences(maxlen=max_len, sequences=X_yap_dev   , value=word2idx[\"PAD\"], padding='post', truncating='post')\n",
    "X_yap_test   = pad_sequences(maxlen=max_len, sequences=X_yap_test  , value=word2idx[\"PAD\"], padding='post', truncating='post')\n",
    "X_gold_train[0]"
   ]
  },
  {
   "cell_type": "code",
   "execution_count": 62,
   "metadata": {},
   "outputs": [
    {
     "data": {
      "text/plain": [
       "352"
      ]
     },
     "execution_count": 62,
     "metadata": {},
     "output_type": "execute_result"
    }
   ],
   "source": [
    "pos = list(set(tokens_ner_with_upos_feats.upostag.values)|set(yap_dev_tok.upostag.values)|set(yap_test_tok.upostag.values))\n",
    "n_pos = len(pos); n_pos"
   ]
  },
  {
   "cell_type": "code",
   "execution_count": 63,
   "metadata": {
    "ExecuteTime": {
     "end_time": "2019-03-13T07:20:48.137589Z",
     "start_time": "2019-03-13T07:20:48.048826Z"
    }
   },
   "outputs": [],
   "source": [
    "pos2idx = {w: i+1 for i, w in enumerate(pos)}\n",
    "pos2idx[\"PAD\"] = 0"
   ]
  },
  {
   "cell_type": "code",
   "execution_count": 64,
   "metadata": {},
   "outputs": [],
   "source": [
    "from keras.preprocessing.sequence import pad_sequences\n",
    "X_pos_gold_train = [[pos2idx[w[1]] for w in s] for s in gold_train_sents]\n",
    "X_pos_gold_dev   = [[pos2idx[w[1]] for w in s] for s in gold_dev_sents]\n",
    "X_pos_gold_test  = [[pos2idx[w[1]] for w in s] for s in gold_test_sents]\n",
    "X_pos_yap_dev    = [[pos2idx[w[1]] for w in s] for s in yap_dev_tok_sents]\n",
    "X_pos_yap_test   = [[pos2idx[w[1]] for w in s] for s in yap_test_tok_sents]"
   ]
  },
  {
   "cell_type": "code",
   "execution_count": 65,
   "metadata": {},
   "outputs": [
    {
     "data": {
      "text/plain": [
       "array([213, 152, 319, 128, 351,   0,   0,   0,   0,   0,   0,   0,   0,\n",
       "         0,   0,   0,   0,   0,   0,   0,   0,   0,   0,   0,   0,   0,\n",
       "         0,   0,   0,   0,   0,   0,   0,   0,   0,   0,   0,   0,   0,\n",
       "         0,   0,   0,   0,   0,   0,   0,   0,   0,   0,   0,   0,   0,\n",
       "         0,   0,   0,   0,   0,   0,   0,   0,   0,   0,   0,   0,   0,\n",
       "         0,   0,   0,   0,   0,   0,   0,   0,   0,   0,   0,   0,   0,\n",
       "         0,   0], dtype=int32)"
      ]
     },
     "execution_count": 65,
     "metadata": {},
     "output_type": "execute_result"
    }
   ],
   "source": [
    "X_pos_gold_train = pad_sequences(maxlen=max_len, sequences=X_pos_gold_train, value=pos2idx[\"PAD\"], padding='post', truncating='post')\n",
    "X_pos_gold_dev   = pad_sequences(maxlen=max_len, sequences=X_pos_gold_dev  , value=pos2idx[\"PAD\"], padding='post', truncating='post')\n",
    "X_pos_gold_test  = pad_sequences(maxlen=max_len, sequences=X_pos_gold_test , value=pos2idx[\"PAD\"], padding='post', truncating='post')\n",
    "X_pos_yap_dev    = pad_sequences(maxlen=max_len, sequences=X_pos_yap_dev   , value=pos2idx[\"PAD\"], padding='post', truncating='post')\n",
    "X_pos_yap_test   = pad_sequences(maxlen=max_len, sequences=X_pos_yap_test  , value=pos2idx[\"PAD\"], padding='post', truncating='post')\n",
    "X_pos_gold_train[0]"
   ]
  },
  {
   "cell_type": "code",
   "execution_count": 69,
   "metadata": {},
   "outputs": [],
   "source": [
    "from keras.preprocessing.sequence import pad_sequences\n",
    "y_gold_train = [[tag2idx[w[2]] for w in s] for s in gold_train_sents]\n",
    "y_gold_dev   = [[tag2idx[w[2]] for w in s] for s in gold_dev_sents]\n",
    "y_gold_test  = [[tag2idx[w[2]] for w in s] for s in gold_test_sents]"
   ]
  },
  {
   "cell_type": "code",
   "execution_count": 70,
   "metadata": {},
   "outputs": [
    {
     "data": {
      "text/plain": [
       "array([17, 17, 17, 17, 17,  0,  0,  0,  0,  0,  0,  0,  0,  0,  0,  0,  0,\n",
       "        0,  0,  0,  0,  0,  0,  0,  0,  0,  0,  0,  0,  0,  0,  0,  0,  0,\n",
       "        0,  0,  0,  0,  0,  0,  0,  0,  0,  0,  0,  0,  0,  0,  0,  0,  0,\n",
       "        0,  0,  0,  0,  0,  0,  0,  0,  0,  0,  0,  0,  0,  0,  0,  0,  0,\n",
       "        0,  0,  0,  0,  0,  0,  0,  0,  0,  0,  0,  0], dtype=int32)"
      ]
     },
     "execution_count": 70,
     "metadata": {},
     "output_type": "execute_result"
    }
   ],
   "source": [
    "y_numer_gold_train = pad_sequences(maxlen=max_len, sequences=y_gold_train, value=pos2idx[\"PAD\"], padding='post', truncating='post')\n",
    "y_numer_gold_dev   = pad_sequences(maxlen=max_len, sequences=y_gold_dev  , value=pos2idx[\"PAD\"], padding='post', truncating='post')\n",
    "y_numer_gold_test  = pad_sequences(maxlen=max_len, sequences=y_gold_test , value=pos2idx[\"PAD\"], padding='post', truncating='post')\n",
    "y_numer_gold_train[0]"
   ]
  },
  {
   "cell_type": "code",
   "execution_count": 100,
   "metadata": {
    "ExecuteTime": {
     "end_time": "2019-03-13T07:20:48.330074Z",
     "start_time": "2019-03-13T07:20:48.226353Z"
    }
   },
   "outputs": [
    {
     "data": {
      "text/plain": [
       "(80, 37)"
      ]
     },
     "execution_count": 100,
     "metadata": {},
     "output_type": "execute_result"
    }
   ],
   "source": [
    "from keras.utils import to_categorical\n",
    "y_gold_train = [to_categorical(i, num_classes=n_tags+1) for i in y_numer_gold_train]\n",
    "y_gold_dev   = [to_categorical(i, num_classes=n_tags+1) for i in y_numer_gold_dev  ]\n",
    "y_gold_test  = [to_categorical(i, num_classes=n_tags+1) for i in y_numer_gold_test ]\n",
    "\n",
    "y_gold_train[0].shape"
   ]
  },
  {
   "cell_type": "code",
   "execution_count": 101,
   "metadata": {},
   "outputs": [
    {
     "data": {
      "text/plain": [
       "0.09196247930844216"
      ]
     },
     "execution_count": 101,
     "metadata": {},
     "output_type": "execute_result"
    }
   ],
   "source": [
    "validation_split = len(X_gold_dev) / (len(X_gold_train)+len(X_gold_dev))\n",
    "validation_split"
   ]
  },
  {
   "cell_type": "code",
   "execution_count": 102,
   "metadata": {},
   "outputs": [],
   "source": [
    "splits = [[X_gold_train, X_gold_dev,\n",
    "           y_gold_train, y_gold_dev,\n",
    "           X_pos_gold_train, X_pos_yap_dev ]]"
   ]
  },
  {
   "cell_type": "markdown",
   "metadata": {},
   "source": [
    "### Prep char input"
   ]
  },
  {
   "cell_type": "code",
   "execution_count": 103,
   "metadata": {
    "ExecuteTime": {
     "end_time": "2019-01-31T13:58:31.324599Z",
     "start_time": "2019-01-31T13:58:31.077207Z"
    }
   },
   "outputs": [
    {
     "data": {
      "text/plain": [
       "<matplotlib.axes._subplots.AxesSubplot at 0x7f5d6a16f630>"
      ]
     },
     "execution_count": 103,
     "metadata": {},
     "output_type": "execute_result"
    },
    {
     "data": {
      "image/png": "[encoded data removed]",
      "text/plain": [
       "<Figure size 432x288 with 1 Axes>"
      ]
     },
     "metadata": {},
     "output_type": "display_data"
    }
   ],
   "source": [
    "tokens_ner_with_upos_feats.misc_token_str.apply(len).hist(bins=18)"
   ]
  },
  {
   "cell_type": "code",
   "execution_count": 104,
   "metadata": {
    "ExecuteTime": {
     "end_time": "2019-01-31T13:58:31.340217Z",
     "start_time": "2019-01-31T13:58:31.324599Z"
    }
   },
   "outputs": [],
   "source": [
    "max_len_char = 12"
   ]
  },
  {
   "cell_type": "code",
   "execution_count": 105,
   "metadata": {
    "ExecuteTime": {
     "end_time": "2019-01-31T13:58:32.660554Z",
     "start_time": "2019-01-31T13:58:32.613692Z"
    }
   },
   "outputs": [
    {
     "name": "stdout",
     "output_type": "stream",
     "text": [
      "50\n"
     ]
    }
   ],
   "source": [
    "chars = set([w_i for w in words for w_i in w])\n",
    "n_chars = len(chars)\n",
    "print(n_chars)"
   ]
  },
  {
   "cell_type": "code",
   "execution_count": 106,
   "metadata": {
    "ExecuteTime": {
     "end_time": "2019-01-31T13:58:33.732950Z",
     "start_time": "2019-01-31T13:58:33.717366Z"
    }
   },
   "outputs": [],
   "source": [
    "char2idx = {c: i + 2 for i, c in enumerate(chars)}\n",
    "char2idx[\"UNK\"] = 1\n",
    "char2idx[\"PAD\"] = 0"
   ]
  },
  {
   "cell_type": "code",
   "execution_count": 107,
   "metadata": {
    "ExecuteTime": {
     "end_time": "2019-01-31T13:58:36.324286Z",
     "start_time": "2019-01-31T13:58:34.303392Z"
    }
   },
   "outputs": [],
   "source": [
    "\n",
    "def get_X_char(sents):\n",
    "    X_char = []\n",
    "    for sentence in sents:\n",
    "        sent_seq = []\n",
    "        for i in range(max_len):\n",
    "            word_seq = []\n",
    "            for j in range(max_len_char):\n",
    "                try:\n",
    "                    word_seq.append(char2idx.get(sentence[i][0][j]))\n",
    "                except:\n",
    "                    word_seq.append(char2idx.get(\"PAD\"))\n",
    "            sent_seq.append(word_seq)\n",
    "        X_char.append(np.array(sent_seq))\n",
    "    return X_char"
   ]
  },
  {
   "cell_type": "code",
   "execution_count": 108,
   "metadata": {},
   "outputs": [],
   "source": [
    "X_char_gold_dev   = get_X_char(gold_dev_sents  )\n",
    "X_char_gold_train = get_X_char(gold_train_sents)\n",
    "X_char_gold_test  = get_X_char(gold_test_sents )\n",
    "X_char_yap_dev    = get_X_char(yap_dev_tok_sents   )\n",
    "X_char_yap_test   = get_X_char(yap_test_tok_sents  )\n",
    "\n",
    "\n",
    "\n",
    "splits_char = [[X_char_gold_train, X_char_gold_dev,\n",
    "                y_gold_train, y_gold_dev]]"
   ]
  },
  {
   "cell_type": "markdown",
   "metadata": {},
   "source": [
    "## Embeddings"
   ]
  },
  {
   "cell_type": "code",
   "execution_count": 82,
   "metadata": {},
   "outputs": [
    {
     "data": {
      "text/plain": [
       "{'yap_w2v_sg': '../wordembedding-hebrew/wikipedia.yap_form.word2vec_skipgram.txt',\n",
       " 'yap_w2v_cbow': '../wordembedding-hebrew/wikipedia.yap_form.word2vec_cbow.txt',\n",
       " 'yap_glove': '../wordembedding-hebrew/glove/wikipedia.yap_form.glove.txt.txt',\n",
       " 'yap_ft_sg': '../wordembedding-hebrew/wikipedia.yap_form.fasttext_skipgram.model.vec',\n",
       " 'yap_ft_cbow': '../wordembedding-hebrew/wikipedia.yap_form.fasttext_cbow.model.vec',\n",
       " 'token_w2v_sg': '../wordembedding-hebrew/wikipedia.tokenized.word2vec_skipgram.txt',\n",
       " 'token_w2v_cbow': '../wordembedding-hebrew/wikipedia.tokenized.word2vec_cbow.txt',\n",
       " 'token_glove': '../wordembedding-hebrew/glove/wikipedia.tokenized.glove.txt',\n",
       " 'token_ft_sg': '../wordembedding-hebrew/wikipedia.tokenized.fasttext_skipgram.model.vec',\n",
       " 'token_ft_cbow': '../wordembedding-hebrew/wikipedia.tokenized.fasttext_cbow.model.vec',\n",
       " 'pretrained_token_ft': '../fasttext/wiki.he.vec'}"
      ]
     },
     "execution_count": 82,
     "metadata": {},
     "output_type": "execute_result"
    }
   ],
   "source": [
    "embedding_paths"
   ]
  },
  {
   "cell_type": "code",
   "execution_count": 89,
   "metadata": {},
   "outputs": [],
   "source": [
    "exclude = ['cbow', 'word2vec', 'yap', 'glove']"
   ]
  },
  {
   "cell_type": "code",
   "execution_count": 90,
   "metadata": {},
   "outputs": [
    {
     "name": "stdout",
     "output_type": "stream",
     "text": [
      "loading word embeddings: ../wordembedding-hebrew/wikipedia.tokenized.fasttext_skipgram.model.vec\n",
      "found 372587 word vectors\n",
      "preparing embedding matrix...\n",
      "number of null word embeddings: 3040\n",
      "sample words not found:  ['מטרפת' 'כ180' 'מבריה\"ם' 'העמידני' 'ייקרה' 'התרכזנו' 'והפלטינה' 'ותעסוק'\n",
      " 'לרשותך' 'אנטיפסטו']\n",
      "loading word embeddings: ../fasttext/wiki.he.vec\n",
      "found 488194 word vectors\n",
      "preparing embedding matrix...\n",
      "number of null word embeddings: 2966\n",
      "sample words not found:  ['1984' 'ומשחלפה' 'הדולקות' 'שהסנדוויץ' 'שקיזזה' 'ל30' 'המפכ\"ל' 'פיגוארדו'\n",
      " 'לחוללם' 'קוינטנר']\n"
     ]
    }
   ],
   "source": [
    "embedding_mats = {}\n",
    "for emb_name, emb_path in embedding_paths.items():\n",
    "    skip=False\n",
    "    for exc in exclude:\n",
    "        if exc in emb_path:\n",
    "            skip=True\n",
    "    if skip:\n",
    "        continue\n",
    "    embedding_mats[emb_name] = get_embedding_matrix(emb_path, word2idx)"
   ]
  },
  {
   "cell_type": "markdown",
   "metadata": {},
   "source": [
    "## Model building"
   ]
  },
  {
   "cell_type": "code",
   "execution_count": 91,
   "metadata": {},
   "outputs": [
    {
     "data": {
      "text/plain": [
       "[{'crf': True, 'use_pos': False},\n",
       " {'crf': True, 'use_pos': True},\n",
       " {'add_random_embedding': False,\n",
       "  'crf': True,\n",
       "  'use_pos': False,\n",
       "  'embedding_matrix': 'token_ft_sg',\n",
       "  'trainable': True,\n",
       "  'embed_dim': 300},\n",
       " {'add_random_embedding': False,\n",
       "  'crf': True,\n",
       "  'use_pos': False,\n",
       "  'embedding_matrix': 'pretrained_token_ft',\n",
       "  'trainable': True,\n",
       "  'embed_dim': 300},\n",
       " {'add_random_embedding': False,\n",
       "  'crf': True,\n",
       "  'use_pos': True,\n",
       "  'embedding_matrix': 'token_ft_sg',\n",
       "  'trainable': True,\n",
       "  'embed_dim': 300},\n",
       " {'add_random_embedding': False,\n",
       "  'crf': True,\n",
       "  'use_pos': True,\n",
       "  'embedding_matrix': 'pretrained_token_ft',\n",
       "  'trainable': True,\n",
       "  'embed_dim': 300},\n",
       " {'use_char': True, 'crf': True, 'use_pos': False},\n",
       " {'use_char': True, 'crf': True, 'use_pos': True},\n",
       " {'add_random_embedding': False,\n",
       "  'use_char': True,\n",
       "  'crf': True,\n",
       "  'use_pos': False,\n",
       "  'embedding_matrix': 'token_ft_sg',\n",
       "  'trainable': True,\n",
       "  'embed_dim': 300},\n",
       " {'add_random_embedding': False,\n",
       "  'use_char': True,\n",
       "  'crf': True,\n",
       "  'use_pos': False,\n",
       "  'embedding_matrix': 'pretrained_token_ft',\n",
       "  'trainable': True,\n",
       "  'embed_dim': 300},\n",
       " {'add_random_embedding': False,\n",
       "  'use_char': True,\n",
       "  'crf': True,\n",
       "  'use_pos': True,\n",
       "  'embedding_matrix': 'token_ft_sg',\n",
       "  'trainable': True,\n",
       "  'embed_dim': 300},\n",
       " {'add_random_embedding': False,\n",
       "  'use_char': True,\n",
       "  'crf': True,\n",
       "  'use_pos': True,\n",
       "  'embedding_matrix': 'pretrained_token_ft',\n",
       "  'trainable': True,\n",
       "  'embed_dim': 300}]"
      ]
     },
     "execution_count": 91,
     "metadata": {},
     "output_type": "execute_result"
    }
   ],
   "source": [
    "configs = build_configs(base_configs, embedding_mats)\n",
    "configs     "
   ]
  },
  {
   "cell_type": "code",
   "execution_count": 109,
   "metadata": {},
   "outputs": [],
   "source": [
    "out_folder = 'results/new_outputs'\n",
    "if not os.path.exists(out_folder):\n",
    "    os.mkdir(out_folder)"
   ]
  },
  {
   "cell_type": "code",
   "execution_count": 110,
   "metadata": {},
   "outputs": [],
   "source": [
    "extra_preds = [(X_gold_test, X_pos_gold_test, X_char_gold_test), \n",
    "               (X_yap_dev, X_pos_yap_dev, X_char_yap_dev),\n",
    "               (X_yap_test, X_pos_yap_test, X_char_yap_test)]"
   ]
  },
  {
   "cell_type": "code",
   "execution_count": 111,
   "metadata": {},
   "outputs": [],
   "source": [
    "from ner_utils import *"
   ]
  },
  {
   "cell_type": "code",
   "execution_count": null,
   "metadata": {
    "ExecuteTime": {
     "end_time": "2019-03-13T11:31:02.793857Z",
     "start_time": "2019-03-13T11:16:17.267695Z"
    },
    "scrolled": true
   },
   "outputs": [
    {
     "name": "stdout",
     "output_type": "stream",
     "text": [
      "Train on 4482 samples, validate on 455 samples\n",
      "Epoch 1/100\n",
      " - 64s - loss: 0.3106 - crf_accuracy: 0.9353 - val_loss: 0.1858 - val_crf_accuracy: 0.9681\n",
      "Epoch 2/100\n",
      " - 62s - loss: 0.1104 - crf_accuracy: 0.9762 - val_loss: 0.1319 - val_crf_accuracy: 0.9699\n",
      "Epoch 3/100\n",
      " - 60s - loss: 0.0769 - crf_accuracy: 0.9793 - val_loss: 0.1179 - val_crf_accuracy: 0.9723\n",
      "Epoch 4/100\n",
      " - 62s - loss: 0.0552 - crf_accuracy: 0.9833 - val_loss: 0.1140 - val_crf_accuracy: 0.9730\n",
      "Epoch 5/100\n",
      " - 59s - loss: 0.0394 - crf_accuracy: 0.9867 - val_loss: 0.1026 - val_crf_accuracy: 0.9735\n",
      "Epoch 6/100\n",
      " - 61s - loss: 0.0274 - crf_accuracy: 0.9891 - val_loss: 0.0974 - val_crf_accuracy: 0.9738\n",
      "Epoch 7/100\n"
     ]
    }
   ],
   "source": [
    "configs, results, preds, histories = run_models(configs, splits, splits_char, embedding_mats, \n",
    "                                                words, max_len, n_words, idx2word, idx2tag,\n",
    "                                                n_tags, max_len_char, n_pos, n_chars,\n",
    "                                                run_name='treebank_tokens', out_folder=out_folder,\n",
    "                                                skip_if_model_exists=True,\n",
    "                                                validation_split=validation_split,\n",
    "                                                extra_predictions=extra_preds,\n",
    "                                                )"
   ]
  },
  {
   "cell_type": "code",
   "execution_count": null,
   "metadata": {},
   "outputs": [],
   "source": []
  }
 ],
 "metadata": {
  "kernelspec": {
   "display_name": "",
   "name": ""
  },
  "language_info": {
   "codemirror_mode": {
    "name": "ipython",
    "version": 3
   },
   "file_extension": ".py",
   "mimetype": "text/x-python",
   "name": "python",
   "nbconvert_exporter": "python",
   "pygments_lexer": "ipython3",
   "version": "3.6.8"
  }
 },
 "nbformat": 4,
 "nbformat_minor": 4
}
