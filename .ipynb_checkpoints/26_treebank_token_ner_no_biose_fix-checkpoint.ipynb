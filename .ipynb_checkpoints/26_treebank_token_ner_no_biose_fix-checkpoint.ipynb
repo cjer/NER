{
 "cells": [
  {
   "cell_type": "markdown",
   "metadata": {},
   "source": [
    "# Treebank NER with Bi-LSTM-CRF "
   ]
  },
  {
   "cell_type": "code",
   "execution_count": 1,
   "metadata": {},
   "outputs": [],
   "source": [
    "import os\n",
    "os.environ[\"CUDA_DEVICE_ORDER\"]=\"PCI_BUS_ID\";\n",
    " \n",
    "# The GPU id to use, usually either \"0\" or \"1\";\n",
    "os.environ[\"CUDA_VISIBLE_DEVICES\"]=\"2\";  "
   ]
  },
  {
   "cell_type": "code",
   "execution_count": 2,
   "metadata": {},
   "outputs": [],
   "source": [
    "%load_ext autoreload\n",
    "%autoreload 2"
   ]
  },
  {
   "cell_type": "code",
   "execution_count": 3,
   "metadata": {
    "ExecuteTime": {
     "end_time": "2019-03-13T07:20:24.034028Z",
     "start_time": "2019-03-13T07:20:22.687626Z"
    }
   },
   "outputs": [],
   "source": [
    "%matplotlib inline"
   ]
  },
  {
   "cell_type": "code",
   "execution_count": 4,
   "metadata": {
    "ExecuteTime": {
     "end_time": "2019-03-13T07:20:24.382406Z",
     "start_time": "2019-03-13T07:20:24.037019Z"
    }
   },
   "outputs": [],
   "source": [
    "import pandas as pd\n",
    "import numpy as np"
   ]
  },
  {
   "cell_type": "code",
   "execution_count": 5,
   "metadata": {
    "ExecuteTime": {
     "end_time": "2019-03-13T07:20:27.996727Z",
     "start_time": "2019-03-13T07:20:24.385088Z"
    }
   },
   "outputs": [],
   "source": [
    "import matplotlib.pyplot as plt\n",
    "import seaborn as sns\n",
    "sns.set_context('paper')\n",
    "sns.set_style('white')"
   ]
  },
  {
   "cell_type": "code",
   "execution_count": 6,
   "metadata": {
    "ExecuteTime": {
     "end_time": "2019-03-13T07:20:28.016424Z",
     "start_time": "2019-03-13T07:20:27.999427Z"
    }
   },
   "outputs": [],
   "source": [
    "from conlleval import evaluate"
   ]
  },
  {
   "cell_type": "code",
   "execution_count": 7,
   "metadata": {},
   "outputs": [
    {
     "name": "stderr",
     "output_type": "stream",
     "text": [
      "Using TensorFlow backend.\n"
     ]
    }
   ],
   "source": [
    "from ner_utils import *"
   ]
  },
  {
   "cell_type": "markdown",
   "metadata": {},
   "source": [
    "## Get token data"
   ]
  },
  {
   "cell_type": "code",
   "execution_count": 8,
   "metadata": {},
   "outputs": [],
   "source": [
    "#yap_dev = pd.read_csv('new_yap_outputs/yap_dev.csv.gz', compression='gzip')\n",
    "#yap_test = pd.read_csv('new_yap_outputs/yap_test.csv.gz', compression='gzip')\n",
    "yap_dev_tok = pd.read_csv('new_yap_outputs/yap_dev_tokens.csv.gz', compression='gzip').reset_index()\n",
    "yap_test_tok = pd.read_csv('new_yap_outputs/yap_test_tokens.csv.gz', compression='gzip').reset_index()"
   ]
  },
  {
   "cell_type": "code",
   "execution_count": 9,
   "metadata": {},
   "outputs": [
    {
     "data": {
      "text/html": [
       "<div>\n",
       "<style scoped>\n",
       "    .dataframe tbody tr th:only-of-type {\n",
       "        vertical-align: middle;\n",
       "    }\n",
       "\n",
       "    .dataframe tbody tr th {\n",
       "        vertical-align: top;\n",
       "    }\n",
       "\n",
       "    .dataframe thead th {\n",
       "        text-align: right;\n",
       "    }\n",
       "</style>\n",
       "<table border=\"1\" class=\"dataframe\">\n",
       "  <thead>\n",
       "    <tr style=\"text-align: right;\">\n",
       "      <th></th>\n",
       "      <th>index</th>\n",
       "      <th>sent</th>\n",
       "      <th>misc_token_id</th>\n",
       "      <th>misc_token_str</th>\n",
       "      <th>upostag</th>\n",
       "      <th>form</th>\n",
       "      <th>lemma</th>\n",
       "      <th>deprel</th>\n",
       "      <th>feats_gen</th>\n",
       "      <th>feats_num</th>\n",
       "      <th>feats_per</th>\n",
       "      <th>feats_tense</th>\n",
       "      <th>feats_suf_gen</th>\n",
       "      <th>feats_suf_num</th>\n",
       "      <th>feats_suf_per</th>\n",
       "      <th>sent_id</th>\n",
       "    </tr>\n",
       "  </thead>\n",
       "  <tbody>\n",
       "    <tr>\n",
       "      <th>0</th>\n",
       "      <td>0</td>\n",
       "      <td>1</td>\n",
       "      <td>1</td>\n",
       "      <td>הכל</td>\n",
       "      <td>DEF^DTT</td>\n",
       "      <td>ה^כל</td>\n",
       "      <td>ה^כול</td>\n",
       "      <td>def^det</td>\n",
       "      <td>,</td>\n",
       "      <td>,</td>\n",
       "      <td>,</td>\n",
       "      <td>,</td>\n",
       "      <td>,</td>\n",
       "      <td>,</td>\n",
       "      <td>,</td>\n",
       "      <td>5439</td>\n",
       "    </tr>\n",
       "    <tr>\n",
       "      <th>1</th>\n",
       "      <td>1</td>\n",
       "      <td>1</td>\n",
       "      <td>2</td>\n",
       "      <td>נושאים</td>\n",
       "      <td>NN</td>\n",
       "      <td>נושאים</td>\n",
       "      <td>נושא</td>\n",
       "      <td>subj</td>\n",
       "      <td>M</td>\n",
       "      <td>P</td>\n",
       "      <td>NaN</td>\n",
       "      <td>NaN</td>\n",
       "      <td>NaN</td>\n",
       "      <td>NaN</td>\n",
       "      <td>NaN</td>\n",
       "      <td>5439</td>\n",
       "    </tr>\n",
       "    <tr>\n",
       "      <th>2</th>\n",
       "      <td>2</td>\n",
       "      <td>1</td>\n",
       "      <td>3</td>\n",
       "      <td>עמם</td>\n",
       "      <td>VB</td>\n",
       "      <td>עמם</td>\n",
       "      <td>עימם</td>\n",
       "      <td>conj</td>\n",
       "      <td>M</td>\n",
       "      <td>S</td>\n",
       "      <td>3</td>\n",
       "      <td>PAST</td>\n",
       "      <td>NaN</td>\n",
       "      <td>NaN</td>\n",
       "      <td>NaN</td>\n",
       "      <td>5439</td>\n",
       "    </tr>\n",
       "    <tr>\n",
       "      <th>3</th>\n",
       "      <td>3</td>\n",
       "      <td>1</td>\n",
       "      <td>4</td>\n",
       "      <td>את</td>\n",
       "      <td>AT</td>\n",
       "      <td>את</td>\n",
       "      <td>את</td>\n",
       "      <td>obj</td>\n",
       "      <td>NaN</td>\n",
       "      <td>NaN</td>\n",
       "      <td>NaN</td>\n",
       "      <td>NaN</td>\n",
       "      <td>NaN</td>\n",
       "      <td>NaN</td>\n",
       "      <td>NaN</td>\n",
       "      <td>5439</td>\n",
       "    </tr>\n",
       "    <tr>\n",
       "      <th>4</th>\n",
       "      <td>4</td>\n",
       "      <td>1</td>\n",
       "      <td>5</td>\n",
       "      <td>כישלונות</td>\n",
       "      <td>NNT</td>\n",
       "      <td>כישלונות</td>\n",
       "      <td>כישלון</td>\n",
       "      <td>hd</td>\n",
       "      <td>M</td>\n",
       "      <td>P</td>\n",
       "      <td>NaN</td>\n",
       "      <td>NaN</td>\n",
       "      <td>NaN</td>\n",
       "      <td>NaN</td>\n",
       "      <td>NaN</td>\n",
       "      <td>5439</td>\n",
       "    </tr>\n",
       "  </tbody>\n",
       "</table>\n",
       "</div>"
      ],
      "text/plain": [
       "   index  sent  misc_token_id misc_token_str  upostag      form   lemma  \\\n",
       "0      0     1              1            הכל  DEF^DTT      ה^כל   ה^כול   \n",
       "1      1     1              2         נושאים       NN    נושאים    נושא   \n",
       "2      2     1              3            עמם       VB       עמם    עימם   \n",
       "3      3     1              4             את       AT        את      את   \n",
       "4      4     1              5       כישלונות      NNT  כישלונות  כישלון   \n",
       "\n",
       "    deprel feats_gen feats_num feats_per feats_tense feats_suf_gen  \\\n",
       "0  def^det         ,         ,         ,           ,             ,   \n",
       "1     subj         M         P       NaN         NaN           NaN   \n",
       "2     conj         M         S         3        PAST           NaN   \n",
       "3      obj       NaN       NaN       NaN         NaN           NaN   \n",
       "4       hd         M         P       NaN         NaN           NaN   \n",
       "\n",
       "  feats_suf_num feats_suf_per  sent_id  \n",
       "0             ,             ,     5439  \n",
       "1           NaN           NaN     5439  \n",
       "2           NaN           NaN     5439  \n",
       "3           NaN           NaN     5439  \n",
       "4           NaN           NaN     5439  "
      ]
     },
     "execution_count": 9,
     "metadata": {},
     "output_type": "execute_result"
    }
   ],
   "source": [
    "yap_test_tok.head()"
   ]
  },
  {
   "cell_type": "code",
   "execution_count": 10,
   "metadata": {},
   "outputs": [],
   "source": [
    "tokens_ner_with_upos_feats = pd.read_csv('align/spmrl_tokens_df.csv.gz', compression='gzip').reset_index()"
   ]
  },
  {
   "cell_type": "code",
   "execution_count": 11,
   "metadata": {},
   "outputs": [
    {
     "data": {
      "text/html": [
       "<div>\n",
       "<style scoped>\n",
       "    .dataframe tbody tr th:only-of-type {\n",
       "        vertical-align: middle;\n",
       "    }\n",
       "\n",
       "    .dataframe tbody tr th {\n",
       "        vertical-align: top;\n",
       "    }\n",
       "\n",
       "    .dataframe thead th {\n",
       "        text-align: right;\n",
       "    }\n",
       "</style>\n",
       "<table border=\"1\" class=\"dataframe\">\n",
       "  <thead>\n",
       "    <tr style=\"text-align: right;\">\n",
       "      <th></th>\n",
       "      <th>index</th>\n",
       "      <th>sent</th>\n",
       "      <th>misc_token_id</th>\n",
       "      <th>misc_token_str</th>\n",
       "      <th>upostag</th>\n",
       "      <th>form</th>\n",
       "      <th>lemma</th>\n",
       "      <th>deprel</th>\n",
       "      <th>feats_gen</th>\n",
       "      <th>feats_num</th>\n",
       "      <th>feats_per</th>\n",
       "      <th>feats_tense</th>\n",
       "      <th>feats_suf_gen</th>\n",
       "      <th>feats_suf_num</th>\n",
       "      <th>feats_suf_per</th>\n",
       "      <th>sent_id</th>\n",
       "    </tr>\n",
       "  </thead>\n",
       "  <tbody>\n",
       "    <tr>\n",
       "      <th>0</th>\n",
       "      <td>0</td>\n",
       "      <td>1</td>\n",
       "      <td>1</td>\n",
       "      <td>עשרות</td>\n",
       "      <td>CDT</td>\n",
       "      <td>עשרות</td>\n",
       "      <td>עשר</td>\n",
       "      <td>num</td>\n",
       "      <td>F</td>\n",
       "      <td>P</td>\n",
       "      <td>NaN</td>\n",
       "      <td>NaN</td>\n",
       "      <td>NaN</td>\n",
       "      <td>NaN</td>\n",
       "      <td>NaN</td>\n",
       "      <td>1</td>\n",
       "    </tr>\n",
       "    <tr>\n",
       "      <th>1</th>\n",
       "      <td>1</td>\n",
       "      <td>1</td>\n",
       "      <td>2</td>\n",
       "      <td>אנשים</td>\n",
       "      <td>NN</td>\n",
       "      <td>אנשים</td>\n",
       "      <td>איש</td>\n",
       "      <td>subj</td>\n",
       "      <td>M</td>\n",
       "      <td>P</td>\n",
       "      <td>NaN</td>\n",
       "      <td>NaN</td>\n",
       "      <td>NaN</td>\n",
       "      <td>NaN</td>\n",
       "      <td>NaN</td>\n",
       "      <td>1</td>\n",
       "    </tr>\n",
       "    <tr>\n",
       "      <th>2</th>\n",
       "      <td>2</td>\n",
       "      <td>1</td>\n",
       "      <td>3</td>\n",
       "      <td>מגיעים</td>\n",
       "      <td>BN</td>\n",
       "      <td>מגיעים</td>\n",
       "      <td>הגיע</td>\n",
       "      <td>conj</td>\n",
       "      <td>M</td>\n",
       "      <td>P</td>\n",
       "      <td>A</td>\n",
       "      <td>NaN</td>\n",
       "      <td>NaN</td>\n",
       "      <td>NaN</td>\n",
       "      <td>NaN</td>\n",
       "      <td>1</td>\n",
       "    </tr>\n",
       "    <tr>\n",
       "      <th>3</th>\n",
       "      <td>3</td>\n",
       "      <td>1</td>\n",
       "      <td>4</td>\n",
       "      <td>מתאילנד</td>\n",
       "      <td>PREPOSITION^NNP</td>\n",
       "      <td>מ^תאילנד</td>\n",
       "      <td>מ^תאילנד</td>\n",
       "      <td>comp^pobj</td>\n",
       "      <td>^F</td>\n",
       "      <td>^S</td>\n",
       "      <td>^</td>\n",
       "      <td>^</td>\n",
       "      <td>^</td>\n",
       "      <td>^</td>\n",
       "      <td>^</td>\n",
       "      <td>1</td>\n",
       "    </tr>\n",
       "    <tr>\n",
       "      <th>4</th>\n",
       "      <td>4</td>\n",
       "      <td>1</td>\n",
       "      <td>5</td>\n",
       "      <td>לישראל</td>\n",
       "      <td>NNP</td>\n",
       "      <td>לישראל</td>\n",
       "      <td>לישראל</td>\n",
       "      <td>nn</td>\n",
       "      <td>F,M</td>\n",
       "      <td>S</td>\n",
       "      <td>NaN</td>\n",
       "      <td>NaN</td>\n",
       "      <td>NaN</td>\n",
       "      <td>NaN</td>\n",
       "      <td>NaN</td>\n",
       "      <td>1</td>\n",
       "    </tr>\n",
       "  </tbody>\n",
       "</table>\n",
       "</div>"
      ],
      "text/plain": [
       "   index  sent  misc_token_id misc_token_str          upostag      form  \\\n",
       "0      0     1              1          עשרות              CDT     עשרות   \n",
       "1      1     1              2          אנשים               NN     אנשים   \n",
       "2      2     1              3         מגיעים               BN    מגיעים   \n",
       "3      3     1              4        מתאילנד  PREPOSITION^NNP  מ^תאילנד   \n",
       "4      4     1              5         לישראל              NNP    לישראל   \n",
       "\n",
       "      lemma     deprel feats_gen feats_num feats_per feats_tense  \\\n",
       "0       עשר        num         F         P       NaN         NaN   \n",
       "1       איש       subj         M         P       NaN         NaN   \n",
       "2      הגיע       conj         M         P         A         NaN   \n",
       "3  מ^תאילנד  comp^pobj        ^F        ^S         ^           ^   \n",
       "4    לישראל         nn       F,M         S       NaN         NaN   \n",
       "\n",
       "  feats_suf_gen feats_suf_num feats_suf_per  sent_id  \n",
       "0           NaN           NaN           NaN        1  \n",
       "1           NaN           NaN           NaN        1  \n",
       "2           NaN           NaN           NaN        1  \n",
       "3             ^             ^             ^        1  \n",
       "4           NaN           NaN           NaN        1  "
      ]
     },
     "execution_count": 11,
     "metadata": {},
     "output_type": "execute_result"
    }
   ],
   "source": [
    "yap_dev_tok.head()"
   ]
  },
  {
   "cell_type": "code",
   "execution_count": 12,
   "metadata": {},
   "outputs": [
    {
     "data": {
      "text/plain": [
       "sent_id\n",
       "1    [[עשרות, CDT], [אנשים, NN], [מגיעים, BN], [מתא...\n",
       "2    [[תופעה, NN], [זו, PRP], [התבררה, VB], [אתמול,...\n",
       "3    [[יו\"ר, NNT], [הוועדה, DEF^NN], [,, yyCM], [ח\"...\n",
       "4    [[מצד, PREPOSITION^NN], [אחד, CD], [רוצה, BN],...\n",
       "5    [[נמיר, NNP], [הודיעה, VB], [כי, CC], [תפנה, V...\n",
       "dtype: object"
      ]
     },
     "execution_count": 12,
     "metadata": {},
     "output_type": "execute_result"
    }
   ],
   "source": [
    "yap_dev_tok_sents =  yap_dev_tok.groupby('sent_id')[['misc_token_str', 'upostag']].apply(lambda x: x.values.tolist())\n",
    "yap_dev_tok_sents.head()"
   ]
  },
  {
   "cell_type": "code",
   "execution_count": 13,
   "metadata": {},
   "outputs": [
    {
     "data": {
      "text/plain": [
       "sent_id\n",
       "5439    [[הכל, DEF^DTT], [נושאים, NN], [עמם, VB], [את,...\n",
       "5440    [[אומר, NNT], [מזכיר, NNT], [התק\"ם, DEF^NNP], ...\n",
       "5441    [[לא, RB], [ייתכן, MD], [שעולה, REL^NN], [יבוא...\n",
       "5442    [[לא, RB], [ייתכן, MD], [שהוא, REL^PRP], [יירד...\n",
       "5443    [[לכן, CC], [קבענו, VB], [עיקרון, NN], [שצריכה...\n",
       "dtype: object"
      ]
     },
     "execution_count": 13,
     "metadata": {},
     "output_type": "execute_result"
    }
   ],
   "source": [
    "yap_test_tok_sents =  yap_test_tok.groupby('sent_id')[['misc_token_str', 'upostag']].apply(lambda x: x.values.tolist())\n",
    "yap_test_tok_sents.head()"
   ]
  },
  {
   "cell_type": "code",
   "execution_count": 14,
   "metadata": {},
   "outputs": [],
   "source": [
    "gold_dev  = tokens_ner_with_upos_feats[tokens_ner_with_upos_feats.set=='dev']\n",
    "gold_train = tokens_ner_with_upos_feats[tokens_ner_with_upos_feats.set=='train']\n",
    "gold_test = tokens_ner_with_upos_feats[tokens_ner_with_upos_feats.set=='test']"
   ]
  },
  {
   "cell_type": "code",
   "execution_count": 15,
   "metadata": {},
   "outputs": [
    {
     "data": {
      "text/plain": [
       "sent_id\n",
       "5439    [[הכל, NN, O], [נושאים, BN, O], [עמם, IN^S_PRN...\n",
       "5440    [[אומר, BN, O], [מזכיר, NNT, O], [התק\"ם, NNP, ...\n",
       "5441    [[לא, RB, O], [ייתכן, MD, O], [שעולה, REL^NN, ...\n",
       "5442    [[לא, RB, O], [ייתכן, MD, O], [שהוא, REL^PRP, ...\n",
       "5443    [[לכן, CC, O], [קבענו, VB, O], [עיקרון, NN, O]...\n",
       "dtype: object"
      ]
     },
     "execution_count": 15,
     "metadata": {},
     "output_type": "execute_result"
    }
   ],
   "source": [
    "gold_dev_sents = gold_dev.groupby('sent_id')[['misc_token_str', 'upostag', 'biose']].apply(lambda x: x.values.tolist())\n",
    "gold_train_sents = gold_train.groupby('sent_id')[['misc_token_str', 'upostag', 'biose']].apply(lambda x: x.values.tolist())\n",
    "gold_test_sents = gold_test.groupby('sent_id')[['misc_token_str', 'upostag', 'biose']].apply(lambda x: x.values.tolist())\n",
    "gold_test_sents.head()"
   ]
  },
  {
   "cell_type": "code",
   "execution_count": 16,
   "metadata": {},
   "outputs": [
    {
     "data": {
      "text/plain": [
       "sent_id\n",
       "1    [[עשרות, CDT, O], [אנשים, NN, O], [מגיעים, BN,...\n",
       "2    [[תופעה, NN, O], [זו, PRP, O], [התבררה, VB, O]...\n",
       "3    [[יו\"ר, NNT, O], [הוועדה, DEF^NN, O], [,, yyCM...\n",
       "4    [[מצד, PREPOSITION^NN, O], [אחד, CD, O], [רוצה...\n",
       "5    [[נמיר, NNP, S-PER], [הודיעה, VB, O], [כי, CC,...\n",
       "dtype: object"
      ]
     },
     "execution_count": 16,
     "metadata": {},
     "output_type": "execute_result"
    }
   ],
   "source": [
    "gold_dev_sents.head()"
   ]
  },
  {
   "cell_type": "code",
   "execution_count": 17,
   "metadata": {},
   "outputs": [
    {
     "data": {
      "text/plain": [
       "28714"
      ]
     },
     "execution_count": 17,
     "metadata": {},
     "output_type": "execute_result"
    }
   ],
   "source": [
    "words = list(set(tokens_ner_with_upos_feats.misc_token_str.values)|set(yap_dev_tok.misc_token_str.values)|set(yap_test_tok.misc_token_str.values))\n",
    "n_words = len(words); n_words"
   ]
  },
  {
   "cell_type": "code",
   "execution_count": 18,
   "metadata": {},
   "outputs": [
    {
     "data": {
      "text/plain": [
       "36"
      ]
     },
     "execution_count": 18,
     "metadata": {},
     "output_type": "execute_result"
    }
   ],
   "source": [
    "tags = list(set(tokens_ner_with_upos_feats.biose.values))\n",
    "n_tags = len(tags); n_tags"
   ]
  },
  {
   "cell_type": "code",
   "execution_count": 19,
   "metadata": {},
   "outputs": [
    {
     "data": {
      "text/plain": [
       "<matplotlib.axes._subplots.AxesSubplot at 0x7f3324882588>"
      ]
     },
     "execution_count": 19,
     "metadata": {},
     "output_type": "execute_result"
    },
    {
     "data": {
      "image/png": "[encoded data removed]",
      "text/plain": [
       "<Figure size 432x288 with 1 Axes>"
      ]
     },
     "metadata": {},
     "output_type": "display_data"
    }
   ],
   "source": [
    "gold_train.groupby('sent_id').size().hist(bins=50)"
   ]
  },
  {
   "cell_type": "code",
   "execution_count": 20,
   "metadata": {},
   "outputs": [
    {
     "data": {
      "text/plain": [
       "<matplotlib.axes._subplots.AxesSubplot at 0x7f3327ab0cf8>"
      ]
     },
     "execution_count": 20,
     "metadata": {},
     "output_type": "execute_result"
    },
    {
     "data": {
      "image/png": "[encoded data removed]",
      "text/plain": [
       "<Figure size 432x288 with 1 Axes>"
      ]
     },
     "metadata": {},
     "output_type": "display_data"
    }
   ],
   "source": [
    "yap_dev_tok.groupby('sent_id').size().hist(bins=50)"
   ]
  },
  {
   "cell_type": "code",
   "execution_count": 21,
   "metadata": {},
   "outputs": [],
   "source": [
    "max_len = 80\n",
    "word2idx = {w: i + 2 for i, w in enumerate(words)}\n",
    "word2idx[\"UNK\"] = 1\n",
    "word2idx[\"PAD\"] = 0\n",
    "idx2word = {i: w for w, i in word2idx.items()}\n",
    "tag2idx = {t: i + 1 for i, t in enumerate(tags)}\n",
    "tag2idx[\"PAD\"] = 0\n",
    "idx2tag = {i: w for w, i in tag2idx.items()}"
   ]
  },
  {
   "cell_type": "code",
   "execution_count": 22,
   "metadata": {},
   "outputs": [],
   "source": [
    "from keras.preprocessing.sequence import pad_sequences\n",
    "X_gold_train = [[word2idx[w[0]] for w in s] for s in gold_train_sents]\n",
    "X_gold_dev   = [[word2idx[w[0]] for w in s] for s in gold_dev_sents]\n",
    "X_gold_test  = [[word2idx[w[0]] for w in s] for s in gold_test_sents]\n",
    "X_yap_dev    = [[word2idx[w[0]] for w in s] for s in yap_dev_tok_sents]\n",
    "X_yap_test   = [[word2idx[w[0]] for w in s] for s in yap_test_tok_sents]"
   ]
  },
  {
   "cell_type": "code",
   "execution_count": 23,
   "metadata": {},
   "outputs": [
    {
     "data": {
      "text/plain": [
       "array([ 2683,  9600, 27757, 14207,  6628,     0,     0,     0,     0,\n",
       "           0,     0,     0,     0,     0,     0,     0,     0,     0,\n",
       "           0,     0,     0,     0,     0,     0,     0,     0,     0,\n",
       "           0,     0,     0,     0,     0,     0,     0,     0,     0,\n",
       "           0,     0,     0,     0,     0,     0,     0,     0,     0,\n",
       "           0,     0,     0,     0,     0,     0,     0,     0,     0,\n",
       "           0,     0,     0,     0,     0,     0,     0,     0,     0,\n",
       "           0,     0,     0,     0,     0,     0,     0,     0,     0,\n",
       "           0,     0,     0,     0,     0,     0,     0,     0],\n",
       "      dtype=int32)"
      ]
     },
     "execution_count": 23,
     "metadata": {},
     "output_type": "execute_result"
    }
   ],
   "source": [
    "X_gold_train = pad_sequences(maxlen=max_len, sequences=X_gold_train, value=word2idx[\"PAD\"], padding='post', truncating='post')\n",
    "X_gold_dev   = pad_sequences(maxlen=max_len, sequences=X_gold_dev  , value=word2idx[\"PAD\"], padding='post', truncating='post')\n",
    "X_gold_test  = pad_sequences(maxlen=max_len, sequences=X_gold_test , value=word2idx[\"PAD\"], padding='post', truncating='post')\n",
    "X_yap_dev    = pad_sequences(maxlen=max_len, sequences=X_yap_dev   , value=word2idx[\"PAD\"], padding='post', truncating='post')\n",
    "X_yap_test   = pad_sequences(maxlen=max_len, sequences=X_yap_test  , value=word2idx[\"PAD\"], padding='post', truncating='post')\n",
    "X_gold_train[0]"
   ]
  },
  {
   "cell_type": "code",
   "execution_count": 24,
   "metadata": {},
   "outputs": [
    {
     "data": {
      "text/plain": [
       "352"
      ]
     },
     "execution_count": 24,
     "metadata": {},
     "output_type": "execute_result"
    }
   ],
   "source": [
    "pos = list(set(tokens_ner_with_upos_feats.upostag.values)|set(yap_dev_tok.upostag.values)|set(yap_test_tok.upostag.values))\n",
    "n_pos = len(pos); n_pos"
   ]
  },
  {
   "cell_type": "code",
   "execution_count": 25,
   "metadata": {
    "ExecuteTime": {
     "end_time": "2019-03-13T07:20:48.137589Z",
     "start_time": "2019-03-13T07:20:48.048826Z"
    }
   },
   "outputs": [],
   "source": [
    "pos2idx = {w: i+1 for i, w in enumerate(pos)}\n",
    "pos2idx[\"PAD\"] = 0"
   ]
  },
  {
   "cell_type": "code",
   "execution_count": 26,
   "metadata": {},
   "outputs": [],
   "source": [
    "from keras.preprocessing.sequence import pad_sequences\n",
    "X_pos_gold_train = [[pos2idx[w[1]] for w in s] for s in gold_train_sents]\n",
    "X_pos_gold_dev   = [[pos2idx[w[1]] for w in s] for s in gold_dev_sents]\n",
    "X_pos_gold_test  = [[pos2idx[w[1]] for w in s] for s in gold_test_sents]\n",
    "X_pos_yap_dev    = [[pos2idx[w[1]] for w in s] for s in yap_dev_tok_sents]\n",
    "X_pos_yap_test   = [[pos2idx[w[1]] for w in s] for s in yap_test_tok_sents]"
   ]
  },
  {
   "cell_type": "code",
   "execution_count": 27,
   "metadata": {},
   "outputs": [
    {
     "data": {
      "text/plain": [
       "array([319, 328, 145,  51, 132,   0,   0,   0,   0,   0,   0,   0,   0,\n",
       "         0,   0,   0,   0,   0,   0,   0,   0,   0,   0,   0,   0,   0,\n",
       "         0,   0,   0,   0,   0,   0,   0,   0,   0,   0,   0,   0,   0,\n",
       "         0,   0,   0,   0,   0,   0,   0,   0,   0,   0,   0,   0,   0,\n",
       "         0,   0,   0,   0,   0,   0,   0,   0,   0,   0,   0,   0,   0,\n",
       "         0,   0,   0,   0,   0,   0,   0,   0,   0,   0,   0,   0,   0,\n",
       "         0,   0], dtype=int32)"
      ]
     },
     "execution_count": 27,
     "metadata": {},
     "output_type": "execute_result"
    }
   ],
   "source": [
    "X_pos_gold_train = pad_sequences(maxlen=max_len, sequences=X_pos_gold_train, value=pos2idx[\"PAD\"], padding='post', truncating='post')\n",
    "X_pos_gold_dev   = pad_sequences(maxlen=max_len, sequences=X_pos_gold_dev  , value=pos2idx[\"PAD\"], padding='post', truncating='post')\n",
    "X_pos_gold_test  = pad_sequences(maxlen=max_len, sequences=X_pos_gold_test , value=pos2idx[\"PAD\"], padding='post', truncating='post')\n",
    "X_pos_yap_dev    = pad_sequences(maxlen=max_len, sequences=X_pos_yap_dev   , value=pos2idx[\"PAD\"], padding='post', truncating='post')\n",
    "X_pos_yap_test   = pad_sequences(maxlen=max_len, sequences=X_pos_yap_test  , value=pos2idx[\"PAD\"], padding='post', truncating='post')\n",
    "X_pos_gold_train[0]"
   ]
  },
  {
   "cell_type": "code",
   "execution_count": 28,
   "metadata": {},
   "outputs": [],
   "source": [
    "from keras.preprocessing.sequence import pad_sequences\n",
    "y_gold_train = [[tag2idx[w[2]] for w in s] for s in gold_train_sents]\n",
    "y_gold_dev   = [[tag2idx[w[2]] for w in s] for s in gold_dev_sents]\n",
    "y_gold_test  = [[tag2idx[w[2]] for w in s] for s in gold_test_sents]"
   ]
  },
  {
   "cell_type": "code",
   "execution_count": 29,
   "metadata": {},
   "outputs": [
    {
     "data": {
      "text/plain": [
       "array([23, 23, 23, 23, 23,  0,  0,  0,  0,  0,  0,  0,  0,  0,  0,  0,  0,\n",
       "        0,  0,  0,  0,  0,  0,  0,  0,  0,  0,  0,  0,  0,  0,  0,  0,  0,\n",
       "        0,  0,  0,  0,  0,  0,  0,  0,  0,  0,  0,  0,  0,  0,  0,  0,  0,\n",
       "        0,  0,  0,  0,  0,  0,  0,  0,  0,  0,  0,  0,  0,  0,  0,  0,  0,\n",
       "        0,  0,  0,  0,  0,  0,  0,  0,  0,  0,  0,  0], dtype=int32)"
      ]
     },
     "execution_count": 29,
     "metadata": {},
     "output_type": "execute_result"
    }
   ],
   "source": [
    "y_numer_gold_train = pad_sequences(maxlen=max_len, sequences=y_gold_train, value=pos2idx[\"PAD\"], padding='post', truncating='post')\n",
    "y_numer_gold_dev   = pad_sequences(maxlen=max_len, sequences=y_gold_dev  , value=pos2idx[\"PAD\"], padding='post', truncating='post')\n",
    "y_numer_gold_test  = pad_sequences(maxlen=max_len, sequences=y_gold_test , value=pos2idx[\"PAD\"], padding='post', truncating='post')\n",
    "y_numer_gold_train[0]"
   ]
  },
  {
   "cell_type": "code",
   "execution_count": 30,
   "metadata": {
    "ExecuteTime": {
     "end_time": "2019-03-13T07:20:48.330074Z",
     "start_time": "2019-03-13T07:20:48.226353Z"
    }
   },
   "outputs": [
    {
     "data": {
      "text/plain": [
       "(80, 37)"
      ]
     },
     "execution_count": 30,
     "metadata": {},
     "output_type": "execute_result"
    }
   ],
   "source": [
    "from keras.utils import to_categorical\n",
    "y_gold_train = [to_categorical(i, num_classes=n_tags+1) for i in y_numer_gold_train]\n",
    "y_gold_dev   = [to_categorical(i, num_classes=n_tags+1) for i in y_numer_gold_dev  ]\n",
    "y_gold_test  = [to_categorical(i, num_classes=n_tags+1) for i in y_numer_gold_test ]\n",
    "\n",
    "y_gold_train[0].shape"
   ]
  },
  {
   "cell_type": "code",
   "execution_count": 31,
   "metadata": {},
   "outputs": [
    {
     "data": {
      "text/plain": [
       "0.09196247930844216"
      ]
     },
     "execution_count": 31,
     "metadata": {},
     "output_type": "execute_result"
    }
   ],
   "source": [
    "validation_split = len(X_gold_dev) / (len(X_gold_train)+len(X_gold_dev))\n",
    "validation_split"
   ]
  },
  {
   "cell_type": "code",
   "execution_count": 32,
   "metadata": {},
   "outputs": [],
   "source": [
    "splits = [[X_gold_train, X_gold_dev,\n",
    "           y_gold_train, y_gold_dev,\n",
    "           X_pos_gold_train, X_pos_gold_dev ]]"
   ]
  },
  {
   "cell_type": "markdown",
   "metadata": {},
   "source": [
    "### Prep char input"
   ]
  },
  {
   "cell_type": "code",
   "execution_count": 33,
   "metadata": {
    "ExecuteTime": {
     "end_time": "2019-01-31T13:58:31.324599Z",
     "start_time": "2019-01-31T13:58:31.077207Z"
    }
   },
   "outputs": [
    {
     "data": {
      "text/plain": [
       "<matplotlib.axes._subplots.AxesSubplot at 0x7f3324660400>"
      ]
     },
     "execution_count": 33,
     "metadata": {},
     "output_type": "execute_result"
    },
    {
     "data": {
      "image/png": "[encoded data removed]",
      "text/plain": [
       "<Figure size 432x288 with 1 Axes>"
      ]
     },
     "metadata": {},
     "output_type": "display_data"
    }
   ],
   "source": [
    "tokens_ner_with_upos_feats.misc_token_str.apply(len).hist(bins=18)"
   ]
  },
  {
   "cell_type": "code",
   "execution_count": 34,
   "metadata": {
    "ExecuteTime": {
     "end_time": "2019-01-31T13:58:31.340217Z",
     "start_time": "2019-01-31T13:58:31.324599Z"
    }
   },
   "outputs": [],
   "source": [
    "max_len_char = 12"
   ]
  },
  {
   "cell_type": "code",
   "execution_count": 35,
   "metadata": {
    "ExecuteTime": {
     "end_time": "2019-01-31T13:58:32.660554Z",
     "start_time": "2019-01-31T13:58:32.613692Z"
    }
   },
   "outputs": [
    {
     "name": "stdout",
     "output_type": "stream",
     "text": [
      "50\n"
     ]
    }
   ],
   "source": [
    "chars = set([w_i for w in words for w_i in w])\n",
    "n_chars = len(chars)\n",
    "print(n_chars)"
   ]
  },
  {
   "cell_type": "code",
   "execution_count": 36,
   "metadata": {
    "ExecuteTime": {
     "end_time": "2019-01-31T13:58:33.732950Z",
     "start_time": "2019-01-31T13:58:33.717366Z"
    }
   },
   "outputs": [],
   "source": [
    "char2idx = {c: i + 2 for i, c in enumerate(chars)}\n",
    "char2idx[\"UNK\"] = 1\n",
    "char2idx[\"PAD\"] = 0"
   ]
  },
  {
   "cell_type": "code",
   "execution_count": 37,
   "metadata": {
    "ExecuteTime": {
     "end_time": "2019-01-31T13:58:36.324286Z",
     "start_time": "2019-01-31T13:58:34.303392Z"
    }
   },
   "outputs": [],
   "source": [
    "\n",
    "def get_X_char(sents):\n",
    "    X_char = []\n",
    "    for sentence in sents:\n",
    "        sent_seq = []\n",
    "        for i in range(max_len):\n",
    "            word_seq = []\n",
    "            for j in range(max_len_char):\n",
    "                try:\n",
    "                    word_seq.append(char2idx.get(sentence[i][0][j]))\n",
    "                except:\n",
    "                    word_seq.append(char2idx.get(\"PAD\"))\n",
    "            sent_seq.append(word_seq)\n",
    "        X_char.append(np.array(sent_seq))\n",
    "    return X_char"
   ]
  },
  {
   "cell_type": "code",
   "execution_count": 38,
   "metadata": {},
   "outputs": [],
   "source": [
    "X_char_gold_dev   = get_X_char(gold_dev_sents  )\n",
    "X_char_gold_train = get_X_char(gold_train_sents)\n",
    "X_char_gold_test  = get_X_char(gold_test_sents )\n",
    "X_char_yap_dev    = get_X_char(yap_dev_tok_sents   )\n",
    "X_char_yap_test   = get_X_char(yap_test_tok_sents  )\n",
    "\n",
    "\n",
    "\n",
    "splits_char = [[X_char_gold_train, X_char_gold_dev,\n",
    "                y_gold_train, y_gold_dev]]"
   ]
  },
  {
   "cell_type": "markdown",
   "metadata": {},
   "source": [
    "## Embeddings"
   ]
  },
  {
   "cell_type": "code",
   "execution_count": 39,
   "metadata": {},
   "outputs": [
    {
     "data": {
      "text/plain": [
       "{'yap_w2v_sg': '../wordembedding-hebrew/vectors_orig_tok/wikipedia.yap_form.word2vec_skipgram.txt',\n",
       " 'yap_w2v_cbow': '../wordembedding-hebrew/vectors_orig_tok/wikipedia.yap_form.word2vec_cbow.txt',\n",
       " 'yap_glove': '../wordembedding-hebrew/vectors_orig_tok/wikipedia.yap_form.glove.txt',\n",
       " 'yap_ft_sg': '../wordembedding-hebrew/vectors_orig_tok/wikipedia.yap_form.fasttext_skipgram.model.vec',\n",
       " 'yap_ft_cbow': '../wordembedding-hebrew/vectors_orig_tok/wikipedia.yap_form.fasttext_cbow.model.vec',\n",
       " 'token_w2v_sg': '../wordembedding-hebrew/vectors_orig_tok/wikipedia.tokenized.word2vec_skipgram.txt',\n",
       " 'token_w2v_cbow': '../wordembedding-hebrew/vectors_orig_tok/wikipedia.tokenized.word2vec_cbow.txt',\n",
       " 'token_glove': '../wordembedding-hebrew/vectors_orig_tok/wikipedia.tokenized.glove.txt',\n",
       " 'token_ft_sg': '../wordembedding-hebrew/vectors_orig_tok/wikipedia.tokenized.fasttext_skipgram.model.vec',\n",
       " 'token_ft_cbow': '../wordembedding-hebrew/vectors_orig_tok/wikipedia.tokenized.fasttext_cbow.model.vec',\n",
       " 'pretrained_token_ft': '../fasttext/wiki.he.vec',\n",
       " 'pretrained_token_ft_cc': '../fasttext/cc.he.300.vec',\n",
       " 'alt_tok_yap_w2v_sg': '../wordembedding-hebrew/vectors_alt_tok/wikipedia.alt_tok.yap_form.word2vec_skipgram.txt',\n",
       " 'alt_tok_yap_w2v_cbow': '../wordembedding-hebrew/vectors_alt_tok/wikipedia.alt_tok.yap_form.word2vec_cbow.txt',\n",
       " 'alt_tok_yap_glove': '../wordembedding-hebrew/vectors_alt_tok/wikipedia.alt_tok.yap_form.glove.txt',\n",
       " 'alt_tok_yap_ft_sg': '../wordembedding-hebrew/vectors_alt_tok/wikipedia.alt_tok.yap_form.fasttext_skipgram.model.vec',\n",
       " 'alt_tok_yap_ft_cbow': '../wordembedding-hebrew/vectors_alt_tok/wikipedia.alt_tok.yap_form.fasttext_cbow.model.vec',\n",
       " 'alt_tok_token_w2v_sg': '../wordembedding-hebrew/vectors_alt_tok/wikipedia.alt_tok.tokenized.word2vec_skipgram.txt',\n",
       " 'alt_tok_token_w2v_cbow': '../wordembedding-hebrew/vectors_alt_tok/wikipedia.alt_tok.tokenized.word2vec_cbow.txt',\n",
       " 'alt_tok_token_glove': '../wordembedding-hebrew/vectors_alt_tok/wikipedia.alt_tok.tokenized.glove.txt',\n",
       " 'alt_tok_token_ft_sg': '../wordembedding-hebrew/vectors_alt_tok/wikipedia.alt_tok.tokenized.fasttext_skipgram.model.vec',\n",
       " 'alt_tok_token_ft_cbow': '../wordembedding-hebrew/vectors_alt_tok/wikipedia.alt_tok.tokenized.fasttext_cbow.model.vec',\n",
       " 'alt_tok_tuned_yap_ft_sg': '../wordembedding-hebrew/vectors_alt_tok/wikipedia.alt_tok.yap_form.fasttext_skipgram.tuned.model.vec',\n",
       " 'alt_tok_tuned_yap_ft_cbow': '../wordembedding-hebrew/vectors_alt_tok/wikipedia.alt_tok.yap_form.fasttext_cbow.tuned.model.vec',\n",
       " 'alt_tok_tuned_yap_w2v_sg': '../wordembedding-hebrew/vectors_alt_tok/wikipedia.alt_tok.yap_form.word2vec_skipgram.tuned.txt',\n",
       " 'alt_tok_tuned_yap_w2v_cbow': '../wordembedding-hebrew/vectors_alt_tok/wikipedia.alt_tok.yap_form.word2vec_cbow.tuned.txt',\n",
       " 'alt_tok_tuned_yap_glove': '../wordembedding-hebrew/vectors_alt_tok/wikipedia.alt_tok.yap_form.glove.tuned.txt'}"
      ]
     },
     "execution_count": 39,
     "metadata": {},
     "output_type": "execute_result"
    }
   ],
   "source": [
    "embedding_paths"
   ]
  },
  {
   "cell_type": "code",
   "execution_count": 44,
   "metadata": {},
   "outputs": [],
   "source": [
    "exclude = ['tuned', 'cbow', 'yap']\n",
    "include = 'NONE'"
   ]
  },
  {
   "cell_type": "code",
   "execution_count": 45,
   "metadata": {},
   "outputs": [],
   "source": [
    "embedding_mats = {}\n",
    "for emb_name, emb_path in embedding_paths.items():\n",
    "    skip=False\n",
    "    if include not in emb_name:\n",
    "        continue\n",
    "        \n",
    "    for exc in exclude:\n",
    "        if exc in emb_path:\n",
    "            skip=True\n",
    "    if skip:\n",
    "        continue\n",
    "    embedding_mats[emb_name] = get_embedding_matrix(emb_path, word2idx)"
   ]
  },
  {
   "cell_type": "markdown",
   "metadata": {},
   "source": [
    "## Model building"
   ]
  },
  {
   "cell_type": "code",
   "execution_count": 46,
   "metadata": {},
   "outputs": [],
   "source": [
    "from ner_utils import *"
   ]
  },
  {
   "cell_type": "code",
   "execution_count": 47,
   "metadata": {},
   "outputs": [
    {
     "data": {
      "text/plain": [
       "[{'optimizer': 'adam',\n",
       "  'output_dropout': True,\n",
       "  'add_random_embedding': True,\n",
       "  'use_char': True,\n",
       "  'crf': True,\n",
       "  'use_pos': False,\n",
       "  'trainable': True,\n",
       "  'stack_lstm': 2},\n",
       " {'optimizer': 'adam',\n",
       "  'output_dropout': True,\n",
       "  'add_random_embedding': True,\n",
       "  'use_char': True,\n",
       "  'crf': True,\n",
       "  'use_pos': True,\n",
       "  'trainable': True,\n",
       "  'stack_lstm': 2}]"
      ]
     },
     "execution_count": 47,
     "metadata": {},
     "output_type": "execute_result"
    }
   ],
   "source": [
    "configs = build_configs(base_configs_stack_no_emb, embedding_mats)\n",
    "configs     "
   ]
  },
  {
   "cell_type": "code",
   "execution_count": 48,
   "metadata": {},
   "outputs": [],
   "source": [
    "for conf in configs:\n",
    "    conf['patience'] = 10"
   ]
  },
  {
   "cell_type": "code",
   "execution_count": 49,
   "metadata": {},
   "outputs": [],
   "source": [
    "out_folder = 'results/new_outputs_stack'\n",
    "if not os.path.exists(out_folder):\n",
    "    os.mkdir(out_folder)"
   ]
  },
  {
   "cell_type": "code",
   "execution_count": 50,
   "metadata": {},
   "outputs": [],
   "source": [
    "extra_preds = [(X_gold_test, X_pos_gold_test, X_char_gold_test), \n",
    "               (X_yap_dev, X_pos_yap_dev, X_char_yap_dev),\n",
    "               (X_yap_test, X_pos_yap_test, X_char_yap_test)]"
   ]
  },
  {
   "cell_type": "code",
   "execution_count": 51,
   "metadata": {},
   "outputs": [],
   "source": [
    "from ner_utils import *"
   ]
  },
  {
   "cell_type": "code",
   "execution_count": 52,
   "metadata": {
    "ExecuteTime": {
     "end_time": "2019-03-13T11:31:02.793857Z",
     "start_time": "2019-03-13T11:16:17.267695Z"
    },
    "scrolled": true
   },
   "outputs": [
    {
     "name": "stdout",
     "output_type": "stream",
     "text": [
      "__________________________________________________________________________________________________\n",
      "Layer (type)                    Output Shape         Param #     Connected to                     \n",
      "==================================================================================================\n",
      "input_2 (InputLayer)            (None, 80, 12)       0                                            \n",
      "__________________________________________________________________________________________________\n",
      "input_1 (InputLayer)            (None, 80)           0                                            \n",
      "__________________________________________________________________________________________________\n",
      "time_distributed_1 (TimeDistrib (None, 80, 12, 20)   1040        input_2[0][0]                    \n",
      "__________________________________________________________________________________________________\n",
      "embedding_1 (Embedding)         (None, 80, 70)       2010120     input_1[0][0]                    \n",
      "__________________________________________________________________________________________________\n",
      "time_distributed_2 (TimeDistrib (None, 80, 20)       2480        time_distributed_1[0][0]         \n",
      "__________________________________________________________________________________________________\n",
      "concatenate_1 (Concatenate)     (None, 80, 90)       0           embedding_1[0][0]                \n",
      "                                                                 time_distributed_2[0][0]         \n",
      "__________________________________________________________________________________________________\n",
      "spatial_dropout1d_1 (SpatialDro (None, 80, 90)       0           concatenate_1[0][0]              \n",
      "__________________________________________________________________________________________________\n",
      "bidirectional_2 (Bidirectional) (None, 80, 200)      152800      spatial_dropout1d_1[0][0]        \n",
      "__________________________________________________________________________________________________\n",
      "bidirectional_3 (Bidirectional) (None, 80, 200)      240800      bidirectional_2[0][0]            \n",
      "__________________________________________________________________________________________________\n",
      "dropout_1 (Dropout)             (None, 80, 200)      0           bidirectional_3[0][0]            \n",
      "__________________________________________________________________________________________________\n",
      "time_distributed_3 (TimeDistrib (None, 80, 50)       10050       dropout_1[0][0]                  \n",
      "__________________________________________________________________________________________________\n",
      "crf_1 (CRF)                     (None, 80, 37)       3330        time_distributed_3[0][0]         \n",
      "==================================================================================================\n",
      "Total params: 2,420,620\n",
      "Trainable params: 2,420,620\n",
      "Non-trainable params: 0\n",
      "__________________________________________________________________________________________________\n",
      "None\n",
      "Train on 4482 samples, validate on 455 samples\n",
      "Epoch 1/100\n",
      " - 92s - loss: 0.4640 - crf_accuracy: 0.9144 - val_loss: 0.1842 - val_crf_accuracy: 0.9674\n",
      "Epoch 2/100\n",
      " - 82s - loss: 0.1397 - crf_accuracy: 0.9744 - val_loss: 0.1673 - val_crf_accuracy: 0.9683\n",
      "Epoch 3/100\n",
      " - 81s - loss: 0.1203 - crf_accuracy: 0.9754 - val_loss: 0.1553 - val_crf_accuracy: 0.9683\n",
      "Epoch 4/100\n",
      " - 82s - loss: 0.0966 - crf_accuracy: 0.9767 - val_loss: 0.1382 - val_crf_accuracy: 0.9699\n",
      "Epoch 5/100\n",
      " - 82s - loss: 0.0708 - crf_accuracy: 0.9798 - val_loss: 0.1335 - val_crf_accuracy: 0.9699\n",
      "Epoch 6/100\n",
      " - 82s - loss: 0.0539 - crf_accuracy: 0.9834 - val_loss: 0.1724 - val_crf_accuracy: 0.9705\n",
      "Epoch 7/100\n",
      " - 81s - loss: 0.0446 - crf_accuracy: 0.9854 - val_loss: 0.1375 - val_crf_accuracy: 0.9689\n",
      "Epoch 8/100\n",
      " - 83s - loss: 0.0382 - crf_accuracy: 0.9874 - val_loss: 0.1427 - val_crf_accuracy: 0.9699\n",
      "Epoch 9/100\n",
      " - 81s - loss: 0.0321 - crf_accuracy: 0.9889 - val_loss: 0.1509 - val_crf_accuracy: 0.9725\n",
      "Epoch 10/100\n",
      " - 82s - loss: 0.0264 - crf_accuracy: 0.9907 - val_loss: 0.1509 - val_crf_accuracy: 0.9731\n",
      "Epoch 11/100\n",
      " - 81s - loss: 0.0205 - crf_accuracy: 0.9924 - val_loss: 0.1514 - val_crf_accuracy: 0.9735\n",
      "Epoch 12/100\n",
      " - 82s - loss: 0.0156 - crf_accuracy: 0.9938 - val_loss: 0.1634 - val_crf_accuracy: 0.9736\n",
      "Epoch 13/100\n",
      " - 82s - loss: 0.0120 - crf_accuracy: 0.9948 - val_loss: 0.1632 - val_crf_accuracy: 0.9737\n",
      "Epoch 14/100\n",
      " - 82s - loss: 0.0090 - crf_accuracy: 0.9954 - val_loss: 0.1647 - val_crf_accuracy: 0.9754\n",
      "Epoch 15/100\n",
      " - 82s - loss: 0.0059 - crf_accuracy: 0.9961 - val_loss: 0.1606 - val_crf_accuracy: 0.9753\n",
      "Epoch 16/100\n",
      " - 82s - loss: 0.0032 - crf_accuracy: 0.9969 - val_loss: 0.1702 - val_crf_accuracy: 0.9754\n",
      "Epoch 17/100\n",
      " - 82s - loss: 7.2661e-04 - crf_accuracy: 0.9973 - val_loss: 0.1787 - val_crf_accuracy: 0.9754\n",
      "Epoch 18/100\n",
      " - 82s - loss: -1.2026e-03 - crf_accuracy: 0.9978 - val_loss: 0.1757 - val_crf_accuracy: 0.9748\n",
      "Epoch 19/100\n",
      " - 82s - loss: -2.6926e-03 - crf_accuracy: 0.9981 - val_loss: 0.1833 - val_crf_accuracy: 0.9761\n",
      "Epoch 20/100\n",
      " - 83s - loss: -4.2715e-03 - crf_accuracy: 0.9983 - val_loss: 0.1844 - val_crf_accuracy: 0.9761\n",
      "Epoch 21/100\n",
      " - 81s - loss: -6.3715e-03 - crf_accuracy: 0.9987 - val_loss: 0.1823 - val_crf_accuracy: 0.9761\n",
      "Epoch 22/100\n",
      " - 81s - loss: -7.9492e-03 - crf_accuracy: 0.9988 - val_loss: 0.1812 - val_crf_accuracy: 0.9762\n",
      "Epoch 23/100\n",
      " - 82s - loss: -9.1849e-03 - crf_accuracy: 0.9989 - val_loss: 0.1951 - val_crf_accuracy: 0.9764\n",
      "Epoch 24/100\n",
      " - 82s - loss: -1.0980e-02 - crf_accuracy: 0.9991 - val_loss: 0.1872 - val_crf_accuracy: 0.9759\n",
      "Epoch 25/100\n",
      " - 82s - loss: -1.1965e-02 - crf_accuracy: 0.9990 - val_loss: 0.1863 - val_crf_accuracy: 0.9763\n",
      "Epoch 26/100\n",
      " - 82s - loss: -1.3822e-02 - crf_accuracy: 0.9992 - val_loss: 0.1746 - val_crf_accuracy: 0.9754\n",
      "Epoch 27/100\n",
      " - 81s - loss: -1.4756e-02 - crf_accuracy: 0.9992 - val_loss: 0.1888 - val_crf_accuracy: 0.9772\n",
      "Epoch 28/100\n",
      " - 82s - loss: -1.6730e-02 - crf_accuracy: 0.9994 - val_loss: 0.1907 - val_crf_accuracy: 0.9759\n",
      "Epoch 29/100\n",
      " - 81s - loss: -1.8158e-02 - crf_accuracy: 0.9993 - val_loss: 0.1871 - val_crf_accuracy: 0.9766\n",
      "Epoch 30/100\n",
      " - 81s - loss: -2.0003e-02 - crf_accuracy: 0.9996 - val_loss: 0.1779 - val_crf_accuracy: 0.9762\n",
      "Epoch 31/100\n",
      " - 82s - loss: -2.1579e-02 - crf_accuracy: 0.9997 - val_loss: 0.1938 - val_crf_accuracy: 0.9766\n",
      "Epoch 32/100\n",
      " - 82s - loss: -2.3419e-02 - crf_accuracy: 0.9998 - val_loss: 0.2086 - val_crf_accuracy: 0.9772\n",
      "Epoch 33/100\n",
      " - 80s - loss: -4.4881e-03 - crf_accuracy: 0.9957 - val_loss: 0.1503 - val_crf_accuracy: 0.9770\n",
      "Epoch 34/100\n",
      " - 81s - loss: -2.3345e-02 - crf_accuracy: 0.9987 - val_loss: 0.1596 - val_crf_accuracy: 0.9774\n",
      "Epoch 35/100\n",
      " - 81s - loss: -2.6043e-02 - crf_accuracy: 0.9994 - val_loss: 0.1580 - val_crf_accuracy: 0.9774\n",
      "Epoch 36/100\n",
      " - 81s - loss: -2.7807e-02 - crf_accuracy: 0.9996 - val_loss: 0.1670 - val_crf_accuracy: 0.9779\n",
      "Epoch 37/100\n",
      " - 81s - loss: -2.9283e-02 - crf_accuracy: 0.9997 - val_loss: 0.1739 - val_crf_accuracy: 0.9776\n",
      "Epoch 38/100\n",
      " - 82s - loss: -3.0542e-02 - crf_accuracy: 0.9997 - val_loss: 0.1671 - val_crf_accuracy: 0.9778\n",
      "Epoch 39/100\n",
      " - 81s - loss: -3.1974e-02 - crf_accuracy: 0.9997 - val_loss: 0.1763 - val_crf_accuracy: 0.9776\n",
      "Epoch 40/100\n",
      " - 81s - loss: -3.3451e-02 - crf_accuracy: 0.9998 - val_loss: 0.1642 - val_crf_accuracy: 0.9769\n",
      "Epoch 41/100\n",
      " - 82s - loss: -3.4842e-02 - crf_accuracy: 0.9997 - val_loss: 0.1705 - val_crf_accuracy: 0.9776\n",
      "Epoch 42/100\n",
      " - 82s - loss: -3.6302e-02 - crf_accuracy: 0.9998 - val_loss: 0.1706 - val_crf_accuracy: 0.9776\n",
      "Epoch 43/100\n",
      " - 82s - loss: -3.7880e-02 - crf_accuracy: 0.9998 - val_loss: 0.1717 - val_crf_accuracy: 0.9776\n",
      "Epoch 44/100\n",
      " - 84s - loss: -3.9412e-02 - crf_accuracy: 0.9998 - val_loss: 0.1702 - val_crf_accuracy: 0.9781\n",
      "Epoch 45/100\n",
      " - 86s - loss: -4.1002e-02 - crf_accuracy: 0.9999 - val_loss: 0.1738 - val_crf_accuracy: 0.9780\n",
      "Epoch 46/100\n",
      " - 88s - loss: -4.2505e-02 - crf_accuracy: 0.9998 - val_loss: 0.1646 - val_crf_accuracy: 0.9777\n",
      "Epoch 47/100\n",
      " - 87s - loss: -4.4129e-02 - crf_accuracy: 0.9999 - val_loss: 0.1613 - val_crf_accuracy: 0.9763\n",
      "Epoch 48/100\n",
      " - 86s - loss: -4.4287e-02 - crf_accuracy: 0.9994 - val_loss: 0.1510 - val_crf_accuracy: 0.9770\n",
      "Epoch 49/100\n",
      " - 86s - loss: -4.7124e-02 - crf_accuracy: 0.9998 - val_loss: 0.1447 - val_crf_accuracy: 0.9772\n",
      "Epoch 50/100\n",
      " - 85s - loss: -4.8942e-02 - crf_accuracy: 0.9999 - val_loss: 0.1571 - val_crf_accuracy: 0.9776\n",
      "Epoch 51/100\n",
      " - 86s - loss: -5.0604e-02 - crf_accuracy: 0.9999 - val_loss: 0.1531 - val_crf_accuracy: 0.9774\n",
      "Epoch 52/100\n",
      " - 85s - loss: -5.2398e-02 - crf_accuracy: 0.9999 - val_loss: 0.1544 - val_crf_accuracy: 0.9779\n",
      "Epoch 53/100\n",
      " - 86s - loss: -5.3996e-02 - crf_accuracy: 0.9999 - val_loss: 0.1522 - val_crf_accuracy: 0.9778\n",
      "Epoch 54/100\n",
      " - 85s - loss: -5.5699e-02 - crf_accuracy: 0.9999 - val_loss: 0.1592 - val_crf_accuracy: 0.9776\n",
      "Restoring model weights from the end of the best epoch\n",
      "Epoch 00054: early stopping\n"
     ]
    },
    {
     "data": {
      "image/png": "[encoded data removed]",
      "text/plain": [
       "<Figure size 432x288 with 1 Axes>"
      ]
     },
     "metadata": {},
     "output_type": "display_data"
    },
    {
     "name": "stdout",
     "output_type": "stream",
     "text": [
      "processed 8531 tokens with 499 phrases; found: 347 phrases; correct: 175.\n",
      "accuracy:  34.22%; (non-O)\n",
      "accuracy:  92.52%; precision:  50.43%; recall:  35.07%; FB1:  41.37\n",
      "              ANG: precision:   0.00%; recall:   0.00%; FB1:   0.00  1\n",
      "              DUC: precision:   0.00%; recall:   0.00%; FB1:   0.00  2\n",
      "              EVE: precision:   0.00%; recall:   0.00%; FB1:   0.00  1\n",
      "              FAC: precision:   0.00%; recall:   0.00%; FB1:   0.00  4\n",
      "              GPE: precision:  65.88%; recall:  46.28%; FB1:  54.37  85\n",
      "              LOC: precision:  33.33%; recall:  21.43%; FB1:  26.09  18\n",
      "              ORG: precision:  38.24%; recall:  32.77%; FB1:  35.29  102\n",
      "              PER: precision:  60.17%; recall:  36.79%; FB1:  45.66  118\n",
      "              WOA: precision:  18.75%; recall:  33.33%; FB1:  24.00  16\n",
      "__________________________________________________________________________________________________\n",
      "Layer (type)                    Output Shape         Param #     Connected to                     \n",
      "==================================================================================================\n",
      "input_5 (InputLayer)            (None, 80, 12)       0                                            \n",
      "__________________________________________________________________________________________________\n",
      "input_3 (InputLayer)            (None, 80)           0                                            \n",
      "__________________________________________________________________________________________________\n",
      "input_4 (InputLayer)            (None, 80)           0                                            \n",
      "__________________________________________________________________________________________________\n",
      "time_distributed_4 (TimeDistrib (None, 80, 12, 20)   1040        input_5[0][0]                    \n",
      "__________________________________________________________________________________________________\n",
      "embedding_3 (Embedding)         (None, 80, 70)       2010120     input_3[0][0]                    \n",
      "__________________________________________________________________________________________________\n",
      "embedding_4 (Embedding)         (None, 80, 10)       3530        input_4[0][0]                    \n",
      "__________________________________________________________________________________________________\n",
      "time_distributed_5 (TimeDistrib (None, 80, 20)       2480        time_distributed_4[0][0]         \n",
      "__________________________________________________________________________________________________\n",
      "concatenate_2 (Concatenate)     (None, 80, 100)      0           embedding_3[0][0]                \n",
      "                                                                 embedding_4[0][0]                \n",
      "                                                                 time_distributed_5[0][0]         \n",
      "__________________________________________________________________________________________________\n",
      "spatial_dropout1d_2 (SpatialDro (None, 80, 100)      0           concatenate_2[0][0]              \n",
      "__________________________________________________________________________________________________\n",
      "bidirectional_5 (Bidirectional) (None, 80, 200)      160800      spatial_dropout1d_2[0][0]        \n",
      "__________________________________________________________________________________________________\n",
      "bidirectional_6 (Bidirectional) (None, 80, 200)      240800      bidirectional_5[0][0]            \n",
      "__________________________________________________________________________________________________\n",
      "dropout_2 (Dropout)             (None, 80, 200)      0           bidirectional_6[0][0]            \n",
      "__________________________________________________________________________________________________\n",
      "time_distributed_6 (TimeDistrib (None, 80, 50)       10050       dropout_2[0][0]                  \n",
      "__________________________________________________________________________________________________\n",
      "crf_2 (CRF)                     (None, 80, 37)       3330        time_distributed_6[0][0]         \n",
      "==================================================================================================\n",
      "Total params: 2,432,150\n",
      "Trainable params: 2,432,150\n",
      "Non-trainable params: 0\n",
      "__________________________________________________________________________________________________\n",
      "None\n",
      "Train on 4482 samples, validate on 455 samples\n",
      "Epoch 1/100\n",
      " - 90s - loss: 0.4694 - crf_accuracy: 0.9040 - val_loss: 0.1795 - val_crf_accuracy: 0.9675\n",
      "Epoch 2/100\n",
      " - 87s - loss: 0.1361 - crf_accuracy: 0.9742 - val_loss: 0.1599 - val_crf_accuracy: 0.9682\n",
      "Epoch 3/100\n",
      " - 86s - loss: 0.1121 - crf_accuracy: 0.9754 - val_loss: 0.1306 - val_crf_accuracy: 0.9684\n",
      "Epoch 4/100\n",
      " - 86s - loss: 0.0761 - crf_accuracy: 0.9797 - val_loss: 0.0955 - val_crf_accuracy: 0.9762\n",
      "Epoch 5/100\n",
      " - 86s - loss: 0.0538 - crf_accuracy: 0.9844 - val_loss: 0.0866 - val_crf_accuracy: 0.9767\n",
      "Epoch 6/100\n",
      " - 87s - loss: 0.0421 - crf_accuracy: 0.9867 - val_loss: 0.0859 - val_crf_accuracy: 0.9779\n",
      "Epoch 7/100\n",
      " - 85s - loss: 0.0341 - crf_accuracy: 0.9887 - val_loss: 0.0855 - val_crf_accuracy: 0.9784\n",
      "Epoch 8/100\n",
      " - 88s - loss: 0.0286 - crf_accuracy: 0.9902 - val_loss: 0.0858 - val_crf_accuracy: 0.9783\n",
      "Epoch 9/100\n",
      " - 86s - loss: 0.0231 - crf_accuracy: 0.9915 - val_loss: 0.0929 - val_crf_accuracy: 0.9791\n",
      "Epoch 10/100\n",
      " - 86s - loss: 0.0185 - crf_accuracy: 0.9928 - val_loss: 0.0909 - val_crf_accuracy: 0.9794\n",
      "Epoch 11/100\n",
      " - 85s - loss: 0.0146 - crf_accuracy: 0.9936 - val_loss: 0.0940 - val_crf_accuracy: 0.9782\n",
      "Epoch 12/100\n",
      " - 85s - loss: 0.0108 - crf_accuracy: 0.9944 - val_loss: 0.0976 - val_crf_accuracy: 0.9790\n",
      "Epoch 13/100\n",
      " - 85s - loss: 0.0077 - crf_accuracy: 0.9953 - val_loss: 0.1047 - val_crf_accuracy: 0.9786\n",
      "Epoch 14/100\n",
      " - 85s - loss: 0.0048 - crf_accuracy: 0.9960 - val_loss: 0.1058 - val_crf_accuracy: 0.9793\n",
      "Epoch 15/100\n",
      " - 87s - loss: 0.0021 - crf_accuracy: 0.9969 - val_loss: 0.1120 - val_crf_accuracy: 0.9794\n",
      "Epoch 16/100\n",
      " - 86s - loss: -3.8037e-04 - crf_accuracy: 0.9974 - val_loss: 0.1139 - val_crf_accuracy: 0.9790\n",
      "Epoch 17/100\n",
      " - 87s - loss: -2.8210e-03 - crf_accuracy: 0.9979 - val_loss: 0.1133 - val_crf_accuracy: 0.9793\n",
      "Epoch 18/100\n",
      " - 86s - loss: -4.6799e-03 - crf_accuracy: 0.9983 - val_loss: 0.1286 - val_crf_accuracy: 0.9787\n",
      "Epoch 19/100\n",
      " - 87s - loss: -6.2263e-03 - crf_accuracy: 0.9985 - val_loss: 0.1131 - val_crf_accuracy: 0.9795\n",
      "Epoch 20/100\n",
      " - 86s - loss: -7.7223e-03 - crf_accuracy: 0.9987 - val_loss: 0.1194 - val_crf_accuracy: 0.9795\n",
      "Restoring model weights from the end of the best epoch\n",
      "Epoch 00020: early stopping\n"
     ]
    },
    {
     "data": {
      "image/png": "[encoded data removed]",
      "text/plain": [
       "<Figure size 432x288 with 1 Axes>"
      ]
     },
     "metadata": {},
     "output_type": "display_data"
    },
    {
     "name": "stdout",
     "output_type": "stream",
     "text": [
      "processed 8531 tokens with 499 phrases; found: 494 phrases; correct: 213.\n",
      "accuracy:  40.12%; (non-O)\n",
      "accuracy:  93.52%; precision:  43.12%; recall:  42.69%; FB1:  42.90\n",
      "              ANG: precision:   0.00%; recall:   0.00%; FB1:   0.00  0\n",
      "              DUC: precision:   0.00%; recall:   0.00%; FB1:   0.00  0\n",
      "              EVE: precision:   0.00%; recall:   0.00%; FB1:   0.00  0\n",
      "              FAC: precision:   0.00%; recall:   0.00%; FB1:   0.00  0\n",
      "              GPE: precision:  51.52%; recall:  56.20%; FB1:  53.75  132\n",
      "              LOC: precision:   0.00%; recall:   0.00%; FB1:   0.00  0\n",
      "              ORG: precision:  21.03%; recall:  41.18%; FB1:  27.84  233\n",
      "              PER: precision:  74.42%; recall:  49.74%; FB1:  59.63  129\n",
      "              WOA: precision:   0.00%; recall:   0.00%; FB1:   0.00  0\n"
     ]
    }
   ],
   "source": [
    "configs, results, preds, histories = run_models(configs, splits, splits_char, embedding_mats, \n",
    "                                                words, max_len, n_words, idx2word, idx2tag,\n",
    "                                                n_tags, max_len_char, n_pos, n_chars,\n",
    "                                                run_name='treebank_tokens_stack_no_emb1', out_folder=out_folder,\n",
    "                                                skip_if_model_exists=True,\n",
    "                                                validation_split=validation_split,\n",
    "                                                extra_predictions=extra_preds,\n",
    "                                                )"
   ]
  },
  {
   "cell_type": "code",
   "execution_count": 53,
   "metadata": {},
   "outputs": [],
   "source": [
    "from keras import backend as K\n",
    "K.clear_session()"
   ]
  },
  {
   "cell_type": "code",
   "execution_count": null,
   "metadata": {},
   "outputs": [],
   "source": []
  },
  {
   "cell_type": "code",
   "execution_count": null,
   "metadata": {},
   "outputs": [],
   "source": []
  },
  {
   "cell_type": "code",
   "execution_count": null,
   "metadata": {},
   "outputs": [],
   "source": []
  },
  {
   "cell_type": "code",
   "execution_count": null,
   "metadata": {},
   "outputs": [],
   "source": []
  },
  {
   "cell_type": "code",
   "execution_count": null,
   "metadata": {},
   "outputs": [],
   "source": []
  },
  {
   "cell_type": "code",
   "execution_count": null,
   "metadata": {},
   "outputs": [],
   "source": []
  },
  {
   "cell_type": "code",
   "execution_count": null,
   "metadata": {},
   "outputs": [],
   "source": []
  },
  {
   "cell_type": "code",
   "execution_count": null,
   "metadata": {},
   "outputs": [],
   "source": []
  }
 ],
 "metadata": {
  "kernelspec": {
   "display_name": "Python 3",
   "language": "python",
   "name": "python3"
  },
  "language_info": {
   "codemirror_mode": {
    "name": "ipython",
    "version": 3
   },
   "file_extension": ".py",
   "mimetype": "text/x-python",
   "name": "python",
   "nbconvert_exporter": "python",
   "pygments_lexer": "ipython3",
   "version": "3.6.8"
  }
 },
 "nbformat": 4,
 "nbformat_minor": 4
}
