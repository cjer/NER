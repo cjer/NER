{
 "cells": [
  {
   "cell_type": "markdown",
   "metadata": {},
   "source": [
    "## Prepare corpus"
   ]
  },
  {
   "cell_type": "code",
   "execution_count": 1,
   "metadata": {},
   "outputs": [],
   "source": [
    "import os\n",
    "os.environ[\"CUDA_DEVICE_ORDER\"]=\"PCI_BUS_ID\";\n",
    " \n",
    "# The GPU id to use, usually either \"0\" or \"1\";\n",
    "os.environ[\"CUDA_VISIBLE_DEVICES\"]=\"2\";  "
   ]
  },
  {
   "cell_type": "code",
   "execution_count": 2,
   "metadata": {},
   "outputs": [],
   "source": [
    "%load_ext autoreload\n",
    "%autoreload 2"
   ]
  },
  {
   "cell_type": "code",
   "execution_count": 3,
   "metadata": {
    "ExecuteTime": {
     "end_time": "2019-03-13T07:20:24.034028Z",
     "start_time": "2019-03-13T07:20:22.687626Z"
    }
   },
   "outputs": [],
   "source": [
    "%matplotlib inline"
   ]
  },
  {
   "cell_type": "code",
   "execution_count": 4,
   "metadata": {
    "ExecuteTime": {
     "end_time": "2019-03-13T07:20:24.382406Z",
     "start_time": "2019-03-13T07:20:24.037019Z"
    }
   },
   "outputs": [],
   "source": [
    "import pandas as pd\n",
    "import numpy as np"
   ]
  },
  {
   "cell_type": "code",
   "execution_count": 5,
   "metadata": {
    "ExecuteTime": {
     "end_time": "2019-03-13T07:20:27.996727Z",
     "start_time": "2019-03-13T07:20:24.385088Z"
    }
   },
   "outputs": [],
   "source": [
    "import matplotlib.pyplot as plt\n",
    "import seaborn as sns\n",
    "sns.set_context('paper')\n",
    "sns.set_style('white')"
   ]
  },
  {
   "cell_type": "code",
   "execution_count": 6,
   "metadata": {
    "ExecuteTime": {
     "end_time": "2019-03-13T07:20:28.016424Z",
     "start_time": "2019-03-13T07:20:27.999427Z"
    }
   },
   "outputs": [],
   "source": [
    "from conlleval import evaluate"
   ]
  },
  {
   "cell_type": "code",
   "execution_count": 7,
   "metadata": {},
   "outputs": [
    {
     "name": "stderr",
     "output_type": "stream",
     "text": [
      "Using TensorFlow backend.\n"
     ]
    }
   ],
   "source": [
    "from ner_utils import *"
   ]
  },
  {
   "cell_type": "code",
   "execution_count": 8,
   "metadata": {},
   "outputs": [],
   "source": [
    "initialize_random_seeds()"
   ]
  },
  {
   "cell_type": "markdown",
   "metadata": {},
   "source": [
    "# Data Prep"
   ]
  },
  {
   "cell_type": "markdown",
   "metadata": {},
   "source": [
    "## Word Data"
   ]
  },
  {
   "cell_type": "code",
   "execution_count": 9,
   "metadata": {
    "ExecuteTime": {
     "end_time": "2019-03-27T16:54:21.035101Z",
     "start_time": "2019-03-27T16:54:20.878852Z"
    }
   },
   "outputs": [],
   "source": [
    "x = pd.read_csv('joint_corpus_with_pos.csv')"
   ]
  },
  {
   "cell_type": "markdown",
   "metadata": {},
   "source": [
    "### Words"
   ]
  },
  {
   "cell_type": "code",
   "execution_count": 10,
   "metadata": {
    "ExecuteTime": {
     "end_time": "2019-03-27T16:54:21.175527Z",
     "start_time": "2019-03-27T16:54:21.035101Z"
    }
   },
   "outputs": [
    {
     "data": {
      "text/plain": [
       "sent\n",
       "1    [[נראה, VB, O], [שאביטל, REL|NNP, I_PERS], [אב...\n",
       "2    [[תורג'מן, NNP, I_PERS], [,, yyCM, O], [שכבר, ...\n",
       "3    [[הפגישה, VB, O], [המרגשת, DEF|JJ, O], [בין, I...\n",
       "4    [[בשלב, PREPOSITION|DEF|NN, O], [מאוחר, RB, O]...\n",
       "5    [[אברג'יל, NNP, I_PERS], [,, yyCM, O], [נבוכה,...\n",
       "dtype: object"
      ]
     },
     "execution_count": 10,
     "metadata": {},
     "output_type": "execute_result"
    }
   ],
   "source": [
    "sents = x.groupby('sent')[['corpus_form', 'POS_CONC', 'NER']].apply(lambda x: x.values.tolist())\n",
    "sents[:5]"
   ]
  },
  {
   "cell_type": "code",
   "execution_count": 11,
   "metadata": {
    "ExecuteTime": {
     "end_time": "2019-03-27T16:54:21.206553Z",
     "start_time": "2019-03-27T16:54:21.175527Z"
    }
   },
   "outputs": [
    {
     "data": {
      "text/plain": [
       "18755"
      ]
     },
     "execution_count": 11,
     "metadata": {},
     "output_type": "execute_result"
    }
   ],
   "source": [
    "words = list(set(x[\"corpus_form\"].values))\n",
    "n_words = len(words); n_words"
   ]
  },
  {
   "cell_type": "code",
   "execution_count": 12,
   "metadata": {
    "ExecuteTime": {
     "end_time": "2019-03-27T16:54:22.034490Z",
     "start_time": "2019-03-27T16:54:21.206553Z"
    }
   },
   "outputs": [],
   "source": [
    "import matplotlib.pyplot as plt\n",
    "plt.style.use(\"ggplot\")"
   ]
  },
  {
   "cell_type": "code",
   "execution_count": 13,
   "metadata": {
    "ExecuteTime": {
     "end_time": "2019-03-27T16:54:22.456256Z",
     "start_time": "2019-03-27T16:54:22.034490Z"
    }
   },
   "outputs": [
    {
     "data": {
      "image/png": "[encoded data removed]",
      "text/plain": [
       "<Figure size 432x288 with 1 Axes>"
      ]
     },
     "metadata": {},
     "output_type": "display_data"
    }
   ],
   "source": [
    "plt.hist([len(s) for s in list(sents)], bins=50)\n",
    "plt.show()"
   ]
  },
  {
   "cell_type": "code",
   "execution_count": 14,
   "metadata": {
    "ExecuteTime": {
     "end_time": "2019-03-27T16:54:22.487499Z",
     "start_time": "2019-03-27T16:54:22.456256Z"
    }
   },
   "outputs": [],
   "source": [
    "max_len = 80\n",
    "word2idx = {w: i + 2 for i, w in enumerate(words)}\n",
    "word2idx[\"UNK\"] = 1\n",
    "word2idx[\"PAD\"] = 0\n",
    "idx2word = {i: w for w, i in word2idx.items()}"
   ]
  },
  {
   "cell_type": "code",
   "execution_count": 15,
   "metadata": {
    "ExecuteTime": {
     "end_time": "2019-03-27T16:54:31.391713Z",
     "start_time": "2019-03-27T16:54:22.487499Z"
    }
   },
   "outputs": [],
   "source": [
    "from keras.preprocessing.sequence import pad_sequences\n",
    "X = [[word2idx[w[0]] for w in s] for s in sents]"
   ]
  },
  {
   "cell_type": "code",
   "execution_count": 16,
   "metadata": {
    "ExecuteTime": {
     "end_time": "2019-03-27T16:54:31.438549Z",
     "start_time": "2019-03-27T16:54:31.391713Z"
    }
   },
   "outputs": [],
   "source": [
    "X = pad_sequences(maxlen=max_len, sequences=X, value=word2idx[\"PAD\"], padding='post', truncating='post')"
   ]
  },
  {
   "cell_type": "code",
   "execution_count": 17,
   "metadata": {
    "ExecuteTime": {
     "end_time": "2019-03-27T16:54:31.454134Z",
     "start_time": "2019-03-27T16:54:31.438549Z"
    }
   },
   "outputs": [
    {
     "data": {
      "text/plain": [
       "array([11969,  4383, 13666,  4555,  2171, 16622,   788,  8867, 16121,\n",
       "        9460,  8047, 18666,  4315,  4383,  1878, 14742,  3677,  1028,\n",
       "       11873,  7886,  7914, 17002,  7914,  9585,  4383, 14083,  1165,\n",
       "        4283,  3277, 15809, 18309,     0,     0,     0,     0,     0,\n",
       "           0,     0,     0,     0,     0,     0,     0,     0,     0,\n",
       "           0,     0,     0,     0,     0,     0,     0,     0,     0,\n",
       "           0,     0,     0,     0,     0,     0,     0,     0,     0,\n",
       "           0,     0,     0,     0,     0,     0,     0,     0,     0,\n",
       "           0,     0,     0,     0,     0,     0,     0,     0],\n",
       "      dtype=int32)"
      ]
     },
     "execution_count": 17,
     "metadata": {},
     "output_type": "execute_result"
    }
   ],
   "source": [
    "X[1]"
   ]
  },
  {
   "cell_type": "markdown",
   "metadata": {},
   "source": [
    "### Part of Speech"
   ]
  },
  {
   "cell_type": "code",
   "execution_count": 18,
   "metadata": {
    "ExecuteTime": {
     "end_time": "2019-03-27T16:54:31.485376Z",
     "start_time": "2019-03-27T16:54:31.454134Z"
    }
   },
   "outputs": [
    {
     "data": {
      "text/plain": [
       "276"
      ]
     },
     "execution_count": 18,
     "metadata": {},
     "output_type": "execute_result"
    }
   ],
   "source": [
    "pos = list(set(x[\"POS_CONC\"].values))\n",
    "n_pos = len(pos); n_pos"
   ]
  },
  {
   "cell_type": "code",
   "execution_count": 19,
   "metadata": {
    "ExecuteTime": {
     "end_time": "2019-03-27T16:54:31.547863Z",
     "start_time": "2019-03-27T16:54:31.485376Z"
    }
   },
   "outputs": [
    {
     "data": {
      "text/plain": [
       "array([231, 150,  12, 136,  46,  12, 149,  14, 180,  46,  46, 231,  84,\n",
       "        12,  12, 136, 108,  82, 151, 264,  82, 149,  14,  89,  46, 154,\n",
       "       267,   0,   0,   0,   0,   0,   0,   0,   0,   0,   0,   0,   0,\n",
       "         0,   0,   0,   0,   0,   0,   0,   0,   0,   0,   0,   0,   0,\n",
       "         0,   0,   0,   0,   0,   0,   0,   0,   0,   0,   0,   0,   0,\n",
       "         0,   0,   0,   0,   0,   0,   0,   0,   0,   0,   0,   0,   0,\n",
       "         0,   0], dtype=int32)"
      ]
     },
     "execution_count": 19,
     "metadata": {},
     "output_type": "execute_result"
    }
   ],
   "source": [
    "pos2idx = {w: i+1 for i, w in enumerate(pos)}\n",
    "pos2idx[\"PAD\"] = 0\n",
    "X_pos = [[pos2idx[w[1]] for w in s] for s in sents]\n",
    "X_pos = pad_sequences(maxlen=max_len, sequences=X_pos, value=pos2idx[\"PAD\"], padding='post', truncating='post')\n",
    "X_pos[0]"
   ]
  },
  {
   "cell_type": "markdown",
   "metadata": {},
   "source": [
    "### \"Gold\" Tags"
   ]
  },
  {
   "cell_type": "code",
   "execution_count": 20,
   "metadata": {
    "ExecuteTime": {
     "end_time": "2019-03-27T16:54:31.563502Z",
     "start_time": "2019-03-27T16:54:31.547863Z"
    }
   },
   "outputs": [
    {
     "data": {
      "text/plain": [
       "18"
      ]
     },
     "execution_count": 20,
     "metadata": {},
     "output_type": "execute_result"
    }
   ],
   "source": [
    "tags = list(set(x[\"NER\"].values))\n",
    "n_tags = len(tags); n_tags"
   ]
  },
  {
   "cell_type": "code",
   "execution_count": 21,
   "metadata": {
    "ExecuteTime": {
     "end_time": "2019-03-27T16:54:31.594729Z",
     "start_time": "2019-03-27T16:54:31.563502Z"
    }
   },
   "outputs": [],
   "source": [
    "tag2idx = {t: i + 1 for i, t in enumerate(tags)}\n",
    "tag2idx[\"PAD\"] = 0\n",
    "idx2tag = {i: w for w, i in tag2idx.items()}"
   ]
  },
  {
   "cell_type": "code",
   "execution_count": 22,
   "metadata": {
    "ExecuteTime": {
     "end_time": "2019-03-27T16:54:31.657214Z",
     "start_time": "2019-03-27T16:54:31.594729Z"
    }
   },
   "outputs": [],
   "source": [
    "y = [[tag2idx[w[2]] for w in s] for s in sents]\n",
    "y_numer = pad_sequences(maxlen=max_len, sequences=y, value=tag2idx[\"PAD\"], padding='post', truncating='post')"
   ]
  },
  {
   "cell_type": "code",
   "execution_count": 23,
   "metadata": {
    "ExecuteTime": {
     "end_time": "2019-03-27T16:54:31.672833Z",
     "start_time": "2019-03-27T16:54:31.657214Z"
    }
   },
   "outputs": [
    {
     "data": {
      "text/plain": [
       "array([17,  2,  2,  2,  2,  2,  2,  2,  2,  2,  2, 17, 17,  2,  2, 13, 13,\n",
       "        2,  2,  2,  2,  9,  2, 14,  2,  2,  2,  2, 17,  2,  2,  0,  0,  0,\n",
       "        0,  0,  0,  0,  0,  0,  0,  0,  0,  0,  0,  0,  0,  0,  0,  0,  0,\n",
       "        0,  0,  0,  0,  0,  0,  0,  0,  0,  0,  0,  0,  0,  0,  0,  0,  0,\n",
       "        0,  0,  0,  0,  0,  0,  0,  0,  0,  0,  0,  0], dtype=int32)"
      ]
     },
     "execution_count": 23,
     "metadata": {},
     "output_type": "execute_result"
    }
   ],
   "source": [
    "y_numer[1]"
   ]
  },
  {
   "cell_type": "code",
   "execution_count": 24,
   "metadata": {
    "ExecuteTime": {
     "end_time": "2019-03-27T16:54:31.782185Z",
     "start_time": "2019-03-27T16:54:31.672833Z"
    }
   },
   "outputs": [
    {
     "data": {
      "text/plain": [
       "array([[0., 0., 0., ..., 0., 1., 0.],\n",
       "       [0., 0., 1., ..., 0., 0., 0.],\n",
       "       [0., 0., 1., ..., 0., 0., 0.],\n",
       "       ...,\n",
       "       [1., 0., 0., ..., 0., 0., 0.],\n",
       "       [1., 0., 0., ..., 0., 0., 0.],\n",
       "       [1., 0., 0., ..., 0., 0., 0.]], dtype=float32)"
      ]
     },
     "execution_count": 24,
     "metadata": {},
     "output_type": "execute_result"
    }
   ],
   "source": [
    "from keras.utils import to_categorical\n",
    "y = [to_categorical(i, num_classes=n_tags+1) for i in y_numer]\n",
    "y[1]"
   ]
  },
  {
   "cell_type": "code",
   "execution_count": 25,
   "metadata": {
    "ExecuteTime": {
     "end_time": "2019-03-27T16:54:32.563312Z",
     "start_time": "2019-03-27T16:54:31.782185Z"
    }
   },
   "outputs": [],
   "source": [
    "from sklearn.model_selection import train_test_split\n",
    "\n",
    "splits = [train_test_split(X, y, X_pos, test_size=0.25, random_state=42+i) for i in range(3)]"
   ]
  },
  {
   "cell_type": "markdown",
   "metadata": {},
   "source": [
    "### Prep char input"
   ]
  },
  {
   "cell_type": "code",
   "execution_count": 26,
   "metadata": {
    "ExecuteTime": {
     "end_time": "2019-01-31T13:58:31.324599Z",
     "start_time": "2019-01-31T13:58:31.077207Z"
    }
   },
   "outputs": [
    {
     "data": {
      "text/plain": [
       "<matplotlib.axes._subplots.AxesSubplot at 0x7f7f35bd20f0>"
      ]
     },
     "execution_count": 26,
     "metadata": {},
     "output_type": "execute_result"
    },
    {
     "data": {
      "image/png": "[encoded data removed]",
      "text/plain": [
       "<Figure size 432x288 with 1 Axes>"
      ]
     },
     "metadata": {},
     "output_type": "display_data"
    }
   ],
   "source": [
    "x.corpus_form.apply(len).hist(bins=18)"
   ]
  },
  {
   "cell_type": "code",
   "execution_count": 27,
   "metadata": {
    "ExecuteTime": {
     "end_time": "2019-01-31T13:58:31.340217Z",
     "start_time": "2019-01-31T13:58:31.324599Z"
    }
   },
   "outputs": [],
   "source": [
    "max_len_char = 10"
   ]
  },
  {
   "cell_type": "code",
   "execution_count": 28,
   "metadata": {
    "ExecuteTime": {
     "end_time": "2019-01-31T13:58:32.660554Z",
     "start_time": "2019-01-31T13:58:32.613692Z"
    }
   },
   "outputs": [
    {
     "name": "stdout",
     "output_type": "stream",
     "text": [
      "101\n"
     ]
    }
   ],
   "source": [
    "chars = set([w_i for w in words for w_i in w])\n",
    "n_chars = len(chars)\n",
    "print(n_chars)"
   ]
  },
  {
   "cell_type": "code",
   "execution_count": 29,
   "metadata": {
    "ExecuteTime": {
     "end_time": "2019-01-31T13:58:33.732950Z",
     "start_time": "2019-01-31T13:58:33.717366Z"
    }
   },
   "outputs": [],
   "source": [
    "char2idx = {c: i + 2 for i, c in enumerate(chars)}\n",
    "char2idx[\"UNK\"] = 1\n",
    "char2idx[\"PAD\"] = 0"
   ]
  },
  {
   "cell_type": "code",
   "execution_count": 30,
   "metadata": {
    "ExecuteTime": {
     "end_time": "2019-01-31T13:58:36.324286Z",
     "start_time": "2019-01-31T13:58:34.303392Z"
    }
   },
   "outputs": [],
   "source": [
    "X_char = []\n",
    "for sentence in sents:\n",
    "    sent_seq = []\n",
    "    for i in range(max_len):\n",
    "        word_seq = []\n",
    "        for j in range(max_len_char):\n",
    "            try:\n",
    "                word_seq.append(char2idx.get(sentence[i][0][j]))\n",
    "            except:\n",
    "                word_seq.append(char2idx.get(\"PAD\"))\n",
    "        sent_seq.append(word_seq)\n",
    "    X_char.append(np.array(sent_seq))"
   ]
  },
  {
   "cell_type": "code",
   "execution_count": 31,
   "metadata": {},
   "outputs": [],
   "source": [
    "splits_char = [train_test_split(X_char, y, test_size=0.25, random_state=42+i) for i in range(3)]"
   ]
  },
  {
   "cell_type": "markdown",
   "metadata": {},
   "source": [
    "## Embeddings"
   ]
  },
  {
   "cell_type": "code",
   "execution_count": 32,
   "metadata": {},
   "outputs": [
    {
     "data": {
      "text/plain": [
       "{'yap_w2v_sg': '../wordembedding-hebrew/wikipedia.yap_form.word2vec_skipgram.txt',\n",
       " 'yap_w2v_cbow': '../wordembedding-hebrew/wikipedia.yap_form.word2vec_cbow.txt',\n",
       " 'yap_glove': '../wordembedding-hebrew/glove/wikipedia.yap_form.glove.txt.txt',\n",
       " 'yap_ft_sg': '../wordembedding-hebrew/wikipedia.yap_form.fasttext_skipgram.model.vec',\n",
       " 'yap_ft_cbow': '../wordembedding-hebrew/wikipedia.yap_form.fasttext_cbow.model.vec',\n",
       " 'token_w2v_sg': '../wordembedding-hebrew/wikipedia.tokenized.word2vec_skipgram.txt',\n",
       " 'token_w2v_cbow': '../wordembedding-hebrew/wikipedia.tokenized.word2vec_cbow.txt',\n",
       " 'token_glove': '../wordembedding-hebrew/glove/wikipedia.tokenized.glove.txt',\n",
       " 'token_ft_sg': '../wordembedding-hebrew/wikipedia.tokenized.fasttext_skipgram.model.vec',\n",
       " 'token_ft_cbow': '../wordembedding-hebrew/wikipedia.tokenized.fasttext_cbow.model.vec',\n",
       " 'pretrained_token_ft': '../fasttext/wiki.he.vec'}"
      ]
     },
     "execution_count": 32,
     "metadata": {},
     "output_type": "execute_result"
    }
   ],
   "source": [
    "embedding_paths"
   ]
  },
  {
   "cell_type": "code",
   "execution_count": 33,
   "metadata": {},
   "outputs": [],
   "source": [
    "exclude = ['cbow']"
   ]
  },
  {
   "cell_type": "code",
   "execution_count": 36,
   "metadata": {},
   "outputs": [
    {
     "name": "stdout",
     "output_type": "stream",
     "text": [
      "loading word embeddings: ../wordembedding-hebrew/wikipedia.yap_form.word2vec_skipgram.txt\n",
      "found 256508 word vectors\n",
      "preparing embedding matrix...\n",
      "number of null word embeddings: 7398\n",
      "sample words not found:  ['לובון' 'הירקות' 'אבו-מוסא' 'ל11' 'והעסקים' 'וכמסתמא' 'הגליל' '1967,'\n",
      " 'המדליות' 'ביומן']\n",
      "loading word embeddings: ../wordembedding-hebrew/glove/wikipedia.yap_form.glove.txt.txt\n",
      "found 256508 word vectors\n",
      "preparing embedding matrix...\n",
      "number of null word embeddings: 7398\n",
      "sample words not found:  ['\"הפחתת' 'הנרצחים' 'שייקבעו' 'מהשגרה' 'שיוסגר' 'האיומה' 'שהצמיחה' 'החתום'\n",
      " 'בהשבת' 'הנוכלים']\n",
      "loading word embeddings: ../wordembedding-hebrew/wikipedia.yap_form.fasttext_skipgram.model.vec\n",
      "found 256508 word vectors\n",
      "preparing embedding matrix...\n",
      "number of null word embeddings: 7398\n",
      "sample words not found:  ['שמאירה' 'הביקורת' 'מסקירת' 'והמגזר' 'הפיצול' 'שכעת' 'ההוקוס' 'ההסלמה'\n",
      " 'ואחת' 'שהשליחות']\n",
      "loading word embeddings: ../wordembedding-hebrew/wikipedia.tokenized.word2vec_skipgram.txt\n",
      "found 372586 word vectors\n",
      "preparing embedding matrix...\n",
      "number of null word embeddings: 1519\n",
      "sample words not found:  ['כצווים' 'שייעצרו' 'גיבאליה' 'התרגשותם' 'טריוק' 'קלקילה' 'ַדש' '2003.'\n",
      " 'יצאתם' 'במשכנתא']\n",
      "loading word embeddings: ../wordembedding-hebrew/glove/wikipedia.tokenized.glove.txt\n",
      "found 372586 word vectors\n",
      "preparing embedding matrix...\n",
      "number of null word embeddings: 1519\n",
      "sample words not found:  ['מתישבים' 'שהדו\"חות' 'זוללי' 'שהדו\"חות' 'לפלשתינים' 'תיזקף'\n",
      " 'אינסטינקטיווית' 'כצפיר' 'טורדת' 'האופורטוניסטי']\n",
      "loading word embeddings: ../wordembedding-hebrew/wikipedia.tokenized.fasttext_skipgram.model.vec\n",
      "found 372587 word vectors\n",
      "preparing embedding matrix...\n",
      "number of null word embeddings: 1519\n",
      "sample words not found:  ['8891' 'סיכוייך' 'ובמוטות' 'הספרויות' 'סקאיף' 'פועלים-אי.בי.אי' 'ציינת'\n",
      " 'ושהאותוריטה' 'בווידויים' 'נתעסק']\n",
      "loading word embeddings: ../fasttext/wiki.he.vec\n",
      "found 488194 word vectors\n",
      "preparing embedding matrix...\n",
      "number of null word embeddings: 1721\n",
      "sample words not found:  ['מלחקות' '40' 'ל\"ניו' 'יומית?' 'ָד' 'שהאכיפה' '145' '-Appscan' '10%'\n",
      " '1990']\n"
     ]
    }
   ],
   "source": [
    "embedding_mats = {}\n",
    "for emb_name, emb_path in embedding_paths.items():\n",
    "    skip=False\n",
    "    for exc in exclude:\n",
    "        if exc in emb_path:\n",
    "            skip=True\n",
    "    if skip:\n",
    "        continue\n",
    "    embedding_mats[emb_name] = get_embedding_matrix(emb_path, word2idx)"
   ]
  },
  {
   "cell_type": "markdown",
   "metadata": {},
   "source": [
    "## Model building"
   ]
  },
  {
   "cell_type": "code",
   "execution_count": 37,
   "metadata": {},
   "outputs": [
    {
     "data": {
      "text/plain": [
       "[{'crf': True, 'use_pos': False},\n",
       " {'crf': True, 'use_pos': True},\n",
       " {'crf': True,\n",
       "  'use_pos': False,\n",
       "  'embedding_matrix': 'yap_w2v_sg',\n",
       "  'trainable': False,\n",
       "  'embed_dim': 300},\n",
       " {'crf': True,\n",
       "  'use_pos': False,\n",
       "  'embedding_matrix': 'yap_glove',\n",
       "  'trainable': False,\n",
       "  'embed_dim': 300},\n",
       " {'crf': True,\n",
       "  'use_pos': False,\n",
       "  'embedding_matrix': 'yap_ft_sg',\n",
       "  'trainable': False,\n",
       "  'embed_dim': 300},\n",
       " {'crf': True,\n",
       "  'use_pos': False,\n",
       "  'embedding_matrix': 'token_w2v_sg',\n",
       "  'trainable': False,\n",
       "  'embed_dim': 300},\n",
       " {'crf': True,\n",
       "  'use_pos': False,\n",
       "  'embedding_matrix': 'token_glove',\n",
       "  'trainable': False,\n",
       "  'embed_dim': 300},\n",
       " {'crf': True,\n",
       "  'use_pos': False,\n",
       "  'embedding_matrix': 'token_ft_sg',\n",
       "  'trainable': False,\n",
       "  'embed_dim': 300},\n",
       " {'crf': True,\n",
       "  'use_pos': False,\n",
       "  'embedding_matrix': 'pretrained_token_ft',\n",
       "  'trainable': False,\n",
       "  'embed_dim': 300},\n",
       " {'crf': True,\n",
       "  'use_pos': True,\n",
       "  'embedding_matrix': 'yap_w2v_sg',\n",
       "  'trainable': False,\n",
       "  'embed_dim': 300},\n",
       " {'crf': True,\n",
       "  'use_pos': True,\n",
       "  'embedding_matrix': 'yap_glove',\n",
       "  'trainable': False,\n",
       "  'embed_dim': 300},\n",
       " {'crf': True,\n",
       "  'use_pos': True,\n",
       "  'embedding_matrix': 'yap_ft_sg',\n",
       "  'trainable': False,\n",
       "  'embed_dim': 300},\n",
       " {'crf': True,\n",
       "  'use_pos': True,\n",
       "  'embedding_matrix': 'token_w2v_sg',\n",
       "  'trainable': False,\n",
       "  'embed_dim': 300},\n",
       " {'crf': True,\n",
       "  'use_pos': True,\n",
       "  'embedding_matrix': 'token_glove',\n",
       "  'trainable': False,\n",
       "  'embed_dim': 300},\n",
       " {'crf': True,\n",
       "  'use_pos': True,\n",
       "  'embedding_matrix': 'token_ft_sg',\n",
       "  'trainable': False,\n",
       "  'embed_dim': 300},\n",
       " {'crf': True,\n",
       "  'use_pos': True,\n",
       "  'embedding_matrix': 'pretrained_token_ft',\n",
       "  'trainable': False,\n",
       "  'embed_dim': 300},\n",
       " {'use_char': True, 'crf': True, 'use_pos': False},\n",
       " {'use_char': True, 'crf': True, 'use_pos': True},\n",
       " {'use_char': True,\n",
       "  'crf': True,\n",
       "  'use_pos': False,\n",
       "  'embedding_matrix': 'yap_w2v_sg',\n",
       "  'trainable': False,\n",
       "  'embed_dim': 300},\n",
       " {'use_char': True,\n",
       "  'crf': True,\n",
       "  'use_pos': False,\n",
       "  'embedding_matrix': 'yap_glove',\n",
       "  'trainable': False,\n",
       "  'embed_dim': 300},\n",
       " {'use_char': True,\n",
       "  'crf': True,\n",
       "  'use_pos': False,\n",
       "  'embedding_matrix': 'yap_ft_sg',\n",
       "  'trainable': False,\n",
       "  'embed_dim': 300},\n",
       " {'use_char': True,\n",
       "  'crf': True,\n",
       "  'use_pos': False,\n",
       "  'embedding_matrix': 'token_w2v_sg',\n",
       "  'trainable': False,\n",
       "  'embed_dim': 300},\n",
       " {'use_char': True,\n",
       "  'crf': True,\n",
       "  'use_pos': False,\n",
       "  'embedding_matrix': 'token_glove',\n",
       "  'trainable': False,\n",
       "  'embed_dim': 300},\n",
       " {'use_char': True,\n",
       "  'crf': True,\n",
       "  'use_pos': False,\n",
       "  'embedding_matrix': 'token_ft_sg',\n",
       "  'trainable': False,\n",
       "  'embed_dim': 300},\n",
       " {'use_char': True,\n",
       "  'crf': True,\n",
       "  'use_pos': False,\n",
       "  'embedding_matrix': 'pretrained_token_ft',\n",
       "  'trainable': False,\n",
       "  'embed_dim': 300},\n",
       " {'use_char': True,\n",
       "  'crf': True,\n",
       "  'use_pos': True,\n",
       "  'embedding_matrix': 'yap_w2v_sg',\n",
       "  'trainable': False,\n",
       "  'embed_dim': 300},\n",
       " {'use_char': True,\n",
       "  'crf': True,\n",
       "  'use_pos': True,\n",
       "  'embedding_matrix': 'yap_glove',\n",
       "  'trainable': False,\n",
       "  'embed_dim': 300},\n",
       " {'use_char': True,\n",
       "  'crf': True,\n",
       "  'use_pos': True,\n",
       "  'embedding_matrix': 'yap_ft_sg',\n",
       "  'trainable': False,\n",
       "  'embed_dim': 300},\n",
       " {'use_char': True,\n",
       "  'crf': True,\n",
       "  'use_pos': True,\n",
       "  'embedding_matrix': 'token_w2v_sg',\n",
       "  'trainable': False,\n",
       "  'embed_dim': 300},\n",
       " {'use_char': True,\n",
       "  'crf': True,\n",
       "  'use_pos': True,\n",
       "  'embedding_matrix': 'token_glove',\n",
       "  'trainable': False,\n",
       "  'embed_dim': 300},\n",
       " {'use_char': True,\n",
       "  'crf': True,\n",
       "  'use_pos': True,\n",
       "  'embedding_matrix': 'token_ft_sg',\n",
       "  'trainable': False,\n",
       "  'embed_dim': 300},\n",
       " {'use_char': True,\n",
       "  'crf': True,\n",
       "  'use_pos': True,\n",
       "  'embedding_matrix': 'pretrained_token_ft',\n",
       "  'trainable': False,\n",
       "  'embed_dim': 300}]"
      ]
     },
     "execution_count": 37,
     "metadata": {},
     "output_type": "execute_result"
    }
   ],
   "source": [
    "configs = build_configs(base_configs, embedding_mats)\n",
    "configs     "
   ]
  },
  {
   "cell_type": "code",
   "execution_count": 38,
   "metadata": {},
   "outputs": [],
   "source": [
    "if not os.path.exists('outputs'):\n",
    "    os.mkdir('outputs')"
   ]
  },
  {
   "cell_type": "code",
   "execution_count": null,
   "metadata": {
    "ExecuteTime": {
     "end_time": "2019-03-13T11:31:02.793857Z",
     "start_time": "2019-03-13T11:16:17.267695Z"
    },
    "scrolled": true
   },
   "outputs": [
    {
     "name": "stdout",
     "output_type": "stream",
     "text": [
      "Train on 2349 samples, validate on 262 samples\n",
      "Epoch 1/100\n"
     ]
    }
   ],
   "source": [
    "configs, results, preds, histories = run_models(configs, splits, splits_char, embedding_mats, \n",
    "                                                words, max_len, n_words, idx2word, idx2tag,\n",
    "                                                n_tags, max_len_char, n_pos, n_chars,\n",
    "                                                run_name='naama_token', out_folder='outputs',\n",
    "                                                skip_if_model_exists=True)"
   ]
  },
  {
   "cell_type": "code",
   "execution_count": null,
   "metadata": {},
   "outputs": [],
   "source": [
    "results"
   ]
  },
  {
   "cell_type": "code",
   "execution_count": null,
   "metadata": {},
   "outputs": [],
   "source": []
  },
  {
   "cell_type": "code",
   "execution_count": null,
   "metadata": {},
   "outputs": [],
   "source": []
  },
  {
   "cell_type": "code",
   "execution_count": null,
   "metadata": {},
   "outputs": [],
   "source": []
  },
  {
   "cell_type": "code",
   "execution_count": null,
   "metadata": {},
   "outputs": [],
   "source": []
  },
  {
   "cell_type": "code",
   "execution_count": null,
   "metadata": {},
   "outputs": [],
   "source": []
  },
  {
   "cell_type": "code",
   "execution_count": null,
   "metadata": {},
   "outputs": [],
   "source": []
  },
  {
   "cell_type": "code",
   "execution_count": null,
   "metadata": {},
   "outputs": [],
   "source": []
  },
  {
   "cell_type": "code",
   "execution_count": null,
   "metadata": {},
   "outputs": [],
   "source": []
  },
  {
   "cell_type": "code",
   "execution_count": null,
   "metadata": {},
   "outputs": [],
   "source": []
  },
  {
   "cell_type": "code",
   "execution_count": null,
   "metadata": {},
   "outputs": [],
   "source": []
  },
  {
   "cell_type": "code",
   "execution_count": null,
   "metadata": {},
   "outputs": [],
   "source": []
  },
  {
   "cell_type": "code",
   "execution_count": null,
   "metadata": {},
   "outputs": [],
   "source": []
  },
  {
   "cell_type": "code",
   "execution_count": null,
   "metadata": {},
   "outputs": [],
   "source": []
  },
  {
   "cell_type": "code",
   "execution_count": null,
   "metadata": {},
   "outputs": [],
   "source": [
    "for c in configs:\n",
    "    if 'embedding_matrix' in c:\n",
    "        c.update({'embedding_matrix': 'fastext'}) "
   ]
  },
  {
   "cell_type": "code",
   "execution_count": 47,
   "metadata": {},
   "outputs": [],
   "source": [
    "defaults = {'use_word': True, 'use_pos': False, 'embedding_matrix': None, \n",
    "            'embed_dim': 70, 'trainable': True, 'input_dropout': False, \n",
    "            'stack_lstm': 1, 'epochs': 100, 'early_stopping': True, 'patience': 20, \n",
    "            'min_delta': 0.0001, 'use_char': False, 'crf': False, 'stack_cross': False, \n",
    "            'stack_double': False, 'rec_dropout': 0.1}"
   ]
  },
  {
   "cell_type": "code",
   "execution_count": 48,
   "metadata": {},
   "outputs": [],
   "source": [
    "for conf in configs:\n",
    "    conf.update({'use_morpheme': True})\n",
    "    conf.update({'use_word': False})\n",
    "\n",
    "    for key in defaults:\n",
    "        if key not in conf:\n",
    "            conf[key] = defaults[key]"
   ]
  },
  {
   "cell_type": "code",
   "execution_count": null,
   "metadata": {},
   "outputs": [],
   "source": [
    "len(list(zip(configs, results, preds, histories)))"
   ]
  },
  {
   "cell_type": "raw",
   "metadata": {},
   "source": [
    "import pickle\n",
    "with open('naama_token_results_1.pkl', 'wb') as f:\n",
    "    pickle.dump(list(zip(configs, results, preds, histories)), f)"
   ]
  },
  {
   "cell_type": "code",
   "execution_count": 52,
   "metadata": {},
   "outputs": [],
   "source": [
    "def get_results_df(configs, results):\n",
    "    dict_res = []\n",
    "    for conf, res in zip(configs, results):\n",
    "        dr = {}\n",
    "        for i, r in enumerate(res):\n",
    "            split_name = chr(ord('a')+i)\n",
    "            dr['prec_'+split_name], dr['recall_'+split_name], dr['f1_'+split_name] = r\n",
    "        dr.update(conf)\n",
    "        dict_res.append(dr)\n",
    "    rdf = (pd.DataFrame(dict_res)\n",
    "           .assign(prec = lambda x: (x.prec_a + x.prec_b + x.prec_c)/3)\n",
    "           .assign(recall = lambda x: (x.recall_a + x.recall_b + x.recall_c)/3)\n",
    "           .assign(f1 = lambda x: (x.f1_a + x.f1_b + x.f1_c)/3))\n",
    "    return rdf"
   ]
  },
  {
   "cell_type": "code",
   "execution_count": 53,
   "metadata": {},
   "outputs": [],
   "source": [
    "res1 = pickle.load(open('treebank_results_1.pkl', 'rb'))"
   ]
  },
  {
   "cell_type": "code",
   "execution_count": 54,
   "metadata": {},
   "outputs": [],
   "source": [
    "res2 = pickle.load(open('treebank_results_2_test25.pkl', 'rb'))"
   ]
  },
  {
   "cell_type": "code",
   "execution_count": 57,
   "metadata": {},
   "outputs": [],
   "source": [
    "rdf1 = get_results_df([c for c, r, h in res1], [r for c, r, h in res1])"
   ]
  },
  {
   "cell_type": "code",
   "execution_count": 58,
   "metadata": {},
   "outputs": [],
   "source": [
    "rdf2 = get_results_df([c for c, r, p, h in res2], [r for c, r, p, h in res2])"
   ]
  },
  {
   "cell_type": "code",
   "execution_count": 60,
   "metadata": {},
   "outputs": [
    {
     "data": {
      "text/html": [
       "<div>\n",
       "<style scoped>\n",
       "    .dataframe tbody tr th:only-of-type {\n",
       "        vertical-align: middle;\n",
       "    }\n",
       "\n",
       "    .dataframe tbody tr th {\n",
       "        vertical-align: top;\n",
       "    }\n",
       "\n",
       "    .dataframe thead th {\n",
       "        text-align: right;\n",
       "    }\n",
       "</style>\n",
       "<table border=\"1\" class=\"dataframe\">\n",
       "  <thead>\n",
       "    <tr style=\"text-align: right;\">\n",
       "      <th></th>\n",
       "      <th>crf</th>\n",
       "      <th>early_stopping</th>\n",
       "      <th>embed_dim</th>\n",
       "      <th>embedding_matrix</th>\n",
       "      <th>epochs</th>\n",
       "      <th>f1_a</th>\n",
       "      <th>f1_b</th>\n",
       "      <th>f1_c</th>\n",
       "      <th>input_dropout</th>\n",
       "      <th>min_delta</th>\n",
       "      <th>...</th>\n",
       "      <th>stack_double</th>\n",
       "      <th>stack_lstm</th>\n",
       "      <th>trainable</th>\n",
       "      <th>use_char</th>\n",
       "      <th>use_morpheme</th>\n",
       "      <th>use_pos</th>\n",
       "      <th>use_word</th>\n",
       "      <th>prec</th>\n",
       "      <th>recall</th>\n",
       "      <th>f1</th>\n",
       "    </tr>\n",
       "  </thead>\n",
       "  <tbody>\n",
       "    <tr>\n",
       "      <th>0</th>\n",
       "      <td>True</td>\n",
       "      <td>True</td>\n",
       "      <td>70</td>\n",
       "      <td>None</td>\n",
       "      <td>100</td>\n",
       "      <td>61.595231</td>\n",
       "      <td>64.524986</td>\n",
       "      <td>63.937419</td>\n",
       "      <td>False</td>\n",
       "      <td>0.0001</td>\n",
       "      <td>...</td>\n",
       "      <td>False</td>\n",
       "      <td>1</td>\n",
       "      <td>True</td>\n",
       "      <td>False</td>\n",
       "      <td>True</td>\n",
       "      <td>False</td>\n",
       "      <td>False</td>\n",
       "      <td>66.866298</td>\n",
       "      <td>60.221498</td>\n",
       "      <td>63.352545</td>\n",
       "    </tr>\n",
       "    <tr>\n",
       "      <th>1</th>\n",
       "      <td>True</td>\n",
       "      <td>True</td>\n",
       "      <td>70</td>\n",
       "      <td>None</td>\n",
       "      <td>100</td>\n",
       "      <td>72.074967</td>\n",
       "      <td>71.615721</td>\n",
       "      <td>72.101911</td>\n",
       "      <td>False</td>\n",
       "      <td>0.0001</td>\n",
       "      <td>...</td>\n",
       "      <td>False</td>\n",
       "      <td>1</td>\n",
       "      <td>True</td>\n",
       "      <td>False</td>\n",
       "      <td>True</td>\n",
       "      <td>True</td>\n",
       "      <td>False</td>\n",
       "      <td>73.574440</td>\n",
       "      <td>70.383441</td>\n",
       "      <td>71.930866</td>\n",
       "    </tr>\n",
       "    <tr>\n",
       "      <th>2</th>\n",
       "      <td>True</td>\n",
       "      <td>True</td>\n",
       "      <td>300</td>\n",
       "      <td>fastext</td>\n",
       "      <td>100</td>\n",
       "      <td>77.924131</td>\n",
       "      <td>76.407437</td>\n",
       "      <td>77.421053</td>\n",
       "      <td>False</td>\n",
       "      <td>0.0001</td>\n",
       "      <td>...</td>\n",
       "      <td>False</td>\n",
       "      <td>1</td>\n",
       "      <td>True</td>\n",
       "      <td>False</td>\n",
       "      <td>True</td>\n",
       "      <td>False</td>\n",
       "      <td>False</td>\n",
       "      <td>78.371539</td>\n",
       "      <td>76.234033</td>\n",
       "      <td>77.250873</td>\n",
       "    </tr>\n",
       "    <tr>\n",
       "      <th>3</th>\n",
       "      <td>True</td>\n",
       "      <td>True</td>\n",
       "      <td>300</td>\n",
       "      <td>fastext</td>\n",
       "      <td>100</td>\n",
       "      <td>80.941052</td>\n",
       "      <td>79.862215</td>\n",
       "      <td>80.050761</td>\n",
       "      <td>False</td>\n",
       "      <td>0.0001</td>\n",
       "      <td>...</td>\n",
       "      <td>False</td>\n",
       "      <td>1</td>\n",
       "      <td>True</td>\n",
       "      <td>False</td>\n",
       "      <td>True</td>\n",
       "      <td>True</td>\n",
       "      <td>False</td>\n",
       "      <td>80.810288</td>\n",
       "      <td>79.768234</td>\n",
       "      <td>80.284676</td>\n",
       "    </tr>\n",
       "    <tr>\n",
       "      <th>4</th>\n",
       "      <td>True</td>\n",
       "      <td>True</td>\n",
       "      <td>70</td>\n",
       "      <td>None</td>\n",
       "      <td>100</td>\n",
       "      <td>69.732492</td>\n",
       "      <td>67.697498</td>\n",
       "      <td>70.299037</td>\n",
       "      <td>False</td>\n",
       "      <td>0.0001</td>\n",
       "      <td>...</td>\n",
       "      <td>False</td>\n",
       "      <td>1</td>\n",
       "      <td>True</td>\n",
       "      <td>True</td>\n",
       "      <td>True</td>\n",
       "      <td>False</td>\n",
       "      <td>False</td>\n",
       "      <td>74.882658</td>\n",
       "      <td>64.751970</td>\n",
       "      <td>69.243009</td>\n",
       "    </tr>\n",
       "  </tbody>\n",
       "</table>\n",
       "<p>5 rows × 29 columns</p>\n",
       "</div>"
      ],
      "text/plain": [
       "    crf  early_stopping  embed_dim embedding_matrix  epochs       f1_a  \\\n",
       "0  True            True         70             None     100  61.595231   \n",
       "1  True            True         70             None     100  72.074967   \n",
       "2  True            True        300          fastext     100  77.924131   \n",
       "3  True            True        300          fastext     100  80.941052   \n",
       "4  True            True         70             None     100  69.732492   \n",
       "\n",
       "        f1_b       f1_c  input_dropout  min_delta  ...  stack_double  \\\n",
       "0  64.524986  63.937419          False     0.0001  ...         False   \n",
       "1  71.615721  72.101911          False     0.0001  ...         False   \n",
       "2  76.407437  77.421053          False     0.0001  ...         False   \n",
       "3  79.862215  80.050761          False     0.0001  ...         False   \n",
       "4  67.697498  70.299037          False     0.0001  ...         False   \n",
       "\n",
       "   stack_lstm  trainable  use_char  use_morpheme  use_pos  use_word  \\\n",
       "0           1       True     False          True    False     False   \n",
       "1           1       True     False          True     True     False   \n",
       "2           1       True     False          True    False     False   \n",
       "3           1       True     False          True     True     False   \n",
       "4           1       True      True          True    False     False   \n",
       "\n",
       "        prec     recall         f1  \n",
       "0  66.866298  60.221498  63.352545  \n",
       "1  73.574440  70.383441  71.930866  \n",
       "2  78.371539  76.234033  77.250873  \n",
       "3  80.810288  79.768234  80.284676  \n",
       "4  74.882658  64.751970  69.243009  \n",
       "\n",
       "[5 rows x 29 columns]"
      ]
     },
     "execution_count": 60,
     "metadata": {},
     "output_type": "execute_result"
    }
   ],
   "source": [
    "rdf2.head()"
   ]
  },
  {
   "cell_type": "code",
   "execution_count": 61,
   "metadata": {},
   "outputs": [
    {
     "data": {
      "text/html": [
       "<div>\n",
       "<style scoped>\n",
       "    .dataframe tbody tr th:only-of-type {\n",
       "        vertical-align: middle;\n",
       "    }\n",
       "\n",
       "    .dataframe tbody tr th {\n",
       "        vertical-align: top;\n",
       "    }\n",
       "\n",
       "    .dataframe thead tr th {\n",
       "        text-align: left;\n",
       "    }\n",
       "\n",
       "    .dataframe thead tr:last-of-type th {\n",
       "        text-align: right;\n",
       "    }\n",
       "</style>\n",
       "<table border=\"1\" class=\"dataframe\">\n",
       "  <thead>\n",
       "    <tr>\n",
       "      <th>use_char</th>\n",
       "      <th colspan=\"2\" halign=\"left\">False</th>\n",
       "      <th colspan=\"2\" halign=\"left\">True</th>\n",
       "    </tr>\n",
       "    <tr>\n",
       "      <th>use_pos</th>\n",
       "      <th>False</th>\n",
       "      <th>True</th>\n",
       "      <th>False</th>\n",
       "      <th>True</th>\n",
       "    </tr>\n",
       "    <tr>\n",
       "      <th>embedding_matrix</th>\n",
       "      <th></th>\n",
       "      <th></th>\n",
       "      <th></th>\n",
       "      <th></th>\n",
       "    </tr>\n",
       "  </thead>\n",
       "  <tbody>\n",
       "    <tr>\n",
       "      <th>No</th>\n",
       "      <td>63.4</td>\n",
       "      <td>71.9</td>\n",
       "      <td>69.2</td>\n",
       "      <td>75.0</td>\n",
       "    </tr>\n",
       "    <tr>\n",
       "      <th>fastext</th>\n",
       "      <td>77.3</td>\n",
       "      <td>80.3</td>\n",
       "      <td>82.0</td>\n",
       "      <td>83.3</td>\n",
       "    </tr>\n",
       "  </tbody>\n",
       "</table>\n",
       "</div>"
      ],
      "text/plain": [
       "use_char         False       True       \n",
       "use_pos          False True  False True \n",
       "embedding_matrix                        \n",
       "No                63.4  71.9  69.2  75.0\n",
       "fastext           77.3  80.3  82.0  83.3"
      ]
     },
     "execution_count": 61,
     "metadata": {},
     "output_type": "execute_result"
    }
   ],
   "source": [
    " (rdf2.fillna('No')\n",
    " .groupby(['use_char', 'use_pos', 'embedding_matrix'])\n",
    " .apply(lambda x: x.f1.mean())\n",
    " .unstack(level=[0,1])\n",
    " .round(1)\n",
    " )"
   ]
  },
  {
   "cell_type": "code",
   "execution_count": 63,
   "metadata": {},
   "outputs": [
    {
     "data": {
      "text/html": [
       "<div>\n",
       "<style scoped>\n",
       "    .dataframe tbody tr th:only-of-type {\n",
       "        vertical-align: middle;\n",
       "    }\n",
       "\n",
       "    .dataframe tbody tr th {\n",
       "        vertical-align: top;\n",
       "    }\n",
       "\n",
       "    .dataframe thead tr th {\n",
       "        text-align: left;\n",
       "    }\n",
       "\n",
       "    .dataframe thead tr:last-of-type th {\n",
       "        text-align: right;\n",
       "    }\n",
       "</style>\n",
       "<table border=\"1\" class=\"dataframe\">\n",
       "  <thead>\n",
       "    <tr>\n",
       "      <th>use_char</th>\n",
       "      <th colspan=\"2\" halign=\"left\">False</th>\n",
       "      <th colspan=\"2\" halign=\"left\">True</th>\n",
       "    </tr>\n",
       "    <tr>\n",
       "      <th>use_pos</th>\n",
       "      <th>False</th>\n",
       "      <th>True</th>\n",
       "      <th>False</th>\n",
       "      <th>True</th>\n",
       "    </tr>\n",
       "    <tr>\n",
       "      <th>embedding_matrix</th>\n",
       "      <th></th>\n",
       "      <th></th>\n",
       "      <th></th>\n",
       "      <th></th>\n",
       "    </tr>\n",
       "  </thead>\n",
       "  <tbody>\n",
       "    <tr>\n",
       "      <th>No</th>\n",
       "      <td>67.9</td>\n",
       "      <td>74.4</td>\n",
       "      <td>70.7</td>\n",
       "      <td>75.8</td>\n",
       "    </tr>\n",
       "    <tr>\n",
       "      <th>fastext</th>\n",
       "      <td>79.4</td>\n",
       "      <td>83.4</td>\n",
       "      <td>82.9</td>\n",
       "      <td>84.6</td>\n",
       "    </tr>\n",
       "  </tbody>\n",
       "</table>\n",
       "</div>"
      ],
      "text/plain": [
       "use_char         False       True       \n",
       "use_pos          False True  False True \n",
       "embedding_matrix                        \n",
       "No                67.9  74.4  70.7  75.8\n",
       "fastext           79.4  83.4  82.9  84.6"
      ]
     },
     "execution_count": 63,
     "metadata": {},
     "output_type": "execute_result"
    }
   ],
   "source": [
    " (rdf1.fillna('No')\n",
    " .groupby(['use_char', 'use_pos', 'embedding_matrix'])\n",
    " .apply(lambda x: x.f1.mean())\n",
    " .unstack(level=[0,1])\n",
    " .round(1)\n",
    " )"
   ]
  },
  {
   "cell_type": "code",
   "execution_count": null,
   "metadata": {},
   "outputs": [],
   "source": []
  }
 ],
 "metadata": {
  "kernelspec": {
   "display_name": "Python 3",
   "language": "python",
   "name": "python3"
  },
  "language_info": {
   "codemirror_mode": {
    "name": "ipython",
    "version": 3
   },
   "file_extension": ".py",
   "mimetype": "text/x-python",
   "name": "python",
   "nbconvert_exporter": "python",
   "pygments_lexer": "ipython3",
   "version": "3.6.8"
  }
 },
 "nbformat": 4,
 "nbformat_minor": 2
}
