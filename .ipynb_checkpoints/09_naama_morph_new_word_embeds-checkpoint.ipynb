{
 "cells": [
  {
   "cell_type": "markdown",
   "metadata": {},
   "source": [
    "## Prepare corpus"
   ]
  },
  {
   "cell_type": "code",
   "execution_count": 1,
   "metadata": {},
   "outputs": [],
   "source": [
    "import os\n",
    "os.environ[\"CUDA_DEVICE_ORDER\"]=\"PCI_BUS_ID\";\n",
    " \n",
    "# The GPU id to use, usually either \"0\" or \"1\";\n",
    "os.environ[\"CUDA_VISIBLE_DEVICES\"]=\"1\";  "
   ]
  },
  {
   "cell_type": "code",
   "execution_count": 2,
   "metadata": {},
   "outputs": [],
   "source": [
    "%load_ext autoreload\n",
    "%autoreload 2"
   ]
  },
  {
   "cell_type": "code",
   "execution_count": 3,
   "metadata": {
    "ExecuteTime": {
     "end_time": "2019-03-13T07:20:24.034028Z",
     "start_time": "2019-03-13T07:20:22.687626Z"
    }
   },
   "outputs": [],
   "source": [
    "%matplotlib inline"
   ]
  },
  {
   "cell_type": "code",
   "execution_count": 4,
   "metadata": {
    "ExecuteTime": {
     "end_time": "2019-03-13T07:20:24.382406Z",
     "start_time": "2019-03-13T07:20:24.037019Z"
    }
   },
   "outputs": [],
   "source": [
    "import pandas as pd\n",
    "import numpy as np"
   ]
  },
  {
   "cell_type": "code",
   "execution_count": 5,
   "metadata": {
    "ExecuteTime": {
     "end_time": "2019-03-13T07:20:27.996727Z",
     "start_time": "2019-03-13T07:20:24.385088Z"
    }
   },
   "outputs": [],
   "source": [
    "import matplotlib.pyplot as plt\n",
    "import seaborn as sns\n",
    "sns.set_context('paper')\n",
    "sns.set_style('white')"
   ]
  },
  {
   "cell_type": "code",
   "execution_count": 6,
   "metadata": {
    "ExecuteTime": {
     "end_time": "2019-03-13T07:20:28.016424Z",
     "start_time": "2019-03-13T07:20:27.999427Z"
    }
   },
   "outputs": [],
   "source": [
    "from conlleval import evaluate"
   ]
  },
  {
   "cell_type": "code",
   "execution_count": 7,
   "metadata": {},
   "outputs": [
    {
     "name": "stderr",
     "output_type": "stream",
     "text": [
      "Using TensorFlow backend.\n"
     ]
    }
   ],
   "source": [
    "from ner_utils import *"
   ]
  },
  {
   "cell_type": "code",
   "execution_count": 8,
   "metadata": {},
   "outputs": [],
   "source": [
    "initialize_random_seeds()"
   ]
  },
  {
   "cell_type": "code",
   "execution_count": 9,
   "metadata": {
    "ExecuteTime": {
     "end_time": "2019-03-13T07:20:28.031339Z",
     "start_time": "2019-03-13T07:20:28.018375Z"
    }
   },
   "outputs": [],
   "source": [
    "corpus_path = r'tagged_corpus.txt'"
   ]
  },
  {
   "cell_type": "code",
   "execution_count": 10,
   "metadata": {
    "ExecuteTime": {
     "end_time": "2019-03-13T07:20:28.358468Z",
     "start_time": "2019-03-13T07:20:28.034331Z"
    }
   },
   "outputs": [],
   "source": [
    "conll = pd.read_csv('joint_with_orig_form.conll')"
   ]
  },
  {
   "cell_type": "code",
   "execution_count": 11,
   "metadata": {
    "ExecuteTime": {
     "end_time": "2019-03-13T07:20:32.555286Z",
     "start_time": "2019-03-13T07:20:28.360460Z"
    },
    "scrolled": true
   },
   "outputs": [
    {
     "data": {
      "text/plain": [
       "sent\n",
       "1       0\n",
       "2       0\n",
       "3       0\n",
       "4       0\n",
       "5       0\n",
       "6       0\n",
       "7       0\n",
       "8       0\n",
       "9       0\n",
       "10      0\n",
       "11      0\n",
       "12      0\n",
       "13      0\n",
       "14      0\n",
       "15      0\n",
       "16      0\n",
       "17      0\n",
       "18      0\n",
       "19      0\n",
       "20      0\n",
       "21      0\n",
       "22      0\n",
       "23      0\n",
       "24      0\n",
       "25      0\n",
       "26      0\n",
       "27      0\n",
       "28      0\n",
       "29      0\n",
       "30      0\n",
       "       ..\n",
       "3453    0\n",
       "3454    0\n",
       "3455    0\n",
       "3456    0\n",
       "3457    0\n",
       "3458    0\n",
       "3459    0\n",
       "3460    0\n",
       "3461    0\n",
       "3462    0\n",
       "3463    0\n",
       "3464    0\n",
       "3465    0\n",
       "3466    0\n",
       "3467    0\n",
       "3468    0\n",
       "3469    0\n",
       "3470    0\n",
       "3471    0\n",
       "3472    0\n",
       "3473    0\n",
       "3474    0\n",
       "3475    0\n",
       "3476    0\n",
       "3477    0\n",
       "3478    0\n",
       "3479    0\n",
       "3480    0\n",
       "3481    0\n",
       "3482    0\n",
       "Length: 3482, dtype: int64"
      ]
     },
     "execution_count": 11,
     "metadata": {},
     "output_type": "execute_result"
    }
   ],
   "source": [
    "sents = []\n",
    "\n",
    "def add_to_sents(g):\n",
    "    sents.append(list(zip(g.sort_values('ID').WORD.tolist(),g.sort_values('ID').orig_form.tolist())))\n",
    "    return 0\n",
    "conll.groupby('sent').apply(add_to_sents)"
   ]
  },
  {
   "cell_type": "code",
   "execution_count": 12,
   "metadata": {
    "ExecuteTime": {
     "end_time": "2019-03-13T07:20:32.618078Z",
     "start_time": "2019-03-13T07:20:32.566219Z"
    }
   },
   "outputs": [
    {
     "data": {
      "text/plain": [
       "[63068, 63069, 63069, 63070, 63071]"
      ]
     },
     "execution_count": 12,
     "metadata": {},
     "output_type": "execute_result"
    }
   ],
   "source": [
    "start_idx = 0\n",
    "new_numbering = []\n",
    "for sent in sents[1:]:\n",
    "    for w, form in sent:\n",
    "        new_numbering.append(w+start_idx)\n",
    "    start_idx = w+start_idx\n",
    "    \n",
    "new_numbering[-5:]"
   ]
  },
  {
   "cell_type": "code",
   "execution_count": 13,
   "metadata": {
    "ExecuteTime": {
     "end_time": "2019-03-13T07:20:32.669938Z",
     "start_time": "2019-03-13T07:20:32.627056Z"
    }
   },
   "outputs": [
    {
     "data": {
      "text/plain": [
       "0      1\n",
       "1      2\n",
       "2      2\n",
       "3      3\n",
       "4      4\n",
       "5      5\n",
       "6      6\n",
       "7      7\n",
       "8      8\n",
       "9      9\n",
       "10    10\n",
       "11    11\n",
       "12    12\n",
       "13    13\n",
       "14    14\n",
       "15    15\n",
       "16    16\n",
       "17    17\n",
       "18    17\n",
       "19    17\n",
       "Name: word_global, dtype: int64"
      ]
     },
     "execution_count": 13,
     "metadata": {},
     "output_type": "execute_result"
    }
   ],
   "source": [
    "conll['word_global'] = new_numbering\n",
    "conll.word_global.head(20)"
   ]
  },
  {
   "cell_type": "code",
   "execution_count": 14,
   "metadata": {
    "ExecuteTime": {
     "end_time": "2019-03-13T07:20:32.998064Z",
     "start_time": "2019-03-13T07:20:32.672931Z"
    }
   },
   "outputs": [
    {
     "data": {
      "text/html": [
       "<div>\n",
       "<style scoped>\n",
       "    .dataframe tbody tr th:only-of-type {\n",
       "        vertical-align: middle;\n",
       "    }\n",
       "\n",
       "    .dataframe tbody tr th {\n",
       "        vertical-align: top;\n",
       "    }\n",
       "\n",
       "    .dataframe thead th {\n",
       "        text-align: right;\n",
       "    }\n",
       "</style>\n",
       "<table border=\"1\" class=\"dataframe\">\n",
       "  <thead>\n",
       "    <tr style=\"text-align: right;\">\n",
       "      <th></th>\n",
       "      <th>index</th>\n",
       "      <th>corpus_form</th>\n",
       "      <th>NER</th>\n",
       "    </tr>\n",
       "  </thead>\n",
       "  <tbody>\n",
       "    <tr>\n",
       "      <th>0</th>\n",
       "      <td>1</td>\n",
       "      <td>נראה</td>\n",
       "      <td>O</td>\n",
       "    </tr>\n",
       "    <tr>\n",
       "      <th>1</th>\n",
       "      <td>2</td>\n",
       "      <td>שאביטל</td>\n",
       "      <td>I_PERS</td>\n",
       "    </tr>\n",
       "    <tr>\n",
       "      <th>2</th>\n",
       "      <td>3</td>\n",
       "      <td>אברג'יל</td>\n",
       "      <td>I_PERS</td>\n",
       "    </tr>\n",
       "    <tr>\n",
       "      <th>3</th>\n",
       "      <td>4</td>\n",
       "      <td>(</td>\n",
       "      <td>O</td>\n",
       "    </tr>\n",
       "    <tr>\n",
       "      <th>4</th>\n",
       "      <td>5</td>\n",
       "      <td>לשעבר</td>\n",
       "      <td>O</td>\n",
       "    </tr>\n",
       "    <tr>\n",
       "      <th>5</th>\n",
       "      <td>6</td>\n",
       "      <td>אוז</td>\n",
       "      <td>I_PERS</td>\n",
       "    </tr>\n",
       "    <tr>\n",
       "      <th>6</th>\n",
       "      <td>7</td>\n",
       "      <td>)</td>\n",
       "      <td>O</td>\n",
       "    </tr>\n",
       "    <tr>\n",
       "      <th>7</th>\n",
       "      <td>8</td>\n",
       "      <td>,</td>\n",
       "      <td>O</td>\n",
       "    </tr>\n",
       "    <tr>\n",
       "      <th>8</th>\n",
       "      <td>9</td>\n",
       "      <td>אוהבת</td>\n",
       "      <td>O</td>\n",
       "    </tr>\n",
       "    <tr>\n",
       "      <th>9</th>\n",
       "      <td>10</td>\n",
       "      <td>לא</td>\n",
       "      <td>O</td>\n",
       "    </tr>\n",
       "    <tr>\n",
       "      <th>10</th>\n",
       "      <td>11</td>\n",
       "      <td>רק</td>\n",
       "      <td>O</td>\n",
       "    </tr>\n",
       "    <tr>\n",
       "      <th>11</th>\n",
       "      <td>12</td>\n",
       "      <td>לשחק</td>\n",
       "      <td>O</td>\n",
       "    </tr>\n",
       "    <tr>\n",
       "      <th>12</th>\n",
       "      <td>13</td>\n",
       "      <td>אצל</td>\n",
       "      <td>O</td>\n",
       "    </tr>\n",
       "    <tr>\n",
       "      <th>13</th>\n",
       "      <td>14</td>\n",
       "      <td>דן</td>\n",
       "      <td>I_PERS</td>\n",
       "    </tr>\n",
       "    <tr>\n",
       "      <th>14</th>\n",
       "      <td>15</td>\n",
       "      <td>תורג'מן</td>\n",
       "      <td>I_PERS</td>\n",
       "    </tr>\n",
       "    <tr>\n",
       "      <th>15</th>\n",
       "      <td>16</td>\n",
       "      <td>(</td>\n",
       "      <td>O</td>\n",
       "    </tr>\n",
       "    <tr>\n",
       "      <th>16</th>\n",
       "      <td>17</td>\n",
       "      <td>בסרט</td>\n",
       "      <td>O</td>\n",
       "    </tr>\n",
       "    <tr>\n",
       "      <th>17</th>\n",
       "      <td>18</td>\n",
       "      <td>\"</td>\n",
       "      <td>O</td>\n",
       "    </tr>\n",
       "    <tr>\n",
       "      <th>18</th>\n",
       "      <td>19</td>\n",
       "      <td>משהו</td>\n",
       "      <td>I_MISC__ENT</td>\n",
       "    </tr>\n",
       "    <tr>\n",
       "      <th>19</th>\n",
       "      <td>20</td>\n",
       "      <td>מתוק</td>\n",
       "      <td>I_MISC__ENT</td>\n",
       "    </tr>\n",
       "    <tr>\n",
       "      <th>20</th>\n",
       "      <td>21</td>\n",
       "      <td>\"</td>\n",
       "      <td>O</td>\n",
       "    </tr>\n",
       "    <tr>\n",
       "      <th>21</th>\n",
       "      <td>22</td>\n",
       "      <td>)</td>\n",
       "      <td>O</td>\n",
       "    </tr>\n",
       "    <tr>\n",
       "      <th>22</th>\n",
       "      <td>23</td>\n",
       "      <td>,</td>\n",
       "      <td>O</td>\n",
       "    </tr>\n",
       "    <tr>\n",
       "      <th>23</th>\n",
       "      <td>24</td>\n",
       "      <td>אלא</td>\n",
       "      <td>O</td>\n",
       "    </tr>\n",
       "    <tr>\n",
       "      <th>24</th>\n",
       "      <td>25</td>\n",
       "      <td>גם</td>\n",
       "      <td>O</td>\n",
       "    </tr>\n",
       "    <tr>\n",
       "      <th>25</th>\n",
       "      <td>26</td>\n",
       "      <td>איתו</td>\n",
       "      <td>O</td>\n",
       "    </tr>\n",
       "    <tr>\n",
       "      <th>26</th>\n",
       "      <td>27</td>\n",
       "      <td>.</td>\n",
       "      <td>O</td>\n",
       "    </tr>\n",
       "    <tr>\n",
       "      <th>27</th>\n",
       "      <td>28</td>\n",
       "      <td>תורג'מן</td>\n",
       "      <td>I_PERS</td>\n",
       "    </tr>\n",
       "    <tr>\n",
       "      <th>28</th>\n",
       "      <td>29</td>\n",
       "      <td>,</td>\n",
       "      <td>O</td>\n",
       "    </tr>\n",
       "    <tr>\n",
       "      <th>29</th>\n",
       "      <td>30</td>\n",
       "      <td>שכבר</td>\n",
       "      <td>O</td>\n",
       "    </tr>\n",
       "    <tr>\n",
       "      <th>30</th>\n",
       "      <td>31</td>\n",
       "      <td>מזמן</td>\n",
       "      <td>O</td>\n",
       "    </tr>\n",
       "    <tr>\n",
       "      <th>31</th>\n",
       "      <td>32</td>\n",
       "      <td>לא</td>\n",
       "      <td>O</td>\n",
       "    </tr>\n",
       "    <tr>\n",
       "      <th>32</th>\n",
       "      <td>33</td>\n",
       "      <td>גר</td>\n",
       "      <td>O</td>\n",
       "    </tr>\n",
       "    <tr>\n",
       "      <th>33</th>\n",
       "      <td>34</td>\n",
       "      <td>תחת</td>\n",
       "      <td>O</td>\n",
       "    </tr>\n",
       "    <tr>\n",
       "      <th>34</th>\n",
       "      <td>35</td>\n",
       "      <td>קורת</td>\n",
       "      <td>O</td>\n",
       "    </tr>\n",
       "    <tr>\n",
       "      <th>35</th>\n",
       "      <td>36</td>\n",
       "      <td>גג</td>\n",
       "      <td>O</td>\n",
       "    </tr>\n",
       "    <tr>\n",
       "      <th>36</th>\n",
       "      <td>37</td>\n",
       "      <td>אחת</td>\n",
       "      <td>O</td>\n",
       "    </tr>\n",
       "    <tr>\n",
       "      <th>37</th>\n",
       "      <td>38</td>\n",
       "      <td>עם</td>\n",
       "      <td>O</td>\n",
       "    </tr>\n",
       "    <tr>\n",
       "      <th>38</th>\n",
       "      <td>39</td>\n",
       "      <td>ענת</td>\n",
       "      <td>I_PERS</td>\n",
       "    </tr>\n",
       "    <tr>\n",
       "      <th>39</th>\n",
       "      <td>40</td>\n",
       "      <td>עצמון</td>\n",
       "      <td>I_PERS</td>\n",
       "    </tr>\n",
       "    <tr>\n",
       "      <th>40</th>\n",
       "      <td>41</td>\n",
       "      <td>,</td>\n",
       "      <td>O</td>\n",
       "    </tr>\n",
       "    <tr>\n",
       "      <th>41</th>\n",
       "      <td>42</td>\n",
       "      <td>הגיע</td>\n",
       "      <td>O</td>\n",
       "    </tr>\n",
       "    <tr>\n",
       "      <th>42</th>\n",
       "      <td>43</td>\n",
       "      <td>ביום</td>\n",
       "      <td>I_DATE</td>\n",
       "    </tr>\n",
       "    <tr>\n",
       "      <th>43</th>\n",
       "      <td>44</td>\n",
       "      <td>חמישי</td>\n",
       "      <td>I_DATE</td>\n",
       "    </tr>\n",
       "    <tr>\n",
       "      <th>44</th>\n",
       "      <td>45</td>\n",
       "      <td>האחרון</td>\n",
       "      <td>O</td>\n",
       "    </tr>\n",
       "    <tr>\n",
       "      <th>45</th>\n",
       "      <td>46</td>\n",
       "      <td>לבית</td>\n",
       "      <td>O</td>\n",
       "    </tr>\n",
       "    <tr>\n",
       "      <th>46</th>\n",
       "      <td>47</td>\n",
       "      <td>קפה-מסעדה</td>\n",
       "      <td>O</td>\n",
       "    </tr>\n",
       "    <tr>\n",
       "      <th>47</th>\n",
       "      <td>48</td>\n",
       "      <td>\"</td>\n",
       "      <td>O</td>\n",
       "    </tr>\n",
       "    <tr>\n",
       "      <th>48</th>\n",
       "      <td>49</td>\n",
       "      <td>אוליב</td>\n",
       "      <td>I_ORG</td>\n",
       "    </tr>\n",
       "    <tr>\n",
       "      <th>49</th>\n",
       "      <td>50</td>\n",
       "      <td>\"</td>\n",
       "      <td>O</td>\n",
       "    </tr>\n",
       "  </tbody>\n",
       "</table>\n",
       "</div>"
      ],
      "text/plain": [
       "    index corpus_form          NER\n",
       "0       1        נראה            O\n",
       "1       2      שאביטל       I_PERS\n",
       "2       3     אברג'יל       I_PERS\n",
       "3       4           (            O\n",
       "4       5       לשעבר            O\n",
       "5       6         אוז       I_PERS\n",
       "6       7           )            O\n",
       "7       8           ,            O\n",
       "8       9       אוהבת            O\n",
       "9      10          לא            O\n",
       "10     11          רק            O\n",
       "11     12        לשחק            O\n",
       "12     13         אצל            O\n",
       "13     14          דן       I_PERS\n",
       "14     15     תורג'מן       I_PERS\n",
       "15     16           (            O\n",
       "16     17        בסרט            O\n",
       "17     18           \"            O\n",
       "18     19        משהו  I_MISC__ENT\n",
       "19     20        מתוק  I_MISC__ENT\n",
       "20     21           \"            O\n",
       "21     22           )            O\n",
       "22     23           ,            O\n",
       "23     24         אלא            O\n",
       "24     25          גם            O\n",
       "25     26        איתו            O\n",
       "26     27           .            O\n",
       "27     28     תורג'מן       I_PERS\n",
       "28     29           ,            O\n",
       "29     30        שכבר            O\n",
       "30     31        מזמן            O\n",
       "31     32          לא            O\n",
       "32     33          גר            O\n",
       "33     34         תחת            O\n",
       "34     35        קורת            O\n",
       "35     36          גג            O\n",
       "36     37         אחת            O\n",
       "37     38          עם            O\n",
       "38     39         ענת       I_PERS\n",
       "39     40       עצמון       I_PERS\n",
       "40     41           ,            O\n",
       "41     42        הגיע            O\n",
       "42     43        ביום       I_DATE\n",
       "43     44       חמישי       I_DATE\n",
       "44     45      האחרון            O\n",
       "45     46        לבית            O\n",
       "46     47   קפה-מסעדה            O\n",
       "47     48           \"            O\n",
       "48     49       אוליב        I_ORG\n",
       "49     50           \"            O"
      ]
     },
     "execution_count": 14,
     "metadata": {},
     "output_type": "execute_result"
    }
   ],
   "source": [
    "tg = pd.read_csv(corpus_path, sep=' ', skiprows=1, names=['corpus_form', 'NER'], quoting=3).reset_index()\n",
    "tg['index'] = tg['index']+1\n",
    "tg.head(50)"
   ]
  },
  {
   "cell_type": "code",
   "execution_count": 15,
   "metadata": {
    "ExecuteTime": {
     "end_time": "2019-03-13T07:20:33.200522Z",
     "start_time": "2019-03-13T07:20:33.003048Z"
    }
   },
   "outputs": [],
   "source": [
    "conll = conll.merge(tg, how='left', left_on='word_global', right_on='index')"
   ]
  },
  {
   "cell_type": "code",
   "execution_count": 16,
   "metadata": {
    "ExecuteTime": {
     "end_time": "2019-03-13T07:20:33.241414Z",
     "start_time": "2019-03-13T07:20:33.202518Z"
    }
   },
   "outputs": [
    {
     "data": {
      "text/html": [
       "<div>\n",
       "<style scoped>\n",
       "    .dataframe tbody tr th:only-of-type {\n",
       "        vertical-align: middle;\n",
       "    }\n",
       "\n",
       "    .dataframe tbody tr th {\n",
       "        vertical-align: top;\n",
       "    }\n",
       "\n",
       "    .dataframe thead th {\n",
       "        text-align: right;\n",
       "    }\n",
       "</style>\n",
       "<table border=\"1\" class=\"dataframe\">\n",
       "  <thead>\n",
       "    <tr style=\"text-align: right;\">\n",
       "      <th></th>\n",
       "      <th>ID</th>\n",
       "      <th>FORM</th>\n",
       "      <th>LEMMA</th>\n",
       "      <th>UPOS</th>\n",
       "      <th>XPOS</th>\n",
       "      <th>FEATS</th>\n",
       "      <th>HEAD</th>\n",
       "      <th>DEPREL</th>\n",
       "      <th>DEPS</th>\n",
       "      <th>MISC</th>\n",
       "      <th>...</th>\n",
       "      <th>head_form</th>\n",
       "      <th>head_upos</th>\n",
       "      <th>WORD</th>\n",
       "      <th>lat_idx_start</th>\n",
       "      <th>lat_idx_end</th>\n",
       "      <th>orig_form</th>\n",
       "      <th>word_global</th>\n",
       "      <th>index</th>\n",
       "      <th>corpus_form</th>\n",
       "      <th>NER</th>\n",
       "    </tr>\n",
       "  </thead>\n",
       "  <tbody>\n",
       "    <tr>\n",
       "      <th>0</th>\n",
       "      <td>1</td>\n",
       "      <td>נראה</td>\n",
       "      <td>NaN</td>\n",
       "      <td>VB</td>\n",
       "      <td>VB</td>\n",
       "      <td>NaN</td>\n",
       "      <td>0</td>\n",
       "      <td>ROOT</td>\n",
       "      <td>_</td>\n",
       "      <td>_</td>\n",
       "      <td>...</td>\n",
       "      <td>NaN</td>\n",
       "      <td>NaN</td>\n",
       "      <td>1</td>\n",
       "      <td>0</td>\n",
       "      <td>1</td>\n",
       "      <td>נראה</td>\n",
       "      <td>1</td>\n",
       "      <td>1</td>\n",
       "      <td>נראה</td>\n",
       "      <td>O</td>\n",
       "    </tr>\n",
       "    <tr>\n",
       "      <th>1</th>\n",
       "      <td>2</td>\n",
       "      <td>ש</td>\n",
       "      <td>NaN</td>\n",
       "      <td>REL</td>\n",
       "      <td>REL</td>\n",
       "      <td>NaN</td>\n",
       "      <td>1</td>\n",
       "      <td>dep</td>\n",
       "      <td>_</td>\n",
       "      <td>_</td>\n",
       "      <td>...</td>\n",
       "      <td>נראה</td>\n",
       "      <td>VB</td>\n",
       "      <td>2</td>\n",
       "      <td>1</td>\n",
       "      <td>2</td>\n",
       "      <td>שאביטל</td>\n",
       "      <td>2</td>\n",
       "      <td>2</td>\n",
       "      <td>שאביטל</td>\n",
       "      <td>I_PERS</td>\n",
       "    </tr>\n",
       "    <tr>\n",
       "      <th>2</th>\n",
       "      <td>3</td>\n",
       "      <td>אביטל</td>\n",
       "      <td>NaN</td>\n",
       "      <td>NNP</td>\n",
       "      <td>NNP</td>\n",
       "      <td>NaN</td>\n",
       "      <td>0</td>\n",
       "      <td>ROOT</td>\n",
       "      <td>_</td>\n",
       "      <td>_</td>\n",
       "      <td>...</td>\n",
       "      <td>NaN</td>\n",
       "      <td>NaN</td>\n",
       "      <td>2</td>\n",
       "      <td>2</td>\n",
       "      <td>3</td>\n",
       "      <td>שאביטל</td>\n",
       "      <td>2</td>\n",
       "      <td>2</td>\n",
       "      <td>שאביטל</td>\n",
       "      <td>I_PERS</td>\n",
       "    </tr>\n",
       "    <tr>\n",
       "      <th>3</th>\n",
       "      <td>4</td>\n",
       "      <td>אברג'יל</td>\n",
       "      <td>NaN</td>\n",
       "      <td>NNP</td>\n",
       "      <td>NNP</td>\n",
       "      <td>NaN</td>\n",
       "      <td>3</td>\n",
       "      <td>complmn</td>\n",
       "      <td>_</td>\n",
       "      <td>_</td>\n",
       "      <td>...</td>\n",
       "      <td>אביטל</td>\n",
       "      <td>NNP</td>\n",
       "      <td>3</td>\n",
       "      <td>3</td>\n",
       "      <td>4</td>\n",
       "      <td>אברג'יל</td>\n",
       "      <td>3</td>\n",
       "      <td>3</td>\n",
       "      <td>אברג'יל</td>\n",
       "      <td>I_PERS</td>\n",
       "    </tr>\n",
       "    <tr>\n",
       "      <th>4</th>\n",
       "      <td>5</td>\n",
       "      <td>(</td>\n",
       "      <td>NaN</td>\n",
       "      <td>yyLRB</td>\n",
       "      <td>yyLRB</td>\n",
       "      <td>NaN</td>\n",
       "      <td>4</td>\n",
       "      <td>pcomp</td>\n",
       "      <td>_</td>\n",
       "      <td>_</td>\n",
       "      <td>...</td>\n",
       "      <td>אברג'יל</td>\n",
       "      <td>NNP</td>\n",
       "      <td>4</td>\n",
       "      <td>4</td>\n",
       "      <td>5</td>\n",
       "      <td>(</td>\n",
       "      <td>4</td>\n",
       "      <td>4</td>\n",
       "      <td>(</td>\n",
       "      <td>O</td>\n",
       "    </tr>\n",
       "  </tbody>\n",
       "</table>\n",
       "<p>5 rows × 21 columns</p>\n",
       "</div>"
      ],
      "text/plain": [
       "   ID     FORM  LEMMA   UPOS   XPOS  FEATS  HEAD   DEPREL DEPS MISC  ...  \\\n",
       "0   1     נראה    NaN     VB     VB    NaN     0     ROOT    _    _  ...   \n",
       "1   2        ש    NaN    REL    REL    NaN     1      dep    _    _  ...   \n",
       "2   3    אביטל    NaN    NNP    NNP    NaN     0     ROOT    _    _  ...   \n",
       "3   4  אברג'יל    NaN    NNP    NNP    NaN     3  complmn    _    _  ...   \n",
       "4   5        (    NaN  yyLRB  yyLRB    NaN     4    pcomp    _    _  ...   \n",
       "\n",
       "   head_form head_upos WORD  lat_idx_start  lat_idx_end  orig_form  \\\n",
       "0        NaN       NaN    1              0            1       נראה   \n",
       "1       נראה        VB    2              1            2     שאביטל   \n",
       "2        NaN       NaN    2              2            3     שאביטל   \n",
       "3      אביטל       NNP    3              3            4    אברג'יל   \n",
       "4    אברג'יל       NNP    4              4            5          (   \n",
       "\n",
       "  word_global  index  corpus_form     NER  \n",
       "0           1      1         נראה       O  \n",
       "1           2      2       שאביטל  I_PERS  \n",
       "2           2      2       שאביטל  I_PERS  \n",
       "3           3      3      אברג'יל  I_PERS  \n",
       "4           4      4            (       O  \n",
       "\n",
       "[5 rows x 21 columns]"
      ]
     },
     "execution_count": 16,
     "metadata": {},
     "output_type": "execute_result"
    }
   ],
   "source": [
    "conll.head()"
   ]
  },
  {
   "cell_type": "code",
   "execution_count": 17,
   "metadata": {
    "ExecuteTime": {
     "end_time": "2019-03-13T07:20:33.255374Z",
     "start_time": "2019-03-13T07:20:33.246401Z"
    }
   },
   "outputs": [
    {
     "data": {
      "text/plain": [
       "[2, 1, 1, 1, 1]"
      ]
     },
     "execution_count": 17,
     "metadata": {},
     "output_type": "execute_result"
    }
   ],
   "source": [
    "a = [1,2,3,4]\n",
    "[2] + [1]*4"
   ]
  },
  {
   "cell_type": "code",
   "execution_count": 18,
   "metadata": {
    "ExecuteTime": {
     "end_time": "2019-03-13T07:20:37.434203Z",
     "start_time": "2019-03-13T07:20:33.261358Z"
    }
   },
   "outputs": [
    {
     "data": {
      "text/html": [
       "<div>\n",
       "<style scoped>\n",
       "    .dataframe tbody tr th:only-of-type {\n",
       "        vertical-align: middle;\n",
       "    }\n",
       "\n",
       "    .dataframe tbody tr th {\n",
       "        vertical-align: top;\n",
       "    }\n",
       "\n",
       "    .dataframe thead th {\n",
       "        text-align: right;\n",
       "    }\n",
       "</style>\n",
       "<table border=\"1\" class=\"dataframe\">\n",
       "  <thead>\n",
       "    <tr style=\"text-align: right;\">\n",
       "      <th></th>\n",
       "    </tr>\n",
       "  </thead>\n",
       "  <tbody>\n",
       "  </tbody>\n",
       "</table>\n",
       "</div>"
      ],
      "text/plain": [
       "Empty DataFrame\n",
       "Columns: []\n",
       "Index: []"
      ]
     },
     "execution_count": 18,
     "metadata": {},
     "output_type": "execute_result"
    }
   ],
   "source": [
    "new_tags = []\n",
    "def fix_bio(g):\n",
    "    sz = g.shape[0]\n",
    "    frst = g.NER.iat[0]\n",
    "    if frst.startswith('B_'):\n",
    "        tgs = [g.NER.iat[0]] + ['I_'+frst[2:]]*(sz-1)\n",
    "    else:\n",
    "        tgs = [frst]*sz\n",
    "    new_tags.extend(tgs)\n",
    "\n",
    "conll.groupby('word_global').apply(fix_bio)\n",
    "            "
   ]
  },
  {
   "cell_type": "code",
   "execution_count": 19,
   "metadata": {
    "ExecuteTime": {
     "end_time": "2019-03-13T07:20:37.449163Z",
     "start_time": "2019-03-13T07:20:37.439189Z"
    }
   },
   "outputs": [],
   "source": [
    "conll['NER_fixed'] = new_tags[1:]"
   ]
  },
  {
   "cell_type": "code",
   "execution_count": 20,
   "metadata": {
    "ExecuteTime": {
     "end_time": "2019-03-13T07:20:37.497052Z",
     "start_time": "2019-03-13T07:20:37.452156Z"
    }
   },
   "outputs": [
    {
     "data": {
      "text/html": [
       "<div>\n",
       "<style scoped>\n",
       "    .dataframe tbody tr th:only-of-type {\n",
       "        vertical-align: middle;\n",
       "    }\n",
       "\n",
       "    .dataframe tbody tr th {\n",
       "        vertical-align: top;\n",
       "    }\n",
       "\n",
       "    .dataframe thead th {\n",
       "        text-align: right;\n",
       "    }\n",
       "</style>\n",
       "<table border=\"1\" class=\"dataframe\">\n",
       "  <thead>\n",
       "    <tr style=\"text-align: right;\">\n",
       "      <th></th>\n",
       "      <th>0</th>\n",
       "      <th>1</th>\n",
       "      <th>2</th>\n",
       "      <th>3</th>\n",
       "      <th>4</th>\n",
       "    </tr>\n",
       "  </thead>\n",
       "  <tbody>\n",
       "    <tr>\n",
       "      <th>ID</th>\n",
       "      <td>1</td>\n",
       "      <td>2</td>\n",
       "      <td>3</td>\n",
       "      <td>4</td>\n",
       "      <td>5</td>\n",
       "    </tr>\n",
       "    <tr>\n",
       "      <th>FORM</th>\n",
       "      <td>נראה</td>\n",
       "      <td>ש</td>\n",
       "      <td>אביטל</td>\n",
       "      <td>אברג'יל</td>\n",
       "      <td>(</td>\n",
       "    </tr>\n",
       "    <tr>\n",
       "      <th>LEMMA</th>\n",
       "      <td>NaN</td>\n",
       "      <td>NaN</td>\n",
       "      <td>NaN</td>\n",
       "      <td>NaN</td>\n",
       "      <td>NaN</td>\n",
       "    </tr>\n",
       "    <tr>\n",
       "      <th>UPOS</th>\n",
       "      <td>VB</td>\n",
       "      <td>REL</td>\n",
       "      <td>NNP</td>\n",
       "      <td>NNP</td>\n",
       "      <td>yyLRB</td>\n",
       "    </tr>\n",
       "    <tr>\n",
       "      <th>XPOS</th>\n",
       "      <td>VB</td>\n",
       "      <td>REL</td>\n",
       "      <td>NNP</td>\n",
       "      <td>NNP</td>\n",
       "      <td>yyLRB</td>\n",
       "    </tr>\n",
       "    <tr>\n",
       "      <th>FEATS</th>\n",
       "      <td>NaN</td>\n",
       "      <td>NaN</td>\n",
       "      <td>NaN</td>\n",
       "      <td>NaN</td>\n",
       "      <td>NaN</td>\n",
       "    </tr>\n",
       "    <tr>\n",
       "      <th>HEAD</th>\n",
       "      <td>0</td>\n",
       "      <td>1</td>\n",
       "      <td>0</td>\n",
       "      <td>3</td>\n",
       "      <td>4</td>\n",
       "    </tr>\n",
       "    <tr>\n",
       "      <th>DEPREL</th>\n",
       "      <td>ROOT</td>\n",
       "      <td>dep</td>\n",
       "      <td>ROOT</td>\n",
       "      <td>complmn</td>\n",
       "      <td>pcomp</td>\n",
       "    </tr>\n",
       "    <tr>\n",
       "      <th>DEPS</th>\n",
       "      <td>_</td>\n",
       "      <td>_</td>\n",
       "      <td>_</td>\n",
       "      <td>_</td>\n",
       "      <td>_</td>\n",
       "    </tr>\n",
       "    <tr>\n",
       "      <th>MISC</th>\n",
       "      <td>_</td>\n",
       "      <td>_</td>\n",
       "      <td>_</td>\n",
       "      <td>_</td>\n",
       "      <td>_</td>\n",
       "    </tr>\n",
       "    <tr>\n",
       "      <th>sent</th>\n",
       "      <td>1</td>\n",
       "      <td>1</td>\n",
       "      <td>1</td>\n",
       "      <td>1</td>\n",
       "      <td>1</td>\n",
       "    </tr>\n",
       "    <tr>\n",
       "      <th>head_form</th>\n",
       "      <td>NaN</td>\n",
       "      <td>נראה</td>\n",
       "      <td>NaN</td>\n",
       "      <td>אביטל</td>\n",
       "      <td>אברג'יל</td>\n",
       "    </tr>\n",
       "    <tr>\n",
       "      <th>head_upos</th>\n",
       "      <td>NaN</td>\n",
       "      <td>VB</td>\n",
       "      <td>NaN</td>\n",
       "      <td>NNP</td>\n",
       "      <td>NNP</td>\n",
       "    </tr>\n",
       "    <tr>\n",
       "      <th>WORD</th>\n",
       "      <td>1</td>\n",
       "      <td>2</td>\n",
       "      <td>2</td>\n",
       "      <td>3</td>\n",
       "      <td>4</td>\n",
       "    </tr>\n",
       "    <tr>\n",
       "      <th>lat_idx_start</th>\n",
       "      <td>0</td>\n",
       "      <td>1</td>\n",
       "      <td>2</td>\n",
       "      <td>3</td>\n",
       "      <td>4</td>\n",
       "    </tr>\n",
       "    <tr>\n",
       "      <th>lat_idx_end</th>\n",
       "      <td>1</td>\n",
       "      <td>2</td>\n",
       "      <td>3</td>\n",
       "      <td>4</td>\n",
       "      <td>5</td>\n",
       "    </tr>\n",
       "    <tr>\n",
       "      <th>orig_form</th>\n",
       "      <td>נראה</td>\n",
       "      <td>שאביטל</td>\n",
       "      <td>שאביטל</td>\n",
       "      <td>אברג'יל</td>\n",
       "      <td>(</td>\n",
       "    </tr>\n",
       "    <tr>\n",
       "      <th>word_global</th>\n",
       "      <td>1</td>\n",
       "      <td>2</td>\n",
       "      <td>2</td>\n",
       "      <td>3</td>\n",
       "      <td>4</td>\n",
       "    </tr>\n",
       "    <tr>\n",
       "      <th>index</th>\n",
       "      <td>1</td>\n",
       "      <td>2</td>\n",
       "      <td>2</td>\n",
       "      <td>3</td>\n",
       "      <td>4</td>\n",
       "    </tr>\n",
       "    <tr>\n",
       "      <th>corpus_form</th>\n",
       "      <td>נראה</td>\n",
       "      <td>שאביטל</td>\n",
       "      <td>שאביטל</td>\n",
       "      <td>אברג'יל</td>\n",
       "      <td>(</td>\n",
       "    </tr>\n",
       "    <tr>\n",
       "      <th>NER</th>\n",
       "      <td>O</td>\n",
       "      <td>I_PERS</td>\n",
       "      <td>I_PERS</td>\n",
       "      <td>I_PERS</td>\n",
       "      <td>O</td>\n",
       "    </tr>\n",
       "    <tr>\n",
       "      <th>NER_fixed</th>\n",
       "      <td>O</td>\n",
       "      <td>I_PERS</td>\n",
       "      <td>I_PERS</td>\n",
       "      <td>I_PERS</td>\n",
       "      <td>O</td>\n",
       "    </tr>\n",
       "  </tbody>\n",
       "</table>\n",
       "</div>"
      ],
      "text/plain": [
       "                  0       1       2        3        4\n",
       "ID                1       2       3        4        5\n",
       "FORM           נראה       ש   אביטל  אברג'יל        (\n",
       "LEMMA           NaN     NaN     NaN      NaN      NaN\n",
       "UPOS             VB     REL     NNP      NNP    yyLRB\n",
       "XPOS             VB     REL     NNP      NNP    yyLRB\n",
       "FEATS           NaN     NaN     NaN      NaN      NaN\n",
       "HEAD              0       1       0        3        4\n",
       "DEPREL         ROOT     dep    ROOT  complmn    pcomp\n",
       "DEPS              _       _       _        _        _\n",
       "MISC              _       _       _        _        _\n",
       "sent              1       1       1        1        1\n",
       "head_form       NaN    נראה     NaN    אביטל  אברג'יל\n",
       "head_upos       NaN      VB     NaN      NNP      NNP\n",
       "WORD              1       2       2        3        4\n",
       "lat_idx_start     0       1       2        3        4\n",
       "lat_idx_end       1       2       3        4        5\n",
       "orig_form      נראה  שאביטל  שאביטל  אברג'יל        (\n",
       "word_global       1       2       2        3        4\n",
       "index             1       2       2        3        4\n",
       "corpus_form    נראה  שאביטל  שאביטל  אברג'יל        (\n",
       "NER               O  I_PERS  I_PERS   I_PERS        O\n",
       "NER_fixed         O  I_PERS  I_PERS   I_PERS        O"
      ]
     },
     "execution_count": 20,
     "metadata": {},
     "output_type": "execute_result"
    }
   ],
   "source": [
    "conll.head().T"
   ]
  },
  {
   "cell_type": "code",
   "execution_count": 21,
   "metadata": {
    "ExecuteTime": {
     "end_time": "2019-03-13T07:20:37.515984Z",
     "start_time": "2019-03-13T07:20:37.502022Z"
    }
   },
   "outputs": [],
   "source": [
    "x = conll"
   ]
  },
  {
   "cell_type": "code",
   "execution_count": 22,
   "metadata": {
    "ExecuteTime": {
     "end_time": "2019-03-13T07:20:37.755345Z",
     "start_time": "2019-03-13T07:20:37.518975Z"
    }
   },
   "outputs": [
    {
     "data": {
      "text/plain": [
       "sent\n",
       "1    [[נראה, VB, O], [ש, REL, I_PERS], [אביטל, NNP,...\n",
       "2    [[תורג'מן, NNP, I_PERS], [,, yyCM, O], [ש, REL...\n",
       "3    [[הפגישה, VB, O], [ה, DEF, O], [מרגשת, JJ, O],...\n",
       "4    [[ב, PREPOSITION, O], [ה, DEF, O], [שלב, NN, O...\n",
       "5    [[אברג'יל, NNP, I_PERS], [,, yyCM, O], [נבוכה,...\n",
       "dtype: object"
      ]
     },
     "execution_count": 22,
     "metadata": {},
     "output_type": "execute_result"
    }
   ],
   "source": [
    "sents = x.groupby('sent')[['FORM', 'UPOS', 'NER_fixed']].apply(lambda x: x.values.tolist())\n",
    "sents[:5]"
   ]
  },
  {
   "cell_type": "code",
   "execution_count": 23,
   "metadata": {
    "ExecuteTime": {
     "end_time": "2019-03-13T07:20:37.778283Z",
     "start_time": "2019-03-13T07:20:37.759334Z"
    }
   },
   "outputs": [
    {
     "data": {
      "text/plain": [
       "12936"
      ]
     },
     "execution_count": 23,
     "metadata": {},
     "output_type": "execute_result"
    }
   ],
   "source": [
    "words = list(set(x[\"FORM\"].values))\n",
    "n_words = len(words); n_words"
   ]
  },
  {
   "cell_type": "code",
   "execution_count": 24,
   "metadata": {
    "ExecuteTime": {
     "end_time": "2019-03-13T07:20:37.811197Z",
     "start_time": "2019-03-13T07:20:37.785263Z"
    }
   },
   "outputs": [
    {
     "data": {
      "text/plain": [
       "18"
      ]
     },
     "execution_count": 24,
     "metadata": {},
     "output_type": "execute_result"
    }
   ],
   "source": [
    "tags = list(set(x[\"NER_fixed\"].values))\n",
    "n_tags = len(tags); n_tags"
   ]
  },
  {
   "cell_type": "code",
   "execution_count": 25,
   "metadata": {
    "ExecuteTime": {
     "end_time": "2019-03-13T07:20:37.844108Z",
     "start_time": "2019-03-13T07:20:37.817179Z"
    }
   },
   "outputs": [],
   "source": [
    "max_len = 80\n",
    "word2idx = {w: i + 2 for i, w in enumerate(words)}\n",
    "word2idx[\"UNK\"] = 1\n",
    "word2idx[\"PAD\"] = 0\n",
    "idx2word = {i: w for w, i in word2idx.items()}\n",
    "tag2idx = {t: i + 1 for i, t in enumerate(tags)}\n",
    "tag2idx[\"PAD\"] = 0\n",
    "idx2tag = {i: w for w, i in tag2idx.items()}"
   ]
  },
  {
   "cell_type": "code",
   "execution_count": 26,
   "metadata": {
    "ExecuteTime": {
     "end_time": "2019-03-13T07:20:47.936127Z",
     "start_time": "2019-03-13T07:20:37.850093Z"
    }
   },
   "outputs": [],
   "source": [
    "from keras.preprocessing.sequence import pad_sequences\n",
    "X = [[word2idx[w[0]] for w in s] for s in sents]"
   ]
  },
  {
   "cell_type": "code",
   "execution_count": 27,
   "metadata": {
    "ExecuteTime": {
     "end_time": "2019-03-13T07:20:47.999954Z",
     "start_time": "2019-03-13T07:20:47.940116Z"
    }
   },
   "outputs": [],
   "source": [
    "X = pad_sequences(maxlen=max_len, sequences=X, value=word2idx[\"PAD\"], padding='post', truncating='post')"
   ]
  },
  {
   "cell_type": "code",
   "execution_count": 28,
   "metadata": {
    "ExecuteTime": {
     "end_time": "2019-03-13T07:20:48.014918Z",
     "start_time": "2019-03-13T07:20:48.004944Z"
    }
   },
   "outputs": [
    {
     "data": {
      "text/plain": [
       "array([ 6879,   312,  1005, 12109,   793,   938,  5342,  4772,  2052,\n",
       "         701,  5211,  5167,  3588,  7723,   312,  4943, 11097, 10843,\n",
       "        3234,  7024, 10843,  7108,  7093, 11146,  7510,  2053,  7956,\n",
       "        2053, 11097,  7878,   312,  6630, 12861,  7093,  1107,  6145,\n",
       "        7385,  6226, 11110,     0,     0,     0,     0,     0,     0,\n",
       "           0,     0,     0,     0,     0,     0,     0,     0,     0,\n",
       "           0,     0,     0,     0,     0,     0,     0,     0,     0,\n",
       "           0,     0,     0,     0,     0,     0,     0,     0,     0,\n",
       "           0,     0,     0,     0,     0,     0,     0,     0],\n",
       "      dtype=int32)"
      ]
     },
     "execution_count": 28,
     "metadata": {},
     "output_type": "execute_result"
    }
   ],
   "source": [
    "X[1]"
   ]
  },
  {
   "cell_type": "code",
   "execution_count": 29,
   "metadata": {
    "ExecuteTime": {
     "end_time": "2019-03-13T07:20:48.041845Z",
     "start_time": "2019-03-13T07:20:48.018906Z"
    }
   },
   "outputs": [
    {
     "data": {
      "text/plain": [
       "46"
      ]
     },
     "execution_count": 29,
     "metadata": {},
     "output_type": "execute_result"
    }
   ],
   "source": [
    "pos = list(set(x[\"UPOS\"].values))\n",
    "n_pos = len(pos); n_pos"
   ]
  },
  {
   "cell_type": "code",
   "execution_count": 30,
   "metadata": {
    "ExecuteTime": {
     "end_time": "2019-03-13T07:20:48.137589Z",
     "start_time": "2019-03-13T07:20:48.048826Z"
    }
   },
   "outputs": [
    {
     "data": {
      "text/plain": [
       "array([13, 29, 41, 41, 31, 30, 41, 27, 28, 16, 30, 30, 13,  3, 41, 41, 31,\n",
       "       18,  1, 17, 15, 17, 43, 15, 27, 28, 42, 30,  3,  9,  5,  0,  0,  0,\n",
       "        0,  0,  0,  0,  0,  0,  0,  0,  0,  0,  0,  0,  0,  0,  0,  0,  0,\n",
       "        0,  0,  0,  0,  0,  0,  0,  0,  0,  0,  0,  0,  0,  0,  0,  0,  0,\n",
       "        0,  0,  0,  0,  0,  0,  0,  0,  0,  0,  0,  0], dtype=int32)"
      ]
     },
     "execution_count": 30,
     "metadata": {},
     "output_type": "execute_result"
    }
   ],
   "source": [
    "pos2idx = {w: i+1 for i, w in enumerate(pos)}\n",
    "pos2idx[\"PAD\"] = 0\n",
    "X_pos = [[pos2idx[w[1]] for w in s] for s in sents]\n",
    "X_pos = pad_sequences(maxlen=max_len, sequences=X_pos, value=pos2idx[\"PAD\"], padding='post', truncating='post')\n",
    "X_pos[0]"
   ]
  },
  {
   "cell_type": "markdown",
   "metadata": {
    "ExecuteTime": {
     "end_time": "2019-03-12T15:26:01.689647Z",
     "start_time": "2019-03-12T15:26:01.684664Z"
    }
   },
   "source": [
    "## True tags"
   ]
  },
  {
   "cell_type": "code",
   "execution_count": 31,
   "metadata": {
    "ExecuteTime": {
     "end_time": "2019-03-13T07:20:48.210396Z",
     "start_time": "2019-03-13T07:20:48.144570Z"
    }
   },
   "outputs": [],
   "source": [
    "y = [[tag2idx[w[2]] for w in s] for s in sents]\n",
    "y_numer = pad_sequences(maxlen=max_len, sequences=y, value=tag2idx[\"PAD\"], padding='post', truncating='post')"
   ]
  },
  {
   "cell_type": "code",
   "execution_count": 32,
   "metadata": {
    "ExecuteTime": {
     "end_time": "2019-03-13T07:20:48.223360Z",
     "start_time": "2019-03-13T07:20:48.213386Z"
    }
   },
   "outputs": [
    {
     "data": {
      "text/plain": [
       "array([11,  6,  6,  6,  6,  6,  6,  6,  6,  6,  6,  6, 11, 11,  6,  6, 10,\n",
       "       10, 10, 10,  6,  6,  6,  6,  6,  6,  7,  6,  3,  3,  6,  6,  6,  6,\n",
       "        6, 11,  6,  6,  6,  0,  0,  0,  0,  0,  0,  0,  0,  0,  0,  0,  0,\n",
       "        0,  0,  0,  0,  0,  0,  0,  0,  0,  0,  0,  0,  0,  0,  0,  0,  0,\n",
       "        0,  0,  0,  0,  0,  0,  0,  0,  0,  0,  0,  0], dtype=int32)"
      ]
     },
     "execution_count": 32,
     "metadata": {},
     "output_type": "execute_result"
    }
   ],
   "source": [
    "y_numer[1]"
   ]
  },
  {
   "cell_type": "code",
   "execution_count": 33,
   "metadata": {
    "ExecuteTime": {
     "end_time": "2019-03-13T07:20:48.330074Z",
     "start_time": "2019-03-13T07:20:48.226353Z"
    }
   },
   "outputs": [
    {
     "data": {
      "text/plain": [
       "array([[0., 0., 0., ..., 0., 0., 0.],\n",
       "       [0., 0., 0., ..., 0., 0., 0.],\n",
       "       [0., 0., 0., ..., 0., 0., 0.],\n",
       "       ...,\n",
       "       [1., 0., 0., ..., 0., 0., 0.],\n",
       "       [1., 0., 0., ..., 0., 0., 0.],\n",
       "       [1., 0., 0., ..., 0., 0., 0.]], dtype=float32)"
      ]
     },
     "execution_count": 33,
     "metadata": {},
     "output_type": "execute_result"
    }
   ],
   "source": [
    "from keras.utils import to_categorical\n",
    "y = [to_categorical(i, num_classes=n_tags+1) for i in y_numer]\n",
    "y[1]"
   ]
  },
  {
   "cell_type": "markdown",
   "metadata": {},
   "source": [
    "## Perform train test splits"
   ]
  },
  {
   "cell_type": "code",
   "execution_count": 34,
   "metadata": {
    "ExecuteTime": {
     "end_time": "2019-03-13T07:21:19.620040Z",
     "start_time": "2019-03-13T07:21:18.960804Z"
    }
   },
   "outputs": [],
   "source": [
    "from sklearn.model_selection import train_test_split\n",
    "\n",
    "splits = [train_test_split(X, y, X_pos, test_size=0.25, random_state=42+i) for i in range(3)]"
   ]
  },
  {
   "cell_type": "markdown",
   "metadata": {},
   "source": [
    "### Prep char input"
   ]
  },
  {
   "cell_type": "code",
   "execution_count": 35,
   "metadata": {
    "ExecuteTime": {
     "end_time": "2019-01-31T13:58:31.324599Z",
     "start_time": "2019-01-31T13:58:31.077207Z"
    }
   },
   "outputs": [
    {
     "data": {
      "text/plain": [
       "<matplotlib.axes._subplots.AxesSubplot at 0x7fa930172d30>"
      ]
     },
     "execution_count": 35,
     "metadata": {},
     "output_type": "execute_result"
    },
    {
     "data": {
      "image/png": "[encoded data removed]",
      "text/plain": [
       "<Figure size 432x288 with 1 Axes>"
      ]
     },
     "metadata": {},
     "output_type": "display_data"
    }
   ],
   "source": [
    "x.FORM.apply(len).hist(bins=18)"
   ]
  },
  {
   "cell_type": "code",
   "execution_count": 36,
   "metadata": {
    "ExecuteTime": {
     "end_time": "2019-01-31T13:58:31.340217Z",
     "start_time": "2019-01-31T13:58:31.324599Z"
    }
   },
   "outputs": [],
   "source": [
    "max_len_char = 10"
   ]
  },
  {
   "cell_type": "code",
   "execution_count": 37,
   "metadata": {
    "ExecuteTime": {
     "end_time": "2019-01-31T13:58:32.660554Z",
     "start_time": "2019-01-31T13:58:32.613692Z"
    }
   },
   "outputs": [
    {
     "name": "stdout",
     "output_type": "stream",
     "text": [
      "101\n"
     ]
    }
   ],
   "source": [
    "chars = set([w_i for w in words for w_i in w])\n",
    "n_chars = len(chars)\n",
    "print(n_chars)"
   ]
  },
  {
   "cell_type": "code",
   "execution_count": 38,
   "metadata": {
    "ExecuteTime": {
     "end_time": "2019-01-31T13:58:33.732950Z",
     "start_time": "2019-01-31T13:58:33.717366Z"
    }
   },
   "outputs": [],
   "source": [
    "char2idx = {c: i + 2 for i, c in enumerate(chars)}\n",
    "char2idx[\"UNK\"] = 1\n",
    "char2idx[\"PAD\"] = 0"
   ]
  },
  {
   "cell_type": "code",
   "execution_count": 39,
   "metadata": {
    "ExecuteTime": {
     "end_time": "2019-01-31T13:58:36.324286Z",
     "start_time": "2019-01-31T13:58:34.303392Z"
    }
   },
   "outputs": [],
   "source": [
    "X_char = []\n",
    "for sentence in sents:\n",
    "    sent_seq = []\n",
    "    for i in range(max_len):\n",
    "        word_seq = []\n",
    "        for j in range(max_len_char):\n",
    "            try:\n",
    "                word_seq.append(char2idx.get(sentence[i][0][j]))\n",
    "            except:\n",
    "                word_seq.append(char2idx.get(\"PAD\"))\n",
    "        sent_seq.append(word_seq)\n",
    "    X_char.append(np.array(sent_seq))"
   ]
  },
  {
   "cell_type": "code",
   "execution_count": 40,
   "metadata": {},
   "outputs": [],
   "source": [
    "splits_char = [train_test_split(X_char, y, test_size=0.25, random_state=42+i) for i in range(3)]"
   ]
  },
  {
   "cell_type": "markdown",
   "metadata": {},
   "source": [
    "## Embeddings"
   ]
  },
  {
   "cell_type": "code",
   "execution_count": 41,
   "metadata": {},
   "outputs": [
    {
     "data": {
      "text/plain": [
       "{'yap_w2v_sg': '../wordembedding-hebrew/wikipedia.yap_form.word2vec_skipgram.txt',\n",
       " 'yap_w2v_cbow': '../wordembedding-hebrew/wikipedia.yap_form.word2vec_cbow.txt',\n",
       " 'yap_glove': '../wordembedding-hebrew/glove/wikipedia.yap_form.glove.txt.txt',\n",
       " 'yap_ft_sg': '../wordembedding-hebrew/wikipedia.yap_form.fasttext_skipgram.model.vec',\n",
       " 'yap_ft_cbow': '../wordembedding-hebrew/wikipedia.yap_form.fasttext_cbow.model.vec',\n",
       " 'token_w2v_sg': '../wordembedding-hebrew/wikipedia.tokenized.word2vec_skipgram.txt',\n",
       " 'token_w2v_cbow': '../wordembedding-hebrew/wikipedia.tokenized.word2vec_cbow.txt',\n",
       " 'token_glove': '../wordembedding-hebrew/glove/wikipedia.tokenized.glove.txt',\n",
       " 'token_ft_sg': '../wordembedding-hebrew/wikipedia.tokenized.fasttext_skipgram.model.vec',\n",
       " 'token_ft_cbow': '../wordembedding-hebrew/wikipedia.tokenized.fasttext_cbow.model.vec',\n",
       " 'pretrained_token_ft': '../fasttext/wiki.he.vec'}"
      ]
     },
     "execution_count": 41,
     "metadata": {},
     "output_type": "execute_result"
    }
   ],
   "source": [
    "embedding_paths"
   ]
  },
  {
   "cell_type": "code",
   "execution_count": 42,
   "metadata": {},
   "outputs": [],
   "source": [
    "exclude = ['cbow']"
   ]
  },
  {
   "cell_type": "code",
   "execution_count": 43,
   "metadata": {},
   "outputs": [
    {
     "name": "stdout",
     "output_type": "stream",
     "text": [
      "loading word embeddings: ../wordembedding-hebrew/wikipedia.yap_form.word2vec_skipgram.txt\n",
      "found 256508 word vectors\n",
      "preparing embedding matrix...\n",
      "number of null word embeddings: 776\n",
      "sample words not found:  ['הפקרתה' '632.0' 'מחשיכים' 'מאציזמו' 'ּס' 'עבדלל' 'חככו' 'כ4' 'מסתמא'\n",
      " '2006.']\n",
      "loading word embeddings: ../wordembedding-hebrew/glove/wikipedia.yap_form.glove.txt.txt\n",
      "found 256508 word vectors\n",
      "preparing embedding matrix...\n",
      "number of null word embeddings: 776\n",
      "sample words not found:  ['50.4%' 'מקסיקאי' 'הרוקפלרים' 'SARS' 'ק.ג' 'נויהארט' 'יגשרו' 'גבבה'\n",
      " 'גאלוף' 'נבכה']\n",
      "loading word embeddings: ../wordembedding-hebrew/wikipedia.yap_form.fasttext_skipgram.model.vec\n",
      "found 256508 word vectors\n",
      "preparing embedding matrix...\n",
      "number of null word embeddings: 776\n",
      "sample words not found:  ['987.1' 'אאוטלט' '2910' 'יעוגנו' 'פראפראז' '\"אספר' 'סלבז' '62.6%'\n",
      " 'גראציה' 'סיסמאותיו']\n",
      "loading word embeddings: ../wordembedding-hebrew/wikipedia.tokenized.word2vec_skipgram.txt\n",
      "found 372586 word vectors\n",
      "preparing embedding matrix...\n",
      "number of null word embeddings: 1016\n",
      "sample words not found:  ['משחרים' 'יוחרף' 'קטיגוריה' '19.' '82000' 'רהפטיג' 'חינגת' 'לוואה'\n",
      " 'עידודה' 'אמיתו']\n",
      "loading word embeddings: ../wordembedding-hebrew/glove/wikipedia.tokenized.glove.txt\n",
      "found 372586 word vectors\n",
      "preparing embedding matrix...\n",
      "number of null word embeddings: 1016\n",
      "sample words not found:  ['יזמינו' 'יישקלו' 'באקוולד' 'פסיכולוגיסטי' 'תועסק' 'פועלים-אי.בי.אי'\n",
      " 'תועסק' '632.0' 'קלארין' 'עיצומה']\n",
      "loading word embeddings: ../wordembedding-hebrew/wikipedia.tokenized.fasttext_skipgram.model.vec\n",
      "found 372587 word vectors\n",
      "preparing embedding matrix...\n",
      "number of null word embeddings: 1016\n",
      "sample words not found:  ['נטסקרין' '667.4' 'יוברר' 'דווים' 'בודאפשט' 'יקטורי' \"שבע'\" 'מדוח'\n",
      " 'רוזנהויז' '439.3']\n",
      "loading word embeddings: ../fasttext/wiki.he.vec\n",
      "found 488194 word vectors\n",
      "preparing embedding matrix...\n",
      "number of null word embeddings: 1265\n",
      "sample words not found:  ['לכיליה' 'CBC' '14.1%' '2002' 'תיווסד' 'משוסע' 'דאלדה' 'תיכן' 'אקוולד'\n",
      " '36']\n"
     ]
    }
   ],
   "source": [
    "embedding_mats = {}\n",
    "for emb_name, emb_path in embedding_paths.items():\n",
    "    skip=False\n",
    "    for exc in exclude:\n",
    "        if exc in emb_path:\n",
    "            skip=True\n",
    "    if skip:\n",
    "        continue\n",
    "    embedding_mats[emb_name] = get_embedding_matrix(emb_path, word2idx)"
   ]
  },
  {
   "cell_type": "markdown",
   "metadata": {},
   "source": [
    "## Model building"
   ]
  },
  {
   "cell_type": "code",
   "execution_count": 44,
   "metadata": {},
   "outputs": [
    {
     "data": {
      "text/plain": [
       "[{'crf': True, 'use_pos': False},\n",
       " {'crf': True, 'use_pos': True},\n",
       " {'crf': True,\n",
       "  'use_pos': False,\n",
       "  'embedding_matrix': 'yap_w2v_sg',\n",
       "  'trainable': False,\n",
       "  'embed_dim': 300},\n",
       " {'crf': True,\n",
       "  'use_pos': False,\n",
       "  'embedding_matrix': 'yap_glove',\n",
       "  'trainable': False,\n",
       "  'embed_dim': 300},\n",
       " {'crf': True,\n",
       "  'use_pos': False,\n",
       "  'embedding_matrix': 'yap_ft_sg',\n",
       "  'trainable': False,\n",
       "  'embed_dim': 300},\n",
       " {'crf': True,\n",
       "  'use_pos': False,\n",
       "  'embedding_matrix': 'token_w2v_sg',\n",
       "  'trainable': False,\n",
       "  'embed_dim': 300},\n",
       " {'crf': True,\n",
       "  'use_pos': False,\n",
       "  'embedding_matrix': 'token_glove',\n",
       "  'trainable': False,\n",
       "  'embed_dim': 300},\n",
       " {'crf': True,\n",
       "  'use_pos': False,\n",
       "  'embedding_matrix': 'token_ft_sg',\n",
       "  'trainable': False,\n",
       "  'embed_dim': 300},\n",
       " {'crf': True,\n",
       "  'use_pos': False,\n",
       "  'embedding_matrix': 'pretrained_token_ft',\n",
       "  'trainable': False,\n",
       "  'embed_dim': 300},\n",
       " {'crf': True,\n",
       "  'use_pos': True,\n",
       "  'embedding_matrix': 'yap_w2v_sg',\n",
       "  'trainable': False,\n",
       "  'embed_dim': 300},\n",
       " {'crf': True,\n",
       "  'use_pos': True,\n",
       "  'embedding_matrix': 'yap_glove',\n",
       "  'trainable': False,\n",
       "  'embed_dim': 300},\n",
       " {'crf': True,\n",
       "  'use_pos': True,\n",
       "  'embedding_matrix': 'yap_ft_sg',\n",
       "  'trainable': False,\n",
       "  'embed_dim': 300},\n",
       " {'crf': True,\n",
       "  'use_pos': True,\n",
       "  'embedding_matrix': 'token_w2v_sg',\n",
       "  'trainable': False,\n",
       "  'embed_dim': 300},\n",
       " {'crf': True,\n",
       "  'use_pos': True,\n",
       "  'embedding_matrix': 'token_glove',\n",
       "  'trainable': False,\n",
       "  'embed_dim': 300},\n",
       " {'crf': True,\n",
       "  'use_pos': True,\n",
       "  'embedding_matrix': 'token_ft_sg',\n",
       "  'trainable': False,\n",
       "  'embed_dim': 300},\n",
       " {'crf': True,\n",
       "  'use_pos': True,\n",
       "  'embedding_matrix': 'pretrained_token_ft',\n",
       "  'trainable': False,\n",
       "  'embed_dim': 300},\n",
       " {'use_char': True, 'crf': True, 'use_pos': False},\n",
       " {'use_char': True, 'crf': True, 'use_pos': True},\n",
       " {'use_char': True,\n",
       "  'crf': True,\n",
       "  'use_pos': False,\n",
       "  'embedding_matrix': 'yap_w2v_sg',\n",
       "  'trainable': False,\n",
       "  'embed_dim': 300},\n",
       " {'use_char': True,\n",
       "  'crf': True,\n",
       "  'use_pos': False,\n",
       "  'embedding_matrix': 'yap_glove',\n",
       "  'trainable': False,\n",
       "  'embed_dim': 300},\n",
       " {'use_char': True,\n",
       "  'crf': True,\n",
       "  'use_pos': False,\n",
       "  'embedding_matrix': 'yap_ft_sg',\n",
       "  'trainable': False,\n",
       "  'embed_dim': 300},\n",
       " {'use_char': True,\n",
       "  'crf': True,\n",
       "  'use_pos': False,\n",
       "  'embedding_matrix': 'token_w2v_sg',\n",
       "  'trainable': False,\n",
       "  'embed_dim': 300},\n",
       " {'use_char': True,\n",
       "  'crf': True,\n",
       "  'use_pos': False,\n",
       "  'embedding_matrix': 'token_glove',\n",
       "  'trainable': False,\n",
       "  'embed_dim': 300},\n",
       " {'use_char': True,\n",
       "  'crf': True,\n",
       "  'use_pos': False,\n",
       "  'embedding_matrix': 'token_ft_sg',\n",
       "  'trainable': False,\n",
       "  'embed_dim': 300},\n",
       " {'use_char': True,\n",
       "  'crf': True,\n",
       "  'use_pos': False,\n",
       "  'embedding_matrix': 'pretrained_token_ft',\n",
       "  'trainable': False,\n",
       "  'embed_dim': 300},\n",
       " {'use_char': True,\n",
       "  'crf': True,\n",
       "  'use_pos': True,\n",
       "  'embedding_matrix': 'yap_w2v_sg',\n",
       "  'trainable': False,\n",
       "  'embed_dim': 300},\n",
       " {'use_char': True,\n",
       "  'crf': True,\n",
       "  'use_pos': True,\n",
       "  'embedding_matrix': 'yap_glove',\n",
       "  'trainable': False,\n",
       "  'embed_dim': 300},\n",
       " {'use_char': True,\n",
       "  'crf': True,\n",
       "  'use_pos': True,\n",
       "  'embedding_matrix': 'yap_ft_sg',\n",
       "  'trainable': False,\n",
       "  'embed_dim': 300},\n",
       " {'use_char': True,\n",
       "  'crf': True,\n",
       "  'use_pos': True,\n",
       "  'embedding_matrix': 'token_w2v_sg',\n",
       "  'trainable': False,\n",
       "  'embed_dim': 300},\n",
       " {'use_char': True,\n",
       "  'crf': True,\n",
       "  'use_pos': True,\n",
       "  'embedding_matrix': 'token_glove',\n",
       "  'trainable': False,\n",
       "  'embed_dim': 300},\n",
       " {'use_char': True,\n",
       "  'crf': True,\n",
       "  'use_pos': True,\n",
       "  'embedding_matrix': 'token_ft_sg',\n",
       "  'trainable': False,\n",
       "  'embed_dim': 300},\n",
       " {'use_char': True,\n",
       "  'crf': True,\n",
       "  'use_pos': True,\n",
       "  'embedding_matrix': 'pretrained_token_ft',\n",
       "  'trainable': False,\n",
       "  'embed_dim': 300}]"
      ]
     },
     "execution_count": 44,
     "metadata": {},
     "output_type": "execute_result"
    }
   ],
   "source": [
    "configs = build_configs(base_configs, embedding_mats)\n",
    "configs     "
   ]
  },
  {
   "cell_type": "code",
   "execution_count": 45,
   "metadata": {},
   "outputs": [],
   "source": [
    "if not os.path.exists('outputs'):\n",
    "    os.mkdir('outputs')"
   ]
  },
  {
   "cell_type": "code",
   "execution_count": 46,
   "metadata": {
    "ExecuteTime": {
     "end_time": "2019-03-13T11:31:02.793857Z",
     "start_time": "2019-03-13T11:16:17.267695Z"
    },
    "scrolled": true
   },
   "outputs": [
    {
     "name": "stdout",
     "output_type": "stream",
     "text": [
      "Train on 2349 samples, validate on 262 samples\n",
      "Epoch 1/1\n",
      " - 22s - loss: 0.4566 - crf_accuracy: 0.9001 - val_loss: 0.2472 - val_crf_accuracy: 0.9490\n",
      "Train on 2349 samples, validate on 262 samples\n",
      "Epoch 1/1\n",
      " - 22s - loss: 0.4868 - crf_accuracy: 0.8822 - val_loss: 0.2420 - val_crf_accuracy: 0.9524\n",
      "Train on 2349 samples, validate on 262 samples\n",
      "Epoch 1/1\n",
      " - 22s - loss: 0.4848 - crf_accuracy: 0.8883 - val_loss: 0.2362 - val_crf_accuracy: 0.9549\n"
     ]
    },
    {
     "data": {
      "image/png": "[encoded data removed]",
      "text/plain": [
       "<Figure size 432x288 with 1 Axes>"
      ]
     },
     "metadata": {},
     "output_type": "display_data"
    },
    {
     "data": {
      "image/png": "[encoded data removed]",
      "text/plain": [
       "<Figure size 432x288 with 1 Axes>"
      ]
     },
     "metadata": {},
     "output_type": "display_data"
    },
    {
     "data": {
      "image/png": "[encoded data removed]",
      "text/plain": [
       "<Figure size 432x288 with 1 Axes>"
      ]
     },
     "metadata": {},
     "output_type": "display_data"
    },
    {
     "name": "stdout",
     "output_type": "stream",
     "text": [
      "processed 21544 tokens with 1278 phrases; found: 9 phrases; correct: 0.\n",
      "accuracy:   0.04%; (non-O)\n",
      "accuracy:  86.98%; precision:   0.00%; recall:   0.00%; FB1:   0.00\n",
      "             DATE: precision:   0.00%; recall:   0.00%; FB1:   0.00  0\n",
      "              LOC: precision:   0.00%; recall:   0.00%; FB1:   0.00  4\n",
      "        MISC--AFF: precision:   0.00%; recall:   0.00%; FB1:   0.00  0\n",
      "        MISC--ENT: precision:   0.00%; recall:   0.00%; FB1:   0.00  0\n",
      "       MISC-EVENT: precision:   0.00%; recall:   0.00%; FB1:   0.00  0\n",
      "            MONEY: precision:   0.00%; recall:   0.00%; FB1:   0.00  0\n",
      "              ORG: precision:   0.00%; recall:   0.00%; FB1:   0.00  4\n",
      "          PERCENT: precision:   0.00%; recall:   0.00%; FB1:   0.00  0\n",
      "             PERS: precision:   0.00%; recall:   0.00%; FB1:   0.00  0\n",
      "             TIME: precision:   0.00%; recall:   0.00%; FB1:   0.00  1\n",
      "processed 20959 tokens with 1281 phrases; found: 9 phrases; correct: 0.\n",
      "accuracy:   0.00%; (non-O)\n",
      "accuracy:  86.71%; precision:   0.00%; recall:   0.00%; FB1:   0.00\n",
      "             DATE: precision:   0.00%; recall:   0.00%; FB1:   0.00  0\n",
      "              LOC: precision:   0.00%; recall:   0.00%; FB1:   0.00  0\n",
      "        MISC--AFF: precision:   0.00%; recall:   0.00%; FB1:   0.00  2\n",
      "        MISC--ENT: precision:   0.00%; recall:   0.00%; FB1:   0.00  4\n",
      "       MISC-EVENT: precision:   0.00%; recall:   0.00%; FB1:   0.00  0\n",
      "            MONEY: precision:   0.00%; recall:   0.00%; FB1:   0.00  3\n",
      "              ORG: precision:   0.00%; recall:   0.00%; FB1:   0.00  0\n",
      "          PERCENT: precision:   0.00%; recall:   0.00%; FB1:   0.00  0\n",
      "             PERS: precision:   0.00%; recall:   0.00%; FB1:   0.00  0\n",
      "             TIME: precision:   0.00%; recall:   0.00%; FB1:   0.00  0\n",
      "processed 21441 tokens with 1298 phrases; found: 8 phrases; correct: 0.\n",
      "accuracy:   0.00%; (non-O)\n",
      "accuracy:  86.71%; precision:   0.00%; recall:   0.00%; FB1:   0.00\n",
      "             DATE: precision:   0.00%; recall:   0.00%; FB1:   0.00  0\n",
      "              LOC: precision:   0.00%; recall:   0.00%; FB1:   0.00  0\n",
      "        MISC--AFF: precision:   0.00%; recall:   0.00%; FB1:   0.00  0\n",
      "        MISC--ENT: precision:   0.00%; recall:   0.00%; FB1:   0.00  1\n",
      "       MISC-EVENT: precision:   0.00%; recall:   0.00%; FB1:   0.00  0\n",
      "            MONEY: precision:   0.00%; recall:   0.00%; FB1:   0.00  6\n",
      "              ORG: precision:   0.00%; recall:   0.00%; FB1:   0.00  0\n",
      "          PERCENT: precision:   0.00%; recall:   0.00%; FB1:   0.00  0\n",
      "             PERS: precision:   0.00%; recall:   0.00%; FB1:   0.00  0\n",
      "             TIME: precision:   0.00%; recall:   0.00%; FB1:   0.00  1\n",
      "Train on 2349 samples, validate on 262 samples\n",
      "Epoch 1/1\n",
      " - 23s - loss: 0.4378 - crf_accuracy: 0.9015 - val_loss: 0.2414 - val_crf_accuracy: 0.9486\n",
      "Train on 2349 samples, validate on 262 samples\n",
      "Epoch 1/1\n",
      " - 23s - loss: 0.4443 - crf_accuracy: 0.8926 - val_loss: 0.2372 - val_crf_accuracy: 0.9507\n",
      "Train on 2349 samples, validate on 262 samples\n",
      "Epoch 1/1\n",
      " - 24s - loss: 0.4322 - crf_accuracy: 0.8881 - val_loss: 0.2141 - val_crf_accuracy: 0.9549\n"
     ]
    },
    {
     "data": {
      "image/png": "[encoded data removed]",
      "text/plain": [
       "<Figure size 432x288 with 1 Axes>"
      ]
     },
     "metadata": {},
     "output_type": "display_data"
    },
    {
     "data": {
      "image/png": "[encoded data removed]",
      "text/plain": [
       "<Figure size 432x288 with 1 Axes>"
      ]
     },
     "metadata": {},
     "output_type": "display_data"
    },
    {
     "data": {
      "image/png": "[encoded data removed]",
      "text/plain": [
       "<Figure size 432x288 with 1 Axes>"
      ]
     },
     "metadata": {},
     "output_type": "display_data"
    },
    {
     "name": "stdout",
     "output_type": "stream",
     "text": [
      "processed 21544 tokens with 1278 phrases; found: 19 phrases; correct: 0.\n",
      "accuracy:   0.00%; (non-O)\n",
      "accuracy:  86.94%; precision:   0.00%; recall:   0.00%; FB1:   0.00\n",
      "             DATE: precision:   0.00%; recall:   0.00%; FB1:   0.00  0\n",
      "              LOC: precision:   0.00%; recall:   0.00%; FB1:   0.00  0\n",
      "        MISC--AFF: precision:   0.00%; recall:   0.00%; FB1:   0.00  1\n",
      "        MISC--ENT: precision:   0.00%; recall:   0.00%; FB1:   0.00  0\n",
      "       MISC-EVENT: precision:   0.00%; recall:   0.00%; FB1:   0.00  9\n",
      "            MONEY: precision:   0.00%; recall:   0.00%; FB1:   0.00  9\n",
      "              ORG: precision:   0.00%; recall:   0.00%; FB1:   0.00  0\n",
      "          PERCENT: precision:   0.00%; recall:   0.00%; FB1:   0.00  0\n",
      "             PERS: precision:   0.00%; recall:   0.00%; FB1:   0.00  0\n",
      "             TIME: precision:   0.00%; recall:   0.00%; FB1:   0.00  0\n",
      "processed 20959 tokens with 1281 phrases; found: 0 phrases; correct: 0.\n",
      "accuracy:   0.00%; (non-O)\n",
      "accuracy:  86.75%; precision:   0.00%; recall:   0.00%; FB1:   0.00\n",
      "             DATE: precision:   0.00%; recall:   0.00%; FB1:   0.00  0\n",
      "              LOC: precision:   0.00%; recall:   0.00%; FB1:   0.00  0\n",
      "        MISC--AFF: precision:   0.00%; recall:   0.00%; FB1:   0.00  0\n",
      "        MISC--ENT: precision:   0.00%; recall:   0.00%; FB1:   0.00  0\n",
      "       MISC-EVENT: precision:   0.00%; recall:   0.00%; FB1:   0.00  0\n",
      "            MONEY: precision:   0.00%; recall:   0.00%; FB1:   0.00  0\n",
      "              ORG: precision:   0.00%; recall:   0.00%; FB1:   0.00  0\n",
      "          PERCENT: precision:   0.00%; recall:   0.00%; FB1:   0.00  0\n",
      "             PERS: precision:   0.00%; recall:   0.00%; FB1:   0.00  0\n",
      "             TIME: precision:   0.00%; recall:   0.00%; FB1:   0.00  0\n",
      "processed 21441 tokens with 1298 phrases; found: 0 phrases; correct: 0.\n",
      "accuracy:   0.00%; (non-O)\n",
      "accuracy:  86.74%; precision:   0.00%; recall:   0.00%; FB1:   0.00\n",
      "             DATE: precision:   0.00%; recall:   0.00%; FB1:   0.00  0\n",
      "              LOC: precision:   0.00%; recall:   0.00%; FB1:   0.00  0\n",
      "        MISC--AFF: precision:   0.00%; recall:   0.00%; FB1:   0.00  0\n",
      "        MISC--ENT: precision:   0.00%; recall:   0.00%; FB1:   0.00  0\n",
      "       MISC-EVENT: precision:   0.00%; recall:   0.00%; FB1:   0.00  0\n",
      "            MONEY: precision:   0.00%; recall:   0.00%; FB1:   0.00  0\n",
      "              ORG: precision:   0.00%; recall:   0.00%; FB1:   0.00  0\n",
      "          PERCENT: precision:   0.00%; recall:   0.00%; FB1:   0.00  0\n",
      "             PERS: precision:   0.00%; recall:   0.00%; FB1:   0.00  0\n",
      "             TIME: precision:   0.00%; recall:   0.00%; FB1:   0.00  0\n",
      "Train on 2349 samples, validate on 262 samples\n",
      "Epoch 1/1\n",
      " - 24s - loss: 0.3857 - crf_accuracy: 0.9165 - val_loss: 0.2226 - val_crf_accuracy: 0.9505\n",
      "Train on 2349 samples, validate on 262 samples\n",
      "Epoch 1/1\n",
      " - 25s - loss: 0.3874 - crf_accuracy: 0.9126 - val_loss: 0.2144 - val_crf_accuracy: 0.9532\n",
      "Train on 2349 samples, validate on 262 samples\n",
      "Epoch 1/1\n",
      " - 26s - loss: 0.3968 - crf_accuracy: 0.9012 - val_loss: 0.1983 - val_crf_accuracy: 0.9553\n"
     ]
    },
    {
     "data": {
      "image/png": "[encoded data removed]",
      "text/plain": [
       "<Figure size 432x288 with 1 Axes>"
      ]
     },
     "metadata": {},
     "output_type": "display_data"
    },
    {
     "data": {
      "image/png": "[encoded data removed]",
      "text/plain": [
       "<Figure size 432x288 with 1 Axes>"
      ]
     },
     "metadata": {},
     "output_type": "display_data"
    },
    {
     "data": {
      "image/png": "[encoded data removed]",
      "text/plain": [
       "<Figure size 432x288 with 1 Axes>"
      ]
     },
     "metadata": {},
     "output_type": "display_data"
    },
    {
     "name": "stdout",
     "output_type": "stream",
     "text": [
      "processed 21544 tokens with 1278 phrases; found: 0 phrases; correct: 0.\n",
      "accuracy:   0.00%; (non-O)\n",
      "accuracy:  87.01%; precision:   0.00%; recall:   0.00%; FB1:   0.00\n",
      "             DATE: precision:   0.00%; recall:   0.00%; FB1:   0.00  0\n",
      "              LOC: precision:   0.00%; recall:   0.00%; FB1:   0.00  0\n",
      "        MISC--AFF: precision:   0.00%; recall:   0.00%; FB1:   0.00  0\n",
      "        MISC--ENT: precision:   0.00%; recall:   0.00%; FB1:   0.00  0\n",
      "       MISC-EVENT: precision:   0.00%; recall:   0.00%; FB1:   0.00  0\n",
      "            MONEY: precision:   0.00%; recall:   0.00%; FB1:   0.00  0\n",
      "              ORG: precision:   0.00%; recall:   0.00%; FB1:   0.00  0\n",
      "          PERCENT: precision:   0.00%; recall:   0.00%; FB1:   0.00  0\n",
      "             PERS: precision:   0.00%; recall:   0.00%; FB1:   0.00  0\n",
      "             TIME: precision:   0.00%; recall:   0.00%; FB1:   0.00  0\n",
      "processed 20959 tokens with 1281 phrases; found: 3 phrases; correct: 0.\n",
      "accuracy:   0.04%; (non-O)\n",
      "accuracy:  86.74%; precision:   0.00%; recall:   0.00%; FB1:   0.00\n",
      "             DATE: precision:   0.00%; recall:   0.00%; FB1:   0.00  0\n",
      "              LOC: precision:   0.00%; recall:   0.00%; FB1:   0.00  0\n",
      "        MISC--AFF: precision:   0.00%; recall:   0.00%; FB1:   0.00  3\n",
      "        MISC--ENT: precision:   0.00%; recall:   0.00%; FB1:   0.00  0\n",
      "       MISC-EVENT: precision:   0.00%; recall:   0.00%; FB1:   0.00  0\n",
      "            MONEY: precision:   0.00%; recall:   0.00%; FB1:   0.00  0\n",
      "              ORG: precision:   0.00%; recall:   0.00%; FB1:   0.00  0\n",
      "          PERCENT: precision:   0.00%; recall:   0.00%; FB1:   0.00  0\n",
      "             PERS: precision:   0.00%; recall:   0.00%; FB1:   0.00  0\n",
      "             TIME: precision:   0.00%; recall:   0.00%; FB1:   0.00  0\n",
      "processed 21441 tokens with 1298 phrases; found: 1 phrases; correct: 0.\n",
      "accuracy:   0.00%; (non-O)\n",
      "accuracy:  86.74%; precision:   0.00%; recall:   0.00%; FB1:   0.00\n",
      "             DATE: precision:   0.00%; recall:   0.00%; FB1:   0.00  0\n",
      "              LOC: precision:   0.00%; recall:   0.00%; FB1:   0.00  0\n",
      "        MISC--AFF: precision:   0.00%; recall:   0.00%; FB1:   0.00  0\n",
      "        MISC--ENT: precision:   0.00%; recall:   0.00%; FB1:   0.00  0\n",
      "       MISC-EVENT: precision:   0.00%; recall:   0.00%; FB1:   0.00  0\n",
      "            MONEY: precision:   0.00%; recall:   0.00%; FB1:   0.00  0\n",
      "              ORG: precision:   0.00%; recall:   0.00%; FB1:   0.00  0\n",
      "          PERCENT: precision:   0.00%; recall:   0.00%; FB1:   0.00  0\n",
      "             PERS: precision:   0.00%; recall:   0.00%; FB1:   0.00  1\n",
      "             TIME: precision:   0.00%; recall:   0.00%; FB1:   0.00  0\n",
      "Train on 2349 samples, validate on 262 samples\n",
      "Epoch 1/1\n"
     ]
    },
    {
     "ename": "KeyboardInterrupt",
     "evalue": "",
     "output_type": "error",
     "traceback": [
      "\u001b[0;31m---------------------------------------------------------------------------\u001b[0m",
      "\u001b[0;31mKeyboardInterrupt\u001b[0m                         Traceback (most recent call last)",
      "\u001b[0;32m<ipython-input-46-907ff2cc3599>\u001b[0m in \u001b[0;36m<module>\u001b[0;34m\u001b[0m\n\u001b[1;32m      4\u001b[0m                                                 \u001b[0mepochs\u001b[0m\u001b[0;34m=\u001b[0m\u001b[0;36m1\u001b[0m\u001b[0;34m,\u001b[0m\u001b[0;34m\u001b[0m\u001b[0;34m\u001b[0m\u001b[0m\n\u001b[1;32m      5\u001b[0m                                                 \u001b[0mrun_name\u001b[0m\u001b[0;34m=\u001b[0m\u001b[0;34m'naama_morph'\u001b[0m\u001b[0;34m,\u001b[0m \u001b[0mout_folder\u001b[0m\u001b[0;34m=\u001b[0m\u001b[0;34m'outputs'\u001b[0m\u001b[0;34m,\u001b[0m\u001b[0;34m\u001b[0m\u001b[0;34m\u001b[0m\u001b[0m\n\u001b[0;32m----> 6\u001b[0;31m                                                 skip_if_model_exists=True)\n\u001b[0m",
      "\u001b[0;32m~/NER/ner_utils.py\u001b[0m in \u001b[0;36mrun_models\u001b[0;34m(configs, splits, splits_char, embedding_mats, words, max_len, n_words, idx2word, idx2tag, n_tags, max_len_char, n_pos, n_chars, epochs, run_name, out_folder, skip_if_model_exists)\u001b[0m\n\u001b[1;32m    317\u001b[0m         mh = [create_model(split, char, max_len, n_words, n_tags, max_len_char,\n\u001b[1;32m    318\u001b[0m                            n_pos, n_chars, embedding_mats, epochs=epochs, **conf) \n\u001b[0;32m--> 319\u001b[0;31m               for split, char in zip(splits, splits_char)]\n\u001b[0m\u001b[1;32m    320\u001b[0m         \u001b[0mhists\u001b[0m \u001b[0;34m=\u001b[0m \u001b[0;34m[\u001b[0m\u001b[0mh\u001b[0m \u001b[0;32mfor\u001b[0m \u001b[0mm\u001b[0m\u001b[0;34m,\u001b[0m \u001b[0mh\u001b[0m \u001b[0;32min\u001b[0m \u001b[0mmh\u001b[0m\u001b[0;34m]\u001b[0m\u001b[0;34m\u001b[0m\u001b[0;34m\u001b[0m\u001b[0m\n\u001b[1;32m    321\u001b[0m         \u001b[0mmodels\u001b[0m \u001b[0;34m=\u001b[0m \u001b[0;34m[\u001b[0m\u001b[0mm\u001b[0m \u001b[0;32mfor\u001b[0m \u001b[0mm\u001b[0m\u001b[0;34m,\u001b[0m \u001b[0mh\u001b[0m \u001b[0;32min\u001b[0m \u001b[0mmh\u001b[0m\u001b[0;34m]\u001b[0m\u001b[0;34m\u001b[0m\u001b[0;34m\u001b[0m\u001b[0m\n",
      "\u001b[0;32m~/NER/ner_utils.py\u001b[0m in \u001b[0;36m<listcomp>\u001b[0;34m(.0)\u001b[0m\n\u001b[1;32m    317\u001b[0m         mh = [create_model(split, char, max_len, n_words, n_tags, max_len_char,\n\u001b[1;32m    318\u001b[0m                            n_pos, n_chars, embedding_mats, epochs=epochs, **conf) \n\u001b[0;32m--> 319\u001b[0;31m               for split, char in zip(splits, splits_char)]\n\u001b[0m\u001b[1;32m    320\u001b[0m         \u001b[0mhists\u001b[0m \u001b[0;34m=\u001b[0m \u001b[0;34m[\u001b[0m\u001b[0mh\u001b[0m \u001b[0;32mfor\u001b[0m \u001b[0mm\u001b[0m\u001b[0;34m,\u001b[0m \u001b[0mh\u001b[0m \u001b[0;32min\u001b[0m \u001b[0mmh\u001b[0m\u001b[0;34m]\u001b[0m\u001b[0;34m\u001b[0m\u001b[0;34m\u001b[0m\u001b[0m\n\u001b[1;32m    321\u001b[0m         \u001b[0mmodels\u001b[0m \u001b[0;34m=\u001b[0m \u001b[0;34m[\u001b[0m\u001b[0mm\u001b[0m \u001b[0;32mfor\u001b[0m \u001b[0mm\u001b[0m\u001b[0;34m,\u001b[0m \u001b[0mh\u001b[0m \u001b[0;32min\u001b[0m \u001b[0mmh\u001b[0m\u001b[0;34m]\u001b[0m\u001b[0;34m\u001b[0m\u001b[0;34m\u001b[0m\u001b[0m\n",
      "\u001b[0;32m~/NER/ner_utils.py\u001b[0m in \u001b[0;36mcreate_model\u001b[0;34m(words, chars, max_len, n_words, n_tags, max_len_char, n_pos, n_chars, embedding_mats, use_word, use_pos, embedding_matrix, embed_dim, trainable, input_dropout, stack_lstm, epochs, early_stopping, patience, min_delta, use_char, crf, add_random_embedding, pretrained_embed_dim, stack_cross, stack_double, rec_dropout, verbose)\u001b[0m\n\u001b[1;32m    263\u001b[0m         \u001b[0mes\u001b[0m\u001b[0;34m=\u001b[0m\u001b[0;32mNone\u001b[0m\u001b[0;34m\u001b[0m\u001b[0;34m\u001b[0m\u001b[0m\n\u001b[1;32m    264\u001b[0m     history = model.fit(train_data, np.array(y_tr), batch_size=32, epochs=epochs, \n\u001b[0;32m--> 265\u001b[0;31m                         validation_split=0.1, verbose=verbose, callbacks=es)\n\u001b[0m\u001b[1;32m    266\u001b[0m     \u001b[0mhist\u001b[0m \u001b[0;34m=\u001b[0m \u001b[0mpd\u001b[0m\u001b[0;34m.\u001b[0m\u001b[0mDataFrame\u001b[0m\u001b[0;34m(\u001b[0m\u001b[0mhistory\u001b[0m\u001b[0;34m.\u001b[0m\u001b[0mhistory\u001b[0m\u001b[0;34m)\u001b[0m\u001b[0;34m\u001b[0m\u001b[0;34m\u001b[0m\u001b[0m\n\u001b[1;32m    267\u001b[0m \u001b[0;34m\u001b[0m\u001b[0m\n",
      "\u001b[0;32m~/anaconda3/envs/tf/lib/python3.6/site-packages/keras/engine/training.py\u001b[0m in \u001b[0;36mfit\u001b[0;34m(self, x, y, batch_size, epochs, verbose, callbacks, validation_split, validation_data, shuffle, class_weight, sample_weight, initial_epoch, steps_per_epoch, validation_steps, **kwargs)\u001b[0m\n\u001b[1;32m   1037\u001b[0m                                         \u001b[0minitial_epoch\u001b[0m\u001b[0;34m=\u001b[0m\u001b[0minitial_epoch\u001b[0m\u001b[0;34m,\u001b[0m\u001b[0;34m\u001b[0m\u001b[0;34m\u001b[0m\u001b[0m\n\u001b[1;32m   1038\u001b[0m                                         \u001b[0msteps_per_epoch\u001b[0m\u001b[0;34m=\u001b[0m\u001b[0msteps_per_epoch\u001b[0m\u001b[0;34m,\u001b[0m\u001b[0;34m\u001b[0m\u001b[0;34m\u001b[0m\u001b[0m\n\u001b[0;32m-> 1039\u001b[0;31m                                         validation_steps=validation_steps)\n\u001b[0m\u001b[1;32m   1040\u001b[0m \u001b[0;34m\u001b[0m\u001b[0m\n\u001b[1;32m   1041\u001b[0m     def evaluate(self, x=None, y=None,\n",
      "\u001b[0;32m~/anaconda3/envs/tf/lib/python3.6/site-packages/keras/engine/training_arrays.py\u001b[0m in \u001b[0;36mfit_loop\u001b[0;34m(model, f, ins, out_labels, batch_size, epochs, verbose, callbacks, val_f, val_ins, shuffle, callback_metrics, initial_epoch, steps_per_epoch, validation_steps)\u001b[0m\n\u001b[1;32m    197\u001b[0m                     \u001b[0mins_batch\u001b[0m\u001b[0;34m[\u001b[0m\u001b[0mi\u001b[0m\u001b[0;34m]\u001b[0m \u001b[0;34m=\u001b[0m \u001b[0mins_batch\u001b[0m\u001b[0;34m[\u001b[0m\u001b[0mi\u001b[0m\u001b[0;34m]\u001b[0m\u001b[0;34m.\u001b[0m\u001b[0mtoarray\u001b[0m\u001b[0;34m(\u001b[0m\u001b[0;34m)\u001b[0m\u001b[0;34m\u001b[0m\u001b[0;34m\u001b[0m\u001b[0m\n\u001b[1;32m    198\u001b[0m \u001b[0;34m\u001b[0m\u001b[0m\n\u001b[0;32m--> 199\u001b[0;31m                 \u001b[0mouts\u001b[0m \u001b[0;34m=\u001b[0m \u001b[0mf\u001b[0m\u001b[0;34m(\u001b[0m\u001b[0mins_batch\u001b[0m\u001b[0;34m)\u001b[0m\u001b[0;34m\u001b[0m\u001b[0;34m\u001b[0m\u001b[0m\n\u001b[0m\u001b[1;32m    200\u001b[0m                 \u001b[0mouts\u001b[0m \u001b[0;34m=\u001b[0m \u001b[0mto_list\u001b[0m\u001b[0;34m(\u001b[0m\u001b[0mouts\u001b[0m\u001b[0;34m)\u001b[0m\u001b[0;34m\u001b[0m\u001b[0;34m\u001b[0m\u001b[0m\n\u001b[1;32m    201\u001b[0m                 \u001b[0;32mfor\u001b[0m \u001b[0ml\u001b[0m\u001b[0;34m,\u001b[0m \u001b[0mo\u001b[0m \u001b[0;32min\u001b[0m \u001b[0mzip\u001b[0m\u001b[0;34m(\u001b[0m\u001b[0mout_labels\u001b[0m\u001b[0;34m,\u001b[0m \u001b[0mouts\u001b[0m\u001b[0;34m)\u001b[0m\u001b[0;34m:\u001b[0m\u001b[0;34m\u001b[0m\u001b[0;34m\u001b[0m\u001b[0m\n",
      "\u001b[0;32m~/anaconda3/envs/tf/lib/python3.6/site-packages/keras/backend/tensorflow_backend.py\u001b[0m in \u001b[0;36m__call__\u001b[0;34m(self, inputs)\u001b[0m\n\u001b[1;32m   2713\u001b[0m                 \u001b[0;32mreturn\u001b[0m \u001b[0mself\u001b[0m\u001b[0;34m.\u001b[0m\u001b[0m_legacy_call\u001b[0m\u001b[0;34m(\u001b[0m\u001b[0minputs\u001b[0m\u001b[0;34m)\u001b[0m\u001b[0;34m\u001b[0m\u001b[0;34m\u001b[0m\u001b[0m\n\u001b[1;32m   2714\u001b[0m \u001b[0;34m\u001b[0m\u001b[0m\n\u001b[0;32m-> 2715\u001b[0;31m             \u001b[0;32mreturn\u001b[0m \u001b[0mself\u001b[0m\u001b[0;34m.\u001b[0m\u001b[0m_call\u001b[0m\u001b[0;34m(\u001b[0m\u001b[0minputs\u001b[0m\u001b[0;34m)\u001b[0m\u001b[0;34m\u001b[0m\u001b[0;34m\u001b[0m\u001b[0m\n\u001b[0m\u001b[1;32m   2716\u001b[0m         \u001b[0;32melse\u001b[0m\u001b[0;34m:\u001b[0m\u001b[0;34m\u001b[0m\u001b[0;34m\u001b[0m\u001b[0m\n\u001b[1;32m   2717\u001b[0m             \u001b[0;32mif\u001b[0m \u001b[0mpy_any\u001b[0m\u001b[0;34m(\u001b[0m\u001b[0mis_tensor\u001b[0m\u001b[0;34m(\u001b[0m\u001b[0mx\u001b[0m\u001b[0;34m)\u001b[0m \u001b[0;32mfor\u001b[0m \u001b[0mx\u001b[0m \u001b[0;32min\u001b[0m \u001b[0minputs\u001b[0m\u001b[0;34m)\u001b[0m\u001b[0;34m:\u001b[0m\u001b[0;34m\u001b[0m\u001b[0;34m\u001b[0m\u001b[0m\n",
      "\u001b[0;32m~/anaconda3/envs/tf/lib/python3.6/site-packages/keras/backend/tensorflow_backend.py\u001b[0m in \u001b[0;36m_call\u001b[0;34m(self, inputs)\u001b[0m\n\u001b[1;32m   2673\u001b[0m             \u001b[0mfetched\u001b[0m \u001b[0;34m=\u001b[0m \u001b[0mself\u001b[0m\u001b[0;34m.\u001b[0m\u001b[0m_callable_fn\u001b[0m\u001b[0;34m(\u001b[0m\u001b[0;34m*\u001b[0m\u001b[0marray_vals\u001b[0m\u001b[0;34m,\u001b[0m \u001b[0mrun_metadata\u001b[0m\u001b[0;34m=\u001b[0m\u001b[0mself\u001b[0m\u001b[0;34m.\u001b[0m\u001b[0mrun_metadata\u001b[0m\u001b[0;34m)\u001b[0m\u001b[0;34m\u001b[0m\u001b[0;34m\u001b[0m\u001b[0m\n\u001b[1;32m   2674\u001b[0m         \u001b[0;32melse\u001b[0m\u001b[0;34m:\u001b[0m\u001b[0;34m\u001b[0m\u001b[0;34m\u001b[0m\u001b[0m\n\u001b[0;32m-> 2675\u001b[0;31m             \u001b[0mfetched\u001b[0m \u001b[0;34m=\u001b[0m \u001b[0mself\u001b[0m\u001b[0;34m.\u001b[0m\u001b[0m_callable_fn\u001b[0m\u001b[0;34m(\u001b[0m\u001b[0;34m*\u001b[0m\u001b[0marray_vals\u001b[0m\u001b[0;34m)\u001b[0m\u001b[0;34m\u001b[0m\u001b[0;34m\u001b[0m\u001b[0m\n\u001b[0m\u001b[1;32m   2676\u001b[0m         \u001b[0;32mreturn\u001b[0m \u001b[0mfetched\u001b[0m\u001b[0;34m[\u001b[0m\u001b[0;34m:\u001b[0m\u001b[0mlen\u001b[0m\u001b[0;34m(\u001b[0m\u001b[0mself\u001b[0m\u001b[0;34m.\u001b[0m\u001b[0moutputs\u001b[0m\u001b[0;34m)\u001b[0m\u001b[0;34m]\u001b[0m\u001b[0;34m\u001b[0m\u001b[0;34m\u001b[0m\u001b[0m\n\u001b[1;32m   2677\u001b[0m \u001b[0;34m\u001b[0m\u001b[0m\n",
      "\u001b[0;32m~/anaconda3/envs/tf/lib/python3.6/site-packages/tensorflow/python/client/session.py\u001b[0m in \u001b[0;36m__call__\u001b[0;34m(self, *args, **kwargs)\u001b[0m\n\u001b[1;32m   1437\u001b[0m           ret = tf_session.TF_SessionRunCallable(\n\u001b[1;32m   1438\u001b[0m               \u001b[0mself\u001b[0m\u001b[0;34m.\u001b[0m\u001b[0m_session\u001b[0m\u001b[0;34m.\u001b[0m\u001b[0m_session\u001b[0m\u001b[0;34m,\u001b[0m \u001b[0mself\u001b[0m\u001b[0;34m.\u001b[0m\u001b[0m_handle\u001b[0m\u001b[0;34m,\u001b[0m \u001b[0margs\u001b[0m\u001b[0;34m,\u001b[0m \u001b[0mstatus\u001b[0m\u001b[0;34m,\u001b[0m\u001b[0;34m\u001b[0m\u001b[0;34m\u001b[0m\u001b[0m\n\u001b[0;32m-> 1439\u001b[0;31m               run_metadata_ptr)\n\u001b[0m\u001b[1;32m   1440\u001b[0m         \u001b[0;32mif\u001b[0m \u001b[0mrun_metadata\u001b[0m\u001b[0;34m:\u001b[0m\u001b[0;34m\u001b[0m\u001b[0;34m\u001b[0m\u001b[0m\n\u001b[1;32m   1441\u001b[0m           \u001b[0mproto_data\u001b[0m \u001b[0;34m=\u001b[0m \u001b[0mtf_session\u001b[0m\u001b[0;34m.\u001b[0m\u001b[0mTF_GetBuffer\u001b[0m\u001b[0;34m(\u001b[0m\u001b[0mrun_metadata_ptr\u001b[0m\u001b[0;34m)\u001b[0m\u001b[0;34m\u001b[0m\u001b[0;34m\u001b[0m\u001b[0m\n",
      "\u001b[0;31mKeyboardInterrupt\u001b[0m: "
     ]
    }
   ],
   "source": [
    "configs, results, preds, histories = run_models(configs, splits, splits_char, embedding_mats, \n",
    "                                                words, max_len, n_words, idx2word, idx2tag,\n",
    "                                                n_tags, max_len_char, n_pos, n_chars,\n",
    "                                                run_name='naama_morph', out_folder='outputs',\n",
    "                                                skip_if_model_exists=True)"
   ]
  },
  {
   "cell_type": "code",
   "execution_count": 44,
   "metadata": {},
   "outputs": [
    {
     "data": {
      "text/plain": [
       "[[(66.60527931246163, 57.28616684266103, 61.595231336928755),\n",
       "  (67.72334293948127, 61.61510225485055, 64.52498627127952),\n",
       "  (66.27027027027027, 61.7632241813602, 63.93741851368971)],\n",
       " [(73.11243889190658, 71.06652587117213, 72.07496653279786),\n",
       "  (74.6727376209448, 68.79916098584164, 71.61572052401746),\n",
       "  (72.9381443298969, 71.28463476070529, 72.10191082802548)],\n",
       " [(77.7602523659306, 78.08870116156284, 77.9241306638567),\n",
       "  (76.30753138075313, 76.50760356581017, 76.40743650170201),\n",
       "  (81.04683195592285, 74.1057934508816, 77.42105263157893)],\n",
       " [(81.0481736368449, 80.83421330517423, 80.94105207507269),\n",
       "  (80.71772897696839, 79.02464604090194, 79.8622151563328),\n",
       "  (80.66496163682865, 79.44584382871537, 80.0507614213198)],\n",
       " [(80.94905792044662, 61.246040126715954, 69.73249173429517),\n",
       "  (72.96969696969697, 63.13581541688515, 67.69749789148159),\n",
       "  (70.72921978582356, 69.87405541561714, 70.29903699949315)],\n",
       " [(75.57702630166399, 74.34002111932418, 74.95342028214),\n",
       "  (73.40534979423869, 74.82957524908232, 74.1106206180213),\n",
       "  (77.78364116094987, 74.25692695214106, 75.97938144329896)],\n",
       " [(83.2164058283864, 81.41499472016895, 82.30584467574059),\n",
       "  (80.12422360248446, 81.1746198217095, 80.646001562907),\n",
       "  (83.34179786693753, 82.67002518891687, 83.00455235204855)],\n",
       " [(84.09689310163245, 84.31890179514255, 84.2077511204851),\n",
       "  (83.13577586206897, 80.91242789722077, 82.00903534414032),\n",
       "  (84.26966292134831, 83.12342569269522, 83.69261983261477)]]"
      ]
     },
     "execution_count": 44,
     "metadata": {},
     "output_type": "execute_result"
    }
   ],
   "source": [
    "results"
   ]
  },
  {
   "cell_type": "code",
   "execution_count": 46,
   "metadata": {},
   "outputs": [],
   "source": [
    "for c in configs:\n",
    "    if 'embedding_matrix' in c:\n",
    "        c.update({'embedding_matrix': 'fastext'}) "
   ]
  },
  {
   "cell_type": "code",
   "execution_count": 47,
   "metadata": {},
   "outputs": [],
   "source": [
    "defaults = {'use_word': True, 'use_pos': False, 'embedding_matrix': None, \n",
    "            'embed_dim': 70, 'trainable': True, 'input_dropout': False, \n",
    "            'stack_lstm': 1, 'epochs': 100, 'early_stopping': True, 'patience': 20, \n",
    "            'min_delta': 0.0001, 'use_char': False, 'crf': False, 'stack_cross': False, \n",
    "            'stack_double': False, 'rec_dropout': 0.1}"
   ]
  },
  {
   "cell_type": "code",
   "execution_count": 48,
   "metadata": {},
   "outputs": [],
   "source": [
    "for conf in configs:\n",
    "    conf.update({'use_morpheme': True})\n",
    "    conf.update({'use_word': False})\n",
    "\n",
    "    for key in defaults:\n",
    "        if key not in conf:\n",
    "            conf[key] = defaults[key]"
   ]
  },
  {
   "cell_type": "code",
   "execution_count": null,
   "metadata": {},
   "outputs": [],
   "source": [
    "len(list(zip(configs, results, preds, histories)))"
   ]
  },
  {
   "cell_type": "raw",
   "metadata": {},
   "source": [
    "import pickle\n",
    "with open('naama_morph_results_1.pkl', 'wb') as f:\n",
    "    pickle.dump(list(zip(configs, results, preds, histories)), f)"
   ]
  },
  {
   "cell_type": "code",
   "execution_count": 52,
   "metadata": {},
   "outputs": [],
   "source": [
    "def get_results_df(configs, results):\n",
    "    dict_res = []\n",
    "    for conf, res in zip(configs, results):\n",
    "        dr = {}\n",
    "        for i, r in enumerate(res):\n",
    "            split_name = chr(ord('a')+i)\n",
    "            dr['prec_'+split_name], dr['recall_'+split_name], dr['f1_'+split_name] = r\n",
    "        dr.update(conf)\n",
    "        dict_res.append(dr)\n",
    "    rdf = (pd.DataFrame(dict_res)\n",
    "           .assign(prec = lambda x: (x.prec_a + x.prec_b + x.prec_c)/3)\n",
    "           .assign(recall = lambda x: (x.recall_a + x.recall_b + x.recall_c)/3)\n",
    "           .assign(f1 = lambda x: (x.f1_a + x.f1_b + x.f1_c)/3))\n",
    "    return rdf"
   ]
  },
  {
   "cell_type": "code",
   "execution_count": 53,
   "metadata": {},
   "outputs": [],
   "source": [
    "res1 = pickle.load(open('treebank_results_1.pkl', 'rb'))"
   ]
  },
  {
   "cell_type": "code",
   "execution_count": 54,
   "metadata": {},
   "outputs": [],
   "source": [
    "res2 = pickle.load(open('treebank_results_2_test25.pkl', 'rb'))"
   ]
  },
  {
   "cell_type": "code",
   "execution_count": 57,
   "metadata": {},
   "outputs": [],
   "source": [
    "rdf1 = get_results_df([c for c, r, h in res1], [r for c, r, h in res1])"
   ]
  },
  {
   "cell_type": "code",
   "execution_count": 58,
   "metadata": {},
   "outputs": [],
   "source": [
    "rdf2 = get_results_df([c for c, r, p, h in res2], [r for c, r, p, h in res2])"
   ]
  },
  {
   "cell_type": "code",
   "execution_count": 60,
   "metadata": {},
   "outputs": [
    {
     "data": {
      "text/html": [
       "<div>\n",
       "<style scoped>\n",
       "    .dataframe tbody tr th:only-of-type {\n",
       "        vertical-align: middle;\n",
       "    }\n",
       "\n",
       "    .dataframe tbody tr th {\n",
       "        vertical-align: top;\n",
       "    }\n",
       "\n",
       "    .dataframe thead th {\n",
       "        text-align: right;\n",
       "    }\n",
       "</style>\n",
       "<table border=\"1\" class=\"dataframe\">\n",
       "  <thead>\n",
       "    <tr style=\"text-align: right;\">\n",
       "      <th></th>\n",
       "      <th>crf</th>\n",
       "      <th>early_stopping</th>\n",
       "      <th>embed_dim</th>\n",
       "      <th>embedding_matrix</th>\n",
       "      <th>epochs</th>\n",
       "      <th>f1_a</th>\n",
       "      <th>f1_b</th>\n",
       "      <th>f1_c</th>\n",
       "      <th>input_dropout</th>\n",
       "      <th>min_delta</th>\n",
       "      <th>...</th>\n",
       "      <th>stack_double</th>\n",
       "      <th>stack_lstm</th>\n",
       "      <th>trainable</th>\n",
       "      <th>use_char</th>\n",
       "      <th>use_morpheme</th>\n",
       "      <th>use_pos</th>\n",
       "      <th>use_word</th>\n",
       "      <th>prec</th>\n",
       "      <th>recall</th>\n",
       "      <th>f1</th>\n",
       "    </tr>\n",
       "  </thead>\n",
       "  <tbody>\n",
       "    <tr>\n",
       "      <th>0</th>\n",
       "      <td>True</td>\n",
       "      <td>True</td>\n",
       "      <td>70</td>\n",
       "      <td>None</td>\n",
       "      <td>100</td>\n",
       "      <td>61.595231</td>\n",
       "      <td>64.524986</td>\n",
       "      <td>63.937419</td>\n",
       "      <td>False</td>\n",
       "      <td>0.0001</td>\n",
       "      <td>...</td>\n",
       "      <td>False</td>\n",
       "      <td>1</td>\n",
       "      <td>True</td>\n",
       "      <td>False</td>\n",
       "      <td>True</td>\n",
       "      <td>False</td>\n",
       "      <td>False</td>\n",
       "      <td>66.866298</td>\n",
       "      <td>60.221498</td>\n",
       "      <td>63.352545</td>\n",
       "    </tr>\n",
       "    <tr>\n",
       "      <th>1</th>\n",
       "      <td>True</td>\n",
       "      <td>True</td>\n",
       "      <td>70</td>\n",
       "      <td>None</td>\n",
       "      <td>100</td>\n",
       "      <td>72.074967</td>\n",
       "      <td>71.615721</td>\n",
       "      <td>72.101911</td>\n",
       "      <td>False</td>\n",
       "      <td>0.0001</td>\n",
       "      <td>...</td>\n",
       "      <td>False</td>\n",
       "      <td>1</td>\n",
       "      <td>True</td>\n",
       "      <td>False</td>\n",
       "      <td>True</td>\n",
       "      <td>True</td>\n",
       "      <td>False</td>\n",
       "      <td>73.574440</td>\n",
       "      <td>70.383441</td>\n",
       "      <td>71.930866</td>\n",
       "    </tr>\n",
       "    <tr>\n",
       "      <th>2</th>\n",
       "      <td>True</td>\n",
       "      <td>True</td>\n",
       "      <td>300</td>\n",
       "      <td>fastext</td>\n",
       "      <td>100</td>\n",
       "      <td>77.924131</td>\n",
       "      <td>76.407437</td>\n",
       "      <td>77.421053</td>\n",
       "      <td>False</td>\n",
       "      <td>0.0001</td>\n",
       "      <td>...</td>\n",
       "      <td>False</td>\n",
       "      <td>1</td>\n",
       "      <td>True</td>\n",
       "      <td>False</td>\n",
       "      <td>True</td>\n",
       "      <td>False</td>\n",
       "      <td>False</td>\n",
       "      <td>78.371539</td>\n",
       "      <td>76.234033</td>\n",
       "      <td>77.250873</td>\n",
       "    </tr>\n",
       "    <tr>\n",
       "      <th>3</th>\n",
       "      <td>True</td>\n",
       "      <td>True</td>\n",
       "      <td>300</td>\n",
       "      <td>fastext</td>\n",
       "      <td>100</td>\n",
       "      <td>80.941052</td>\n",
       "      <td>79.862215</td>\n",
       "      <td>80.050761</td>\n",
       "      <td>False</td>\n",
       "      <td>0.0001</td>\n",
       "      <td>...</td>\n",
       "      <td>False</td>\n",
       "      <td>1</td>\n",
       "      <td>True</td>\n",
       "      <td>False</td>\n",
       "      <td>True</td>\n",
       "      <td>True</td>\n",
       "      <td>False</td>\n",
       "      <td>80.810288</td>\n",
       "      <td>79.768234</td>\n",
       "      <td>80.284676</td>\n",
       "    </tr>\n",
       "    <tr>\n",
       "      <th>4</th>\n",
       "      <td>True</td>\n",
       "      <td>True</td>\n",
       "      <td>70</td>\n",
       "      <td>None</td>\n",
       "      <td>100</td>\n",
       "      <td>69.732492</td>\n",
       "      <td>67.697498</td>\n",
       "      <td>70.299037</td>\n",
       "      <td>False</td>\n",
       "      <td>0.0001</td>\n",
       "      <td>...</td>\n",
       "      <td>False</td>\n",
       "      <td>1</td>\n",
       "      <td>True</td>\n",
       "      <td>True</td>\n",
       "      <td>True</td>\n",
       "      <td>False</td>\n",
       "      <td>False</td>\n",
       "      <td>74.882658</td>\n",
       "      <td>64.751970</td>\n",
       "      <td>69.243009</td>\n",
       "    </tr>\n",
       "  </tbody>\n",
       "</table>\n",
       "<p>5 rows × 29 columns</p>\n",
       "</div>"
      ],
      "text/plain": [
       "    crf  early_stopping  embed_dim embedding_matrix  epochs       f1_a  \\\n",
       "0  True            True         70             None     100  61.595231   \n",
       "1  True            True         70             None     100  72.074967   \n",
       "2  True            True        300          fastext     100  77.924131   \n",
       "3  True            True        300          fastext     100  80.941052   \n",
       "4  True            True         70             None     100  69.732492   \n",
       "\n",
       "        f1_b       f1_c  input_dropout  min_delta  ...  stack_double  \\\n",
       "0  64.524986  63.937419          False     0.0001  ...         False   \n",
       "1  71.615721  72.101911          False     0.0001  ...         False   \n",
       "2  76.407437  77.421053          False     0.0001  ...         False   \n",
       "3  79.862215  80.050761          False     0.0001  ...         False   \n",
       "4  67.697498  70.299037          False     0.0001  ...         False   \n",
       "\n",
       "   stack_lstm  trainable  use_char  use_morpheme  use_pos  use_word  \\\n",
       "0           1       True     False          True    False     False   \n",
       "1           1       True     False          True     True     False   \n",
       "2           1       True     False          True    False     False   \n",
       "3           1       True     False          True     True     False   \n",
       "4           1       True      True          True    False     False   \n",
       "\n",
       "        prec     recall         f1  \n",
       "0  66.866298  60.221498  63.352545  \n",
       "1  73.574440  70.383441  71.930866  \n",
       "2  78.371539  76.234033  77.250873  \n",
       "3  80.810288  79.768234  80.284676  \n",
       "4  74.882658  64.751970  69.243009  \n",
       "\n",
       "[5 rows x 29 columns]"
      ]
     },
     "execution_count": 60,
     "metadata": {},
     "output_type": "execute_result"
    }
   ],
   "source": [
    "rdf2.head()"
   ]
  },
  {
   "cell_type": "code",
   "execution_count": 61,
   "metadata": {},
   "outputs": [
    {
     "data": {
      "text/html": [
       "<div>\n",
       "<style scoped>\n",
       "    .dataframe tbody tr th:only-of-type {\n",
       "        vertical-align: middle;\n",
       "    }\n",
       "\n",
       "    .dataframe tbody tr th {\n",
       "        vertical-align: top;\n",
       "    }\n",
       "\n",
       "    .dataframe thead tr th {\n",
       "        text-align: left;\n",
       "    }\n",
       "\n",
       "    .dataframe thead tr:last-of-type th {\n",
       "        text-align: right;\n",
       "    }\n",
       "</style>\n",
       "<table border=\"1\" class=\"dataframe\">\n",
       "  <thead>\n",
       "    <tr>\n",
       "      <th>use_char</th>\n",
       "      <th colspan=\"2\" halign=\"left\">False</th>\n",
       "      <th colspan=\"2\" halign=\"left\">True</th>\n",
       "    </tr>\n",
       "    <tr>\n",
       "      <th>use_pos</th>\n",
       "      <th>False</th>\n",
       "      <th>True</th>\n",
       "      <th>False</th>\n",
       "      <th>True</th>\n",
       "    </tr>\n",
       "    <tr>\n",
       "      <th>embedding_matrix</th>\n",
       "      <th></th>\n",
       "      <th></th>\n",
       "      <th></th>\n",
       "      <th></th>\n",
       "    </tr>\n",
       "  </thead>\n",
       "  <tbody>\n",
       "    <tr>\n",
       "      <th>No</th>\n",
       "      <td>63.4</td>\n",
       "      <td>71.9</td>\n",
       "      <td>69.2</td>\n",
       "      <td>75.0</td>\n",
       "    </tr>\n",
       "    <tr>\n",
       "      <th>fastext</th>\n",
       "      <td>77.3</td>\n",
       "      <td>80.3</td>\n",
       "      <td>82.0</td>\n",
       "      <td>83.3</td>\n",
       "    </tr>\n",
       "  </tbody>\n",
       "</table>\n",
       "</div>"
      ],
      "text/plain": [
       "use_char         False       True       \n",
       "use_pos          False True  False True \n",
       "embedding_matrix                        \n",
       "No                63.4  71.9  69.2  75.0\n",
       "fastext           77.3  80.3  82.0  83.3"
      ]
     },
     "execution_count": 61,
     "metadata": {},
     "output_type": "execute_result"
    }
   ],
   "source": [
    " (rdf2.fillna('No')\n",
    " .groupby(['use_char', 'use_pos', 'embedding_matrix'])\n",
    " .apply(lambda x: x.f1.mean())\n",
    " .unstack(level=[0,1])\n",
    " .round(1)\n",
    " )"
   ]
  },
  {
   "cell_type": "code",
   "execution_count": 63,
   "metadata": {},
   "outputs": [
    {
     "data": {
      "text/html": [
       "<div>\n",
       "<style scoped>\n",
       "    .dataframe tbody tr th:only-of-type {\n",
       "        vertical-align: middle;\n",
       "    }\n",
       "\n",
       "    .dataframe tbody tr th {\n",
       "        vertical-align: top;\n",
       "    }\n",
       "\n",
       "    .dataframe thead tr th {\n",
       "        text-align: left;\n",
       "    }\n",
       "\n",
       "    .dataframe thead tr:last-of-type th {\n",
       "        text-align: right;\n",
       "    }\n",
       "</style>\n",
       "<table border=\"1\" class=\"dataframe\">\n",
       "  <thead>\n",
       "    <tr>\n",
       "      <th>use_char</th>\n",
       "      <th colspan=\"2\" halign=\"left\">False</th>\n",
       "      <th colspan=\"2\" halign=\"left\">True</th>\n",
       "    </tr>\n",
       "    <tr>\n",
       "      <th>use_pos</th>\n",
       "      <th>False</th>\n",
       "      <th>True</th>\n",
       "      <th>False</th>\n",
       "      <th>True</th>\n",
       "    </tr>\n",
       "    <tr>\n",
       "      <th>embedding_matrix</th>\n",
       "      <th></th>\n",
       "      <th></th>\n",
       "      <th></th>\n",
       "      <th></th>\n",
       "    </tr>\n",
       "  </thead>\n",
       "  <tbody>\n",
       "    <tr>\n",
       "      <th>No</th>\n",
       "      <td>67.9</td>\n",
       "      <td>74.4</td>\n",
       "      <td>70.7</td>\n",
       "      <td>75.8</td>\n",
       "    </tr>\n",
       "    <tr>\n",
       "      <th>fastext</th>\n",
       "      <td>79.4</td>\n",
       "      <td>83.4</td>\n",
       "      <td>82.9</td>\n",
       "      <td>84.6</td>\n",
       "    </tr>\n",
       "  </tbody>\n",
       "</table>\n",
       "</div>"
      ],
      "text/plain": [
       "use_char         False       True       \n",
       "use_pos          False True  False True \n",
       "embedding_matrix                        \n",
       "No                67.9  74.4  70.7  75.8\n",
       "fastext           79.4  83.4  82.9  84.6"
      ]
     },
     "execution_count": 63,
     "metadata": {},
     "output_type": "execute_result"
    }
   ],
   "source": [
    " (rdf1.fillna('No')\n",
    " .groupby(['use_char', 'use_pos', 'embedding_matrix'])\n",
    " .apply(lambda x: x.f1.mean())\n",
    " .unstack(level=[0,1])\n",
    " .round(1)\n",
    " )"
   ]
  },
  {
   "cell_type": "code",
   "execution_count": null,
   "metadata": {},
   "outputs": [],
   "source": []
  }
 ],
 "metadata": {
  "kernelspec": {
   "display_name": "Python 3",
   "language": "python",
   "name": "python3"
  },
  "language_info": {
   "codemirror_mode": {
    "name": "ipython",
    "version": 3
   },
   "file_extension": ".py",
   "mimetype": "text/x-python",
   "name": "python",
   "nbconvert_exporter": "python",
   "pygments_lexer": "ipython3",
   "version": "3.6.8"
  }
 },
 "nbformat": 4,
 "nbformat_minor": 2
}
