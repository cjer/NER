{
 "cells": [
  {
   "cell_type": "markdown",
   "metadata": {},
   "source": [
    "# CoNLL 2003 NER with Bi-LSTM-CRF"
   ]
  },
  {
   "cell_type": "code",
   "execution_count": 92,
   "metadata": {},
   "outputs": [],
   "source": [
    "import os\n",
    "os.environ[\"CUDA_DEVICE_ORDER\"]=\"PCI_BUS_ID\";\n",
    " \n",
    "# The GPU id to use, usually either \"0\" or \"1\";\n",
    "os.environ[\"CUDA_VISIBLE_DEVICES\"]=\"\";  "
   ]
  },
  {
   "cell_type": "code",
   "execution_count": 93,
   "metadata": {},
   "outputs": [
    {
     "name": "stdout",
     "output_type": "stream",
     "text": [
      "The autoreload extension is already loaded. To reload it, use:\n",
      "  %reload_ext autoreload\n"
     ]
    }
   ],
   "source": [
    "%load_ext autoreload\n",
    "%autoreload 2"
   ]
  },
  {
   "cell_type": "code",
   "execution_count": 94,
   "metadata": {
    "ExecuteTime": {
     "end_time": "2019-03-13T07:20:24.034028Z",
     "start_time": "2019-03-13T07:20:22.687626Z"
    }
   },
   "outputs": [],
   "source": [
    "%matplotlib inline"
   ]
  },
  {
   "cell_type": "code",
   "execution_count": 95,
   "metadata": {
    "ExecuteTime": {
     "end_time": "2019-03-13T07:20:24.382406Z",
     "start_time": "2019-03-13T07:20:24.037019Z"
    }
   },
   "outputs": [],
   "source": [
    "import pandas as pd\n",
    "import numpy as np"
   ]
  },
  {
   "cell_type": "code",
   "execution_count": 96,
   "metadata": {
    "ExecuteTime": {
     "end_time": "2019-03-13T07:20:27.996727Z",
     "start_time": "2019-03-13T07:20:24.385088Z"
    }
   },
   "outputs": [],
   "source": [
    "import matplotlib.pyplot as plt\n",
    "import seaborn as sns\n",
    "sns.set_context('paper')\n",
    "sns.set_style('white')"
   ]
  },
  {
   "cell_type": "code",
   "execution_count": 97,
   "metadata": {
    "ExecuteTime": {
     "end_time": "2019-03-13T07:20:28.016424Z",
     "start_time": "2019-03-13T07:20:27.999427Z"
    }
   },
   "outputs": [],
   "source": [
    "from conlleval import evaluate"
   ]
  },
  {
   "cell_type": "code",
   "execution_count": 98,
   "metadata": {},
   "outputs": [],
   "source": [
    "from ner_utils import *"
   ]
  },
  {
   "cell_type": "markdown",
   "metadata": {},
   "source": [
    "## Get  data"
   ]
  },
  {
   "cell_type": "raw",
   "metadata": {},
   "source": [
    "!wget -P data https://raw.githubusercontent.com/synalp/NER/master/corpus/CoNLL-2003/eng.train\n",
    "!wget -P data https://raw.githubusercontent.com/synalp/NER/master/corpus/CoNLL-2003/eng.testa\n",
    "!wget -P data https://raw.githubusercontent.com/synalp/NER/master/corpus/CoNLL-2003/eng.testb\n"
   ]
  },
  {
   "cell_type": "code",
   "execution_count": 99,
   "metadata": {},
   "outputs": [],
   "source": [
    "def IOB2BIO(input_file, output_file):\n",
    "    print(\"Convert IOB -> BIO for file:\", input_file)\n",
    "    with open(input_file,'r') as in_file:\n",
    "        fins = in_file.readlines()\n",
    "    fout = open(output_file,'w')\n",
    "    words = []\n",
    "    labels = []\n",
    "    for line in fins:\n",
    "        if len(line) < 3:\n",
    "            sent_len = len(words)\n",
    "            for idx in range(sent_len):\n",
    "                if \"I-\" in labels[idx]:\n",
    "                    label_type = labels[idx].split('-')[-1]\n",
    "                    if (idx == 0) or (labels[idx-1] == \"O\") or (label_type != labels[idx-1].split('-')[-1]):\n",
    "                        fout.write(words[idx]+\" B-\"+label_type+\"\\n\")\n",
    "                    else:\n",
    "                        fout.write(words[idx]+\" \"+labels[idx]+\"\\n\")\n",
    "                else:\n",
    "                    fout.write(words[idx]+\" \"+labels[idx]+\"\\n\")\n",
    "            fout.write('\\n')\n",
    "            words = []\n",
    "            labels = []\n",
    "        else:\n",
    "            pair = line.strip('\\n').split()\n",
    "            words.append(pair[0])\n",
    "            labels.append(pair[-1].upper())\n",
    "    fout.close()\n",
    "    print(\"BIO file generated:\", output_file)\n",
    "    \n",
    "    \n",
    "def BIO2BIOES(input_file, output_file):\n",
    "    print(\"Convert BIO -> BIOES for file:\", input_file)\n",
    "    with open(input_file,'r') as in_file:\n",
    "        fins = in_file.readlines()\n",
    "    fout = open(output_file,'w')\n",
    "    words = []\n",
    "    labels = []\n",
    "    for line in fins:\n",
    "        if len(line) < 3:\n",
    "            sent_len = len(words)\n",
    "            for idx in range(sent_len):\n",
    "                if \"-\" not in labels[idx]:\n",
    "                    fout.write(words[idx]+\" \"+labels[idx]+\"\\n\")\n",
    "                else:\n",
    "                    label_type = labels[idx].split('-')[-1]\n",
    "                    if \"B-\" in labels[idx]:\n",
    "                        if (idx == sent_len - 1) or (\"I-\" not in labels[idx+1]):\n",
    "                            fout.write(words[idx]+\" S-\"+label_type+\"\\n\")\n",
    "                        else:\n",
    "                            fout.write(words[idx]+\" B-\"+label_type+\"\\n\")\n",
    "                    elif \"I-\" in labels[idx]:\n",
    "                        if (idx == sent_len - 1) or (\"I-\" not in labels[idx+1]):\n",
    "                            fout.write(words[idx]+\" E-\"+label_type+\"\\n\")\n",
    "                        else:\n",
    "                            fout.write(words[idx]+\" I-\"+label_type+\"\\n\")\n",
    "            fout.write('\\n')\n",
    "            words = []\n",
    "            labels = []\n",
    "        else:\n",
    "            pair = line.strip('\\n').split()\n",
    "            words.append(pair[0])\n",
    "            labels.append(pair[-1].upper())\n",
    "    fout.close()\n",
    "    print(\"BIOES file generated:\", output_file)"
   ]
  },
  {
   "cell_type": "raw",
   "metadata": {},
   "source": [
    "IOB2BIO('data/eng.train', 'data/eng.train.bio')\n",
    "BIO2BIOES('data/eng.train.bio', 'data/eng.train.bioes')\n",
    "IOB2BIO('data/eng.testa', 'data/eng.testa.bio')\n",
    "BIO2BIOES('data/eng.testa.bio', 'data/eng.testa.bioes')\n",
    "IOB2BIO('data/eng.testb', 'data/eng.testb.bio')\n",
    "BIO2BIOES('data/eng.testb.bio', 'data/eng.testb.bioes')\n"
   ]
  },
  {
   "cell_type": "code",
   "execution_count": 114,
   "metadata": {},
   "outputs": [],
   "source": [
    "def get_case_feature(token):\n",
    "    if token.isdigit():\n",
    "        return 'digit'\n",
    "    \n",
    "    if token.isalpha():\n",
    "        al = 'alpha_'\n",
    "    elif token.isalnum():\n",
    "        al = 'alnum_'\n",
    "    else:\n",
    "        al = 'misc_'\n",
    "    \n",
    "    if token.isupper():\n",
    "        return al+'upper'\n",
    "    if token.islower():\n",
    "        return al+'lower'\n",
    "    if token.istitle():\n",
    "        return al+'title'\n",
    "    else:\n",
    "        return al+'other'\n",
    "    \n",
    "    return 'unk'\n",
    "        "
   ]
  },
  {
   "cell_type": "code",
   "execution_count": 115,
   "metadata": {},
   "outputs": [],
   "source": [
    "from io import StringIO\n",
    "\n",
    "def read_conll2003(path):\n",
    "    dfs = []\n",
    "    for i, sent in enumerate(open(path, 'r', encoding='utf8').read().split('\\n\\n')):\n",
    "        dfs.append(pd.read_csv(StringIO(sent), sep=' ', header=None, quoting=3, \n",
    "                               names = ['token_str', 'ner'])\n",
    "                  .assign(sent_id = i+1))\n",
    "    \n",
    "    return pd.concat(dfs).reset_index(drop=True).astype(str).assign(cap = lambda x: x.token_str.apply(get_case_feature))"
   ]
  },
  {
   "cell_type": "code",
   "execution_count": 116,
   "metadata": {},
   "outputs": [],
   "source": [
    "train = read_conll2003('data/eng.train.bioes').assign(sent_id=lambda x: x.sent_id.astype(int))\n",
    "testa = read_conll2003('data/eng.testa.bioes').assign(sent_id=lambda x: x.sent_id.astype(int)+train.sent_id.max())\n",
    "testb = read_conll2003('data/eng.testb.bioes').assign(sent_id=lambda x: x.sent_id.astype(int)+testa.sent_id.max())"
   ]
  },
  {
   "cell_type": "code",
   "execution_count": 117,
   "metadata": {},
   "outputs": [
    {
     "data": {
      "text/plain": [
       "(14987, 3466, 3684)"
      ]
     },
     "execution_count": 117,
     "metadata": {},
     "output_type": "execute_result"
    }
   ],
   "source": [
    "train.sent_id.nunique(), testa.sent_id.nunique(), testb.sent_id.nunique()"
   ]
  },
  {
   "cell_type": "code",
   "execution_count": 118,
   "metadata": {},
   "outputs": [
    {
     "data": {
      "text/html": [
       "<div>\n",
       "<style scoped>\n",
       "    .dataframe tbody tr th:only-of-type {\n",
       "        vertical-align: middle;\n",
       "    }\n",
       "\n",
       "    .dataframe tbody tr th {\n",
       "        vertical-align: top;\n",
       "    }\n",
       "\n",
       "    .dataframe thead th {\n",
       "        text-align: right;\n",
       "    }\n",
       "</style>\n",
       "<table border=\"1\" class=\"dataframe\">\n",
       "  <thead>\n",
       "    <tr style=\"text-align: right;\">\n",
       "      <th></th>\n",
       "      <th>token_str</th>\n",
       "      <th>ner</th>\n",
       "      <th>sent_id</th>\n",
       "      <th>cap</th>\n",
       "    </tr>\n",
       "  </thead>\n",
       "  <tbody>\n",
       "    <tr>\n",
       "      <th>0</th>\n",
       "      <td>-DOCSTART-</td>\n",
       "      <td>O</td>\n",
       "      <td>1</td>\n",
       "      <td>misc_upper</td>\n",
       "    </tr>\n",
       "    <tr>\n",
       "      <th>1</th>\n",
       "      <td>EU</td>\n",
       "      <td>S-ORG</td>\n",
       "      <td>2</td>\n",
       "      <td>alpha_upper</td>\n",
       "    </tr>\n",
       "    <tr>\n",
       "      <th>2</th>\n",
       "      <td>rejects</td>\n",
       "      <td>O</td>\n",
       "      <td>2</td>\n",
       "      <td>alpha_lower</td>\n",
       "    </tr>\n",
       "    <tr>\n",
       "      <th>3</th>\n",
       "      <td>German</td>\n",
       "      <td>S-MISC</td>\n",
       "      <td>2</td>\n",
       "      <td>alpha_title</td>\n",
       "    </tr>\n",
       "    <tr>\n",
       "      <th>4</th>\n",
       "      <td>call</td>\n",
       "      <td>O</td>\n",
       "      <td>2</td>\n",
       "      <td>alpha_lower</td>\n",
       "    </tr>\n",
       "  </tbody>\n",
       "</table>\n",
       "</div>"
      ],
      "text/plain": [
       "    token_str     ner  sent_id          cap\n",
       "0  -DOCSTART-       O        1   misc_upper\n",
       "1          EU   S-ORG        2  alpha_upper\n",
       "2     rejects       O        2  alpha_lower\n",
       "3      German  S-MISC        2  alpha_title\n",
       "4        call       O        2  alpha_lower"
      ]
     },
     "execution_count": 118,
     "metadata": {},
     "output_type": "execute_result"
    }
   ],
   "source": [
    "train.head()"
   ]
  },
  {
   "cell_type": "raw",
   "metadata": {},
   "source": [
    "train = train[train.token_str!='-DOCSTART-']\n",
    "testa = testa[testa.token_str!='-DOCSTART-']\n",
    "testb = testb[testb.token_str!='-DOCSTART-']\n",
    "\n",
    "train.head()"
   ]
  },
  {
   "cell_type": "code",
   "execution_count": 119,
   "metadata": {},
   "outputs": [
    {
     "data": {
      "text/plain": [
       "(14987, 3466, 3684)"
      ]
     },
     "execution_count": 119,
     "metadata": {},
     "output_type": "execute_result"
    }
   ],
   "source": [
    "train.sent_id.nunique(), testa.sent_id.nunique(), testb.sent_id.nunique()"
   ]
  },
  {
   "cell_type": "code",
   "execution_count": 120,
   "metadata": {},
   "outputs": [],
   "source": [
    "#train = pd.concat([train, testb])"
   ]
  },
  {
   "cell_type": "code",
   "execution_count": 121,
   "metadata": {},
   "outputs": [
    {
     "data": {
      "text/plain": [
       "14987"
      ]
     },
     "execution_count": 121,
     "metadata": {},
     "output_type": "execute_result"
    }
   ],
   "source": [
    "train.sent_id.nunique()"
   ]
  },
  {
   "cell_type": "code",
   "execution_count": 132,
   "metadata": {},
   "outputs": [
    {
     "data": {
      "text/plain": [
       "sent_id\n",
       "1                        [[-DOCSTART-, O, misc_upper]]\n",
       "2    [[EU, S-ORG, alpha_upper], [rejects, O, alpha_...\n",
       "3    [[Peter, B-PER, alpha_title], [Blackburn, E-PE...\n",
       "4    [[BRUSSELS, S-LOC, alpha_upper], [1996-08-22, ...\n",
       "5    [[The, O, alpha_title], [European, B-ORG, alph...\n",
       "dtype: object"
      ]
     },
     "execution_count": 132,
     "metadata": {},
     "output_type": "execute_result"
    }
   ],
   "source": [
    "train_sents = train.groupby('sent_id')[['token_str', 'ner', 'cap']].apply(lambda x: x.values.tolist())\n",
    "testa_sents = testa.groupby('sent_id')[['token_str', 'ner', 'cap']].apply(lambda x: x.values.tolist())\n",
    "testb_sents = testb.groupby('sent_id')[['token_str', 'ner', 'cap']].apply(lambda x: x.values.tolist())\n",
    "train_sents.head()"
   ]
  },
  {
   "cell_type": "code",
   "execution_count": 133,
   "metadata": {},
   "outputs": [
    {
     "data": {
      "text/plain": [
       "30292"
      ]
     },
     "execution_count": 133,
     "metadata": {},
     "output_type": "execute_result"
    }
   ],
   "source": [
    "words = list(set(train.token_str.values)|set(testa.token_str.values)|set(testb.token_str.values))\n",
    "n_words = len(words); n_words"
   ]
  },
  {
   "cell_type": "code",
   "execution_count": 134,
   "metadata": {},
   "outputs": [
    {
     "data": {
      "text/plain": [
       "17"
      ]
     },
     "execution_count": 134,
     "metadata": {},
     "output_type": "execute_result"
    }
   ],
   "source": [
    "tags = list(set(train.ner.values))\n",
    "n_tags = len(tags); n_tags"
   ]
  },
  {
   "cell_type": "code",
   "execution_count": 135,
   "metadata": {},
   "outputs": [
    {
     "data": {
      "text/plain": [
       "<matplotlib.axes._subplots.AxesSubplot at 0x7fc7c73aba90>"
      ]
     },
     "execution_count": 135,
     "metadata": {},
     "output_type": "execute_result"
    },
    {
     "data": {
      "image/png": "[encoded data removed]",
      "text/plain": [
       "<Figure size 432x288 with 1 Axes>"
      ]
     },
     "metadata": {},
     "output_type": "display_data"
    }
   ],
   "source": [
    "train.groupby('sent_id').size().hist(bins=50)"
   ]
  },
  {
   "cell_type": "code",
   "execution_count": 136,
   "metadata": {},
   "outputs": [],
   "source": [
    "max_len = 60\n",
    "word2idx = {w: i + 2 for i, w in enumerate(words)}\n",
    "word2idx[\"UNK\"] = 1\n",
    "word2idx[\"PAD\"] = 0\n",
    "idx2word = {i: w for w, i in word2idx.items()}\n",
    "tag2idx = {t: i + 1 for i, t in enumerate(tags)}\n",
    "tag2idx[\"PAD\"] = 0\n",
    "idx2tag = {i: w for w, i in tag2idx.items()}"
   ]
  },
  {
   "cell_type": "code",
   "execution_count": 137,
   "metadata": {},
   "outputs": [],
   "source": [
    "from keras.preprocessing.sequence import pad_sequences\n",
    "X_train = [[word2idx[w[0]] for w in s] for s in train_sents]\n",
    "X_testa   = [[word2idx[w[0]] for w in s] for s in testa_sents]\n",
    "X_testb  = [[word2idx[w[0]] for w in s] for s in testb_sents]\n"
   ]
  },
  {
   "cell_type": "code",
   "execution_count": 138,
   "metadata": {},
   "outputs": [
    {
     "data": {
      "text/plain": [
       "array([21824,     0,     0,     0,     0,     0,     0,     0,     0,\n",
       "           0,     0,     0,     0,     0,     0,     0,     0,     0,\n",
       "           0,     0,     0,     0,     0,     0,     0,     0,     0,\n",
       "           0,     0,     0,     0,     0,     0,     0,     0,     0,\n",
       "           0,     0,     0,     0,     0,     0,     0,     0,     0,\n",
       "           0,     0,     0,     0,     0,     0,     0,     0,     0,\n",
       "           0,     0,     0,     0,     0,     0], dtype=int32)"
      ]
     },
     "execution_count": 138,
     "metadata": {},
     "output_type": "execute_result"
    }
   ],
   "source": [
    "X_train = pad_sequences(maxlen=max_len, sequences=X_train, value=word2idx[\"PAD\"], padding='post', truncating='post')\n",
    "X_testa = pad_sequences(maxlen=max_len, sequences=X_testa, value=word2idx[\"PAD\"], padding='post', truncating='post')\n",
    "X_testb = pad_sequences(maxlen=max_len, sequences=X_testb, value=word2idx[\"PAD\"], padding='post', truncating='post')\n",
    "X_train[0]"
   ]
  },
  {
   "cell_type": "code",
   "execution_count": 139,
   "metadata": {},
   "outputs": [
    {
     "data": {
      "text/plain": [
       "12"
      ]
     },
     "execution_count": 139,
     "metadata": {},
     "output_type": "execute_result"
    }
   ],
   "source": [
    "pos = list(set(train.cap.values)|set(testa.cap.values)|set(testb.cap.values))\n",
    "n_pos = len(pos); n_pos"
   ]
  },
  {
   "cell_type": "code",
   "execution_count": 140,
   "metadata": {
    "ExecuteTime": {
     "end_time": "2019-03-13T07:20:48.137589Z",
     "start_time": "2019-03-13T07:20:48.048826Z"
    }
   },
   "outputs": [],
   "source": [
    "pos2idx = {w: i+1 for i, w in enumerate(pos)}\n",
    "pos2idx[\"PAD\"] = 0"
   ]
  },
  {
   "cell_type": "code",
   "execution_count": 141,
   "metadata": {},
   "outputs": [],
   "source": [
    "from keras.preprocessing.sequence import pad_sequences\n",
    "X_pos_train = [[pos2idx[w[2]] for w in s] for s in train_sents]\n",
    "X_pos_testa   = [[pos2idx[w[2]] for w in s] for s in testa_sents]\n",
    "X_pos_testb  = [[pos2idx[w[2]] for w in s] for s in testb_sents]"
   ]
  },
  {
   "cell_type": "code",
   "execution_count": 142,
   "metadata": {},
   "outputs": [
    {
     "data": {
      "text/plain": [
       "array([9, 0, 0, 0, 0, 0, 0, 0, 0, 0, 0, 0, 0, 0, 0, 0, 0, 0, 0, 0, 0, 0,\n",
       "       0, 0, 0, 0, 0, 0, 0, 0, 0, 0, 0, 0, 0, 0, 0, 0, 0, 0, 0, 0, 0, 0,\n",
       "       0, 0, 0, 0, 0, 0, 0, 0, 0, 0, 0, 0, 0, 0, 0, 0], dtype=int32)"
      ]
     },
     "execution_count": 142,
     "metadata": {},
     "output_type": "execute_result"
    }
   ],
   "source": [
    "X_pos_train = pad_sequences(maxlen=max_len, sequences=X_pos_train, value=pos2idx[\"PAD\"], padding='post', truncating='post')\n",
    "X_pos_testa = pad_sequences(maxlen=max_len, sequences=X_pos_testa, value=pos2idx[\"PAD\"], padding='post', truncating='post')\n",
    "X_pos_testb = pad_sequences(maxlen=max_len, sequences=X_pos_testb, value=pos2idx[\"PAD\"], padding='post', truncating='post')\n",
    "X_pos_train[0]"
   ]
  },
  {
   "cell_type": "code",
   "execution_count": 143,
   "metadata": {},
   "outputs": [],
   "source": [
    "from keras.preprocessing.sequence import pad_sequences\n",
    "y_train = [[tag2idx[w[1]] for w in s] for s in train_sents]\n",
    "y_testa = [[tag2idx[w[1]] for w in s] for s in testa_sents]\n",
    "y_testb = [[tag2idx[w[1]] for w in s] for s in testb_sents]"
   ]
  },
  {
   "cell_type": "code",
   "execution_count": 144,
   "metadata": {},
   "outputs": [
    {
     "data": {
      "text/plain": [
       "array([3, 0, 0, 0, 0, 0, 0, 0, 0, 0, 0, 0, 0, 0, 0, 0, 0, 0, 0, 0, 0, 0,\n",
       "       0, 0, 0, 0, 0, 0, 0, 0, 0, 0, 0, 0, 0, 0, 0, 0, 0, 0, 0, 0, 0, 0,\n",
       "       0, 0, 0, 0, 0, 0, 0, 0, 0, 0, 0, 0, 0, 0, 0, 0], dtype=int32)"
      ]
     },
     "execution_count": 144,
     "metadata": {},
     "output_type": "execute_result"
    }
   ],
   "source": [
    "y_numer_train = pad_sequences(maxlen=max_len, sequences=y_train, value=tag2idx[\"PAD\"], padding='post', truncating='post')\n",
    "y_numer_testa = pad_sequences(maxlen=max_len, sequences=y_testa, value=tag2idx[\"PAD\"], padding='post', truncating='post')\n",
    "y_numer_testb = pad_sequences(maxlen=max_len, sequences=y_testb, value=tag2idx[\"PAD\"], padding='post', truncating='post')\n",
    "y_numer_train[0]"
   ]
  },
  {
   "cell_type": "code",
   "execution_count": 145,
   "metadata": {
    "ExecuteTime": {
     "end_time": "2019-03-13T07:20:48.330074Z",
     "start_time": "2019-03-13T07:20:48.226353Z"
    }
   },
   "outputs": [
    {
     "data": {
      "text/plain": [
       "(60, 18)"
      ]
     },
     "execution_count": 145,
     "metadata": {},
     "output_type": "execute_result"
    }
   ],
   "source": [
    "from keras.utils import to_categorical\n",
    "y_train = [to_categorical(i, num_classes=n_tags+1) for i in y_numer_train]\n",
    "y_testa = [to_categorical(i, num_classes=n_tags+1) for i in y_numer_testa]\n",
    "y_testb = [to_categorical(i, num_classes=n_tags+1) for i in y_numer_testb]\n",
    "\n",
    "y_train[0].shape"
   ]
  },
  {
   "cell_type": "code",
   "execution_count": 146,
   "metadata": {},
   "outputs": [
    {
     "data": {
      "text/plain": [
       "0.05"
      ]
     },
     "execution_count": 146,
     "metadata": {},
     "output_type": "execute_result"
    }
   ],
   "source": [
    "#validation_split = len(X_testa) / (len(X_train)+len(X_testa))\n",
    "validation_split = 0.05\n",
    "validation_split"
   ]
  },
  {
   "cell_type": "code",
   "execution_count": 147,
   "metadata": {},
   "outputs": [],
   "source": [
    "splits = [[X_train, X_testa,\n",
    "           y_train, y_testa,\n",
    "           X_pos_train, X_pos_testa]]"
   ]
  },
  {
   "cell_type": "markdown",
   "metadata": {},
   "source": [
    "### Prep char input"
   ]
  },
  {
   "cell_type": "code",
   "execution_count": 148,
   "metadata": {},
   "outputs": [
    {
     "data": {
      "text/plain": [
       "dtype('O')"
      ]
     },
     "execution_count": 148,
     "metadata": {},
     "output_type": "execute_result"
    }
   ],
   "source": [
    "train.token_str.dtype"
   ]
  },
  {
   "cell_type": "code",
   "execution_count": 149,
   "metadata": {
    "ExecuteTime": {
     "end_time": "2019-01-31T13:58:31.324599Z",
     "start_time": "2019-01-31T13:58:31.077207Z"
    }
   },
   "outputs": [
    {
     "data": {
      "text/plain": [
       "<matplotlib.axes._subplots.AxesSubplot at 0x7fc7c73f7fd0>"
      ]
     },
     "execution_count": 149,
     "metadata": {},
     "output_type": "execute_result"
    },
    {
     "data": {
      "image/png": "[encoded data removed]",
      "text/plain": [
       "<Figure size 432x288 with 1 Axes>"
      ]
     },
     "metadata": {},
     "output_type": "display_data"
    }
   ],
   "source": [
    "train.token_str.apply(lambda x: 20 if len(x)>20 else len(x)).hist(bins=20)"
   ]
  },
  {
   "cell_type": "code",
   "execution_count": 152,
   "metadata": {
    "ExecuteTime": {
     "end_time": "2019-01-31T13:58:31.340217Z",
     "start_time": "2019-01-31T13:58:31.324599Z"
    }
   },
   "outputs": [],
   "source": [
    "max_len_char = 15"
   ]
  },
  {
   "cell_type": "code",
   "execution_count": 153,
   "metadata": {
    "ExecuteTime": {
     "end_time": "2019-01-31T13:58:32.660554Z",
     "start_time": "2019-01-31T13:58:32.613692Z"
    }
   },
   "outputs": [
    {
     "name": "stdout",
     "output_type": "stream",
     "text": [
      "85\n"
     ]
    }
   ],
   "source": [
    "chars = set([w_i for w in words for w_i in w])\n",
    "n_chars = len(chars)\n",
    "print(n_chars)"
   ]
  },
  {
   "cell_type": "code",
   "execution_count": 154,
   "metadata": {
    "ExecuteTime": {
     "end_time": "2019-01-31T13:58:33.732950Z",
     "start_time": "2019-01-31T13:58:33.717366Z"
    }
   },
   "outputs": [],
   "source": [
    "char2idx = {c: i + 2 for i, c in enumerate(chars)}\n",
    "char2idx[\"UNK\"] = 1\n",
    "char2idx[\"PAD\"] = 0"
   ]
  },
  {
   "cell_type": "code",
   "execution_count": 155,
   "metadata": {
    "ExecuteTime": {
     "end_time": "2019-01-31T13:58:36.324286Z",
     "start_time": "2019-01-31T13:58:34.303392Z"
    }
   },
   "outputs": [],
   "source": [
    "\n",
    "def get_X_char(sents):\n",
    "    X_char = []\n",
    "    for sentence in sents:\n",
    "        sent_seq = []\n",
    "        for i in range(max_len):\n",
    "            word_seq = []\n",
    "            for j in range(max_len_char):\n",
    "                try:\n",
    "                    word_seq.append(char2idx.get(sentence[i][0][j]))\n",
    "                except:\n",
    "                    word_seq.append(char2idx.get(\"PAD\"))\n",
    "            sent_seq.append(word_seq)\n",
    "        X_char.append(np.array(sent_seq))\n",
    "    return X_char"
   ]
  },
  {
   "cell_type": "code",
   "execution_count": 156,
   "metadata": {},
   "outputs": [],
   "source": [
    "X_char_train = get_X_char(train_sents  )\n",
    "X_char_testa = get_X_char(testa_sents)\n",
    "X_char_testb = get_X_char(testb_sents )\n",
    "\n",
    "splits_char = [[X_char_train, X_char_testa,\n",
    "                y_train, y_testa]]"
   ]
  },
  {
   "cell_type": "markdown",
   "metadata": {},
   "source": [
    "## Embeddings"
   ]
  },
  {
   "cell_type": "code",
   "execution_count": 77,
   "metadata": {},
   "outputs": [],
   "source": [
    "#!mkdir data/english_embeddings\n",
    "#!wget -P data/english_embeddings https://dl.fbaipublicfiles.com/fasttext/vectors-wiki/wiki.en.vec\n",
    "    "
   ]
  },
  {
   "cell_type": "code",
   "execution_count": 157,
   "metadata": {},
   "outputs": [],
   "source": [
    "english_emb_paths = { 'en_pretrained_wiki': 'data/english_embeddings/wiki.en.vec'}"
   ]
  },
  {
   "cell_type": "code",
   "execution_count": 158,
   "metadata": {},
   "outputs": [],
   "source": [
    "exclude = ['cbow', 'word2vec', 'tokenized', 'glove']"
   ]
  },
  {
   "cell_type": "raw",
   "metadata": {},
   "source": [
    "loading word embeddings: data/english_embeddings/wiki.en.vec\n",
    "found 2512763 word vectors\n",
    "preparing embedding matrix...\n",
    "number of null word embeddings: 19444\n",
    "sample words not found:  ['Olivier' 'Suedwest' '0.42' 'Qazim' 'Stiajkina' '461.42' 'Reds'\n",
    " 'Vowinkel' 'OPTIONS' '5.00']"
   ]
  },
  {
   "cell_type": "code",
   "execution_count": 168,
   "metadata": {},
   "outputs": [
    {
     "name": "stdout",
     "output_type": "stream",
     "text": [
      "loading word embeddings: data/english_embeddings/wiki.en.vec\n",
      "found 2512763 word vectors\n",
      "preparing embedding matrix...\n",
      "number of null word embeddings: 7674\n",
      "sample words not found:  ['160.36' '.432' 'Interrosimpex' '6-3' '8' '58' '242.94' '38.0' '1:49.28'\n",
      " '168']\n"
     ]
    }
   ],
   "source": [
    "embedding_mats = {}\n",
    "for emb_name, emb_path in english_emb_paths.items():\n",
    "    skip=False\n",
    "    for exc in exclude:\n",
    "        if exc in emb_path:\n",
    "            skip=True\n",
    "    if skip:\n",
    "        continue\n",
    "    embedding_mats[emb_name] = get_embedding_matrix(emb_path, word2idx, lower_case=True)"
   ]
  },
  {
   "cell_type": "markdown",
   "metadata": {},
   "source": [
    "## Model building"
   ]
  },
  {
   "cell_type": "code",
   "execution_count": 169,
   "metadata": {},
   "outputs": [
    {
     "data": {
      "text/plain": [
       "[{'optimizer': 'adam',\n",
       "  'output_dropout': True,\n",
       "  'add_random_embedding': False,\n",
       "  'use_char': True,\n",
       "  'crf': True,\n",
       "  'use_pos': False,\n",
       "  'embedding_matrix': 'all',\n",
       "  'trainable': False,\n",
       "  'stack_lstm': 2},\n",
       " {'optimizer': 'adam',\n",
       "  'output_dropout': True,\n",
       "  'add_random_embedding': False,\n",
       "  'use_char': True,\n",
       "  'crf': True,\n",
       "  'use_pos': True,\n",
       "  'embedding_matrix': 'all',\n",
       "  'trainable': False,\n",
       "  'stack_lstm': 2}]"
      ]
     },
     "execution_count": 169,
     "metadata": {},
     "output_type": "execute_result"
    }
   ],
   "source": [
    "from ner_utils import *\n",
    "base_configs_stack_freeze"
   ]
  },
  {
   "cell_type": "code",
   "execution_count": 170,
   "metadata": {},
   "outputs": [
    {
     "data": {
      "text/plain": [
       "[{'optimizer': 'adam',\n",
       "  'output_dropout': True,\n",
       "  'add_random_embedding': False,\n",
       "  'use_char': True,\n",
       "  'crf': True,\n",
       "  'use_pos': False,\n",
       "  'embedding_matrix': 'en_pretrained_wiki',\n",
       "  'trainable': False,\n",
       "  'stack_lstm': 2},\n",
       " {'optimizer': 'adam',\n",
       "  'output_dropout': True,\n",
       "  'add_random_embedding': False,\n",
       "  'use_char': True,\n",
       "  'crf': True,\n",
       "  'use_pos': True,\n",
       "  'embedding_matrix': 'en_pretrained_wiki',\n",
       "  'trainable': False,\n",
       "  'stack_lstm': 2}]"
      ]
     },
     "execution_count": 170,
     "metadata": {},
     "output_type": "execute_result"
    }
   ],
   "source": [
    "configs = build_configs(base_configs_stack_freeze, embedding_mats)\n",
    "configs     "
   ]
  },
  {
   "cell_type": "code",
   "execution_count": 176,
   "metadata": {},
   "outputs": [],
   "source": [
    "for conf in configs:\n",
    "    conf['patience'] = 10"
   ]
  },
  {
   "cell_type": "code",
   "execution_count": 177,
   "metadata": {},
   "outputs": [],
   "source": [
    "out_folder = 'results/english_conll2003'\n",
    "if not os.path.exists(out_folder):\n",
    "    os.mkdir(out_folder)"
   ]
  },
  {
   "cell_type": "code",
   "execution_count": 178,
   "metadata": {},
   "outputs": [],
   "source": [
    "extra_preds = [(X_testb, X_pos_testb, X_char_testb), ]"
   ]
  },
  {
   "cell_type": "code",
   "execution_count": 179,
   "metadata": {},
   "outputs": [],
   "source": [
    "from ner_utils import *"
   ]
  },
  {
   "cell_type": "code",
   "execution_count": 180,
   "metadata": {
    "ExecuteTime": {
     "end_time": "2019-03-13T11:31:02.793857Z",
     "start_time": "2019-03-13T11:16:17.267695Z"
    },
    "scrolled": true
   },
   "outputs": [
    {
     "name": "stdout",
     "output_type": "stream",
     "text": [
      "__________________________________________________________________________________________________\n",
      "Layer (type)                    Output Shape         Param #     Connected to                     \n",
      "==================================================================================================\n",
      "input_12 (InputLayer)           (None, 60, 15)       0                                            \n",
      "__________________________________________________________________________________________________\n",
      "input_11 (InputLayer)           (None, 60)           0                                            \n",
      "__________________________________________________________________________________________________\n",
      "time_distributed_16 (TimeDistri (None, 60, 15, 20)   1740        input_12[0][0]                   \n",
      "__________________________________________________________________________________________________\n",
      "embedding_11 (Embedding)        (None, 60, 300)      9088200     input_11[0][0]                   \n",
      "__________________________________________________________________________________________________\n",
      "time_distributed_17 (TimeDistri (None, 60, 20)       2480        time_distributed_16[0][0]        \n",
      "__________________________________________________________________________________________________\n",
      "concatenate_6 (Concatenate)     (None, 60, 320)      0           embedding_11[0][0]               \n",
      "                                                                 time_distributed_17[0][0]        \n",
      "__________________________________________________________________________________________________\n",
      "spatial_dropout1d_6 (SpatialDro (None, 60, 320)      0           concatenate_6[0][0]              \n",
      "__________________________________________________________________________________________________\n",
      "bidirectional_17 (Bidirectional (None, 60, 200)      336800      spatial_dropout1d_6[0][0]        \n",
      "__________________________________________________________________________________________________\n",
      "bidirectional_18 (Bidirectional (None, 60, 200)      240800      bidirectional_17[0][0]           \n",
      "__________________________________________________________________________________________________\n",
      "dropout_6 (Dropout)             (None, 60, 200)      0           bidirectional_18[0][0]           \n",
      "__________________________________________________________________________________________________\n",
      "time_distributed_18 (TimeDistri (None, 60, 50)       10050       dropout_6[0][0]                  \n",
      "__________________________________________________________________________________________________\n",
      "crf_6 (CRF)                     (None, 60, 18)       1278        time_distributed_18[0][0]        \n",
      "==================================================================================================\n",
      "Total params: 9,681,348\n",
      "Trainable params: 593,148\n",
      "Non-trainable params: 9,088,200\n",
      "__________________________________________________________________________________________________\n",
      "None\n",
      "Train on 14237 samples, validate on 750 samples\n",
      "Epoch 1/100\n",
      " - 90s - loss: 0.1532 - crf_accuracy: 0.9645 - val_loss: 0.0475 - val_crf_accuracy: 0.9854\n",
      "Epoch 2/100\n",
      " - 74s - loss: 0.0351 - crf_accuracy: 0.9893 - val_loss: 0.0262 - val_crf_accuracy: 0.9918\n",
      "Epoch 3/100\n",
      " - 74s - loss: 0.0214 - crf_accuracy: 0.9925 - val_loss: 0.0192 - val_crf_accuracy: 0.9924\n",
      "Epoch 4/100\n",
      " - 74s - loss: 0.0121 - crf_accuracy: 0.9941 - val_loss: 0.0103 - val_crf_accuracy: 0.9940\n",
      "Epoch 5/100\n",
      " - 74s - loss: 0.0043 - crf_accuracy: 0.9949 - val_loss: 0.0050 - val_crf_accuracy: 0.9942\n",
      "Epoch 6/100\n",
      " - 75s - loss: -3.2646e-03 - crf_accuracy: 0.9957 - val_loss: -2.2229e-03 - val_crf_accuracy: 0.9944\n",
      "Epoch 7/100\n",
      " - 74s - loss: -1.0879e-02 - crf_accuracy: 0.9961 - val_loss: -7.9492e-03 - val_crf_accuracy: 0.9944\n",
      "Epoch 8/100\n",
      " - 74s - loss: -1.8840e-02 - crf_accuracy: 0.9966 - val_loss: -1.6331e-02 - val_crf_accuracy: 0.9947\n",
      "Epoch 9/100\n",
      " - 74s - loss: -2.6955e-02 - crf_accuracy: 0.9971 - val_loss: -2.3006e-02 - val_crf_accuracy: 0.9949\n",
      "Epoch 10/100\n",
      " - 74s - loss: -3.4772e-02 - crf_accuracy: 0.9974 - val_loss: -3.0501e-02 - val_crf_accuracy: 0.9950\n",
      "Epoch 11/100\n",
      " - 74s - loss: -4.2608e-02 - crf_accuracy: 0.9977 - val_loss: -3.7278e-02 - val_crf_accuracy: 0.9950\n",
      "Epoch 12/100\n",
      " - 74s - loss: -5.0646e-02 - crf_accuracy: 0.9979 - val_loss: -4.5076e-02 - val_crf_accuracy: 0.9951\n",
      "Epoch 13/100\n",
      " - 74s - loss: -5.8591e-02 - crf_accuracy: 0.9982 - val_loss: -5.1979e-02 - val_crf_accuracy: 0.9954\n",
      "Epoch 14/100\n",
      " - 74s - loss: -6.6327e-02 - crf_accuracy: 0.9983 - val_loss: -5.9771e-02 - val_crf_accuracy: 0.9953\n",
      "Epoch 15/100\n",
      " - 74s - loss: -7.4130e-02 - crf_accuracy: 0.9985 - val_loss: -6.6118e-02 - val_crf_accuracy: 0.9957\n",
      "Epoch 16/100\n",
      " - 74s - loss: -8.1966e-02 - crf_accuracy: 0.9987 - val_loss: -7.2731e-02 - val_crf_accuracy: 0.9954\n",
      "Epoch 17/100\n",
      " - 74s - loss: -8.9574e-02 - crf_accuracy: 0.9987 - val_loss: -8.1239e-02 - val_crf_accuracy: 0.9951\n",
      "Epoch 18/100\n",
      " - 74s - loss: -9.7346e-02 - crf_accuracy: 0.9989 - val_loss: -8.8257e-02 - val_crf_accuracy: 0.9954\n",
      "Epoch 19/100\n",
      " - 74s - loss: -1.0495e-01 - crf_accuracy: 0.9989 - val_loss: -9.4090e-02 - val_crf_accuracy: 0.9952\n",
      "Epoch 20/100\n",
      " - 74s - loss: -1.1277e-01 - crf_accuracy: 0.9991 - val_loss: -1.0146e-01 - val_crf_accuracy: 0.9955\n",
      "Epoch 21/100\n",
      " - 74s - loss: -1.2023e-01 - crf_accuracy: 0.9992 - val_loss: -1.0735e-01 - val_crf_accuracy: 0.9946\n",
      "Epoch 22/100\n",
      " - 74s - loss: -1.2784e-01 - crf_accuracy: 0.9992 - val_loss: -1.1582e-01 - val_crf_accuracy: 0.9955\n",
      "Epoch 23/100\n",
      " - 74s - loss: -1.3513e-01 - crf_accuracy: 0.9992 - val_loss: -1.2399e-01 - val_crf_accuracy: 0.9951\n",
      "Epoch 24/100\n",
      " - 74s - loss: -1.4281e-01 - crf_accuracy: 0.9993 - val_loss: -1.3179e-01 - val_crf_accuracy: 0.9955\n",
      "Epoch 25/100\n",
      " - 74s - loss: -1.5043e-01 - crf_accuracy: 0.9994 - val_loss: -1.3738e-01 - val_crf_accuracy: 0.9952\n",
      "Restoring model weights from the end of the best epoch\n",
      "Epoch 00025: early stopping\n"
     ]
    },
    {
     "data": {
      "image/png": "[encoded data removed]",
      "text/plain": [
       "<Figure size 432x288 with 1 Axes>"
      ]
     },
     "metadata": {},
     "output_type": "display_data"
    },
    {
     "name": "stdout",
     "output_type": "stream",
     "text": [
      "processed 51361 tokens with 5907 phrases; found: 5908 phrases; correct: 5407.\n",
      "accuracy:  90.68%; (non-O)\n",
      "accuracy:  98.26%; precision:  91.52%; recall:  91.54%; FB1:  91.53\n",
      "              LOC: precision:  94.04%; recall:  94.56%; FB1:  94.30  1847\n",
      "             MISC: precision:  89.74%; recall:  82.72%; FB1:  86.09  848\n",
      "              ORG: precision:  84.96%; recall:  87.17%; FB1:  86.05  1376\n",
      "              PER: precision:  94.72%; recall:  96.19%; FB1:  95.45  1837\n",
      "__________________________________________________________________________________________________\n",
      "Layer (type)                    Output Shape         Param #     Connected to                     \n",
      "==================================================================================================\n",
      "input_15 (InputLayer)           (None, 60, 15)       0                                            \n",
      "__________________________________________________________________________________________________\n",
      "input_13 (InputLayer)           (None, 60)           0                                            \n",
      "__________________________________________________________________________________________________\n",
      "input_14 (InputLayer)           (None, 60)           0                                            \n",
      "__________________________________________________________________________________________________\n",
      "time_distributed_19 (TimeDistri (None, 60, 15, 20)   1740        input_15[0][0]                   \n",
      "__________________________________________________________________________________________________\n",
      "embedding_13 (Embedding)        (None, 60, 300)      9088200     input_13[0][0]                   \n",
      "__________________________________________________________________________________________________\n",
      "embedding_14 (Embedding)        (None, 60, 10)       130         input_14[0][0]                   \n",
      "__________________________________________________________________________________________________\n",
      "time_distributed_20 (TimeDistri (None, 60, 20)       2480        time_distributed_19[0][0]        \n",
      "__________________________________________________________________________________________________\n",
      "concatenate_7 (Concatenate)     (None, 60, 330)      0           embedding_13[0][0]               \n",
      "                                                                 embedding_14[0][0]               \n",
      "                                                                 time_distributed_20[0][0]        \n",
      "__________________________________________________________________________________________________\n",
      "spatial_dropout1d_7 (SpatialDro (None, 60, 330)      0           concatenate_7[0][0]              \n",
      "__________________________________________________________________________________________________\n",
      "bidirectional_20 (Bidirectional (None, 60, 200)      344800      spatial_dropout1d_7[0][0]        \n",
      "__________________________________________________________________________________________________\n",
      "bidirectional_21 (Bidirectional (None, 60, 200)      240800      bidirectional_20[0][0]           \n",
      "__________________________________________________________________________________________________\n",
      "dropout_7 (Dropout)             (None, 60, 200)      0           bidirectional_21[0][0]           \n",
      "__________________________________________________________________________________________________\n",
      "time_distributed_21 (TimeDistri (None, 60, 50)       10050       dropout_7[0][0]                  \n",
      "__________________________________________________________________________________________________\n",
      "crf_7 (CRF)                     (None, 60, 18)       1278        time_distributed_21[0][0]        \n",
      "==================================================================================================\n",
      "Total params: 9,689,478\n",
      "Trainable params: 601,278\n",
      "Non-trainable params: 9,088,200\n",
      "__________________________________________________________________________________________________\n",
      "None\n",
      "Train on 14237 samples, validate on 750 samples\n",
      "Epoch 1/100\n",
      " - 91s - loss: 0.1487 - crf_accuracy: 0.9650 - val_loss: 0.0510 - val_crf_accuracy: 0.9853\n",
      "Epoch 2/100\n",
      " - 75s - loss: 0.0392 - crf_accuracy: 0.9892 - val_loss: 0.0290 - val_crf_accuracy: 0.9917\n",
      "Epoch 3/100\n",
      " - 75s - loss: 0.0250 - crf_accuracy: 0.9925 - val_loss: 0.0207 - val_crf_accuracy: 0.9932\n",
      "Epoch 4/100\n",
      " - 75s - loss: 0.0159 - crf_accuracy: 0.9940 - val_loss: 0.0147 - val_crf_accuracy: 0.9938\n",
      "Epoch 5/100\n",
      " - 75s - loss: 0.0080 - crf_accuracy: 0.9949 - val_loss: 0.0062 - val_crf_accuracy: 0.9946\n",
      "Epoch 6/100\n",
      " - 75s - loss: 6.3772e-05 - crf_accuracy: 0.9956 - val_loss: -7.0524e-04 - val_crf_accuracy: 0.9950\n",
      "Epoch 7/100\n",
      " - 75s - loss: -8.0928e-03 - crf_accuracy: 0.9963 - val_loss: -8.0678e-03 - val_crf_accuracy: 0.9954\n",
      "Epoch 8/100\n",
      " - 75s - loss: -1.6036e-02 - crf_accuracy: 0.9967 - val_loss: -1.5222e-02 - val_crf_accuracy: 0.9956\n",
      "Epoch 9/100\n",
      " - 76s - loss: -2.4151e-02 - crf_accuracy: 0.9971 - val_loss: -2.1090e-02 - val_crf_accuracy: 0.9952\n",
      "Epoch 10/100\n",
      " - 75s - loss: -3.2067e-02 - crf_accuracy: 0.9974 - val_loss: -2.9317e-02 - val_crf_accuracy: 0.9951\n",
      "Epoch 11/100\n",
      " - 75s - loss: -4.0109e-02 - crf_accuracy: 0.9977 - val_loss: -3.7126e-02 - val_crf_accuracy: 0.9956\n",
      "Epoch 12/100\n",
      " - 74s - loss: -4.7963e-02 - crf_accuracy: 0.9979 - val_loss: -4.2584e-02 - val_crf_accuracy: 0.9954\n",
      "Epoch 13/100\n",
      " - 74s - loss: -5.6085e-02 - crf_accuracy: 0.9982 - val_loss: -5.1285e-02 - val_crf_accuracy: 0.9955\n",
      "Epoch 14/100\n",
      " - 75s - loss: -6.3811e-02 - crf_accuracy: 0.9983 - val_loss: -5.8574e-02 - val_crf_accuracy: 0.9954\n",
      "Epoch 15/100\n",
      " - 74s - loss: -7.1843e-02 - crf_accuracy: 0.9986 - val_loss: -6.3918e-02 - val_crf_accuracy: 0.9955\n",
      "Epoch 16/100\n",
      " - 74s - loss: -7.9512e-02 - crf_accuracy: 0.9987 - val_loss: -7.2169e-02 - val_crf_accuracy: 0.9955\n",
      "Epoch 17/100\n",
      " - 75s - loss: -8.7351e-02 - crf_accuracy: 0.9989 - val_loss: -7.8864e-02 - val_crf_accuracy: 0.9956\n",
      "Epoch 18/100\n",
      " - 74s - loss: -9.4946e-02 - crf_accuracy: 0.9990 - val_loss: -8.5513e-02 - val_crf_accuracy: 0.9956\n",
      "Restoring model weights from the end of the best epoch\n",
      "Epoch 00018: early stopping\n"
     ]
    },
    {
     "data": {
      "image/png": "[encoded data removed]",
      "text/plain": [
       "<Figure size 432x288 with 1 Axes>"
      ]
     },
     "metadata": {},
     "output_type": "display_data"
    },
    {
     "name": "stdout",
     "output_type": "stream",
     "text": [
      "processed 51361 tokens with 5907 phrases; found: 5867 phrases; correct: 5390.\n",
      "accuracy:  90.56%; (non-O)\n",
      "accuracy:  98.26%; precision:  91.87%; recall:  91.25%; FB1:  91.56\n",
      "              LOC: precision:  92.22%; recall:  95.54%; FB1:  93.85  1903\n",
      "             MISC: precision:  87.46%; recall:  85.65%; FB1:  86.55  901\n",
      "              ORG: precision:  91.23%; recall:  83.74%; FB1:  87.33  1231\n",
      "              PER: precision:  94.10%; recall:  95.30%; FB1:  94.70  1832\n"
     ]
    }
   ],
   "source": [
    "configs, results, preds, histories = run_models(configs, splits, splits_char, embedding_mats, \n",
    "                                                words, max_len, n_words, idx2word, idx2tag,\n",
    "                                                n_tags, max_len_char, n_pos, n_chars,\n",
    "                                                run_name='english_conll2003_lower', out_folder=out_folder,\n",
    "                                                skip_if_model_exists=True,\n",
    "                                                validation_split=validation_split,\n",
    "                                                extra_predictions=extra_preds,\n",
    "                                                )"
   ]
  },
  {
   "cell_type": "code",
   "execution_count": 182,
   "metadata": {},
   "outputs": [],
   "source": [
    "trunc_testb = []\n",
    "for s in testb_sents:\n",
    "    for t, b, c in s[:60]:\n",
    "        trunc_testb.append(b)"
   ]
  },
  {
   "cell_type": "code",
   "execution_count": 183,
   "metadata": {},
   "outputs": [],
   "source": [
    " \n",
    "with open('results/english_conll2003/english_conll2003-0-extra_preds-0.pkl', 'rb') as f:\n",
    "    p = pickle.load(f)\n",
    "    "
   ]
  },
  {
   "cell_type": "code",
   "execution_count": 184,
   "metadata": {},
   "outputs": [
    {
     "data": {
      "text/plain": [
       "(46523, 46292)"
      ]
     },
     "execution_count": 184,
     "metadata": {},
     "output_type": "execute_result"
    }
   ],
   "source": [
    "len(trunc_testb), len(p[0][0])"
   ]
  },
  {
   "cell_type": "code",
   "execution_count": 61,
   "metadata": {},
   "outputs": [
    {
     "name": "stdout",
     "output_type": "stream",
     "text": [
      "processed 46292 tokens with 5740 phrases; found: 5617 phrases; correct: 4136.\n",
      "accuracy:  72.57%; (non-O)\n",
      "accuracy:  94.19%; precision:  73.63%; recall:  72.06%; FB1:  72.84\n",
      "              LOC: precision:  73.25%; recall:  76.48%; FB1:  74.83  1660\n",
      "             MISC: precision:  58.83%; recall:  46.20%; FB1:  51.75  702\n",
      "              ORG: precision:  68.55%; recall:  75.77%; FB1:  71.98  1660\n",
      "              PER: precision:  85.83%; recall:  78.05%; FB1:  81.76  1595\n"
     ]
    },
    {
     "data": {
      "text/plain": [
       "(73.63361224853125, 72.05574912891987, 72.83613630360131)"
      ]
     },
     "execution_count": 61,
     "metadata": {},
     "output_type": "execute_result"
    }
   ],
   "source": [
    "from conlleval import evaluate\n",
    "\n",
    "evaluate(replace_pad_with_o(p[0][0]), trunc_testb)"
   ]
  },
  {
   "cell_type": "code",
   "execution_count": 186,
   "metadata": {},
   "outputs": [
    {
     "name": "stdout",
     "output_type": "stream",
     "text": [
      "processed 46523 tokens with 5658 phrases; found: 5617 phrases; correct: 4996.\n",
      "accuracy:  88.76%; (non-O)\n",
      "accuracy:  97.51%; precision:  88.94%; recall:  88.30%; FB1:  88.62\n",
      "              LOC: precision:  91.87%; recall:  89.92%; FB1:  90.88  1660\n",
      "             MISC: precision:  78.06%; recall:  80.12%; FB1:  79.08  702\n",
      "              ORG: precision:  85.36%; recall:  84.60%; FB1:  84.98  1660\n",
      "              PER: precision:  94.42%; recall:  93.95%; FB1:  94.18  1595\n"
     ]
    },
    {
     "data": {
      "text/plain": [
       "(88.94427630407691, 88.29975256274302, 88.62084257206209)"
      ]
     },
     "execution_count": 186,
     "metadata": {},
     "output_type": "execute_result"
    }
   ],
   "source": [
    " with open('results/english_conll2003/english_conll2003_lower-0-extra_preds-0.pkl', 'rb') as f:\n",
    "    p = pickle.load(f)\n",
    "evaluate(replace_pad_with_o(p[0][0]), trunc_testb)"
   ]
  },
  {
   "cell_type": "code",
   "execution_count": 187,
   "metadata": {},
   "outputs": [
    {
     "name": "stdout",
     "output_type": "stream",
     "text": [
      "processed 46523 tokens with 5607 phrases; found: 5617 phrases; correct: 4954.\n",
      "accuracy:  88.60%; (non-O)\n",
      "accuracy:  97.47%; precision:  88.20%; recall:  88.35%; FB1:  88.28\n",
      "              LOC: precision:  93.01%; recall:  88.68%; FB1:  90.80  1660\n",
      "             MISC: precision:  77.49%; recall:  77.94%; FB1:  77.71  702\n",
      "              ORG: precision:  82.53%; recall:  86.33%; FB1:  84.39  1660\n",
      "              PER: precision:  93.79%; recall:  94.62%; FB1:  94.21  1595\n"
     ]
    },
    {
     "data": {
      "text/plain": [
       "(88.19654619903862, 88.35384341002317, 88.27512473271561)"
      ]
     },
     "execution_count": 187,
     "metadata": {},
     "output_type": "execute_result"
    }
   ],
   "source": [
    " with open('results/english_conll2003/english_conll2003_lower-1-extra_preds-0.pkl', 'rb') as f:\n",
    "    p = pickle.load(f)\n",
    "evaluate(replace_pad_with_o(p[0][0]), trunc_testb)"
   ]
  },
  {
   "cell_type": "code",
   "execution_count": null,
   "metadata": {},
   "outputs": [],
   "source": []
  },
  {
   "cell_type": "code",
   "execution_count": null,
   "metadata": {},
   "outputs": [],
   "source": []
  },
  {
   "cell_type": "code",
   "execution_count": null,
   "metadata": {},
   "outputs": [],
   "source": []
  },
  {
   "cell_type": "code",
   "execution_count": null,
   "metadata": {},
   "outputs": [],
   "source": []
  },
  {
   "cell_type": "code",
   "execution_count": null,
   "metadata": {},
   "outputs": [],
   "source": []
  },
  {
   "cell_type": "code",
   "execution_count": null,
   "metadata": {},
   "outputs": [],
   "source": []
  },
  {
   "cell_type": "code",
   "execution_count": null,
   "metadata": {},
   "outputs": [],
   "source": []
  }
 ],
 "metadata": {
  "kernelspec": {
   "display_name": "tf",
   "language": "python",
   "name": "tf"
  },
  "language_info": {
   "codemirror_mode": {
    "name": "ipython",
    "version": 3
   },
   "file_extension": ".py",
   "mimetype": "text/x-python",
   "name": "python",
   "nbconvert_exporter": "python",
   "pygments_lexer": "ipython3",
   "version": "3.7.5"
  }
 },
 "nbformat": 4,
 "nbformat_minor": 4
}
