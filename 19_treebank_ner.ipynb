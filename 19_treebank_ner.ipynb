{
 "cells": [
  {
   "cell_type": "markdown",
   "metadata": {},
   "source": [
    "# Treebank NER with Bi-LSTM-CRF "
   ]
  },
  {
   "cell_type": "code",
   "execution_count": 1,
   "metadata": {},
   "outputs": [],
   "source": [
    "import os\n",
    "os.environ[\"CUDA_DEVICE_ORDER\"]=\"PCI_BUS_ID\";\n",
    " \n",
    "# The GPU id to use, usually either \"0\" or \"1\";\n",
    "os.environ[\"CUDA_VISIBLE_DEVICES\"]=\"2\";  "
   ]
  },
  {
   "cell_type": "code",
   "execution_count": 2,
   "metadata": {},
   "outputs": [],
   "source": [
    "%load_ext autoreload\n",
    "%autoreload 2"
   ]
  },
  {
   "cell_type": "code",
   "execution_count": 3,
   "metadata": {
    "ExecuteTime": {
     "end_time": "2019-03-13T07:20:24.034028Z",
     "start_time": "2019-03-13T07:20:22.687626Z"
    }
   },
   "outputs": [],
   "source": [
    "%matplotlib inline"
   ]
  },
  {
   "cell_type": "code",
   "execution_count": 4,
   "metadata": {
    "ExecuteTime": {
     "end_time": "2019-03-13T07:20:24.382406Z",
     "start_time": "2019-03-13T07:20:24.037019Z"
    }
   },
   "outputs": [],
   "source": [
    "import pandas as pd\n",
    "import numpy as np"
   ]
  },
  {
   "cell_type": "code",
   "execution_count": 5,
   "metadata": {
    "ExecuteTime": {
     "end_time": "2019-03-13T07:20:27.996727Z",
     "start_time": "2019-03-13T07:20:24.385088Z"
    }
   },
   "outputs": [],
   "source": [
    "import matplotlib.pyplot as plt\n",
    "import seaborn as sns\n",
    "sns.set_context('paper')\n",
    "sns.set_style('white')"
   ]
  },
  {
   "cell_type": "code",
   "execution_count": 6,
   "metadata": {
    "ExecuteTime": {
     "end_time": "2019-03-13T07:20:28.016424Z",
     "start_time": "2019-03-13T07:20:27.999427Z"
    }
   },
   "outputs": [],
   "source": [
    "from conlleval import evaluate"
   ]
  },
  {
   "cell_type": "code",
   "execution_count": 7,
   "metadata": {},
   "outputs": [
    {
     "name": "stderr",
     "output_type": "stream",
     "text": [
      "Using TensorFlow backend.\n"
     ]
    }
   ],
   "source": [
    "from ner_utils import *"
   ]
  },
  {
   "cell_type": "markdown",
   "metadata": {},
   "source": [
    "## Get token data"
   ]
  },
  {
   "cell_type": "code",
   "execution_count": 8,
   "metadata": {},
   "outputs": [],
   "source": [
    "#yap_dev = pd.read_csv('new_yap_outputs/yap_dev.csv.gz', compression='gzip')\n",
    "#yap_test = pd.read_csv('new_yap_outputs/yap_test.csv.gz', compression='gzip')\n",
    "yap_dev_tok = pd.read_csv('new_yap_outputs/yap_dev_tokens.csv.gz', compression='gzip').reset_index()\n",
    "yap_test_tok = pd.read_csv('new_yap_outputs/yap_test_tokens.csv.gz', compression='gzip').reset_index()"
   ]
  },
  {
   "cell_type": "code",
   "execution_count": 9,
   "metadata": {},
   "outputs": [],
   "source": [
    "tokens_ner_with_upos_feats = pd.read_csv('align/spmrl_tokens_df.csv.gz', compression='gzip').reset_index()"
   ]
  },
  {
   "cell_type": "code",
   "execution_count": 10,
   "metadata": {},
   "outputs": [
    {
     "data": {
      "text/html": [
       "<div>\n",
       "<style scoped>\n",
       "    .dataframe tbody tr th:only-of-type {\n",
       "        vertical-align: middle;\n",
       "    }\n",
       "\n",
       "    .dataframe tbody tr th {\n",
       "        vertical-align: top;\n",
       "    }\n",
       "\n",
       "    .dataframe thead th {\n",
       "        text-align: right;\n",
       "    }\n",
       "</style>\n",
       "<table border=\"1\" class=\"dataframe\">\n",
       "  <thead>\n",
       "    <tr style=\"text-align: right;\">\n",
       "      <th></th>\n",
       "      <th>index</th>\n",
       "      <th>sent</th>\n",
       "      <th>misc_token_id</th>\n",
       "      <th>misc_token_str</th>\n",
       "      <th>upostag</th>\n",
       "      <th>form</th>\n",
       "      <th>lemma</th>\n",
       "      <th>deprel</th>\n",
       "      <th>feats_gen</th>\n",
       "      <th>feats_num</th>\n",
       "      <th>feats_per</th>\n",
       "      <th>feats_tense</th>\n",
       "      <th>feats_suf_gen</th>\n",
       "      <th>feats_suf_num</th>\n",
       "      <th>feats_suf_per</th>\n",
       "      <th>sent_id</th>\n",
       "    </tr>\n",
       "  </thead>\n",
       "  <tbody>\n",
       "    <tr>\n",
       "      <th>0</th>\n",
       "      <td>0</td>\n",
       "      <td>1</td>\n",
       "      <td>1</td>\n",
       "      <td>עשרות</td>\n",
       "      <td>CDT</td>\n",
       "      <td>עשרות</td>\n",
       "      <td>עשר</td>\n",
       "      <td>num</td>\n",
       "      <td>F</td>\n",
       "      <td>P</td>\n",
       "      <td>NaN</td>\n",
       "      <td>NaN</td>\n",
       "      <td>NaN</td>\n",
       "      <td>NaN</td>\n",
       "      <td>NaN</td>\n",
       "      <td>1</td>\n",
       "    </tr>\n",
       "    <tr>\n",
       "      <th>1</th>\n",
       "      <td>1</td>\n",
       "      <td>1</td>\n",
       "      <td>2</td>\n",
       "      <td>אנשים</td>\n",
       "      <td>NN</td>\n",
       "      <td>אנשים</td>\n",
       "      <td>איש</td>\n",
       "      <td>subj</td>\n",
       "      <td>M</td>\n",
       "      <td>P</td>\n",
       "      <td>NaN</td>\n",
       "      <td>NaN</td>\n",
       "      <td>NaN</td>\n",
       "      <td>NaN</td>\n",
       "      <td>NaN</td>\n",
       "      <td>1</td>\n",
       "    </tr>\n",
       "    <tr>\n",
       "      <th>2</th>\n",
       "      <td>2</td>\n",
       "      <td>1</td>\n",
       "      <td>3</td>\n",
       "      <td>מגיעים</td>\n",
       "      <td>BN</td>\n",
       "      <td>מגיעים</td>\n",
       "      <td>הגיע</td>\n",
       "      <td>conj</td>\n",
       "      <td>M</td>\n",
       "      <td>P</td>\n",
       "      <td>A</td>\n",
       "      <td>NaN</td>\n",
       "      <td>NaN</td>\n",
       "      <td>NaN</td>\n",
       "      <td>NaN</td>\n",
       "      <td>1</td>\n",
       "    </tr>\n",
       "    <tr>\n",
       "      <th>3</th>\n",
       "      <td>3</td>\n",
       "      <td>1</td>\n",
       "      <td>4</td>\n",
       "      <td>מתאילנד</td>\n",
       "      <td>PREPOSITION^NNP</td>\n",
       "      <td>מ^תאילנד</td>\n",
       "      <td>מ^תאילנד</td>\n",
       "      <td>comp^pobj</td>\n",
       "      <td>^F</td>\n",
       "      <td>^S</td>\n",
       "      <td>^</td>\n",
       "      <td>^</td>\n",
       "      <td>^</td>\n",
       "      <td>^</td>\n",
       "      <td>^</td>\n",
       "      <td>1</td>\n",
       "    </tr>\n",
       "    <tr>\n",
       "      <th>4</th>\n",
       "      <td>4</td>\n",
       "      <td>1</td>\n",
       "      <td>5</td>\n",
       "      <td>לישראל</td>\n",
       "      <td>NNP</td>\n",
       "      <td>לישראל</td>\n",
       "      <td>לישראל</td>\n",
       "      <td>nn</td>\n",
       "      <td>F,M</td>\n",
       "      <td>S</td>\n",
       "      <td>NaN</td>\n",
       "      <td>NaN</td>\n",
       "      <td>NaN</td>\n",
       "      <td>NaN</td>\n",
       "      <td>NaN</td>\n",
       "      <td>1</td>\n",
       "    </tr>\n",
       "  </tbody>\n",
       "</table>\n",
       "</div>"
      ],
      "text/plain": [
       "   index  sent  misc_token_id misc_token_str          upostag      form  \\\n",
       "0      0     1              1          עשרות              CDT     עשרות   \n",
       "1      1     1              2          אנשים               NN     אנשים   \n",
       "2      2     1              3         מגיעים               BN    מגיעים   \n",
       "3      3     1              4        מתאילנד  PREPOSITION^NNP  מ^תאילנד   \n",
       "4      4     1              5         לישראל              NNP    לישראל   \n",
       "\n",
       "      lemma     deprel feats_gen feats_num feats_per feats_tense  \\\n",
       "0       עשר        num         F         P       NaN         NaN   \n",
       "1       איש       subj         M         P       NaN         NaN   \n",
       "2      הגיע       conj         M         P         A         NaN   \n",
       "3  מ^תאילנד  comp^pobj        ^F        ^S         ^           ^   \n",
       "4    לישראל         nn       F,M         S       NaN         NaN   \n",
       "\n",
       "  feats_suf_gen feats_suf_num feats_suf_per  sent_id  \n",
       "0           NaN           NaN           NaN        1  \n",
       "1           NaN           NaN           NaN        1  \n",
       "2           NaN           NaN           NaN        1  \n",
       "3             ^             ^             ^        1  \n",
       "4           NaN           NaN           NaN        1  "
      ]
     },
     "execution_count": 10,
     "metadata": {},
     "output_type": "execute_result"
    }
   ],
   "source": [
    "yap_dev_tok.head()"
   ]
  },
  {
   "cell_type": "code",
   "execution_count": 11,
   "metadata": {},
   "outputs": [
    {
     "data": {
      "text/plain": [
       "sent_id\n",
       "1    [[עשרות, CDT], [אנשים, NN], [מגיעים, BN], [מתא...\n",
       "2    [[תופעה, NN], [זו, PRP], [התבררה, VB], [אתמול,...\n",
       "3    [[יו\"ר, NNT], [הוועדה, DEF^NN], [,, yyCM], [ח\"...\n",
       "4    [[מצד, PREPOSITION^NN], [אחד, CD], [רוצה, BN],...\n",
       "5    [[נמיר, NNP], [הודיעה, VB], [כי, CC], [תפנה, V...\n",
       "dtype: object"
      ]
     },
     "execution_count": 11,
     "metadata": {},
     "output_type": "execute_result"
    }
   ],
   "source": [
    "yap_dev_tok_sents =  yap_dev_tok.groupby('sent_id')[['misc_token_str', 'upostag']].apply(lambda x: x.values.tolist())\n",
    "yap_dev_tok_sents.head()"
   ]
  },
  {
   "cell_type": "code",
   "execution_count": 12,
   "metadata": {},
   "outputs": [
    {
     "data": {
      "text/plain": [
       "sent_id\n",
       "5439    [[הכל, DEF^DTT], [נושאים, NN], [עמם, VB], [את,...\n",
       "5440    [[אומר, NNT], [מזכיר, NNT], [התק\"ם, DEF^NNP], ...\n",
       "5441    [[לא, RB], [ייתכן, MD], [שעולה, REL^NN], [יבוא...\n",
       "5442    [[לא, RB], [ייתכן, MD], [שהוא, REL^PRP], [יירד...\n",
       "5443    [[לכן, CC], [קבענו, VB], [עיקרון, NN], [שצריכה...\n",
       "dtype: object"
      ]
     },
     "execution_count": 12,
     "metadata": {},
     "output_type": "execute_result"
    }
   ],
   "source": [
    "yap_test_tok_sents =  yap_test_tok.groupby('sent_id')[['misc_token_str', 'upostag']].apply(lambda x: x.values.tolist())\n",
    "yap_test_tok_sents.head()"
   ]
  },
  {
   "cell_type": "code",
   "execution_count": 13,
   "metadata": {},
   "outputs": [],
   "source": [
    "gold_dev  = tokens_ner_with_upos_feats[tokens_ner_with_upos_feats.set=='dev']\n",
    "gold_train = tokens_ner_with_upos_feats[tokens_ner_with_upos_feats.set=='train']\n",
    "gold_test = tokens_ner_with_upos_feats[tokens_ner_with_upos_feats.set=='test']"
   ]
  },
  {
   "cell_type": "code",
   "execution_count": 14,
   "metadata": {},
   "outputs": [
    {
     "data": {
      "text/plain": [
       "sent_id\n",
       "5439    [[הכל, NN, O], [נושאים, BN, O], [עמם, IN^S_PRN...\n",
       "5440    [[אומר, BN, O], [מזכיר, NNT, O], [התק\"ם, NNP, ...\n",
       "5441    [[לא, RB, O], [ייתכן, MD, O], [שעולה, REL^NN, ...\n",
       "5442    [[לא, RB, O], [ייתכן, MD, O], [שהוא, REL^PRP, ...\n",
       "5443    [[לכן, CC, O], [קבענו, VB, O], [עיקרון, NN, O]...\n",
       "dtype: object"
      ]
     },
     "execution_count": 14,
     "metadata": {},
     "output_type": "execute_result"
    }
   ],
   "source": [
    "gold_dev_sents = gold_dev.groupby('sent_id')[['misc_token_str', 'upostag', 'biose']].apply(lambda x: x.values.tolist())\n",
    "gold_train_sents = gold_train.groupby('sent_id')[['misc_token_str', 'upostag', 'biose']].apply(lambda x: x.values.tolist())\n",
    "gold_test_sents = gold_test.groupby('sent_id')[['misc_token_str', 'upostag', 'biose']].apply(lambda x: x.values.tolist())\n",
    "gold_test_sents.head()"
   ]
  },
  {
   "cell_type": "code",
   "execution_count": 15,
   "metadata": {},
   "outputs": [
    {
     "data": {
      "text/plain": [
       "sent_id\n",
       "1    [[עשרות, CDT, O], [אנשים, NN, O], [מגיעים, BN,...\n",
       "2    [[תופעה, NN, O], [זו, PRP, O], [התבררה, VB, O]...\n",
       "3    [[יו\"ר, NNT, O], [הוועדה, DEF^NN, O], [,, yyCM...\n",
       "4    [[מצד, PREPOSITION^NN, O], [אחד, CD, O], [רוצה...\n",
       "5    [[נמיר, NNP, S-PER], [הודיעה, VB, O], [כי, CC,...\n",
       "dtype: object"
      ]
     },
     "execution_count": 15,
     "metadata": {},
     "output_type": "execute_result"
    }
   ],
   "source": [
    "gold_dev_sents.head()"
   ]
  },
  {
   "cell_type": "code",
   "execution_count": 16,
   "metadata": {},
   "outputs": [
    {
     "data": {
      "text/plain": [
       "28714"
      ]
     },
     "execution_count": 16,
     "metadata": {},
     "output_type": "execute_result"
    }
   ],
   "source": [
    "words = list(set(tokens_ner_with_upos_feats.misc_token_str.values)|set(yap_dev_tok.misc_token_str.values)|set(yap_test_tok.misc_token_str.values))\n",
    "n_words = len(words); n_words"
   ]
  },
  {
   "cell_type": "code",
   "execution_count": 17,
   "metadata": {},
   "outputs": [
    {
     "data": {
      "text/plain": [
       "36"
      ]
     },
     "execution_count": 17,
     "metadata": {},
     "output_type": "execute_result"
    }
   ],
   "source": [
    "tags = list(set(tokens_ner_with_upos_feats.biose.values))\n",
    "n_tags = len(tags); n_tags"
   ]
  },
  {
   "cell_type": "code",
   "execution_count": 18,
   "metadata": {},
   "outputs": [
    {
     "data": {
      "text/plain": [
       "<matplotlib.axes._subplots.AxesSubplot at 0x7fa8a41d86a0>"
      ]
     },
     "execution_count": 18,
     "metadata": {},
     "output_type": "execute_result"
    },
    {
     "data": {
      "image/png": "[encoded data removed]",
      "text/plain": [
       "<Figure size 432x288 with 1 Axes>"
      ]
     },
     "metadata": {},
     "output_type": "display_data"
    }
   ],
   "source": [
    "gold_train.groupby('sent_id').size().hist(bins=50)"
   ]
  },
  {
   "cell_type": "code",
   "execution_count": 19,
   "metadata": {},
   "outputs": [
    {
     "data": {
      "text/plain": [
       "<matplotlib.axes._subplots.AxesSubplot at 0x7fa8a0de3ac8>"
      ]
     },
     "execution_count": 19,
     "metadata": {},
     "output_type": "execute_result"
    },
    {
     "data": {
      "image/png": "[encoded data removed]",
      "text/plain": [
       "<Figure size 432x288 with 1 Axes>"
      ]
     },
     "metadata": {},
     "output_type": "display_data"
    }
   ],
   "source": [
    "yap_dev_tok.groupby('sent_id').size().hist(bins=50)"
   ]
  },
  {
   "cell_type": "code",
   "execution_count": 20,
   "metadata": {},
   "outputs": [],
   "source": [
    "max_len = 80\n",
    "word2idx = {w: i + 2 for i, w in enumerate(words)}\n",
    "word2idx[\"UNK\"] = 1\n",
    "word2idx[\"PAD\"] = 0\n",
    "idx2word = {i: w for w, i in word2idx.items()}\n",
    "tag2idx = {t: i + 1 for i, t in enumerate(tags)}\n",
    "tag2idx[\"PAD\"] = 0\n",
    "idx2tag = {i: w for w, i in tag2idx.items()}"
   ]
  },
  {
   "cell_type": "code",
   "execution_count": 21,
   "metadata": {},
   "outputs": [],
   "source": [
    "from keras.preprocessing.sequence import pad_sequences\n",
    "X_gold_train = [[word2idx[w[0]] for w in s] for s in gold_train_sents]\n",
    "X_gold_dev   = [[word2idx[w[0]] for w in s] for s in gold_dev_sents]\n",
    "X_gold_test  = [[word2idx[w[0]] for w in s] for s in gold_test_sents]\n",
    "X_yap_dev    = [[word2idx[w[0]] for w in s] for s in yap_dev_tok_sents]\n",
    "X_yap_test   = [[word2idx[w[0]] for w in s] for s in yap_test_tok_sents]"
   ]
  },
  {
   "cell_type": "code",
   "execution_count": 22,
   "metadata": {},
   "outputs": [
    {
     "data": {
      "text/plain": [
       "array([19318,  5870, 20115, 14258, 28705,     0,     0,     0,     0,\n",
       "           0,     0,     0,     0,     0,     0,     0,     0,     0,\n",
       "           0,     0,     0,     0,     0,     0,     0,     0,     0,\n",
       "           0,     0,     0,     0,     0,     0,     0,     0,     0,\n",
       "           0,     0,     0,     0,     0,     0,     0,     0,     0,\n",
       "           0,     0,     0,     0,     0,     0,     0,     0,     0,\n",
       "           0,     0,     0,     0,     0,     0,     0,     0,     0,\n",
       "           0,     0,     0,     0,     0,     0,     0,     0,     0,\n",
       "           0,     0,     0,     0,     0,     0,     0,     0],\n",
       "      dtype=int32)"
      ]
     },
     "execution_count": 22,
     "metadata": {},
     "output_type": "execute_result"
    }
   ],
   "source": [
    "X_gold_train = pad_sequences(maxlen=max_len, sequences=X_gold_train, value=word2idx[\"PAD\"], padding='post', truncating='post')\n",
    "X_gold_dev   = pad_sequences(maxlen=max_len, sequences=X_gold_dev  , value=word2idx[\"PAD\"], padding='post', truncating='post')\n",
    "X_gold_test  = pad_sequences(maxlen=max_len, sequences=X_gold_test , value=word2idx[\"PAD\"], padding='post', truncating='post')\n",
    "X_yap_dev    = pad_sequences(maxlen=max_len, sequences=X_yap_dev   , value=word2idx[\"PAD\"], padding='post', truncating='post')\n",
    "X_yap_test   = pad_sequences(maxlen=max_len, sequences=X_yap_test  , value=word2idx[\"PAD\"], padding='post', truncating='post')\n",
    "X_gold_train[0]"
   ]
  },
  {
   "cell_type": "code",
   "execution_count": 23,
   "metadata": {},
   "outputs": [
    {
     "data": {
      "text/plain": [
       "352"
      ]
     },
     "execution_count": 23,
     "metadata": {},
     "output_type": "execute_result"
    }
   ],
   "source": [
    "pos = list(set(tokens_ner_with_upos_feats.upostag.values)|set(yap_dev_tok.upostag.values)|set(yap_test_tok.upostag.values))\n",
    "n_pos = len(pos); n_pos"
   ]
  },
  {
   "cell_type": "code",
   "execution_count": 24,
   "metadata": {
    "ExecuteTime": {
     "end_time": "2019-03-13T07:20:48.137589Z",
     "start_time": "2019-03-13T07:20:48.048826Z"
    }
   },
   "outputs": [],
   "source": [
    "pos2idx = {w: i+1 for i, w in enumerate(pos)}\n",
    "pos2idx[\"PAD\"] = 0"
   ]
  },
  {
   "cell_type": "code",
   "execution_count": 25,
   "metadata": {},
   "outputs": [],
   "source": [
    "from keras.preprocessing.sequence import pad_sequences\n",
    "X_pos_gold_train = [[pos2idx[w[1]] for w in s] for s in gold_train_sents]\n",
    "X_pos_gold_dev   = [[pos2idx[w[1]] for w in s] for s in gold_dev_sents]\n",
    "X_pos_gold_test  = [[pos2idx[w[1]] for w in s] for s in gold_test_sents]\n",
    "X_pos_yap_dev    = [[pos2idx[w[1]] for w in s] for s in yap_dev_tok_sents]\n",
    "X_pos_yap_test   = [[pos2idx[w[1]] for w in s] for s in yap_test_tok_sents]"
   ]
  },
  {
   "cell_type": "code",
   "execution_count": 26,
   "metadata": {},
   "outputs": [
    {
     "data": {
      "text/plain": [
       "array([ 31, 161,  12, 122, 257,   0,   0,   0,   0,   0,   0,   0,   0,\n",
       "         0,   0,   0,   0,   0,   0,   0,   0,   0,   0,   0,   0,   0,\n",
       "         0,   0,   0,   0,   0,   0,   0,   0,   0,   0,   0,   0,   0,\n",
       "         0,   0,   0,   0,   0,   0,   0,   0,   0,   0,   0,   0,   0,\n",
       "         0,   0,   0,   0,   0,   0,   0,   0,   0,   0,   0,   0,   0,\n",
       "         0,   0,   0,   0,   0,   0,   0,   0,   0,   0,   0,   0,   0,\n",
       "         0,   0], dtype=int32)"
      ]
     },
     "execution_count": 26,
     "metadata": {},
     "output_type": "execute_result"
    }
   ],
   "source": [
    "X_pos_gold_train = pad_sequences(maxlen=max_len, sequences=X_pos_gold_train, value=pos2idx[\"PAD\"], padding='post', truncating='post')\n",
    "X_pos_gold_dev   = pad_sequences(maxlen=max_len, sequences=X_pos_gold_dev  , value=pos2idx[\"PAD\"], padding='post', truncating='post')\n",
    "X_pos_gold_test  = pad_sequences(maxlen=max_len, sequences=X_pos_gold_test , value=pos2idx[\"PAD\"], padding='post', truncating='post')\n",
    "X_pos_yap_dev    = pad_sequences(maxlen=max_len, sequences=X_pos_yap_dev   , value=pos2idx[\"PAD\"], padding='post', truncating='post')\n",
    "X_pos_yap_test   = pad_sequences(maxlen=max_len, sequences=X_pos_yap_test  , value=pos2idx[\"PAD\"], padding='post', truncating='post')\n",
    "X_pos_gold_train[0]"
   ]
  },
  {
   "cell_type": "code",
   "execution_count": 27,
   "metadata": {},
   "outputs": [],
   "source": [
    "from keras.preprocessing.sequence import pad_sequences\n",
    "y_gold_train = [[tag2idx[w[2]] for w in s] for s in gold_train_sents]\n",
    "y_gold_dev   = [[tag2idx[w[2]] for w in s] for s in gold_dev_sents]\n",
    "y_gold_test  = [[tag2idx[w[2]] for w in s] for s in gold_test_sents]"
   ]
  },
  {
   "cell_type": "code",
   "execution_count": 28,
   "metadata": {},
   "outputs": [
    {
     "data": {
      "text/plain": [
       "array([4, 4, 4, 4, 4, 0, 0, 0, 0, 0, 0, 0, 0, 0, 0, 0, 0, 0, 0, 0, 0, 0,\n",
       "       0, 0, 0, 0, 0, 0, 0, 0, 0, 0, 0, 0, 0, 0, 0, 0, 0, 0, 0, 0, 0, 0,\n",
       "       0, 0, 0, 0, 0, 0, 0, 0, 0, 0, 0, 0, 0, 0, 0, 0, 0, 0, 0, 0, 0, 0,\n",
       "       0, 0, 0, 0, 0, 0, 0, 0, 0, 0, 0, 0, 0, 0], dtype=int32)"
      ]
     },
     "execution_count": 28,
     "metadata": {},
     "output_type": "execute_result"
    }
   ],
   "source": [
    "y_numer_gold_train = pad_sequences(maxlen=max_len, sequences=y_gold_train, value=pos2idx[\"PAD\"], padding='post', truncating='post')\n",
    "y_numer_gold_dev   = pad_sequences(maxlen=max_len, sequences=y_gold_dev  , value=pos2idx[\"PAD\"], padding='post', truncating='post')\n",
    "y_numer_gold_test  = pad_sequences(maxlen=max_len, sequences=y_gold_test , value=pos2idx[\"PAD\"], padding='post', truncating='post')\n",
    "y_numer_gold_train[0]"
   ]
  },
  {
   "cell_type": "code",
   "execution_count": 29,
   "metadata": {
    "ExecuteTime": {
     "end_time": "2019-03-13T07:20:48.330074Z",
     "start_time": "2019-03-13T07:20:48.226353Z"
    }
   },
   "outputs": [
    {
     "data": {
      "text/plain": [
       "(80, 37)"
      ]
     },
     "execution_count": 29,
     "metadata": {},
     "output_type": "execute_result"
    }
   ],
   "source": [
    "from keras.utils import to_categorical\n",
    "y_gold_train = [to_categorical(i, num_classes=n_tags+1) for i in y_numer_gold_train]\n",
    "y_gold_dev   = [to_categorical(i, num_classes=n_tags+1) for i in y_numer_gold_dev  ]\n",
    "y_gold_test  = [to_categorical(i, num_classes=n_tags+1) for i in y_numer_gold_test ]\n",
    "\n",
    "y_gold_train[0].shape"
   ]
  },
  {
   "cell_type": "code",
   "execution_count": 30,
   "metadata": {},
   "outputs": [
    {
     "data": {
      "text/plain": [
       "0.09196247930844216"
      ]
     },
     "execution_count": 30,
     "metadata": {},
     "output_type": "execute_result"
    }
   ],
   "source": [
    "validation_split = len(X_gold_dev) / (len(X_gold_train)+len(X_gold_dev))\n",
    "validation_split"
   ]
  },
  {
   "cell_type": "code",
   "execution_count": 31,
   "metadata": {},
   "outputs": [],
   "source": [
    "splits = [[X_gold_train, X_gold_dev,\n",
    "           y_gold_train, y_gold_dev,\n",
    "           X_pos_gold_train, X_pos_gold_dev ]]"
   ]
  },
  {
   "cell_type": "markdown",
   "metadata": {},
   "source": [
    "### Prep char input"
   ]
  },
  {
   "cell_type": "code",
   "execution_count": 32,
   "metadata": {
    "ExecuteTime": {
     "end_time": "2019-01-31T13:58:31.324599Z",
     "start_time": "2019-01-31T13:58:31.077207Z"
    }
   },
   "outputs": [
    {
     "data": {
      "text/plain": [
       "<matplotlib.axes._subplots.AxesSubplot at 0x7fa8a0ba1860>"
      ]
     },
     "execution_count": 32,
     "metadata": {},
     "output_type": "execute_result"
    },
    {
     "data": {
      "image/png": "[encoded data removed]",
      "text/plain": [
       "<Figure size 432x288 with 1 Axes>"
      ]
     },
     "metadata": {},
     "output_type": "display_data"
    }
   ],
   "source": [
    "tokens_ner_with_upos_feats.misc_token_str.apply(len).hist(bins=18)"
   ]
  },
  {
   "cell_type": "code",
   "execution_count": 33,
   "metadata": {
    "ExecuteTime": {
     "end_time": "2019-01-31T13:58:31.340217Z",
     "start_time": "2019-01-31T13:58:31.324599Z"
    }
   },
   "outputs": [],
   "source": [
    "max_len_char = 12"
   ]
  },
  {
   "cell_type": "code",
   "execution_count": 34,
   "metadata": {
    "ExecuteTime": {
     "end_time": "2019-01-31T13:58:32.660554Z",
     "start_time": "2019-01-31T13:58:32.613692Z"
    }
   },
   "outputs": [
    {
     "name": "stdout",
     "output_type": "stream",
     "text": [
      "50\n"
     ]
    }
   ],
   "source": [
    "chars = set([w_i for w in words for w_i in w])\n",
    "n_chars = len(chars)\n",
    "print(n_chars)"
   ]
  },
  {
   "cell_type": "code",
   "execution_count": 35,
   "metadata": {
    "ExecuteTime": {
     "end_time": "2019-01-31T13:58:33.732950Z",
     "start_time": "2019-01-31T13:58:33.717366Z"
    }
   },
   "outputs": [],
   "source": [
    "char2idx = {c: i + 2 for i, c in enumerate(chars)}\n",
    "char2idx[\"UNK\"] = 1\n",
    "char2idx[\"PAD\"] = 0"
   ]
  },
  {
   "cell_type": "code",
   "execution_count": 36,
   "metadata": {
    "ExecuteTime": {
     "end_time": "2019-01-31T13:58:36.324286Z",
     "start_time": "2019-01-31T13:58:34.303392Z"
    }
   },
   "outputs": [],
   "source": [
    "\n",
    "def get_X_char(sents):\n",
    "    X_char = []\n",
    "    for sentence in sents:\n",
    "        sent_seq = []\n",
    "        for i in range(max_len):\n",
    "            word_seq = []\n",
    "            for j in range(max_len_char):\n",
    "                try:\n",
    "                    word_seq.append(char2idx.get(sentence[i][0][j]))\n",
    "                except:\n",
    "                    word_seq.append(char2idx.get(\"PAD\"))\n",
    "            sent_seq.append(word_seq)\n",
    "        X_char.append(np.array(sent_seq))\n",
    "    return X_char"
   ]
  },
  {
   "cell_type": "code",
   "execution_count": 37,
   "metadata": {},
   "outputs": [],
   "source": [
    "X_char_gold_dev   = get_X_char(gold_dev_sents  )\n",
    "X_char_gold_train = get_X_char(gold_train_sents)\n",
    "X_char_gold_test  = get_X_char(gold_test_sents )\n",
    "X_char_yap_dev    = get_X_char(yap_dev_tok_sents   )\n",
    "X_char_yap_test   = get_X_char(yap_test_tok_sents  )\n",
    "\n",
    "\n",
    "\n",
    "splits_char = [[X_char_gold_train, X_char_gold_dev,\n",
    "                y_gold_train, y_gold_dev]]"
   ]
  },
  {
   "cell_type": "markdown",
   "metadata": {},
   "source": [
    "## Embeddings"
   ]
  },
  {
   "cell_type": "code",
   "execution_count": 38,
   "metadata": {},
   "outputs": [
    {
     "data": {
      "text/plain": [
       "{'yap_w2v_sg': '../wordembedding-hebrew/wikipedia.yap_form.word2vec_skipgram.txt',\n",
       " 'yap_w2v_cbow': '../wordembedding-hebrew/wikipedia.yap_form.word2vec_cbow.txt',\n",
       " 'yap_glove': '../wordembedding-hebrew/glove/wikipedia.yap_form.glove.txt.txt',\n",
       " 'yap_ft_sg': '../wordembedding-hebrew/wikipedia.yap_form.fasttext_skipgram.model.vec',\n",
       " 'yap_ft_cbow': '../wordembedding-hebrew/wikipedia.yap_form.fasttext_cbow.model.vec',\n",
       " 'token_w2v_sg': '../wordembedding-hebrew/wikipedia.tokenized.word2vec_skipgram.txt',\n",
       " 'token_w2v_cbow': '../wordembedding-hebrew/wikipedia.tokenized.word2vec_cbow.txt',\n",
       " 'token_glove': '../wordembedding-hebrew/glove/wikipedia.tokenized.glove.txt',\n",
       " 'token_ft_sg': '../wordembedding-hebrew/wikipedia.tokenized.fasttext_skipgram.model.vec',\n",
       " 'token_ft_cbow': '../wordembedding-hebrew/wikipedia.tokenized.fasttext_cbow.model.vec',\n",
       " 'pretrained_token_ft': '../fasttext/wiki.he.vec'}"
      ]
     },
     "execution_count": 38,
     "metadata": {},
     "output_type": "execute_result"
    }
   ],
   "source": [
    "embedding_paths"
   ]
  },
  {
   "cell_type": "code",
   "execution_count": 39,
   "metadata": {},
   "outputs": [],
   "source": [
    "exclude = ['cbow', 'word2vec', 'yap', 'glove']"
   ]
  },
  {
   "cell_type": "code",
   "execution_count": 40,
   "metadata": {},
   "outputs": [
    {
     "name": "stdout",
     "output_type": "stream",
     "text": [
      "loading word embeddings: ../wordembedding-hebrew/wikipedia.tokenized.fasttext_skipgram.model.vec\n",
      "found 372587 word vectors\n",
      "preparing embedding matrix...\n",
      "number of null word embeddings: 3040\n",
      "sample words not found:  ['המקס' 'בהכתמה' 'ותרומתי' 'שלבנק' 'טוניאצי' 'ל\"אוכלי' 'ותיאוריית'\n",
      " 'טרייכמן' 'הוצאנו' 'ומשוריינת']\n",
      "loading word embeddings: ../fasttext/wiki.he.vec\n",
      "found 488194 word vectors\n",
      "preparing embedding matrix...\n",
      "number of null word embeddings: 2966\n",
      "sample words not found:  ['ל004' 'יוגוסלווית' 'גזיזולין' 'חיכיתם' 'וצחק' 'שלקמחי' 'ויסמונסקי'\n",
      " 'המשתקות' 'בדו\"ח' 'ב\"דיפרנסיאס']\n"
     ]
    }
   ],
   "source": [
    "embedding_mats = {}\n",
    "for emb_name, emb_path in embedding_paths.items():\n",
    "    skip=False\n",
    "    for exc in exclude:\n",
    "        if exc in emb_path:\n",
    "            skip=True\n",
    "    if skip:\n",
    "        continue\n",
    "    embedding_mats[emb_name] = get_embedding_matrix(emb_path, word2idx)"
   ]
  },
  {
   "cell_type": "markdown",
   "metadata": {},
   "source": [
    "## Model building"
   ]
  },
  {
   "cell_type": "code",
   "execution_count": 41,
   "metadata": {},
   "outputs": [
    {
     "data": {
      "text/plain": [
       "[{'crf': True, 'use_pos': False},\n",
       " {'crf': True, 'use_pos': True},\n",
       " {'add_random_embedding': False,\n",
       "  'crf': True,\n",
       "  'use_pos': False,\n",
       "  'embedding_matrix': 'token_ft_sg',\n",
       "  'trainable': True,\n",
       "  'embed_dim': 300},\n",
       " {'add_random_embedding': False,\n",
       "  'crf': True,\n",
       "  'use_pos': False,\n",
       "  'embedding_matrix': 'pretrained_token_ft',\n",
       "  'trainable': True,\n",
       "  'embed_dim': 300},\n",
       " {'add_random_embedding': False,\n",
       "  'crf': True,\n",
       "  'use_pos': True,\n",
       "  'embedding_matrix': 'token_ft_sg',\n",
       "  'trainable': True,\n",
       "  'embed_dim': 300},\n",
       " {'add_random_embedding': False,\n",
       "  'crf': True,\n",
       "  'use_pos': True,\n",
       "  'embedding_matrix': 'pretrained_token_ft',\n",
       "  'trainable': True,\n",
       "  'embed_dim': 300},\n",
       " {'use_char': True, 'crf': True, 'use_pos': False},\n",
       " {'use_char': True, 'crf': True, 'use_pos': True},\n",
       " {'add_random_embedding': False,\n",
       "  'use_char': True,\n",
       "  'crf': True,\n",
       "  'use_pos': False,\n",
       "  'embedding_matrix': 'token_ft_sg',\n",
       "  'trainable': True,\n",
       "  'embed_dim': 300},\n",
       " {'add_random_embedding': False,\n",
       "  'use_char': True,\n",
       "  'crf': True,\n",
       "  'use_pos': False,\n",
       "  'embedding_matrix': 'pretrained_token_ft',\n",
       "  'trainable': True,\n",
       "  'embed_dim': 300},\n",
       " {'add_random_embedding': False,\n",
       "  'use_char': True,\n",
       "  'crf': True,\n",
       "  'use_pos': True,\n",
       "  'embedding_matrix': 'token_ft_sg',\n",
       "  'trainable': True,\n",
       "  'embed_dim': 300},\n",
       " {'add_random_embedding': False,\n",
       "  'use_char': True,\n",
       "  'crf': True,\n",
       "  'use_pos': True,\n",
       "  'embedding_matrix': 'pretrained_token_ft',\n",
       "  'trainable': True,\n",
       "  'embed_dim': 300}]"
      ]
     },
     "execution_count": 41,
     "metadata": {},
     "output_type": "execute_result"
    }
   ],
   "source": [
    "configs = build_configs(base_configs, embedding_mats)\n",
    "configs     "
   ]
  },
  {
   "cell_type": "code",
   "execution_count": 42,
   "metadata": {},
   "outputs": [],
   "source": [
    "out_folder = 'results/new_outputs'\n",
    "if not os.path.exists(out_folder):\n",
    "    os.mkdir(out_folder)"
   ]
  },
  {
   "cell_type": "code",
   "execution_count": 43,
   "metadata": {},
   "outputs": [],
   "source": [
    "extra_preds = [(X_gold_test, X_pos_gold_test, X_char_gold_test), \n",
    "               (X_yap_dev, X_pos_yap_dev, X_char_yap_dev),\n",
    "               (X_yap_test, X_pos_yap_test, X_char_yap_test)]"
   ]
  },
  {
   "cell_type": "code",
   "execution_count": null,
   "metadata": {},
   "outputs": [],
   "source": [
    "from ner_utils import *"
   ]
  },
  {
   "cell_type": "code",
   "execution_count": null,
   "metadata": {
    "ExecuteTime": {
     "end_time": "2019-03-13T11:31:02.793857Z",
     "start_time": "2019-03-13T11:16:17.267695Z"
    },
    "scrolled": true
   },
   "outputs": [
    {
     "name": "stdout",
     "output_type": "stream",
     "text": [
      "Train on 4482 samples, validate on 455 samples\n",
      "Epoch 1/100\n",
      " - 57s - loss: 0.2994 - crf_accuracy: 0.9355 - val_loss: 0.1713 - val_crf_accuracy: 0.9682\n",
      "Epoch 2/100\n",
      " - 54s - loss: 0.1118 - crf_accuracy: 0.9763 - val_loss: 0.1459 - val_crf_accuracy: 0.9697\n",
      "Epoch 3/100\n",
      " - 51s - loss: 0.0758 - crf_accuracy: 0.9800 - val_loss: 0.1158 - val_crf_accuracy: 0.9730\n",
      "Epoch 4/100\n",
      " - 54s - loss: 0.0522 - crf_accuracy: 0.9851 - val_loss: 0.1084 - val_crf_accuracy: 0.9743\n",
      "Epoch 5/100\n",
      " - 53s - loss: 0.0354 - crf_accuracy: 0.9884 - val_loss: 0.0982 - val_crf_accuracy: 0.9727\n",
      "Epoch 6/100\n",
      " - 49s - loss: 0.0238 - crf_accuracy: 0.9908 - val_loss: 0.0997 - val_crf_accuracy: 0.9692\n",
      "Epoch 7/100\n",
      " - 52s - loss: 0.0152 - crf_accuracy: 0.9923 - val_loss: 0.0944 - val_crf_accuracy: 0.9716\n",
      "Epoch 8/100\n",
      " - 52s - loss: 0.0079 - crf_accuracy: 0.9938 - val_loss: 0.1032 - val_crf_accuracy: 0.9679\n",
      "Epoch 9/100\n",
      " - 48s - loss: 0.0022 - crf_accuracy: 0.9947 - val_loss: 0.1065 - val_crf_accuracy: 0.9748\n",
      "Epoch 10/100\n",
      " - 55s - loss: -2.7005e-03 - crf_accuracy: 0.9959 - val_loss: 0.1089 - val_crf_accuracy: 0.9727\n",
      "Epoch 11/100\n",
      " - 48s - loss: -6.9700e-03 - crf_accuracy: 0.9966 - val_loss: 0.1126 - val_crf_accuracy: 0.9742\n",
      "Epoch 12/100\n",
      " - 54s - loss: -1.0821e-02 - crf_accuracy: 0.9972 - val_loss: 0.1124 - val_crf_accuracy: 0.9698\n",
      "Epoch 13/100\n",
      " - 47s - loss: -1.4208e-02 - crf_accuracy: 0.9977 - val_loss: 0.1196 - val_crf_accuracy: 0.9726\n",
      "Epoch 14/100\n",
      " - 50s - loss: -1.7150e-02 - crf_accuracy: 0.9982 - val_loss: 0.1199 - val_crf_accuracy: 0.9686\n",
      "Epoch 15/100\n",
      " - 53s - loss: -2.0054e-02 - crf_accuracy: 0.9986 - val_loss: 0.1236 - val_crf_accuracy: 0.9721\n",
      "Epoch 16/100\n",
      " - 51s - loss: -2.2658e-02 - crf_accuracy: 0.9989 - val_loss: 0.1264 - val_crf_accuracy: 0.9691\n",
      "Epoch 17/100\n",
      " - 55s - loss: -2.5019e-02 - crf_accuracy: 0.9991 - val_loss: 0.1321 - val_crf_accuracy: 0.9720\n",
      "Epoch 18/100\n",
      " - 54s - loss: -2.7338e-02 - crf_accuracy: 0.9993 - val_loss: 0.1315 - val_crf_accuracy: 0.9695\n",
      "Epoch 19/100\n",
      " - 55s - loss: -2.9581e-02 - crf_accuracy: 0.9994 - val_loss: 0.1372 - val_crf_accuracy: 0.9698\n",
      "Epoch 20/100\n",
      " - 52s - loss: -3.1722e-02 - crf_accuracy: 0.9995 - val_loss: 0.1458 - val_crf_accuracy: 0.9688\n",
      "Epoch 21/100\n",
      " - 54s - loss: -3.3771e-02 - crf_accuracy: 0.9996 - val_loss: 0.1439 - val_crf_accuracy: 0.9670\n",
      "Epoch 22/100\n",
      " - 52s - loss: -3.5769e-02 - crf_accuracy: 0.9997 - val_loss: 0.1488 - val_crf_accuracy: 0.9670\n",
      "Epoch 23/100\n",
      " - 52s - loss: -3.7745e-02 - crf_accuracy: 0.9998 - val_loss: 0.1477 - val_crf_accuracy: 0.9715\n",
      "Epoch 24/100\n",
      " - 56s - loss: -3.9650e-02 - crf_accuracy: 0.9998 - val_loss: 0.1462 - val_crf_accuracy: 0.9708\n",
      "Epoch 25/100\n",
      " - 50s - loss: -4.1535e-02 - crf_accuracy: 0.9999 - val_loss: 0.1580 - val_crf_accuracy: 0.9676\n",
      "Epoch 26/100\n",
      " - 50s - loss: -4.3433e-02 - crf_accuracy: 0.9999 - val_loss: 0.1656 - val_crf_accuracy: 0.9686\n",
      "Epoch 27/100\n",
      " - 52s - loss: -4.5284e-02 - crf_accuracy: 0.9999 - val_loss: 0.1841 - val_crf_accuracy: 0.9660\n",
      "Epoch 28/100\n",
      " - 55s - loss: -4.7055e-02 - crf_accuracy: 0.9999 - val_loss: 0.1639 - val_crf_accuracy: 0.9719\n",
      "Epoch 29/100\n",
      " - 54s - loss: -4.8894e-02 - crf_accuracy: 0.9999 - val_loss: 0.1731 - val_crf_accuracy: 0.9677\n",
      "Restoring model weights from the end of the best epoch\n",
      "Epoch 00029: early stopping\n"
     ]
    },
    {
     "data": {
      "image/png": "[encoded data removed]",
      "text/plain": [
       "<Figure size 432x288 with 1 Axes>"
      ]
     },
     "metadata": {},
     "output_type": "display_data"
    },
    {
     "name": "stdout",
     "output_type": "stream",
     "text": [
      "processed 8531 tokens with 499 phrases; found: 398 phrases; correct: 167.\n",
      "accuracy:  33.49%; (non-O)\n",
      "accuracy:  91.76%; precision:  41.96%; recall:  33.47%; FB1:  37.24\n",
      "              ANG: precision:   0.00%; recall:   0.00%; FB1:   0.00  0\n",
      "              DUC: precision:   0.00%; recall:   0.00%; FB1:   0.00  0\n",
      "              EVE: precision:   0.00%; recall:   0.00%; FB1:   0.00  0\n",
      "              FAC: precision:   0.00%; recall:   0.00%; FB1:   0.00  4\n",
      "              GPE: precision:  65.06%; recall:  44.63%; FB1:  52.94  83\n",
      "              LOC: precision:  41.18%; recall:  25.00%; FB1:  31.11  17\n",
      "              ORG: precision:  23.57%; recall:  27.73%; FB1:  25.48  140\n",
      "              PER: precision:  50.00%; recall:  37.82%; FB1:  43.07  146\n",
      "              WOA: precision:   0.00%; recall:   0.00%; FB1:   0.00  8\n",
      "Train on 4482 samples, validate on 455 samples\n",
      "Epoch 1/100\n",
      " - 55s - loss: 0.3003 - crf_accuracy: 0.9376 - val_loss: 0.1625 - val_crf_accuracy: 0.9681\n",
      "Epoch 2/100\n",
      " - 52s - loss: 0.0915 - crf_accuracy: 0.9786 - val_loss: 0.1018 - val_crf_accuracy: 0.9771\n",
      "Epoch 3/100\n",
      " - 49s - loss: 0.0583 - crf_accuracy: 0.9850 - val_loss: 0.0830 - val_crf_accuracy: 0.9798\n",
      "Epoch 4/100\n",
      " - 51s - loss: 0.0409 - crf_accuracy: 0.9880 - val_loss: 0.0898 - val_crf_accuracy: 0.9763\n",
      "Epoch 5/100\n",
      " - 47s - loss: 0.0291 - crf_accuracy: 0.9903 - val_loss: 0.0672 - val_crf_accuracy: 0.9796\n",
      "Epoch 6/100\n",
      " - 50s - loss: 0.0199 - crf_accuracy: 0.9921 - val_loss: 0.0638 - val_crf_accuracy: 0.9810\n",
      "Epoch 7/100\n",
      " - 49s - loss: 0.0125 - crf_accuracy: 0.9937 - val_loss: 0.0638 - val_crf_accuracy: 0.9800\n",
      "Epoch 8/100\n",
      " - 49s - loss: 0.0064 - crf_accuracy: 0.9949 - val_loss: 0.0690 - val_crf_accuracy: 0.9802\n",
      "Epoch 9/100\n",
      " - 50s - loss: 8.7495e-04 - crf_accuracy: 0.9959 - val_loss: 0.0609 - val_crf_accuracy: 0.9818\n",
      "Epoch 10/100\n",
      " - 51s - loss: -3.8331e-03 - crf_accuracy: 0.9968 - val_loss: 0.0647 - val_crf_accuracy: 0.9798\n",
      "Epoch 11/100\n",
      " - 48s - loss: -7.8119e-03 - crf_accuracy: 0.9976 - val_loss: 0.0653 - val_crf_accuracy: 0.9798\n",
      "Epoch 12/100\n",
      " - 50s - loss: -1.1220e-02 - crf_accuracy: 0.9980 - val_loss: 0.0657 - val_crf_accuracy: 0.9812\n",
      "Epoch 13/100\n",
      " - 48s - loss: -1.4378e-02 - crf_accuracy: 0.9986 - val_loss: 0.0671 - val_crf_accuracy: 0.9803\n",
      "Epoch 14/100\n",
      " - 47s - loss: -1.7317e-02 - crf_accuracy: 0.9989 - val_loss: 0.0858 - val_crf_accuracy: 0.9792\n",
      "Epoch 15/100\n",
      " - 47s - loss: -1.9847e-02 - crf_accuracy: 0.9991 - val_loss: 0.0776 - val_crf_accuracy: 0.9786\n",
      "Epoch 16/100\n",
      " - 47s - loss: -2.2206e-02 - crf_accuracy: 0.9994 - val_loss: 0.0832 - val_crf_accuracy: 0.9801\n",
      "Epoch 17/100\n",
      " - 50s - loss: -2.4436e-02 - crf_accuracy: 0.9995 - val_loss: 0.0782 - val_crf_accuracy: 0.9786\n",
      "Epoch 18/100\n",
      " - 47s - loss: -2.6608e-02 - crf_accuracy: 0.9996 - val_loss: 0.0792 - val_crf_accuracy: 0.9781\n",
      "Epoch 19/100\n",
      " - 47s - loss: -2.8634e-02 - crf_accuracy: 0.9997 - val_loss: 0.0879 - val_crf_accuracy: 0.9800\n",
      "Epoch 20/100\n",
      " - 48s - loss: -3.0659e-02 - crf_accuracy: 0.9997 - val_loss: 0.0870 - val_crf_accuracy: 0.9792\n",
      "Epoch 21/100\n",
      " - 50s - loss: -3.2569e-02 - crf_accuracy: 0.9998 - val_loss: 0.0864 - val_crf_accuracy: 0.9786\n",
      "Epoch 22/100\n",
      " - 50s - loss: -3.4506e-02 - crf_accuracy: 0.9998 - val_loss: 0.0940 - val_crf_accuracy: 0.9794\n",
      "Epoch 23/100\n",
      " - 48s - loss: -3.6341e-02 - crf_accuracy: 0.9999 - val_loss: 0.0819 - val_crf_accuracy: 0.9793\n",
      "Epoch 24/100\n",
      " - 50s - loss: -3.8173e-02 - crf_accuracy: 0.9999 - val_loss: 0.0928 - val_crf_accuracy: 0.9773\n",
      "Epoch 25/100\n",
      " - 50s - loss: -4.0020e-02 - crf_accuracy: 0.9999 - val_loss: 0.0914 - val_crf_accuracy: 0.9796\n",
      "Epoch 26/100\n",
      " - 50s - loss: -4.1816e-02 - crf_accuracy: 0.9999 - val_loss: 0.0983 - val_crf_accuracy: 0.9795\n",
      "Epoch 27/100\n",
      " - 51s - loss: -4.3631e-02 - crf_accuracy: 1.0000 - val_loss: 0.1059 - val_crf_accuracy: 0.9784\n",
      "Epoch 28/100\n",
      " - 49s - loss: -4.5395e-02 - crf_accuracy: 1.0000 - val_loss: 0.0896 - val_crf_accuracy: 0.9800\n",
      "Epoch 29/100\n",
      " - 52s - loss: -4.7215e-02 - crf_accuracy: 1.0000 - val_loss: 0.1020 - val_crf_accuracy: 0.9786\n",
      "Restoring model weights from the end of the best epoch\n",
      "Epoch 00029: early stopping\n"
     ]
    },
    {
     "data": {
      "image/png": "[encoded data removed]",
      "text/plain": [
       "<Figure size 432x288 with 1 Axes>"
      ]
     },
     "metadata": {},
     "output_type": "display_data"
    },
    {
     "name": "stdout",
     "output_type": "stream",
     "text": [
      "processed 8531 tokens with 499 phrases; found: 513 phrases; correct: 275.\n",
      "accuracy:  51.69%; (non-O)\n",
      "accuracy:  94.01%; precision:  53.61%; recall:  55.11%; FB1:  54.35\n",
      "              ANG: precision:   0.00%; recall:   0.00%; FB1:   0.00  0\n",
      "              DUC: precision:   0.00%; recall:   0.00%; FB1:   0.00  0\n",
      "              EVE: precision:   0.00%; recall:   0.00%; FB1:   0.00  0\n",
      "              FAC: precision:   0.00%; recall:   0.00%; FB1:   0.00  10\n",
      "              GPE: precision:  67.59%; recall:  60.33%; FB1:  63.76  108\n",
      "              LOC: precision:  24.07%; recall:  46.43%; FB1:  31.71  54\n",
      "              ORG: precision:  33.06%; recall:  33.61%; FB1:  33.33  121\n",
      "              PER: precision:  68.98%; recall:  77.20%; FB1:  72.86  216\n",
      "              WOA: precision:   0.00%; recall:   0.00%; FB1:   0.00  4\n",
      "Train on 4482 samples, validate on 455 samples\n",
      "Epoch 1/100\n",
      " - 53s - loss: 0.2304 - crf_accuracy: 0.9521 - val_loss: 0.1077 - val_crf_accuracy: 0.9737\n",
      "Epoch 2/100\n",
      " - 50s - loss: 0.0564 - crf_accuracy: 0.9858 - val_loss: 0.0702 - val_crf_accuracy: 0.9805\n",
      "Epoch 3/100\n",
      " - 51s - loss: 0.0343 - crf_accuracy: 0.9901 - val_loss: 0.0572 - val_crf_accuracy: 0.9837\n",
      "Epoch 4/100\n",
      " - 49s - loss: 0.0213 - crf_accuracy: 0.9929 - val_loss: 0.0514 - val_crf_accuracy: 0.9840\n",
      "Epoch 5/100\n",
      " - 48s - loss: 0.0121 - crf_accuracy: 0.9950 - val_loss: 0.0551 - val_crf_accuracy: 0.9811\n",
      "Epoch 6/100\n",
      " - 52s - loss: 0.0048 - crf_accuracy: 0.9967 - val_loss: 0.0415 - val_crf_accuracy: 0.9857\n",
      "Epoch 7/100\n",
      " - 51s - loss: -1.0963e-03 - crf_accuracy: 0.9980 - val_loss: 0.0452 - val_crf_accuracy: 0.9856\n",
      "Epoch 8/100\n",
      " - 49s - loss: -5.7017e-03 - crf_accuracy: 0.9989 - val_loss: 0.0451 - val_crf_accuracy: 0.9853\n",
      "Epoch 9/100\n",
      " - 47s - loss: -9.1174e-03 - crf_accuracy: 0.9993 - val_loss: 0.0464 - val_crf_accuracy: 0.9859\n",
      "Epoch 10/100\n",
      " - 52s - loss: -1.1868e-02 - crf_accuracy: 0.9996 - val_loss: 0.0589 - val_crf_accuracy: 0.9852\n",
      "Epoch 11/100\n",
      " - 53s - loss: -1.4230e-02 - crf_accuracy: 0.9998 - val_loss: 0.0528 - val_crf_accuracy: 0.9851\n",
      "Epoch 12/100\n",
      " - 50s - loss: -1.6442e-02 - crf_accuracy: 0.9999 - val_loss: 0.0586 - val_crf_accuracy: 0.9850\n",
      "Epoch 13/100\n",
      " - 52s - loss: -1.8380e-02 - crf_accuracy: 0.9999 - val_loss: 0.0595 - val_crf_accuracy: 0.9852\n",
      "Epoch 14/100\n",
      " - 54s - loss: -2.0254e-02 - crf_accuracy: 0.9999 - val_loss: 0.0630 - val_crf_accuracy: 0.9859\n",
      "Epoch 15/100\n",
      " - 52s - loss: -2.2059e-02 - crf_accuracy: 1.0000 - val_loss: 0.0617 - val_crf_accuracy: 0.9856\n",
      "Epoch 16/100\n",
      " - 53s - loss: -2.3911e-02 - crf_accuracy: 1.0000 - val_loss: 0.0696 - val_crf_accuracy: 0.9845\n",
      "Epoch 17/100\n",
      " - 49s - loss: -2.5641e-02 - crf_accuracy: 1.0000 - val_loss: 0.0747 - val_crf_accuracy: 0.9841\n",
      "Epoch 18/100\n",
      " - 48s - loss: -2.7376e-02 - crf_accuracy: 1.0000 - val_loss: 0.0739 - val_crf_accuracy: 0.9840\n",
      "Epoch 19/100\n",
      " - 49s - loss: -2.9186e-02 - crf_accuracy: 1.0000 - val_loss: 0.0726 - val_crf_accuracy: 0.9848\n",
      "Epoch 20/100\n",
      " - 47s - loss: -3.0942e-02 - crf_accuracy: 1.0000 - val_loss: 0.0940 - val_crf_accuracy: 0.9837\n",
      "Epoch 21/100\n",
      " - 51s - loss: -3.2710e-02 - crf_accuracy: 1.0000 - val_loss: 0.0697 - val_crf_accuracy: 0.9857\n",
      "Epoch 22/100\n",
      " - 49s - loss: -3.4515e-02 - crf_accuracy: 1.0000 - val_loss: 0.0717 - val_crf_accuracy: 0.9851\n",
      "Epoch 23/100\n",
      " - 54s - loss: -3.6245e-02 - crf_accuracy: 1.0000 - val_loss: 0.0765 - val_crf_accuracy: 0.9854\n",
      "Epoch 24/100\n",
      " - 55s - loss: -3.8057e-02 - crf_accuracy: 1.0000 - val_loss: 0.0768 - val_crf_accuracy: 0.9851\n",
      "Epoch 25/100\n",
      " - 51s - loss: -3.9815e-02 - crf_accuracy: 1.0000 - val_loss: 0.0779 - val_crf_accuracy: 0.9859\n",
      "Epoch 26/100\n",
      " - 53s - loss: -4.1562e-02 - crf_accuracy: 1.0000 - val_loss: 0.0733 - val_crf_accuracy: 0.9854\n",
      "Epoch 27/100\n",
      " - 54s - loss: -4.3336e-02 - crf_accuracy: 1.0000 - val_loss: 0.0811 - val_crf_accuracy: 0.9845\n",
      "Epoch 28/100\n",
      " - 47s - loss: -4.5104e-02 - crf_accuracy: 1.0000 - val_loss: 0.0800 - val_crf_accuracy: 0.9857\n",
      "Epoch 29/100\n",
      " - 52s - loss: -4.6871e-02 - crf_accuracy: 1.0000 - val_loss: 0.0808 - val_crf_accuracy: 0.9851\n",
      "Restoring model weights from the end of the best epoch\n",
      "Epoch 00029: early stopping\n"
     ]
    },
    {
     "data": {
      "image/png": "[encoded data removed]",
      "text/plain": [
       "<Figure size 432x288 with 1 Axes>"
      ]
     },
     "metadata": {},
     "output_type": "display_data"
    },
    {
     "name": "stdout",
     "output_type": "stream",
     "text": [
      "processed 8531 tokens with 499 phrases; found: 481 phrases; correct: 333.\n",
      "accuracy:  64.46%; (non-O)\n",
      "accuracy:  95.60%; precision:  69.23%; recall:  66.73%; FB1:  67.96\n",
      "              ANG: precision: 100.00%; recall:  33.33%; FB1:  50.00  1\n",
      "              DUC: precision:   0.00%; recall:   0.00%; FB1:   0.00  0\n",
      "              EVE: precision: 100.00%; recall:   8.33%; FB1:  15.38  1\n",
      "              FAC: precision:  16.67%; recall:   8.33%; FB1:  11.11  6\n",
      "              GPE: precision:  82.14%; recall:  76.03%; FB1:  78.97  112\n",
      "              LOC: precision:  48.72%; recall:  67.86%; FB1:  56.72  39\n",
      "              ORG: precision:  59.22%; recall:  51.26%; FB1:  54.95  103\n",
      "              PER: precision:  73.71%; recall:  81.35%; FB1:  77.34  213\n",
      "              WOA: precision:  16.67%; recall:  11.11%; FB1:  13.33  6\n",
      "Train on 4482 samples, validate on 455 samples\n",
      "Epoch 1/100\n",
      " - 55s - loss: 0.2138 - crf_accuracy: 0.9572 - val_loss: 0.1005 - val_crf_accuracy: 0.9760\n",
      "Epoch 2/100\n",
      " - 47s - loss: 0.0575 - crf_accuracy: 0.9850 - val_loss: 0.0686 - val_crf_accuracy: 0.9804\n",
      "Epoch 3/100\n",
      " - 54s - loss: 0.0333 - crf_accuracy: 0.9900 - val_loss: 0.0540 - val_crf_accuracy: 0.9833\n",
      "Epoch 4/100\n",
      " - 53s - loss: 0.0195 - crf_accuracy: 0.9930 - val_loss: 0.0459 - val_crf_accuracy: 0.9852\n",
      "Epoch 5/100\n",
      " - 54s - loss: 0.0096 - crf_accuracy: 0.9951 - val_loss: 0.0459 - val_crf_accuracy: 0.9839\n",
      "Epoch 6/100\n",
      " - 48s - loss: 0.0022 - crf_accuracy: 0.9969 - val_loss: 0.0482 - val_crf_accuracy: 0.9863\n",
      "Epoch 7/100\n",
      " - 53s - loss: -3.4471e-03 - crf_accuracy: 0.9980 - val_loss: 0.0543 - val_crf_accuracy: 0.9850\n",
      "Epoch 8/100\n",
      " - 52s - loss: -7.9013e-03 - crf_accuracy: 0.9989 - val_loss: 0.0464 - val_crf_accuracy: 0.9859\n",
      "Epoch 9/100\n",
      " - 47s - loss: -1.1400e-02 - crf_accuracy: 0.9994 - val_loss: 0.0549 - val_crf_accuracy: 0.9854\n",
      "Epoch 10/100\n",
      " - 50s - loss: -1.4193e-02 - crf_accuracy: 0.9996 - val_loss: 0.0511 - val_crf_accuracy: 0.9855\n",
      "Epoch 11/100\n",
      " - 47s - loss: -1.6552e-02 - crf_accuracy: 0.9998 - val_loss: 0.0578 - val_crf_accuracy: 0.9844\n",
      "Epoch 12/100\n",
      " - 56s - loss: -1.8629e-02 - crf_accuracy: 0.9999 - val_loss: 0.0630 - val_crf_accuracy: 0.9850\n",
      "Epoch 13/100\n",
      " - 57s - loss: -2.0535e-02 - crf_accuracy: 0.9999 - val_loss: 0.0624 - val_crf_accuracy: 0.9845\n",
      "Epoch 14/100\n",
      " - 53s - loss: -2.2428e-02 - crf_accuracy: 1.0000 - val_loss: 0.0634 - val_crf_accuracy: 0.9859\n",
      "Epoch 15/100\n",
      " - 50s - loss: -2.4310e-02 - crf_accuracy: 1.0000 - val_loss: 0.0839 - val_crf_accuracy: 0.9848\n",
      "Epoch 16/100\n",
      " - 49s - loss: -2.6065e-02 - crf_accuracy: 1.0000 - val_loss: 0.0764 - val_crf_accuracy: 0.9841\n",
      "Epoch 17/100\n",
      " - 51s - loss: -2.7856e-02 - crf_accuracy: 1.0000 - val_loss: 0.0768 - val_crf_accuracy: 0.9852\n",
      "Epoch 18/100\n",
      " - 53s - loss: -2.9663e-02 - crf_accuracy: 1.0000 - val_loss: 0.0803 - val_crf_accuracy: 0.9854\n",
      "Epoch 19/100\n",
      " - 47s - loss: -3.1413e-02 - crf_accuracy: 1.0000 - val_loss: 0.0847 - val_crf_accuracy: 0.9851\n",
      "Epoch 20/100\n",
      " - 50s - loss: -3.3206e-02 - crf_accuracy: 1.0000 - val_loss: 0.0828 - val_crf_accuracy: 0.9848\n",
      "Epoch 21/100\n",
      " - 54s - loss: -3.4953e-02 - crf_accuracy: 1.0000 - val_loss: 0.0899 - val_crf_accuracy: 0.9846\n",
      "Epoch 22/100\n",
      " - 51s - loss: -3.6732e-02 - crf_accuracy: 1.0000 - val_loss: 0.0846 - val_crf_accuracy: 0.9838\n",
      "Epoch 23/100\n",
      " - 49s - loss: -3.8477e-02 - crf_accuracy: 1.0000 - val_loss: 0.0851 - val_crf_accuracy: 0.9844\n",
      "Epoch 24/100\n",
      " - 51s - loss: -4.0262e-02 - crf_accuracy: 1.0000 - val_loss: 0.0917 - val_crf_accuracy: 0.9855\n",
      "Epoch 25/100\n",
      " - 54s - loss: -4.2023e-02 - crf_accuracy: 1.0000 - val_loss: 0.0878 - val_crf_accuracy: 0.9848\n",
      "Epoch 26/100\n",
      " - 53s - loss: -4.3746e-02 - crf_accuracy: 1.0000 - val_loss: 0.0964 - val_crf_accuracy: 0.9843\n",
      "Restoring model weights from the end of the best epoch\n",
      "Epoch 00026: early stopping\n"
     ]
    },
    {
     "data": {
      "image/png": "[encoded data removed]",
      "text/plain": [
       "<Figure size 432x288 with 1 Axes>"
      ]
     },
     "metadata": {},
     "output_type": "display_data"
    },
    {
     "name": "stdout",
     "output_type": "stream",
     "text": [
      "processed 8531 tokens with 499 phrases; found: 431 phrases; correct: 307.\n",
      "accuracy:  60.60%; (non-O)\n",
      "accuracy:  95.70%; precision:  71.23%; recall:  61.52%; FB1:  66.02\n",
      "              ANG: precision: 100.00%; recall:  33.33%; FB1:  50.00  1\n",
      "              DUC: precision:   0.00%; recall:   0.00%; FB1:   0.00  0\n",
      "              EVE: precision:   0.00%; recall:   0.00%; FB1:   0.00  0\n",
      "              FAC: precision:   0.00%; recall:   0.00%; FB1:   0.00  3\n",
      "              GPE: precision:  79.46%; recall:  73.55%; FB1:  76.39  112\n",
      "              LOC: precision:  63.64%; recall:  50.00%; FB1:  56.00  22\n",
      "              ORG: precision:  56.25%; recall:  45.38%; FB1:  50.23  96\n",
      "              PER: precision:  78.19%; recall:  76.17%; FB1:  77.17  188\n",
      "              WOA: precision:  22.22%; recall:  22.22%; FB1:  22.22  9\n",
      "Train on 4482 samples, validate on 455 samples\n",
      "Epoch 1/100\n",
      " - 58s - loss: 0.2386 - crf_accuracy: 0.9516 - val_loss: 0.0901 - val_crf_accuracy: 0.9770\n",
      "Epoch 2/100\n",
      " - 50s - loss: 0.0492 - crf_accuracy: 0.9870 - val_loss: 0.0589 - val_crf_accuracy: 0.9832\n",
      "Epoch 3/100\n",
      " - 53s - loss: 0.0272 - crf_accuracy: 0.9914 - val_loss: 0.0505 - val_crf_accuracy: 0.9836\n",
      "Epoch 4/100\n",
      " - 50s - loss: 0.0151 - crf_accuracy: 0.9935 - val_loss: 0.0426 - val_crf_accuracy: 0.9860\n",
      "Epoch 5/100\n",
      " - 49s - loss: 0.0062 - crf_accuracy: 0.9956 - val_loss: 0.0443 - val_crf_accuracy: 0.9849\n",
      "Epoch 6/100\n",
      " - 53s - loss: -4.5083e-04 - crf_accuracy: 0.9970 - val_loss: 0.0370 - val_crf_accuracy: 0.9874\n",
      "Epoch 7/100\n",
      " - 56s - loss: -5.6794e-03 - crf_accuracy: 0.9982 - val_loss: 0.0361 - val_crf_accuracy: 0.9873\n",
      "Epoch 8/100\n",
      " - 54s - loss: -9.8229e-03 - crf_accuracy: 0.9989 - val_loss: 0.0378 - val_crf_accuracy: 0.9878\n",
      "Epoch 9/100\n",
      " - 56s - loss: -1.3173e-02 - crf_accuracy: 0.9994 - val_loss: 0.0346 - val_crf_accuracy: 0.9869\n",
      "Epoch 10/100\n",
      " - 56s - loss: -1.5959e-02 - crf_accuracy: 0.9997 - val_loss: 0.0387 - val_crf_accuracy: 0.9868\n",
      "Epoch 11/100\n",
      " - 52s - loss: -1.8237e-02 - crf_accuracy: 0.9998 - val_loss: 0.0397 - val_crf_accuracy: 0.9865\n",
      "Epoch 12/100\n",
      " - 56s - loss: -2.0360e-02 - crf_accuracy: 0.9999 - val_loss: 0.0435 - val_crf_accuracy: 0.9870\n",
      "Epoch 13/100\n",
      " - 51s - loss: -2.2299e-02 - crf_accuracy: 0.9999 - val_loss: 0.0459 - val_crf_accuracy: 0.9870\n",
      "Epoch 14/100\n",
      " - 55s - loss: -2.4151e-02 - crf_accuracy: 0.9999 - val_loss: 0.0576 - val_crf_accuracy: 0.9854\n",
      "Epoch 15/100\n",
      " - 55s - loss: -2.6010e-02 - crf_accuracy: 1.0000 - val_loss: 0.0485 - val_crf_accuracy: 0.9874\n",
      "Epoch 16/100\n",
      " - 53s - loss: -2.7795e-02 - crf_accuracy: 1.0000 - val_loss: 0.0551 - val_crf_accuracy: 0.9865\n",
      "Epoch 17/100\n",
      " - 53s - loss: -2.9592e-02 - crf_accuracy: 1.0000 - val_loss: 0.0513 - val_crf_accuracy: 0.9873\n",
      "Epoch 18/100\n",
      " - 54s - loss: -3.1361e-02 - crf_accuracy: 1.0000 - val_loss: 0.0519 - val_crf_accuracy: 0.9870\n",
      "Epoch 19/100\n",
      " - 53s - loss: -3.3175e-02 - crf_accuracy: 1.0000 - val_loss: 0.0592 - val_crf_accuracy: 0.9867\n",
      "Epoch 20/100\n",
      " - 52s - loss: -3.4913e-02 - crf_accuracy: 1.0000 - val_loss: 0.0622 - val_crf_accuracy: 0.9855\n",
      "Epoch 21/100\n",
      " - 51s - loss: -3.6655e-02 - crf_accuracy: 1.0000 - val_loss: 0.0597 - val_crf_accuracy: 0.9865\n",
      "Epoch 22/100\n",
      " - 55s - loss: -3.8397e-02 - crf_accuracy: 1.0000 - val_loss: 0.0594 - val_crf_accuracy: 0.9869\n",
      "Epoch 23/100\n",
      " - 52s - loss: -4.0174e-02 - crf_accuracy: 1.0000 - val_loss: 0.0593 - val_crf_accuracy: 0.9862\n",
      "Epoch 24/100\n",
      " - 50s - loss: -4.1956e-02 - crf_accuracy: 1.0000 - val_loss: 0.0520 - val_crf_accuracy: 0.9872\n",
      "Epoch 25/100\n",
      " - 54s - loss: -4.3675e-02 - crf_accuracy: 1.0000 - val_loss: 0.0580 - val_crf_accuracy: 0.9870\n",
      "Epoch 26/100\n",
      " - 54s - loss: -4.5475e-02 - crf_accuracy: 1.0000 - val_loss: 0.0562 - val_crf_accuracy: 0.9866\n",
      "Epoch 27/100\n",
      " - 56s - loss: -4.7255e-02 - crf_accuracy: 1.0000 - val_loss: 0.0878 - val_crf_accuracy: 0.9789\n",
      "Epoch 28/100\n",
      " - 56s - loss: -4.8989e-02 - crf_accuracy: 1.0000 - val_loss: 0.0536 - val_crf_accuracy: 0.9867\n",
      "Restoring model weights from the end of the best epoch\n",
      "Epoch 00028: early stopping\n"
     ]
    },
    {
     "data": {
      "image/png": "[encoded data removed]",
      "text/plain": [
       "<Figure size 432x288 with 1 Axes>"
      ]
     },
     "metadata": {},
     "output_type": "display_data"
    },
    {
     "name": "stdout",
     "output_type": "stream",
     "text": [
      "processed 8531 tokens with 499 phrases; found: 461 phrases; correct: 354.\n",
      "accuracy:  66.39%; (non-O)\n",
      "accuracy:  96.44%; precision:  76.79%; recall:  70.94%; FB1:  73.75\n",
      "              ANG: precision: 100.00%; recall:  33.33%; FB1:  50.00  1\n",
      "              DUC: precision:   0.00%; recall:   0.00%; FB1:   0.00  0\n",
      "              EVE: precision: 100.00%; recall:   8.33%; FB1:  15.38  1\n",
      "              FAC: precision:   0.00%; recall:   0.00%; FB1:   0.00  2\n",
      "              GPE: precision:  85.34%; recall:  81.82%; FB1:  83.54  116\n",
      "              LOC: precision:  58.06%; recall:  64.29%; FB1:  61.02  31\n",
      "              ORG: precision:  67.03%; recall:  51.26%; FB1:  58.10  91\n",
      "              PER: precision:  79.82%; recall:  90.16%; FB1:  84.67  218\n",
      "              WOA: precision:   0.00%; recall:   0.00%; FB1:   0.00  1\n",
      "Train on 4482 samples, validate on 455 samples\n",
      "Epoch 1/100\n",
      " - 57s - loss: 0.2272 - crf_accuracy: 0.9544 - val_loss: 0.0961 - val_crf_accuracy: 0.9770\n",
      "Epoch 2/100\n",
      " - 49s - loss: 0.0507 - crf_accuracy: 0.9867 - val_loss: 0.0670 - val_crf_accuracy: 0.9819\n",
      "Epoch 3/100\n",
      " - 49s - loss: 0.0282 - crf_accuracy: 0.9911 - val_loss: 0.0460 - val_crf_accuracy: 0.9854\n",
      "Epoch 4/100\n",
      " - 50s - loss: 0.0159 - crf_accuracy: 0.9935 - val_loss: 0.0372 - val_crf_accuracy: 0.9862\n",
      "Epoch 5/100\n",
      " - 52s - loss: 0.0070 - crf_accuracy: 0.9955 - val_loss: 0.0338 - val_crf_accuracy: 0.9873\n",
      "Epoch 6/100\n",
      " - 54s - loss: -4.2056e-06 - crf_accuracy: 0.9971 - val_loss: 0.0319 - val_crf_accuracy: 0.9873\n",
      "Epoch 7/100\n",
      " - 49s - loss: -5.2819e-03 - crf_accuracy: 0.9982 - val_loss: 0.0341 - val_crf_accuracy: 0.9864\n",
      "Epoch 8/100\n",
      " - 48s - loss: -9.5738e-03 - crf_accuracy: 0.9990 - val_loss: 0.0352 - val_crf_accuracy: 0.9864\n",
      "Epoch 9/100\n",
      " - 51s - loss: -1.2790e-02 - crf_accuracy: 0.9994 - val_loss: 0.0357 - val_crf_accuracy: 0.9875\n",
      "Epoch 10/100\n",
      " - 54s - loss: -1.5492e-02 - crf_accuracy: 0.9996 - val_loss: 0.0425 - val_crf_accuracy: 0.9874\n",
      "Epoch 11/100\n",
      " - 51s - loss: -1.7879e-02 - crf_accuracy: 0.9998 - val_loss: 0.0453 - val_crf_accuracy: 0.9860\n",
      "Epoch 12/100\n",
      " - 51s - loss: -1.9874e-02 - crf_accuracy: 0.9998 - val_loss: 0.0434 - val_crf_accuracy: 0.9873\n",
      "Epoch 13/100\n",
      " - 54s - loss: -2.1873e-02 - crf_accuracy: 0.9999 - val_loss: 0.0442 - val_crf_accuracy: 0.9873\n",
      "Epoch 14/100\n",
      " - 56s - loss: -2.3738e-02 - crf_accuracy: 0.9999 - val_loss: 0.0496 - val_crf_accuracy: 0.9857\n",
      "Epoch 15/100\n",
      " - 51s - loss: -2.5509e-02 - crf_accuracy: 1.0000 - val_loss: 0.0500 - val_crf_accuracy: 0.9873\n",
      "Epoch 16/100\n",
      " - 54s - loss: -2.7378e-02 - crf_accuracy: 1.0000 - val_loss: 0.0579 - val_crf_accuracy: 0.9864\n",
      "Epoch 17/100\n",
      " - 55s - loss: -2.9166e-02 - crf_accuracy: 1.0000 - val_loss: 0.0560 - val_crf_accuracy: 0.9866\n",
      "Epoch 18/100\n",
      " - 52s - loss: -3.0943e-02 - crf_accuracy: 1.0000 - val_loss: 0.0585 - val_crf_accuracy: 0.9870\n",
      "Epoch 19/100\n",
      " - 51s - loss: -3.2741e-02 - crf_accuracy: 1.0000 - val_loss: 0.0569 - val_crf_accuracy: 0.9867\n",
      "Epoch 20/100\n",
      " - 55s - loss: -3.4460e-02 - crf_accuracy: 1.0000 - val_loss: 0.0585 - val_crf_accuracy: 0.9867\n",
      "Epoch 21/100\n",
      " - 51s - loss: -3.6276e-02 - crf_accuracy: 1.0000 - val_loss: 0.0659 - val_crf_accuracy: 0.9872\n",
      "Epoch 22/100\n",
      " - 49s - loss: -3.8034e-02 - crf_accuracy: 1.0000 - val_loss: 0.0634 - val_crf_accuracy: 0.9872\n",
      "Epoch 23/100\n",
      " - 51s - loss: -3.9801e-02 - crf_accuracy: 1.0000 - val_loss: 0.0702 - val_crf_accuracy: 0.9868\n",
      "Epoch 24/100\n",
      " - 49s - loss: -4.1564e-02 - crf_accuracy: 1.0000 - val_loss: 0.0739 - val_crf_accuracy: 0.9867\n",
      "Epoch 25/100\n",
      " - 51s - loss: -4.3321e-02 - crf_accuracy: 1.0000 - val_loss: 0.0710 - val_crf_accuracy: 0.9869\n",
      "Epoch 26/100\n",
      " - 48s - loss: -4.5073e-02 - crf_accuracy: 1.0000 - val_loss: 0.0684 - val_crf_accuracy: 0.9869\n",
      "Epoch 27/100\n",
      " - 50s - loss: -4.6824e-02 - crf_accuracy: 1.0000 - val_loss: 0.0717 - val_crf_accuracy: 0.9864\n",
      "Epoch 28/100\n",
      " - 50s - loss: -4.8577e-02 - crf_accuracy: 1.0000 - val_loss: 0.0732 - val_crf_accuracy: 0.9867\n",
      "Epoch 29/100\n",
      " - 49s - loss: -5.0352e-02 - crf_accuracy: 1.0000 - val_loss: 0.0621 - val_crf_accuracy: 0.9873\n",
      "Restoring model weights from the end of the best epoch\n",
      "Epoch 00029: early stopping\n"
     ]
    },
    {
     "data": {
      "image/png": "[encoded data removed]",
      "text/plain": [
       "<Figure size 432x288 with 1 Axes>"
      ]
     },
     "metadata": {},
     "output_type": "display_data"
    },
    {
     "name": "stdout",
     "output_type": "stream",
     "text": [
      "processed 8531 tokens with 499 phrases; found: 476 phrases; correct: 351.\n",
      "accuracy:  68.43%; (non-O)\n",
      "accuracy:  96.30%; precision:  73.74%; recall:  70.34%; FB1:  72.00\n",
      "              ANG: precision: 100.00%; recall:  33.33%; FB1:  50.00  1\n",
      "              DUC: precision:   0.00%; recall:   0.00%; FB1:   0.00  1\n",
      "              EVE: precision: 100.00%; recall:   8.33%; FB1:  15.38  1\n",
      "              FAC: precision:  16.67%; recall:   8.33%; FB1:  11.11  6\n",
      "              GPE: precision:  81.20%; recall:  78.51%; FB1:  79.83  117\n",
      "              LOC: precision:  61.29%; recall:  67.86%; FB1:  64.41  31\n",
      "              ORG: precision:  54.69%; recall:  58.82%; FB1:  56.68  128\n",
      "              PER: precision:  88.17%; recall:  84.97%; FB1:  86.54  186\n",
      "              WOA: precision:   0.00%; recall:   0.00%; FB1:   0.00  5\n",
      "Train on 4482 samples, validate on 455 samples\n",
      "Epoch 1/100\n",
      " - 66s - loss: 0.3019 - crf_accuracy: 0.9378 - val_loss: 0.1874 - val_crf_accuracy: 0.9683\n",
      "Epoch 2/100\n",
      " - 57s - loss: 0.1175 - crf_accuracy: 0.9758 - val_loss: 0.1395 - val_crf_accuracy: 0.9688\n",
      "Epoch 3/100\n",
      " - 58s - loss: 0.0846 - crf_accuracy: 0.9783 - val_loss: 0.1153 - val_crf_accuracy: 0.9707\n",
      "Epoch 4/100\n",
      " - 59s - loss: 0.0633 - crf_accuracy: 0.9816 - val_loss: 0.1077 - val_crf_accuracy: 0.9723\n",
      "Epoch 5/100\n",
      " - 59s - loss: 0.0485 - crf_accuracy: 0.9846 - val_loss: 0.0997 - val_crf_accuracy: 0.9742\n",
      "Epoch 6/100\n",
      " - 57s - loss: 0.0368 - crf_accuracy: 0.9870 - val_loss: 0.0858 - val_crf_accuracy: 0.9760\n",
      "Epoch 7/100\n",
      " - 56s - loss: 0.0271 - crf_accuracy: 0.9892 - val_loss: 0.0851 - val_crf_accuracy: 0.9717\n",
      "Epoch 8/100\n",
      " - 59s - loss: 0.0190 - crf_accuracy: 0.9909 - val_loss: 0.0731 - val_crf_accuracy: 0.9758\n",
      "Epoch 9/100\n",
      " - 55s - loss: 0.0121 - crf_accuracy: 0.9922 - val_loss: 0.0719 - val_crf_accuracy: 0.9765\n",
      "Epoch 10/100\n",
      " - 63s - loss: 0.0061 - crf_accuracy: 0.9932 - val_loss: 0.0776 - val_crf_accuracy: 0.9749\n",
      "Epoch 11/100\n",
      " - 55s - loss: 8.2934e-04 - crf_accuracy: 0.9941 - val_loss: 0.0676 - val_crf_accuracy: 0.9772\n",
      "Epoch 12/100\n",
      " - 55s - loss: -3.8771e-03 - crf_accuracy: 0.9950 - val_loss: 0.0689 - val_crf_accuracy: 0.9770\n",
      "Epoch 13/100\n",
      " - 61s - loss: -7.7701e-03 - crf_accuracy: 0.9958 - val_loss: 0.0667 - val_crf_accuracy: 0.9751\n",
      "Epoch 14/100\n",
      " - 58s - loss: -1.1580e-02 - crf_accuracy: 0.9964 - val_loss: 0.0681 - val_crf_accuracy: 0.9761\n",
      "Epoch 15/100\n",
      " - 55s - loss: -1.4980e-02 - crf_accuracy: 0.9970 - val_loss: 0.0715 - val_crf_accuracy: 0.9769\n",
      "Epoch 16/100\n",
      " - 52s - loss: -1.7872e-02 - crf_accuracy: 0.9974 - val_loss: 0.0706 - val_crf_accuracy: 0.9757\n",
      "Epoch 17/100\n",
      " - 53s - loss: -2.0600e-02 - crf_accuracy: 0.9977 - val_loss: 0.0737 - val_crf_accuracy: 0.9765\n",
      "Epoch 18/100\n",
      " - 54s - loss: -2.3380e-02 - crf_accuracy: 0.9982 - val_loss: 0.0759 - val_crf_accuracy: 0.9767\n",
      "Epoch 19/100\n",
      " - 57s - loss: -2.5996e-02 - crf_accuracy: 0.9984 - val_loss: 0.0784 - val_crf_accuracy: 0.9745\n",
      "Epoch 20/100\n",
      " - 54s - loss: -2.8169e-02 - crf_accuracy: 0.9985 - val_loss: 0.0809 - val_crf_accuracy: 0.9690\n",
      "Epoch 21/100\n",
      " - 55s - loss: -3.0416e-02 - crf_accuracy: 0.9987 - val_loss: 0.0803 - val_crf_accuracy: 0.9733\n",
      "Epoch 22/100\n",
      " - 60s - loss: -3.2587e-02 - crf_accuracy: 0.9988 - val_loss: 0.0795 - val_crf_accuracy: 0.9734\n",
      "Epoch 23/100\n",
      " - 60s - loss: -3.4912e-02 - crf_accuracy: 0.9991 - val_loss: 0.0888 - val_crf_accuracy: 0.9718\n",
      "Epoch 24/100\n",
      " - 59s - loss: -3.6884e-02 - crf_accuracy: 0.9992 - val_loss: 0.0852 - val_crf_accuracy: 0.9703\n",
      "Epoch 25/100\n",
      " - 56s - loss: -3.8900e-02 - crf_accuracy: 0.9992 - val_loss: 0.0906 - val_crf_accuracy: 0.9721\n",
      "Epoch 26/100\n",
      " - 56s - loss: -4.0222e-02 - crf_accuracy: 0.9992 - val_loss: 0.0844 - val_crf_accuracy: 0.9748\n",
      "Epoch 27/100\n",
      " - 53s - loss: -4.2821e-02 - crf_accuracy: 0.9993 - val_loss: 0.0855 - val_crf_accuracy: 0.9707\n",
      "Epoch 28/100\n",
      " - 56s - loss: -4.4841e-02 - crf_accuracy: 0.9994 - val_loss: 0.0892 - val_crf_accuracy: 0.9725\n",
      "Epoch 29/100\n",
      " - 59s - loss: -4.6728e-02 - crf_accuracy: 0.9996 - val_loss: 0.0962 - val_crf_accuracy: 0.9696\n",
      "Epoch 30/100\n",
      " - 58s - loss: -4.8787e-02 - crf_accuracy: 0.9997 - val_loss: 0.0928 - val_crf_accuracy: 0.9687\n",
      "Epoch 31/100\n",
      " - 58s - loss: -5.0486e-02 - crf_accuracy: 0.9996 - val_loss: 0.0882 - val_crf_accuracy: 0.9727\n",
      "Restoring model weights from the end of the best epoch\n",
      "Epoch 00031: early stopping\n"
     ]
    },
    {
     "data": {
      "image/png": "[encoded data removed]",
      "text/plain": [
       "<Figure size 432x288 with 1 Axes>"
      ]
     },
     "metadata": {},
     "output_type": "display_data"
    },
    {
     "name": "stdout",
     "output_type": "stream",
     "text": [
      "processed 8531 tokens with 499 phrases; found: 452 phrases; correct: 201.\n",
      "accuracy:  38.07%; (non-O)\n",
      "accuracy:  92.18%; precision:  44.47%; recall:  40.28%; FB1:  42.27\n",
      "              ANG: precision:   0.00%; recall:   0.00%; FB1:   0.00  0\n",
      "              DUC: precision:   0.00%; recall:   0.00%; FB1:   0.00  0\n",
      "              EVE: precision:   0.00%; recall:   0.00%; FB1:   0.00  0\n",
      "              FAC: precision:   0.00%; recall:   0.00%; FB1:   0.00  5\n",
      "              GPE: precision:  55.83%; recall:  55.37%; FB1:  55.60  120\n",
      "              LOC: precision:  33.33%; recall:  28.57%; FB1:  30.77  24\n",
      "              ORG: precision:  40.48%; recall:  28.57%; FB1:  33.50  84\n",
      "              PER: precision:  43.96%; recall:  47.15%; FB1:  45.50  207\n",
      "              WOA: precision:   8.33%; recall:  11.11%; FB1:   9.52  12\n",
      "Train on 4482 samples, validate on 455 samples\n",
      "Epoch 1/100\n",
      " - 63s - loss: 0.3008 - crf_accuracy: 0.9383 - val_loss: 0.1692 - val_crf_accuracy: 0.9683\n",
      "Epoch 2/100\n",
      " - 59s - loss: 0.0938 - crf_accuracy: 0.9773 - val_loss: 0.1027 - val_crf_accuracy: 0.9750\n",
      "Epoch 3/100\n",
      " - 57s - loss: 0.0621 - crf_accuracy: 0.9834 - val_loss: 0.0793 - val_crf_accuracy: 0.9782\n",
      "Epoch 4/100\n",
      " - 54s - loss: 0.0441 - crf_accuracy: 0.9863 - val_loss: 0.0808 - val_crf_accuracy: 0.9752\n",
      "Epoch 5/100\n",
      " - 56s - loss: 0.0324 - crf_accuracy: 0.9882 - val_loss: 0.0590 - val_crf_accuracy: 0.9805\n",
      "Epoch 6/100\n",
      " - 58s - loss: 0.0236 - crf_accuracy: 0.9897 - val_loss: 0.0558 - val_crf_accuracy: 0.9800\n",
      "Epoch 7/100\n",
      " - 58s - loss: 0.0163 - crf_accuracy: 0.9911 - val_loss: 0.0506 - val_crf_accuracy: 0.9819\n",
      "Epoch 8/100\n",
      " - 56s - loss: 0.0100 - crf_accuracy: 0.9924 - val_loss: 0.0502 - val_crf_accuracy: 0.9808\n",
      "Epoch 9/100\n",
      " - 57s - loss: 0.0041 - crf_accuracy: 0.9934 - val_loss: 0.0465 - val_crf_accuracy: 0.9805\n",
      "Epoch 10/100\n",
      " - 56s - loss: -7.9624e-04 - crf_accuracy: 0.9943 - val_loss: 0.0422 - val_crf_accuracy: 0.9807\n",
      "Epoch 11/100\n",
      " - 60s - loss: -4.9399e-03 - crf_accuracy: 0.9951 - val_loss: 0.0413 - val_crf_accuracy: 0.9815\n",
      "Epoch 12/100\n",
      " - 63s - loss: -9.0218e-03 - crf_accuracy: 0.9957 - val_loss: 0.0406 - val_crf_accuracy: 0.9810\n",
      "Epoch 13/100\n",
      " - 62s - loss: -1.2408e-02 - crf_accuracy: 0.9963 - val_loss: 0.0449 - val_crf_accuracy: 0.9777\n",
      "Epoch 14/100\n",
      " - 62s - loss: -1.5793e-02 - crf_accuracy: 0.9969 - val_loss: 0.0354 - val_crf_accuracy: 0.9821\n",
      "Epoch 15/100\n",
      " - 61s - loss: -1.8857e-02 - crf_accuracy: 0.9973 - val_loss: 0.0383 - val_crf_accuracy: 0.9805\n",
      "Epoch 16/100\n",
      " - 61s - loss: -2.1882e-02 - crf_accuracy: 0.9978 - val_loss: 0.0380 - val_crf_accuracy: 0.9815\n",
      "Epoch 17/100\n",
      " - 62s - loss: -2.4400e-02 - crf_accuracy: 0.9979 - val_loss: 0.0356 - val_crf_accuracy: 0.9806\n",
      "Epoch 18/100\n",
      " - 61s - loss: -2.6953e-02 - crf_accuracy: 0.9983 - val_loss: 0.0318 - val_crf_accuracy: 0.9818\n",
      "Epoch 19/100\n",
      " - 60s - loss: -2.9427e-02 - crf_accuracy: 0.9986 - val_loss: 0.0399 - val_crf_accuracy: 0.9823\n",
      "Epoch 20/100\n",
      " - 61s - loss: -3.1831e-02 - crf_accuracy: 0.9987 - val_loss: 0.0380 - val_crf_accuracy: 0.9793\n",
      "Epoch 21/100\n",
      " - 58s - loss: -3.4013e-02 - crf_accuracy: 0.9989 - val_loss: 0.0378 - val_crf_accuracy: 0.9821\n",
      "Epoch 22/100\n",
      " - 58s - loss: -3.6185e-02 - crf_accuracy: 0.9991 - val_loss: 0.0351 - val_crf_accuracy: 0.9802\n",
      "Epoch 23/100\n",
      " - 58s - loss: -3.8274e-02 - crf_accuracy: 0.9992 - val_loss: 0.0304 - val_crf_accuracy: 0.9805\n",
      "Epoch 24/100\n",
      " - 61s - loss: -4.0354e-02 - crf_accuracy: 0.9994 - val_loss: 0.0379 - val_crf_accuracy: 0.9811\n",
      "Epoch 25/100\n",
      " - 57s - loss: -4.2331e-02 - crf_accuracy: 0.9993 - val_loss: 0.0383 - val_crf_accuracy: 0.9793\n",
      "Epoch 26/100\n",
      " - 62s - loss: -4.4347e-02 - crf_accuracy: 0.9995 - val_loss: 0.0350 - val_crf_accuracy: 0.9789\n",
      "Epoch 27/100\n",
      " - 60s - loss: -4.6294e-02 - crf_accuracy: 0.9995 - val_loss: 0.0345 - val_crf_accuracy: 0.9803\n",
      "Epoch 28/100\n",
      " - 56s - loss: -4.8158e-02 - crf_accuracy: 0.9996 - val_loss: 0.0363 - val_crf_accuracy: 0.9811\n",
      "Epoch 29/100\n",
      " - 62s - loss: -5.0088e-02 - crf_accuracy: 0.9997 - val_loss: 0.0347 - val_crf_accuracy: 0.9806\n",
      "Epoch 30/100\n",
      " - 57s - loss: -5.1939e-02 - crf_accuracy: 0.9997 - val_loss: 0.0413 - val_crf_accuracy: 0.9770\n",
      "Epoch 31/100\n",
      " - 63s - loss: -5.3909e-02 - crf_accuracy: 0.9998 - val_loss: 0.0358 - val_crf_accuracy: 0.9811\n",
      "Epoch 32/100\n",
      " - 62s - loss: -5.5717e-02 - crf_accuracy: 0.9998 - val_loss: 0.0370 - val_crf_accuracy: 0.9814\n",
      "Epoch 33/100\n",
      " - 56s - loss: -5.7548e-02 - crf_accuracy: 0.9998 - val_loss: 0.0336 - val_crf_accuracy: 0.9806\n",
      "Epoch 34/100\n",
      " - 56s - loss: -5.9355e-02 - crf_accuracy: 0.9998 - val_loss: 0.0421 - val_crf_accuracy: 0.9812\n",
      "Epoch 35/100\n",
      " - 56s - loss: -6.1192e-02 - crf_accuracy: 0.9999 - val_loss: 0.0323 - val_crf_accuracy: 0.9804\n",
      "Epoch 36/100\n",
      " - 58s - loss: -6.3019e-02 - crf_accuracy: 0.9999 - val_loss: 0.0404 - val_crf_accuracy: 0.9791\n",
      "Epoch 37/100\n",
      " - 51s - loss: -6.4756e-02 - crf_accuracy: 0.9998 - val_loss: 0.0338 - val_crf_accuracy: 0.9805\n",
      "Epoch 38/100\n",
      " - 52s - loss: -6.6546e-02 - crf_accuracy: 0.9999 - val_loss: 0.0341 - val_crf_accuracy: 0.9790\n",
      "Epoch 39/100\n",
      " - 58s - loss: -6.8399e-02 - crf_accuracy: 0.9999 - val_loss: 0.0408 - val_crf_accuracy: 0.9772\n",
      "Restoring model weights from the end of the best epoch\n",
      "Epoch 00039: early stopping\n"
     ]
    },
    {
     "data": {
      "image/png": "[encoded data removed]",
      "text/plain": [
       "<Figure size 432x288 with 1 Axes>"
      ]
     },
     "metadata": {},
     "output_type": "display_data"
    },
    {
     "name": "stdout",
     "output_type": "stream",
     "text": [
      "processed 8531 tokens with 499 phrases; found: 506 phrases; correct: 277.\n",
      "accuracy:  51.08%; (non-O)\n",
      "accuracy:  94.15%; precision:  54.74%; recall:  55.51%; FB1:  55.12\n",
      "              ANG: precision:   0.00%; recall:   0.00%; FB1:   0.00  4\n",
      "              DUC: precision:   0.00%; recall:   0.00%; FB1:   0.00  5\n",
      "              EVE: precision:   0.00%; recall:   0.00%; FB1:   0.00  9\n",
      "              FAC: precision:   3.33%; recall:   8.33%; FB1:   4.76  30\n",
      "              GPE: precision:  63.79%; recall:  61.16%; FB1:  62.45  116\n",
      "              LOC: precision:  29.27%; recall:  42.86%; FB1:  34.78  41\n",
      "              ORG: precision:  56.34%; recall:  33.61%; FB1:  42.11  71\n",
      "              PER: precision:  66.52%; recall:  76.17%; FB1:  71.01  221\n",
      "              WOA: precision:  33.33%; recall:  33.33%; FB1:  33.33  9\n",
      "Train on 4482 samples, validate on 455 samples\n",
      "Epoch 1/100\n",
      " - 59s - loss: 0.2310 - crf_accuracy: 0.9594 - val_loss: 0.1086 - val_crf_accuracy: 0.9739\n",
      "Epoch 2/100\n",
      " - 52s - loss: 0.0678 - crf_accuracy: 0.9838 - val_loss: 0.0807 - val_crf_accuracy: 0.9791\n",
      "Epoch 3/100\n",
      " - 51s - loss: 0.0450 - crf_accuracy: 0.9877 - val_loss: 0.0687 - val_crf_accuracy: 0.9812\n",
      "Epoch 4/100\n",
      " - 51s - loss: 0.0318 - crf_accuracy: 0.9900 - val_loss: 0.0495 - val_crf_accuracy: 0.9840\n",
      "Epoch 5/100\n",
      " - 51s - loss: 0.0216 - crf_accuracy: 0.9920 - val_loss: 0.0523 - val_crf_accuracy: 0.9834\n",
      "Epoch 6/100\n",
      " - 51s - loss: 0.0146 - crf_accuracy: 0.9933 - val_loss: 0.0389 - val_crf_accuracy: 0.9858\n",
      "Epoch 7/100\n",
      " - 51s - loss: 0.0083 - crf_accuracy: 0.9945 - val_loss: 0.0397 - val_crf_accuracy: 0.9843\n",
      "Epoch 8/100\n",
      " - 51s - loss: 0.0034 - crf_accuracy: 0.9955 - val_loss: 0.0334 - val_crf_accuracy: 0.9862\n",
      "Epoch 9/100\n",
      " - 51s - loss: -1.2916e-03 - crf_accuracy: 0.9964 - val_loss: 0.0334 - val_crf_accuracy: 0.9864\n",
      "Epoch 10/100\n",
      " - 51s - loss: -5.1545e-03 - crf_accuracy: 0.9972 - val_loss: 0.0283 - val_crf_accuracy: 0.9862\n",
      "Epoch 11/100\n",
      " - 51s - loss: -8.8325e-03 - crf_accuracy: 0.9977 - val_loss: 0.0274 - val_crf_accuracy: 0.9870\n",
      "Epoch 12/100\n",
      " - 51s - loss: -1.2053e-02 - crf_accuracy: 0.9984 - val_loss: 0.0289 - val_crf_accuracy: 0.9857\n",
      "Epoch 13/100\n",
      " - 51s - loss: -1.5038e-02 - crf_accuracy: 0.9987 - val_loss: 0.0261 - val_crf_accuracy: 0.9865\n",
      "Epoch 14/100\n",
      " - 51s - loss: -1.7542e-02 - crf_accuracy: 0.9989 - val_loss: 0.0258 - val_crf_accuracy: 0.9867\n",
      "Epoch 15/100\n",
      " - 51s - loss: -1.9950e-02 - crf_accuracy: 0.9992 - val_loss: 0.0300 - val_crf_accuracy: 0.9865\n",
      "Epoch 16/100\n",
      " - 51s - loss: -2.1941e-02 - crf_accuracy: 0.9992 - val_loss: 0.0243 - val_crf_accuracy: 0.9868\n",
      "Epoch 17/100\n",
      " - 51s - loss: -2.3856e-02 - crf_accuracy: 0.9993 - val_loss: 0.0244 - val_crf_accuracy: 0.9863\n",
      "Epoch 18/100\n",
      " - 52s - loss: -2.6455e-02 - crf_accuracy: 0.9996 - val_loss: 0.0231 - val_crf_accuracy: 0.9863\n",
      "Epoch 19/100\n",
      " - 52s - loss: -2.8346e-02 - crf_accuracy: 0.9996 - val_loss: 0.0273 - val_crf_accuracy: 0.9861\n",
      "Epoch 20/100\n",
      " - 51s - loss: -3.0100e-02 - crf_accuracy: 0.9996 - val_loss: 0.0272 - val_crf_accuracy: 0.9865\n",
      "Epoch 21/100\n",
      " - 51s - loss: -3.2213e-02 - crf_accuracy: 0.9998 - val_loss: 0.0263 - val_crf_accuracy: 0.9868\n",
      "Epoch 22/100\n",
      " - 51s - loss: -3.3959e-02 - crf_accuracy: 0.9998 - val_loss: 0.0294 - val_crf_accuracy: 0.9860\n",
      "Epoch 23/100\n",
      " - 52s - loss: -3.5882e-02 - crf_accuracy: 0.9998 - val_loss: 0.0247 - val_crf_accuracy: 0.9865\n",
      "Epoch 24/100\n",
      " - 51s - loss: -3.7683e-02 - crf_accuracy: 0.9998 - val_loss: 0.0222 - val_crf_accuracy: 0.9866\n",
      "Epoch 25/100\n",
      " - 51s - loss: -3.9512e-02 - crf_accuracy: 0.9998 - val_loss: 0.0219 - val_crf_accuracy: 0.9861\n",
      "Epoch 26/100\n",
      " - 53s - loss: -4.1329e-02 - crf_accuracy: 0.9998 - val_loss: 0.0228 - val_crf_accuracy: 0.9863\n",
      "Epoch 27/100\n",
      " - 53s - loss: -4.3235e-02 - crf_accuracy: 0.9999 - val_loss: 0.0230 - val_crf_accuracy: 0.9867\n",
      "Epoch 28/100\n",
      " - 51s - loss: -4.5081e-02 - crf_accuracy: 0.9999 - val_loss: 0.0239 - val_crf_accuracy: 0.9863\n",
      "Epoch 29/100\n",
      " - 51s - loss: -4.6813e-02 - crf_accuracy: 0.9999 - val_loss: 0.0214 - val_crf_accuracy: 0.9868\n",
      "Epoch 30/100\n",
      " - 52s - loss: -4.8530e-02 - crf_accuracy: 0.9999 - val_loss: 0.0197 - val_crf_accuracy: 0.9865\n",
      "Epoch 31/100\n",
      " - 52s - loss: -5.0292e-02 - crf_accuracy: 0.9999 - val_loss: 0.0247 - val_crf_accuracy: 0.9867\n",
      "Restoring model weights from the end of the best epoch\n",
      "Epoch 00031: early stopping\n"
     ]
    },
    {
     "data": {
      "image/png": "[encoded data removed]",
      "text/plain": [
       "<Figure size 432x288 with 1 Axes>"
      ]
     },
     "metadata": {},
     "output_type": "display_data"
    },
    {
     "name": "stdout",
     "output_type": "stream",
     "text": [
      "processed 8531 tokens with 499 phrases; found: 469 phrases; correct: 343.\n",
      "accuracy:  66.51%; (non-O)\n",
      "accuracy:  95.94%; precision:  73.13%; recall:  68.74%; FB1:  70.87\n",
      "              ANG: precision: 100.00%; recall:  33.33%; FB1:  50.00  1\n",
      "              DUC: precision:   0.00%; recall:   0.00%; FB1:   0.00  0\n",
      "              EVE: precision: 100.00%; recall:   8.33%; FB1:  15.38  1\n",
      "              FAC: precision:   0.00%; recall:   0.00%; FB1:   0.00  2\n",
      "              GPE: precision:  78.69%; recall:  79.34%; FB1:  79.01  122\n",
      "              LOC: precision:  53.12%; recall:  60.71%; FB1:  56.67  32\n",
      "              ORG: precision:  68.48%; recall:  52.94%; FB1:  59.72  92\n",
      "              PER: precision:  76.74%; recall:  85.49%; FB1:  80.88  215\n",
      "              WOA: precision:   0.00%; recall:   0.00%; FB1:   0.00  4\n",
      "Train on 4482 samples, validate on 455 samples\n",
      "Epoch 1/100\n",
      " - 59s - loss: 0.2369 - crf_accuracy: 0.9526 - val_loss: 0.1071 - val_crf_accuracy: 0.9736\n",
      "Epoch 2/100\n",
      " - 51s - loss: 0.0653 - crf_accuracy: 0.9831 - val_loss: 0.0769 - val_crf_accuracy: 0.9786\n",
      "Epoch 3/100\n",
      " - 51s - loss: 0.0405 - crf_accuracy: 0.9878 - val_loss: 0.0598 - val_crf_accuracy: 0.9813\n",
      "Epoch 4/100\n",
      " - 51s - loss: 0.0274 - crf_accuracy: 0.9901 - val_loss: 0.0491 - val_crf_accuracy: 0.9841\n",
      "Epoch 5/100\n",
      " - 52s - loss: 0.0182 - crf_accuracy: 0.9920 - val_loss: 0.0400 - val_crf_accuracy: 0.9850\n",
      "Epoch 6/100\n",
      " - 51s - loss: 0.0109 - crf_accuracy: 0.9934 - val_loss: 0.0398 - val_crf_accuracy: 0.9841\n",
      "Epoch 7/100\n",
      " - 54s - loss: 0.0044 - crf_accuracy: 0.9947 - val_loss: 0.0329 - val_crf_accuracy: 0.9851\n",
      "Epoch 8/100\n",
      " - 53s - loss: -4.7265e-04 - crf_accuracy: 0.9957 - val_loss: 0.0288 - val_crf_accuracy: 0.9868\n",
      "Epoch 9/100\n",
      " - 54s - loss: -5.0927e-03 - crf_accuracy: 0.9968 - val_loss: 0.0276 - val_crf_accuracy: 0.9864\n",
      "Epoch 10/100\n",
      " - 53s - loss: -9.0207e-03 - crf_accuracy: 0.9973 - val_loss: 0.0348 - val_crf_accuracy: 0.9842\n",
      "Epoch 11/100\n",
      " - 51s - loss: -1.2327e-02 - crf_accuracy: 0.9977 - val_loss: 0.0298 - val_crf_accuracy: 0.9850\n",
      "Epoch 12/100\n",
      " - 51s - loss: -1.5525e-02 - crf_accuracy: 0.9983 - val_loss: 0.0271 - val_crf_accuracy: 0.9867\n",
      "Epoch 13/100\n",
      " - 55s - loss: -1.8222e-02 - crf_accuracy: 0.9986 - val_loss: 0.0271 - val_crf_accuracy: 0.9865\n",
      "Epoch 14/100\n",
      " - 51s - loss: -2.0978e-02 - crf_accuracy: 0.9990 - val_loss: 0.0279 - val_crf_accuracy: 0.9854\n",
      "Epoch 15/100\n",
      " - 51s - loss: -2.3179e-02 - crf_accuracy: 0.9991 - val_loss: 0.0280 - val_crf_accuracy: 0.9858\n",
      "Epoch 16/100\n",
      " - 51s - loss: -2.5462e-02 - crf_accuracy: 0.9993 - val_loss: 0.0264 - val_crf_accuracy: 0.9876\n",
      "Epoch 17/100\n",
      " - 55s - loss: -2.7835e-02 - crf_accuracy: 0.9995 - val_loss: 0.0311 - val_crf_accuracy: 0.9865\n",
      "Epoch 18/100\n",
      " - 51s - loss: -2.9629e-02 - crf_accuracy: 0.9995 - val_loss: 0.0228 - val_crf_accuracy: 0.9865\n",
      "Epoch 19/100\n",
      " - 55s - loss: -3.1737e-02 - crf_accuracy: 0.9997 - val_loss: 0.0233 - val_crf_accuracy: 0.9875\n",
      "Epoch 20/100\n",
      " - 53s - loss: -3.3635e-02 - crf_accuracy: 0.9997 - val_loss: 0.0228 - val_crf_accuracy: 0.9873\n",
      "Epoch 21/100\n",
      " - 57s - loss: -3.5621e-02 - crf_accuracy: 0.9998 - val_loss: 0.0244 - val_crf_accuracy: 0.9867\n",
      "Epoch 22/100\n",
      " - 53s - loss: -3.7464e-02 - crf_accuracy: 0.9998 - val_loss: 0.0243 - val_crf_accuracy: 0.9866\n",
      "Epoch 23/100\n",
      " - 52s - loss: -3.9297e-02 - crf_accuracy: 0.9998 - val_loss: 0.0284 - val_crf_accuracy: 0.9865\n",
      "Epoch 24/100\n",
      " - 51s - loss: -4.1132e-02 - crf_accuracy: 0.9998 - val_loss: 0.0239 - val_crf_accuracy: 0.9870\n",
      "Epoch 25/100\n",
      " - 52s - loss: -4.2950e-02 - crf_accuracy: 0.9998 - val_loss: 0.0276 - val_crf_accuracy: 0.9861\n",
      "Epoch 26/100\n",
      " - 52s - loss: -4.4833e-02 - crf_accuracy: 0.9999 - val_loss: 0.0284 - val_crf_accuracy: 0.9860\n",
      "Epoch 27/100\n",
      " - 53s - loss: -4.6572e-02 - crf_accuracy: 0.9999 - val_loss: 0.0255 - val_crf_accuracy: 0.9866\n",
      "Epoch 28/100\n",
      " - 53s - loss: -4.8332e-02 - crf_accuracy: 0.9999 - val_loss: 0.0182 - val_crf_accuracy: 0.9871\n",
      "Epoch 29/100\n",
      " - 51s - loss: -5.0093e-02 - crf_accuracy: 0.9999 - val_loss: 0.0188 - val_crf_accuracy: 0.9870\n",
      "Epoch 30/100\n",
      " - 51s - loss: -5.1918e-02 - crf_accuracy: 0.9999 - val_loss: 0.0176 - val_crf_accuracy: 0.9860\n",
      "Epoch 31/100\n",
      " - 52s - loss: -5.3705e-02 - crf_accuracy: 0.9999 - val_loss: 0.0189 - val_crf_accuracy: 0.9865\n",
      "Epoch 32/100\n",
      " - 53s - loss: -5.5463e-02 - crf_accuracy: 0.9999 - val_loss: 0.0257 - val_crf_accuracy: 0.9868\n",
      "Epoch 33/100\n",
      " - 51s - loss: -5.7227e-02 - crf_accuracy: 0.9999 - val_loss: 0.0213 - val_crf_accuracy: 0.9863\n",
      "Epoch 34/100\n",
      " - 51s - loss: -5.9060e-02 - crf_accuracy: 0.9999 - val_loss: 0.0213 - val_crf_accuracy: 0.9872\n",
      "Epoch 35/100\n",
      " - 51s - loss: -6.0806e-02 - crf_accuracy: 0.9999 - val_loss: 0.0194 - val_crf_accuracy: 0.9869\n",
      "Epoch 36/100\n",
      " - 52s - loss: -6.2515e-02 - crf_accuracy: 0.9999 - val_loss: 0.0129 - val_crf_accuracy: 0.9864\n",
      "Restoring model weights from the end of the best epoch\n",
      "Epoch 00036: early stopping\n"
     ]
    },
    {
     "data": {
      "image/png": "[encoded data removed]",
      "text/plain": [
       "<Figure size 432x288 with 1 Axes>"
      ]
     },
     "metadata": {},
     "output_type": "display_data"
    },
    {
     "name": "stdout",
     "output_type": "stream",
     "text": [
      "processed 8531 tokens with 499 phrases; found: 448 phrases; correct: 329.\n",
      "accuracy:  64.22%; (non-O)\n",
      "accuracy:  95.89%; precision:  73.44%; recall:  65.93%; FB1:  69.48\n",
      "              ANG: precision: 100.00%; recall:  33.33%; FB1:  50.00  1\n",
      "              DUC: precision:   0.00%; recall:   0.00%; FB1:   0.00  0\n",
      "              EVE: precision: 100.00%; recall:   8.33%; FB1:  15.38  1\n",
      "              FAC: precision:   0.00%; recall:   0.00%; FB1:   0.00  3\n",
      "              GPE: precision:  77.78%; recall:  75.21%; FB1:  76.47  117\n",
      "              LOC: precision:  60.71%; recall:  60.71%; FB1:  60.71  28\n",
      "              ORG: precision:  66.67%; recall:  50.42%; FB1:  57.42  90\n",
      "              PER: precision:  82.98%; recall:  80.83%; FB1:  81.89  188\n",
      "              WOA: precision:  15.00%; recall:  33.33%; FB1:  20.69  20\n",
      "Train on 4482 samples, validate on 455 samples\n",
      "Epoch 1/100\n",
      " - 60s - loss: 0.2303 - crf_accuracy: 0.9552 - val_loss: 0.0999 - val_crf_accuracy: 0.9748\n",
      "Epoch 2/100\n",
      " - 51s - loss: 0.0577 - crf_accuracy: 0.9854 - val_loss: 0.0791 - val_crf_accuracy: 0.9817\n",
      "Epoch 3/100\n",
      " - 51s - loss: 0.0353 - crf_accuracy: 0.9896 - val_loss: 0.0499 - val_crf_accuracy: 0.9843\n",
      "Epoch 4/100\n",
      " - 51s - loss: 0.0234 - crf_accuracy: 0.9917 - val_loss: 0.0372 - val_crf_accuracy: 0.9870\n",
      "Epoch 5/100\n",
      " - 51s - loss: 0.0148 - crf_accuracy: 0.9931 - val_loss: 0.0333 - val_crf_accuracy: 0.9867\n",
      "Epoch 6/100\n",
      " - 52s - loss: 0.0082 - crf_accuracy: 0.9944 - val_loss: 0.0271 - val_crf_accuracy: 0.9884\n",
      "Epoch 7/100\n",
      " - 51s - loss: 0.0027 - crf_accuracy: 0.9955 - val_loss: 0.0278 - val_crf_accuracy: 0.9868\n",
      "Epoch 8/100\n",
      " - 51s - loss: -2.1494e-03 - crf_accuracy: 0.9962 - val_loss: 0.0243 - val_crf_accuracy: 0.9871\n",
      "Epoch 9/100\n",
      " - 53s - loss: -6.4364e-03 - crf_accuracy: 0.9972 - val_loss: 0.0285 - val_crf_accuracy: 0.9868\n",
      "Epoch 10/100\n",
      " - 53s - loss: -1.0058e-02 - crf_accuracy: 0.9978 - val_loss: 0.0228 - val_crf_accuracy: 0.9880\n",
      "Epoch 11/100\n",
      " - 52s - loss: -1.3091e-02 - crf_accuracy: 0.9981 - val_loss: 0.0205 - val_crf_accuracy: 0.9887\n",
      "Epoch 12/100\n",
      " - 52s - loss: -1.5785e-02 - crf_accuracy: 0.9985 - val_loss: 0.0162 - val_crf_accuracy: 0.9892\n",
      "Epoch 13/100\n",
      " - 51s - loss: -1.8519e-02 - crf_accuracy: 0.9988 - val_loss: 0.0176 - val_crf_accuracy: 0.9890\n",
      "Epoch 14/100\n",
      " - 51s - loss: -2.1169e-02 - crf_accuracy: 0.9991 - val_loss: 0.0177 - val_crf_accuracy: 0.9871\n",
      "Epoch 15/100\n",
      " - 51s - loss: -2.3460e-02 - crf_accuracy: 0.9994 - val_loss: 0.0175 - val_crf_accuracy: 0.9879\n",
      "Epoch 16/100\n",
      " - 51s - loss: -2.5479e-02 - crf_accuracy: 0.9994 - val_loss: 0.0175 - val_crf_accuracy: 0.9884\n",
      "Epoch 17/100\n",
      " - 51s - loss: -2.7562e-02 - crf_accuracy: 0.9995 - val_loss: 0.0174 - val_crf_accuracy: 0.9889\n",
      "Epoch 18/100\n",
      " - 53s - loss: -2.9767e-02 - crf_accuracy: 0.9997 - val_loss: 0.0215 - val_crf_accuracy: 0.9888\n",
      "Epoch 19/100\n",
      " - 51s - loss: -3.1518e-02 - crf_accuracy: 0.9996 - val_loss: 0.0190 - val_crf_accuracy: 0.9882\n",
      "Epoch 20/100\n",
      " - 52s - loss: -3.3421e-02 - crf_accuracy: 0.9997 - val_loss: 0.0157 - val_crf_accuracy: 0.9882\n",
      "Epoch 21/100\n",
      " - 54s - loss: -3.5306e-02 - crf_accuracy: 0.9998 - val_loss: 0.0128 - val_crf_accuracy: 0.9883\n",
      "Epoch 22/100\n",
      " - 51s - loss: -3.7228e-02 - crf_accuracy: 0.9998 - val_loss: 0.0159 - val_crf_accuracy: 0.9883\n",
      "Epoch 23/100\n",
      " - 51s - loss: -3.9029e-02 - crf_accuracy: 0.9998 - val_loss: 0.0155 - val_crf_accuracy: 0.9887\n",
      "Epoch 24/100\n",
      " - 56s - loss: -4.0881e-02 - crf_accuracy: 0.9999 - val_loss: 0.0140 - val_crf_accuracy: 0.9888\n",
      "Epoch 25/100\n",
      " - 52s - loss: -4.2669e-02 - crf_accuracy: 0.9999 - val_loss: 0.0161 - val_crf_accuracy: 0.9892\n",
      "Epoch 26/100\n",
      " - 52s - loss: -4.4440e-02 - crf_accuracy: 0.9998 - val_loss: 0.0173 - val_crf_accuracy: 0.9885\n",
      "Epoch 27/100\n",
      " - 51s - loss: -4.6290e-02 - crf_accuracy: 0.9999 - val_loss: 0.0166 - val_crf_accuracy: 0.9887\n",
      "Epoch 28/100\n",
      " - 51s - loss: -4.8120e-02 - crf_accuracy: 0.9999 - val_loss: 0.0165 - val_crf_accuracy: 0.9884\n",
      "Epoch 29/100\n",
      " - 52s - loss: -4.9835e-02 - crf_accuracy: 0.9999 - val_loss: 0.0249 - val_crf_accuracy: 0.9882\n",
      "Epoch 30/100\n",
      " - 51s - loss: -5.1690e-02 - crf_accuracy: 1.0000 - val_loss: 0.0148 - val_crf_accuracy: 0.9886\n",
      "Epoch 31/100\n",
      " - 53s - loss: -5.3419e-02 - crf_accuracy: 0.9999 - val_loss: 0.0122 - val_crf_accuracy: 0.9895\n",
      "Epoch 32/100\n",
      " - 52s - loss: -5.5223e-02 - crf_accuracy: 1.0000 - val_loss: 0.0121 - val_crf_accuracy: 0.9893\n",
      "Epoch 33/100\n",
      " - 51s - loss: -5.6937e-02 - crf_accuracy: 0.9999 - val_loss: 0.0067 - val_crf_accuracy: 0.9885\n",
      "Epoch 34/100\n",
      " - 52s - loss: -5.8708e-02 - crf_accuracy: 0.9999 - val_loss: 0.0138 - val_crf_accuracy: 0.9882\n",
      "Epoch 35/100\n",
      " - 53s - loss: -6.0450e-02 - crf_accuracy: 0.9999 - val_loss: 0.0074 - val_crf_accuracy: 0.9885\n",
      "Epoch 36/100\n",
      " - 51s - loss: -6.2294e-02 - crf_accuracy: 1.0000 - val_loss: 0.0089 - val_crf_accuracy: 0.9889\n",
      "Epoch 37/100\n",
      " - 51s - loss: -6.4026e-02 - crf_accuracy: 0.9999 - val_loss: 0.0125 - val_crf_accuracy: 0.9879\n",
      "Epoch 38/100\n",
      " - 51s - loss: -6.5819e-02 - crf_accuracy: 1.0000 - val_loss: 0.0085 - val_crf_accuracy: 0.9883\n",
      "Epoch 39/100\n",
      " - 51s - loss: -6.7527e-02 - crf_accuracy: 0.9999 - val_loss: 0.0080 - val_crf_accuracy: 0.9884\n",
      "Epoch 40/100\n",
      " - 51s - loss: -6.9331e-02 - crf_accuracy: 1.0000 - val_loss: 0.0099 - val_crf_accuracy: 0.9889\n",
      "Epoch 41/100\n",
      " - 51s - loss: -7.1047e-02 - crf_accuracy: 0.9999 - val_loss: 0.0026 - val_crf_accuracy: 0.9886\n",
      "Epoch 42/100\n",
      " - 51s - loss: -7.2893e-02 - crf_accuracy: 1.0000 - val_loss: 0.0057 - val_crf_accuracy: 0.9873\n",
      "Epoch 43/100\n",
      " - 51s - loss: -7.4650e-02 - crf_accuracy: 1.0000 - val_loss: -1.6524e-03 - val_crf_accuracy: 0.9891\n",
      "Epoch 44/100\n",
      " - 51s - loss: -7.6421e-02 - crf_accuracy: 1.0000 - val_loss: -2.0133e-03 - val_crf_accuracy: 0.9891\n",
      "Epoch 45/100\n",
      " - 51s - loss: -7.8193e-02 - crf_accuracy: 1.0000 - val_loss: 8.4905e-04 - val_crf_accuracy: 0.9890\n",
      "Epoch 46/100\n",
      " - 52s - loss: -7.9919e-02 - crf_accuracy: 0.9999 - val_loss: 0.0015 - val_crf_accuracy: 0.9887\n",
      "Epoch 47/100\n",
      " - 51s - loss: -8.1711e-02 - crf_accuracy: 1.0000 - val_loss: -3.6574e-03 - val_crf_accuracy: 0.9883\n",
      "Epoch 48/100\n",
      " - 51s - loss: -8.3440e-02 - crf_accuracy: 0.9999 - val_loss: -7.9881e-03 - val_crf_accuracy: 0.9880\n",
      "Epoch 49/100\n",
      " - 51s - loss: -8.5249e-02 - crf_accuracy: 1.0000 - val_loss: -1.0599e-02 - val_crf_accuracy: 0.9893\n",
      "Epoch 50/100\n",
      " - 52s - loss: -8.6994e-02 - crf_accuracy: 1.0000 - val_loss: -6.6182e-03 - val_crf_accuracy: 0.9889\n",
      "Epoch 51/100\n",
      " - 53s - loss: -8.8731e-02 - crf_accuracy: 0.9999 - val_loss: -1.1067e-02 - val_crf_accuracy: 0.9887\n",
      "Restoring model weights from the end of the best epoch\n",
      "Epoch 00051: early stopping\n"
     ]
    },
    {
     "data": {
      "image/png": "[encoded data removed]",
      "text/plain": [
       "<Figure size 432x288 with 1 Axes>"
      ]
     },
     "metadata": {},
     "output_type": "display_data"
    },
    {
     "name": "stdout",
     "output_type": "stream",
     "text": [
      "processed 8531 tokens with 499 phrases; found: 458 phrases; correct: 359.\n",
      "accuracy:  68.80%; (non-O)\n",
      "accuracy:  96.57%; precision:  78.38%; recall:  71.94%; FB1:  75.03\n",
      "              ANG: precision: 100.00%; recall:  66.67%; FB1:  80.00  2\n",
      "              DUC: precision:   0.00%; recall:   0.00%; FB1:   0.00  0\n",
      "              EVE: precision:  50.00%; recall:   8.33%; FB1:  14.29  2\n",
      "              FAC: precision:  33.33%; recall:   8.33%; FB1:  13.33  3\n",
      "              GPE: precision:  85.96%; recall:  80.99%; FB1:  83.40  114\n",
      "              LOC: precision:  62.07%; recall:  64.29%; FB1:  63.16  29\n",
      "              ORG: precision:  68.04%; recall:  55.46%; FB1:  61.11  97\n",
      "              PER: precision:  83.01%; recall:  88.60%; FB1:  85.71  206\n",
      "              WOA: precision:  40.00%; recall:  22.22%; FB1:  28.57  5\n",
      "Train on 4482 samples, validate on 455 samples\n",
      "Epoch 1/100\n",
      " - 61s - loss: 0.2194 - crf_accuracy: 0.9576 - val_loss: 0.1042 - val_crf_accuracy: 0.9738\n",
      "Epoch 2/100\n",
      " - 54s - loss: 0.0574 - crf_accuracy: 0.9853 - val_loss: 0.0588 - val_crf_accuracy: 0.9831\n",
      "Epoch 3/100\n",
      " - 52s - loss: 0.0355 - crf_accuracy: 0.9894 - val_loss: 0.0617 - val_crf_accuracy: 0.9833\n",
      "Epoch 4/100\n",
      " - 53s - loss: 0.0242 - crf_accuracy: 0.9915 - val_loss: 0.0402 - val_crf_accuracy: 0.9863\n",
      "Epoch 5/100\n",
      " - 51s - loss: 0.0153 - crf_accuracy: 0.9932 - val_loss: 0.0374 - val_crf_accuracy: 0.9853\n",
      "Epoch 6/100\n",
      " - 51s - loss: 0.0087 - crf_accuracy: 0.9944 - val_loss: 0.0288 - val_crf_accuracy: 0.9873\n",
      "Epoch 7/100\n",
      " - 51s - loss: 0.0028 - crf_accuracy: 0.9957 - val_loss: 0.0280 - val_crf_accuracy: 0.9873\n",
      "Epoch 8/100\n",
      " - 51s - loss: -1.5830e-03 - crf_accuracy: 0.9965 - val_loss: 0.0246 - val_crf_accuracy: 0.9888\n",
      "Epoch 9/100\n",
      " - 51s - loss: -5.5876e-03 - crf_accuracy: 0.9971 - val_loss: 0.0234 - val_crf_accuracy: 0.9888\n",
      "Epoch 10/100\n",
      " - 51s - loss: -9.4201e-03 - crf_accuracy: 0.9978 - val_loss: 0.0221 - val_crf_accuracy: 0.9890\n",
      "Epoch 11/100\n",
      " - 51s - loss: -1.2683e-02 - crf_accuracy: 0.9983 - val_loss: 0.0214 - val_crf_accuracy: 0.9887\n",
      "Epoch 12/100\n",
      " - 51s - loss: -1.5387e-02 - crf_accuracy: 0.9986 - val_loss: 0.0235 - val_crf_accuracy: 0.9879\n",
      "Epoch 13/100\n",
      " - 51s - loss: -1.7893e-02 - crf_accuracy: 0.9990 - val_loss: 0.0224 - val_crf_accuracy: 0.9879\n",
      "Epoch 14/100\n",
      " - 52s - loss: -2.0584e-02 - crf_accuracy: 0.9993 - val_loss: 0.0234 - val_crf_accuracy: 0.9875\n",
      "Epoch 15/100\n",
      " - 51s - loss: -2.2733e-02 - crf_accuracy: 0.9994 - val_loss: 0.0253 - val_crf_accuracy: 0.9880\n",
      "Epoch 16/100\n",
      " - 52s - loss: -2.4786e-02 - crf_accuracy: 0.9995 - val_loss: 0.0235 - val_crf_accuracy: 0.9890\n",
      "Epoch 17/100\n",
      " - 53s - loss: -2.6779e-02 - crf_accuracy: 0.9996 - val_loss: 0.0228 - val_crf_accuracy: 0.9874\n",
      "Epoch 18/100\n",
      " - 51s - loss: -2.8859e-02 - crf_accuracy: 0.9997 - val_loss: 0.0256 - val_crf_accuracy: 0.9888\n",
      "Epoch 19/100\n",
      " - 51s - loss: -3.0765e-02 - crf_accuracy: 0.9997 - val_loss: 0.0171 - val_crf_accuracy: 0.9890\n",
      "Epoch 20/100\n",
      " - 51s - loss: -3.2633e-02 - crf_accuracy: 0.9997 - val_loss: 0.0202 - val_crf_accuracy: 0.9878\n",
      "Epoch 21/100\n",
      " - 54s - loss: -3.4504e-02 - crf_accuracy: 0.9998 - val_loss: 0.0177 - val_crf_accuracy: 0.9881\n",
      "Epoch 22/100\n",
      " - 51s - loss: -3.6363e-02 - crf_accuracy: 0.9998 - val_loss: 0.0176 - val_crf_accuracy: 0.9885\n",
      "Epoch 23/100\n",
      " - 51s - loss: -3.8217e-02 - crf_accuracy: 0.9999 - val_loss: 0.0235 - val_crf_accuracy: 0.9882\n",
      "Epoch 24/100\n",
      " - 51s - loss: -3.9982e-02 - crf_accuracy: 0.9998 - val_loss: 0.0163 - val_crf_accuracy: 0.9884\n",
      "Epoch 25/100\n",
      " - 51s - loss: -4.1816e-02 - crf_accuracy: 0.9999 - val_loss: 0.0168 - val_crf_accuracy: 0.9881\n",
      "Epoch 26/100\n",
      " - 51s - loss: -4.3662e-02 - crf_accuracy: 0.9999 - val_loss: 0.0205 - val_crf_accuracy: 0.9887\n",
      "Epoch 27/100\n",
      " - 51s - loss: -4.5444e-02 - crf_accuracy: 0.9999 - val_loss: 0.0188 - val_crf_accuracy: 0.9889\n",
      "Epoch 28/100\n",
      " - 51s - loss: -4.7142e-02 - crf_accuracy: 0.9999 - val_loss: 0.0186 - val_crf_accuracy: 0.9879\n",
      "Epoch 29/100\n",
      " - 51s - loss: -4.8953e-02 - crf_accuracy: 0.9999 - val_loss: 0.0144 - val_crf_accuracy: 0.9889\n",
      "Epoch 30/100\n",
      " - 51s - loss: -5.0723e-02 - crf_accuracy: 0.9999 - val_loss: 0.0127 - val_crf_accuracy: 0.9877\n",
      "Restoring model weights from the end of the best epoch\n",
      "Epoch 00030: early stopping\n"
     ]
    },
    {
     "data": {
      "image/png": "[encoded data removed]",
      "text/plain": [
       "<Figure size 432x288 with 1 Axes>"
      ]
     },
     "metadata": {},
     "output_type": "display_data"
    },
    {
     "name": "stdout",
     "output_type": "stream",
     "text": [
      "processed 8531 tokens with 499 phrases; found: 458 phrases; correct: 363.\n",
      "accuracy:  69.28%; (non-O)\n",
      "accuracy:  96.75%; precision:  79.26%; recall:  72.75%; FB1:  75.86\n",
      "              ANG: precision: 100.00%; recall:  66.67%; FB1:  80.00  2\n",
      "              DUC: precision:   0.00%; recall:   0.00%; FB1:   0.00  0\n",
      "              EVE: precision: 100.00%; recall:   8.33%; FB1:  15.38  1\n",
      "              FAC: precision:  33.33%; recall:  16.67%; FB1:  22.22  6\n",
      "              GPE: precision:  85.71%; recall:  79.34%; FB1:  82.40  112\n",
      "              LOC: precision:  58.62%; recall:  60.71%; FB1:  59.65  29\n",
      "              ORG: precision:  70.21%; recall:  55.46%; FB1:  61.97  94\n",
      "              PER: precision:  84.95%; recall:  90.67%; FB1:  87.72  206\n",
      "              WOA: precision:  50.00%; recall:  44.44%; FB1:  47.06  8\n"
     ]
    }
   ],
   "source": [
    "configs, results, preds, histories = run_models(configs, splits, splits_char, embedding_mats, \n",
    "                                                words, max_len, n_words, idx2word, idx2tag,\n",
    "                                                n_tags, max_len_char, n_pos, n_chars,\n",
    "                                                run_name='treebank_tokens_fixed2', out_folder=out_folder,\n",
    "                                                skip_if_model_exists=True,\n",
    "                                                validation_split=validation_split,\n",
    "                                                extra_predictions=extra_preds,\n",
    "                                                )"
   ]
  },
  {
   "cell_type": "code",
   "execution_count": null,
   "metadata": {},
   "outputs": [],
   "source": []
  },
  {
   "cell_type": "code",
   "execution_count": null,
   "metadata": {},
   "outputs": [],
   "source": []
  },
  {
   "cell_type": "code",
   "execution_count": null,
   "metadata": {},
   "outputs": [],
   "source": []
  },
  {
   "cell_type": "code",
   "execution_count": null,
   "metadata": {},
   "outputs": [],
   "source": []
  },
  {
   "cell_type": "code",
   "execution_count": null,
   "metadata": {},
   "outputs": [],
   "source": []
  },
  {
   "cell_type": "code",
   "execution_count": null,
   "metadata": {},
   "outputs": [],
   "source": []
  },
  {
   "cell_type": "code",
   "execution_count": null,
   "metadata": {},
   "outputs": [],
   "source": []
  },
  {
   "cell_type": "code",
   "execution_count": null,
   "metadata": {},
   "outputs": [],
   "source": []
  },
  {
   "cell_type": "code",
   "execution_count": null,
   "metadata": {},
   "outputs": [],
   "source": []
  },
  {
   "cell_type": "code",
   "execution_count": null,
   "metadata": {},
   "outputs": [],
   "source": []
  }
 ],
 "metadata": {
  "kernelspec": {
   "display_name": "Python 3",
   "language": "python",
   "name": "python3"
  },
  "language_info": {
   "codemirror_mode": {
    "name": "ipython",
    "version": 3
   },
   "file_extension": ".py",
   "mimetype": "text/x-python",
   "name": "python",
   "nbconvert_exporter": "python",
   "pygments_lexer": "ipython3",
   "version": "3.6.8"
  }
 },
 "nbformat": 4,
 "nbformat_minor": 4
}
