{
 "cells": [
  {
   "cell_type": "markdown",
   "metadata": {},
   "source": [
    "# Treebank NER with Bi-LSTM-CRF "
   ]
  },
  {
   "cell_type": "code",
   "execution_count": 1,
   "metadata": {},
   "outputs": [],
   "source": [
    "import os\n",
    "os.environ[\"CUDA_DEVICE_ORDER\"]=\"PCI_BUS_ID\";\n",
    " \n",
    "# The GPU id to use, usually either \"0\" or \"1\";\n",
    "os.environ[\"CUDA_VISIBLE_DEVICES\"]=\"2\";  "
   ]
  },
  {
   "cell_type": "code",
   "execution_count": 2,
   "metadata": {},
   "outputs": [],
   "source": [
    "%load_ext autoreload\n",
    "%autoreload 2"
   ]
  },
  {
   "cell_type": "code",
   "execution_count": 3,
   "metadata": {
    "ExecuteTime": {
     "end_time": "2019-03-13T07:20:24.034028Z",
     "start_time": "2019-03-13T07:20:22.687626Z"
    }
   },
   "outputs": [],
   "source": [
    "%matplotlib inline"
   ]
  },
  {
   "cell_type": "code",
   "execution_count": 4,
   "metadata": {
    "ExecuteTime": {
     "end_time": "2019-03-13T07:20:24.382406Z",
     "start_time": "2019-03-13T07:20:24.037019Z"
    }
   },
   "outputs": [],
   "source": [
    "import pandas as pd\n",
    "import numpy as np"
   ]
  },
  {
   "cell_type": "code",
   "execution_count": 5,
   "metadata": {
    "ExecuteTime": {
     "end_time": "2019-03-13T07:20:27.996727Z",
     "start_time": "2019-03-13T07:20:24.385088Z"
    }
   },
   "outputs": [],
   "source": [
    "import matplotlib.pyplot as plt\n",
    "import seaborn as sns\n",
    "sns.set_context('paper')\n",
    "sns.set_style('white')"
   ]
  },
  {
   "cell_type": "code",
   "execution_count": 6,
   "metadata": {
    "ExecuteTime": {
     "end_time": "2019-03-13T07:20:28.016424Z",
     "start_time": "2019-03-13T07:20:27.999427Z"
    }
   },
   "outputs": [],
   "source": [
    "from conlleval import evaluate"
   ]
  },
  {
   "cell_type": "code",
   "execution_count": 7,
   "metadata": {},
   "outputs": [
    {
     "name": "stderr",
     "output_type": "stream",
     "text": [
      "Using TensorFlow backend.\n"
     ]
    }
   ],
   "source": [
    "from ner_utils import *"
   ]
  },
  {
   "cell_type": "markdown",
   "metadata": {},
   "source": [
    "## Get token data"
   ]
  },
  {
   "cell_type": "code",
   "execution_count": 8,
   "metadata": {},
   "outputs": [],
   "source": [
    "#yap_dev = pd.read_csv('new_yap_outputs/yap_dev.csv.gz', compression='gzip')\n",
    "#yap_test = pd.read_csv('new_yap_outputs/yap_test.csv.gz', compression='gzip')\n",
    "yap_dev_tok = pd.read_csv('new_yap_outputs/yap_dev_tokens.csv.gz', compression='gzip').reset_index()\n",
    "yap_test_tok = pd.read_csv('new_yap_outputs/yap_test_tokens.csv.gz', compression='gzip').reset_index()"
   ]
  },
  {
   "cell_type": "code",
   "execution_count": 9,
   "metadata": {},
   "outputs": [
    {
     "data": {
      "text/html": [
       "<div>\n",
       "<style scoped>\n",
       "    .dataframe tbody tr th:only-of-type {\n",
       "        vertical-align: middle;\n",
       "    }\n",
       "\n",
       "    .dataframe tbody tr th {\n",
       "        vertical-align: top;\n",
       "    }\n",
       "\n",
       "    .dataframe thead th {\n",
       "        text-align: right;\n",
       "    }\n",
       "</style>\n",
       "<table border=\"1\" class=\"dataframe\">\n",
       "  <thead>\n",
       "    <tr style=\"text-align: right;\">\n",
       "      <th></th>\n",
       "      <th>index</th>\n",
       "      <th>sent</th>\n",
       "      <th>misc_token_id</th>\n",
       "      <th>misc_token_str</th>\n",
       "      <th>upostag</th>\n",
       "      <th>form</th>\n",
       "      <th>lemma</th>\n",
       "      <th>deprel</th>\n",
       "      <th>feats_gen</th>\n",
       "      <th>feats_num</th>\n",
       "      <th>feats_per</th>\n",
       "      <th>feats_tense</th>\n",
       "      <th>feats_suf_gen</th>\n",
       "      <th>feats_suf_num</th>\n",
       "      <th>feats_suf_per</th>\n",
       "      <th>sent_id</th>\n",
       "    </tr>\n",
       "  </thead>\n",
       "  <tbody>\n",
       "    <tr>\n",
       "      <th>0</th>\n",
       "      <td>0</td>\n",
       "      <td>1</td>\n",
       "      <td>1</td>\n",
       "      <td>הכל</td>\n",
       "      <td>DEF^DTT</td>\n",
       "      <td>ה^כל</td>\n",
       "      <td>ה^כול</td>\n",
       "      <td>def^det</td>\n",
       "      <td>,</td>\n",
       "      <td>,</td>\n",
       "      <td>,</td>\n",
       "      <td>,</td>\n",
       "      <td>,</td>\n",
       "      <td>,</td>\n",
       "      <td>,</td>\n",
       "      <td>5439</td>\n",
       "    </tr>\n",
       "    <tr>\n",
       "      <th>1</th>\n",
       "      <td>1</td>\n",
       "      <td>1</td>\n",
       "      <td>2</td>\n",
       "      <td>נושאים</td>\n",
       "      <td>NN</td>\n",
       "      <td>נושאים</td>\n",
       "      <td>נושא</td>\n",
       "      <td>subj</td>\n",
       "      <td>M</td>\n",
       "      <td>P</td>\n",
       "      <td>NaN</td>\n",
       "      <td>NaN</td>\n",
       "      <td>NaN</td>\n",
       "      <td>NaN</td>\n",
       "      <td>NaN</td>\n",
       "      <td>5439</td>\n",
       "    </tr>\n",
       "    <tr>\n",
       "      <th>2</th>\n",
       "      <td>2</td>\n",
       "      <td>1</td>\n",
       "      <td>3</td>\n",
       "      <td>עמם</td>\n",
       "      <td>VB</td>\n",
       "      <td>עמם</td>\n",
       "      <td>עימם</td>\n",
       "      <td>conj</td>\n",
       "      <td>M</td>\n",
       "      <td>S</td>\n",
       "      <td>3</td>\n",
       "      <td>PAST</td>\n",
       "      <td>NaN</td>\n",
       "      <td>NaN</td>\n",
       "      <td>NaN</td>\n",
       "      <td>5439</td>\n",
       "    </tr>\n",
       "    <tr>\n",
       "      <th>3</th>\n",
       "      <td>3</td>\n",
       "      <td>1</td>\n",
       "      <td>4</td>\n",
       "      <td>את</td>\n",
       "      <td>AT</td>\n",
       "      <td>את</td>\n",
       "      <td>את</td>\n",
       "      <td>obj</td>\n",
       "      <td>NaN</td>\n",
       "      <td>NaN</td>\n",
       "      <td>NaN</td>\n",
       "      <td>NaN</td>\n",
       "      <td>NaN</td>\n",
       "      <td>NaN</td>\n",
       "      <td>NaN</td>\n",
       "      <td>5439</td>\n",
       "    </tr>\n",
       "    <tr>\n",
       "      <th>4</th>\n",
       "      <td>4</td>\n",
       "      <td>1</td>\n",
       "      <td>5</td>\n",
       "      <td>כישלונות</td>\n",
       "      <td>NNT</td>\n",
       "      <td>כישלונות</td>\n",
       "      <td>כישלון</td>\n",
       "      <td>hd</td>\n",
       "      <td>M</td>\n",
       "      <td>P</td>\n",
       "      <td>NaN</td>\n",
       "      <td>NaN</td>\n",
       "      <td>NaN</td>\n",
       "      <td>NaN</td>\n",
       "      <td>NaN</td>\n",
       "      <td>5439</td>\n",
       "    </tr>\n",
       "  </tbody>\n",
       "</table>\n",
       "</div>"
      ],
      "text/plain": [
       "   index  sent  misc_token_id misc_token_str  upostag      form   lemma  \\\n",
       "0      0     1              1            הכל  DEF^DTT      ה^כל   ה^כול   \n",
       "1      1     1              2         נושאים       NN    נושאים    נושא   \n",
       "2      2     1              3            עמם       VB       עמם    עימם   \n",
       "3      3     1              4             את       AT        את      את   \n",
       "4      4     1              5       כישלונות      NNT  כישלונות  כישלון   \n",
       "\n",
       "    deprel feats_gen feats_num feats_per feats_tense feats_suf_gen  \\\n",
       "0  def^det         ,         ,         ,           ,             ,   \n",
       "1     subj         M         P       NaN         NaN           NaN   \n",
       "2     conj         M         S         3        PAST           NaN   \n",
       "3      obj       NaN       NaN       NaN         NaN           NaN   \n",
       "4       hd         M         P       NaN         NaN           NaN   \n",
       "\n",
       "  feats_suf_num feats_suf_per  sent_id  \n",
       "0             ,             ,     5439  \n",
       "1           NaN           NaN     5439  \n",
       "2           NaN           NaN     5439  \n",
       "3           NaN           NaN     5439  \n",
       "4           NaN           NaN     5439  "
      ]
     },
     "execution_count": 9,
     "metadata": {},
     "output_type": "execute_result"
    }
   ],
   "source": [
    "yap_test_tok.head()"
   ]
  },
  {
   "cell_type": "code",
   "execution_count": 10,
   "metadata": {},
   "outputs": [],
   "source": [
    "tokens_ner_with_upos_feats = pd.read_csv('align/spmrl_tokens_df.csv.gz', compression='gzip').reset_index()"
   ]
  },
  {
   "cell_type": "code",
   "execution_count": 11,
   "metadata": {},
   "outputs": [
    {
     "data": {
      "text/html": [
       "<div>\n",
       "<style scoped>\n",
       "    .dataframe tbody tr th:only-of-type {\n",
       "        vertical-align: middle;\n",
       "    }\n",
       "\n",
       "    .dataframe tbody tr th {\n",
       "        vertical-align: top;\n",
       "    }\n",
       "\n",
       "    .dataframe thead th {\n",
       "        text-align: right;\n",
       "    }\n",
       "</style>\n",
       "<table border=\"1\" class=\"dataframe\">\n",
       "  <thead>\n",
       "    <tr style=\"text-align: right;\">\n",
       "      <th></th>\n",
       "      <th>index</th>\n",
       "      <th>sent</th>\n",
       "      <th>misc_token_id</th>\n",
       "      <th>misc_token_str</th>\n",
       "      <th>upostag</th>\n",
       "      <th>form</th>\n",
       "      <th>lemma</th>\n",
       "      <th>deprel</th>\n",
       "      <th>feats_gen</th>\n",
       "      <th>feats_num</th>\n",
       "      <th>feats_per</th>\n",
       "      <th>feats_tense</th>\n",
       "      <th>feats_suf_gen</th>\n",
       "      <th>feats_suf_num</th>\n",
       "      <th>feats_suf_per</th>\n",
       "      <th>sent_id</th>\n",
       "    </tr>\n",
       "  </thead>\n",
       "  <tbody>\n",
       "    <tr>\n",
       "      <th>0</th>\n",
       "      <td>0</td>\n",
       "      <td>1</td>\n",
       "      <td>1</td>\n",
       "      <td>עשרות</td>\n",
       "      <td>CDT</td>\n",
       "      <td>עשרות</td>\n",
       "      <td>עשר</td>\n",
       "      <td>num</td>\n",
       "      <td>F</td>\n",
       "      <td>P</td>\n",
       "      <td>NaN</td>\n",
       "      <td>NaN</td>\n",
       "      <td>NaN</td>\n",
       "      <td>NaN</td>\n",
       "      <td>NaN</td>\n",
       "      <td>1</td>\n",
       "    </tr>\n",
       "    <tr>\n",
       "      <th>1</th>\n",
       "      <td>1</td>\n",
       "      <td>1</td>\n",
       "      <td>2</td>\n",
       "      <td>אנשים</td>\n",
       "      <td>NN</td>\n",
       "      <td>אנשים</td>\n",
       "      <td>איש</td>\n",
       "      <td>subj</td>\n",
       "      <td>M</td>\n",
       "      <td>P</td>\n",
       "      <td>NaN</td>\n",
       "      <td>NaN</td>\n",
       "      <td>NaN</td>\n",
       "      <td>NaN</td>\n",
       "      <td>NaN</td>\n",
       "      <td>1</td>\n",
       "    </tr>\n",
       "    <tr>\n",
       "      <th>2</th>\n",
       "      <td>2</td>\n",
       "      <td>1</td>\n",
       "      <td>3</td>\n",
       "      <td>מגיעים</td>\n",
       "      <td>BN</td>\n",
       "      <td>מגיעים</td>\n",
       "      <td>הגיע</td>\n",
       "      <td>conj</td>\n",
       "      <td>M</td>\n",
       "      <td>P</td>\n",
       "      <td>A</td>\n",
       "      <td>NaN</td>\n",
       "      <td>NaN</td>\n",
       "      <td>NaN</td>\n",
       "      <td>NaN</td>\n",
       "      <td>1</td>\n",
       "    </tr>\n",
       "    <tr>\n",
       "      <th>3</th>\n",
       "      <td>3</td>\n",
       "      <td>1</td>\n",
       "      <td>4</td>\n",
       "      <td>מתאילנד</td>\n",
       "      <td>PREPOSITION^NNP</td>\n",
       "      <td>מ^תאילנד</td>\n",
       "      <td>מ^תאילנד</td>\n",
       "      <td>comp^pobj</td>\n",
       "      <td>^F</td>\n",
       "      <td>^S</td>\n",
       "      <td>^</td>\n",
       "      <td>^</td>\n",
       "      <td>^</td>\n",
       "      <td>^</td>\n",
       "      <td>^</td>\n",
       "      <td>1</td>\n",
       "    </tr>\n",
       "    <tr>\n",
       "      <th>4</th>\n",
       "      <td>4</td>\n",
       "      <td>1</td>\n",
       "      <td>5</td>\n",
       "      <td>לישראל</td>\n",
       "      <td>NNP</td>\n",
       "      <td>לישראל</td>\n",
       "      <td>לישראל</td>\n",
       "      <td>nn</td>\n",
       "      <td>F,M</td>\n",
       "      <td>S</td>\n",
       "      <td>NaN</td>\n",
       "      <td>NaN</td>\n",
       "      <td>NaN</td>\n",
       "      <td>NaN</td>\n",
       "      <td>NaN</td>\n",
       "      <td>1</td>\n",
       "    </tr>\n",
       "  </tbody>\n",
       "</table>\n",
       "</div>"
      ],
      "text/plain": [
       "   index  sent  misc_token_id misc_token_str          upostag      form  \\\n",
       "0      0     1              1          עשרות              CDT     עשרות   \n",
       "1      1     1              2          אנשים               NN     אנשים   \n",
       "2      2     1              3         מגיעים               BN    מגיעים   \n",
       "3      3     1              4        מתאילנד  PREPOSITION^NNP  מ^תאילנד   \n",
       "4      4     1              5         לישראל              NNP    לישראל   \n",
       "\n",
       "      lemma     deprel feats_gen feats_num feats_per feats_tense  \\\n",
       "0       עשר        num         F         P       NaN         NaN   \n",
       "1       איש       subj         M         P       NaN         NaN   \n",
       "2      הגיע       conj         M         P         A         NaN   \n",
       "3  מ^תאילנד  comp^pobj        ^F        ^S         ^           ^   \n",
       "4    לישראל         nn       F,M         S       NaN         NaN   \n",
       "\n",
       "  feats_suf_gen feats_suf_num feats_suf_per  sent_id  \n",
       "0           NaN           NaN           NaN        1  \n",
       "1           NaN           NaN           NaN        1  \n",
       "2           NaN           NaN           NaN        1  \n",
       "3             ^             ^             ^        1  \n",
       "4           NaN           NaN           NaN        1  "
      ]
     },
     "execution_count": 11,
     "metadata": {},
     "output_type": "execute_result"
    }
   ],
   "source": [
    "yap_dev_tok.head()"
   ]
  },
  {
   "cell_type": "code",
   "execution_count": 12,
   "metadata": {},
   "outputs": [
    {
     "data": {
      "text/plain": [
       "sent_id\n",
       "1    [[עשרות, CDT], [אנשים, NN], [מגיעים, BN], [מתא...\n",
       "2    [[תופעה, NN], [זו, PRP], [התבררה, VB], [אתמול,...\n",
       "3    [[יו\"ר, NNT], [הוועדה, DEF^NN], [,, yyCM], [ח\"...\n",
       "4    [[מצד, PREPOSITION^NN], [אחד, CD], [רוצה, BN],...\n",
       "5    [[נמיר, NNP], [הודיעה, VB], [כי, CC], [תפנה, V...\n",
       "dtype: object"
      ]
     },
     "execution_count": 12,
     "metadata": {},
     "output_type": "execute_result"
    }
   ],
   "source": [
    "yap_dev_tok_sents =  yap_dev_tok.groupby('sent_id')[['misc_token_str', 'upostag']].apply(lambda x: x.values.tolist())\n",
    "yap_dev_tok_sents.head()"
   ]
  },
  {
   "cell_type": "code",
   "execution_count": 13,
   "metadata": {},
   "outputs": [
    {
     "data": {
      "text/plain": [
       "sent_id\n",
       "5439    [[הכל, DEF^DTT], [נושאים, NN], [עמם, VB], [את,...\n",
       "5440    [[אומר, NNT], [מזכיר, NNT], [התק\"ם, DEF^NNP], ...\n",
       "5441    [[לא, RB], [ייתכן, MD], [שעולה, REL^NN], [יבוא...\n",
       "5442    [[לא, RB], [ייתכן, MD], [שהוא, REL^PRP], [יירד...\n",
       "5443    [[לכן, CC], [קבענו, VB], [עיקרון, NN], [שצריכה...\n",
       "dtype: object"
      ]
     },
     "execution_count": 13,
     "metadata": {},
     "output_type": "execute_result"
    }
   ],
   "source": [
    "yap_test_tok_sents =  yap_test_tok.groupby('sent_id')[['misc_token_str', 'upostag']].apply(lambda x: x.values.tolist())\n",
    "yap_test_tok_sents.head()"
   ]
  },
  {
   "cell_type": "code",
   "execution_count": 14,
   "metadata": {},
   "outputs": [],
   "source": [
    "gold_dev  = tokens_ner_with_upos_feats[tokens_ner_with_upos_feats.set=='dev']\n",
    "gold_train = tokens_ner_with_upos_feats[tokens_ner_with_upos_feats.set=='train']\n",
    "gold_test = tokens_ner_with_upos_feats[tokens_ner_with_upos_feats.set=='test']"
   ]
  },
  {
   "cell_type": "code",
   "execution_count": 15,
   "metadata": {},
   "outputs": [
    {
     "data": {
      "text/plain": [
       "sent_id\n",
       "5439    [[הכל, NN, O], [נושאים, BN, O], [עמם, IN^S_PRN...\n",
       "5440    [[אומר, BN, O], [מזכיר, NNT, O], [התק\"ם, NNP, ...\n",
       "5441    [[לא, RB, O], [ייתכן, MD, O], [שעולה, REL^NN, ...\n",
       "5442    [[לא, RB, O], [ייתכן, MD, O], [שהוא, REL^PRP, ...\n",
       "5443    [[לכן, CC, O], [קבענו, VB, O], [עיקרון, NN, O]...\n",
       "dtype: object"
      ]
     },
     "execution_count": 15,
     "metadata": {},
     "output_type": "execute_result"
    }
   ],
   "source": [
    "gold_dev_sents = gold_dev.groupby('sent_id')[['misc_token_str', 'upostag', 'biose']].apply(lambda x: x.values.tolist())\n",
    "gold_train_sents = gold_train.groupby('sent_id')[['misc_token_str', 'upostag', 'biose']].apply(lambda x: x.values.tolist())\n",
    "gold_test_sents = gold_test.groupby('sent_id')[['misc_token_str', 'upostag', 'biose']].apply(lambda x: x.values.tolist())\n",
    "gold_test_sents.head()"
   ]
  },
  {
   "cell_type": "code",
   "execution_count": 16,
   "metadata": {},
   "outputs": [
    {
     "data": {
      "text/plain": [
       "sent_id\n",
       "1    [[עשרות, CDT, O], [אנשים, NN, O], [מגיעים, BN,...\n",
       "2    [[תופעה, NN, O], [זו, PRP, O], [התבררה, VB, O]...\n",
       "3    [[יו\"ר, NNT, O], [הוועדה, DEF^NN, O], [,, yyCM...\n",
       "4    [[מצד, PREPOSITION^NN, O], [אחד, CD, O], [רוצה...\n",
       "5    [[נמיר, NNP, S-PER], [הודיעה, VB, O], [כי, CC,...\n",
       "dtype: object"
      ]
     },
     "execution_count": 16,
     "metadata": {},
     "output_type": "execute_result"
    }
   ],
   "source": [
    "gold_dev_sents.head()"
   ]
  },
  {
   "cell_type": "code",
   "execution_count": 17,
   "metadata": {},
   "outputs": [
    {
     "data": {
      "text/plain": [
       "28714"
      ]
     },
     "execution_count": 17,
     "metadata": {},
     "output_type": "execute_result"
    }
   ],
   "source": [
    "words = list(set(tokens_ner_with_upos_feats.misc_token_str.values)|set(yap_dev_tok.misc_token_str.values)|set(yap_test_tok.misc_token_str.values))\n",
    "n_words = len(words); n_words"
   ]
  },
  {
   "cell_type": "code",
   "execution_count": 18,
   "metadata": {},
   "outputs": [
    {
     "data": {
      "text/plain": [
       "36"
      ]
     },
     "execution_count": 18,
     "metadata": {},
     "output_type": "execute_result"
    }
   ],
   "source": [
    "tags = list(set(tokens_ner_with_upos_feats.biose.values))\n",
    "n_tags = len(tags); n_tags"
   ]
  },
  {
   "cell_type": "code",
   "execution_count": 19,
   "metadata": {},
   "outputs": [
    {
     "data": {
      "text/plain": [
       "<matplotlib.axes._subplots.AxesSubplot at 0x7f78f480a320>"
      ]
     },
     "execution_count": 19,
     "metadata": {},
     "output_type": "execute_result"
    },
    {
     "data": {
      "image/png": "[encoded data removed]",
      "text/plain": [
       "<Figure size 432x288 with 1 Axes>"
      ]
     },
     "metadata": {},
     "output_type": "display_data"
    }
   ],
   "source": [
    "gold_train.groupby('sent_id').size().hist(bins=50)"
   ]
  },
  {
   "cell_type": "code",
   "execution_count": 20,
   "metadata": {},
   "outputs": [
    {
     "data": {
      "text/plain": [
       "<matplotlib.axes._subplots.AxesSubplot at 0x7f78f1593eb8>"
      ]
     },
     "execution_count": 20,
     "metadata": {},
     "output_type": "execute_result"
    },
    {
     "data": {
      "image/png": "[encoded data removed]",
      "text/plain": [
       "<Figure size 432x288 with 1 Axes>"
      ]
     },
     "metadata": {},
     "output_type": "display_data"
    }
   ],
   "source": [
    "yap_dev_tok.groupby('sent_id').size().hist(bins=50)"
   ]
  },
  {
   "cell_type": "code",
   "execution_count": 21,
   "metadata": {},
   "outputs": [],
   "source": [
    "max_len = 80\n",
    "word2idx = {w: i + 2 for i, w in enumerate(words)}\n",
    "word2idx[\"UNK\"] = 1\n",
    "word2idx[\"PAD\"] = 0\n",
    "idx2word = {i: w for w, i in word2idx.items()}\n",
    "tag2idx = {t: i + 1 for i, t in enumerate(tags)}\n",
    "tag2idx[\"PAD\"] = 0\n",
    "idx2tag = {i: w for w, i in tag2idx.items()}"
   ]
  },
  {
   "cell_type": "code",
   "execution_count": 22,
   "metadata": {},
   "outputs": [],
   "source": [
    "from keras.preprocessing.sequence import pad_sequences\n",
    "X_gold_train = [[word2idx[w[0]] for w in s] for s in gold_train_sents]\n",
    "X_gold_dev   = [[word2idx[w[0]] for w in s] for s in gold_dev_sents]\n",
    "X_gold_test  = [[word2idx[w[0]] for w in s] for s in gold_test_sents]\n",
    "X_yap_dev    = [[word2idx[w[0]] for w in s] for s in yap_dev_tok_sents]\n",
    "X_yap_test   = [[word2idx[w[0]] for w in s] for s in yap_test_tok_sents]"
   ]
  },
  {
   "cell_type": "code",
   "execution_count": 23,
   "metadata": {},
   "outputs": [
    {
     "data": {
      "text/plain": [
       "array([ 4319,   679, 22701, 17177, 11238,     0,     0,     0,     0,\n",
       "           0,     0,     0,     0,     0,     0,     0,     0,     0,\n",
       "           0,     0,     0,     0,     0,     0,     0,     0,     0,\n",
       "           0,     0,     0,     0,     0,     0,     0,     0,     0,\n",
       "           0,     0,     0,     0,     0,     0,     0,     0,     0,\n",
       "           0,     0,     0,     0,     0,     0,     0,     0,     0,\n",
       "           0,     0,     0,     0,     0,     0,     0,     0,     0,\n",
       "           0,     0,     0,     0,     0,     0,     0,     0,     0,\n",
       "           0,     0,     0,     0,     0,     0,     0,     0],\n",
       "      dtype=int32)"
      ]
     },
     "execution_count": 23,
     "metadata": {},
     "output_type": "execute_result"
    }
   ],
   "source": [
    "X_gold_train = pad_sequences(maxlen=max_len, sequences=X_gold_train, value=word2idx[\"PAD\"], padding='post', truncating='post')\n",
    "X_gold_dev   = pad_sequences(maxlen=max_len, sequences=X_gold_dev  , value=word2idx[\"PAD\"], padding='post', truncating='post')\n",
    "X_gold_test  = pad_sequences(maxlen=max_len, sequences=X_gold_test , value=word2idx[\"PAD\"], padding='post', truncating='post')\n",
    "X_yap_dev    = pad_sequences(maxlen=max_len, sequences=X_yap_dev   , value=word2idx[\"PAD\"], padding='post', truncating='post')\n",
    "X_yap_test   = pad_sequences(maxlen=max_len, sequences=X_yap_test  , value=word2idx[\"PAD\"], padding='post', truncating='post')\n",
    "X_gold_train[0]"
   ]
  },
  {
   "cell_type": "code",
   "execution_count": 24,
   "metadata": {},
   "outputs": [
    {
     "data": {
      "text/plain": [
       "352"
      ]
     },
     "execution_count": 24,
     "metadata": {},
     "output_type": "execute_result"
    }
   ],
   "source": [
    "pos = list(set(tokens_ner_with_upos_feats.upostag.values)|set(yap_dev_tok.upostag.values)|set(yap_test_tok.upostag.values))\n",
    "n_pos = len(pos); n_pos"
   ]
  },
  {
   "cell_type": "code",
   "execution_count": 25,
   "metadata": {
    "ExecuteTime": {
     "end_time": "2019-03-13T07:20:48.137589Z",
     "start_time": "2019-03-13T07:20:48.048826Z"
    }
   },
   "outputs": [],
   "source": [
    "pos2idx = {w: i+1 for i, w in enumerate(pos)}\n",
    "pos2idx[\"PAD\"] = 0"
   ]
  },
  {
   "cell_type": "code",
   "execution_count": 26,
   "metadata": {},
   "outputs": [],
   "source": [
    "from keras.preprocessing.sequence import pad_sequences\n",
    "X_pos_gold_train = [[pos2idx[w[1]] for w in s] for s in gold_train_sents]\n",
    "X_pos_gold_dev   = [[pos2idx[w[1]] for w in s] for s in gold_dev_sents]\n",
    "X_pos_gold_test  = [[pos2idx[w[1]] for w in s] for s in gold_test_sents]\n",
    "X_pos_yap_dev    = [[pos2idx[w[1]] for w in s] for s in yap_dev_tok_sents]\n",
    "X_pos_yap_test   = [[pos2idx[w[1]] for w in s] for s in yap_test_tok_sents]"
   ]
  },
  {
   "cell_type": "code",
   "execution_count": 27,
   "metadata": {},
   "outputs": [
    {
     "data": {
      "text/plain": [
       "array([149,  39, 315,  89, 256,   0,   0,   0,   0,   0,   0,   0,   0,\n",
       "         0,   0,   0,   0,   0,   0,   0,   0,   0,   0,   0,   0,   0,\n",
       "         0,   0,   0,   0,   0,   0,   0,   0,   0,   0,   0,   0,   0,\n",
       "         0,   0,   0,   0,   0,   0,   0,   0,   0,   0,   0,   0,   0,\n",
       "         0,   0,   0,   0,   0,   0,   0,   0,   0,   0,   0,   0,   0,\n",
       "         0,   0,   0,   0,   0,   0,   0,   0,   0,   0,   0,   0,   0,\n",
       "         0,   0], dtype=int32)"
      ]
     },
     "execution_count": 27,
     "metadata": {},
     "output_type": "execute_result"
    }
   ],
   "source": [
    "X_pos_gold_train = pad_sequences(maxlen=max_len, sequences=X_pos_gold_train, value=pos2idx[\"PAD\"], padding='post', truncating='post')\n",
    "X_pos_gold_dev   = pad_sequences(maxlen=max_len, sequences=X_pos_gold_dev  , value=pos2idx[\"PAD\"], padding='post', truncating='post')\n",
    "X_pos_gold_test  = pad_sequences(maxlen=max_len, sequences=X_pos_gold_test , value=pos2idx[\"PAD\"], padding='post', truncating='post')\n",
    "X_pos_yap_dev    = pad_sequences(maxlen=max_len, sequences=X_pos_yap_dev   , value=pos2idx[\"PAD\"], padding='post', truncating='post')\n",
    "X_pos_yap_test   = pad_sequences(maxlen=max_len, sequences=X_pos_yap_test  , value=pos2idx[\"PAD\"], padding='post', truncating='post')\n",
    "X_pos_gold_train[0]"
   ]
  },
  {
   "cell_type": "code",
   "execution_count": 28,
   "metadata": {},
   "outputs": [],
   "source": [
    "from keras.preprocessing.sequence import pad_sequences\n",
    "y_gold_train = [[tag2idx[w[2]] for w in s] for s in gold_train_sents]\n",
    "y_gold_dev   = [[tag2idx[w[2]] for w in s] for s in gold_dev_sents]\n",
    "y_gold_test  = [[tag2idx[w[2]] for w in s] for s in gold_test_sents]"
   ]
  },
  {
   "cell_type": "code",
   "execution_count": 29,
   "metadata": {},
   "outputs": [
    {
     "data": {
      "text/plain": [
       "array([35, 35, 35, 35, 35,  0,  0,  0,  0,  0,  0,  0,  0,  0,  0,  0,  0,\n",
       "        0,  0,  0,  0,  0,  0,  0,  0,  0,  0,  0,  0,  0,  0,  0,  0,  0,\n",
       "        0,  0,  0,  0,  0,  0,  0,  0,  0,  0,  0,  0,  0,  0,  0,  0,  0,\n",
       "        0,  0,  0,  0,  0,  0,  0,  0,  0,  0,  0,  0,  0,  0,  0,  0,  0,\n",
       "        0,  0,  0,  0,  0,  0,  0,  0,  0,  0,  0,  0], dtype=int32)"
      ]
     },
     "execution_count": 29,
     "metadata": {},
     "output_type": "execute_result"
    }
   ],
   "source": [
    "y_numer_gold_train = pad_sequences(maxlen=max_len, sequences=y_gold_train, value=pos2idx[\"PAD\"], padding='post', truncating='post')\n",
    "y_numer_gold_dev   = pad_sequences(maxlen=max_len, sequences=y_gold_dev  , value=pos2idx[\"PAD\"], padding='post', truncating='post')\n",
    "y_numer_gold_test  = pad_sequences(maxlen=max_len, sequences=y_gold_test , value=pos2idx[\"PAD\"], padding='post', truncating='post')\n",
    "y_numer_gold_train[0]"
   ]
  },
  {
   "cell_type": "code",
   "execution_count": 30,
   "metadata": {
    "ExecuteTime": {
     "end_time": "2019-03-13T07:20:48.330074Z",
     "start_time": "2019-03-13T07:20:48.226353Z"
    }
   },
   "outputs": [
    {
     "data": {
      "text/plain": [
       "(80, 37)"
      ]
     },
     "execution_count": 30,
     "metadata": {},
     "output_type": "execute_result"
    }
   ],
   "source": [
    "from keras.utils import to_categorical\n",
    "y_gold_train = [to_categorical(i, num_classes=n_tags+1) for i in y_numer_gold_train]\n",
    "y_gold_dev   = [to_categorical(i, num_classes=n_tags+1) for i in y_numer_gold_dev  ]\n",
    "y_gold_test  = [to_categorical(i, num_classes=n_tags+1) for i in y_numer_gold_test ]\n",
    "\n",
    "y_gold_train[0].shape"
   ]
  },
  {
   "cell_type": "code",
   "execution_count": 31,
   "metadata": {},
   "outputs": [
    {
     "data": {
      "text/plain": [
       "0.09196247930844216"
      ]
     },
     "execution_count": 31,
     "metadata": {},
     "output_type": "execute_result"
    }
   ],
   "source": [
    "validation_split = len(X_gold_dev) / (len(X_gold_train)+len(X_gold_dev))\n",
    "validation_split"
   ]
  },
  {
   "cell_type": "code",
   "execution_count": 32,
   "metadata": {},
   "outputs": [],
   "source": [
    "splits = [[X_gold_train, X_gold_dev,\n",
    "           y_gold_train, y_gold_dev,\n",
    "           X_pos_gold_train, X_pos_gold_dev ]]"
   ]
  },
  {
   "cell_type": "markdown",
   "metadata": {},
   "source": [
    "### Prep char input"
   ]
  },
  {
   "cell_type": "code",
   "execution_count": 33,
   "metadata": {
    "ExecuteTime": {
     "end_time": "2019-01-31T13:58:31.324599Z",
     "start_time": "2019-01-31T13:58:31.077207Z"
    }
   },
   "outputs": [
    {
     "data": {
      "text/plain": [
       "<matplotlib.axes._subplots.AxesSubplot at 0x7f78f1448908>"
      ]
     },
     "execution_count": 33,
     "metadata": {},
     "output_type": "execute_result"
    },
    {
     "data": {
      "image/png": "[encoded data removed]",
      "text/plain": [
       "<Figure size 432x288 with 1 Axes>"
      ]
     },
     "metadata": {},
     "output_type": "display_data"
    }
   ],
   "source": [
    "tokens_ner_with_upos_feats.misc_token_str.apply(len).hist(bins=18)"
   ]
  },
  {
   "cell_type": "code",
   "execution_count": 34,
   "metadata": {
    "ExecuteTime": {
     "end_time": "2019-01-31T13:58:31.340217Z",
     "start_time": "2019-01-31T13:58:31.324599Z"
    }
   },
   "outputs": [],
   "source": [
    "max_len_char = 12"
   ]
  },
  {
   "cell_type": "code",
   "execution_count": 35,
   "metadata": {
    "ExecuteTime": {
     "end_time": "2019-01-31T13:58:32.660554Z",
     "start_time": "2019-01-31T13:58:32.613692Z"
    }
   },
   "outputs": [
    {
     "name": "stdout",
     "output_type": "stream",
     "text": [
      "50\n"
     ]
    }
   ],
   "source": [
    "chars = set([w_i for w in words for w_i in w])\n",
    "n_chars = len(chars)\n",
    "print(n_chars)"
   ]
  },
  {
   "cell_type": "code",
   "execution_count": 36,
   "metadata": {
    "ExecuteTime": {
     "end_time": "2019-01-31T13:58:33.732950Z",
     "start_time": "2019-01-31T13:58:33.717366Z"
    }
   },
   "outputs": [],
   "source": [
    "char2idx = {c: i + 2 for i, c in enumerate(chars)}\n",
    "char2idx[\"UNK\"] = 1\n",
    "char2idx[\"PAD\"] = 0"
   ]
  },
  {
   "cell_type": "code",
   "execution_count": 37,
   "metadata": {
    "ExecuteTime": {
     "end_time": "2019-01-31T13:58:36.324286Z",
     "start_time": "2019-01-31T13:58:34.303392Z"
    }
   },
   "outputs": [],
   "source": [
    "\n",
    "def get_X_char(sents):\n",
    "    X_char = []\n",
    "    for sentence in sents:\n",
    "        sent_seq = []\n",
    "        for i in range(max_len):\n",
    "            word_seq = []\n",
    "            for j in range(max_len_char):\n",
    "                try:\n",
    "                    word_seq.append(char2idx.get(sentence[i][0][j]))\n",
    "                except:\n",
    "                    word_seq.append(char2idx.get(\"PAD\"))\n",
    "            sent_seq.append(word_seq)\n",
    "        X_char.append(np.array(sent_seq))\n",
    "    return X_char"
   ]
  },
  {
   "cell_type": "code",
   "execution_count": 38,
   "metadata": {},
   "outputs": [],
   "source": [
    "X_char_gold_dev   = get_X_char(gold_dev_sents  )\n",
    "X_char_gold_train = get_X_char(gold_train_sents)\n",
    "X_char_gold_test  = get_X_char(gold_test_sents )\n",
    "X_char_yap_dev    = get_X_char(yap_dev_tok_sents   )\n",
    "X_char_yap_test   = get_X_char(yap_test_tok_sents  )\n",
    "\n",
    "\n",
    "\n",
    "splits_char = [[X_char_gold_train, X_char_gold_dev,\n",
    "                y_gold_train, y_gold_dev]]"
   ]
  },
  {
   "cell_type": "markdown",
   "metadata": {},
   "source": [
    "## Embeddings"
   ]
  },
  {
   "cell_type": "code",
   "execution_count": 39,
   "metadata": {},
   "outputs": [
    {
     "data": {
      "text/plain": [
       "{'yap_w2v_sg': '../wordembedding-hebrew/wikipedia.yap_form.word2vec_skipgram.txt',\n",
       " 'yap_w2v_cbow': '../wordembedding-hebrew/wikipedia.yap_form.word2vec_cbow.txt',\n",
       " 'yap_glove': '../wordembedding-hebrew/glove/wikipedia.yap_form.glove.txt.txt',\n",
       " 'yap_ft_sg': '../wordembedding-hebrew/wikipedia.yap_form.fasttext_skipgram.model.vec',\n",
       " 'yap_ft_cbow': '../wordembedding-hebrew/wikipedia.yap_form.fasttext_cbow.model.vec',\n",
       " 'token_w2v_sg': '../wordembedding-hebrew/wikipedia.tokenized.word2vec_skipgram.txt',\n",
       " 'token_w2v_cbow': '../wordembedding-hebrew/wikipedia.tokenized.word2vec_cbow.txt',\n",
       " 'token_glove': '../wordembedding-hebrew/glove/wikipedia.tokenized.glove.txt',\n",
       " 'token_ft_sg': '../wordembedding-hebrew/wikipedia.tokenized.fasttext_skipgram.model.vec',\n",
       " 'token_ft_cbow': '../wordembedding-hebrew/wikipedia.tokenized.fasttext_cbow.model.vec',\n",
       " 'pretrained_token_ft': '../fasttext/wiki.he.vec',\n",
       " 'alt_tok_yap_w2v_sg': '../wordembedding-hebrew/wikipedia.alt_tok.yap_form.word2vec_skipgram.txt',\n",
       " 'alt_tok_yap_w2v_cbow': '../wordembedding-hebrew/wikipedia.alt_tok.yap_form.word2vec_cbow.txt',\n",
       " 'alt_tok_yap_glove': '../wordembedding-hebrew/glove/wikipedia.alt_tok.yap_form.glove.txt',\n",
       " 'alt_tok_yap_ft_sg': '../wordembedding-hebrew/wikipedia.alt_tok.yap_form.fasttext_skipgram.model.vec',\n",
       " 'alt_tok_yap_ft_cbow': '../wordembedding-hebrew/wikipedia.alt_tok.yap_form.fasttext_cbow.model.vec',\n",
       " 'alt_tok_token_w2v_sg': '../wordembedding-hebrew/wikipedia.alt_tok.tokenized.word2vec_skipgram.txt',\n",
       " 'alt_tok_token_w2v_cbow': '../wordembedding-hebrew/wikipedia.alt_tok.tokenized.word2vec_cbow.txt',\n",
       " 'alt_tok_token_glove': '../wordembedding-hebrew/glove/wikipedia.alt_tok.tokenized.glove.txt',\n",
       " 'alt_tok_token_ft_sg': '../wordembedding-hebrew/wikipedia.alt_tok.tokenized.fasttext_skipgram.model.vec',\n",
       " 'alt_tok_token_ft_cbow': '../wordembedding-hebrew/wikipedia.alt_tok.tokenized.fasttext_cbow.model.vec'}"
      ]
     },
     "execution_count": 39,
     "metadata": {},
     "output_type": "execute_result"
    }
   ],
   "source": [
    "embedding_paths"
   ]
  },
  {
   "cell_type": "code",
   "execution_count": 55,
   "metadata": {},
   "outputs": [],
   "source": [
    "exclude = ['cbow', 'pretrained', 'yap_form', 'glove', 'word2vec']\n",
    "include = 'alt_tok'"
   ]
  },
  {
   "cell_type": "code",
   "execution_count": 56,
   "metadata": {},
   "outputs": [
    {
     "name": "stdout",
     "output_type": "stream",
     "text": [
      "loading word embeddings: ../wordembedding-hebrew/wikipedia.alt_tok.tokenized.fasttext_skipgram.model.vec\n",
      "found 359321 word vectors\n",
      "preparing embedding matrix...\n",
      "number of null word embeddings: 3028\n",
      "sample words not found:  ['המקרקעים' 'ממולך' 'פרוגרמת' 'ה\"טרפים' 'ל21' 'ולעובדיו' 'ובמודגש'\n",
      " 'המטאפיסיות' 'ושאדם' 'ונשמור']\n"
     ]
    }
   ],
   "source": [
    "embedding_mats = {}\n",
    "for emb_name, emb_path in embedding_paths.items():\n",
    "    skip=False\n",
    "    if include not in emb_name:\n",
    "        continue\n",
    "        \n",
    "    for exc in exclude:\n",
    "        if exc in emb_path:\n",
    "            skip=True\n",
    "    if skip:\n",
    "        continue\n",
    "    embedding_mats[emb_name] = get_embedding_matrix(emb_path, word2idx)"
   ]
  },
  {
   "cell_type": "markdown",
   "metadata": {},
   "source": [
    "## Model building"
   ]
  },
  {
   "cell_type": "code",
   "execution_count": 57,
   "metadata": {},
   "outputs": [],
   "source": [
    "from ner_utils import *"
   ]
  },
  {
   "cell_type": "code",
   "execution_count": 64,
   "metadata": {
    "collapsed": true,
    "jupyter": {
     "outputs_hidden": true
    }
   },
   "outputs": [
    {
     "data": {
      "text/plain": [
       "[{'optimizer': 'adam',\n",
       "  'output_dropout': True,\n",
       "  'add_random_embedding': False,\n",
       "  'use_char': True,\n",
       "  'crf': True,\n",
       "  'use_pos': False,\n",
       "  'embedding_matrix': 'alt_tok_token_ft_sg',\n",
       "  'trainable': False,\n",
       "  'stack_lstm': 2},\n",
       " {'optimizer': 'adam',\n",
       "  'output_dropout': True,\n",
       "  'add_random_embedding': False,\n",
       "  'use_char': True,\n",
       "  'crf': True,\n",
       "  'use_pos': True,\n",
       "  'embedding_matrix': 'alt_tok_token_ft_sg',\n",
       "  'trainable': False,\n",
       "  'stack_lstm': 2}]"
      ]
     },
     "execution_count": 64,
     "metadata": {},
     "output_type": "execute_result"
    }
   ],
   "source": [
    "configs = build_configs(base_configs_stack_freeze, embedding_mats)\n",
    "configs     "
   ]
  },
  {
   "cell_type": "code",
   "execution_count": 65,
   "metadata": {},
   "outputs": [],
   "source": [
    "for conf in configs:\n",
    "    conf['patience'] = 10"
   ]
  },
  {
   "cell_type": "code",
   "execution_count": 66,
   "metadata": {},
   "outputs": [],
   "source": [
    "out_folder = 'results/new_outputs_alt_tok'\n",
    "if not os.path.exists(out_folder):\n",
    "    os.mkdir(out_folder)"
   ]
  },
  {
   "cell_type": "code",
   "execution_count": 67,
   "metadata": {},
   "outputs": [],
   "source": [
    "extra_preds = [(X_gold_test, X_pos_gold_test, X_char_gold_test), \n",
    "               (X_yap_dev, X_pos_yap_dev, X_char_yap_dev),\n",
    "               (X_yap_test, X_pos_yap_test, X_char_yap_test)]"
   ]
  },
  {
   "cell_type": "code",
   "execution_count": 68,
   "metadata": {},
   "outputs": [],
   "source": [
    "from ner_utils import *"
   ]
  },
  {
   "cell_type": "code",
   "execution_count": 69,
   "metadata": {
    "ExecuteTime": {
     "end_time": "2019-03-13T11:31:02.793857Z",
     "start_time": "2019-03-13T11:16:17.267695Z"
    },
    "scrolled": true
   },
   "outputs": [
    {
     "name": "stdout",
     "output_type": "stream",
     "text": [
      "Train on 4482 samples, validate on 455 samples\n",
      "Epoch 1/100\n",
      " - 97s - loss: 0.4326 - crf_accuracy: 0.9220 - val_loss: 0.1714 - val_crf_accuracy: 0.9683\n",
      "Epoch 2/100\n",
      " - 86s - loss: 0.1126 - crf_accuracy: 0.9757 - val_loss: 0.1220 - val_crf_accuracy: 0.9707\n",
      "Epoch 3/100\n",
      " - 86s - loss: 0.0914 - crf_accuracy: 0.9783 - val_loss: 0.0986 - val_crf_accuracy: 0.9759\n",
      "Epoch 4/100\n",
      " - 89s - loss: 0.0718 - crf_accuracy: 0.9820 - val_loss: 0.0767 - val_crf_accuracy: 0.9787\n",
      "Epoch 5/100\n",
      " - 86s - loss: 0.0595 - crf_accuracy: 0.9841 - val_loss: 0.0651 - val_crf_accuracy: 0.9800\n",
      "Epoch 6/100\n",
      " - 86s - loss: 0.0504 - crf_accuracy: 0.9854 - val_loss: 0.0561 - val_crf_accuracy: 0.9808\n",
      "Epoch 7/100\n",
      " - 86s - loss: 0.0449 - crf_accuracy: 0.9864 - val_loss: 0.0533 - val_crf_accuracy: 0.9820\n",
      "Epoch 8/100\n",
      " - 87s - loss: 0.0405 - crf_accuracy: 0.9874 - val_loss: 0.0488 - val_crf_accuracy: 0.9819\n",
      "Epoch 9/100\n",
      " - 86s - loss: 0.0364 - crf_accuracy: 0.9881 - val_loss: 0.0459 - val_crf_accuracy: 0.9829\n",
      "Epoch 10/100\n",
      " - 86s - loss: 0.0328 - crf_accuracy: 0.9887 - val_loss: 0.0441 - val_crf_accuracy: 0.9832\n",
      "Epoch 11/100\n",
      " - 87s - loss: 0.0296 - crf_accuracy: 0.9895 - val_loss: 0.0410 - val_crf_accuracy: 0.9841\n",
      "Epoch 12/100\n",
      " - 86s - loss: 0.0265 - crf_accuracy: 0.9900 - val_loss: 0.0397 - val_crf_accuracy: 0.9844\n",
      "Epoch 13/100\n",
      " - 86s - loss: 0.0234 - crf_accuracy: 0.9905 - val_loss: 0.0375 - val_crf_accuracy: 0.9850\n",
      "Epoch 14/100\n",
      " - 86s - loss: 0.0206 - crf_accuracy: 0.9914 - val_loss: 0.0340 - val_crf_accuracy: 0.9861\n",
      "Epoch 15/100\n",
      " - 87s - loss: 0.0185 - crf_accuracy: 0.9916 - val_loss: 0.0324 - val_crf_accuracy: 0.9860\n",
      "Epoch 16/100\n",
      " - 86s - loss: 0.0159 - crf_accuracy: 0.9922 - val_loss: 0.0336 - val_crf_accuracy: 0.9853\n",
      "Epoch 17/100\n",
      " - 86s - loss: 0.0133 - crf_accuracy: 0.9930 - val_loss: 0.0311 - val_crf_accuracy: 0.9857\n",
      "Epoch 18/100\n",
      " - 86s - loss: 0.0109 - crf_accuracy: 0.9932 - val_loss: 0.0308 - val_crf_accuracy: 0.9855\n",
      "Epoch 19/100\n",
      " - 86s - loss: 0.0089 - crf_accuracy: 0.9937 - val_loss: 0.0285 - val_crf_accuracy: 0.9869\n",
      "Epoch 20/100\n",
      " - 85s - loss: 0.0063 - crf_accuracy: 0.9945 - val_loss: 0.0291 - val_crf_accuracy: 0.9866\n",
      "Epoch 21/100\n",
      " - 86s - loss: 0.0061 - crf_accuracy: 0.9940 - val_loss: 0.0249 - val_crf_accuracy: 0.9866\n",
      "Epoch 22/100\n",
      " - 86s - loss: 0.0030 - crf_accuracy: 0.9948 - val_loss: 0.0262 - val_crf_accuracy: 0.9862\n",
      "Epoch 23/100\n",
      " - 86s - loss: 0.0014 - crf_accuracy: 0.9950 - val_loss: 0.0225 - val_crf_accuracy: 0.9876\n",
      "Epoch 24/100\n",
      " - 86s - loss: -1.0718e-03 - crf_accuracy: 0.9954 - val_loss: 0.0231 - val_crf_accuracy: 0.9865\n",
      "Epoch 25/100\n",
      " - 86s - loss: -2.4302e-03 - crf_accuracy: 0.9956 - val_loss: 0.0218 - val_crf_accuracy: 0.9875\n",
      "Epoch 26/100\n",
      " - 86s - loss: -4.7818e-03 - crf_accuracy: 0.9961 - val_loss: 0.0218 - val_crf_accuracy: 0.9867\n",
      "Epoch 27/100\n",
      " - 87s - loss: -6.4816e-03 - crf_accuracy: 0.9961 - val_loss: 0.0223 - val_crf_accuracy: 0.9872\n",
      "Epoch 28/100\n",
      " - 86s - loss: -8.7844e-03 - crf_accuracy: 0.9968 - val_loss: 0.0195 - val_crf_accuracy: 0.9874\n",
      "Epoch 29/100\n",
      " - 86s - loss: -1.0780e-02 - crf_accuracy: 0.9967 - val_loss: 0.0191 - val_crf_accuracy: 0.9872\n",
      "Epoch 30/100\n",
      " - 85s - loss: -1.2756e-02 - crf_accuracy: 0.9970 - val_loss: 0.0186 - val_crf_accuracy: 0.9868\n",
      "Epoch 31/100\n",
      " - 86s - loss: -1.4396e-02 - crf_accuracy: 0.9973 - val_loss: 0.0196 - val_crf_accuracy: 0.9865\n",
      "Epoch 32/100\n",
      " - 87s - loss: -1.6459e-02 - crf_accuracy: 0.9975 - val_loss: 0.0157 - val_crf_accuracy: 0.9879\n",
      "Epoch 33/100\n",
      " - 87s - loss: -1.8306e-02 - crf_accuracy: 0.9977 - val_loss: 0.0132 - val_crf_accuracy: 0.9878\n",
      "Epoch 34/100\n",
      " - 86s - loss: -2.0271e-02 - crf_accuracy: 0.9978 - val_loss: 0.0128 - val_crf_accuracy: 0.9872\n",
      "Epoch 35/100\n",
      " - 86s - loss: -2.1843e-02 - crf_accuracy: 0.9977 - val_loss: 0.0122 - val_crf_accuracy: 0.9874\n",
      "Epoch 36/100\n",
      " - 87s - loss: -2.3224e-02 - crf_accuracy: 0.9978 - val_loss: 0.0108 - val_crf_accuracy: 0.9879\n",
      "Epoch 37/100\n",
      " - 86s - loss: -2.5406e-02 - crf_accuracy: 0.9980 - val_loss: 0.0116 - val_crf_accuracy: 0.9870\n",
      "Epoch 38/100\n",
      " - 86s - loss: -2.7735e-02 - crf_accuracy: 0.9983 - val_loss: 0.0083 - val_crf_accuracy: 0.9873\n",
      "Epoch 39/100\n",
      " - 87s - loss: -2.9315e-02 - crf_accuracy: 0.9983 - val_loss: 0.0064 - val_crf_accuracy: 0.9874\n",
      "Epoch 40/100\n",
      " - 86s - loss: -3.0868e-02 - crf_accuracy: 0.9983 - val_loss: 0.0095 - val_crf_accuracy: 0.9865\n",
      "Epoch 41/100\n",
      " - 85s - loss: -3.2787e-02 - crf_accuracy: 0.9984 - val_loss: 0.0053 - val_crf_accuracy: 0.9872\n",
      "Epoch 42/100\n",
      " - 88s - loss: -3.4964e-02 - crf_accuracy: 0.9986 - val_loss: 0.0039 - val_crf_accuracy: 0.9875\n",
      "Restoring model weights from the end of the best epoch\n",
      "Epoch 00042: early stopping\n"
     ]
    },
    {
     "data": {
      "image/png": "[encoded data removed]",
      "text/plain": [
       "<Figure size 432x288 with 1 Axes>"
      ]
     },
     "metadata": {},
     "output_type": "display_data"
    },
    {
     "name": "stdout",
     "output_type": "stream",
     "text": [
      "processed 8531 tokens with 499 phrases; found: 446 phrases; correct: 345.\n",
      "accuracy:  66.63%; (non-O)\n",
      "accuracy:  96.25%; precision:  77.35%; recall:  69.14%; FB1:  73.02\n",
      "              ANG: precision: 100.00%; recall:  33.33%; FB1:  50.00  1\n",
      "              DUC: precision:   0.00%; recall:   0.00%; FB1:   0.00  1\n",
      "              EVE: precision:   0.00%; recall:   0.00%; FB1:   0.00  1\n",
      "              FAC: precision:   0.00%; recall:   0.00%; FB1:   0.00  3\n",
      "              GPE: precision:  82.05%; recall:  79.34%; FB1:  80.67  117\n",
      "              LOC: precision:  65.52%; recall:  67.86%; FB1:  66.67  29\n",
      "              ORG: precision:  70.97%; recall:  55.46%; FB1:  62.26  93\n",
      "              PER: precision:  81.73%; recall:  83.42%; FB1:  82.56  197\n",
      "              WOA: precision:  50.00%; recall:  22.22%; FB1:  30.77  4\n",
      "Train on 4482 samples, validate on 455 samples\n",
      "Epoch 1/100\n",
      " - 95s - loss: 0.4073 - crf_accuracy: 0.9223 - val_loss: 0.1644 - val_crf_accuracy: 0.9683\n",
      "Epoch 2/100\n",
      " - 86s - loss: 0.1078 - crf_accuracy: 0.9763 - val_loss: 0.1136 - val_crf_accuracy: 0.9725\n",
      "Epoch 3/100\n",
      " - 86s - loss: 0.0815 - crf_accuracy: 0.9805 - val_loss: 0.0894 - val_crf_accuracy: 0.9785\n",
      "Epoch 4/100\n",
      " - 86s - loss: 0.0668 - crf_accuracy: 0.9838 - val_loss: 0.0732 - val_crf_accuracy: 0.9814\n",
      "Epoch 5/100\n",
      " - 85s - loss: 0.0525 - crf_accuracy: 0.9864 - val_loss: 0.0610 - val_crf_accuracy: 0.9831\n",
      "Epoch 6/100\n",
      " - 86s - loss: 0.0439 - crf_accuracy: 0.9877 - val_loss: 0.0530 - val_crf_accuracy: 0.9844\n",
      "Epoch 7/100\n",
      " - 86s - loss: 0.0384 - crf_accuracy: 0.9887 - val_loss: 0.0486 - val_crf_accuracy: 0.9836\n",
      "Epoch 8/100\n",
      " - 87s - loss: 0.0344 - crf_accuracy: 0.9892 - val_loss: 0.0443 - val_crf_accuracy: 0.9854\n",
      "Epoch 9/100\n",
      " - 86s - loss: 0.0310 - crf_accuracy: 0.9898 - val_loss: 0.0433 - val_crf_accuracy: 0.9856\n",
      "Epoch 10/100\n",
      " - 87s - loss: 0.0276 - crf_accuracy: 0.9904 - val_loss: 0.0402 - val_crf_accuracy: 0.9859\n",
      "Epoch 11/100\n",
      " - 86s - loss: 0.0250 - crf_accuracy: 0.9910 - val_loss: 0.0363 - val_crf_accuracy: 0.9860\n",
      "Epoch 12/100\n",
      " - 86s - loss: 0.0222 - crf_accuracy: 0.9914 - val_loss: 0.0334 - val_crf_accuracy: 0.9871\n",
      "Epoch 13/100\n",
      " - 86s - loss: 0.0196 - crf_accuracy: 0.9921 - val_loss: 0.0339 - val_crf_accuracy: 0.9871\n",
      "Epoch 14/100\n",
      " - 87s - loss: 0.0185 - crf_accuracy: 0.9920 - val_loss: 0.0342 - val_crf_accuracy: 0.9857\n",
      "Epoch 15/100\n",
      " - 86s - loss: 0.0158 - crf_accuracy: 0.9926 - val_loss: 0.0300 - val_crf_accuracy: 0.9876\n",
      "Epoch 16/100\n",
      " - 87s - loss: 0.0131 - crf_accuracy: 0.9934 - val_loss: 0.0294 - val_crf_accuracy: 0.9872\n",
      "Epoch 17/100\n",
      " - 88s - loss: 0.0107 - crf_accuracy: 0.9938 - val_loss: 0.0275 - val_crf_accuracy: 0.9877\n",
      "Epoch 18/100\n",
      " - 86s - loss: 0.0085 - crf_accuracy: 0.9942 - val_loss: 0.0262 - val_crf_accuracy: 0.9878\n",
      "Epoch 19/100\n",
      " - 86s - loss: 0.0064 - crf_accuracy: 0.9946 - val_loss: 0.0240 - val_crf_accuracy: 0.9889\n",
      "Epoch 20/100\n",
      " - 88s - loss: 0.0046 - crf_accuracy: 0.9949 - val_loss: 0.0242 - val_crf_accuracy: 0.9880\n",
      "Epoch 21/100\n",
      " - 86s - loss: 0.0028 - crf_accuracy: 0.9953 - val_loss: 0.0225 - val_crf_accuracy: 0.9885\n",
      "Epoch 22/100\n",
      " - 86s - loss: 6.3156e-04 - crf_accuracy: 0.9957 - val_loss: 0.0226 - val_crf_accuracy: 0.9883\n",
      "Epoch 23/100\n",
      " - 86s - loss: -8.3943e-04 - crf_accuracy: 0.9958 - val_loss: 0.0207 - val_crf_accuracy: 0.9884\n",
      "Epoch 24/100\n",
      " - 86s - loss: -2.8463e-03 - crf_accuracy: 0.9963 - val_loss: 0.0205 - val_crf_accuracy: 0.9892\n",
      "Epoch 25/100\n",
      " - 87s - loss: -4.1613e-03 - crf_accuracy: 0.9962 - val_loss: 0.0185 - val_crf_accuracy: 0.9883\n",
      "Epoch 26/100\n",
      " - 86s - loss: -7.1595e-03 - crf_accuracy: 0.9971 - val_loss: 0.0171 - val_crf_accuracy: 0.9892\n",
      "Epoch 27/100\n",
      " - 86s - loss: -8.8543e-03 - crf_accuracy: 0.9971 - val_loss: 0.0164 - val_crf_accuracy: 0.9893\n",
      "Epoch 28/100\n",
      " - 86s - loss: -1.0529e-02 - crf_accuracy: 0.9974 - val_loss: 0.0173 - val_crf_accuracy: 0.9886\n",
      "Epoch 29/100\n",
      " - 86s - loss: -1.2396e-02 - crf_accuracy: 0.9975 - val_loss: 0.0155 - val_crf_accuracy: 0.9892\n",
      "Epoch 30/100\n",
      " - 86s - loss: -1.3959e-02 - crf_accuracy: 0.9976 - val_loss: 0.0166 - val_crf_accuracy: 0.9885\n",
      "Epoch 31/100\n",
      " - 87s - loss: -1.5892e-02 - crf_accuracy: 0.9979 - val_loss: 0.0123 - val_crf_accuracy: 0.9891\n",
      "Epoch 32/100\n",
      " - 86s - loss: -1.7831e-02 - crf_accuracy: 0.9981 - val_loss: 0.0124 - val_crf_accuracy: 0.9892\n",
      "Epoch 33/100\n",
      " - 86s - loss: -1.9058e-02 - crf_accuracy: 0.9979 - val_loss: 0.0098 - val_crf_accuracy: 0.9893\n",
      "Epoch 34/100\n",
      " - 87s - loss: -2.1053e-02 - crf_accuracy: 0.9982 - val_loss: 0.0082 - val_crf_accuracy: 0.9891\n",
      "Epoch 35/100\n",
      " - 85s - loss: -2.3185e-02 - crf_accuracy: 0.9984 - val_loss: 0.0078 - val_crf_accuracy: 0.9895\n",
      "Epoch 36/100\n",
      " - 86s - loss: -2.5009e-02 - crf_accuracy: 0.9984 - val_loss: 0.0068 - val_crf_accuracy: 0.9884\n",
      "Epoch 37/100\n",
      " - 87s - loss: -2.3472e-02 - crf_accuracy: 0.9973 - val_loss: 0.0031 - val_crf_accuracy: 0.9878\n",
      "Epoch 38/100\n",
      " - 86s - loss: -2.7549e-02 - crf_accuracy: 0.9981 - val_loss: 0.0020 - val_crf_accuracy: 0.9892\n",
      "Epoch 39/100\n",
      " - 87s - loss: -2.9730e-02 - crf_accuracy: 0.9984 - val_loss: 0.0013 - val_crf_accuracy: 0.9890\n",
      "Epoch 40/100\n",
      " - 87s - loss: -3.2092e-02 - crf_accuracy: 0.9986 - val_loss: 3.8895e-04 - val_crf_accuracy: 0.9887\n",
      "Epoch 41/100\n",
      " - 87s - loss: -3.0627e-02 - crf_accuracy: 0.9975 - val_loss: -2.7800e-03 - val_crf_accuracy: 0.9895\n",
      "Epoch 42/100\n",
      " - 88s - loss: -3.5367e-02 - crf_accuracy: 0.9987 - val_loss: -3.4068e-03 - val_crf_accuracy: 0.9889\n",
      "Epoch 43/100\n",
      " - 86s - loss: -3.7553e-02 - crf_accuracy: 0.9990 - val_loss: -4.2083e-03 - val_crf_accuracy: 0.9884\n",
      "Epoch 44/100\n",
      " - 87s - loss: -3.9524e-02 - crf_accuracy: 0.9991 - val_loss: -7.3558e-03 - val_crf_accuracy: 0.9888\n",
      "Epoch 45/100\n",
      " - 86s - loss: -4.1262e-02 - crf_accuracy: 0.9991 - val_loss: -5.8536e-03 - val_crf_accuracy: 0.9896\n",
      "Epoch 46/100\n",
      " - 87s - loss: -4.3144e-02 - crf_accuracy: 0.9992 - val_loss: -6.5980e-03 - val_crf_accuracy: 0.9891\n",
      "Epoch 47/100\n",
      " - 87s - loss: -4.4955e-02 - crf_accuracy: 0.9992 - val_loss: -7.7084e-03 - val_crf_accuracy: 0.9888\n",
      "Epoch 48/100\n",
      " - 86s - loss: -4.6869e-02 - crf_accuracy: 0.9993 - val_loss: -5.2279e-03 - val_crf_accuracy: 0.9884\n",
      "Epoch 49/100\n",
      " - 89s - loss: -4.8516e-02 - crf_accuracy: 0.9992 - val_loss: -9.0205e-03 - val_crf_accuracy: 0.9886\n",
      "Epoch 50/100\n",
      " - 86s - loss: -5.0269e-02 - crf_accuracy: 0.9993 - val_loss: -1.2177e-02 - val_crf_accuracy: 0.9886\n",
      "Epoch 51/100\n",
      " - 87s - loss: -5.2204e-02 - crf_accuracy: 0.9994 - val_loss: -1.4112e-02 - val_crf_accuracy: 0.9884\n",
      "Epoch 52/100\n",
      " - 88s - loss: -5.3919e-02 - crf_accuracy: 0.9993 - val_loss: -1.5997e-02 - val_crf_accuracy: 0.9892\n",
      "Epoch 53/100\n",
      " - 85s - loss: -5.5863e-02 - crf_accuracy: 0.9994 - val_loss: -1.8842e-02 - val_crf_accuracy: 0.9890\n",
      "Epoch 54/100\n",
      " - 85s - loss: -5.7439e-02 - crf_accuracy: 0.9993 - val_loss: -2.1437e-02 - val_crf_accuracy: 0.9897\n",
      "Epoch 55/100\n",
      " - 85s - loss: -5.9176e-02 - crf_accuracy: 0.9993 - val_loss: -1.8799e-02 - val_crf_accuracy: 0.9898\n",
      "Epoch 56/100\n",
      " - 84s - loss: -6.1172e-02 - crf_accuracy: 0.9994 - val_loss: -2.2630e-02 - val_crf_accuracy: 0.9897\n",
      "Epoch 57/100\n",
      " - 85s - loss: -6.2967e-02 - crf_accuracy: 0.9994 - val_loss: -2.5557e-02 - val_crf_accuracy: 0.9890\n",
      "Epoch 58/100\n",
      " - 85s - loss: -6.4847e-02 - crf_accuracy: 0.9996 - val_loss: -2.4427e-02 - val_crf_accuracy: 0.9888\n",
      "Epoch 59/100\n",
      " - 85s - loss: -6.6457e-02 - crf_accuracy: 0.9994 - val_loss: -2.6485e-02 - val_crf_accuracy: 0.9892\n",
      "Epoch 60/100\n",
      " - 85s - loss: -6.8216e-02 - crf_accuracy: 0.9994 - val_loss: -3.1445e-02 - val_crf_accuracy: 0.9894\n",
      "Epoch 61/100\n",
      " - 85s - loss: -7.0013e-02 - crf_accuracy: 0.9995 - val_loss: -3.1456e-02 - val_crf_accuracy: 0.9896\n",
      "Epoch 62/100\n",
      " - 85s - loss: -7.1787e-02 - crf_accuracy: 0.9994 - val_loss: -3.2157e-02 - val_crf_accuracy: 0.9890\n",
      "Epoch 63/100\n",
      " - 85s - loss: -7.3529e-02 - crf_accuracy: 0.9994 - val_loss: -3.6025e-02 - val_crf_accuracy: 0.9892\n",
      "Epoch 64/100\n",
      " - 85s - loss: -7.5328e-02 - crf_accuracy: 0.9995 - val_loss: -3.4040e-02 - val_crf_accuracy: 0.9890\n",
      "Epoch 65/100\n",
      " - 85s - loss: -7.7432e-02 - crf_accuracy: 0.9996 - val_loss: -3.8314e-02 - val_crf_accuracy: 0.9895\n",
      "Restoring model weights from the end of the best epoch\n",
      "Epoch 00065: early stopping\n"
     ]
    },
    {
     "data": {
      "image/png": "[encoded data removed]",
      "text/plain": [
       "<Figure size 432x288 with 1 Axes>"
      ]
     },
     "metadata": {},
     "output_type": "display_data"
    },
    {
     "name": "stdout",
     "output_type": "stream",
     "text": [
      "processed 8531 tokens with 499 phrases; found: 460 phrases; correct: 372.\n",
      "accuracy:  69.64%; (non-O)\n",
      "accuracy:  96.76%; precision:  80.87%; recall:  74.55%; FB1:  77.58\n",
      "              ANG: precision: 100.00%; recall: 100.00%; FB1: 100.00  3\n",
      "              DUC: precision:   0.00%; recall:   0.00%; FB1:   0.00  0\n",
      "              EVE: precision: 100.00%; recall:   8.33%; FB1:  15.38  1\n",
      "              FAC: precision:   0.00%; recall:   0.00%; FB1:   0.00  2\n",
      "              GPE: precision:  85.96%; recall:  80.99%; FB1:  83.40  114\n",
      "              LOC: precision:  80.00%; recall:  57.14%; FB1:  66.67  20\n",
      "              ORG: precision:  70.53%; recall:  56.30%; FB1:  62.62  95\n",
      "              PER: precision:  83.94%; recall:  94.82%; FB1:  89.05  218\n",
      "              WOA: precision:  57.14%; recall:  44.44%; FB1:  50.00  7\n"
     ]
    }
   ],
   "source": [
    "configs, results, preds, histories = run_models(configs, splits, splits_char, embedding_mats, \n",
    "                                                words, max_len, n_words, idx2word, idx2tag,\n",
    "                                                n_tags, max_len_char, n_pos, n_chars,\n",
    "                                                run_name='treebank_tokens_alt_tok1', out_folder=out_folder,\n",
    "                                                skip_if_model_exists=True,\n",
    "                                                validation_split=validation_split,\n",
    "                                                extra_predictions=extra_preds,\n",
    "                                                )"
   ]
  },
  {
   "cell_type": "code",
   "execution_count": 70,
   "metadata": {},
   "outputs": [],
   "source": [
    "from keras import backend as K\n",
    "K.clear_session()"
   ]
  },
  {
   "cell_type": "code",
   "execution_count": null,
   "metadata": {},
   "outputs": [],
   "source": []
  },
  {
   "cell_type": "code",
   "execution_count": null,
   "metadata": {},
   "outputs": [],
   "source": []
  },
  {
   "cell_type": "code",
   "execution_count": null,
   "metadata": {},
   "outputs": [],
   "source": []
  },
  {
   "cell_type": "code",
   "execution_count": null,
   "metadata": {},
   "outputs": [],
   "source": []
  },
  {
   "cell_type": "code",
   "execution_count": null,
   "metadata": {},
   "outputs": [],
   "source": []
  },
  {
   "cell_type": "code",
   "execution_count": null,
   "metadata": {},
   "outputs": [],
   "source": []
  },
  {
   "cell_type": "code",
   "execution_count": null,
   "metadata": {},
   "outputs": [],
   "source": []
  },
  {
   "cell_type": "code",
   "execution_count": null,
   "metadata": {},
   "outputs": [],
   "source": []
  }
 ],
 "metadata": {
  "kernelspec": {
   "display_name": "Python 3",
   "language": "python",
   "name": "python3"
  },
  "language_info": {
   "codemirror_mode": {
    "name": "ipython",
    "version": 3
   },
   "file_extension": ".py",
   "mimetype": "text/x-python",
   "name": "python",
   "nbconvert_exporter": "python",
   "pygments_lexer": "ipython3",
   "version": "3.6.8"
  }
 },
 "nbformat": 4,
 "nbformat_minor": 4
}
